{
 "cells": [
  {
   "cell_type": "code",
   "execution_count": 1,
   "id": "550d7773-0708-4a60-b74f-e51d4e161cdb",
   "metadata": {},
   "outputs": [],
   "source": [
    "import numpy as np\n",
    "import pandas as pd"
   ]
  },
  {
   "cell_type": "markdown",
   "id": "e27f9bab-202b-4d6e-8a9c-c4cae6646326",
   "metadata": {},
   "source": [
    "# 텍스트 데이터 다루기"
   ]
  },
  {
   "cell_type": "markdown",
   "id": "e29b30ae-891f-463b-9044-f791dd71eca0",
   "metadata": {},
   "source": [
    "## 랭글링"
   ]
  },
  {
   "cell_type": "code",
   "execution_count": 2,
   "id": "d00b4316-a9b3-4327-9c55-3859b7683d1c",
   "metadata": {},
   "outputs": [],
   "source": [
    "# 데이터 분석에 대부분의 시간 할애"
   ]
  },
  {
   "cell_type": "markdown",
   "id": "3f9fed12-2d92-4f67-98a8-ab8b8fd68475",
   "metadata": {},
   "source": [
    "## 먼징"
   ]
  },
  {
   "cell_type": "code",
   "execution_count": 3,
   "id": "7e403fd5-b654-453b-bafd-16b45697013c",
   "metadata": {},
   "outputs": [],
   "source": [
    "# pandas를 사용하여 텍스트 데이터에 존재하는 불완전성을 개선하는 방법"
   ]
  },
  {
   "cell_type": "code",
   "execution_count": 4,
   "id": "e222d88f-2e92-43d0-958d-9c107e11e77a",
   "metadata": {},
   "outputs": [],
   "source": [
    "inspections = pd.read_csv(\n",
    "    \"datas/chicago_food_inspections.csv\"\n",
    ")"
   ]
  },
  {
   "cell_type": "code",
   "execution_count": 5,
   "id": "cd14f35d-78cf-4ec9-8a90-6255565e5299",
   "metadata": {},
   "outputs": [],
   "source": [
    "# 식당이름, 위험도\n",
    "# risk1(높음) , risk2(중간), risk3(낮음), all (최악)"
   ]
  },
  {
   "cell_type": "code",
   "execution_count": 6,
   "id": "356a3c1e-d781-4f65-b99b-8830fe8ad7e2",
   "metadata": {},
   "outputs": [
    {
     "data": {
      "text/plain": [
       "Risk 1 (High)      107351\n",
       "Risk 2 (Medium)     31845\n",
       "Risk 3 (Low)        14529\n",
       "All                    19\n",
       "Name: Risk, dtype: int64"
      ]
     },
     "execution_count": 6,
     "metadata": {},
     "output_type": "execute_result"
    }
   ],
   "source": [
    "inspections.Risk.value_counts()"
   ]
  },
  {
   "cell_type": "code",
   "execution_count": 7,
   "id": "dcbee565-9819-4ead-8955-258c4f8078d4",
   "metadata": {},
   "outputs": [],
   "source": [
    "# 대소문자 혼용 앞뒤로 공백이 규칙 없이 들어가 있다"
   ]
  },
  {
   "cell_type": "code",
   "execution_count": 8,
   "id": "f6e6de6d-f486-4051-bc2f-5ecd9b241491",
   "metadata": {},
   "outputs": [
    {
     "data": {
      "text/plain": [
       "0                 MARRIOT MARQUIS CHICAGO   \n",
       "1                                JETS PIZZA \n",
       "2                                 ROOM 1520 \n",
       "3                  MARRIOT MARQUIS CHICAGO  \n",
       "4                              CHARTWELLS   \n",
       "                         ...                \n",
       "153805                           WOLCOTT'S  \n",
       "153806       DUNKIN DONUTS/BASKIN-ROBBINS   \n",
       "153807                             Cafe 608 \n",
       "153808                          mr.daniel's \n",
       "153809                           TEMPO CAFE \n",
       "Name: Name, Length: 153810, dtype: object"
      ]
     },
     "execution_count": 8,
     "metadata": {},
     "output_type": "execute_result"
    }
   ],
   "source": [
    "inspections[\"Name\"]"
   ]
  },
  {
   "cell_type": "code",
   "execution_count": 9,
   "id": "74cf507b-79ad-49a4-81a9-7962520254b7",
   "metadata": {},
   "outputs": [
    {
     "data": {
      "text/plain": [
       "array([' MARRIOT MARQUIS CHICAGO   ', ' JETS PIZZA ', '   ROOM 1520 ',\n",
       "       '  MARRIOT MARQUIS CHICAGO  ', ' CHARTWELLS   '], dtype=object)"
      ]
     },
     "execution_count": 9,
     "metadata": {},
     "output_type": "execute_result"
    }
   ],
   "source": [
    "inspections[\"Name\"].head().values"
   ]
  },
  {
   "cell_type": "code",
   "execution_count": 10,
   "id": "60d95505-50bf-4418-b218-be5f67a9fac4",
   "metadata": {},
   "outputs": [
    {
     "data": {
      "text/plain": [
       "<pandas.core.strings.accessor.StringMethods at 0x2a6b9ab58e0>"
      ]
     },
     "execution_count": 10,
     "metadata": {},
     "output_type": "execute_result"
    }
   ],
   "source": [
    "#문자열 처리\n",
    "inspections[\"Name\"].str"
   ]
  },
  {
   "cell_type": "code",
   "execution_count": 11,
   "id": "15f29250-5ee8-4604-81ae-af795d65f1cf",
   "metadata": {},
   "outputs": [
    {
     "data": {
      "text/plain": [
       "'cheesecake  '"
      ]
     },
     "execution_count": 11,
     "metadata": {},
     "output_type": "execute_result"
    }
   ],
   "source": [
    "#strip 계열 메서드 => 문자열의 공백을 제거할수 있다.\n",
    "dessert = \" cheesecake  \"\n",
    "dessert.lstrip()"
   ]
  },
  {
   "cell_type": "code",
   "execution_count": 12,
   "id": "63f1251f-f15f-40e0-bf0d-c9dd7ee22f20",
   "metadata": {},
   "outputs": [
    {
     "data": {
      "text/plain": [
       "' cheesecake'"
      ]
     },
     "execution_count": 12,
     "metadata": {},
     "output_type": "execute_result"
    }
   ],
   "source": [
    "dessert.rstrip()"
   ]
  },
  {
   "cell_type": "code",
   "execution_count": 13,
   "id": "6b468d45-77bc-42c9-8060-0b4673c112e2",
   "metadata": {},
   "outputs": [
    {
     "data": {
      "text/plain": [
       "'cheesecake'"
      ]
     },
     "execution_count": 13,
     "metadata": {},
     "output_type": "execute_result"
    }
   ],
   "source": [
    "#양쪽의 공백을 제거\n",
    "dessert.strip()"
   ]
  },
  {
   "cell_type": "code",
   "execution_count": 14,
   "id": "b53e3813-05f9-47d6-9909-fc35f2993be9",
   "metadata": {},
   "outputs": [],
   "source": [
    "# 공백을 제거한 값으로 변경하려면 기존Series를 재할당 해야한다"
   ]
  },
  {
   "cell_type": "code",
   "execution_count": 15,
   "id": "1d46708c-7c1d-4fe1-92a9-b97f7af8c89d",
   "metadata": {},
   "outputs": [],
   "source": [
    "inspections[\"Name\"] = inspections[\"Name\"].str.strip()"
   ]
  },
  {
   "cell_type": "code",
   "execution_count": 16,
   "id": "7fe03205-96a9-4cc2-8f34-1d2800f1f22c",
   "metadata": {},
   "outputs": [
    {
     "data": {
      "text/plain": [
       "0    MARRIOT MARQUIS CHICAGO\n",
       "1                 JETS PIZZA\n",
       "2                  ROOM 1520\n",
       "Name: Name, dtype: object"
      ]
     },
     "execution_count": 16,
     "metadata": {},
     "output_type": "execute_result"
    }
   ],
   "source": [
    "inspections[\"Name\"].str.lstrip().head(3)"
   ]
  },
  {
   "cell_type": "code",
   "execution_count": 17,
   "id": "2abbce12-a146-4a00-8509-3d09535dc445",
   "metadata": {},
   "outputs": [
    {
     "data": {
      "text/plain": [
       "0    MARRIOT MARQUIS CHICAGO\n",
       "1                 JETS PIZZA\n",
       "2                  ROOM 1520\n",
       "Name: Name, dtype: object"
      ]
     },
     "execution_count": 17,
     "metadata": {},
     "output_type": "execute_result"
    }
   ],
   "source": [
    "inspections[\"Name\"].str.rstrip().head(3)"
   ]
  },
  {
   "cell_type": "code",
   "execution_count": 18,
   "id": "370ecd68-215e-4591-895d-2d0f80303030",
   "metadata": {},
   "outputs": [
    {
     "data": {
      "text/plain": [
       "0    MARRIOT MARQUIS CHICAGO\n",
       "1                 JETS PIZZA\n",
       "2                  ROOM 1520\n",
       "Name: Name, dtype: object"
      ]
     },
     "execution_count": 18,
     "metadata": {},
     "output_type": "execute_result"
    }
   ],
   "source": [
    "inspections[\"Name\"].str.strip().head(3)"
   ]
  },
  {
   "cell_type": "code",
   "execution_count": 19,
   "id": "de189d58-33e7-4b07-9a9b-c362701603d1",
   "metadata": {},
   "outputs": [
    {
     "data": {
      "text/plain": [
       "Index(['Name', 'Risk'], dtype='object')"
      ]
     },
     "execution_count": 19,
     "metadata": {},
     "output_type": "execute_result"
    }
   ],
   "source": [
    "inspections.columns"
   ]
  },
  {
   "cell_type": "code",
   "execution_count": 20,
   "id": "10fac579-fd25-416d-a106-c307fb489c67",
   "metadata": {},
   "outputs": [],
   "source": [
    "for column in inspections.columns:\n",
    "    inspections[column] = inspections[column].str.strip()"
   ]
  },
  {
   "cell_type": "code",
   "execution_count": 21,
   "id": "ad842a5a-5d5d-463b-be63-504bc02e90a9",
   "metadata": {},
   "outputs": [],
   "source": [
    "# lower() 소문자 변환\n",
    "# upper() 대문자 변환"
   ]
  },
  {
   "cell_type": "code",
   "execution_count": 22,
   "id": "9fed9550-fb9d-4cd0-9fa3-8f89e57776b0",
   "metadata": {},
   "outputs": [
    {
     "data": {
      "text/plain": [
       "0    marriot marquis chicago\n",
       "1                 jets pizza\n",
       "2                  room 1520\n",
       "3    marriot marquis chicago\n",
       "4                 chartwells\n",
       "Name: Name, dtype: object"
      ]
     },
     "execution_count": 22,
     "metadata": {},
     "output_type": "execute_result"
    }
   ],
   "source": [
    "inspections[\"Name\"].str.lower().head()"
   ]
  },
  {
   "cell_type": "code",
   "execution_count": 23,
   "id": "1fe8b7a6-eea0-4c39-9f2d-312f86d16636",
   "metadata": {},
   "outputs": [
    {
     "data": {
      "text/plain": [
       "0    MARRIOT MARQUIS CHICAGO\n",
       "1                 JETS PIZZA\n",
       "2                  ROOM 1520\n",
       "3    MARRIOT MARQUIS CHICAGO\n",
       "4                 CHARTWELLS\n",
       "Name: Name, dtype: object"
      ]
     },
     "execution_count": 23,
     "metadata": {},
     "output_type": "execute_result"
    }
   ],
   "source": [
    "inspections[\"Name\"].str.upper().head()"
   ]
  },
  {
   "cell_type": "code",
   "execution_count": 24,
   "id": "c60509e2-474c-4236-9d0c-39888234b7c5",
   "metadata": {},
   "outputs": [
    {
     "data": {
      "text/plain": [
       "0    Marriot marquis chicago\n",
       "1                 Jets pizza\n",
       "2                  Room 1520\n",
       "3    Marriot marquis chicago\n",
       "4                 Chartwells\n",
       "Name: Name, dtype: object"
      ]
     },
     "execution_count": 24,
     "metadata": {},
     "output_type": "execute_result"
    }
   ],
   "source": [
    "#capitalize 첫 글자만 대문자\n",
    "inspections[\"Name\"].str.capitalize().head()"
   ]
  },
  {
   "cell_type": "markdown",
   "id": "8b74f7bb-4b94-4fb5-bfc1-15838882bf15",
   "metadata": {},
   "source": [
    "## Series.unique() "
   ]
  },
  {
   "cell_type": "code",
   "execution_count": 25,
   "id": "936b773d-c426-4569-9e17-461f417c3d52",
   "metadata": {},
   "outputs": [],
   "source": [
    "#Series.unique() => risk열은 1 / high / nan / all 을 가짐\n",
    "# 해당 series의 고유한 값을 ndarray형태로 반환"
   ]
  },
  {
   "cell_type": "code",
   "execution_count": 38,
   "id": "ce7df4cb-536e-46a1-b4a7-dfb6f9ffc2d8",
   "metadata": {},
   "outputs": [
    {
     "data": {
      "text/plain": [
       "0           Risk 1 (High)\n",
       "1         Risk 2 (Medium)\n",
       "2            Risk 3 (Low)\n",
       "3           Risk 1 (High)\n",
       "4           Risk 1 (High)\n",
       "               ...       \n",
       "153805      Risk 1 (High)\n",
       "153806    Risk 2 (Medium)\n",
       "153807      Risk 1 (High)\n",
       "153808      Risk 1 (High)\n",
       "153809      Risk 1 (High)\n",
       "Name: Risk, Length: 153744, dtype: object"
      ]
     },
     "execution_count": 38,
     "metadata": {},
     "output_type": "execute_result"
    }
   ],
   "source": [
    "inspections[\"Risk\"]"
   ]
  },
  {
   "cell_type": "code",
   "execution_count": 26,
   "id": "6d9c5be7-ac19-4e9c-bafb-e1f32a5fca22",
   "metadata": {},
   "outputs": [
    {
     "data": {
      "text/plain": [
       "array(['Risk 1 (High)', 'Risk 2 (Medium)', 'Risk 3 (Low)', 'All', nan],\n",
       "      dtype=object)"
      ]
     },
     "execution_count": 26,
     "metadata": {},
     "output_type": "execute_result"
    }
   ],
   "source": [
    "inspections[\"Risk\"].unique()"
   ]
  },
  {
   "cell_type": "markdown",
   "id": "407530ae-7577-42b4-aced-37c0c827695b",
   "metadata": {},
   "source": [
    "## 특정 컬럼에 대해서만 NaN값이 있는 행을 지우는 법"
   ]
  },
  {
   "cell_type": "code",
   "execution_count": 27,
   "id": "02a9ad1e-a3a8-4294-9ca3-bcb0eed7b0e6",
   "metadata": {},
   "outputs": [],
   "source": [
    "# 결측치 제거\n",
    "inspections = inspections.dropna(subset = [\"Risk\"])"
   ]
  },
  {
   "cell_type": "code",
   "execution_count": 28,
   "id": "902ec846-636d-498d-ab01-e8e2332ec001",
   "metadata": {},
   "outputs": [
    {
     "data": {
      "text/plain": [
       "array(['Risk 1 (High)', 'Risk 2 (Medium)', 'Risk 3 (Low)', 'All'],\n",
       "      dtype=object)"
      ]
     },
     "execution_count": 28,
     "metadata": {},
     "output_type": "execute_result"
    }
   ],
   "source": [
    "#확인\n",
    "inspections[\"Risk\"].unique()"
   ]
  },
  {
   "cell_type": "markdown",
   "id": "7f0f4d5a-b8da-46f9-9ea2-6d0eaa100acd",
   "metadata": {},
   "source": [
    "##  replace()메서드로 값을 치환"
   ]
  },
  {
   "cell_type": "code",
   "execution_count": 29,
   "id": "f4a49b9a-c71f-4e85-8552-37df50a99c8f",
   "metadata": {},
   "outputs": [],
   "source": [
    "# replace()메서드로 값을 치환 (인수 : to_replace) 검색할 값을 지정 값으로 변경할것 전달"
   ]
  },
  {
   "cell_type": "code",
   "execution_count": 30,
   "id": "b1b8f977-a579-48f8-9356-8153f997a354",
   "metadata": {},
   "outputs": [],
   "source": [
    "inspections = inspections.replace(\n",
    "    to_replace = \"All\", value = \"Risk 4 (Extreme)\"\n",
    ")"
   ]
  },
  {
   "cell_type": "code",
   "execution_count": 31,
   "id": "aa6bf2fb-ca3d-427e-ba46-219dab6bd4c6",
   "metadata": {},
   "outputs": [
    {
     "data": {
      "text/plain": [
       "array(['Risk 1 (High)', 'Risk 2 (Medium)', 'Risk 3 (Low)',\n",
       "       'Risk 4 (Extreme)'], dtype=object)"
      ]
     },
     "execution_count": 31,
     "metadata": {},
     "output_type": "execute_result"
    }
   ],
   "source": [
    "inspections[\"Risk\"].unique()"
   ]
  },
  {
   "cell_type": "code",
   "execution_count": 32,
   "id": "b3e5b030-a832-4f48-8672-e77717bdef41",
   "metadata": {},
   "outputs": [
    {
     "data": {
      "text/plain": [
       "0    1\n",
       "1    2\n",
       "2    3\n",
       "3    1\n",
       "4    1\n",
       "Name: Risk, dtype: int32"
      ]
     },
     "execution_count": 32,
     "metadata": {},
     "output_type": "execute_result"
    }
   ],
   "source": [
    "inspections[\"Risk\"].str[5].astype(\"i\").head()"
   ]
  },
  {
   "cell_type": "code",
   "execution_count": 33,
   "id": "de9e7714-895c-44cc-ba6f-79ed3b9ad253",
   "metadata": {},
   "outputs": [],
   "source": [
    "# stringMethods 객체에 인덱싱을 통해 하나의 문자를 추출 R(0)i(1)s(2)k(3) (4)1(5)"
   ]
  },
  {
   "cell_type": "code",
   "execution_count": 34,
   "id": "194f1fd1-fad0-4181-85d9-c45a5845e740",
   "metadata": {},
   "outputs": [
    {
     "data": {
      "text/plain": [
       "0    1\n",
       "1    2\n",
       "2    3\n",
       "3    1\n",
       "4    1\n",
       "Name: Risk, dtype: int32"
      ]
     },
     "execution_count": 34,
     "metadata": {},
     "output_type": "execute_result"
    }
   ],
   "source": [
    "inspections[\"Risk\"].str[5].astype(\"i\").head()"
   ]
  },
  {
   "cell_type": "code",
   "execution_count": 35,
   "id": "afcbfc0e-8c29-4d93-9494-e9495e3adf53",
   "metadata": {},
   "outputs": [],
   "source": [
    "# 슬라이싱:문자를 추출 R(0)i(1)s(2)k(3) (4)1(5)  (6)((7)H(8~ 뒤에있는 값 가져오기"
   ]
  },
  {
   "cell_type": "code",
   "execution_count": 36,
   "id": "bd8f6fc5-a017-476f-a8b0-47ff96c8031f",
   "metadata": {},
   "outputs": [
    {
     "data": {
      "text/plain": [
       "0      High\n",
       "1    Medium\n",
       "2       Low\n",
       "3      High\n",
       "4      High\n",
       "Name: Risk, dtype: category\n",
       "Categories (4, object): ['Extreme', 'High', 'Low', 'Medium']"
      ]
     },
     "execution_count": 36,
     "metadata": {},
     "output_type": "execute_result"
    }
   ],
   "source": [
    "inspections[\"Risk\"].str[8:-1].astype(\"category\").head() #카테고리형"
   ]
  },
  {
   "cell_type": "markdown",
   "id": "a6ffe91b-a323-47cc-85fe-53eb78a68c6b",
   "metadata": {},
   "source": [
    "## 일치하는 문자열 필터링 -> contains()"
   ]
  },
  {
   "cell_type": "code",
   "execution_count": 40,
   "id": "63dd45b3-87e7-4580-af55-42912ca65d7d",
   "metadata": {},
   "outputs": [
    {
     "data": {
      "text/html": [
       "<div>\n",
       "<style scoped>\n",
       "    .dataframe tbody tr th:only-of-type {\n",
       "        vertical-align: middle;\n",
       "    }\n",
       "\n",
       "    .dataframe tbody tr th {\n",
       "        vertical-align: top;\n",
       "    }\n",
       "\n",
       "    .dataframe thead th {\n",
       "        text-align: right;\n",
       "    }\n",
       "</style>\n",
       "<table border=\"1\" class=\"dataframe\">\n",
       "  <thead>\n",
       "    <tr style=\"text-align: right;\">\n",
       "      <th></th>\n",
       "      <th>Name</th>\n",
       "      <th>Risk</th>\n",
       "    </tr>\n",
       "  </thead>\n",
       "  <tbody>\n",
       "    <tr>\n",
       "      <th>1</th>\n",
       "      <td>JETS PIZZA</td>\n",
       "      <td>Risk 2 (Medium)</td>\n",
       "    </tr>\n",
       "    <tr>\n",
       "      <th>19</th>\n",
       "      <td>NANCY'S HOME OF STUFFED PIZZA</td>\n",
       "      <td>Risk 1 (High)</td>\n",
       "    </tr>\n",
       "    <tr>\n",
       "      <th>27</th>\n",
       "      <td>NARY'S GRILL &amp; PIZZA ,INC.</td>\n",
       "      <td>Risk 1 (High)</td>\n",
       "    </tr>\n",
       "    <tr>\n",
       "      <th>29</th>\n",
       "      <td>NARYS GRILL &amp; PIZZA</td>\n",
       "      <td>Risk 1 (High)</td>\n",
       "    </tr>\n",
       "    <tr>\n",
       "      <th>68</th>\n",
       "      <td>COLUTAS PIZZA</td>\n",
       "      <td>Risk 1 (High)</td>\n",
       "    </tr>\n",
       "    <tr>\n",
       "      <th>...</th>\n",
       "      <td>...</td>\n",
       "      <td>...</td>\n",
       "    </tr>\n",
       "    <tr>\n",
       "      <th>153756</th>\n",
       "      <td>ANGELO'S STUFFED PIZZA CORP</td>\n",
       "      <td>Risk 1 (High)</td>\n",
       "    </tr>\n",
       "    <tr>\n",
       "      <th>153764</th>\n",
       "      <td>COCHIAROS PIZZA #2</td>\n",
       "      <td>Risk 1 (High)</td>\n",
       "    </tr>\n",
       "    <tr>\n",
       "      <th>153772</th>\n",
       "      <td>FERNANDO'S MEXICAN GRILL &amp; PIZZA</td>\n",
       "      <td>Risk 1 (High)</td>\n",
       "    </tr>\n",
       "    <tr>\n",
       "      <th>153788</th>\n",
       "      <td>REGGIO'S PIZZA EXPRESS</td>\n",
       "      <td>Risk 1 (High)</td>\n",
       "    </tr>\n",
       "    <tr>\n",
       "      <th>153801</th>\n",
       "      <td>State Street Pizza Company</td>\n",
       "      <td>Risk 1 (High)</td>\n",
       "    </tr>\n",
       "  </tbody>\n",
       "</table>\n",
       "<p>3992 rows × 2 columns</p>\n",
       "</div>"
      ],
      "text/plain": [
       "                                    Name             Risk\n",
       "1                             JETS PIZZA  Risk 2 (Medium)\n",
       "19         NANCY'S HOME OF STUFFED PIZZA    Risk 1 (High)\n",
       "27            NARY'S GRILL & PIZZA ,INC.    Risk 1 (High)\n",
       "29                   NARYS GRILL & PIZZA    Risk 1 (High)\n",
       "68                         COLUTAS PIZZA    Risk 1 (High)\n",
       "...                                  ...              ...\n",
       "153756       ANGELO'S STUFFED PIZZA CORP    Risk 1 (High)\n",
       "153764                COCHIAROS PIZZA #2    Risk 1 (High)\n",
       "153772  FERNANDO'S MEXICAN GRILL & PIZZA    Risk 1 (High)\n",
       "153788            REGGIO'S PIZZA EXPRESS    Risk 1 (High)\n",
       "153801        State Street Pizza Company    Risk 1 (High)\n",
       "\n",
       "[3992 rows x 2 columns]"
      ]
     },
     "execution_count": 40,
     "metadata": {},
     "output_type": "execute_result"
    }
   ],
   "source": [
    "has_pizza = inspections[\"Name\"].str.lower().str.contains(\"pizza\")\n",
    "inspections[has_pizza]"
   ]
  },
  {
   "cell_type": "markdown",
   "id": "e0e4abe1-559c-46dc-a23f-e3d6cd4b450b",
   "metadata": {},
   "source": [
    "## 특정 문자열로 시작되는 문자열 추출 -> startswith()"
   ]
  },
  {
   "cell_type": "code",
   "execution_count": 43,
   "id": "b63d3660-7c0e-4906-83b7-2f2ef286856e",
   "metadata": {},
   "outputs": [
    {
     "data": {
      "text/html": [
       "<div>\n",
       "<style scoped>\n",
       "    .dataframe tbody tr th:only-of-type {\n",
       "        vertical-align: middle;\n",
       "    }\n",
       "\n",
       "    .dataframe tbody tr th {\n",
       "        vertical-align: top;\n",
       "    }\n",
       "\n",
       "    .dataframe thead th {\n",
       "        text-align: right;\n",
       "    }\n",
       "</style>\n",
       "<table border=\"1\" class=\"dataframe\">\n",
       "  <thead>\n",
       "    <tr style=\"text-align: right;\">\n",
       "      <th></th>\n",
       "      <th>Name</th>\n",
       "      <th>Risk</th>\n",
       "    </tr>\n",
       "  </thead>\n",
       "  <tbody>\n",
       "    <tr>\n",
       "      <th>69</th>\n",
       "      <td>TACOS NIETOS</td>\n",
       "      <td>Risk 1 (High)</td>\n",
       "    </tr>\n",
       "    <tr>\n",
       "      <th>556</th>\n",
       "      <td>TACOS EL TIO 2 INC.</td>\n",
       "      <td>Risk 1 (High)</td>\n",
       "    </tr>\n",
       "    <tr>\n",
       "      <th>675</th>\n",
       "      <td>TACOS DON GABINO</td>\n",
       "      <td>Risk 1 (High)</td>\n",
       "    </tr>\n",
       "    <tr>\n",
       "      <th>958</th>\n",
       "      <td>TACOS EL TIO 2 INC.</td>\n",
       "      <td>Risk 1 (High)</td>\n",
       "    </tr>\n",
       "    <tr>\n",
       "      <th>1036</th>\n",
       "      <td>TACOS EL TIO 2 INC.</td>\n",
       "      <td>Risk 1 (High)</td>\n",
       "    </tr>\n",
       "    <tr>\n",
       "      <th>...</th>\n",
       "      <td>...</td>\n",
       "      <td>...</td>\n",
       "    </tr>\n",
       "    <tr>\n",
       "      <th>143587</th>\n",
       "      <td>TACOS DE LUNA</td>\n",
       "      <td>Risk 1 (High)</td>\n",
       "    </tr>\n",
       "    <tr>\n",
       "      <th>144026</th>\n",
       "      <td>TACOS GARCIA</td>\n",
       "      <td>Risk 1 (High)</td>\n",
       "    </tr>\n",
       "    <tr>\n",
       "      <th>146174</th>\n",
       "      <td>Tacos Place's 1</td>\n",
       "      <td>Risk 1 (High)</td>\n",
       "    </tr>\n",
       "    <tr>\n",
       "      <th>147810</th>\n",
       "      <td>TACOS MARIO'S LIMITED</td>\n",
       "      <td>Risk 1 (High)</td>\n",
       "    </tr>\n",
       "    <tr>\n",
       "      <th>151191</th>\n",
       "      <td>TACOS REYNA</td>\n",
       "      <td>Risk 1 (High)</td>\n",
       "    </tr>\n",
       "  </tbody>\n",
       "</table>\n",
       "<p>105 rows × 2 columns</p>\n",
       "</div>"
      ],
      "text/plain": [
       "                         Name           Risk\n",
       "69               TACOS NIETOS  Risk 1 (High)\n",
       "556       TACOS EL TIO 2 INC.  Risk 1 (High)\n",
       "675          TACOS DON GABINO  Risk 1 (High)\n",
       "958       TACOS EL TIO 2 INC.  Risk 1 (High)\n",
       "1036      TACOS EL TIO 2 INC.  Risk 1 (High)\n",
       "...                       ...            ...\n",
       "143587          TACOS DE LUNA  Risk 1 (High)\n",
       "144026           TACOS GARCIA  Risk 1 (High)\n",
       "146174        Tacos Place's 1  Risk 1 (High)\n",
       "147810  TACOS MARIO'S LIMITED  Risk 1 (High)\n",
       "151191            TACOS REYNA  Risk 1 (High)\n",
       "\n",
       "[105 rows x 2 columns]"
      ]
     },
     "execution_count": 43,
     "metadata": {},
     "output_type": "execute_result"
    }
   ],
   "source": [
    "starts_with_tacos = (\n",
    "    inspections[\"Name\"].str.lower().str.startswith(\"tacos\")\n",
    ")\n",
    "inspections[starts_with_tacos]"
   ]
  },
  {
   "cell_type": "code",
   "execution_count": 44,
   "id": "9b9e11a1-b7cc-4826-8bb5-0b044b7d4ed8",
   "metadata": {},
   "outputs": [],
   "source": [
    "#  str.lower() / str.startswith()"
   ]
  },
  {
   "cell_type": "markdown",
   "id": "e5b9889a-29d8-4f3d-9cfa-9ec1c2a7e8cb",
   "metadata": {},
   "source": [
    "## 특정 문자열로 끝나는 문자열 추출 endwith()"
   ]
  },
  {
   "cell_type": "code",
   "execution_count": 45,
   "id": "b30c5d9f-13fd-4fb3-95ce-b37510c85646",
   "metadata": {},
   "outputs": [
    {
     "data": {
      "text/html": [
       "<div>\n",
       "<style scoped>\n",
       "    .dataframe tbody tr th:only-of-type {\n",
       "        vertical-align: middle;\n",
       "    }\n",
       "\n",
       "    .dataframe tbody tr th {\n",
       "        vertical-align: top;\n",
       "    }\n",
       "\n",
       "    .dataframe thead th {\n",
       "        text-align: right;\n",
       "    }\n",
       "</style>\n",
       "<table border=\"1\" class=\"dataframe\">\n",
       "  <thead>\n",
       "    <tr style=\"text-align: right;\">\n",
       "      <th></th>\n",
       "      <th>Name</th>\n",
       "      <th>Risk</th>\n",
       "    </tr>\n",
       "  </thead>\n",
       "  <tbody>\n",
       "    <tr>\n",
       "      <th>69</th>\n",
       "      <td>TACOS NIETOS</td>\n",
       "      <td>Risk 1 (High)</td>\n",
       "    </tr>\n",
       "    <tr>\n",
       "      <th>556</th>\n",
       "      <td>TACOS EL TIO 2 INC.</td>\n",
       "      <td>Risk 1 (High)</td>\n",
       "    </tr>\n",
       "    <tr>\n",
       "      <th>675</th>\n",
       "      <td>TACOS DON GABINO</td>\n",
       "      <td>Risk 1 (High)</td>\n",
       "    </tr>\n",
       "    <tr>\n",
       "      <th>958</th>\n",
       "      <td>TACOS EL TIO 2 INC.</td>\n",
       "      <td>Risk 1 (High)</td>\n",
       "    </tr>\n",
       "    <tr>\n",
       "      <th>1036</th>\n",
       "      <td>TACOS EL TIO 2 INC.</td>\n",
       "      <td>Risk 1 (High)</td>\n",
       "    </tr>\n",
       "    <tr>\n",
       "      <th>...</th>\n",
       "      <td>...</td>\n",
       "      <td>...</td>\n",
       "    </tr>\n",
       "    <tr>\n",
       "      <th>143587</th>\n",
       "      <td>TACOS DE LUNA</td>\n",
       "      <td>Risk 1 (High)</td>\n",
       "    </tr>\n",
       "    <tr>\n",
       "      <th>144026</th>\n",
       "      <td>TACOS GARCIA</td>\n",
       "      <td>Risk 1 (High)</td>\n",
       "    </tr>\n",
       "    <tr>\n",
       "      <th>146174</th>\n",
       "      <td>Tacos Place's 1</td>\n",
       "      <td>Risk 1 (High)</td>\n",
       "    </tr>\n",
       "    <tr>\n",
       "      <th>147810</th>\n",
       "      <td>TACOS MARIO'S LIMITED</td>\n",
       "      <td>Risk 1 (High)</td>\n",
       "    </tr>\n",
       "    <tr>\n",
       "      <th>151191</th>\n",
       "      <td>TACOS REYNA</td>\n",
       "      <td>Risk 1 (High)</td>\n",
       "    </tr>\n",
       "  </tbody>\n",
       "</table>\n",
       "<p>105 rows × 2 columns</p>\n",
       "</div>"
      ],
      "text/plain": [
       "                         Name           Risk\n",
       "69               TACOS NIETOS  Risk 1 (High)\n",
       "556       TACOS EL TIO 2 INC.  Risk 1 (High)\n",
       "675          TACOS DON GABINO  Risk 1 (High)\n",
       "958       TACOS EL TIO 2 INC.  Risk 1 (High)\n",
       "1036      TACOS EL TIO 2 INC.  Risk 1 (High)\n",
       "...                       ...            ...\n",
       "143587          TACOS DE LUNA  Risk 1 (High)\n",
       "144026           TACOS GARCIA  Risk 1 (High)\n",
       "146174        Tacos Place's 1  Risk 1 (High)\n",
       "147810  TACOS MARIO'S LIMITED  Risk 1 (High)\n",
       "151191            TACOS REYNA  Risk 1 (High)\n",
       "\n",
       "[105 rows x 2 columns]"
      ]
     },
     "execution_count": 45,
     "metadata": {},
     "output_type": "execute_result"
    }
   ],
   "source": [
    "starts_with_tacos = (\n",
    "    inspections[\"Name\"].str.lower().str.startswith(\"tacos\")\n",
    ")\n",
    "inspections[starts_with_tacos]"
   ]
  },
  {
   "cell_type": "markdown",
   "id": "6fcaf43a-ba65-462e-9fd2-73f7da1b4339",
   "metadata": {},
   "source": [
    "# 다중 인덱스를 설정할 수 있다. 컬럼 인수에 리스트 형태로 인덱스를 넣으면 다중 열 인덱스를 가지게 된다."
   ]
  },
  {
   "cell_type": "code",
   "execution_count": 46,
   "id": "9a0940e3-50a0-4b84-8f1b-66879e4ded15",
   "metadata": {},
   "outputs": [],
   "source": [
    "np.random.seed(0)\n",
    "df3 = pd.DataFrame(np.round(np.random.randn(5,4), 2),\n",
    "                   columns = [[\"A\",\"A\",\"B\",\"B\"],\n",
    "                              [\"C1\",\"C2\",\"C1\",\"C2\"]])"
   ]
  },
  {
   "cell_type": "code",
   "execution_count": 47,
   "id": "c17975b1-fe0f-42e1-b756-97e64af82a1f",
   "metadata": {},
   "outputs": [
    {
     "data": {
      "text/html": [
       "<div>\n",
       "<style scoped>\n",
       "    .dataframe tbody tr th:only-of-type {\n",
       "        vertical-align: middle;\n",
       "    }\n",
       "\n",
       "    .dataframe tbody tr th {\n",
       "        vertical-align: top;\n",
       "    }\n",
       "\n",
       "    .dataframe thead tr th {\n",
       "        text-align: left;\n",
       "    }\n",
       "</style>\n",
       "<table border=\"1\" class=\"dataframe\">\n",
       "  <thead>\n",
       "    <tr>\n",
       "      <th></th>\n",
       "      <th colspan=\"2\" halign=\"left\">A</th>\n",
       "      <th colspan=\"2\" halign=\"left\">B</th>\n",
       "    </tr>\n",
       "    <tr>\n",
       "      <th></th>\n",
       "      <th>C1</th>\n",
       "      <th>C2</th>\n",
       "      <th>C1</th>\n",
       "      <th>C2</th>\n",
       "    </tr>\n",
       "  </thead>\n",
       "  <tbody>\n",
       "    <tr>\n",
       "      <th>0</th>\n",
       "      <td>1.76</td>\n",
       "      <td>0.40</td>\n",
       "      <td>0.98</td>\n",
       "      <td>2.24</td>\n",
       "    </tr>\n",
       "    <tr>\n",
       "      <th>1</th>\n",
       "      <td>1.87</td>\n",
       "      <td>-0.98</td>\n",
       "      <td>0.95</td>\n",
       "      <td>-0.15</td>\n",
       "    </tr>\n",
       "    <tr>\n",
       "      <th>2</th>\n",
       "      <td>-0.10</td>\n",
       "      <td>0.41</td>\n",
       "      <td>0.14</td>\n",
       "      <td>1.45</td>\n",
       "    </tr>\n",
       "    <tr>\n",
       "      <th>3</th>\n",
       "      <td>0.76</td>\n",
       "      <td>0.12</td>\n",
       "      <td>0.44</td>\n",
       "      <td>0.33</td>\n",
       "    </tr>\n",
       "    <tr>\n",
       "      <th>4</th>\n",
       "      <td>1.49</td>\n",
       "      <td>-0.21</td>\n",
       "      <td>0.31</td>\n",
       "      <td>-0.85</td>\n",
       "    </tr>\n",
       "  </tbody>\n",
       "</table>\n",
       "</div>"
      ],
      "text/plain": [
       "      A           B      \n",
       "     C1    C2    C1    C2\n",
       "0  1.76  0.40  0.98  2.24\n",
       "1  1.87 -0.98  0.95 -0.15\n",
       "2 -0.10  0.41  0.14  1.45\n",
       "3  0.76  0.12  0.44  0.33\n",
       "4  1.49 -0.21  0.31 -0.85"
      ]
     },
     "execution_count": 47,
     "metadata": {},
     "output_type": "execute_result"
    }
   ],
   "source": [
    "df3"
   ]
  },
  {
   "cell_type": "markdown",
   "id": "4090646d-3666-4751-8d23-17f9c35b0f6a",
   "metadata": {},
   "source": [
    "## 다중인덱스 : 이름을 지정하면 더 편리하겍 사용 가능"
   ]
  },
  {
   "cell_type": "code",
   "execution_count": 50,
   "id": "89b1bce0-e2dc-4add-8f86-f14382741816",
   "metadata": {},
   "outputs": [
    {
     "data": {
      "text/html": [
       "<div>\n",
       "<style scoped>\n",
       "    .dataframe tbody tr th:only-of-type {\n",
       "        vertical-align: middle;\n",
       "    }\n",
       "\n",
       "    .dataframe tbody tr th {\n",
       "        vertical-align: top;\n",
       "    }\n",
       "\n",
       "    .dataframe thead tr th {\n",
       "        text-align: left;\n",
       "    }\n",
       "</style>\n",
       "<table border=\"1\" class=\"dataframe\">\n",
       "  <thead>\n",
       "    <tr>\n",
       "      <th>Cidx1</th>\n",
       "      <th colspan=\"2\" halign=\"left\">A</th>\n",
       "      <th colspan=\"2\" halign=\"left\">B</th>\n",
       "    </tr>\n",
       "    <tr>\n",
       "      <th>Cidx2</th>\n",
       "      <th>C1</th>\n",
       "      <th>C2</th>\n",
       "      <th>C1</th>\n",
       "      <th>C2</th>\n",
       "    </tr>\n",
       "  </thead>\n",
       "  <tbody>\n",
       "    <tr>\n",
       "      <th>0</th>\n",
       "      <td>1.76</td>\n",
       "      <td>0.40</td>\n",
       "      <td>0.98</td>\n",
       "      <td>2.24</td>\n",
       "    </tr>\n",
       "    <tr>\n",
       "      <th>1</th>\n",
       "      <td>1.87</td>\n",
       "      <td>-0.98</td>\n",
       "      <td>0.95</td>\n",
       "      <td>-0.15</td>\n",
       "    </tr>\n",
       "    <tr>\n",
       "      <th>2</th>\n",
       "      <td>-0.10</td>\n",
       "      <td>0.41</td>\n",
       "      <td>0.14</td>\n",
       "      <td>1.45</td>\n",
       "    </tr>\n",
       "    <tr>\n",
       "      <th>3</th>\n",
       "      <td>0.76</td>\n",
       "      <td>0.12</td>\n",
       "      <td>0.44</td>\n",
       "      <td>0.33</td>\n",
       "    </tr>\n",
       "    <tr>\n",
       "      <th>4</th>\n",
       "      <td>1.49</td>\n",
       "      <td>-0.21</td>\n",
       "      <td>0.31</td>\n",
       "      <td>-0.85</td>\n",
       "    </tr>\n",
       "  </tbody>\n",
       "</table>\n",
       "</div>"
      ],
      "text/plain": [
       "Cidx1     A           B      \n",
       "Cidx2    C1    C2    C1    C2\n",
       "0      1.76  0.40  0.98  2.24\n",
       "1      1.87 -0.98  0.95 -0.15\n",
       "2     -0.10  0.41  0.14  1.45\n",
       "3      0.76  0.12  0.44  0.33\n",
       "4      1.49 -0.21  0.31 -0.85"
      ]
     },
     "execution_count": 50,
     "metadata": {},
     "output_type": "execute_result"
    }
   ],
   "source": [
    "# 컬럼 인덱스들의 이름 지정은 컬럼 객체의 이름 속성에 리스트를 넣어서 지정\n",
    "df3.columns.names = [\"Cidx1\",\"Cidx2\"]\n",
    "df3"
   ]
  },
  {
   "cell_type": "code",
   "execution_count": 51,
   "id": "3d8e18f1-bb01-4fa4-a03b-a659e1c025c6",
   "metadata": {},
   "outputs": [],
   "source": [
    "# DataFrame을 생성할 때 index인수에 리스트의 리스트 형태로 인덱스를 넣으면 \n",
    "#다중 row인덱스를 가짐"
   ]
  },
  {
   "cell_type": "code",
   "execution_count": 55,
   "id": "03fcf660-8f0e-4a94-95bc-b5f6f40bcec1",
   "metadata": {},
   "outputs": [
    {
     "data": {
      "text/html": [
       "<div>\n",
       "<style scoped>\n",
       "    .dataframe tbody tr th:only-of-type {\n",
       "        vertical-align: middle;\n",
       "    }\n",
       "\n",
       "    .dataframe tbody tr th {\n",
       "        vertical-align: top;\n",
       "    }\n",
       "\n",
       "    .dataframe thead tr th {\n",
       "        text-align: left;\n",
       "    }\n",
       "\n",
       "    .dataframe thead tr:last-of-type th {\n",
       "        text-align: right;\n",
       "    }\n",
       "</style>\n",
       "<table border=\"1\" class=\"dataframe\">\n",
       "  <thead>\n",
       "    <tr>\n",
       "      <th></th>\n",
       "      <th>Cidx1</th>\n",
       "      <th colspan=\"2\" halign=\"left\">A</th>\n",
       "      <th colspan=\"2\" halign=\"left\">B</th>\n",
       "    </tr>\n",
       "    <tr>\n",
       "      <th></th>\n",
       "      <th>Cidx2</th>\n",
       "      <th>C</th>\n",
       "      <th>D</th>\n",
       "      <th>C</th>\n",
       "      <th>D</th>\n",
       "    </tr>\n",
       "    <tr>\n",
       "      <th>Ridx1</th>\n",
       "      <th>Ridx2</th>\n",
       "      <th></th>\n",
       "      <th></th>\n",
       "      <th></th>\n",
       "      <th></th>\n",
       "    </tr>\n",
       "  </thead>\n",
       "  <tbody>\n",
       "    <tr>\n",
       "      <th rowspan=\"3\" valign=\"top\">M</th>\n",
       "      <th>id_1</th>\n",
       "      <td>1.76</td>\n",
       "      <td>0.40</td>\n",
       "      <td>0.98</td>\n",
       "      <td>2.24</td>\n",
       "    </tr>\n",
       "    <tr>\n",
       "      <th>id_2</th>\n",
       "      <td>1.87</td>\n",
       "      <td>-0.98</td>\n",
       "      <td>0.95</td>\n",
       "      <td>-0.15</td>\n",
       "    </tr>\n",
       "    <tr>\n",
       "      <th>id_3</th>\n",
       "      <td>-0.10</td>\n",
       "      <td>0.41</td>\n",
       "      <td>0.14</td>\n",
       "      <td>1.45</td>\n",
       "    </tr>\n",
       "    <tr>\n",
       "      <th rowspan=\"3\" valign=\"top\">F</th>\n",
       "      <th>id_1</th>\n",
       "      <td>0.76</td>\n",
       "      <td>0.12</td>\n",
       "      <td>0.44</td>\n",
       "      <td>0.33</td>\n",
       "    </tr>\n",
       "    <tr>\n",
       "      <th>id_2</th>\n",
       "      <td>1.49</td>\n",
       "      <td>-0.21</td>\n",
       "      <td>0.31</td>\n",
       "      <td>-0.85</td>\n",
       "    </tr>\n",
       "    <tr>\n",
       "      <th>id_3</th>\n",
       "      <td>-2.55</td>\n",
       "      <td>0.65</td>\n",
       "      <td>0.86</td>\n",
       "      <td>-0.74</td>\n",
       "    </tr>\n",
       "  </tbody>\n",
       "</table>\n",
       "</div>"
      ],
      "text/plain": [
       "Cidx1           A           B      \n",
       "Cidx2           C     D     C     D\n",
       "Ridx1 Ridx2                        \n",
       "M     id_1   1.76  0.40  0.98  2.24\n",
       "      id_2   1.87 -0.98  0.95 -0.15\n",
       "      id_3  -0.10  0.41  0.14  1.45\n",
       "F     id_1   0.76  0.12  0.44  0.33\n",
       "      id_2   1.49 -0.21  0.31 -0.85\n",
       "      id_3  -2.55  0.65  0.86 -0.74"
      ]
     },
     "execution_count": 55,
     "metadata": {},
     "output_type": "execute_result"
    }
   ],
   "source": [
    "import random\n",
    "\n",
    "np.random.seed(0)\n",
    "df4 = pd.DataFrame(np.round(np.random.randn(6,4),2),\n",
    "                   columns = [[\"A\",\"A\",\"B\",\"B\"],\n",
    "                              [\"C\",\"D\",\"C\",\"D\"]],\n",
    "                   index = [[\"M\",\"M\",\"M\",\"F\",\"F\",\"F\"],\n",
    "                            [\"id_\" + str(i+1) for i in range(3)] *2])\n",
    "df4.columns.names = [\"Cidx1\",\"Cidx2\"]\n",
    "df4.index.names = [\"Ridx1\",\"Ridx2\"]\n",
    "df4"
   ]
  },
  {
   "cell_type": "markdown",
   "id": "9e325666-4815-44ec-be2e-ac35dd3b1cc4",
   "metadata": {},
   "source": [
    "### stack()메서드 : column인덱스 -> row인덱스 변환\n",
    "### unstack()메서드 : row인덱스 -> column인덱스로 변환"
   ]
  },
  {
   "cell_type": "code",
   "execution_count": 56,
   "id": "dfb152ef-c217-4cf9-a326-aabcbdffe33e",
   "metadata": {},
   "outputs": [
    {
     "data": {
      "text/html": [
       "<div>\n",
       "<style scoped>\n",
       "    .dataframe tbody tr th:only-of-type {\n",
       "        vertical-align: middle;\n",
       "    }\n",
       "\n",
       "    .dataframe tbody tr th {\n",
       "        vertical-align: top;\n",
       "    }\n",
       "\n",
       "    .dataframe thead th {\n",
       "        text-align: right;\n",
       "    }\n",
       "</style>\n",
       "<table border=\"1\" class=\"dataframe\">\n",
       "  <thead>\n",
       "    <tr style=\"text-align: right;\">\n",
       "      <th></th>\n",
       "      <th></th>\n",
       "      <th>Cidx2</th>\n",
       "      <th>C</th>\n",
       "      <th>D</th>\n",
       "    </tr>\n",
       "    <tr>\n",
       "      <th>Ridx1</th>\n",
       "      <th>Ridx2</th>\n",
       "      <th>Cidx1</th>\n",
       "      <th></th>\n",
       "      <th></th>\n",
       "    </tr>\n",
       "  </thead>\n",
       "  <tbody>\n",
       "    <tr>\n",
       "      <th rowspan=\"6\" valign=\"top\">M</th>\n",
       "      <th rowspan=\"2\" valign=\"top\">id_1</th>\n",
       "      <th>A</th>\n",
       "      <td>1.76</td>\n",
       "      <td>0.40</td>\n",
       "    </tr>\n",
       "    <tr>\n",
       "      <th>B</th>\n",
       "      <td>0.98</td>\n",
       "      <td>2.24</td>\n",
       "    </tr>\n",
       "    <tr>\n",
       "      <th rowspan=\"2\" valign=\"top\">id_2</th>\n",
       "      <th>A</th>\n",
       "      <td>1.87</td>\n",
       "      <td>-0.98</td>\n",
       "    </tr>\n",
       "    <tr>\n",
       "      <th>B</th>\n",
       "      <td>0.95</td>\n",
       "      <td>-0.15</td>\n",
       "    </tr>\n",
       "    <tr>\n",
       "      <th rowspan=\"2\" valign=\"top\">id_3</th>\n",
       "      <th>A</th>\n",
       "      <td>-0.10</td>\n",
       "      <td>0.41</td>\n",
       "    </tr>\n",
       "    <tr>\n",
       "      <th>B</th>\n",
       "      <td>0.14</td>\n",
       "      <td>1.45</td>\n",
       "    </tr>\n",
       "    <tr>\n",
       "      <th rowspan=\"6\" valign=\"top\">F</th>\n",
       "      <th rowspan=\"2\" valign=\"top\">id_1</th>\n",
       "      <th>A</th>\n",
       "      <td>0.76</td>\n",
       "      <td>0.12</td>\n",
       "    </tr>\n",
       "    <tr>\n",
       "      <th>B</th>\n",
       "      <td>0.44</td>\n",
       "      <td>0.33</td>\n",
       "    </tr>\n",
       "    <tr>\n",
       "      <th rowspan=\"2\" valign=\"top\">id_2</th>\n",
       "      <th>A</th>\n",
       "      <td>1.49</td>\n",
       "      <td>-0.21</td>\n",
       "    </tr>\n",
       "    <tr>\n",
       "      <th>B</th>\n",
       "      <td>0.31</td>\n",
       "      <td>-0.85</td>\n",
       "    </tr>\n",
       "    <tr>\n",
       "      <th rowspan=\"2\" valign=\"top\">id_3</th>\n",
       "      <th>A</th>\n",
       "      <td>-2.55</td>\n",
       "      <td>0.65</td>\n",
       "    </tr>\n",
       "    <tr>\n",
       "      <th>B</th>\n",
       "      <td>0.86</td>\n",
       "      <td>-0.74</td>\n",
       "    </tr>\n",
       "  </tbody>\n",
       "</table>\n",
       "</div>"
      ],
      "text/plain": [
       "Cidx2                 C     D\n",
       "Ridx1 Ridx2 Cidx1            \n",
       "M     id_1  A      1.76  0.40\n",
       "            B      0.98  2.24\n",
       "      id_2  A      1.87 -0.98\n",
       "            B      0.95 -0.15\n",
       "      id_3  A     -0.10  0.41\n",
       "            B      0.14  1.45\n",
       "F     id_1  A      0.76  0.12\n",
       "            B      0.44  0.33\n",
       "      id_2  A      1.49 -0.21\n",
       "            B      0.31 -0.85\n",
       "      id_3  A     -2.55  0.65\n",
       "            B      0.86 -0.74"
      ]
     },
     "execution_count": 56,
     "metadata": {},
     "output_type": "execute_result"
    }
   ],
   "source": [
    "#stack()메서드\n",
    "#unstack()메서드\n",
    "\n",
    "df4.stack(\"Cidx1\")"
   ]
  },
  {
   "cell_type": "code",
   "execution_count": 58,
   "id": "d1fd451e-37f4-4931-b711-dd8dcc636276",
   "metadata": {},
   "outputs": [],
   "source": [
    "## 시계방향으로 90도 회전"
   ]
  },
  {
   "cell_type": "code",
   "execution_count": 59,
   "id": "7de80f9e-762f-426b-aa3b-f18f8cf2c3fa",
   "metadata": {},
   "outputs": [
    {
     "data": {
      "text/html": [
       "<div>\n",
       "<style scoped>\n",
       "    .dataframe tbody tr th:only-of-type {\n",
       "        vertical-align: middle;\n",
       "    }\n",
       "\n",
       "    .dataframe tbody tr th {\n",
       "        vertical-align: top;\n",
       "    }\n",
       "\n",
       "    .dataframe thead tr th {\n",
       "        text-align: left;\n",
       "    }\n",
       "\n",
       "    .dataframe thead tr:last-of-type th {\n",
       "        text-align: right;\n",
       "    }\n",
       "</style>\n",
       "<table border=\"1\" class=\"dataframe\">\n",
       "  <thead>\n",
       "    <tr>\n",
       "      <th>Cidx1</th>\n",
       "      <th colspan=\"6\" halign=\"left\">A</th>\n",
       "      <th colspan=\"6\" halign=\"left\">B</th>\n",
       "    </tr>\n",
       "    <tr>\n",
       "      <th>Cidx2</th>\n",
       "      <th colspan=\"3\" halign=\"left\">C</th>\n",
       "      <th colspan=\"3\" halign=\"left\">D</th>\n",
       "      <th colspan=\"3\" halign=\"left\">C</th>\n",
       "      <th colspan=\"3\" halign=\"left\">D</th>\n",
       "    </tr>\n",
       "    <tr>\n",
       "      <th>Ridx2</th>\n",
       "      <th>id_1</th>\n",
       "      <th>id_2</th>\n",
       "      <th>id_3</th>\n",
       "      <th>id_1</th>\n",
       "      <th>id_2</th>\n",
       "      <th>id_3</th>\n",
       "      <th>id_1</th>\n",
       "      <th>id_2</th>\n",
       "      <th>id_3</th>\n",
       "      <th>id_1</th>\n",
       "      <th>id_2</th>\n",
       "      <th>id_3</th>\n",
       "    </tr>\n",
       "    <tr>\n",
       "      <th>Ridx1</th>\n",
       "      <th></th>\n",
       "      <th></th>\n",
       "      <th></th>\n",
       "      <th></th>\n",
       "      <th></th>\n",
       "      <th></th>\n",
       "      <th></th>\n",
       "      <th></th>\n",
       "      <th></th>\n",
       "      <th></th>\n",
       "      <th></th>\n",
       "      <th></th>\n",
       "    </tr>\n",
       "  </thead>\n",
       "  <tbody>\n",
       "    <tr>\n",
       "      <th>F</th>\n",
       "      <td>0.76</td>\n",
       "      <td>1.49</td>\n",
       "      <td>-2.55</td>\n",
       "      <td>0.12</td>\n",
       "      <td>-0.21</td>\n",
       "      <td>0.65</td>\n",
       "      <td>0.44</td>\n",
       "      <td>0.31</td>\n",
       "      <td>0.86</td>\n",
       "      <td>0.33</td>\n",
       "      <td>-0.85</td>\n",
       "      <td>-0.74</td>\n",
       "    </tr>\n",
       "    <tr>\n",
       "      <th>M</th>\n",
       "      <td>1.76</td>\n",
       "      <td>1.87</td>\n",
       "      <td>-0.10</td>\n",
       "      <td>0.40</td>\n",
       "      <td>-0.98</td>\n",
       "      <td>0.41</td>\n",
       "      <td>0.98</td>\n",
       "      <td>0.95</td>\n",
       "      <td>0.14</td>\n",
       "      <td>2.24</td>\n",
       "      <td>-0.15</td>\n",
       "      <td>1.45</td>\n",
       "    </tr>\n",
       "  </tbody>\n",
       "</table>\n",
       "</div>"
      ],
      "text/plain": [
       "Cidx1     A                                   B                              \n",
       "Cidx2     C                 D                 C                 D            \n",
       "Ridx2  id_1  id_2  id_3  id_1  id_2  id_3  id_1  id_2  id_3  id_1  id_2  id_3\n",
       "Ridx1                                                                        \n",
       "F      0.76  1.49 -2.55  0.12 -0.21  0.65  0.44  0.31  0.86  0.33 -0.85 -0.74\n",
       "M      1.76  1.87 -0.10  0.40 -0.98  0.41  0.98  0.95  0.14  2.24 -0.15  1.45"
      ]
     },
     "execution_count": 59,
     "metadata": {},
     "output_type": "execute_result"
    }
   ],
   "source": [
    "df4.unstack(\"Ridx2\")"
   ]
  },
  {
   "cell_type": "code",
   "execution_count": 60,
   "id": "d12c773a-b17e-483b-b360-dcbfe2ae37ac",
   "metadata": {},
   "outputs": [
    {
     "data": {
      "text/html": [
       "<div>\n",
       "<style scoped>\n",
       "    .dataframe tbody tr th:only-of-type {\n",
       "        vertical-align: middle;\n",
       "    }\n",
       "\n",
       "    .dataframe tbody tr th {\n",
       "        vertical-align: top;\n",
       "    }\n",
       "\n",
       "    .dataframe thead tr th {\n",
       "        text-align: left;\n",
       "    }\n",
       "</style>\n",
       "<table border=\"1\" class=\"dataframe\">\n",
       "  <thead>\n",
       "    <tr>\n",
       "      <th>Cidx1</th>\n",
       "      <th colspan=\"2\" halign=\"left\">A</th>\n",
       "      <th colspan=\"2\" halign=\"left\">B</th>\n",
       "    </tr>\n",
       "    <tr>\n",
       "      <th>Cidx2</th>\n",
       "      <th>C1</th>\n",
       "      <th>C2</th>\n",
       "      <th>C1</th>\n",
       "      <th>C2</th>\n",
       "    </tr>\n",
       "  </thead>\n",
       "  <tbody>\n",
       "    <tr>\n",
       "      <th>0</th>\n",
       "      <td>1.76</td>\n",
       "      <td>0.40</td>\n",
       "      <td>0.98</td>\n",
       "      <td>2.24</td>\n",
       "    </tr>\n",
       "    <tr>\n",
       "      <th>1</th>\n",
       "      <td>1.87</td>\n",
       "      <td>-0.98</td>\n",
       "      <td>0.95</td>\n",
       "      <td>-0.15</td>\n",
       "    </tr>\n",
       "    <tr>\n",
       "      <th>2</th>\n",
       "      <td>-0.10</td>\n",
       "      <td>0.41</td>\n",
       "      <td>0.14</td>\n",
       "      <td>1.45</td>\n",
       "    </tr>\n",
       "    <tr>\n",
       "      <th>3</th>\n",
       "      <td>0.76</td>\n",
       "      <td>0.12</td>\n",
       "      <td>0.44</td>\n",
       "      <td>0.33</td>\n",
       "    </tr>\n",
       "    <tr>\n",
       "      <th>4</th>\n",
       "      <td>1.49</td>\n",
       "      <td>-0.21</td>\n",
       "      <td>0.31</td>\n",
       "      <td>-0.85</td>\n",
       "    </tr>\n",
       "  </tbody>\n",
       "</table>\n",
       "</div>"
      ],
      "text/plain": [
       "Cidx1     A           B      \n",
       "Cidx2    C1    C2    C1    C2\n",
       "0      1.76  0.40  0.98  2.24\n",
       "1      1.87 -0.98  0.95 -0.15\n",
       "2     -0.10  0.41  0.14  1.45\n",
       "3      0.76  0.12  0.44  0.33\n",
       "4      1.49 -0.21  0.31 -0.85"
      ]
     },
     "execution_count": 60,
     "metadata": {},
     "output_type": "execute_result"
    }
   ],
   "source": [
    "df3"
   ]
  },
  {
   "cell_type": "code",
   "execution_count": 61,
   "id": "beee966d-d246-43c5-92da-e21dc2ac46bc",
   "metadata": {},
   "outputs": [
    {
     "data": {
      "text/plain": [
       "0.98"
      ]
     },
     "execution_count": 61,
     "metadata": {},
     "output_type": "execute_result"
    }
   ],
   "source": [
    "df3.loc[0,(\"B\",\"C1\")]"
   ]
  },
  {
   "cell_type": "code",
   "execution_count": 62,
   "id": "309887c8-c6e5-4961-84eb-0719a0b9f119",
   "metadata": {},
   "outputs": [],
   "source": [
    "df3.loc[0,(\"B\",\"C1\")] = 100"
   ]
  },
  {
   "cell_type": "code",
   "execution_count": 64,
   "id": "76e138f9-1ecb-4e48-9933-a17dbe8fa650",
   "metadata": {},
   "outputs": [],
   "source": [
    "# iloc인덱서를 사용하는 경우 튜플 형태의 다중인덱스 사용안됨"
   ]
  },
  {
   "cell_type": "code",
   "execution_count": 63,
   "id": "693d4ccb-97a1-4938-b166-a01e9f8505c4",
   "metadata": {},
   "outputs": [
    {
     "data": {
      "text/plain": [
       "100.0"
      ]
     },
     "execution_count": 63,
     "metadata": {},
     "output_type": "execute_result"
    }
   ],
   "source": [
    "df3.iloc[0,2]"
   ]
  },
  {
   "cell_type": "code",
   "execution_count": 65,
   "id": "51139b19-0340-48e9-8e18-dc3f781bccfa",
   "metadata": {},
   "outputs": [
    {
     "data": {
      "text/html": [
       "<div>\n",
       "<style scoped>\n",
       "    .dataframe tbody tr th:only-of-type {\n",
       "        vertical-align: middle;\n",
       "    }\n",
       "\n",
       "    .dataframe tbody tr th {\n",
       "        vertical-align: top;\n",
       "    }\n",
       "\n",
       "    .dataframe thead th {\n",
       "        text-align: right;\n",
       "    }\n",
       "</style>\n",
       "<table border=\"1\" class=\"dataframe\">\n",
       "  <thead>\n",
       "    <tr style=\"text-align: right;\">\n",
       "      <th>Cidx2</th>\n",
       "      <th>C1</th>\n",
       "      <th>C2</th>\n",
       "    </tr>\n",
       "  </thead>\n",
       "  <tbody>\n",
       "    <tr>\n",
       "      <th>0</th>\n",
       "      <td>1.76</td>\n",
       "      <td>0.40</td>\n",
       "    </tr>\n",
       "    <tr>\n",
       "      <th>1</th>\n",
       "      <td>1.87</td>\n",
       "      <td>-0.98</td>\n",
       "    </tr>\n",
       "    <tr>\n",
       "      <th>2</th>\n",
       "      <td>-0.10</td>\n",
       "      <td>0.41</td>\n",
       "    </tr>\n",
       "    <tr>\n",
       "      <th>3</th>\n",
       "      <td>0.76</td>\n",
       "      <td>0.12</td>\n",
       "    </tr>\n",
       "    <tr>\n",
       "      <th>4</th>\n",
       "      <td>1.49</td>\n",
       "      <td>-0.21</td>\n",
       "    </tr>\n",
       "  </tbody>\n",
       "</table>\n",
       "</div>"
      ],
      "text/plain": [
       "Cidx2    C1    C2\n",
       "0      1.76  0.40\n",
       "1      1.87 -0.98\n",
       "2     -0.10  0.41\n",
       "3      0.76  0.12\n",
       "4      1.49 -0.21"
      ]
     },
     "execution_count": 65,
     "metadata": {},
     "output_type": "execute_result"
    }
   ],
   "source": [
    "df3['A']"
   ]
  },
  {
   "cell_type": "code",
   "execution_count": 66,
   "id": "d327f2b3-a259-4799-924f-762968e6464c",
   "metadata": {},
   "outputs": [
    {
     "data": {
      "text/html": [
       "<div>\n",
       "<style scoped>\n",
       "    .dataframe tbody tr th:only-of-type {\n",
       "        vertical-align: middle;\n",
       "    }\n",
       "\n",
       "    .dataframe tbody tr th {\n",
       "        vertical-align: top;\n",
       "    }\n",
       "\n",
       "    .dataframe thead tr th {\n",
       "        text-align: left;\n",
       "    }\n",
       "\n",
       "    .dataframe thead tr:last-of-type th {\n",
       "        text-align: right;\n",
       "    }\n",
       "</style>\n",
       "<table border=\"1\" class=\"dataframe\">\n",
       "  <thead>\n",
       "    <tr>\n",
       "      <th></th>\n",
       "      <th>Cidx1</th>\n",
       "      <th colspan=\"2\" halign=\"left\">A</th>\n",
       "      <th colspan=\"2\" halign=\"left\">B</th>\n",
       "    </tr>\n",
       "    <tr>\n",
       "      <th></th>\n",
       "      <th>Cidx2</th>\n",
       "      <th>C</th>\n",
       "      <th>D</th>\n",
       "      <th>C</th>\n",
       "      <th>D</th>\n",
       "    </tr>\n",
       "    <tr>\n",
       "      <th>Ridx1</th>\n",
       "      <th>Ridx2</th>\n",
       "      <th></th>\n",
       "      <th></th>\n",
       "      <th></th>\n",
       "      <th></th>\n",
       "    </tr>\n",
       "  </thead>\n",
       "  <tbody>\n",
       "    <tr>\n",
       "      <th rowspan=\"3\" valign=\"top\">M</th>\n",
       "      <th>id_1</th>\n",
       "      <td>1.76</td>\n",
       "      <td>0.40</td>\n",
       "      <td>0.98</td>\n",
       "      <td>2.24</td>\n",
       "    </tr>\n",
       "    <tr>\n",
       "      <th>id_2</th>\n",
       "      <td>1.87</td>\n",
       "      <td>-0.98</td>\n",
       "      <td>0.95</td>\n",
       "      <td>-0.15</td>\n",
       "    </tr>\n",
       "    <tr>\n",
       "      <th>id_3</th>\n",
       "      <td>-0.10</td>\n",
       "      <td>0.41</td>\n",
       "      <td>0.14</td>\n",
       "      <td>1.45</td>\n",
       "    </tr>\n",
       "    <tr>\n",
       "      <th rowspan=\"3\" valign=\"top\">F</th>\n",
       "      <th>id_1</th>\n",
       "      <td>0.76</td>\n",
       "      <td>0.12</td>\n",
       "      <td>0.44</td>\n",
       "      <td>0.33</td>\n",
       "    </tr>\n",
       "    <tr>\n",
       "      <th>id_2</th>\n",
       "      <td>1.49</td>\n",
       "      <td>-0.21</td>\n",
       "      <td>0.31</td>\n",
       "      <td>-0.85</td>\n",
       "    </tr>\n",
       "    <tr>\n",
       "      <th>id_3</th>\n",
       "      <td>-2.55</td>\n",
       "      <td>0.65</td>\n",
       "      <td>0.86</td>\n",
       "      <td>-0.74</td>\n",
       "    </tr>\n",
       "  </tbody>\n",
       "</table>\n",
       "</div>"
      ],
      "text/plain": [
       "Cidx1           A           B      \n",
       "Cidx2           C     D     C     D\n",
       "Ridx1 Ridx2                        \n",
       "M     id_1   1.76  0.40  0.98  2.24\n",
       "      id_2   1.87 -0.98  0.95 -0.15\n",
       "      id_3  -0.10  0.41  0.14  1.45\n",
       "F     id_1   0.76  0.12  0.44  0.33\n",
       "      id_2   1.49 -0.21  0.31 -0.85\n",
       "      id_3  -2.55  0.65  0.86 -0.74"
      ]
     },
     "execution_count": 66,
     "metadata": {},
     "output_type": "execute_result"
    }
   ],
   "source": [
    "df4"
   ]
  },
  {
   "cell_type": "code",
   "execution_count": 67,
   "id": "2931fc8c-a04d-4c71-a124-2e543f6f8b6d",
   "metadata": {},
   "outputs": [
    {
     "data": {
      "text/plain": [
       "1.76"
      ]
     },
     "execution_count": 67,
     "metadata": {},
     "output_type": "execute_result"
    }
   ],
   "source": [
    "df4.loc[(\"M\",\"id_1\"),(\"A\",\"C\")]"
   ]
  },
  {
   "cell_type": "code",
   "execution_count": 68,
   "id": "2d0c3ca6-9262-40ef-833e-928cced7c9af",
   "metadata": {},
   "outputs": [
    {
     "data": {
      "text/plain": [
       "Ridx1  Ridx2\n",
       "M      id_1     1.76\n",
       "       id_2     1.87\n",
       "       id_3    -0.10\n",
       "F      id_1     0.76\n",
       "       id_2     1.49\n",
       "       id_3    -2.55\n",
       "Name: (A, C), dtype: float64"
      ]
     },
     "execution_count": 68,
     "metadata": {},
     "output_type": "execute_result"
    }
   ],
   "source": [
    "df4.loc[:,(\"A\",\"C\")]"
   ]
  },
  {
   "cell_type": "code",
   "execution_count": 69,
   "id": "9496efd4-1af4-43fc-b4e8-1d3791eaf002",
   "metadata": {},
   "outputs": [
    {
     "data": {
      "text/html": [
       "<div>\n",
       "<style scoped>\n",
       "    .dataframe tbody tr th:only-of-type {\n",
       "        vertical-align: middle;\n",
       "    }\n",
       "\n",
       "    .dataframe tbody tr th {\n",
       "        vertical-align: top;\n",
       "    }\n",
       "\n",
       "    .dataframe thead tr th {\n",
       "        text-align: left;\n",
       "    }\n",
       "\n",
       "    .dataframe thead tr:last-of-type th {\n",
       "        text-align: right;\n",
       "    }\n",
       "</style>\n",
       "<table border=\"1\" class=\"dataframe\">\n",
       "  <thead>\n",
       "    <tr>\n",
       "      <th></th>\n",
       "      <th>Cidx1</th>\n",
       "      <th colspan=\"2\" halign=\"left\">A</th>\n",
       "      <th colspan=\"2\" halign=\"left\">B</th>\n",
       "    </tr>\n",
       "    <tr>\n",
       "      <th></th>\n",
       "      <th>Cidx2</th>\n",
       "      <th>C</th>\n",
       "      <th>D</th>\n",
       "      <th>C</th>\n",
       "      <th>D</th>\n",
       "    </tr>\n",
       "    <tr>\n",
       "      <th>Ridx1</th>\n",
       "      <th>Ridx2</th>\n",
       "      <th></th>\n",
       "      <th></th>\n",
       "      <th></th>\n",
       "      <th></th>\n",
       "    </tr>\n",
       "  </thead>\n",
       "  <tbody>\n",
       "    <tr>\n",
       "      <th rowspan=\"3\" valign=\"top\">M</th>\n",
       "      <th>id_1</th>\n",
       "      <td>1.76</td>\n",
       "      <td>0.40</td>\n",
       "      <td>0.98</td>\n",
       "      <td>2.24</td>\n",
       "    </tr>\n",
       "    <tr>\n",
       "      <th>id_2</th>\n",
       "      <td>1.87</td>\n",
       "      <td>-0.98</td>\n",
       "      <td>0.95</td>\n",
       "      <td>-0.15</td>\n",
       "    </tr>\n",
       "    <tr>\n",
       "      <th>id_3</th>\n",
       "      <td>-0.10</td>\n",
       "      <td>0.41</td>\n",
       "      <td>0.14</td>\n",
       "      <td>1.45</td>\n",
       "    </tr>\n",
       "    <tr>\n",
       "      <th rowspan=\"3\" valign=\"top\">F</th>\n",
       "      <th>id_1</th>\n",
       "      <td>0.76</td>\n",
       "      <td>0.12</td>\n",
       "      <td>0.44</td>\n",
       "      <td>0.33</td>\n",
       "    </tr>\n",
       "    <tr>\n",
       "      <th>id_2</th>\n",
       "      <td>1.49</td>\n",
       "      <td>-0.21</td>\n",
       "      <td>0.31</td>\n",
       "      <td>-0.85</td>\n",
       "    </tr>\n",
       "    <tr>\n",
       "      <th>id_3</th>\n",
       "      <td>-2.55</td>\n",
       "      <td>0.65</td>\n",
       "      <td>0.86</td>\n",
       "      <td>-0.74</td>\n",
       "    </tr>\n",
       "  </tbody>\n",
       "</table>\n",
       "</div>"
      ],
      "text/plain": [
       "Cidx1           A           B      \n",
       "Cidx2           C     D     C     D\n",
       "Ridx1 Ridx2                        \n",
       "M     id_1   1.76  0.40  0.98  2.24\n",
       "      id_2   1.87 -0.98  0.95 -0.15\n",
       "      id_3  -0.10  0.41  0.14  1.45\n",
       "F     id_1   0.76  0.12  0.44  0.33\n",
       "      id_2   1.49 -0.21  0.31 -0.85\n",
       "      id_3  -2.55  0.65  0.86 -0.74"
      ]
     },
     "execution_count": 69,
     "metadata": {},
     "output_type": "execute_result"
    }
   ],
   "source": [
    "df4"
   ]
  },
  {
   "cell_type": "code",
   "execution_count": 70,
   "id": "18f57a53-26a0-4a1a-beb1-0ee1f1ace85b",
   "metadata": {},
   "outputs": [
    {
     "data": {
      "text/plain": [
       "Cidx1  Cidx2\n",
       "A      C        1.76\n",
       "       D        0.40\n",
       "B      C        0.98\n",
       "       D        2.24\n",
       "Name: (M, id_1), dtype: float64"
      ]
     },
     "execution_count": 70,
     "metadata": {},
     "output_type": "execute_result"
    }
   ],
   "source": [
    "df4.loc[(\"M\",\"id_1\"),:]"
   ]
  },
  {
   "cell_type": "code",
   "execution_count": 71,
   "id": "5b8c5101-a2c0-4b8d-97ae-3699e4503133",
   "metadata": {},
   "outputs": [
    {
     "data": {
      "text/html": [
       "<div>\n",
       "<style scoped>\n",
       "    .dataframe tbody tr th:only-of-type {\n",
       "        vertical-align: middle;\n",
       "    }\n",
       "\n",
       "    .dataframe tbody tr th {\n",
       "        vertical-align: top;\n",
       "    }\n",
       "\n",
       "    .dataframe thead tr th {\n",
       "        text-align: left;\n",
       "    }\n",
       "\n",
       "    .dataframe thead tr:last-of-type th {\n",
       "        text-align: right;\n",
       "    }\n",
       "</style>\n",
       "<table border=\"1\" class=\"dataframe\">\n",
       "  <thead>\n",
       "    <tr>\n",
       "      <th></th>\n",
       "      <th>Cidx1</th>\n",
       "      <th colspan=\"2\" halign=\"left\">A</th>\n",
       "      <th colspan=\"2\" halign=\"left\">B</th>\n",
       "    </tr>\n",
       "    <tr>\n",
       "      <th></th>\n",
       "      <th>Cidx2</th>\n",
       "      <th>C</th>\n",
       "      <th>D</th>\n",
       "      <th>C</th>\n",
       "      <th>D</th>\n",
       "    </tr>\n",
       "    <tr>\n",
       "      <th>Ridx1</th>\n",
       "      <th>Ridx2</th>\n",
       "      <th></th>\n",
       "      <th></th>\n",
       "      <th></th>\n",
       "      <th></th>\n",
       "    </tr>\n",
       "  </thead>\n",
       "  <tbody>\n",
       "    <tr>\n",
       "      <th rowspan=\"3\" valign=\"top\">M</th>\n",
       "      <th>id_1</th>\n",
       "      <td>1.76</td>\n",
       "      <td>0.40</td>\n",
       "      <td>0.98</td>\n",
       "      <td>2.24</td>\n",
       "    </tr>\n",
       "    <tr>\n",
       "      <th>id_2</th>\n",
       "      <td>1.87</td>\n",
       "      <td>-0.98</td>\n",
       "      <td>0.95</td>\n",
       "      <td>-0.15</td>\n",
       "    </tr>\n",
       "    <tr>\n",
       "      <th>id_3</th>\n",
       "      <td>-0.10</td>\n",
       "      <td>0.41</td>\n",
       "      <td>0.14</td>\n",
       "      <td>1.45</td>\n",
       "    </tr>\n",
       "    <tr>\n",
       "      <th rowspan=\"3\" valign=\"top\">F</th>\n",
       "      <th>id_1</th>\n",
       "      <td>0.76</td>\n",
       "      <td>0.12</td>\n",
       "      <td>0.44</td>\n",
       "      <td>0.33</td>\n",
       "    </tr>\n",
       "    <tr>\n",
       "      <th>id_2</th>\n",
       "      <td>1.49</td>\n",
       "      <td>-0.21</td>\n",
       "      <td>0.31</td>\n",
       "      <td>-0.85</td>\n",
       "    </tr>\n",
       "    <tr>\n",
       "      <th>id_3</th>\n",
       "      <td>-2.55</td>\n",
       "      <td>0.65</td>\n",
       "      <td>0.86</td>\n",
       "      <td>-0.74</td>\n",
       "    </tr>\n",
       "    <tr>\n",
       "      <th>All</th>\n",
       "      <th>All</th>\n",
       "      <td>3.23</td>\n",
       "      <td>0.39</td>\n",
       "      <td>3.68</td>\n",
       "      <td>2.28</td>\n",
       "    </tr>\n",
       "  </tbody>\n",
       "</table>\n",
       "</div>"
      ],
      "text/plain": [
       "Cidx1           A           B      \n",
       "Cidx2           C     D     C     D\n",
       "Ridx1 Ridx2                        \n",
       "M     id_1   1.76  0.40  0.98  2.24\n",
       "      id_2   1.87 -0.98  0.95 -0.15\n",
       "      id_3  -0.10  0.41  0.14  1.45\n",
       "F     id_1   0.76  0.12  0.44  0.33\n",
       "      id_2   1.49 -0.21  0.31 -0.85\n",
       "      id_3  -2.55  0.65  0.86 -0.74\n",
       "All   All    3.23  0.39  3.68  2.28"
      ]
     },
     "execution_count": 71,
     "metadata": {},
     "output_type": "execute_result"
    }
   ],
   "source": [
    "df4.loc[(\"All\",\"All\"),:] = df4.sum()\n",
    "df4"
   ]
  },
  {
   "cell_type": "code",
   "execution_count": 72,
   "id": "3f262afb-efde-478e-9d7b-fa4017a28024",
   "metadata": {},
   "outputs": [
    {
     "data": {
      "text/html": [
       "<div>\n",
       "<style scoped>\n",
       "    .dataframe tbody tr th:only-of-type {\n",
       "        vertical-align: middle;\n",
       "    }\n",
       "\n",
       "    .dataframe tbody tr th {\n",
       "        vertical-align: top;\n",
       "    }\n",
       "\n",
       "    .dataframe thead tr th {\n",
       "        text-align: left;\n",
       "    }\n",
       "\n",
       "    .dataframe thead tr:last-of-type th {\n",
       "        text-align: right;\n",
       "    }\n",
       "</style>\n",
       "<table border=\"1\" class=\"dataframe\">\n",
       "  <thead>\n",
       "    <tr>\n",
       "      <th>Cidx1</th>\n",
       "      <th colspan=\"2\" halign=\"left\">A</th>\n",
       "      <th colspan=\"2\" halign=\"left\">B</th>\n",
       "    </tr>\n",
       "    <tr>\n",
       "      <th>Cidx2</th>\n",
       "      <th>C</th>\n",
       "      <th>D</th>\n",
       "      <th>C</th>\n",
       "      <th>D</th>\n",
       "    </tr>\n",
       "    <tr>\n",
       "      <th>Ridx2</th>\n",
       "      <th></th>\n",
       "      <th></th>\n",
       "      <th></th>\n",
       "      <th></th>\n",
       "    </tr>\n",
       "  </thead>\n",
       "  <tbody>\n",
       "    <tr>\n",
       "      <th>id_1</th>\n",
       "      <td>1.76</td>\n",
       "      <td>0.40</td>\n",
       "      <td>0.98</td>\n",
       "      <td>2.24</td>\n",
       "    </tr>\n",
       "    <tr>\n",
       "      <th>id_2</th>\n",
       "      <td>1.87</td>\n",
       "      <td>-0.98</td>\n",
       "      <td>0.95</td>\n",
       "      <td>-0.15</td>\n",
       "    </tr>\n",
       "    <tr>\n",
       "      <th>id_3</th>\n",
       "      <td>-0.10</td>\n",
       "      <td>0.41</td>\n",
       "      <td>0.14</td>\n",
       "      <td>1.45</td>\n",
       "    </tr>\n",
       "  </tbody>\n",
       "</table>\n",
       "</div>"
      ],
      "text/plain": [
       "Cidx1     A           B      \n",
       "Cidx2     C     D     C     D\n",
       "Ridx2                        \n",
       "id_1   1.76  0.40  0.98  2.24\n",
       "id_2   1.87 -0.98  0.95 -0.15\n",
       "id_3  -0.10  0.41  0.14  1.45"
      ]
     },
     "execution_count": 72,
     "metadata": {},
     "output_type": "execute_result"
    }
   ],
   "source": [
    "df4.loc[\"M\"]"
   ]
  },
  {
   "cell_type": "code",
   "execution_count": null,
   "id": "cea28382-34fa-495b-b71c-a97b864763f3",
   "metadata": {},
   "outputs": [],
   "source": []
  }
 ],
 "metadata": {
  "kernelspec": {
   "display_name": "Python 3 (ipykernel)",
   "language": "python",
   "name": "python3"
  },
  "language_info": {
   "codemirror_mode": {
    "name": "ipython",
    "version": 3
   },
   "file_extension": ".py",
   "mimetype": "text/x-python",
   "name": "python",
   "nbconvert_exporter": "python",
   "pygments_lexer": "ipython3",
   "version": "3.9.13"
  }
 },
 "nbformat": 4,
 "nbformat_minor": 5
}
