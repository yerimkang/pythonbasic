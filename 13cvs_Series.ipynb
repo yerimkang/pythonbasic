{
 "cells": [
  {
   "cell_type": "code",
   "execution_count": 1,
   "id": "f912491f-f393-4349-8a70-a4adf9fa16d1",
   "metadata": {},
   "outputs": [
    {
     "data": {
      "text/plain": [
       "Pokemon\n",
       "Bulbasaur      Grass / Poison\n",
       "Ivysaur        Grass / Poison\n",
       "Venusaur       Grass / Poison\n",
       "Charmander               Fire\n",
       "Charmeleon               Fire\n",
       "                    ...      \n",
       "Stakataka        Rock / Steel\n",
       "Blacephalon      Fire / Ghost\n",
       "Zeraora              Electric\n",
       "Meltan                  Steel\n",
       "Melmetal                Steel\n",
       "Name: Type, Length: 809, dtype: object"
      ]
     },
     "execution_count": 1,
     "metadata": {},
     "output_type": "execute_result"
    }
   ],
   "source": [
    "import numpy as np\n",
    "import pandas as pd\n",
    "\n",
    "pokemons = pd.read_csv(\"datas/pokemon.csv\", index_col = \"Pokemon\").squeeze()\n",
    "pokemons"
   ]
  },
  {
   "cell_type": "code",
   "execution_count": 2,
   "id": "028ba9c7-f1a7-4b4b-81dc-7a39eb3590b8",
   "metadata": {},
   "outputs": [
    {
     "data": {
      "text/plain": [
       "count        809\n",
       "unique       159\n",
       "top       Normal\n",
       "freq          65\n",
       "Name: Type, dtype: object"
      ]
     },
     "execution_count": 2,
     "metadata": {},
     "output_type": "execute_result"
    }
   ],
   "source": [
    "pokemons.describe()"
   ]
  },
  {
   "cell_type": "markdown",
   "id": "bc890bcf-1e21-491b-a412-ba4cf567f0e9",
   "metadata": {},
   "source": [
    "## 갯수 count"
   ]
  },
  {
   "cell_type": "code",
   "execution_count": 3,
   "id": "33b78bef-cc52-4f35-bcd9-551fe7a6b702",
   "metadata": {},
   "outputs": [
    {
     "data": {
      "text/plain": [
       "809"
      ]
     },
     "execution_count": 3,
     "metadata": {},
     "output_type": "execute_result"
    }
   ],
   "source": [
    "pokemons.count()"
   ]
  },
  {
   "cell_type": "markdown",
   "id": "ad0fe260-694e-4402-bda9-c8d8c97f2823",
   "metadata": {},
   "source": [
    "## nunique 중복 제거 카운트"
   ]
  },
  {
   "cell_type": "code",
   "execution_count": 4,
   "id": "dbc93301-dfaa-46ed-b974-79b56a6d6a6e",
   "metadata": {},
   "outputs": [
    {
     "data": {
      "text/plain": [
       "159"
      ]
     },
     "execution_count": 4,
     "metadata": {},
     "output_type": "execute_result"
    }
   ],
   "source": [
    "pokemons.nunique()"
   ]
  },
  {
   "cell_type": "code",
   "execution_count": 5,
   "id": "d03c8078-55fd-4f38-b6b5-e3d842f3e642",
   "metadata": {},
   "outputs": [],
   "source": [
    "pokemons_d = dict(pokemons)"
   ]
  },
  {
   "cell_type": "markdown",
   "id": "7839b113-0300-4156-a81d-14e27da94a41",
   "metadata": {},
   "source": [
    "# series 정렬"
   ]
  },
  {
   "cell_type": "markdown",
   "id": "ce88f7e3-fef4-410e-80ca-a351ac5c85d7",
   "metadata": {},
   "source": [
    "## sort_values 값 정렬"
   ]
  },
  {
   "cell_type": "code",
   "execution_count": 6,
   "id": "1843fc64-d38a-4e2b-9066-e435328e2636",
   "metadata": {},
   "outputs": [
    {
     "data": {
      "text/plain": [
       "Pokemon\n",
       "Illumise                Bug\n",
       "Silcoon                 Bug\n",
       "Pinsir                  Bug\n",
       "Burmy                   Bug\n",
       "Wurmple                 Bug\n",
       "                  ...      \n",
       "Tirtouga       Water / Rock\n",
       "Relicanth      Water / Rock\n",
       "Corsola        Water / Rock\n",
       "Carracosta     Water / Rock\n",
       "Empoleon      Water / Steel\n",
       "Name: Type, Length: 809, dtype: object"
      ]
     },
     "execution_count": 6,
     "metadata": {},
     "output_type": "execute_result"
    }
   ],
   "source": [
    "pokemons.sort_values()"
   ]
  },
  {
   "cell_type": "markdown",
   "id": "90cba2b3-ff4f-417e-8fe9-0eb0dc2b8ef1",
   "metadata": {},
   "source": [
    "## ascending = False => 역방향 정렬"
   ]
  },
  {
   "cell_type": "code",
   "execution_count": 7,
   "id": "09d7bd72-9b99-4101-9411-2bc3cd994323",
   "metadata": {},
   "outputs": [
    {
     "data": {
      "text/plain": [
       "Pokemon\n",
       "Empoleon      Water / Steel\n",
       "Corsola        Water / Rock\n",
       "Relicanth      Water / Rock\n",
       "Carracosta     Water / Rock\n",
       "Tirtouga       Water / Rock\n",
       "                  ...      \n",
       "Kricketune              Bug\n",
       "Cascoon                 Bug\n",
       "Scatterbug              Bug\n",
       "Kricketot               Bug\n",
       "Grubbin                 Bug\n",
       "Name: Type, Length: 809, dtype: object"
      ]
     },
     "execution_count": 7,
     "metadata": {},
     "output_type": "execute_result"
    }
   ],
   "source": [
    "pokemons.sort_values(ascending = False) #역방향"
   ]
  },
  {
   "cell_type": "markdown",
   "id": "d36d0fb4-807d-4ec1-ae4f-609186a2c4d0",
   "metadata": {},
   "source": [
    "## 연습"
   ]
  },
  {
   "cell_type": "code",
   "execution_count": 8,
   "id": "64663249-ae4b-493f-bcbf-104aff105cf9",
   "metadata": {},
   "outputs": [
    {
     "data": {
      "text/plain": [
       "Start Date\n",
       "1774-09-01    Massachusetts\n",
       "1774-12-14    New Hampshire\n",
       "1775-04-19    Massachusetts\n",
       "1775-04-19    Massachusetts\n",
       "1775-04-20         Virginia\n",
       "                  ...      \n",
       "1782-09-11         Virginia\n",
       "1782-09-13              NaN\n",
       "1782-10-18              NaN\n",
       "1782-12-06              NaN\n",
       "1783-01-22         Virginia\n",
       "Name: State, Length: 232, dtype: object"
      ]
     },
     "execution_count": 8,
     "metadata": {},
     "output_type": "execute_result"
    }
   ],
   "source": [
    "war = pd.read_csv(\"datas/revolutionary_war.csv\",\n",
    "                  parse_dates = [\"Start Date\"],\n",
    "                  index_col = \"Start Date\",\n",
    "                  usecols = [\"Start Date\",\"State\"]).squeeze(\"columns\")\n",
    "war"
   ]
  },
  {
   "cell_type": "code",
   "execution_count": 9,
   "id": "a04fd5be-d670-42d5-a43e-d9ff49ff2fdb",
   "metadata": {},
   "outputs": [
    {
     "data": {
      "text/plain": [
       "70"
      ]
     },
     "execution_count": 9,
     "metadata": {},
     "output_type": "execute_result"
    }
   ],
   "source": [
    "war.isnull().sum()"
   ]
  },
  {
   "cell_type": "code",
   "execution_count": 10,
   "id": "436e3d18-c072-4897-9214-1c68167789af",
   "metadata": {},
   "outputs": [
    {
     "data": {
      "text/plain": [
       "162"
      ]
     },
     "execution_count": 10,
     "metadata": {},
     "output_type": "execute_result"
    }
   ],
   "source": [
    "war.count()"
   ]
  },
  {
   "cell_type": "code",
   "execution_count": 11,
   "id": "66f443bf-44e7-40bb-b410-de6005104e0a",
   "metadata": {},
   "outputs": [
    {
     "data": {
      "text/plain": [
       "17"
      ]
     },
     "execution_count": 11,
     "metadata": {},
     "output_type": "execute_result"
    }
   ],
   "source": [
    "war.nunique()"
   ]
  },
  {
   "cell_type": "code",
   "execution_count": 12,
   "id": "286b28cd-e991-410c-ac58-cf9f1c59f126",
   "metadata": {},
   "outputs": [
    {
     "data": {
      "text/plain": [
       "Start Date\n",
       "1775-09-17         NaN\n",
       "1775-12-31         NaN\n",
       "1776-03-03         NaN\n",
       "1776-03-25         NaN\n",
       "1776-05-18         NaN\n",
       "                ...   \n",
       "1781-07-06    Virginia\n",
       "1781-07-01    Virginia\n",
       "1781-06-26    Virginia\n",
       "1781-04-25    Virginia\n",
       "1783-01-22    Virginia\n",
       "Name: State, Length: 232, dtype: object"
      ]
     },
     "execution_count": 12,
     "metadata": {},
     "output_type": "execute_result"
    }
   ],
   "source": [
    "war.sort_values(na_position = \"first\") # or last"
   ]
  },
  {
   "cell_type": "code",
   "execution_count": 13,
   "id": "fb7d5956-9f14-4a99-b75c-f77c3ba6a6cf",
   "metadata": {},
   "outputs": [
    {
     "data": {
      "text/plain": [
       "Start Date\n",
       "1774-09-01     Massachusetts\n",
       "1774-12-14     New Hampshire\n",
       "1775-04-19     Massachusetts\n",
       "1775-04-19     Massachusetts\n",
       "1775-04-20          Virginia\n",
       "                   ...      \n",
       "1782-08-15          Virginia\n",
       "1782-08-19          Virginia\n",
       "1782-08-26    South Carolina\n",
       "1782-09-11          Virginia\n",
       "1783-01-22          Virginia\n",
       "Name: State, Length: 162, dtype: object"
      ]
     },
     "execution_count": 13,
     "metadata": {},
     "output_type": "execute_result"
    }
   ],
   "source": [
    "war.dropna()"
   ]
  },
  {
   "cell_type": "code",
   "execution_count": 14,
   "id": "80947e2a-d86a-4a8d-9843-e8bc5e557eca",
   "metadata": {},
   "outputs": [
    {
     "data": {
      "text/plain": [
       "Pokemon\n",
       "Abomasnow        Grass / Ice\n",
       "Abra                 Psychic\n",
       "Absol                   Dark\n",
       "Accelgor                 Bug\n",
       "Aegislash      Steel / Ghost\n",
       "                  ...       \n",
       "Zoroark                 Dark\n",
       "Zorua                   Dark\n",
       "Zubat        Poison / Flying\n",
       "Zweilous       Dark / Dragon\n",
       "Zygarde      Dragon / Ground\n",
       "Name: Type, Length: 809, dtype: object"
      ]
     },
     "execution_count": 14,
     "metadata": {},
     "output_type": "execute_result"
    }
   ],
   "source": [
    "# index기준 정렬\n",
    "pokemons.sort_index(ascending = True) "
   ]
  },
  {
   "cell_type": "code",
   "execution_count": 15,
   "id": "7d738d11-ced2-4c8e-9260-dc4325b42fb9",
   "metadata": {},
   "outputs": [
    {
     "data": {
      "text/plain": [
       "Start Date\n",
       "1774-09-01    Massachusetts\n",
       "1774-12-14    New Hampshire\n",
       "1775-04-19    Massachusetts\n",
       "1775-04-19    Massachusetts\n",
       "1775-04-20         Virginia\n",
       "                  ...      \n",
       "1783-01-22         Virginia\n",
       "NaT              New Jersey\n",
       "NaT                Virginia\n",
       "NaT                     NaN\n",
       "NaT                     NaN\n",
       "Name: State, Length: 232, dtype: object"
      ]
     },
     "execution_count": 15,
     "metadata": {},
     "output_type": "execute_result"
    }
   ],
   "source": [
    "war.sort_index()"
   ]
  },
  {
   "cell_type": "code",
   "execution_count": 16,
   "id": "a270e9bd-4ab8-4481-8bbf-e7c9f17ab7d4",
   "metadata": {},
   "outputs": [
    {
     "data": {
      "text/plain": [
       "Start Date\n",
       "NaT              New Jersey\n",
       "NaT                Virginia\n",
       "NaT                     NaN\n",
       "NaT                     NaN\n",
       "1774-09-01    Massachusetts\n",
       "                  ...      \n",
       "1782-09-11         Virginia\n",
       "1782-09-13              NaN\n",
       "1782-10-18              NaN\n",
       "1782-12-06              NaN\n",
       "1783-01-22         Virginia\n",
       "Name: State, Length: 232, dtype: object"
      ]
     },
     "execution_count": 16,
     "metadata": {},
     "output_type": "execute_result"
    }
   ],
   "source": [
    "war.sort_index(na_position=\"first\")"
   ]
  },
  {
   "cell_type": "code",
   "execution_count": 17,
   "id": "50174eeb-a88f-41bc-919a-03e26e5ddcad",
   "metadata": {},
   "outputs": [
    {
     "data": {
      "text/plain": [
       "Start Date\n",
       "1774-09-01    Massachusetts\n",
       "1774-12-14    New Hampshire\n",
       "1775-04-19    Massachusetts\n",
       "1775-04-19    Massachusetts\n",
       "1775-04-19    Massachusetts\n",
       "                  ...      \n",
       "1782-09-11         Virginia\n",
       "1782-09-13              NaN\n",
       "1782-10-18              NaN\n",
       "1782-12-06              NaN\n",
       "1783-01-22         Virginia\n",
       "Name: State, Length: 250, dtype: object"
      ]
     },
     "execution_count": 17,
     "metadata": {},
     "output_type": "execute_result"
    }
   ],
   "source": [
    "#series의 index에 포함된 NaT값을 배제하는 두가지 방법\n",
    "war.loc[war.index.dropna()]"
   ]
  },
  {
   "cell_type": "code",
   "execution_count": 18,
   "id": "cd88cdb6-d488-4d84-8c6f-385f2d417caf",
   "metadata": {},
   "outputs": [
    {
     "data": {
      "text/plain": [
       "Start Date\n",
       "1774-09-01    Massachusetts\n",
       "1774-12-14    New Hampshire\n",
       "1775-04-19    Massachusetts\n",
       "1775-04-19    Massachusetts\n",
       "1775-04-20         Virginia\n",
       "                  ...      \n",
       "1782-09-11         Virginia\n",
       "1782-09-13              NaN\n",
       "1782-10-18              NaN\n",
       "1782-12-06              NaN\n",
       "1783-01-22         Virginia\n",
       "Name: State, Length: 228, dtype: object"
      ]
     },
     "execution_count": 18,
     "metadata": {},
     "output_type": "execute_result"
    }
   ],
   "source": [
    "war.loc[war.index.notnull()]"
   ]
  },
  {
   "cell_type": "code",
   "execution_count": 19,
   "id": "3a011de0-77fa-4cee-9f5c-acc0a76e0dfa",
   "metadata": {},
   "outputs": [
    {
     "data": {
      "text/plain": [
       "Date\n",
       "2004-08-19      49.98\n",
       "2004-08-20      53.95\n",
       "2004-08-23      54.50\n",
       "2004-08-24      52.24\n",
       "2004-08-25      52.80\n",
       "               ...   \n",
       "2019-10-21    1246.15\n",
       "2019-10-22    1242.80\n",
       "2019-10-23    1259.13\n",
       "2019-10-24    1260.99\n",
       "2019-10-25    1265.13\n",
       "Name: Close, Length: 3824, dtype: float64"
      ]
     },
     "execution_count": 19,
     "metadata": {},
     "output_type": "execute_result"
    }
   ],
   "source": [
    "gle = pd.read_csv(\"datas/google_stocks.csv\",\n",
    "                 parse_dates=['Date'], #Date 타입으로 저장, parse_dates 인수에 파싱할 column명을 리스트 형태로 전달\n",
    "                 index_col=\"Date\").squeeze()\n",
    "gle"
   ]
  },
  {
   "cell_type": "code",
   "execution_count": 20,
   "id": "641f4b25-8d7b-4fdd-9488-73c23069fb5e",
   "metadata": {},
   "outputs": [
    {
     "data": {
      "text/plain": [
       "count    3824.000000\n",
       "mean      479.945860\n",
       "std       328.528592\n",
       "min        49.820000\n",
       "25%       235.860000\n",
       "50%       314.680000\n",
       "75%       708.205000\n",
       "max      1287.580000\n",
       "Name: Close, dtype: float64"
      ]
     },
     "execution_count": 20,
     "metadata": {},
     "output_type": "execute_result"
    }
   ],
   "source": [
    "gle.describe()"
   ]
  },
  {
   "cell_type": "code",
   "execution_count": 21,
   "id": "8a91550f-eefd-4c8a-8375-1bf806900a8c",
   "metadata": {},
   "outputs": [
    {
     "data": {
      "text/plain": [
       "Date\n",
       "2019-04-29    1287.58\n",
       "2019-04-26    1272.18\n",
       "2018-07-26    1268.33\n",
       "2019-10-25    1265.13\n",
       "2019-04-23    1264.55\n",
       "2018-07-25    1263.70\n",
       "2019-04-25    1263.45\n",
       "2019-10-24    1260.99\n",
       "2019-10-23    1259.13\n",
       "2019-04-24    1256.00\n",
       "Name: Close, dtype: float64"
      ]
     },
     "execution_count": 21,
     "metadata": {},
     "output_type": "execute_result"
    }
   ],
   "source": [
    "gle.sort_values(ascending=False).head(10)"
   ]
  },
  {
   "cell_type": "code",
   "execution_count": 22,
   "id": "520daf01-aa96-4ad7-9706-4b3a3be51bb5",
   "metadata": {},
   "outputs": [
    {
     "data": {
      "text/plain": [
       "Date\n",
       "2019-04-29    1287.58\n",
       "2019-04-26    1272.18\n",
       "2018-07-26    1268.33\n",
       "2019-10-25    1265.13\n",
       "2019-04-23    1264.55\n",
       "2018-07-25    1263.70\n",
       "2019-04-25    1263.45\n",
       "2019-10-24    1260.99\n",
       "2019-10-23    1259.13\n",
       "2019-04-24    1256.00\n",
       "Name: Close, dtype: float64"
      ]
     },
     "execution_count": 22,
     "metadata": {},
     "output_type": "execute_result"
    }
   ],
   "source": [
    "#큰 숫자를 순서대로 인수만큼 구한다.\n",
    "gle.nlargest(10)"
   ]
  },
  {
   "cell_type": "code",
   "execution_count": 23,
   "id": "6e3502d5-f77b-48df-8b46-e83f457843ce",
   "metadata": {},
   "outputs": [
    {
     "data": {
      "text/plain": [
       "Date\n",
       "2004-09-03    49.82\n",
       "2004-09-01    49.94\n",
       "2004-08-19    49.98\n",
       "2004-09-02    50.57\n",
       "2004-09-07    50.60\n",
       "2004-08-30    50.81\n",
       "2004-09-08    50.96\n",
       "2004-09-09    50.96\n",
       "2004-08-31    50.99\n",
       "2004-08-24    52.24\n",
       "Name: Close, dtype: float64"
      ]
     },
     "execution_count": 23,
     "metadata": {},
     "output_type": "execute_result"
    }
   ],
   "source": [
    "#작은 숫자를 순서대로 인수만큼 구한다.\n",
    "gle.nsmallest(10)"
   ]
  },
  {
   "cell_type": "code",
   "execution_count": 24,
   "id": "7978081a-56d1-42fa-bd23-169f0dcc4e0f",
   "metadata": {},
   "outputs": [
    {
     "data": {
      "text/plain": [
       "(-0.001, 200.0]      595\n",
       "(200.0, 400.0]      1568\n",
       "(400.0, 600.0]       575\n",
       "(600.0, 800.0]       380\n",
       "(800.0, 1000.0]      207\n",
       "(1000.0, 1200.0]     406\n",
       "(1200.0, 1400.0]      93\n",
       "Name: Close, dtype: int64"
      ]
     },
     "execution_count": 24,
     "metadata": {},
     "output_type": "execute_result"
    }
   ],
   "source": [
    "bins = np.linspace(0, 1400, 8)\n",
    "gle.value_counts(bins = bins).sort_index()"
   ]
  },
  {
   "cell_type": "code",
   "execution_count": 25,
   "id": "98881ac5-9ea0-48c8-99eb-846cb4470e06",
   "metadata": {},
   "outputs": [
    {
     "data": {
      "text/html": [
       "<div>\n",
       "<style scoped>\n",
       "    .dataframe tbody tr th:only-of-type {\n",
       "        vertical-align: middle;\n",
       "    }\n",
       "\n",
       "    .dataframe tbody tr th {\n",
       "        vertical-align: top;\n",
       "    }\n",
       "\n",
       "    .dataframe thead th {\n",
       "        text-align: right;\n",
       "    }\n",
       "</style>\n",
       "<table border=\"1\" class=\"dataframe\">\n",
       "  <thead>\n",
       "    <tr style=\"text-align: right;\">\n",
       "      <th></th>\n",
       "      <th>c1</th>\n",
       "      <th>c2</th>\n",
       "      <th>c3</th>\n",
       "    </tr>\n",
       "  </thead>\n",
       "  <tbody>\n",
       "    <tr>\n",
       "      <th>0</th>\n",
       "      <td>1</td>\n",
       "      <td>1.11</td>\n",
       "      <td>one</td>\n",
       "    </tr>\n",
       "    <tr>\n",
       "      <th>1</th>\n",
       "      <td>2</td>\n",
       "      <td></td>\n",
       "      <td>two</td>\n",
       "    </tr>\n",
       "    <tr>\n",
       "      <th>2</th>\n",
       "      <td>누락</td>\n",
       "      <td>3.33</td>\n",
       "      <td>three</td>\n",
       "    </tr>\n",
       "  </tbody>\n",
       "</table>\n",
       "</div>"
      ],
      "text/plain": [
       "   c1    c2     c3\n",
       "0   1  1.11    one\n",
       "1   2          two\n",
       "2  누락  3.33  three"
      ]
     },
     "execution_count": 25,
     "metadata": {},
     "output_type": "execute_result"
    }
   ],
   "source": [
    "import pandas as pd\n",
    "data = {\n",
    "    \"c1\" : [1,2,\"누락\"],\n",
    "    \"c2\" : [1.11,\"\",3.33],\n",
    "    \"c3\" : [\"one\",\"two\",\"three\"]\n",
    "}\n",
    "csv01 = pd.DataFrame(data)\n",
    "csv01"
   ]
  },
  {
   "cell_type": "markdown",
   "id": "ef9836d3-6fb8-4f2c-b24e-471242f08175",
   "metadata": {},
   "source": [
    "## pandas데이터 csv로 출력하기\n",
    "## to_csv"
   ]
  },
  {
   "cell_type": "code",
   "execution_count": 26,
   "id": "74f55a03-598a-4d4d-93a6-8eb3d7f98db1",
   "metadata": {},
   "outputs": [],
   "source": [
    "csv01.to_csv(\"datas/sample1.csv\", index = False)"
   ]
  },
  {
   "cell_type": "code",
   "execution_count": 27,
   "id": "4c668aff-d6d1-4210-bfd7-44d199bcd01a",
   "metadata": {},
   "outputs": [
    {
     "data": {
      "text/html": [
       "<div>\n",
       "<style scoped>\n",
       "    .dataframe tbody tr th:only-of-type {\n",
       "        vertical-align: middle;\n",
       "    }\n",
       "\n",
       "    .dataframe tbody tr th {\n",
       "        vertical-align: top;\n",
       "    }\n",
       "\n",
       "    .dataframe thead th {\n",
       "        text-align: right;\n",
       "    }\n",
       "</style>\n",
       "<table border=\"1\" class=\"dataframe\">\n",
       "  <thead>\n",
       "    <tr style=\"text-align: right;\">\n",
       "      <th></th>\n",
       "      <th>c1</th>\n",
       "      <th>c2</th>\n",
       "      <th>c3</th>\n",
       "    </tr>\n",
       "  </thead>\n",
       "  <tbody>\n",
       "    <tr>\n",
       "      <th>0</th>\n",
       "      <td>1</td>\n",
       "      <td>1.11</td>\n",
       "      <td>one</td>\n",
       "    </tr>\n",
       "    <tr>\n",
       "      <th>1</th>\n",
       "      <td>2</td>\n",
       "      <td>NaN</td>\n",
       "      <td>two</td>\n",
       "    </tr>\n",
       "    <tr>\n",
       "      <th>2</th>\n",
       "      <td>누락</td>\n",
       "      <td>3.33</td>\n",
       "      <td>three</td>\n",
       "    </tr>\n",
       "  </tbody>\n",
       "</table>\n",
       "</div>"
      ],
      "text/plain": [
       "   c1    c2     c3\n",
       "0   1  1.11    one\n",
       "1   2   NaN    two\n",
       "2  누락  3.33  three"
      ]
     },
     "execution_count": 27,
     "metadata": {},
     "output_type": "execute_result"
    }
   ],
   "source": [
    "df_read = pd.read_csv(\"datas/sample1.csv\")\n",
    "df_read"
   ]
  },
  {
   "cell_type": "code",
   "execution_count": 28,
   "id": "96fe8924-c872-44ba-94a0-4f4829778ef6",
   "metadata": {},
   "outputs": [
    {
     "data": {
      "text/html": [
       "<div>\n",
       "<style scoped>\n",
       "    .dataframe tbody tr th:only-of-type {\n",
       "        vertical-align: middle;\n",
       "    }\n",
       "\n",
       "    .dataframe tbody tr th {\n",
       "        vertical-align: top;\n",
       "    }\n",
       "\n",
       "    .dataframe thead th {\n",
       "        text-align: right;\n",
       "    }\n",
       "</style>\n",
       "<table border=\"1\" class=\"dataframe\">\n",
       "  <thead>\n",
       "    <tr style=\"text-align: right;\">\n",
       "      <th></th>\n",
       "      <th>c1</th>\n",
       "      <th>c2</th>\n",
       "      <th>c3</th>\n",
       "    </tr>\n",
       "  </thead>\n",
       "  <tbody>\n",
       "    <tr>\n",
       "      <th>0</th>\n",
       "      <td>1</td>\n",
       "      <td>1.11</td>\n",
       "      <td>one</td>\n",
       "    </tr>\n",
       "    <tr>\n",
       "      <th>1</th>\n",
       "      <td>2</td>\n",
       "      <td></td>\n",
       "      <td>two</td>\n",
       "    </tr>\n",
       "    <tr>\n",
       "      <th>2</th>\n",
       "      <td>누락</td>\n",
       "      <td>3.33</td>\n",
       "      <td>three</td>\n",
       "    </tr>\n",
       "  </tbody>\n",
       "</table>\n",
       "</div>"
      ],
      "text/plain": [
       "   c1    c2     c3\n",
       "0   1  1.11    one\n",
       "1   2          two\n",
       "2  누락  3.33  three"
      ]
     },
     "execution_count": 28,
     "metadata": {},
     "output_type": "execute_result"
    }
   ],
   "source": [
    "# column인덱스 배제 -> header = False\n",
    "csv01.to_csv(\"datas/sample2.csv\", index = False, header = False)\n",
    "csv01"
   ]
  },
  {
   "cell_type": "code",
   "execution_count": 29,
   "id": "2ef6aeef-7f74-4056-914a-4a2aab1c2f25",
   "metadata": {},
   "outputs": [
    {
     "data": {
      "text/html": [
       "<div>\n",
       "<style scoped>\n",
       "    .dataframe tbody tr th:only-of-type {\n",
       "        vertical-align: middle;\n",
       "    }\n",
       "\n",
       "    .dataframe tbody tr th {\n",
       "        vertical-align: top;\n",
       "    }\n",
       "\n",
       "    .dataframe thead th {\n",
       "        text-align: right;\n",
       "    }\n",
       "</style>\n",
       "<table border=\"1\" class=\"dataframe\">\n",
       "  <thead>\n",
       "    <tr style=\"text-align: right;\">\n",
       "      <th></th>\n",
       "      <th>c1</th>\n",
       "      <th>c2</th>\n",
       "      <th>c3</th>\n",
       "    </tr>\n",
       "  </thead>\n",
       "  <tbody>\n",
       "    <tr>\n",
       "      <th>0</th>\n",
       "      <td>1</td>\n",
       "      <td>1.11</td>\n",
       "      <td>one</td>\n",
       "    </tr>\n",
       "    <tr>\n",
       "      <th>1</th>\n",
       "      <td>2</td>\n",
       "      <td>NaN</td>\n",
       "      <td>two</td>\n",
       "    </tr>\n",
       "    <tr>\n",
       "      <th>2</th>\n",
       "      <td>누락</td>\n",
       "      <td>3.33</td>\n",
       "      <td>three</td>\n",
       "    </tr>\n",
       "  </tbody>\n",
       "</table>\n",
       "</div>"
      ],
      "text/plain": [
       "   c1    c2     c3\n",
       "0   1  1.11    one\n",
       "1   2   NaN    two\n",
       "2  누락  3.33  three"
      ]
     },
     "execution_count": 29,
     "metadata": {},
     "output_type": "execute_result"
    }
   ],
   "source": [
    "# column인덱스 추가 names키워드로 column인덱스 정보 추가\n",
    "pd.read_csv('datas/sample2.csv',names=['c1','c2','c3'])"
   ]
  },
  {
   "cell_type": "code",
   "execution_count": 30,
   "id": "91489763-db19-4730-ab9d-6a24e88a3fde",
   "metadata": {},
   "outputs": [
    {
     "data": {
      "text/plain": [
       "'C:\\\\python'"
      ]
     },
     "execution_count": 30,
     "metadata": {},
     "output_type": "execute_result"
    }
   ],
   "source": [
    "%pwd"
   ]
  },
  {
   "cell_type": "markdown",
   "id": "5509fd84-327a-4070-8910-e94fff01c8b2",
   "metadata": {},
   "source": [
    "### 주석 불가능  %%write ~"
   ]
  },
  {
   "cell_type": "code",
   "execution_count": 31,
   "id": "394138e9-ad50-469a-812b-d414d7fa6fab",
   "metadata": {},
   "outputs": [
    {
     "name": "stdout",
     "output_type": "stream",
     "text": [
      "Overwriting sample3.txt\n"
     ]
    }
   ],
   "source": [
    "%%writefile sample3.txt\n",
    "c1        c2        c3        c4\n",
    "0.179181 -1.538472  1.347553  0.43381\n",
    "1.024209  0.087307 -1.281997  0.49265\n",
    "0.417899 -2.002308  0.255245 -1.10515"
   ]
  },
  {
   "cell_type": "code",
   "execution_count": 32,
   "id": "59d4756e-9fb1-4371-85f3-0594f9570280",
   "metadata": {},
   "outputs": [
    {
     "data": {
      "text/plain": [
       "'%%writefile datas/sample3.txt\\nc1       c2       c3       c4\\n0.179181 -1.538472 1.347553 0.43381\\n1.024209 0.087307 -1.281997 0.49265\\n0.417899 -2.002308 0.255245 -1.10515'"
      ]
     },
     "execution_count": 32,
     "metadata": {},
     "output_type": "execute_result"
    }
   ],
   "source": [
    "\"\"\"%%writefile datas/sample3.txt\n",
    "c1       c2       c3       c4\n",
    "0.179181 -1.538472 1.347553 0.43381\n",
    "1.024209 0.087307 -1.281997 0.49265\n",
    "0.417899 -2.002308 0.255245 -1.10515\"\"\""
   ]
  },
  {
   "cell_type": "markdown",
   "id": "1927e97e-7ec6-4171-9d82-0518a42ac68b",
   "metadata": {},
   "source": [
    "## 공백이 하나 이상인경우 '\\s+'"
   ]
  },
  {
   "cell_type": "code",
   "execution_count": 33,
   "id": "304650e2-b46c-4de2-b7ca-4aaa3749e418",
   "metadata": {},
   "outputs": [
    {
     "data": {
      "text/html": [
       "<div>\n",
       "<style scoped>\n",
       "    .dataframe tbody tr th:only-of-type {\n",
       "        vertical-align: middle;\n",
       "    }\n",
       "\n",
       "    .dataframe tbody tr th {\n",
       "        vertical-align: top;\n",
       "    }\n",
       "\n",
       "    .dataframe thead th {\n",
       "        text-align: right;\n",
       "    }\n",
       "</style>\n",
       "<table border=\"1\" class=\"dataframe\">\n",
       "  <thead>\n",
       "    <tr style=\"text-align: right;\">\n",
       "      <th></th>\n",
       "      <th>c1</th>\n",
       "      <th>c2</th>\n",
       "      <th>c3</th>\n",
       "      <th>c4</th>\n",
       "    </tr>\n",
       "  </thead>\n",
       "  <tbody>\n",
       "    <tr>\n",
       "      <th>0</th>\n",
       "      <td>0.179181</td>\n",
       "      <td>-1.538472</td>\n",
       "      <td>1.347553</td>\n",
       "      <td>0.43381</td>\n",
       "    </tr>\n",
       "    <tr>\n",
       "      <th>1</th>\n",
       "      <td>1.024209</td>\n",
       "      <td>0.087307</td>\n",
       "      <td>-1.281997</td>\n",
       "      <td>0.49265</td>\n",
       "    </tr>\n",
       "    <tr>\n",
       "      <th>2</th>\n",
       "      <td>0.417899</td>\n",
       "      <td>-2.002308</td>\n",
       "      <td>0.255245</td>\n",
       "      <td>-1.10515</td>\n",
       "    </tr>\n",
       "  </tbody>\n",
       "</table>\n",
       "</div>"
      ],
      "text/plain": [
       "         c1        c2        c3       c4\n",
       "0  0.179181 -1.538472  1.347553  0.43381\n",
       "1  1.024209  0.087307 -1.281997  0.49265\n",
       "2  0.417899 -2.002308  0.255245 -1.10515"
      ]
     },
     "execution_count": 33,
     "metadata": {},
     "output_type": "execute_result"
    }
   ],
   "source": [
    "pd.read_table('sample3.txt', sep='\\s+')"
   ]
  },
  {
   "cell_type": "code",
   "execution_count": 34,
   "id": "8c39a80b-8bbb-41a7-9c1a-b07df060b27e",
   "metadata": {},
   "outputs": [
    {
     "name": "stdout",
     "output_type": "stream",
     "text": [
      "Overwriting sample4.txt\n"
     ]
    }
   ],
   "source": [
    "%%writefile sample4.txt\n",
    "파일 제목: sample4.txt\n",
    "데이터 포맷의 설명:\n",
    "c1, c2, c3\n",
    "1, 1.11, one\n",
    "2, 2.22, two\n",
    "3, 3.33, three"
   ]
  },
  {
   "cell_type": "code",
   "execution_count": 35,
   "id": "3e863044-d539-4cc4-bfa5-96d729ddbfd1",
   "metadata": {},
   "outputs": [
    {
     "data": {
      "text/html": [
       "<div>\n",
       "<style scoped>\n",
       "    .dataframe tbody tr th:only-of-type {\n",
       "        vertical-align: middle;\n",
       "    }\n",
       "\n",
       "    .dataframe tbody tr th {\n",
       "        vertical-align: top;\n",
       "    }\n",
       "\n",
       "    .dataframe thead th {\n",
       "        text-align: right;\n",
       "    }\n",
       "</style>\n",
       "<table border=\"1\" class=\"dataframe\">\n",
       "  <thead>\n",
       "    <tr style=\"text-align: right;\">\n",
       "      <th></th>\n",
       "      <th>파일</th>\n",
       "      <th>제목:</th>\n",
       "      <th>sample4.txt</th>\n",
       "    </tr>\n",
       "  </thead>\n",
       "  <tbody>\n",
       "    <tr>\n",
       "      <th>0</th>\n",
       "      <td>데이터</td>\n",
       "      <td>포맷의</td>\n",
       "      <td>설명:</td>\n",
       "    </tr>\n",
       "    <tr>\n",
       "      <th>1</th>\n",
       "      <td>c1,</td>\n",
       "      <td>c2,</td>\n",
       "      <td>c3</td>\n",
       "    </tr>\n",
       "    <tr>\n",
       "      <th>2</th>\n",
       "      <td>1,</td>\n",
       "      <td>1.11,</td>\n",
       "      <td>one</td>\n",
       "    </tr>\n",
       "    <tr>\n",
       "      <th>3</th>\n",
       "      <td>2,</td>\n",
       "      <td>2.22,</td>\n",
       "      <td>two</td>\n",
       "    </tr>\n",
       "    <tr>\n",
       "      <th>4</th>\n",
       "      <td>3,</td>\n",
       "      <td>3.33,</td>\n",
       "      <td>three</td>\n",
       "    </tr>\n",
       "  </tbody>\n",
       "</table>\n",
       "</div>"
      ],
      "text/plain": [
       "    파일    제목: sample4.txt\n",
       "0  데이터    포맷의         설명:\n",
       "1  c1,    c2,          c3\n",
       "2   1,  1.11,         one\n",
       "3   2,  2.22,         two\n",
       "4   3,  3.33,       three"
      ]
     },
     "execution_count": 35,
     "metadata": {},
     "output_type": "execute_result"
    }
   ],
   "source": [
    "pd.read_csv('sample4.txt', sep='\\s+')"
   ]
  },
  {
   "cell_type": "code",
   "execution_count": 36,
   "id": "89a229c6-963a-4f7f-887e-dd270851c963",
   "metadata": {},
   "outputs": [
    {
     "data": {
      "text/html": [
       "<div>\n",
       "<style scoped>\n",
       "    .dataframe tbody tr th:only-of-type {\n",
       "        vertical-align: middle;\n",
       "    }\n",
       "\n",
       "    .dataframe tbody tr th {\n",
       "        vertical-align: top;\n",
       "    }\n",
       "\n",
       "    .dataframe thead th {\n",
       "        text-align: right;\n",
       "    }\n",
       "</style>\n",
       "<table border=\"1\" class=\"dataframe\">\n",
       "  <thead>\n",
       "    <tr style=\"text-align: right;\">\n",
       "      <th></th>\n",
       "      <th>c1</th>\n",
       "      <th>c2</th>\n",
       "      <th>c3</th>\n",
       "    </tr>\n",
       "  </thead>\n",
       "  <tbody>\n",
       "    <tr>\n",
       "      <th>0</th>\n",
       "      <td>1</td>\n",
       "      <td>1.11</td>\n",
       "      <td>one</td>\n",
       "    </tr>\n",
       "    <tr>\n",
       "      <th>1</th>\n",
       "      <td>2</td>\n",
       "      <td>2.22</td>\n",
       "      <td>two</td>\n",
       "    </tr>\n",
       "    <tr>\n",
       "      <th>2</th>\n",
       "      <td>3</td>\n",
       "      <td>3.33</td>\n",
       "      <td>three</td>\n",
       "    </tr>\n",
       "  </tbody>\n",
       "</table>\n",
       "</div>"
      ],
      "text/plain": [
       "   c1    c2      c3\n",
       "0   1  1.11     one\n",
       "1   2  2.22     two\n",
       "2   3  3.33   three"
      ]
     },
     "execution_count": 36,
     "metadata": {},
     "output_type": "execute_result"
    }
   ],
   "source": [
    "#앞의 두줄을 가져오지 않겠다.\n",
    "pd.read_csv('sample4.txt', skiprows=[0,1])"
   ]
  },
  {
   "cell_type": "code",
   "execution_count": 37,
   "id": "60cb494e-dc6d-41cb-be3d-6ccd487f8d63",
   "metadata": {},
   "outputs": [
    {
     "data": {
      "text/html": [
       "<div>\n",
       "<style scoped>\n",
       "    .dataframe tbody tr th:only-of-type {\n",
       "        vertical-align: middle;\n",
       "    }\n",
       "\n",
       "    .dataframe tbody tr th {\n",
       "        vertical-align: top;\n",
       "    }\n",
       "\n",
       "    .dataframe thead th {\n",
       "        text-align: right;\n",
       "    }\n",
       "</style>\n",
       "<table border=\"1\" class=\"dataframe\">\n",
       "  <thead>\n",
       "    <tr style=\"text-align: right;\">\n",
       "      <th></th>\n",
       "      <th>c1</th>\n",
       "      <th>c2</th>\n",
       "      <th>c3</th>\n",
       "    </tr>\n",
       "  </thead>\n",
       "  <tbody>\n",
       "    <tr>\n",
       "      <th>0</th>\n",
       "      <td>1.0</td>\n",
       "      <td>1.11</td>\n",
       "      <td>one</td>\n",
       "    </tr>\n",
       "    <tr>\n",
       "      <th>1</th>\n",
       "      <td>2.0</td>\n",
       "      <td>NaN</td>\n",
       "      <td>two</td>\n",
       "    </tr>\n",
       "    <tr>\n",
       "      <th>2</th>\n",
       "      <td>NaN</td>\n",
       "      <td>3.33</td>\n",
       "      <td>three</td>\n",
       "    </tr>\n",
       "  </tbody>\n",
       "</table>\n",
       "</div>"
      ],
      "text/plain": [
       "    c1    c2     c3\n",
       "0  1.0  1.11    one\n",
       "1  2.0   NaN    two\n",
       "2  NaN  3.33  three"
      ]
     },
     "execution_count": 37,
     "metadata": {},
     "output_type": "execute_result"
    }
   ],
   "source": [
    "# nan으로 취급할 값을 넣는다 na_values\n",
    "df_na_val = pd.read_csv('datas/sample1.csv', na_values=['누락'])\n",
    "df_na_val"
   ]
  },
  {
   "cell_type": "code",
   "execution_count": 38,
   "id": "37a8fdcd-22f6-4241-8dee-6116632038ef",
   "metadata": {},
   "outputs": [],
   "source": [
    "df_na_val.to_csv('sample5.txt',sep = '|')"
   ]
  },
  {
   "cell_type": "code",
   "execution_count": 39,
   "id": "97e56962-743e-4b3a-95c7-336f30029f2b",
   "metadata": {},
   "outputs": [
    {
     "data": {
      "text/html": [
       "<div>\n",
       "<style scoped>\n",
       "    .dataframe tbody tr th:only-of-type {\n",
       "        vertical-align: middle;\n",
       "    }\n",
       "\n",
       "    .dataframe tbody tr th {\n",
       "        vertical-align: top;\n",
       "    }\n",
       "\n",
       "    .dataframe thead th {\n",
       "        text-align: right;\n",
       "    }\n",
       "</style>\n",
       "<table border=\"1\" class=\"dataframe\">\n",
       "  <thead>\n",
       "    <tr style=\"text-align: right;\">\n",
       "      <th></th>\n",
       "      <th>c1</th>\n",
       "      <th>c2</th>\n",
       "      <th>c3</th>\n",
       "    </tr>\n",
       "  </thead>\n",
       "  <tbody>\n",
       "    <tr>\n",
       "      <th>0</th>\n",
       "      <td>1.0</td>\n",
       "      <td>1.11</td>\n",
       "      <td>one</td>\n",
       "    </tr>\n",
       "    <tr>\n",
       "      <th>1</th>\n",
       "      <td>2.0</td>\n",
       "      <td>NaN</td>\n",
       "      <td>two</td>\n",
       "    </tr>\n",
       "    <tr>\n",
       "      <th>2</th>\n",
       "      <td>NaN</td>\n",
       "      <td>3.33</td>\n",
       "      <td>three</td>\n",
       "    </tr>\n",
       "  </tbody>\n",
       "</table>\n",
       "</div>"
      ],
      "text/plain": [
       "    c1    c2     c3\n",
       "0  1.0  1.11    one\n",
       "1  2.0   NaN    two\n",
       "2  NaN  3.33  three"
      ]
     },
     "execution_count": 39,
     "metadata": {},
     "output_type": "execute_result"
    }
   ],
   "source": [
    "df_na_val"
   ]
  },
  {
   "cell_type": "code",
   "execution_count": 40,
   "id": "18aec71d-69d6-40ed-a73f-c525b27b1593",
   "metadata": {},
   "outputs": [],
   "source": [
    "df_na_val.to_csv('sample6.csv', na_rep='누락')"
   ]
  },
  {
   "cell_type": "code",
   "execution_count": 41,
   "id": "e0c16537-84ad-4257-94aa-0bab2ecdff0c",
   "metadata": {},
   "outputs": [
    {
     "data": {
      "text/html": [
       "<div>\n",
       "<style scoped>\n",
       "    .dataframe tbody tr th:only-of-type {\n",
       "        vertical-align: middle;\n",
       "    }\n",
       "\n",
       "    .dataframe tbody tr th {\n",
       "        vertical-align: top;\n",
       "    }\n",
       "\n",
       "    .dataframe thead th {\n",
       "        text-align: right;\n",
       "    }\n",
       "</style>\n",
       "<table border=\"1\" class=\"dataframe\">\n",
       "  <thead>\n",
       "    <tr style=\"text-align: right;\">\n",
       "      <th></th>\n",
       "      <th>Unnamed: 0</th>\n",
       "      <th>c1</th>\n",
       "      <th>c2</th>\n",
       "      <th>c3</th>\n",
       "    </tr>\n",
       "  </thead>\n",
       "  <tbody>\n",
       "    <tr>\n",
       "      <th>0</th>\n",
       "      <td>0</td>\n",
       "      <td>1.0</td>\n",
       "      <td>1.11</td>\n",
       "      <td>one</td>\n",
       "    </tr>\n",
       "    <tr>\n",
       "      <th>1</th>\n",
       "      <td>1</td>\n",
       "      <td>2.0</td>\n",
       "      <td>누락</td>\n",
       "      <td>two</td>\n",
       "    </tr>\n",
       "    <tr>\n",
       "      <th>2</th>\n",
       "      <td>2</td>\n",
       "      <td>누락</td>\n",
       "      <td>3.33</td>\n",
       "      <td>three</td>\n",
       "    </tr>\n",
       "  </tbody>\n",
       "</table>\n",
       "</div>"
      ],
      "text/plain": [
       "   Unnamed: 0   c1    c2     c3\n",
       "0           0  1.0  1.11    one\n",
       "1           1  2.0    누락    two\n",
       "2           2   누락  3.33  three"
      ]
     },
     "execution_count": 41,
     "metadata": {},
     "output_type": "execute_result"
    }
   ],
   "source": [
    "pd.read_csv('sample6.csv')"
   ]
  },
  {
   "cell_type": "markdown",
   "id": "a6fb959f-d500-4c65-9aa2-b021ed37442f",
   "metadata": {},
   "source": [
    "## URL지정 온라인 csv가져오기"
   ]
  },
  {
   "cell_type": "code",
   "execution_count": 42,
   "id": "94c41f3a-b731-4b44-80f7-c468ea14e2a7",
   "metadata": {},
   "outputs": [],
   "source": [
    "titanic = pd.read_csv(\"https://storage.googleapis.com/tf-datasets/titanic/train.csv\")"
   ]
  },
  {
   "cell_type": "code",
   "execution_count": 43,
   "id": "159f8cd9-deb8-4c51-b63e-54a0ef2e8276",
   "metadata": {},
   "outputs": [
    {
     "data": {
      "text/html": [
       "<div>\n",
       "<style scoped>\n",
       "    .dataframe tbody tr th:only-of-type {\n",
       "        vertical-align: middle;\n",
       "    }\n",
       "\n",
       "    .dataframe tbody tr th {\n",
       "        vertical-align: top;\n",
       "    }\n",
       "\n",
       "    .dataframe thead th {\n",
       "        text-align: right;\n",
       "    }\n",
       "</style>\n",
       "<table border=\"1\" class=\"dataframe\">\n",
       "  <thead>\n",
       "    <tr style=\"text-align: right;\">\n",
       "      <th></th>\n",
       "      <th>survived</th>\n",
       "      <th>sex</th>\n",
       "      <th>age</th>\n",
       "      <th>n_siblings_spouses</th>\n",
       "      <th>parch</th>\n",
       "      <th>fare</th>\n",
       "      <th>class</th>\n",
       "      <th>deck</th>\n",
       "      <th>embark_town</th>\n",
       "      <th>alone</th>\n",
       "    </tr>\n",
       "  </thead>\n",
       "  <tbody>\n",
       "    <tr>\n",
       "      <th>0</th>\n",
       "      <td>0</td>\n",
       "      <td>male</td>\n",
       "      <td>22.0</td>\n",
       "      <td>1</td>\n",
       "      <td>0</td>\n",
       "      <td>7.2500</td>\n",
       "      <td>Third</td>\n",
       "      <td>unknown</td>\n",
       "      <td>Southampton</td>\n",
       "      <td>n</td>\n",
       "    </tr>\n",
       "    <tr>\n",
       "      <th>1</th>\n",
       "      <td>1</td>\n",
       "      <td>female</td>\n",
       "      <td>38.0</td>\n",
       "      <td>1</td>\n",
       "      <td>0</td>\n",
       "      <td>71.2833</td>\n",
       "      <td>First</td>\n",
       "      <td>C</td>\n",
       "      <td>Cherbourg</td>\n",
       "      <td>n</td>\n",
       "    </tr>\n",
       "    <tr>\n",
       "      <th>2</th>\n",
       "      <td>1</td>\n",
       "      <td>female</td>\n",
       "      <td>26.0</td>\n",
       "      <td>0</td>\n",
       "      <td>0</td>\n",
       "      <td>7.9250</td>\n",
       "      <td>Third</td>\n",
       "      <td>unknown</td>\n",
       "      <td>Southampton</td>\n",
       "      <td>y</td>\n",
       "    </tr>\n",
       "    <tr>\n",
       "      <th>3</th>\n",
       "      <td>1</td>\n",
       "      <td>female</td>\n",
       "      <td>35.0</td>\n",
       "      <td>1</td>\n",
       "      <td>0</td>\n",
       "      <td>53.1000</td>\n",
       "      <td>First</td>\n",
       "      <td>C</td>\n",
       "      <td>Southampton</td>\n",
       "      <td>n</td>\n",
       "    </tr>\n",
       "    <tr>\n",
       "      <th>4</th>\n",
       "      <td>0</td>\n",
       "      <td>male</td>\n",
       "      <td>28.0</td>\n",
       "      <td>0</td>\n",
       "      <td>0</td>\n",
       "      <td>8.4583</td>\n",
       "      <td>Third</td>\n",
       "      <td>unknown</td>\n",
       "      <td>Queenstown</td>\n",
       "      <td>y</td>\n",
       "    </tr>\n",
       "    <tr>\n",
       "      <th>...</th>\n",
       "      <td>...</td>\n",
       "      <td>...</td>\n",
       "      <td>...</td>\n",
       "      <td>...</td>\n",
       "      <td>...</td>\n",
       "      <td>...</td>\n",
       "      <td>...</td>\n",
       "      <td>...</td>\n",
       "      <td>...</td>\n",
       "      <td>...</td>\n",
       "    </tr>\n",
       "    <tr>\n",
       "      <th>622</th>\n",
       "      <td>0</td>\n",
       "      <td>male</td>\n",
       "      <td>28.0</td>\n",
       "      <td>0</td>\n",
       "      <td>0</td>\n",
       "      <td>10.5000</td>\n",
       "      <td>Second</td>\n",
       "      <td>unknown</td>\n",
       "      <td>Southampton</td>\n",
       "      <td>y</td>\n",
       "    </tr>\n",
       "    <tr>\n",
       "      <th>623</th>\n",
       "      <td>0</td>\n",
       "      <td>male</td>\n",
       "      <td>25.0</td>\n",
       "      <td>0</td>\n",
       "      <td>0</td>\n",
       "      <td>7.0500</td>\n",
       "      <td>Third</td>\n",
       "      <td>unknown</td>\n",
       "      <td>Southampton</td>\n",
       "      <td>y</td>\n",
       "    </tr>\n",
       "    <tr>\n",
       "      <th>624</th>\n",
       "      <td>1</td>\n",
       "      <td>female</td>\n",
       "      <td>19.0</td>\n",
       "      <td>0</td>\n",
       "      <td>0</td>\n",
       "      <td>30.0000</td>\n",
       "      <td>First</td>\n",
       "      <td>B</td>\n",
       "      <td>Southampton</td>\n",
       "      <td>y</td>\n",
       "    </tr>\n",
       "    <tr>\n",
       "      <th>625</th>\n",
       "      <td>0</td>\n",
       "      <td>female</td>\n",
       "      <td>28.0</td>\n",
       "      <td>1</td>\n",
       "      <td>2</td>\n",
       "      <td>23.4500</td>\n",
       "      <td>Third</td>\n",
       "      <td>unknown</td>\n",
       "      <td>Southampton</td>\n",
       "      <td>n</td>\n",
       "    </tr>\n",
       "    <tr>\n",
       "      <th>626</th>\n",
       "      <td>0</td>\n",
       "      <td>male</td>\n",
       "      <td>32.0</td>\n",
       "      <td>0</td>\n",
       "      <td>0</td>\n",
       "      <td>7.7500</td>\n",
       "      <td>Third</td>\n",
       "      <td>unknown</td>\n",
       "      <td>Queenstown</td>\n",
       "      <td>y</td>\n",
       "    </tr>\n",
       "  </tbody>\n",
       "</table>\n",
       "<p>627 rows × 10 columns</p>\n",
       "</div>"
      ],
      "text/plain": [
       "     survived     sex   age  n_siblings_spouses  parch     fare   class  \\\n",
       "0           0    male  22.0                   1      0   7.2500   Third   \n",
       "1           1  female  38.0                   1      0  71.2833   First   \n",
       "2           1  female  26.0                   0      0   7.9250   Third   \n",
       "3           1  female  35.0                   1      0  53.1000   First   \n",
       "4           0    male  28.0                   0      0   8.4583   Third   \n",
       "..        ...     ...   ...                 ...    ...      ...     ...   \n",
       "622         0    male  28.0                   0      0  10.5000  Second   \n",
       "623         0    male  25.0                   0      0   7.0500   Third   \n",
       "624         1  female  19.0                   0      0  30.0000   First   \n",
       "625         0  female  28.0                   1      2  23.4500   Third   \n",
       "626         0    male  32.0                   0      0   7.7500   Third   \n",
       "\n",
       "        deck  embark_town alone  \n",
       "0    unknown  Southampton     n  \n",
       "1          C    Cherbourg     n  \n",
       "2    unknown  Southampton     y  \n",
       "3          C  Southampton     n  \n",
       "4    unknown   Queenstown     y  \n",
       "..       ...          ...   ...  \n",
       "622  unknown  Southampton     y  \n",
       "623  unknown  Southampton     y  \n",
       "624        B  Southampton     y  \n",
       "625  unknown  Southampton     n  \n",
       "626  unknown   Queenstown     y  \n",
       "\n",
       "[627 rows x 10 columns]"
      ]
     },
     "execution_count": 43,
     "metadata": {},
     "output_type": "execute_result"
    }
   ],
   "source": [
    "titanic"
   ]
  },
  {
   "cell_type": "code",
   "execution_count": 44,
   "id": "309681cc-1e30-4b86-a138-f5e143658bd4",
   "metadata": {},
   "outputs": [
    {
     "name": "stdout",
     "output_type": "stream",
     "text": [
      "500\n"
     ]
    }
   ],
   "source": [
    "import requests\n",
    "\n",
    "url = 'http://apis.data.go.kr/6300000/mdlcnst' #http://apis.data.go.kr/1360000/AirInfoService\n",
    "params ={'serviceKey' : '서비스키', 'pageNo' : '페이지번호', 'numOfRows' : '한페이지 결과 수'}\n",
    "\n",
    "response = requests.get(url, params=params)\n",
    "print(response.status_code)"
   ]
  },
  {
   "cell_type": "code",
   "execution_count": 45,
   "id": "b83b9b61-1381-42a2-95fe-a4e40f4aa94a",
   "metadata": {},
   "outputs": [
    {
     "name": "stdout",
     "output_type": "stream",
     "text": [
      "500\n"
     ]
    }
   ],
   "source": [
    "response = requests.get('http://apis.data.go.kr/search/6300000/mdlcnst')\n",
    "print(response.status_code)"
   ]
  },
  {
   "cell_type": "code",
   "execution_count": 46,
   "id": "3995fae6-a9b2-45ee-8397-ca4824f65ba6",
   "metadata": {},
   "outputs": [
    {
     "name": "stdout",
     "output_type": "stream",
     "text": [
      "200\n"
     ]
    }
   ],
   "source": [
    "response = requests.get(\"https://apis.data.go.kr/6300000/mdlcnst/getmdlcnst?serviceKey=R5ypB93DJ%2FynR6onZknXJyjQSU498Oq7WSErqucTLk4dzSa350lKjtGnDLfkwL9caJnlbIVGmQ4jV4p1J0r2ig%3D%3D&pageNo=3&numOfRows=20\",\n",
    "                        headers = {\"accept\" : \"application/json\"})\n",
    "print(response.status_code)"
   ]
  },
  {
   "cell_type": "code",
   "execution_count": 47,
   "id": "12e53ab1-45a8-4966-9d96-03c01cd3318c",
   "metadata": {},
   "outputs": [
    {
     "name": "stdout",
     "output_type": "stream",
     "text": [
      "200\n"
     ]
    }
   ],
   "source": [
    "response = requests.get(\"https://apis.data.go.kr/6300000/mdlcnst/getmdlcnst?serviceKey=R5ypB93DJ%252FynR6onZknXJyjQSU498Oq7WSErqucTLk4dzSa350lKjtGnDLfkwL9caJnlbIVGmQ4jV4p1J0r2ig%253D%253D&pageNo=3&numOfRows=200\",\n",
    "                        headers = {\"accept\" : \"application/json\"})\n",
    "print(response.status_code)"
   ]
  },
  {
   "cell_type": "code",
   "execution_count": 48,
   "id": "05149f5d-5908-486e-a7d5-ec3e240a5c45",
   "metadata": {},
   "outputs": [],
   "source": [
    "import xmltodict"
   ]
  },
  {
   "cell_type": "code",
   "execution_count": 49,
   "id": "c9ca0c10-8d83-4e78-a1f7-c7029eab0e2d",
   "metadata": {},
   "outputs": [
    {
     "ename": "ExpatError",
     "evalue": "not well-formed (invalid token): line 1, column 0",
     "output_type": "error",
     "traceback": [
      "\u001b[1;31m---------------------------------------------------------------------------\u001b[0m",
      "\u001b[1;31mExpatError\u001b[0m                                Traceback (most recent call last)",
      "\u001b[1;32m~\\AppData\\Local\\Temp\\ipykernel_26668\\1372316751.py\u001b[0m in \u001b[0;36m<module>\u001b[1;34m\u001b[0m\n\u001b[1;32m----> 1\u001b[1;33m \u001b[0mxmltodict\u001b[0m\u001b[1;33m.\u001b[0m\u001b[0mparse\u001b[0m\u001b[1;33m(\u001b[0m\u001b[0mresponse\u001b[0m\u001b[1;33m.\u001b[0m\u001b[0mtext\u001b[0m\u001b[1;33m)\u001b[0m\u001b[1;33m\u001b[0m\u001b[1;33m\u001b[0m\u001b[0m\n\u001b[0m",
      "\u001b[1;32m~\\AppData\\Roaming\\Python\\Python39\\site-packages\\xmltodict.py\u001b[0m in \u001b[0;36mparse\u001b[1;34m(xml_input, encoding, expat, process_namespaces, namespace_separator, disable_entities, process_comments, **kwargs)\u001b[0m\n\u001b[0;32m    376\u001b[0m         \u001b[0mparser\u001b[0m\u001b[1;33m.\u001b[0m\u001b[0mParse\u001b[0m\u001b[1;33m(\u001b[0m\u001b[1;34mb''\u001b[0m\u001b[1;33m,\u001b[0m\u001b[1;32mTrue\u001b[0m\u001b[1;33m)\u001b[0m\u001b[1;33m\u001b[0m\u001b[1;33m\u001b[0m\u001b[0m\n\u001b[0;32m    377\u001b[0m     \u001b[1;32melse\u001b[0m\u001b[1;33m:\u001b[0m\u001b[1;33m\u001b[0m\u001b[1;33m\u001b[0m\u001b[0m\n\u001b[1;32m--> 378\u001b[1;33m         \u001b[0mparser\u001b[0m\u001b[1;33m.\u001b[0m\u001b[0mParse\u001b[0m\u001b[1;33m(\u001b[0m\u001b[0mxml_input\u001b[0m\u001b[1;33m,\u001b[0m \u001b[1;32mTrue\u001b[0m\u001b[1;33m)\u001b[0m\u001b[1;33m\u001b[0m\u001b[1;33m\u001b[0m\u001b[0m\n\u001b[0m\u001b[0;32m    379\u001b[0m     \u001b[1;32mreturn\u001b[0m \u001b[0mhandler\u001b[0m\u001b[1;33m.\u001b[0m\u001b[0mitem\u001b[0m\u001b[1;33m\u001b[0m\u001b[1;33m\u001b[0m\u001b[0m\n\u001b[0;32m    380\u001b[0m \u001b[1;33m\u001b[0m\u001b[0m\n",
      "\u001b[1;31mExpatError\u001b[0m: not well-formed (invalid token): line 1, column 0"
     ]
    }
   ],
   "source": [
    "xmltodict.parse(response.text)"
   ]
  },
  {
   "cell_type": "code",
   "execution_count": null,
   "id": "4bdad3b4-e35a-4723-8f04-9b71b60c39b8",
   "metadata": {},
   "outputs": [],
   "source": [
    "\"\"\"import json\n",
    "response.json()\"\"\""
   ]
  },
  {
   "cell_type": "code",
   "execution_count": null,
   "id": "06b1b502-eb68-4a57-88e0-3146c3a8e385",
   "metadata": {},
   "outputs": [],
   "source": [
    "import numpy as np\n",
    "import pandas as pd\n",
    "import seaborn as sns"
   ]
  },
  {
   "cell_type": "code",
   "execution_count": null,
   "id": "57c64570-4619-4bdb-9280-ccae7f1586e6",
   "metadata": {},
   "outputs": [],
   "source": [
    "titanic = sns.load_dataset(\"titanic\")\n",
    "titanic"
   ]
  },
  {
   "cell_type": "code",
   "execution_count": null,
   "id": "c2e6bfa9-6ab5-4295-872e-b97ef9aa2562",
   "metadata": {},
   "outputs": [],
   "source": [
    "titanic.head(3)"
   ]
  },
  {
   "cell_type": "code",
   "execution_count": null,
   "id": "222415d9-895c-4ac2-bd48-ca2471015afd",
   "metadata": {},
   "outputs": [],
   "source": [
    "titanic.tail(3)"
   ]
  },
  {
   "cell_type": "markdown",
   "id": "02842534-c5ed-495a-b0e7-c661f13fee6c",
   "metadata": {},
   "source": [
    "## 랜덤으로 정해진 갯수만큼의 값을 가져온다"
   ]
  },
  {
   "cell_type": "code",
   "execution_count": null,
   "id": "6212dd38-9338-4626-8482-e4837e02292d",
   "metadata": {},
   "outputs": [],
   "source": [
    "titanic.sample(3)"
   ]
  },
  {
   "cell_type": "code",
   "execution_count": null,
   "id": "9486c2b1-3d56-4d32-9cca-69e99b24b8a3",
   "metadata": {},
   "outputs": [],
   "source": [
    "titanic.sample()"
   ]
  },
  {
   "cell_type": "markdown",
   "id": "88b6f901-eab7-4f33-a973-66131d225734",
   "metadata": {},
   "source": [
    "# DataFrame "
   ]
  },
  {
   "cell_type": "markdown",
   "id": "5b710cc3-2899-4aea-a6c6-3c5149bcf3b8",
   "metadata": {},
   "source": [
    "## 수학연산 nunique()메서드"
   ]
  },
  {
   "cell_type": "code",
   "execution_count": null,
   "id": "2b0ac72b-e0da-406d-a111-a0757375a4fe",
   "metadata": {},
   "outputs": [],
   "source": [
    "# 각 컬럼마다 갖는 고유 값을 series객체로 반환\n",
    "titanic.nunique()"
   ]
  },
  {
   "cell_type": "markdown",
   "id": "d6380da4-6c95-4a3f-825a-ac96cdbc380b",
   "metadata": {},
   "source": [
    "## count() 컬럼마다의 데이터의 개수"
   ]
  },
  {
   "cell_type": "code",
   "execution_count": null,
   "id": "41b34eca-c5ac-47e9-bb97-fbf2a73180fc",
   "metadata": {},
   "outputs": [],
   "source": [
    "# nan값을 데이터의 갯수로 포함 시키지 않는다./ len()은 nan값을 포함\n",
    "titanic.count()"
   ]
  },
  {
   "cell_type": "code",
   "execution_count": null,
   "id": "acfdd0b7-9f6c-44fe-a728-ba3bd24138ea",
   "metadata": {},
   "outputs": [],
   "source": [
    "len(titanic)"
   ]
  },
  {
   "cell_type": "markdown",
   "id": "e05405e7-b0f0-403b-9b20-84ff741de2a7",
   "metadata": {},
   "source": [
    "## 타입 조회"
   ]
  },
  {
   "cell_type": "code",
   "execution_count": null,
   "id": "058f9b35-94c4-488f-b682-02da2966cc91",
   "metadata": {},
   "outputs": [],
   "source": [
    "titanic.dtypes"
   ]
  },
  {
   "cell_type": "code",
   "execution_count": null,
   "id": "e5dfe26b-2f18-41a3-99ac-1b02cb81312f",
   "metadata": {},
   "outputs": [],
   "source": [
    "# skipna 기본적으로 True값을 가지고 있다.\n",
    "titanic.sum(numeric_only = True)"
   ]
  },
  {
   "cell_type": "code",
   "execution_count": null,
   "id": "9c5a4fc8-88e5-4574-b7df-95af83230d0e",
   "metadata": {},
   "outputs": [],
   "source": []
  },
  {
   "cell_type": "code",
   "execution_count": null,
   "id": "415c40a7-ae06-4a7c-953a-5d2d62a43510",
   "metadata": {},
   "outputs": [],
   "source": [
    "#인수 axis를 갖는다. axis = \"columns\" / 1  = 각 로우별 값\n",
    "titanic[[\"age\",\"fare\",\"survived\"]].sum(axis=\"columns\")"
   ]
  },
  {
   "cell_type": "code",
   "execution_count": null,
   "id": "fecb7cb2-fd31-49fa-a6ed-17698026cf1a",
   "metadata": {},
   "outputs": [],
   "source": [
    "#인수 axis를 갖는다. axis = \"rows\" / 0\n",
    "titanic[[\"age\",\"fare\",\"survived\"]].sum(axis=\"rows\")"
   ]
  },
  {
   "cell_type": "code",
   "execution_count": null,
   "id": "b826139d-368c-4e35-86f2-be18cf81d460",
   "metadata": {},
   "outputs": [],
   "source": [
    "# nsmaillest(), nlargeset() 메서드\n",
    "titanic.nlargest(3, columns=[\"fare\",\"age\"])"
   ]
  },
  {
   "cell_type": "code",
   "execution_count": null,
   "id": "da569476-b58f-40ed-8c51-de5ba37397e0",
   "metadata": {},
   "outputs": [],
   "source": [
    "# nsmaillest(), nlargeset() 메서드\n",
    "titanic.nsmallest(3, columns=[\"age\"])"
   ]
  },
  {
   "cell_type": "code",
   "execution_count": null,
   "id": "eb4b5525-d9be-4c8c-8d05-3fd9f922a0b9",
   "metadata": {},
   "outputs": [],
   "source": [
    "titanic.describe()"
   ]
  },
  {
   "cell_type": "code",
   "execution_count": null,
   "id": "452352bd-83d8-4fba-9ea7-dcf5ad21ffc2",
   "metadata": {
    "scrolled": true,
    "tags": []
   },
   "outputs": [],
   "source": [
    "%%writefile datas/nba.csv\n",
    "Name,Team,Position,Birthday,Salary\n",
    "Shake Milton,Philadelphia 76ers,SG,9/26/96,1445697\n",
    "Christian Wood,Detroit Pistons,PF,9/27/95,1645357\n",
    "PJ Washington,Charlotte Hornets,PF,8/23/98,3831840\n",
    "Derrick Rose,Detroit Pistons,PG,10/4/88,7317074\n",
    "Marial Shayok,Philadelphia 76ers,G,7/26/95,79568\n",
    "Draymond Green,Golden State Warriors,PF,3/4/90,18539130\n",
    "Kendrick Nunn,Miami Heat,SG,8/3/95,1416852\n",
    "Cedi Osman,Cleveland Cavaliers,SF,4/8/95,2907143\n",
    "Brook Lopez,Milwaukee Bucks,C,4/1/88,12093024\n",
    "Torrey Craig,Denver Nuggets,SF,12/19/90,2000000\n",
    "Jordan Clarkson,Cleveland Cavaliers,PG,6/7/92,13437500\n",
    "Alex Caruso,Los Angeles Lakers,PG,2/28/94,2750000\n",
    "Norvel Pelle,Philadelphia 76ers,FC,2/3/93,79568\n",
    "Tyler Johnson,Phoenix Suns,PG,5/7/92,19245370\n",
    "Alec Burks,Golden State Warriors,SG,7/20/91,2320044\n",
    "JaMychal Green,Los Angeles Clippers,PF,6/21/90,4767000\n",
    "Dwight Howard,Los Angeles Lakers,C,12/8/85,5603850\n",
    "Nikola Jokic,Denver Nuggets,C,2/19/95,27504630\n",
    "Chris Boucher,Toronto Raptors,PF,1/11/93,1588231\n",
    "Marcus Morris,New York Knicks,PF,9/2/89,15000000\n",
    "Kevin Huerter,Atlanta Hawks,SG,8/27/98,2636280\n",
    "Rui Hachimura,Washington Wizards,PF,2/8/98,4469160\n",
    "George Hill,Milwaukee Bucks,PG,5/4/86,10133907\n",
    "Nickeil Alexander-Walker,New Orleans Pelicans,SG,9/2/98,2964840\n",
    "Jaylen Hoard,Portland Trail Blazers,SF,3/30/99,79568\n",
    "Tyler Cook,Cleveland Cavaliers,PF,9/23/97,79568\n",
    "Otto Porter,Chicago Bulls,SF,6/3/93,27250576\n",
    "Langston Galloway,Detroit Pistons,PG,12/9/91,7333333\n",
    "Evan Turner,Atlanta Hawks,PG,10/27/88,18606556\n",
    "Norman Powell,Toronto Raptors,SG,5/25/93,10116576\n",
    "Nicolas Claxton,Brooklyn Nets,PF,4/17/99,898310\n",
    "Michael Frazier,Houston Rockets,G,3/8/94,79568\n",
    "Paul Millsap,Denver Nuggets,PF,2/10/85,30000000\n",
    "Furkan Korkmaz,Philadelphia 76ers,SG,7/24/97,1620564\n",
    "Trey Burke,Philadelphia 76ers,PG,11/12/92,2028594\n",
    "Bradley Beal,Washington Wizards,SG,6/28/93,27093018\n",
    "Thomas Bryant,Washington Wizards,C,7/31/97,8000000\n",
    "Dean Wade,Cleveland Cavaliers,PF,11/20/96,79568\n",
    "Chris Paul,Oklahoma City Thunder,PG,5/6/85,38506482\n",
    "Josh Hart,New Orleans Pelicans,SF,3/6/95,1934160\n",
    "LaMarcus Aldridge,San Antonio Spurs,C,7/19/85,26000000\n",
    "DaQuan Jeffries,Sacramento Kings,SG,8/30/97,898310\n",
    "Hamidou Diallo,Oklahoma City Thunder,SF,7/31/98,1416852\n",
    "Jamal Murray,Denver Nuggets,PG,2/23/97,4444746\n",
    "Darius Bazley,Oklahoma City Thunder,PF,6/12/00,2284800\n",
    "Robert Franks,Charlotte Hornets,F,12/18/96,79568\n",
    "Gerald Green,Houston Rockets,SF,1/26/86,2564753\n",
    "Thaddeus Young,Chicago Bulls,PF,6/21/88,12900000\n",
    "Sviatoslav Mykhailiuk,Detroit Pistons,SF,6/10/97,1416852\n",
    "Ian Mahinmi,Washington Wizards,C,11/5/86,15450051\n",
    "Deonte Burton,Oklahoma City Thunder,SG,1/31/94,1416852\n",
    "Markelle Fultz,Orlando Magic,PG,5/29/98,9745200\n",
    "Aaron Gordon,Orlando Magic,PF,9/16/95,19863636\n",
    "Dzanan Musa,Brooklyn Nets,SF,5/8/99,1911600\n",
    "Patrick McCaw,Toronto Raptors,SF,10/25/95,4000000\n",
    "Bismack Biyombo,Charlotte Hornets,C,8/28/92,17000000\n",
    "JaVale McGee,Los Angeles Lakers,C,1/19/88,4000000\n",
    "Juwan Morgan,Utah Jazz,F,4/17/97,796806\n",
    "Marc Gasol,Toronto Raptors,C,1/29/85,25595700\n",
    "Marcus Smart,Boston Celtics,PG,3/6/94,12553571\n",
    "Rudy Gobert,Utah Jazz,C,6/26/92,24258427\n",
    "Wesley Iwundu,Orlando Magic,SF,12/20/94,1618520\n",
    "Dwight Powell,Dallas Mavericks,C,7/20/91,10259375\n",
    "Goran Dragic,Miami Heat,PG,5/6/86,19217900\n",
    "Theo Pinson,Brooklyn Nets,SG,11/5/95,1445697\n",
    "Danilo Gallinari,Oklahoma City Thunder,PF,8/8/88,22615559\n",
    "Joe Ingles,Utah Jazz,PF,10/2/87,11454546\n",
    "Jarrett Culver,Minnesota Timberwolves,SG,2/20/99,5813640\n",
    "Robert Covington,Minnesota Timberwolves,PF,12/14/90,11301219\n",
    "Damyean Dotson,New York Knicks,SG,5/6/94,1618520\n",
    "Patrick Beverley,Los Angeles Clippers,PG,7/12/88,12345680\n",
    "Kevin Love,Cleveland Cavaliers,C,9/7/88,28942830\n",
    "Quinn Cook,Los Angeles Lakers,PG,3/23/93,3000000\n",
    "Justin Wright-Foreman,Utah Jazz,G,10/27/97,79568\n",
    "Noah Vonleh,Minnesota Timberwolves,C,8/24/95,2000000\n",
    "Tyus Jones,Memphis Grizzlies,PG,5/10/96,9258000\n",
    "Dewayne Dedmon,Sacramento Kings,C,8/12/89,13333334\n",
    "Malcolm Brogdon,Indiana Pacers,PG,12/11/92,20000000\n",
    "Ben McLemore,Houston Rockets,SG,2/11/93,2028594\n",
    "Wilson Chandler,Brooklyn Nets,PF,5/10/87,2564753\n",
    "Isaac Bonga,Washington Wizards,PG,11/8/99,1416852\n",
    "Adam Mokoka,Chicago Bulls,G,7/18/98,79568\n",
    "Lonzo Ball,New Orleans Pelicans,PG,10/27/97,8719320\n",
    "Jalen Brunson,Dallas Mavericks,PG,8/31/96,1416852\n",
    "John Collins,Atlanta Hawks,PF,9/23/97,2686560\n",
    "Marvin Williams,Charlotte Hornets,PF,6/19/86,15006250\n",
    "Brad Wanamaker,Boston Celtics,PG,7/25/89,1445697\n",
    "Donte DiVincenzo,Milwaukee Bucks,SG,1/31/97,2905800\n",
    "Omari Spellman,Golden State Warriors,PF,7/21/97,1897800\n",
    "Joe Harris,Brooklyn Nets,SF,9/6/91,7666667\n",
    "Royce O'Neale,Utah Jazz,PF,6/5/93,1618520\n",
    "Deandre Ayton,Phoenix Suns,C,7/23/98,9562920\n",
    "Cory Joseph,Sacramento Kings,PG,8/20/91,12000000\n",
    "Malcolm Miller,Toronto Raptors,SF,3/6/93,1588231\n",
    "Justise Winslow,Miami Heat,PF,3/26/96,13000000\n",
    "Kevin Durant,Brooklyn Nets,PF,9/29/88,37199000\n",
    "Evan Fournier,Orlando Magic,SF,10/29/92,17000000\n",
    "Chris Silva,Miami Heat,PF,9/19/96,79568\n",
    "Vince Carter,Atlanta Hawks,PF,1/26/77,2564753\n",
    "Cody Zeller,Charlotte Hornets,C,10/5/92,14471910\n",
    "Brian Bowen,Indiana Pacers,SG,10/2/98,79568\n",
    "Aaron Holiday,Indiana Pacers,PG,9/30/96,2239200\n",
    "Troy Daniels,Los Angeles Lakers,SG,7/15/91,2028594\n",
    "Buddy Hield,Sacramento Kings,SG,12/17/92,4861207\n",
    "Terance Mann,Los Angeles Clippers,SG,10/18/96,1000000\n",
    "John Konchar,Memphis Grizzlies,SG,3/22/96,79568\n",
    "KZ Okpala,Miami Heat,SF,4/28/99,898310\n",
    "Denzel Valentine,Chicago Bulls,SF,11/16/93,3377568\n",
    "Marquese Chriss,Golden State Warriors,PF,7/2/97,1678854\n",
    "Anthony Davis,Los Angeles Lakers,C,3/11/93,27093019\n",
    "Nemanja Bjelica,Sacramento Kings,PF,5/9/88,6825000\n",
    "Chandler Parsons,Atlanta Hawks,SF,10/25/88,25102512\n",
    "Courtney Lee,Dallas Mavericks,SG,10/3/85,12759670\n",
    "Myles Turner,Indiana Pacers,C,3/24/96,18000000\n",
    "Kyle O'Quinn,Philadelphia 76ers,C,3/26/90,2174318\n",
    "Bryn Forbes,San Antonio Spurs,SG,7/23/93,2875000\n",
    "Duncan Robinson,Miami Heat,PF,4/22/94,1416852\n",
    "Devin Booker,Phoenix Suns,SG,10/30/96,27285000\n",
    "Grant Williams,Boston Celtics,PF,11/30/98,2379840\n",
    "DeMarcus Cousins,Los Angeles Lakers,C,8/13/90,3500000\n",
    "DeMar DeRozan,San Antonio Spurs,SF,8/7/89,27739975\n",
    "Kristaps Porzingis,Dallas Mavericks,PF,8/2/95,27285000\n",
    "Brandon Knight,Cleveland Cavaliers,PG,12/2/91,15643750\n",
    "Thabo Sefolosha,Houston Rockets,PF,5/2/84,2564753\n",
    "David Nwaba,Brooklyn Nets,SF,1/14/93,1678854\n",
    "Quinndary Weatherspoon,San Antonio Spurs,G,9/10/96,79568\n",
    "Dewan Hernandez,Toronto Raptors,C,12/9/96,898310\n",
    "Isaiah Thomas,Washington Wizards,PG,2/7/89,2320044\n",
    "Bruce Brown,Detroit Pistons,SG,8/15/96,1416852\n",
    "Keldon Johnson,San Antonio Spurs,SF,10/11/99,1950600\n",
    "Damian Jones,Atlanta Hawks,C,6/30/95,2305057\n",
    "Luguentz Dort,Oklahoma City Thunder,G,4/19/99,79568\n",
    "Terence Davis,Toronto Raptors,SG,5/16/97,898310\n",
    "Chandler Hutchison,Chicago Bulls,SF,4/26/96,2332320\n",
    "Steven Adams,Oklahoma City Thunder,C,7/20/93,25842697\n",
    "Jordan Poole,Golden State Warriors,SG,6/19/99,1964760\n",
    "Sekou Doumbouya,Detroit Pistons,SF,12/23/00,3285120\n",
    "Zion Williamson,New Orleans Pelicans,F,7/6/00,9757440\n",
    "Mike Muscala,Oklahoma City Thunder,C,7/1/91,2028594\n",
    "Skal Labissiere,Portland Trail Blazers,C,3/18/96,2338846\n",
    "Meyers Leonard,Miami Heat,C,2/27/92,11286515\n",
    "Reggie Jackson,Detroit Pistons,PG,4/16/90,18086956\n",
    "Alfonzo McKinnie,Cleveland Cavaliers,SF,9/17/92,1588231\n",
    "Yuta Watanabe,Memphis Grizzlies,SF,10/13/94,79568\n",
    "Kentavious Caldwell-Pope,Los Angeles Lakers,SG,2/18/93,8089282\n",
    "Kelan Martin,Minnesota Timberwolves,SF,8/3/95,79568\n",
    "OG Anunoby,Toronto Raptors,SF,7/17/97,2281800\n",
    "Tyler Herro,Miami Heat,SG,1/20/00,3640200\n",
    "Richaun Holmes,Sacramento Kings,C,10/15/93,4767000\n",
    "Tyson Chandler,Houston Rockets,C,10/2/82,2564753\n",
    "Solomon Hill,Memphis Grizzlies,SF,3/18/91,13290395\n",
    "Keita Bates-Diop,Minnesota Timberwolves,SF,1/23/96,1416852\n",
    "Kelly Olynyk,Miami Heat,C,4/19/91,12667885\n",
    "Jaxson Hayes,New Orleans Pelicans,C,5/23/00,4862040\n",
    "CJ McCollum,Portland Trail Blazers,SG,9/19/91,27556959\n",
    "Darius Miller,New Orleans Pelicans,SF,3/21/90,7250000\n",
    "Luka Doncic,Dallas Mavericks,PG,2/28/99,7683360\n",
    "DeMarre Carroll,San Antonio Spurs,PF,7/27/86,7000000\n",
    "Cristiano Felicio,Chicago Bulls,C,7/7/92,8156500\n",
    "Zach LaVine,Chicago Bulls,PG,3/10/95,19500000\n",
    "Tremont Waters,Boston Celtics,PG,1/10/98,79568\n",
    "Dejounte Murray,San Antonio Spurs,PG,9/19/96,2321735\n",
    "Jerome Robinson,Los Angeles Clippers,SG,2/22/97,3567720\n",
    "Rudy Gay,San Antonio Spurs,PF,8/17/86,14500000\n",
    "Ryan Broekhoff,Dallas Mavericks,SG,8/23/90,1416852\n",
    "Jake Layman,Minnesota Timberwolves,PF,3/7/94,3581986\n",
    "Cameron Johnson,Phoenix Suns,PF,3/3/96,4033440\n",
    "Allen Crabbe,Atlanta Hawks,SG,4/9/92,18500000\n",
    "Justin James,Sacramento Kings,SG,1/24/97,898310\n",
    "Emmanuel Mudiay,Utah Jazz,PG,3/5/96,1737145\n",
    "Avery Bradley,Los Angeles Lakers,PG,11/26/90,6767000\n",
    "Victor Oladipo,Indiana Pacers,PG,5/4/92,21000000\n",
    "Caleb Martin,Charlotte Hornets,SF,9/28/95,898310\n",
    "Coby White,Chicago Bulls,SG,2/16/00,5307120\n",
    "Isaiah Hartenstein,Houston Rockets,C,5/5/98,1416852\n",
    "Will Barton,Denver Nuggets,SF,1/6/91,12776786\n",
    "Dwayne Bacon,Charlotte Hornets,SG,8/30/95,1618520\n",
    "Harrison Barnes,Sacramento Kings,PF,5/30/92,24147727\n",
    "Tim Frazier,Detroit Pistons,PG,11/1/90,1620564\n",
    "Jimmy Butler,Miami Heat,SF,9/14/89,32742000\n",
    "Gary Harris,Denver Nuggets,SG,9/14/94,17839286\n",
    "Thon Maker,Detroit Pistons,C,2/25/97,3569643\n",
    "Shai Gilgeous-Alexander,Oklahoma City Thunder,PG,7/12/98,3952920\n",
    "Hassan Whiteside,Portland Trail Blazers,C,6/13/89,27093018\n",
    "Karl-Anthony Towns,Minnesota Timberwolves,C,11/15/95,27285000\n",
    "Ky Bowman,Golden State Warriors,PG,6/16/97,79568\n",
    "Ben Simmons,Philadelphia 76ers,PG,7/20/96,8113929\n",
    "Terrence Ross,Orlando Magic,SF,2/5/91,12500000\n",
    "Jordan McLaughlin,Minnesota Timberwolves,PG,4/9/96,79568\n",
    "Daniel Theis,Boston Celtics,C,4/4/92,5000000\n",
    "Jonathan Isaac,Orlando Magic,PF,10/3/97,5806440\n",
    "Cheick Diallo,Phoenix Suns,C,9/13/96,1678854\n",
    "Serge Ibaka,Toronto Raptors,C,9/18/89,23271604\n",
    "Amile Jefferson,Orlando Magic,PF,5/7/93,1339515\n",
    "Cam Reddish,Atlanta Hawks,SF,9/1/99,4245720\n",
    "De'Anthony Melton,Memphis Grizzlies,PG,5/28/98,1416852\n",
    "Udonis Haslem,Miami Heat,C,6/9/80,2564753\n",
    "Charlie Brown,Atlanta Hawks,SG,2/2/97,79568\n",
    "Elie Okobo,Phoenix Suns,PG,10/23/97,1416852\n",
    "Gordon Hayward,Boston Celtics,PF,3/23/90,32700690\n",
    "Marco Belinelli,San Antonio Spurs,SF,3/25/86,5846154\n",
    "Javonte Green,Boston Celtics,SF,7/23/93,898310\n",
    "Rondae Hollis-Jefferson,Toronto Raptors,SF,1/3/95,2500000\n",
    "Carmelo Anthony,Portland Trail Blazers,PF,5/29/84,2159029\n",
    "Danny Green,Los Angeles Lakers,SG,6/22/87,14634147\n",
    "Stephen Curry,Golden State Warriors,PG,3/14/88,40231758\n",
    "Eric Paschall,Golden State Warriors,PF,11/4/96,898310\n",
    "Daniel Gafford,Chicago Bulls,C,10/1/98,898310\n",
    "Anfernee Simons,Portland Trail Blazers,SG,6/8/99,2149560\n",
    "Frank Kaminsky,Phoenix Suns,C,4/4/93,4767000\n",
    "Luke Kennard,Detroit Pistons,SG,6/24/96,3827160\n",
    "Josh Okogie,Minnesota Timberwolves,SG,9/1/98,2530680\n",
    "Rodney Hood,Portland Trail Blazers,SF,10/20/92,5718000\n",
    "De'Andre Hunter,Atlanta Hawks,SF,12/2/97,7068360\n",
    "Klay Thompson,Golden State Warriors,SG,2/8/90,32742000\n",
    "Jrue Holiday,New Orleans Pelicans,PG,6/12/90,26131111\n",
    "PJ Dozier,Denver Nuggets,PG,10/25/96,79568\n",
    "Andre Drummond,Detroit Pistons,C,8/10/93,27093018\n",
    "Jared Harper,Phoenix Suns,PG,9/14/97,79568\n",
    "Russell Westbrook,Houston Rockets,PG,11/12/88,38506482\n",
    "Tony Bradley,Utah Jazz,C,1/8/98,1962360\n",
    "Oshae Brissett,Toronto Raptors,SF,6/20/98,79568\n",
    "Gary Clark,Houston Rockets,PF,11/16/94,1416852\n",
    "Pascal Siakam,Toronto Raptors,PF,4/2/94,2351838\n",
    "Eric Bledsoe,Milwaukee Bucks,PG,12/9/89,15625000\n",
    "Tomas Satoransky,Chicago Bulls,PG,10/30/91,10000000\n",
    "Davis Bertans,Washington Wizards,PF,11/12/92,7000000\n",
    "Amir Coffey,Los Angeles Clippers,G,6/17/97,79568\n",
    "Ignas Brazdeikis,New York Knicks,SF,1/8/99,898310\n",
    "Ivan Rabb,New York Knicks,PF,2/4/97,79568\n",
    "Khris Middleton,Milwaukee Bucks,SF,8/12/91,30603448\n",
    "Kevin Knox,New York Knicks,PF,8/11/99,4380120\n",
    "Jeff Green,Utah Jazz,PF,8/28/86,2564753\n",
    "Ersan Ilyasova,Milwaukee Bucks,PF,5/15/87,7000000\n",
    "Caleb Swanigan,Sacramento Kings,PF,4/18/97,2033160\n",
    "Al Horford,Philadelphia 76ers,C,6/3/86,28000000\n",
    "Clint Capela,Houston Rockets,C,5/18/94,16896552\n",
    "Georges Niang,Utah Jazz,PF,6/17/93,1645357\n",
    "Wesley Matthews,Milwaukee Bucks,SF,10/14/86,2564753\n",
    "Rajon Rondo,Los Angeles Lakers,PG,2/22/86,2564753\n",
    "Delon Wright,Dallas Mavericks,PG,4/26/92,9473684\n",
    "Ja Morant,Memphis Grizzlies,PG,8/10/99,8730240\n",
    "Fred VanVleet,Toronto Raptors,PG,2/25/94,9346153\n",
    "Brandon Clarke,Memphis Grizzlies,PF,9/19/96,2478840\n",
    "Miye Oni,Utah Jazz,SG,8/4/97,898310\n",
    "Julius Randle,New York Knicks,C,11/29/94,18000000\n",
    "Glenn Robinson III,Golden State Warriors,SF,1/8/94,1882867\n",
    "Dillon Brooks,Memphis Grizzlies,SF,1/22/96,1618520\n",
    "Zylan Cheatham,New Orleans Pelicans,SF,11/17/95,79568\n",
    "Markieff Morris,Detroit Pistons,PF,9/2/89,3200000\n",
    "Malik Beasley,Denver Nuggets,SG,11/26/96,2731713\n",
    "John Wall,Washington Wizards,PG,9/6/90,38199000\n",
    "Vlatko Cancar,Denver Nuggets,SF,4/10/97,898310\n",
    "Alize Johnson,Indiana Pacers,PF,4/22/96,1416852\n",
    "Andrew Wiggins,Minnesota Timberwolves,SF,2/23/95,27504630\n",
    "Khyri Thomas,Detroit Pistons,SG,5/8/96,1416852\n",
    "Mitchell Robinson,New York Knicks,C,4/1/98,1559712\n",
    "Damian Lillard,Portland Trail Blazers,PG,7/15/90,29802321\n",
    "Nassir Little,Portland Trail Blazers,PF,2/11/00,2105520\n",
    "Mikal Bridges,Phoenix Suns,SF,8/30/96,4161000\n",
    "Kyle Anderson,Memphis Grizzlies,PF,9/20/93,9073050\n",
    "Garrett Temple,Brooklyn Nets,PG,5/8/86,4767000\n",
    "Kyle Korver,Milwaukee Bucks,PF,3/17/81,6004753\n",
    "Al-Farouq Aminu,Orlando Magic,PF,9/21/90,9258000\n",
    "James Harden,Houston Rockets,PG,8/26/89,38199000\n",
    "Derrick White,San Antonio Spurs,PG,7/2/94,1948080\n",
    "JaKarr Sampson,Indiana Pacers,SF,3/20/93,1737145\n",
    "Dario Saric,Phoenix Suns,PF,4/8/94,3481985\n",
    "Ivica Zubac,Los Angeles Clippers,C,3/18/97,6481482\n",
    "Juan Hernangomez,Denver Nuggets,PF,9/28/95,3321029\n",
    "Jarrell Brantley,Utah Jazz,PF,6/7/96,79568\n",
    "Eric Gordon,Houston Rockets,PG,12/25/88,14057730\n",
    "Naz Reid,Minnesota Timberwolves,F,8/26/99,898310\n",
    "Justin Robinson,Washington Wizards,PG,10/12/97,898310\n",
    "Grayson Allen,Memphis Grizzlies,SG,10/8/95,2429400\n",
    "Trevor Ariza,Sacramento Kings,SF,6/30/85,12200000\n",
    "Brandon Goodwin,Atlanta Hawks,PG,10/2/95,79568\n",
    "E'Twaun Moore,New Orleans Pelicans,PG,2/25/89,8664928\n",
    "Mario Hezonja,Portland Trail Blazers,PF,2/25/95,1737145\n",
    "Henry Ellenson,Brooklyn Nets,PF,1/13/97,79568\n",
    "Johnathan Motley,Los Angeles Clippers,PF,5/4/95,79568\n",
    "James Ennis,Philadelphia 76ers,SF,7/1/90,1882867\n",
    "Andre Roberson,Oklahoma City Thunder,SF,12/4/91,10740740\n",
    "Garrison Mathews,Washington Wizards,SG,10/24/96,79568\n",
    "Jahlil Okafor,New Orleans Pelicans,C,12/15/95,1702486\n",
    "Mfiondu Kabengele,Los Angeles Clippers,C,8/14/97,1977000\n",
    "Treveon Graham,Minnesota Timberwolves,SG,10/28/93,1645357\n",
    "Seth Curry,Dallas Mavericks,PG,8/23/90,7461380\n",
    "D'Angelo Russell,Golden State Warriors,PG,2/23/96,27285000\n",
    "Justin Holiday,Indiana Pacers,SG,4/5/89,4767000\n",
    "Tyrone Wallace,Atlanta Hawks,PG,6/10/94,1620564\n",
    "Miles Bridges,Charlotte Hornets,SF,3/21/98,3755400\n",
    "Bogdan Bogdanovic,Sacramento Kings,SG,8/18/92,8529386\n",
    "Matt Thomas,Toronto Raptors,SG,8/4/94,898310\n",
    "Jordan Bell,Minnesota Timberwolves,C,1/7/95,1620564\n",
    "Wenyen Gabriel,Sacramento Kings,PF,3/26/97,79568\n",
    "Tony Snell,Detroit Pistons,SF,11/10/91,11392857\n",
    "Shaquille Harrison,Chicago Bulls,PG,10/6/93,1620564\n",
    "Yogi Ferrell,Sacramento Kings,PG,5/9/93,3150000\n",
    "Mike Scott,Philadelphia 76ers,PF,7/16/88,4767000\n",
    "Jarred Vanderbilt,Denver Nuggets,PF,4/3/99,1416852\n",
    "Jeff Teague,Minnesota Timberwolves,PG,6/10/88,19000000\n",
    "Zach Norvell,Los Angeles Lakers,SG,12/9/97,79568\n",
    "Maxi Kleber,Dallas Mavericks,C,1/29/92,8000000\n",
    "Matisse Thybulle,Philadelphia 76ers,SG,3/4/97,2582160\n",
    "Ryan Arcidiacono,Chicago Bulls,PG,3/26/94,3000000\n",
    "Wayne Ellington,New York Knicks,SG,11/29/87,8000000\n",
    "Kawhi Leonard,Los Angeles Clippers,SF,6/29/91,32742000\n",
    "Montrezl Harrell,Los Angeles Clippers,C,1/26/94,6000000\n",
    "Jusuf Nurkic,Portland Trail Blazers,C,8/23/94,12000000\n",
    "Matthew Dellavedova,Cleveland Cavaliers,PG,9/8/90,9607500\n",
    "Cody Martin,Charlotte Hornets,SF,9/28/95,1173310\n",
    "Zhaire Smith,Philadelphia 76ers,SG,6/4/99,3058800\n",
    "RJ Barrett,New York Knicks,SG,6/14/00,7839960\n",
    "Lonnie Walker,San Antonio Spurs,SG,12/14/98,2764200\n",
    "Taurean Prince,Brooklyn Nets,SF,3/22/94,3481985\n",
    "Elfrid Payton,New York Knicks,PG,2/22/94,8000000\n",
    "Blake Griffin,Detroit Pistons,PF,3/16/89,34449964\n",
    "Marko Guduric,Memphis Grizzlies,SG,3/8/95,2625000\n",
    "Zach Collins,Portland Trail Blazers,C,11/19/97,4240200\n",
    "Stanley Johnson,Toronto Raptors,PF,5/29/96,3623000\n",
    "Boban Marjanovic,Dallas Mavericks,C,8/15/88,3500000\n",
    "Josh Magette,Orlando Magic,PG,11/28/89,79568\n",
    "Kyle Lowry,Toronto Raptors,PG,3/25/86,33296296\n",
    "Darius Garland,Cleveland Cavaliers,PG,1/26/00,6400920\n",
    "Frank Jackson,New Orleans Pelicans,PG,5/4/98,1618520\n",
    "Dragan Bender,Milwaukee Bucks,PF,11/17/97,1678854\n",
    "Kenrich Williams,New Orleans Pelicans,PF,12/2/94,1416852\n",
    "Jerami Grant,Denver Nuggets,PF,3/12/94,9346153\n",
    "Allonzo Trier,New York Knicks,PG,1/17/96,3551100\n",
    "Pat Connaughton,Milwaukee Bucks,SG,1/6/93,1723050\n",
    "Domantas Sabonis,Indiana Pacers,C,5/3/96,3529554\n",
    "Dylan Windler,Cleveland Cavaliers,GF,9/22/96,2035800\n",
    "Antonius Cleveland,Dallas Mavericks,SG,2/2/94,79568\n",
    "Damion Lee,Golden State Warriors,SG,10/21/92,79568\n",
    "Khem Birch,Orlando Magic,C,9/28/92,3000000\n",
    "Aron Baynes,Phoenix Suns,C,12/9/86,5453280\n",
    "Kemba Walker,Boston Celtics,PG,5/8/90,32742000\n",
    "Nerlens Noel,Oklahoma City Thunder,C,4/10/94,1882867\n",
    "Jabari Parker,Atlanta Hawks,PF,3/15/95,6500000\n",
    "Carsen Edwards,Boston Celtics,SG,3/12/98,1228026\n",
    "Anthony Tolliver,Portland Trail Blazers,PF,6/1/85,2564753\n",
    "Lauri Markkanen,Chicago Bulls,PF,5/22/97,5300400\n",
    "Kris Dunn,Chicago Bulls,PG,3/18/94,5348007\n",
    "Reggie Bullock,New York Knicks,SF,3/16/91,4000000\n",
    "Mike Conley,Utah Jazz,PG,10/11/87,32511623\n",
    "Jaylen Nowell,Minnesota Timberwolves,SG,7/9/99,1400000\n",
    "Gorgui Dieng,Minnesota Timberwolves,C,1/18/90,16229213\n",
    "Patrick Patterson,Los Angeles Clippers,PF,3/14/89,3068660\n",
    "Jarrett Allen,Brooklyn Nets,C,4/21/98,2376840\n",
    "Bobby Portis,New York Knicks,C,2/10/95,15000000\n",
    "Joel Embiid,Philadelphia 76ers,C,3/16/94,27504630\n",
    "Jonas Valanciunas,Memphis Grizzlies,C,5/6/92,16000000\n",
    "Chris Chiozza,Washington Wizards,PG,11/21/95,79568\n",
    "Kent Bazemore,Portland Trail Blazers,SF,7/1/89,19269663\n",
    "Tristan Thompson,Cleveland Cavaliers,C,3/13/91,18539130\n",
    "Mason Plumlee,Denver Nuggets,C,3/5/90,14041096\n",
    "Shabazz Napier,Minnesota Timberwolves,PG,7/14/91,1845301\n",
    "Edmond Sumner,Indiana Pacers,PG,12/31/95,2000000\n",
    "Alex Len,Atlanta Hawks,C,6/16/93,4160000\n",
    "Josh Richardson,Philadelphia 76ers,SF,9/15/93,10116576\n",
    "Bojan Bogdanovic,Utah Jazz,SF,4/18/89,17000000\n",
    "Iman Shumpert,Brooklyn Nets,PG,6/26/90,2031676\n",
    "Daryl Macon,Miami Heat,SG,11/29/95,79568\n",
    "Rodney McGruder,Los Angeles Clippers,SG,7/29/91,4807693\n",
    "Bam Adebayo,Miami Heat,C,7/18/97,3454080\n",
    "Jacob Evans,Golden State Warriors,SG,6/18/97,1928280\n",
    "Nigel Williams-Goss,Utah Jazz,PG,9/16/94,1500000\n",
    "Terrance Ferguson,Oklahoma City Thunder,SF,5/17/98,2475840\n",
    "Michael Carter-Williams,Orlando Magic,PG,10/10/91,2028594\n",
    "Bol Bol,Denver Nuggets,C,11/16/99,79568\n",
    "Willie Cauley-Stein,Golden State Warriors,C,8/18/93,2177483\n",
    "Nikola Vucevic,Orlando Magic,C,10/24/90,28000000\n",
    "Nicolas Batum,Charlotte Hornets,SF,12/14/88,25565217\n",
    "Kyrie Irving,Brooklyn Nets,PG,3/23/92,31742000\n",
    "Jeremy Lamb,Indiana Pacers,SF,5/30/92,10500000\n",
    "Donovan Mitchell,Utah Jazz,SG,9/7/96,3635760\n",
    "Thanasis Antetokounmpo,Milwaukee Bucks,SF,7/18/92,1445697\n",
    "James Johnson,Miami Heat,PF,2/20/87,15349400\n",
    "Monte Morris,Denver Nuggets,PG,6/27/95,1588231\n",
    "Terry Rozier,Charlotte Hornets,PG,3/17/94,19894737\n",
    "DeAndre Jordan,Brooklyn Nets,C,7/21/88,9881598\n",
    "Jae Crowder,Memphis Grizzlies,SF,7/6/90,7815533\n",
    "Josh Gray,New Orleans Pelicans,PG,9/9/93,79568\n",
    "Goga Bitadze,Indiana Pacers,C,7/20/99,2816760\n",
    "Kobi Simmons,Charlotte Hornets,PG,7/4/97,79568\n",
    "Derrick Favors,New Orleans Pelicans,C,7/15/91,17650000\n",
    "Landry Shamet,Los Angeles Clippers,SG,3/13/97,1995120\n",
    "Jalen McDaniels,Charlotte Hornets,PF,1/31/98,898310\n",
    "Bruno Caboclo,Memphis Grizzlies,SF,9/21/95,1845301\n",
    "Drew Eubanks,San Antonio Spurs,PF,2/1/97,79568\n",
    "Raul Neto,Philadelphia 76ers,PG,5/19/92,1737145\n",
    "Jalen Lecque,Phoenix Suns,G,6/13/00,898310\n",
    "Giannis Antetokounmpo,Milwaukee Bucks,PF,12/6/94,25842697\n",
    "Malik Monk,Charlotte Hornets,SG,2/4/98,4028400\n",
    "Tacko Fall,Boston Celtics,C,12/10/95,79568\n",
    "Justin Jackson,Dallas Mavericks,PF,3/28/95,3280920\n",
    "Paul George,Los Angeles Clippers,SF,5/2/90,33005556\n",
    "Jayson Tatum,Boston Celtics,PF,3/3/98,7830000\n",
    "Admiral Schofield,Washington Wizards,SF,3/30/97,1000000\n",
    "Louis King,Detroit Pistons,F,4/6/99,79568\n",
    "Kostas Antetokounmpo,Los Angeles Lakers,PF,11/20/97,79568\n",
    "Rodions Kurucs,Brooklyn Nets,PF,2/5/98,1699236\n",
    "Spencer Dinwiddie,Brooklyn Nets,PG,4/6/93,10605600\n",
    "Doug McDermott,Indiana Pacers,PF,1/3/92,7333333\n",
    "Romeo Langford,Boston Celtics,SG,10/25/99,3458400\n",
    "Caris LeVert,Brooklyn Nets,SF,8/25/94,2625717\n",
    "Michael Kidd-Gilchrist,Charlotte Hornets,PF,9/26/93,13000000\n",
    "LeBron James,Los Angeles Lakers,PF,12/30/84,37436858\n",
    "Taj Gibson,New York Knicks,C,6/24/85,9000000\n",
    "Ty Jerome,Phoenix Suns,G,7/8/97,2193480\n",
    "Chris Clemons,Houston Rockets,SG,7/23/97,79568\n",
    "Luke Kornet,Chicago Bulls,C,7/15/95,2250000\n",
    "Trey Lyles,San Antonio Spurs,PF,11/5/95,5500000\n",
    "Sterling Brown,Milwaukee Bucks,SF,2/10/95,1618520\n",
    "Andre Iguodala,Memphis Grizzlies,SF,1/28/84,17185185\n",
    "Vincent Poirier,Boston Celtics,C,10/17/93,2505793\n",
    "Frank Ntilikina,New York Knicks,PG,7/28/98,4855800\n",
    "Jordan McRae,Washington Wizards,PG,3/28/91,1645357\n",
    "Enes Kanter,Boston Celtics,C,5/20/92,4767000\n",
    "John Henson,Cleveland Cavaliers,C,12/28/90,9732396\n",
    "Jaylen Brown,Boston Celtics,SF,10/24/96,6534829\n",
    "Jonah Bolden,Philadelphia 76ers,PF,1/2/96,1698450\n",
    "Chimezie Metu,San Antonio Spurs,PF,3/22/97,1416852\n",
    "Tobias Harris,Philadelphia 76ers,PF,7/15/92,32742000\n",
    "Semi Ojeleye,Boston Celtics,PF,12/5/94,1618520\n",
    "Jevon Carter,Phoenix Suns,PG,9/14/95,1416852\n",
    "Brandon Ingram,New Orleans Pelicans,PF,9/2/97,7265485\n",
    "Moritz Wagner,Washington Wizards,C,4/26/97,2063520\n",
    "Dorian Finney-Smith,Dallas Mavericks,PF,5/4/93,4000000\n",
    "Danuel House,Houston Rockets,SF,6/7/93,3540000\n",
    "Nicolo Melli,New Orleans Pelicans,C,1/26/91,4102564\n",
    "Talen Horton-Tucker,Los Angeles Lakers,GF,11/25/00,898310\n",
    "Ed Davis,Utah Jazz,C,6/5/89,4767000\n",
    "Kyle Guy,Sacramento Kings,G,8/11/97,79568\n",
    "Kadeem Allen,New York Knicks,PG,1/15/93,79568\n",
    "Dante Exum,Utah Jazz,PG,7/13/95,9600000\n",
    "Abdel Nader,Oklahoma City Thunder,SF,9/25/93,1618520\n",
    "Bruno Fernando,Atlanta Hawks,C,8/15/98,1400000\n",
    "Dion Waiters,Miami Heat,SG,12/10/91,12100000\n",
    "Jared Dudley,Los Angeles Lakers,PF,7/10/85,2564753\n",
    "Max Strus,Chicago Bulls,SG,3/28/96,79568\n",
    "Kevon Looney,Golden State Warriors,C,2/6/96,4464286\n",
    "Willy Hernangomez,Charlotte Hornets,C,5/27/94,1557250\n",
    "Melvin Frazier,Orlando Magic,SG,8/30/96,1416852\n",
    "Austin Rivers,Houston Rockets,PG,8/1/92,2174310\n",
    "Harry Giles,Sacramento Kings,PF,4/22/98,2578800\n",
    "Robin Lopez,Milwaukee Bucks,C,4/1/88,4767000\n",
    "Collin Sexton,Cleveland Cavaliers,PG,1/4/99,4764960\n",
    "Ricky Rubio,Phoenix Suns,PG,10/21/90,16200000"
   ]
  },
  {
   "cell_type": "code",
   "execution_count": null,
   "id": "6d051ac0-e44c-48f7-8f62-081dfb087a90",
   "metadata": {},
   "outputs": [],
   "source": [
    "nba = pd.read_csv(\"datas/nba.csv\", parse_dates=[\"Birthday\"])\n",
    "nba"
   ]
  },
  {
   "cell_type": "code",
   "execution_count": null,
   "id": "dc55e354-a269-4a75-bc83-1875d0b46298",
   "metadata": {},
   "outputs": [],
   "source": [
    "nba.count()"
   ]
  },
  {
   "cell_type": "code",
   "execution_count": null,
   "id": "89a2118a-b599-45fe-a501-01a084d2ddfb",
   "metadata": {},
   "outputs": [],
   "source": [
    "nba.nunique()"
   ]
  },
  {
   "cell_type": "code",
   "execution_count": null,
   "id": "fce7df43-d1b3-4423-ba9b-da105f43c986",
   "metadata": {},
   "outputs": [],
   "source": [
    "nba_type = nba.dtypes\n",
    "nba_type.values"
   ]
  },
  {
   "cell_type": "code",
   "execution_count": null,
   "id": "7451f229-098a-4e2a-b2a7-b3122cf78463",
   "metadata": {},
   "outputs": [],
   "source": [
    "nba_type.value_counts()"
   ]
  },
  {
   "cell_type": "code",
   "execution_count": null,
   "id": "1aed8185-2b8f-424c-9694-e804c3440aed",
   "metadata": {},
   "outputs": [],
   "source": [
    "nba.ndim"
   ]
  },
  {
   "cell_type": "code",
   "execution_count": null,
   "id": "dc951e86-30b8-4d5d-874b-44b017ae6719",
   "metadata": {},
   "outputs": [],
   "source": [
    "nba.shape"
   ]
  },
  {
   "cell_type": "code",
   "execution_count": null,
   "id": "c254c47c-5228-437f-aa24-fa96fb377d85",
   "metadata": {},
   "outputs": [],
   "source": [
    "nba.columns"
   ]
  },
  {
   "cell_type": "code",
   "execution_count": null,
   "id": "6e83973f-89db-4bd5-8edb-1dc444074936",
   "metadata": {},
   "outputs": [],
   "source": [
    "nba.index"
   ]
  },
  {
   "cell_type": "code",
   "execution_count": null,
   "id": "f1aec281-ebe7-4d20-9d63-a8c3d24d4671",
   "metadata": {},
   "outputs": [],
   "source": [
    "len(nba)"
   ]
  },
  {
   "cell_type": "code",
   "execution_count": null,
   "id": "8a0ccbea-ea63-4289-98bf-e590fd8d0a19",
   "metadata": {},
   "outputs": [],
   "source": [
    "nba.nunique()"
   ]
  },
  {
   "cell_type": "code",
   "execution_count": null,
   "id": "64f60d99-f2ce-42e5-bef1-9772c786bc2a",
   "metadata": {},
   "outputs": [],
   "source": [
    "len(nba) - nba.nunique()"
   ]
  },
  {
   "cell_type": "code",
   "execution_count": null,
   "id": "375daa07-77e0-4120-baad-225e8904266c",
   "metadata": {},
   "outputs": [],
   "source": [
    "nba.columns"
   ]
  },
  {
   "cell_type": "code",
   "execution_count": null,
   "id": "1e31a6eb-cbc0-45e6-8057-1278e529f2cd",
   "metadata": {},
   "outputs": [],
   "source": [
    "nba.values"
   ]
  },
  {
   "cell_type": "code",
   "execution_count": null,
   "id": "f1ec375a-9387-4da0-834c-76acccf2ad7c",
   "metadata": {},
   "outputs": [],
   "source": [
    "nba.count().sum()"
   ]
  },
  {
   "cell_type": "code",
   "execution_count": null,
   "id": "2483219d-8d46-43bb-b1ac-9e49cd545f23",
   "metadata": {},
   "outputs": [],
   "source": [
    "nba.nunique()"
   ]
  },
  {
   "cell_type": "code",
   "execution_count": null,
   "id": "60801c8e-1e63-4953-b1cc-b9e3699c8e93",
   "metadata": {},
   "outputs": [],
   "source": [
    "nba.max()"
   ]
  },
  {
   "cell_type": "code",
   "execution_count": null,
   "id": "15bcda82-3740-492a-adde-817ef87fd77f",
   "metadata": {},
   "outputs": [],
   "source": [
    "nba.min()"
   ]
  },
  {
   "cell_type": "code",
   "execution_count": null,
   "id": "f4994d1e-e27a-4f9d-94ab-4c750780e357",
   "metadata": {},
   "outputs": [],
   "source": [
    "nba.index"
   ]
  },
  {
   "cell_type": "code",
   "execution_count": null,
   "id": "6534371f-bb9d-472d-a825-4a095d867881",
   "metadata": {},
   "outputs": [],
   "source": [
    "nba.columns"
   ]
  },
  {
   "cell_type": "code",
   "execution_count": null,
   "id": "a6bd15f3-2c4f-4bb1-b06f-f7931326f59a",
   "metadata": {},
   "outputs": [],
   "source": [
    "nba.nlargest(5, columns = [\"Salary\"])"
   ]
  },
  {
   "cell_type": "code",
   "execution_count": null,
   "id": "1e6f3f97-f37a-46e7-81e5-b2338dbd0392",
   "metadata": {},
   "outputs": [],
   "source": [
    "nba.nlargest(5, columns = [\"Birthday\"])"
   ]
  },
  {
   "cell_type": "code",
   "execution_count": null,
   "id": "3612ec81-ea31-4979-b9bf-6bd5e47361c6",
   "metadata": {},
   "outputs": [],
   "source": [
    "nba.nsmallest(5, columns = [\"Birthday\"])"
   ]
  },
  {
   "cell_type": "markdown",
   "id": "544b6072-d92f-4267-988c-3721430b5a25",
   "metadata": {},
   "source": [
    "## sum/mean/median/std (numeric_only = True) 숫자값을 가지는 값만 계산"
   ]
  },
  {
   "cell_type": "code",
   "execution_count": null,
   "id": "d7164191-7fdc-4535-96af-2f899f1b558b",
   "metadata": {},
   "outputs": [],
   "source": [
    "nba.sum(numeric_only = True)"
   ]
  },
  {
   "cell_type": "code",
   "execution_count": null,
   "id": "fe66b16b-005b-48d5-ade8-25ff13427c84",
   "metadata": {},
   "outputs": [],
   "source": [
    "nba.mean(numeric_only = True)"
   ]
  },
  {
   "cell_type": "code",
   "execution_count": null,
   "id": "1dce45be-91e9-4719-9c28-61697bcca89c",
   "metadata": {},
   "outputs": [],
   "source": [
    "nba.median(numeric_only = True)"
   ]
  },
  {
   "cell_type": "code",
   "execution_count": null,
   "id": "ffbb7808-804d-4034-9668-62aa2046b631",
   "metadata": {},
   "outputs": [],
   "source": [
    "nba.std(numeric_only = True)"
   ]
  },
  {
   "cell_type": "code",
   "execution_count": null,
   "id": "aead0b66-dd25-46a3-bd80-54b6ff8813e5",
   "metadata": {},
   "outputs": [],
   "source": [
    "nba.describe()"
   ]
  },
  {
   "cell_type": "code",
   "execution_count": null,
   "id": "81219e17-e744-4db6-8ffb-bbfa70fc4ea3",
   "metadata": {},
   "outputs": [],
   "source": [
    "titanic.sort_values(\"fare\")"
   ]
  },
  {
   "cell_type": "code",
   "execution_count": null,
   "id": "16ef9175-f3e4-422e-a1ce-9130f3f443e9",
   "metadata": {},
   "outputs": [],
   "source": [
    "titanic.sort_values([\"fare\",\"age\"])"
   ]
  },
  {
   "cell_type": "markdown",
   "id": "95a3b119-724d-4e2b-aaa2-3d7ba7e6bcdf",
   "metadata": {},
   "source": [
    "### sort_values( - 값 ,ascending=False 내림차순 )"
   ]
  },
  {
   "cell_type": "markdown",
   "id": "6d835d15-fb3e-471f-9ff8-289cf71f699e",
   "metadata": {},
   "source": [
    "### sort_values( - 값 ,ascending=True 오름차순 )"
   ]
  },
  {
   "cell_type": "code",
   "execution_count": null,
   "id": "232bb1e3-632f-4cc4-8ff8-f39d98e6f482",
   "metadata": {},
   "outputs": [],
   "source": [
    "titanic.sort_values([\"fare\",\"age\"],ascending = False)"
   ]
  },
  {
   "cell_type": "markdown",
   "id": "5bd2ff96-21b1-49ad-9128-4a63664dd2e7",
   "metadata": {},
   "source": [
    "### na_position = \"last\" / \"first\""
   ]
  },
  {
   "cell_type": "code",
   "execution_count": null,
   "id": "b9877ec2-78f3-45e7-85f4-aba5bc3edd9c",
   "metadata": {},
   "outputs": [],
   "source": [
    "titanic.sort_values([\"fare\",\"age\"], ascending = [False, True],na_position = \"last\")"
   ]
  },
  {
   "cell_type": "code",
   "execution_count": null,
   "id": "f17caa02-dca8-4e90-8b18-da9ce62ea9c8",
   "metadata": {},
   "outputs": [],
   "source": [
    "#axis = 1  row합계  / axis = 0 column 합계"
   ]
  },
  {
   "cell_type": "code",
   "execution_count": null,
   "id": "9fe07659-920f-446c-9542-a439930a8112",
   "metadata": {},
   "outputs": [],
   "source": [
    "titanic.columns"
   ]
  },
  {
   "cell_type": "code",
   "execution_count": null,
   "id": "d9f7261f-a0df-436a-88d8-5088d6a371c6",
   "metadata": {},
   "outputs": [],
   "source": [
    "titanic[\"sex\"].value_counts().sort_values(ascending = False)"
   ]
  },
  {
   "cell_type": "code",
   "execution_count": null,
   "id": "ebe5a007-8127-49f8-af12-e27b7902fd51",
   "metadata": {},
   "outputs": [],
   "source": [
    "df = pd.DataFrame(np.arange(10,22).reshape(3,4),\n",
    "                  index = [\"a\",\"b\",\"c\"],\n",
    "                  columns = [\"A\",\"B\",\"C\",\"D\"]\n",
    "                 )\n",
    "df"
   ]
  },
  {
   "cell_type": "code",
   "execution_count": null,
   "id": "0ec366c6-1656-4342-b289-6eed993c5879",
   "metadata": {},
   "outputs": [],
   "source": [
    "df.loc[\"b\":,\"A\"]"
   ]
  },
  {
   "cell_type": "code",
   "execution_count": null,
   "id": "4ee4d4d4-d37a-4705-9f1f-d7141a6ed8c3",
   "metadata": {},
   "outputs": [],
   "source": [
    "df.loc[\"a\",:]"
   ]
  },
  {
   "cell_type": "code",
   "execution_count": null,
   "id": "4fabc833-29be-43cf-a6a6-9170aca8e883",
   "metadata": {},
   "outputs": [],
   "source": [
    "df.loc[[\"a\",\"b\"],[\"B\",\"D\"]]"
   ]
  },
  {
   "cell_type": "code",
   "execution_count": null,
   "id": "76193e6f-fb92-4d45-8abe-29af987ed005",
   "metadata": {},
   "outputs": [],
   "source": [
    "titanic[\"age\"].mean()"
   ]
  },
  {
   "cell_type": "code",
   "execution_count": null,
   "id": "e8fd89bb-c51d-4214-9bf2-90eb13a02d52",
   "metadata": {},
   "outputs": [],
   "source": [
    "def select_fe(titanic,) :\n",
    "    return titanic == \"female\""
   ]
  },
  {
   "cell_type": "code",
   "execution_count": null,
   "id": "a343525e-999f-4e8d-91ec-2ed4c964e2a1",
   "metadata": {},
   "outputs": [],
   "source": [
    "titanic.loc[:,\"sex\":\"age\"].mean(numeric_only = True)"
   ]
  },
  {
   "cell_type": "code",
   "execution_count": null,
   "id": "81e2e9d3-7b03-4e46-8fe8-350c49365442",
   "metadata": {},
   "outputs": [],
   "source": [
    "titanic.columns"
   ]
  },
  {
   "cell_type": "code",
   "execution_count": null,
   "id": "03267a54-7ecd-47c4-bab6-9f2b588a61ac",
   "metadata": {},
   "outputs": [],
   "source": [
    "titanic.loc[:,\"pclass\":\"age\"]"
   ]
  },
  {
   "cell_type": "code",
   "execution_count": null,
   "id": "94d29af9-8202-4e4f-8c52-1d89dc3b79ca",
   "metadata": {},
   "outputs": [],
   "source": [
    "round(titanic[(titanic['pclass'] == 1 ) & (titanic['sex'] == 'female')]['age'].mean(),1)"
   ]
  },
  {
   "cell_type": "code",
   "execution_count": null,
   "id": "188fbccf-442f-45da-a360-d9a2c9101058",
   "metadata": {},
   "outputs": [],
   "source": [
    "round(titanic['age'][titanic['pclass'] == 1][titanic['sex'] == 'female'].mean(),1)"
   ]
  },
  {
   "cell_type": "code",
   "execution_count": null,
   "id": "57fc06d2",
   "metadata": {},
   "outputs": [],
   "source": [
    "team = pd.read_csv(\"datas/teams.csv\",index = np.range(1,29).squeeze()\n",
    "team"
   ]
  },
  {
   "cell_type": "code",
   "execution_count": null,
   "id": "684e887f-79a3-4cf4-8d80-138ad4d0846a",
   "metadata": {},
   "outputs": [],
   "source": [
    "team.index"
   ]
  },
  {
   "cell_type": "code",
   "execution_count": null,
   "id": "5a25801e-4644-4d7f-b73f-ae57d3ae59d8",
   "metadata": {},
   "outputs": [],
   "source": [
    "team.columns"
   ]
  },
  {
   "cell_type": "code",
   "execution_count": null,
   "id": "8ddfc729-bde9-4b24-a1ba-296b779135cc",
   "metadata": {},
   "outputs": [],
   "source": []
  }
 ],
 "metadata": {
  "kernelspec": {
   "display_name": "Python 3 (ipykernel)",
   "language": "python",
   "name": "python3"
  },
  "language_info": {
   "codemirror_mode": {
    "name": "ipython",
    "version": 3
   },
   "file_extension": ".py",
   "mimetype": "text/x-python",
   "name": "python",
   "nbconvert_exporter": "python",
   "pygments_lexer": "ipython3",
   "version": "3.9.13"
  }
 },
 "nbformat": 4,
 "nbformat_minor": 5
}
