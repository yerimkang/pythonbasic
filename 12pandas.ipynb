{
 "cells": [
  {
   "cell_type": "code",
   "execution_count": 1,
   "id": "ab869c93-165e-49d2-b2ac-8bda288da632",
   "metadata": {},
   "outputs": [],
   "source": [
    "import pandas as pd"
   ]
  },
  {
   "cell_type": "code",
   "execution_count": 5,
   "id": "59480808-f369-4b57-8f48-a06d691e274d",
   "metadata": {},
   "outputs": [
    {
     "data": {
      "text/plain": [
       "0    10\n",
       "1    20\n",
       "2    30\n",
       "3    40\n",
       "4    50\n",
       "5    60\n",
       "6    70\n",
       "7    80\n",
       "8    90\n",
       "dtype: int64"
      ]
     },
     "execution_count": 5,
     "metadata": {},
     "output_type": "execute_result"
    }
   ],
   "source": [
    "series = pd.Series([10,20,30,40,50,60,70,80,90],index = [_ for _ in range(0,9)])\n",
    "series"
   ]
  },
  {
   "cell_type": "code",
   "execution_count": 8,
   "id": "93fea516-ed5d-4566-ad22-265eb9c0a8c3",
   "metadata": {},
   "outputs": [],
   "source": [
    "test = pd.Series(list(range(10,100,10)))"
   ]
  },
  {
   "cell_type": "code",
   "execution_count": 9,
   "id": "eae3e7f4-10ee-4e65-a251-a79791b41232",
   "metadata": {},
   "outputs": [],
   "source": [
    "import numpy as np"
   ]
  },
  {
   "cell_type": "code",
   "execution_count": 17,
   "id": "0007ac7f-631d-4a8c-8bac-aefcedefa935",
   "metadata": {},
   "outputs": [
    {
     "data": {
      "text/plain": [
       "4"
      ]
     },
     "execution_count": 17,
     "metadata": {},
     "output_type": "execute_result"
    }
   ],
   "source": [
    "sum(test.values>50)"
   ]
  },
  {
   "cell_type": "code",
   "execution_count": 24,
   "id": "45a24709-72a3-4bc2-b568-395a47f8bbbc",
   "metadata": {},
   "outputs": [
    {
     "data": {
      "text/plain": [
       "도시\n",
       "서울    9904312\n",
       "부산    3448737\n",
       "인천    2890451\n",
       "대구    2466052\n",
       "Name: 인구, dtype: int64"
      ]
     },
     "execution_count": 24,
     "metadata": {},
     "output_type": "execute_result"
    }
   ],
   "source": [
    "s = pd.Series([9_904_312, 3_448_737, 2_890_451, 2_466_052], index = [\"서울\",\"부산\",\"인천\",\"대구\"])\n",
    "\n",
    "s.name = \"인구\"\n",
    "s.index.name = \"도시\"\n",
    "s"
   ]
  },
  {
   "cell_type": "code",
   "execution_count": 25,
   "id": "9841f978-2991-4a5b-9f3a-d8dc60ada49e",
   "metadata": {},
   "outputs": [
    {
     "data": {
      "text/plain": [
       "a    1\n",
       "b    2\n",
       "c    3\n",
       "dtype: int64"
      ]
     },
     "execution_count": 25,
     "metadata": {},
     "output_type": "execute_result"
    }
   ],
   "source": [
    "d = {'a':1, 'b':2, 'c':3}\n",
    "ser = pd.Series(data=d, index = ['a','b','c'])\n",
    "ser"
   ]
  },
  {
   "cell_type": "markdown",
   "id": "bf868ad1-fdb2-45fe-9bbd-db26621a5689",
   "metadata": {},
   "source": [
    "### NaN값이 float 자료형에서만 표현 가능하므로 결과가 float 자료형이 되었다"
   ]
  },
  {
   "cell_type": "code",
   "execution_count": 34,
   "id": "8faa18c3-f608-4925-82e4-b2c3fbab13c3",
   "metadata": {},
   "outputs": [
    {
     "data": {
      "text/plain": [
       "a    1.0\n",
       "y    NaN\n",
       "z    NaN\n",
       "dtype: float64"
      ]
     },
     "execution_count": 34,
     "metadata": {},
     "output_type": "execute_result"
    }
   ],
   "source": [
    "d = {'a':1, 'b':2, 'c':3}\n",
    "ser = pd.Series(data=d, index = ['a','y','z'])\n",
    "ser"
   ]
  },
  {
   "cell_type": "code",
   "execution_count": 35,
   "id": "90d2730a-dbde-404c-988e-74fbfda00f70",
   "metadata": {},
   "outputs": [
    {
     "data": {
      "text/plain": [
       "철수     88\n",
       "영희     95\n",
       "길동    100\n",
       "dtype: int64"
      ]
     },
     "execution_count": 35,
     "metadata": {},
     "output_type": "execute_result"
    }
   ],
   "source": [
    "score = pd.Series({\"철수\":88,\"영희\":95,\"길동\":100,\"몽룡\":67},\n",
    "                  index = [\"철수\",\"영희\",\"길동\"])\n",
    "score"
   ]
  },
  {
   "cell_type": "markdown",
   "id": "8525eda6-f22a-47e5-b291-5c2f37088c28",
   "metadata": {},
   "source": [
    "### ser.a 로도 접근 가능하고 ser['a'] (인덱스)로도 접근 가능하다(공백x)"
   ]
  },
  {
   "cell_type": "code",
   "execution_count": 36,
   "id": "e1f2468e-6ad3-4fb9-a87d-1fd63cd379bb",
   "metadata": {},
   "outputs": [
    {
     "data": {
      "text/plain": [
       "1.0"
      ]
     },
     "execution_count": 36,
     "metadata": {},
     "output_type": "execute_result"
    }
   ],
   "source": [
    "ser.a"
   ]
  },
  {
   "cell_type": "code",
   "execution_count": 37,
   "id": "2d561275-0d5f-41f7-9bb2-91ee7939c87f",
   "metadata": {},
   "outputs": [
    {
     "data": {
      "text/plain": [
       "True"
      ]
     },
     "execution_count": 37,
     "metadata": {},
     "output_type": "execute_result"
    }
   ],
   "source": [
    "\"서울\" in s #인덱스 레이블 중에 서울이 있는가"
   ]
  },
  {
   "cell_type": "code",
   "execution_count": 38,
   "id": "d973c25e-fc59-4f93-b17a-95da1f7734d3",
   "metadata": {},
   "outputs": [
    {
     "data": {
      "text/plain": [
       "False"
      ]
     },
     "execution_count": 38,
     "metadata": {},
     "output_type": "execute_result"
    }
   ],
   "source": [
    "\"대전\"in s #인덱스 레이블 중에 대전이 있는가"
   ]
  },
  {
   "cell_type": "markdown",
   "id": "62e4855d-3963-4cf4-a9df-d7575f8fe9d0",
   "metadata": {},
   "source": [
    "### item메서드를 사용해서 각 요소의 키와 값에 접근 할 수도 있다."
   ]
  },
  {
   "cell_type": "code",
   "execution_count": 40,
   "id": "a4b1802a-4d99-4894-a1e2-d17c3d773024",
   "metadata": {},
   "outputs": [
    {
     "name": "stdout",
     "output_type": "stream",
     "text": [
      "서울, 9904312\n",
      "부산, 3448737\n",
      "인천, 2890451\n",
      "대구, 2466052\n"
     ]
    }
   ],
   "source": [
    "for k,v in s.items() :\n",
    "    print(f\"{k}, {v}\") "
   ]
  },
  {
   "cell_type": "code",
   "execution_count": 42,
   "id": "d1ce733e-5eff-45b0-9d77-4d78b787b80c",
   "metadata": {},
   "outputs": [
    {
     "name": "stdout",
     "output_type": "stream",
     "text": [
      "서울의 인구는 300만이 넘습니다.\n",
      "부산의 인구는 300만이 넘습니다.\n"
     ]
    },
    {
     "data": {
      "text/plain": [
       "[None, None]"
      ]
     },
     "execution_count": 42,
     "metadata": {},
     "output_type": "execute_result"
    }
   ],
   "source": [
    "[print(f\"{k}의 인구는 300만이 넘습니다.\") for k,v in s.items() if v>3000000]"
   ]
  },
  {
   "cell_type": "code",
   "execution_count": 49,
   "id": "f75d1d11-dc81-42f3-b392-060667cdd151",
   "metadata": {},
   "outputs": [
    {
     "name": "stdout",
     "output_type": "stream",
     "text": [
      "서울의 인구는 300만이 넘습니다.\n",
      "부산의 인구는 300만이 넘습니다.\n"
     ]
    },
    {
     "data": {
      "text/plain": [
       "[None, None]"
      ]
     },
     "execution_count": 49,
     "metadata": {},
     "output_type": "execute_result"
    }
   ],
   "source": [
    "[print(f\"{k}의 인구는 300만이 넘습니다.\") for k,v in s.items() if v>3000000 ]"
   ]
  },
  {
   "cell_type": "markdown",
   "id": "7941cf5f-b173-4290-b807-f4ae9ecb2f59",
   "metadata": {},
   "source": [
    "### series 인덱싱"
   ]
  },
  {
   "cell_type": "code",
   "execution_count": 50,
   "id": "a631d2aa-14b2-4116-a7f1-c5052edc94cc",
   "metadata": {},
   "outputs": [
    {
     "data": {
      "text/plain": [
       "도시\n",
       "서울    9904312\n",
       "부산    3448737\n",
       "인천    2890451\n",
       "대구    2466052\n",
       "Name: 인구, dtype: int64"
      ]
     },
     "execution_count": 50,
     "metadata": {},
     "output_type": "execute_result"
    }
   ],
   "source": [
    "s"
   ]
  },
  {
   "cell_type": "code",
   "execution_count": 51,
   "id": "5d5b9580-1386-4f70-8221-0bb8da9debfa",
   "metadata": {},
   "outputs": [
    {
     "data": {
      "text/plain": [
       "도시\n",
       "서울    9904312\n",
       "대구    2466052\n",
       "부산    3448737\n",
       "Name: 인구, dtype: int64"
      ]
     },
     "execution_count": 51,
     "metadata": {},
     "output_type": "execute_result"
    }
   ],
   "source": [
    "s[[0,3,1]]"
   ]
  },
  {
   "cell_type": "code",
   "execution_count": 52,
   "id": "ad59f68e-e6e4-48db-b917-63e594564ff4",
   "metadata": {},
   "outputs": [
    {
     "data": {
      "text/plain": [
       "도시\n",
       "서울    9904312\n",
       "대구    2466052\n",
       "부산    3448737\n",
       "Name: 인구, dtype: int64"
      ]
     },
     "execution_count": 52,
     "metadata": {},
     "output_type": "execute_result"
    }
   ],
   "source": [
    "s[[\"서울\",\"대구\",\"부산\"]]"
   ]
  },
  {
   "cell_type": "code",
   "execution_count": 54,
   "id": "805193bf-5c32-4058-bbc7-5f95e3d4ae24",
   "metadata": {},
   "outputs": [
    {
     "data": {
      "text/plain": [
       "도시\n",
       "서울    9904312\n",
       "Name: 인구, dtype: int64"
      ]
     },
     "execution_count": 54,
     "metadata": {},
     "output_type": "execute_result"
    }
   ],
   "source": [
    "s[[0]]"
   ]
  },
  {
   "cell_type": "code",
   "execution_count": 55,
   "id": "61ef65cb-3bb1-40aa-ba58-b99637c6959f",
   "metadata": {},
   "outputs": [
    {
     "data": {
      "text/plain": [
       "도시\n",
       "인천    2890451\n",
       "Name: 인구, dtype: int64"
      ]
     },
     "execution_count": 55,
     "metadata": {},
     "output_type": "execute_result"
    }
   ],
   "source": [
    "s[[\"인천\"]]"
   ]
  },
  {
   "cell_type": "markdown",
   "id": "ab421fc1-cf24-4069-9197-6dd9a1c48fdd",
   "metadata": {},
   "source": [
    "### series 슬라이싱 "
   ]
  },
  {
   "cell_type": "code",
   "execution_count": 58,
   "id": "c4c7e3d1-3a26-4290-8931-8ee9903d129b",
   "metadata": {},
   "outputs": [],
   "source": [
    "#슬라이싱을 해도 부분적인 Series를 반환\n",
    "# 문자열 label을 이용한 슬라이싱을 하는 경우에는 숫자 인덱싱과 달리 \n",
    "# 콜론 기호 뒤에 오는 값도 결과에 포함됨(주의)"
   ]
  },
  {
   "cell_type": "code",
   "execution_count": 60,
   "id": "b937697c-6c06-413e-a1ce-42090af473a3",
   "metadata": {},
   "outputs": [
    {
     "data": {
      "text/plain": [
       "도시\n",
       "부산    3448737\n",
       "인천    2890451\n",
       "Name: 인구, dtype: int64"
      ]
     },
     "execution_count": 60,
     "metadata": {},
     "output_type": "execute_result"
    }
   ],
   "source": [
    "s[1:3] #두번째(1)부터 세번째(2)까지"
   ]
  },
  {
   "cell_type": "code",
   "execution_count": 61,
   "id": "1fc3f68b-07b9-417a-9940-14d1d0eb2cb8",
   "metadata": {},
   "outputs": [
    {
     "data": {
      "text/plain": [
       "서울    9631482\n",
       "부산    3393191\n",
       "인천    2632035\n",
       "대전    1490158\n",
       "dtype: int64"
      ]
     },
     "execution_count": 61,
     "metadata": {},
     "output_type": "execute_result"
    }
   ],
   "source": [
    "s2 = pd.Series({\"서울\":9631482, \"부산\":3393191, \"인천\":2632035, \"대전\":1490158})\n",
    "s2"
   ]
  },
  {
   "cell_type": "code",
   "execution_count": 62,
   "id": "5211901d-bc3c-41b0-9e0f-ff47b5d03177",
   "metadata": {},
   "outputs": [
    {
     "data": {
      "text/plain": [
       "대구         NaN\n",
       "대전         NaN\n",
       "부산     55546.0\n",
       "서울    272830.0\n",
       "인천    258416.0\n",
       "dtype: float64"
      ]
     },
     "execution_count": 62,
     "metadata": {},
     "output_type": "execute_result"
    }
   ],
   "source": [
    "ds = s - s2\n",
    "ds"
   ]
  },
  {
   "cell_type": "markdown",
   "id": "086d342b-84c3-4877-bfac-831f5305389d",
   "metadata": {},
   "source": [
    "### NaN 값이 float자료형 에서만 표현 가능하므로 다른 계산 결과도 모두 float자료형이 되었다는 점에 주의"
   ]
  },
  {
   "cell_type": "code",
   "execution_count": 65,
   "id": "9d170b6a-4354-4c65-9cc3-95b2c55eae8f",
   "metadata": {},
   "outputs": [
    {
     "data": {
      "text/plain": [
       "대구     True\n",
       "대전     True\n",
       "부산    False\n",
       "서울    False\n",
       "인천    False\n",
       "dtype: bool"
      ]
     },
     "execution_count": 65,
     "metadata": {},
     "output_type": "execute_result"
    }
   ],
   "source": [
    "# series의 값이 NaN이면 True NaN이 아니면 False인\n",
    "# Bool type의 Series는 isnull()\n",
    "ds.isnull()"
   ]
  },
  {
   "cell_type": "code",
   "execution_count": 66,
   "id": "97ce33a0-7a5a-4cbb-96b6-6e22ac73c9de",
   "metadata": {},
   "outputs": [
    {
     "data": {
      "text/plain": [
       "대구    False\n",
       "대전    False\n",
       "부산     True\n",
       "서울     True\n",
       "인천     True\n",
       "dtype: bool"
      ]
     },
     "execution_count": 66,
     "metadata": {},
     "output_type": "execute_result"
    }
   ],
   "source": [
    "# isnull()의 반대\n",
    "ds.notnull()"
   ]
  },
  {
   "cell_type": "markdown",
   "id": "5b5aaf18-a09e-4f15-902a-19a672f45b25",
   "metadata": {},
   "source": [
    "### series에서 NaN이 아닌 값만 인덱싱으로 구하기"
   ]
  },
  {
   "cell_type": "code",
   "execution_count": 67,
   "id": "3fee25e9-067a-4093-843e-0bb948fea0a8",
   "metadata": {},
   "outputs": [
    {
     "data": {
      "text/plain": [
       "대구    False\n",
       "대전    False\n",
       "부산     True\n",
       "서울     True\n",
       "인천     True\n",
       "dtype: bool"
      ]
     },
     "execution_count": 67,
     "metadata": {},
     "output_type": "execute_result"
    }
   ],
   "source": [
    "ds.notnull()"
   ]
  },
  {
   "cell_type": "code",
   "execution_count": 68,
   "id": "18cead56-1a97-4a69-8940-066a0b7590fa",
   "metadata": {},
   "outputs": [
    {
     "data": {
      "text/plain": [
       "부산     55546.0\n",
       "서울    272830.0\n",
       "인천    258416.0\n",
       "dtype: float64"
      ]
     },
     "execution_count": 68,
     "metadata": {},
     "output_type": "execute_result"
    }
   ],
   "source": [
    "ds[ds.notnull()]"
   ]
  },
  {
   "cell_type": "code",
   "execution_count": 69,
   "id": "6a972d01-3c5a-47e0-8d1a-35307cf58bdd",
   "metadata": {},
   "outputs": [
    {
     "data": {
      "text/plain": [
       "도시\n",
       "서울    9904312\n",
       "부산    3448737\n",
       "인천    2890451\n",
       "대구    2466052\n",
       "Name: 인구, dtype: int64"
      ]
     },
     "execution_count": 69,
     "metadata": {},
     "output_type": "execute_result"
    }
   ],
   "source": [
    "s"
   ]
  },
  {
   "cell_type": "code",
   "execution_count": 70,
   "id": "e9cd887b-d188-47a5-9f41-676c715ae660",
   "metadata": {},
   "outputs": [
    {
     "data": {
      "text/plain": [
       "서울    9631482\n",
       "부산    3393191\n",
       "인천    2632035\n",
       "대전    1490158\n",
       "dtype: int64"
      ]
     },
     "execution_count": 70,
     "metadata": {},
     "output_type": "execute_result"
    }
   ],
   "source": [
    "s2"
   ]
  },
  {
   "cell_type": "markdown",
   "id": "747cd07e-9c39-4fd8-825a-c254ae6e686c",
   "metadata": {},
   "source": [
    "### NaN 값인 것을 배재하고 인구 증가율은 다음과 같이 구할 수 있다."
   ]
  },
  {
   "cell_type": "code",
   "execution_count": 92,
   "id": "0e900ce8-b3d1-46cf-b091-b6c34ccba981",
   "metadata": {},
   "outputs": [
    {
     "data": {
      "text/plain": [
       "부산    1.636984\n",
       "서울    2.832690\n",
       "인천    9.818107\n",
       "dtype: float64"
      ]
     },
     "execution_count": 92,
     "metadata": {},
     "output_type": "execute_result"
    }
   ],
   "source": [
    "rs = (s - s2) / s2 *100\n",
    "rs = rs[rs.notnull()]\n",
    "rs"
   ]
  },
  {
   "cell_type": "code",
   "execution_count": 93,
   "id": "b66ce4a0-99dc-4323-a268-612bbb9928e7",
   "metadata": {},
   "outputs": [
    {
     "data": {
      "text/plain": [
       "서울    272830.0\n",
       "dtype: float64"
      ]
     },
     "execution_count": 93,
     "metadata": {},
     "output_type": "execute_result"
    }
   ],
   "source": [
    "res = s - s2\n",
    "res = res[res.notnull()]\n",
    "res[[res.values.argmax()]]"
   ]
  },
  {
   "cell_type": "code",
   "execution_count": 88,
   "id": "20827fc1-c9a0-47a2-9767-c62504ed82b0",
   "metadata": {},
   "outputs": [
    {
     "data": {
      "text/plain": [
       "272830.0"
      ]
     },
     "execution_count": 88,
     "metadata": {},
     "output_type": "execute_result"
    }
   ],
   "source": [
    "res = s - s2\n",
    "res = res[res.notnull()]\n",
    "res.max()"
   ]
  },
  {
   "cell_type": "code",
   "execution_count": 89,
   "id": "a854d8b3-cc08-45a9-8ecb-47d6798c06fa",
   "metadata": {},
   "outputs": [
    {
     "data": {
      "text/plain": [
       "부산    1.636984\n",
       "서울    2.832690\n",
       "인천    9.818107\n",
       "dtype: float64"
      ]
     },
     "execution_count": 89,
     "metadata": {},
     "output_type": "execute_result"
    }
   ],
   "source": [
    "rs"
   ]
  },
  {
   "cell_type": "code",
   "execution_count": 91,
   "id": "b92c9bbe-c30b-4c28-a4c5-1c83df9fce09",
   "metadata": {},
   "outputs": [
    {
     "data": {
      "text/plain": [
       "부산    1.636984\n",
       "서울    2.830000\n",
       "인천    9.820000\n",
       "dtype: float64"
      ]
     },
     "execution_count": 91,
     "metadata": {},
     "output_type": "execute_result"
    }
   ],
   "source": [
    "rs[\"서울\"] = 2.83\n",
    "rs[\"인천\"] = 9.82\n",
    "rs"
   ]
  },
  {
   "cell_type": "code",
   "execution_count": 94,
   "id": "30c30655-5a91-42d0-9bfb-bd165de3dcb9",
   "metadata": {},
   "outputs": [
    {
     "data": {
      "text/plain": [
       "2.832689714833086"
      ]
     },
     "execution_count": 94,
     "metadata": {},
     "output_type": "execute_result"
    }
   ],
   "source": [
    "rs[1]"
   ]
  },
  {
   "cell_type": "code",
   "execution_count": 95,
   "id": "a988bb5c-6805-4681-b14e-d344470c798f",
   "metadata": {},
   "outputs": [],
   "source": [
    "rs[1] = 2.83"
   ]
  },
  {
   "cell_type": "code",
   "execution_count": 96,
   "id": "0bb95113-d9b1-4533-b43f-744c5bee1ae9",
   "metadata": {},
   "outputs": [
    {
     "data": {
      "text/plain": [
       "부산    1.636984\n",
       "서울    2.830000\n",
       "인천    9.818107\n",
       "dtype: float64"
      ]
     },
     "execution_count": 96,
     "metadata": {},
     "output_type": "execute_result"
    }
   ],
   "source": [
    "rs"
   ]
  },
  {
   "cell_type": "code",
   "execution_count": 97,
   "id": "469a5765-f3c2-43fa-ab15-a0adfd88ac50",
   "metadata": {},
   "outputs": [],
   "source": [
    "rs[1] = 2.83\n",
    "rs[2] = 9.82"
   ]
  },
  {
   "cell_type": "code",
   "execution_count": 98,
   "id": "ef5fe2a5-c3c8-43b0-956e-d5d38a1d5bf6",
   "metadata": {},
   "outputs": [
    {
     "data": {
      "text/plain": [
       "부산    1.636984\n",
       "서울    2.830000\n",
       "인천    9.820000\n",
       "dtype: float64"
      ]
     },
     "execution_count": 98,
     "metadata": {},
     "output_type": "execute_result"
    }
   ],
   "source": [
    "rs"
   ]
  },
  {
   "cell_type": "code",
   "execution_count": 101,
   "id": "dfbc1bfd-4e7a-47dc-8643-9e0d41f2ac40",
   "metadata": {},
   "outputs": [
    {
     "data": {
      "text/plain": [
       "부산    1.636984\n",
       "서울    2.830000\n",
       "인천    9.820000\n",
       "dtype: float64"
      ]
     },
     "execution_count": 101,
     "metadata": {},
     "output_type": "execute_result"
    }
   ],
   "source": [
    "rs[\"서울\":\"인천\"] = (2.83, 9.82)\n",
    "rs"
   ]
  },
  {
   "cell_type": "code",
   "execution_count": 102,
   "id": "21fee3b9-fc0c-4c3a-a6e6-2657b24bc7c7",
   "metadata": {},
   "outputs": [
    {
     "data": {
      "text/plain": [
       "부산    1.636984\n",
       "서울    2.830000\n",
       "인천    9.820000\n",
       "대구    1.410000\n",
       "dtype: float64"
      ]
     },
     "execution_count": 102,
     "metadata": {},
     "output_type": "execute_result"
    }
   ],
   "source": [
    "rs[\"대구\"] = 1.41\n",
    "rs"
   ]
  },
  {
   "cell_type": "code",
   "execution_count": 103,
   "id": "862e2983-3af8-4a18-975d-30c704b5e0dd",
   "metadata": {},
   "outputs": [
    {
     "data": {
      "text/plain": [
       "부산    1.636984\n",
       "인천    9.820000\n",
       "대구    1.410000\n",
       "dtype: float64"
      ]
     },
     "execution_count": 103,
     "metadata": {},
     "output_type": "execute_result"
    }
   ],
   "source": [
    "del rs[\"서울\"]\n",
    "rs"
   ]
  },
  {
   "cell_type": "code",
   "execution_count": 104,
   "id": "67369283-e2c0-4a40-8d9d-cf6a66c13cda",
   "metadata": {},
   "outputs": [],
   "source": [
    "fin1 = {\"카카오\":60010, \"삼성전자\":61000, \"LG전자\": 90000}\n",
    "fin2_value = [60200, 61200, 200100]\n",
    "fin2_index = [\"카카오\", \"삼성전자\", \"네이버\"]"
   ]
  },
  {
   "cell_type": "code",
   "execution_count": 106,
   "id": "555d3b98-a8ad-4f91-b351-ae812fbf69b2",
   "metadata": {},
   "outputs": [
    {
     "data": {
      "text/plain": [
       "카카오     60010\n",
       "삼성전자    61000\n",
       "LG전자    90000\n",
       "dtype: int64"
      ]
     },
     "execution_count": 106,
     "metadata": {},
     "output_type": "execute_result"
    }
   ],
   "source": [
    "ser_finance1 = pd.Series(fin1)\n",
    "ser_finance1"
   ]
  },
  {
   "cell_type": "code",
   "execution_count": 110,
   "id": "a143a74f-a0ca-474f-b39a-0c8194d8e2a6",
   "metadata": {},
   "outputs": [
    {
     "data": {
      "text/plain": [
       "카카오      60200\n",
       "삼성전자     61200\n",
       "네이버     200100\n",
       "dtype: int64"
      ]
     },
     "execution_count": 110,
     "metadata": {},
     "output_type": "execute_result"
    }
   ],
   "source": [
    "ser_finance2 = pd.Series(fin2_value,index = fin2_index)\n",
    "ser_finance2"
   ]
  },
  {
   "cell_type": "code",
   "execution_count": 117,
   "id": "38ba0788-dd43-4a75-ac03-7763900a54dc",
   "metadata": {},
   "outputs": [
    {
     "data": {
      "text/plain": [
       "LG전자      NaN\n",
       "네이버       NaN\n",
       "삼성전자   -200.0\n",
       "카카오    -190.0\n",
       "dtype: float64"
      ]
     },
     "execution_count": 117,
     "metadata": {},
     "output_type": "execute_result"
    }
   ],
   "source": [
    "ser_finance1 - ser_finance2"
   ]
  },
  {
   "cell_type": "code",
   "execution_count": 118,
   "id": "65924824-3f66-4bd3-95c9-7bbe62081aed",
   "metadata": {},
   "outputs": [
    {
     "data": {
      "text/plain": [
       "LG전자         NaN\n",
       "네이버          NaN\n",
       "삼성전자    122200.0\n",
       "카카오     120210.0\n",
       "dtype: float64"
      ]
     },
     "execution_count": 118,
     "metadata": {},
     "output_type": "execute_result"
    }
   ],
   "source": [
    "ser_finance1 + ser_finance2"
   ]
  },
  {
   "cell_type": "code",
   "execution_count": 119,
   "id": "3a70c4b4-3261-4a9d-a9f1-f5be94e00161",
   "metadata": {},
   "outputs": [
    {
     "data": {
      "text/plain": [
       "LG전자             NaN\n",
       "네이버              NaN\n",
       "삼성전자    3.733200e+09\n",
       "카카오     3.612602e+09\n",
       "dtype: float64"
      ]
     },
     "execution_count": 119,
     "metadata": {},
     "output_type": "execute_result"
    }
   ],
   "source": [
    "ser_finance1 * ser_finance2"
   ]
  },
  {
   "cell_type": "code",
   "execution_count": 123,
   "id": "83a3b403-ba96-4008-bea4-b65db0bfbaec",
   "metadata": {},
   "outputs": [],
   "source": [
    "result = ser_finance1 / ser_finance2"
   ]
  },
  {
   "cell_type": "code",
   "execution_count": 125,
   "id": "1620f8be-5c3d-4a2f-9311-6019f51c4c1c",
   "metadata": {},
   "outputs": [
    {
     "data": {
      "text/plain": [
       "dtype('float64')"
      ]
     },
     "execution_count": 125,
     "metadata": {},
     "output_type": "execute_result"
    }
   ],
   "source": [
    "result.dtype"
   ]
  },
  {
   "cell_type": "code",
   "execution_count": 126,
   "id": "1872327f-7c4e-4227-9cd0-05910861f1f0",
   "metadata": {},
   "outputs": [
    {
     "data": {
      "text/plain": [
       "LG전자         NaN\n",
       "네이버          NaN\n",
       "삼성전자    0.996732\n",
       "카카오     0.996844\n",
       "dtype: float64"
      ]
     },
     "execution_count": 126,
     "metadata": {},
     "output_type": "execute_result"
    }
   ],
   "source": [
    "result"
   ]
  },
  {
   "cell_type": "code",
   "execution_count": 127,
   "id": "6c194eda-2990-4bb0-ab06-d2e01f744e58",
   "metadata": {},
   "outputs": [
    {
     "data": {
      "text/plain": [
       "0.996843853820598"
      ]
     },
     "execution_count": 127,
     "metadata": {},
     "output_type": "execute_result"
    }
   ],
   "source": [
    "ser_finance1[0] / ser_finance2[0]"
   ]
  },
  {
   "cell_type": "code",
   "execution_count": 128,
   "id": "ab7b6f39-4d03-4b56-b9d4-862e0d8ee9bc",
   "metadata": {},
   "outputs": [],
   "source": [
    "result = ser_finance1 - ser_finance2"
   ]
  },
  {
   "cell_type": "code",
   "execution_count": 129,
   "id": "21f78ae8-936b-4aa3-9ce4-cdbbdce4423d",
   "metadata": {},
   "outputs": [],
   "source": [
    "result = result[result.notnull()]"
   ]
  },
  {
   "cell_type": "code",
   "execution_count": 130,
   "id": "66f7aeb1-c0f6-43c7-a34a-f9e6c30d9763",
   "metadata": {},
   "outputs": [
    {
     "data": {
      "text/plain": [
       "삼성전자   -200.0\n",
       "카카오    -190.0\n",
       "dtype: float64"
      ]
     },
     "execution_count": 130,
     "metadata": {},
     "output_type": "execute_result"
    }
   ],
   "source": [
    "result"
   ]
  },
  {
   "cell_type": "code",
   "execution_count": 131,
   "id": "fdc92005-0996-4712-8836-bf3f2fa02e55",
   "metadata": {},
   "outputs": [
    {
     "data": {
      "text/html": [
       "<div>\n",
       "<style scoped>\n",
       "    .dataframe tbody tr th:only-of-type {\n",
       "        vertical-align: middle;\n",
       "    }\n",
       "\n",
       "    .dataframe tbody tr th {\n",
       "        vertical-align: top;\n",
       "    }\n",
       "\n",
       "    .dataframe thead th {\n",
       "        text-align: right;\n",
       "    }\n",
       "</style>\n",
       "<table border=\"1\" class=\"dataframe\">\n",
       "  <thead>\n",
       "    <tr style=\"text-align: right;\">\n",
       "      <th></th>\n",
       "      <th>지역</th>\n",
       "      <th>2015</th>\n",
       "      <th>2010</th>\n",
       "      <th>2005</th>\n",
       "      <th>2000</th>\n",
       "      <th>2010-2015 증가율</th>\n",
       "    </tr>\n",
       "  </thead>\n",
       "  <tbody>\n",
       "    <tr>\n",
       "      <th>서울</th>\n",
       "      <td>수도권</td>\n",
       "      <td>9904312</td>\n",
       "      <td>9631482</td>\n",
       "      <td>9762546</td>\n",
       "      <td>9853972</td>\n",
       "      <td>0.0283</td>\n",
       "    </tr>\n",
       "    <tr>\n",
       "      <th>부산</th>\n",
       "      <td>경상권</td>\n",
       "      <td>3448737</td>\n",
       "      <td>3393191</td>\n",
       "      <td>3512547</td>\n",
       "      <td>3655437</td>\n",
       "      <td>0.0163</td>\n",
       "    </tr>\n",
       "    <tr>\n",
       "      <th>인천</th>\n",
       "      <td>수도권</td>\n",
       "      <td>2890451</td>\n",
       "      <td>2632035</td>\n",
       "      <td>2517680</td>\n",
       "      <td>2466338</td>\n",
       "      <td>0.0982</td>\n",
       "    </tr>\n",
       "    <tr>\n",
       "      <th>대구</th>\n",
       "      <td>경상권</td>\n",
       "      <td>2466052</td>\n",
       "      <td>2431774</td>\n",
       "      <td>2456016</td>\n",
       "      <td>2473990</td>\n",
       "      <td>0.0141</td>\n",
       "    </tr>\n",
       "  </tbody>\n",
       "</table>\n",
       "</div>"
      ],
      "text/plain": [
       "     지역     2015     2010     2005     2000  2010-2015 증가율\n",
       "서울  수도권  9904312  9631482  9762546  9853972         0.0283\n",
       "부산  경상권  3448737  3393191  3512547  3655437         0.0163\n",
       "인천  수도권  2890451  2632035  2517680  2466338         0.0982\n",
       "대구  경상권  2466052  2431774  2456016  2473990         0.0141"
      ]
     },
     "execution_count": 131,
     "metadata": {},
     "output_type": "execute_result"
    }
   ],
   "source": [
    "data = {\n",
    "    \"2015\" : [9904312, 3448737, 2890451, 2466052],\n",
    "    \"2010\" : [9631482, 3393191, 2632035, 2431774],\n",
    "    \"2005\" : [9762546, 3512547, 2517680, 2456016],\n",
    "    \"2000\" : [9853972, 3655437, 2466338, 2473990],\n",
    "    \"지역\" : [\"수도권\", \"경상권\", \"수도권\", \"경상권\"],\n",
    "    \"2010-2015 증가율\" :[0.0283, 0.0163, 0.0982, 0.0141]\n",
    "}\n",
    "columns = [\"지역\", \"2015\", \"2010\", \"2005\", \"2000\", \"2010-2015 증가율\"]\n",
    "index = [\"서울\", \"부산\", \"인천\", \"대구\"]\n",
    "df = pd.DataFrame(data, index = index, columns = columns)\n",
    "df"
   ]
  },
  {
   "cell_type": "code",
   "execution_count": 132,
   "id": "0a7e9cd6-38cc-4a8b-802c-2e405968770d",
   "metadata": {},
   "outputs": [
    {
     "data": {
      "text/plain": [
       "array([['수도권', 9904312, 9631482, 9762546, 9853972, 0.0283],\n",
       "       ['경상권', 3448737, 3393191, 3512547, 3655437, 0.0163],\n",
       "       ['수도권', 2890451, 2632035, 2517680, 2466338, 0.0982],\n",
       "       ['경상권', 2466052, 2431774, 2456016, 2473990, 0.0141]], dtype=object)"
      ]
     },
     "execution_count": 132,
     "metadata": {},
     "output_type": "execute_result"
    }
   ],
   "source": [
    "df.values"
   ]
  },
  {
   "cell_type": "code",
   "execution_count": 133,
   "id": "d609c578-1dfe-47b5-bc85-6ec9b327dee6",
   "metadata": {},
   "outputs": [
    {
     "data": {
      "text/plain": [
       "Index(['지역', '2015', '2010', '2005', '2000', '2010-2015 증가율'], dtype='object')"
      ]
     },
     "execution_count": 133,
     "metadata": {},
     "output_type": "execute_result"
    }
   ],
   "source": [
    "df.columns"
   ]
  },
  {
   "cell_type": "code",
   "execution_count": 134,
   "id": "20302d73-8c7f-4c46-ae07-de6413f5ed29",
   "metadata": {},
   "outputs": [
    {
     "data": {
      "text/plain": [
       "Index(['서울', '부산', '인천', '대구'], dtype='object')"
      ]
     },
     "execution_count": 134,
     "metadata": {},
     "output_type": "execute_result"
    }
   ],
   "source": [
    "df.index"
   ]
  },
  {
   "cell_type": "code",
   "execution_count": 136,
   "id": "580b776e-e9fe-424c-b963-46b4ba5a7572",
   "metadata": {},
   "outputs": [
    {
     "data": {
      "text/plain": [
       "지역                object\n",
       "2015               int64\n",
       "2010               int64\n",
       "2005               int64\n",
       "2000               int64\n",
       "2010-2015 증가율    float64\n",
       "dtype: object"
      ]
     },
     "execution_count": 136,
     "metadata": {},
     "output_type": "execute_result"
    }
   ],
   "source": [
    "df.dtypes"
   ]
  },
  {
   "cell_type": "code",
   "execution_count": 188,
   "id": "c3f6d385-e500-4021-9566-6163b717e7e1",
   "metadata": {},
   "outputs": [],
   "source": [
    "\"\"\"data = {\n",
    "    \"2015\" : [9904312, 3448737, 2890451, 2466052],\n",
    "    \"2010\" : [9631482, 3393191, 2632035, 2431774],\n",
    "    \"2005\" : [9762546, 3512547, 2517680, 2456016],\n",
    "    \"2000\" : [9853972, 3655437, 2466338, 2473990],\n",
    "    \"지역\" : [\"수도권\", \"경상권\", \"수도권\", \"경상권\"],\n",
    "    \"2010-2015 증가율\" :[0.0283, 0.0163, 0.0982, 0.0141]\n",
    "}\n",
    "columns = [\"지역\", \"2015\", \"2010\", \"2005\", \"2000\", \"2010-2015 증가율\"]\n",
    "index = [\"서울\", \"부산\", \"인천\", \"대구\"]\n",
    "df = pd.DataFrame(data, index = index, columns = columns)\n",
    "df\"\"\"\n",
    "\n",
    "\n",
    "with open(\"data/data.csv\", \"r\") as r:\n",
    "    file = r.read()"
   ]
  },
  {
   "cell_type": "code",
   "execution_count": 189,
   "id": "62ed942e-8b60-4738-9fbf-76d24d31b6ac",
   "metadata": {},
   "outputs": [
    {
     "data": {
      "text/plain": [
       "'연번,의료기관명,의료기관전화번호,의료기관소재지(도로명),자체 병상수,공동활용 병상수,의료장비명,모델명,형식명,데이터기준일자\\n1,강남병원,061-818-7575,전라남도 광양시 중마중앙로 17 (중동),78,339,자기공명영상촬영장치(MRI),MAGNETOM Essenza,구형식,2023-03-03\\n2,강남병원,061-818-7575,전라남도 광양시 중마중앙로 17 (중동),78,196,전산화단층촬영장치(CT),SOMATOM Emotion 16-slice Configuration,구형식,2023-03-03\\n3,광양사랑병원,061-797-7000,전라남도 광양시 공영로 71 (중동),159,50,전산화단층촬영장치(CT),TOSHIBA SCANNER Aquilion PRIME MODEL TSX-303A,구형식,2023-03-03\\n4,광양사랑병원,061-797-7000,전라남도 광양시 공영로 71 (중동),159,50,자기공명영상촬영장치(MRI),MAGNETOM Essenza,N/A,2023-03-03\\n5,의료법인 현경의료재단 광양서울병원,061-798-9800,전라남도 광양시 진등길 93 (마동),204,0,자기공명영상촬영장치(MRI),GE Signa Excite 1.5T MR System,구형식,2023-03-03\\n6,의료법인 현경의료재단 광양서울병원,061-798-9800,전라남도 광양시 진등길 93 (마동),204,0,전산화단층촬영장치(CT),TOSHIBA SCANNER Aquilion MODEL TSX-101A(Aquilion CX),구형식,2023-03-03\\n'"
      ]
     },
     "execution_count": 189,
     "metadata": {},
     "output_type": "execute_result"
    }
   ],
   "source": [
    "file"
   ]
  },
  {
   "cell_type": "code",
   "execution_count": 190,
   "id": "824354dd-46c7-4b69-82a0-06a4a7cb190c",
   "metadata": {},
   "outputs": [],
   "source": [
    "file = pd.read_csv(\"data/data.csv\", encoding=\"cp949\")"
   ]
  },
  {
   "cell_type": "code",
   "execution_count": 191,
   "id": "468e9afd-1d8c-4a0f-8a38-b3afd5768007",
   "metadata": {},
   "outputs": [
    {
     "data": {
      "text/html": [
       "<div>\n",
       "<style scoped>\n",
       "    .dataframe tbody tr th:only-of-type {\n",
       "        vertical-align: middle;\n",
       "    }\n",
       "\n",
       "    .dataframe tbody tr th {\n",
       "        vertical-align: top;\n",
       "    }\n",
       "\n",
       "    .dataframe thead th {\n",
       "        text-align: right;\n",
       "    }\n",
       "</style>\n",
       "<table border=\"1\" class=\"dataframe\">\n",
       "  <thead>\n",
       "    <tr style=\"text-align: right;\">\n",
       "      <th></th>\n",
       "      <th>연번</th>\n",
       "      <th>의료기관명</th>\n",
       "      <th>의료기관전화번호</th>\n",
       "      <th>의료기관소재지(도로명)</th>\n",
       "      <th>자체 병상수</th>\n",
       "      <th>공동활용 병상수</th>\n",
       "      <th>의료장비명</th>\n",
       "      <th>모델명</th>\n",
       "      <th>형식명</th>\n",
       "      <th>데이터기준일자</th>\n",
       "    </tr>\n",
       "  </thead>\n",
       "  <tbody>\n",
       "    <tr>\n",
       "      <th>0</th>\n",
       "      <td>1</td>\n",
       "      <td>강남병원</td>\n",
       "      <td>061-818-7575</td>\n",
       "      <td>전라남도 광양시 중마중앙로 17 (중동)</td>\n",
       "      <td>78</td>\n",
       "      <td>339</td>\n",
       "      <td>자기공명영상촬영장치(MRI)</td>\n",
       "      <td>MAGNETOM Essenza</td>\n",
       "      <td>구형식</td>\n",
       "      <td>2023-03-03</td>\n",
       "    </tr>\n",
       "    <tr>\n",
       "      <th>1</th>\n",
       "      <td>2</td>\n",
       "      <td>강남병원</td>\n",
       "      <td>061-818-7575</td>\n",
       "      <td>전라남도 광양시 중마중앙로 17 (중동)</td>\n",
       "      <td>78</td>\n",
       "      <td>196</td>\n",
       "      <td>전산화단층촬영장치(CT)</td>\n",
       "      <td>SOMATOM Emotion 16-slice Configuration</td>\n",
       "      <td>구형식</td>\n",
       "      <td>2023-03-03</td>\n",
       "    </tr>\n",
       "    <tr>\n",
       "      <th>2</th>\n",
       "      <td>3</td>\n",
       "      <td>광양사랑병원</td>\n",
       "      <td>061-797-7000</td>\n",
       "      <td>전라남도 광양시 공영로 71 (중동)</td>\n",
       "      <td>159</td>\n",
       "      <td>50</td>\n",
       "      <td>전산화단층촬영장치(CT)</td>\n",
       "      <td>TOSHIBA SCANNER Aquilion PRIME MODEL TSX-303A</td>\n",
       "      <td>구형식</td>\n",
       "      <td>2023-03-03</td>\n",
       "    </tr>\n",
       "    <tr>\n",
       "      <th>3</th>\n",
       "      <td>4</td>\n",
       "      <td>광양사랑병원</td>\n",
       "      <td>061-797-7000</td>\n",
       "      <td>전라남도 광양시 공영로 71 (중동)</td>\n",
       "      <td>159</td>\n",
       "      <td>50</td>\n",
       "      <td>자기공명영상촬영장치(MRI)</td>\n",
       "      <td>MAGNETOM Essenza</td>\n",
       "      <td>NaN</td>\n",
       "      <td>2023-03-03</td>\n",
       "    </tr>\n",
       "    <tr>\n",
       "      <th>4</th>\n",
       "      <td>5</td>\n",
       "      <td>의료법인 현경의료재단 광양서울병원</td>\n",
       "      <td>061-798-9800</td>\n",
       "      <td>전라남도 광양시 진등길 93 (마동)</td>\n",
       "      <td>204</td>\n",
       "      <td>0</td>\n",
       "      <td>자기공명영상촬영장치(MRI)</td>\n",
       "      <td>GE Signa Excite 1.5T MR System</td>\n",
       "      <td>구형식</td>\n",
       "      <td>2023-03-03</td>\n",
       "    </tr>\n",
       "    <tr>\n",
       "      <th>5</th>\n",
       "      <td>6</td>\n",
       "      <td>의료법인 현경의료재단 광양서울병원</td>\n",
       "      <td>061-798-9800</td>\n",
       "      <td>전라남도 광양시 진등길 93 (마동)</td>\n",
       "      <td>204</td>\n",
       "      <td>0</td>\n",
       "      <td>전산화단층촬영장치(CT)</td>\n",
       "      <td>TOSHIBA SCANNER Aquilion MODEL TSX-101A(Aquili...</td>\n",
       "      <td>구형식</td>\n",
       "      <td>2023-03-03</td>\n",
       "    </tr>\n",
       "  </tbody>\n",
       "</table>\n",
       "</div>"
      ],
      "text/plain": [
       "   연번               의료기관명      의료기관전화번호            의료기관소재지(도로명)  자체 병상수  \\\n",
       "0   1                강남병원  061-818-7575  전라남도 광양시 중마중앙로 17 (중동)      78   \n",
       "1   2                강남병원  061-818-7575  전라남도 광양시 중마중앙로 17 (중동)      78   \n",
       "2   3              광양사랑병원  061-797-7000    전라남도 광양시 공영로 71 (중동)     159   \n",
       "3   4              광양사랑병원  061-797-7000    전라남도 광양시 공영로 71 (중동)     159   \n",
       "4   5  의료법인 현경의료재단 광양서울병원  061-798-9800    전라남도 광양시 진등길 93 (마동)     204   \n",
       "5   6  의료법인 현경의료재단 광양서울병원  061-798-9800    전라남도 광양시 진등길 93 (마동)     204   \n",
       "\n",
       "   공동활용 병상수            의료장비명  \\\n",
       "0       339  자기공명영상촬영장치(MRI)   \n",
       "1       196    전산화단층촬영장치(CT)   \n",
       "2        50    전산화단층촬영장치(CT)   \n",
       "3        50  자기공명영상촬영장치(MRI)   \n",
       "4         0  자기공명영상촬영장치(MRI)   \n",
       "5         0    전산화단층촬영장치(CT)   \n",
       "\n",
       "                                                 모델명  형식명     데이터기준일자  \n",
       "0                                   MAGNETOM Essenza  구형식  2023-03-03  \n",
       "1             SOMATOM Emotion 16-slice Configuration  구형식  2023-03-03  \n",
       "2      TOSHIBA SCANNER Aquilion PRIME MODEL TSX-303A  구형식  2023-03-03  \n",
       "3                                   MAGNETOM Essenza  NaN  2023-03-03  \n",
       "4                     GE Signa Excite 1.5T MR System  구형식  2023-03-03  \n",
       "5  TOSHIBA SCANNER Aquilion MODEL TSX-101A(Aquili...  구형식  2023-03-03  "
      ]
     },
     "execution_count": 191,
     "metadata": {},
     "output_type": "execute_result"
    }
   ],
   "source": [
    "file"
   ]
  },
  {
   "cell_type": "code",
   "execution_count": 192,
   "id": "aadaf4a3-c8a4-4dee-b708-6036d32d10c7",
   "metadata": {},
   "outputs": [
    {
     "data": {
      "text/plain": [
       "array([[1, '강남병원', '061-818-7575', '전라남도 광양시 중마중앙로 17 (중동)', 78, 339,\n",
       "        '자기공명영상촬영장치(MRI)', 'MAGNETOM Essenza', '구형식', '2023-03-03'],\n",
       "       [2, '강남병원', '061-818-7575', '전라남도 광양시 중마중앙로 17 (중동)', 78, 196,\n",
       "        '전산화단층촬영장치(CT)', 'SOMATOM Emotion 16-slice Configuration', '구형식',\n",
       "        '2023-03-03'],\n",
       "       [3, '광양사랑병원', '061-797-7000', '전라남도 광양시 공영로 71 (중동)', 159, 50,\n",
       "        '전산화단층촬영장치(CT)', 'TOSHIBA SCANNER Aquilion PRIME MODEL TSX-303A',\n",
       "        '구형식', '2023-03-03'],\n",
       "       [4, '광양사랑병원', '061-797-7000', '전라남도 광양시 공영로 71 (중동)', 159, 50,\n",
       "        '자기공명영상촬영장치(MRI)', 'MAGNETOM Essenza', nan, '2023-03-03'],\n",
       "       [5, '의료법인 현경의료재단 광양서울병원', '061-798-9800', '전라남도 광양시 진등길 93 (마동)',\n",
       "        204, 0, '자기공명영상촬영장치(MRI)', 'GE Signa Excite 1.5T MR System',\n",
       "        '구형식', '2023-03-03'],\n",
       "       [6, '의료법인 현경의료재단 광양서울병원', '061-798-9800', '전라남도 광양시 진등길 93 (마동)',\n",
       "        204, 0, '전산화단층촬영장치(CT)',\n",
       "        'TOSHIBA SCANNER Aquilion MODEL TSX-101A(Aquilion CX)', '구형식',\n",
       "        '2023-03-03']], dtype=object)"
      ]
     },
     "execution_count": 192,
     "metadata": {},
     "output_type": "execute_result"
    }
   ],
   "source": [
    "file.values"
   ]
  },
  {
   "cell_type": "code",
   "execution_count": 193,
   "id": "4cf6c04c-9734-471c-8f34-8d90e5cb5246",
   "metadata": {},
   "outputs": [
    {
     "data": {
      "text/plain": [
       "Index(['연번', '의료기관명', '의료기관전화번호', '의료기관소재지(도로명)', '자체 병상수', '공동활용 병상수',\n",
       "       '의료장비명', '모델명', '형식명', '데이터기준일자'],\n",
       "      dtype='object')"
      ]
     },
     "execution_count": 193,
     "metadata": {},
     "output_type": "execute_result"
    }
   ],
   "source": [
    "file.columns"
   ]
  },
  {
   "cell_type": "code",
   "execution_count": 194,
   "id": "b3fbcc7c-ff87-4da1-bfea-bb235cc8ca72",
   "metadata": {},
   "outputs": [
    {
     "data": {
      "text/plain": [
       "RangeIndex(start=0, stop=6, step=1)"
      ]
     },
     "execution_count": 194,
     "metadata": {},
     "output_type": "execute_result"
    }
   ],
   "source": [
    "file.index"
   ]
  },
  {
   "cell_type": "code",
   "execution_count": 195,
   "id": "696285e1-c2e5-4e9e-97a2-96e7974e7d08",
   "metadata": {},
   "outputs": [],
   "source": [
    "del file['연번']"
   ]
  },
  {
   "cell_type": "code",
   "execution_count": 196,
   "id": "65ab2cf9-e842-4499-9c7f-b1a8837ccc02",
   "metadata": {},
   "outputs": [],
   "source": [
    "del file['형식명']"
   ]
  },
  {
   "cell_type": "code",
   "execution_count": 197,
   "id": "2ef4c8fd-077a-46f1-a92b-6dd7c975c197",
   "metadata": {},
   "outputs": [],
   "source": [
    "del file['자체 병상수']"
   ]
  },
  {
   "cell_type": "code",
   "execution_count": 198,
   "id": "04b7f084-d61e-4dc0-8b92-9551c8ffa111",
   "metadata": {},
   "outputs": [],
   "source": [
    "del file['공동활용 병상수']"
   ]
  },
  {
   "cell_type": "code",
   "execution_count": 199,
   "id": "884ef108-2d14-4870-9e79-0e43e2c177c3",
   "metadata": {},
   "outputs": [],
   "source": [
    "del file['의료기관소재지(도로명)']"
   ]
  },
  {
   "cell_type": "code",
   "execution_count": 200,
   "id": "a9faa860-1617-45b3-95c2-7bb1bd8136a5",
   "metadata": {},
   "outputs": [
    {
     "data": {
      "text/plain": [
       "Index(['의료기관명', '의료기관전화번호', '의료장비명', '모델명', '데이터기준일자'], dtype='object')"
      ]
     },
     "execution_count": 200,
     "metadata": {},
     "output_type": "execute_result"
    }
   ],
   "source": [
    "file.columns"
   ]
  },
  {
   "cell_type": "code",
   "execution_count": 201,
   "id": "c03ecd3f-733a-4e6d-9ead-fc18e3b8b242",
   "metadata": {},
   "outputs": [
    {
     "data": {
      "text/html": [
       "<div>\n",
       "<style scoped>\n",
       "    .dataframe tbody tr th:only-of-type {\n",
       "        vertical-align: middle;\n",
       "    }\n",
       "\n",
       "    .dataframe tbody tr th {\n",
       "        vertical-align: top;\n",
       "    }\n",
       "\n",
       "    .dataframe thead th {\n",
       "        text-align: right;\n",
       "    }\n",
       "</style>\n",
       "<table border=\"1\" class=\"dataframe\">\n",
       "  <thead>\n",
       "    <tr style=\"text-align: right;\">\n",
       "      <th></th>\n",
       "      <th>의료기관명</th>\n",
       "      <th>의료기관전화번호</th>\n",
       "      <th>의료장비명</th>\n",
       "      <th>모델명</th>\n",
       "      <th>데이터기준일자</th>\n",
       "    </tr>\n",
       "  </thead>\n",
       "  <tbody>\n",
       "    <tr>\n",
       "      <th>0</th>\n",
       "      <td>강남병원</td>\n",
       "      <td>061-818-7575</td>\n",
       "      <td>자기공명영상촬영장치(MRI)</td>\n",
       "      <td>MAGNETOM Essenza</td>\n",
       "      <td>2023-03-03</td>\n",
       "    </tr>\n",
       "    <tr>\n",
       "      <th>1</th>\n",
       "      <td>강남병원</td>\n",
       "      <td>061-818-7575</td>\n",
       "      <td>전산화단층촬영장치(CT)</td>\n",
       "      <td>SOMATOM Emotion 16-slice Configuration</td>\n",
       "      <td>2023-03-03</td>\n",
       "    </tr>\n",
       "    <tr>\n",
       "      <th>2</th>\n",
       "      <td>광양사랑병원</td>\n",
       "      <td>061-797-7000</td>\n",
       "      <td>전산화단층촬영장치(CT)</td>\n",
       "      <td>TOSHIBA SCANNER Aquilion PRIME MODEL TSX-303A</td>\n",
       "      <td>2023-03-03</td>\n",
       "    </tr>\n",
       "    <tr>\n",
       "      <th>3</th>\n",
       "      <td>광양사랑병원</td>\n",
       "      <td>061-797-7000</td>\n",
       "      <td>자기공명영상촬영장치(MRI)</td>\n",
       "      <td>MAGNETOM Essenza</td>\n",
       "      <td>2023-03-03</td>\n",
       "    </tr>\n",
       "    <tr>\n",
       "      <th>4</th>\n",
       "      <td>의료법인 현경의료재단 광양서울병원</td>\n",
       "      <td>061-798-9800</td>\n",
       "      <td>자기공명영상촬영장치(MRI)</td>\n",
       "      <td>GE Signa Excite 1.5T MR System</td>\n",
       "      <td>2023-03-03</td>\n",
       "    </tr>\n",
       "    <tr>\n",
       "      <th>5</th>\n",
       "      <td>의료법인 현경의료재단 광양서울병원</td>\n",
       "      <td>061-798-9800</td>\n",
       "      <td>전산화단층촬영장치(CT)</td>\n",
       "      <td>TOSHIBA SCANNER Aquilion MODEL TSX-101A(Aquili...</td>\n",
       "      <td>2023-03-03</td>\n",
       "    </tr>\n",
       "  </tbody>\n",
       "</table>\n",
       "</div>"
      ],
      "text/plain": [
       "                의료기관명      의료기관전화번호            의료장비명  \\\n",
       "0                강남병원  061-818-7575  자기공명영상촬영장치(MRI)   \n",
       "1                강남병원  061-818-7575    전산화단층촬영장치(CT)   \n",
       "2              광양사랑병원  061-797-7000    전산화단층촬영장치(CT)   \n",
       "3              광양사랑병원  061-797-7000  자기공명영상촬영장치(MRI)   \n",
       "4  의료법인 현경의료재단 광양서울병원  061-798-9800  자기공명영상촬영장치(MRI)   \n",
       "5  의료법인 현경의료재단 광양서울병원  061-798-9800    전산화단층촬영장치(CT)   \n",
       "\n",
       "                                                 모델명     데이터기준일자  \n",
       "0                                   MAGNETOM Essenza  2023-03-03  \n",
       "1             SOMATOM Emotion 16-slice Configuration  2023-03-03  \n",
       "2      TOSHIBA SCANNER Aquilion PRIME MODEL TSX-303A  2023-03-03  \n",
       "3                                   MAGNETOM Essenza  2023-03-03  \n",
       "4                     GE Signa Excite 1.5T MR System  2023-03-03  \n",
       "5  TOSHIBA SCANNER Aquilion MODEL TSX-101A(Aquili...  2023-03-03  "
      ]
     },
     "execution_count": 201,
     "metadata": {},
     "output_type": "execute_result"
    }
   ],
   "source": [
    "file"
   ]
  },
  {
   "cell_type": "code",
   "execution_count": 202,
   "id": "502bf253-cd20-49f7-bc1c-cea4c2895043",
   "metadata": {},
   "outputs": [
    {
     "data": {
      "text/plain": [
       "0                  강남병원\n",
       "1                  강남병원\n",
       "2                광양사랑병원\n",
       "3                광양사랑병원\n",
       "4    의료법인 현경의료재단 광양서울병원\n",
       "5    의료법인 현경의료재단 광양서울병원\n",
       "Name: 의료기관명, dtype: object"
      ]
     },
     "execution_count": 202,
     "metadata": {},
     "output_type": "execute_result"
    }
   ],
   "source": [
    "file['의료기관명']"
   ]
  },
  {
   "cell_type": "code",
   "execution_count": 204,
   "id": "b1850552-7ba4-40a6-a50d-b50f0e08c24c",
   "metadata": {},
   "outputs": [
    {
     "data": {
      "text/plain": [
       "의료기관명                                      의료법인 현경의료재단 광양서울병원\n",
       "의료기관전화번호                                         061-798-9800\n",
       "의료장비명                                           전산화단층촬영장치(CT)\n",
       "모델명         TOSHIBA SCANNER Aquilion MODEL TSX-101A(Aquili...\n",
       "데이터기준일자                                            2023-03-03\n",
       "Name: 5, dtype: object"
      ]
     },
     "execution_count": 204,
     "metadata": {},
     "output_type": "execute_result"
    }
   ],
   "source": [
    "file.iloc[5]"
   ]
  },
  {
   "cell_type": "code",
   "execution_count": 206,
   "id": "17a8af16-52d2-4861-8d0e-079297d0ff09",
   "metadata": {},
   "outputs": [],
   "source": [
    "file.loc[6] = ['플레이데이터', '012-345-6789', '의료장비','ENCORA','2023-03-06']"
   ]
  },
  {
   "cell_type": "code",
   "execution_count": 208,
   "id": "8326f709-c5c5-44a2-886f-77cb02b04d74",
   "metadata": {},
   "outputs": [
    {
     "data": {
      "text/html": [
       "<div>\n",
       "<style scoped>\n",
       "    .dataframe tbody tr th:only-of-type {\n",
       "        vertical-align: middle;\n",
       "    }\n",
       "\n",
       "    .dataframe tbody tr th {\n",
       "        vertical-align: top;\n",
       "    }\n",
       "\n",
       "    .dataframe thead th {\n",
       "        text-align: right;\n",
       "    }\n",
       "</style>\n",
       "<table border=\"1\" class=\"dataframe\">\n",
       "  <thead>\n",
       "    <tr style=\"text-align: right;\">\n",
       "      <th></th>\n",
       "      <th>의료기관명</th>\n",
       "      <th>의료기관전화번호</th>\n",
       "      <th>의료장비명</th>\n",
       "      <th>모델명</th>\n",
       "      <th>데이터기준일자</th>\n",
       "    </tr>\n",
       "  </thead>\n",
       "  <tbody>\n",
       "    <tr>\n",
       "      <th>0</th>\n",
       "      <td>강남병원</td>\n",
       "      <td>061-818-7575</td>\n",
       "      <td>자기공명영상촬영장치(MRI)</td>\n",
       "      <td>MAGNETOM Essenza</td>\n",
       "      <td>2023-03-03</td>\n",
       "    </tr>\n",
       "    <tr>\n",
       "      <th>1</th>\n",
       "      <td>강남병원</td>\n",
       "      <td>061-818-7575</td>\n",
       "      <td>전산화단층촬영장치(CT)</td>\n",
       "      <td>SOMATOM Emotion 16-slice Configuration</td>\n",
       "      <td>2023-03-03</td>\n",
       "    </tr>\n",
       "    <tr>\n",
       "      <th>2</th>\n",
       "      <td>광양사랑병원</td>\n",
       "      <td>061-797-7000</td>\n",
       "      <td>전산화단층촬영장치(CT)</td>\n",
       "      <td>TOSHIBA SCANNER Aquilion PRIME MODEL TSX-303A</td>\n",
       "      <td>2023-03-03</td>\n",
       "    </tr>\n",
       "    <tr>\n",
       "      <th>3</th>\n",
       "      <td>광양사랑병원</td>\n",
       "      <td>061-797-7000</td>\n",
       "      <td>자기공명영상촬영장치(MRI)</td>\n",
       "      <td>MAGNETOM Essenza</td>\n",
       "      <td>2023-03-03</td>\n",
       "    </tr>\n",
       "    <tr>\n",
       "      <th>4</th>\n",
       "      <td>의료법인 현경의료재단 광양서울병원</td>\n",
       "      <td>061-798-9800</td>\n",
       "      <td>자기공명영상촬영장치(MRI)</td>\n",
       "      <td>GE Signa Excite 1.5T MR System</td>\n",
       "      <td>2023-03-03</td>\n",
       "    </tr>\n",
       "    <tr>\n",
       "      <th>5</th>\n",
       "      <td>의료법인 현경의료재단 광양서울병원</td>\n",
       "      <td>061-798-9800</td>\n",
       "      <td>전산화단층촬영장치(CT)</td>\n",
       "      <td>TOSHIBA SCANNER Aquilion MODEL TSX-101A(Aquili...</td>\n",
       "      <td>2023-03-03</td>\n",
       "    </tr>\n",
       "    <tr>\n",
       "      <th>6</th>\n",
       "      <td>플레이데이터</td>\n",
       "      <td>012-345-6789</td>\n",
       "      <td>의료장비</td>\n",
       "      <td>ENCORA</td>\n",
       "      <td>2023-03-06</td>\n",
       "    </tr>\n",
       "  </tbody>\n",
       "</table>\n",
       "</div>"
      ],
      "text/plain": [
       "                의료기관명      의료기관전화번호            의료장비명  \\\n",
       "0                강남병원  061-818-7575  자기공명영상촬영장치(MRI)   \n",
       "1                강남병원  061-818-7575    전산화단층촬영장치(CT)   \n",
       "2              광양사랑병원  061-797-7000    전산화단층촬영장치(CT)   \n",
       "3              광양사랑병원  061-797-7000  자기공명영상촬영장치(MRI)   \n",
       "4  의료법인 현경의료재단 광양서울병원  061-798-9800  자기공명영상촬영장치(MRI)   \n",
       "5  의료법인 현경의료재단 광양서울병원  061-798-9800    전산화단층촬영장치(CT)   \n",
       "6              플레이데이터  012-345-6789             의료장비   \n",
       "\n",
       "                                                 모델명     데이터기준일자  \n",
       "0                                   MAGNETOM Essenza  2023-03-03  \n",
       "1             SOMATOM Emotion 16-slice Configuration  2023-03-03  \n",
       "2      TOSHIBA SCANNER Aquilion PRIME MODEL TSX-303A  2023-03-03  \n",
       "3                                   MAGNETOM Essenza  2023-03-03  \n",
       "4                     GE Signa Excite 1.5T MR System  2023-03-03  \n",
       "5  TOSHIBA SCANNER Aquilion MODEL TSX-101A(Aquili...  2023-03-03  \n",
       "6                                             ENCORA  2023-03-06  "
      ]
     },
     "execution_count": 208,
     "metadata": {},
     "output_type": "execute_result"
    }
   ],
   "source": [
    "file"
   ]
  },
  {
   "cell_type": "code",
   "execution_count": 211,
   "id": "5df1c42d-5cf2-4a26-b3e7-19a59af16bc9",
   "metadata": {},
   "outputs": [
    {
     "data": {
      "text/html": [
       "<div>\n",
       "<style scoped>\n",
       "    .dataframe tbody tr th:only-of-type {\n",
       "        vertical-align: middle;\n",
       "    }\n",
       "\n",
       "    .dataframe tbody tr th {\n",
       "        vertical-align: top;\n",
       "    }\n",
       "\n",
       "    .dataframe thead th {\n",
       "        text-align: right;\n",
       "    }\n",
       "</style>\n",
       "<table border=\"1\" class=\"dataframe\">\n",
       "  <thead>\n",
       "    <tr style=\"text-align: right;\">\n",
       "      <th></th>\n",
       "      <th>지역</th>\n",
       "      <th>2015</th>\n",
       "      <th>2010</th>\n",
       "      <th>2005</th>\n",
       "      <th>2000</th>\n",
       "      <th>2010-2015 증가율</th>\n",
       "    </tr>\n",
       "  </thead>\n",
       "  <tbody>\n",
       "    <tr>\n",
       "      <th>서울</th>\n",
       "      <td>수도권</td>\n",
       "      <td>9904312</td>\n",
       "      <td>9631482</td>\n",
       "      <td>9762546</td>\n",
       "      <td>9853972</td>\n",
       "      <td>-134.0</td>\n",
       "    </tr>\n",
       "    <tr>\n",
       "      <th>부산</th>\n",
       "      <td>경상권</td>\n",
       "      <td>3448737</td>\n",
       "      <td>3393191</td>\n",
       "      <td>3512547</td>\n",
       "      <td>3655437</td>\n",
       "      <td>-340.0</td>\n",
       "    </tr>\n",
       "    <tr>\n",
       "      <th>인천</th>\n",
       "      <td>수도권</td>\n",
       "      <td>2890451</td>\n",
       "      <td>2632035</td>\n",
       "      <td>2517680</td>\n",
       "      <td>2466338</td>\n",
       "      <td>454.0</td>\n",
       "    </tr>\n",
       "    <tr>\n",
       "      <th>대구</th>\n",
       "      <td>경상권</td>\n",
       "      <td>2466052</td>\n",
       "      <td>2431774</td>\n",
       "      <td>2456016</td>\n",
       "      <td>2473990</td>\n",
       "      <td>-99.0</td>\n",
       "    </tr>\n",
       "  </tbody>\n",
       "</table>\n",
       "</div>"
      ],
      "text/plain": [
       "     지역     2015     2010     2005     2000  2010-2015 증가율\n",
       "서울  수도권  9904312  9631482  9762546  9853972         -134.0\n",
       "부산  경상권  3448737  3393191  3512547  3655437         -340.0\n",
       "인천  수도권  2890451  2632035  2517680  2466338          454.0\n",
       "대구  경상권  2466052  2431774  2456016  2473990          -99.0"
      ]
     },
     "execution_count": 211,
     "metadata": {},
     "output_type": "execute_result"
    }
   ],
   "source": [
    "df[\"2010-2015 증가율\"] =  df[\"2010-2015 증가율\"] *100\n",
    "df"
   ]
  },
  {
   "cell_type": "code",
   "execution_count": 212,
   "id": "cf8a391a-c72a-4d7f-960b-ec8bc72a06b0",
   "metadata": {},
   "outputs": [
    {
     "data": {
      "text/html": [
       "<div>\n",
       "<style scoped>\n",
       "    .dataframe tbody tr th:only-of-type {\n",
       "        vertical-align: middle;\n",
       "    }\n",
       "\n",
       "    .dataframe tbody tr th {\n",
       "        vertical-align: top;\n",
       "    }\n",
       "\n",
       "    .dataframe thead th {\n",
       "        text-align: right;\n",
       "    }\n",
       "</style>\n",
       "<table border=\"1\" class=\"dataframe\">\n",
       "  <thead>\n",
       "    <tr style=\"text-align: right;\">\n",
       "      <th></th>\n",
       "      <th>지역</th>\n",
       "      <th>2015</th>\n",
       "      <th>2010</th>\n",
       "      <th>2005</th>\n",
       "      <th>2000</th>\n",
       "      <th>2010-2015 증가율</th>\n",
       "      <th>2005-2010 증가율</th>\n",
       "    </tr>\n",
       "  </thead>\n",
       "  <tbody>\n",
       "    <tr>\n",
       "      <th>서울</th>\n",
       "      <td>수도권</td>\n",
       "      <td>9904312</td>\n",
       "      <td>9631482</td>\n",
       "      <td>9762546</td>\n",
       "      <td>9853972</td>\n",
       "      <td>-134.0</td>\n",
       "      <td>-1.34</td>\n",
       "    </tr>\n",
       "    <tr>\n",
       "      <th>부산</th>\n",
       "      <td>경상권</td>\n",
       "      <td>3448737</td>\n",
       "      <td>3393191</td>\n",
       "      <td>3512547</td>\n",
       "      <td>3655437</td>\n",
       "      <td>-340.0</td>\n",
       "      <td>-3.40</td>\n",
       "    </tr>\n",
       "    <tr>\n",
       "      <th>인천</th>\n",
       "      <td>수도권</td>\n",
       "      <td>2890451</td>\n",
       "      <td>2632035</td>\n",
       "      <td>2517680</td>\n",
       "      <td>2466338</td>\n",
       "      <td>454.0</td>\n",
       "      <td>4.54</td>\n",
       "    </tr>\n",
       "    <tr>\n",
       "      <th>대구</th>\n",
       "      <td>경상권</td>\n",
       "      <td>2466052</td>\n",
       "      <td>2431774</td>\n",
       "      <td>2456016</td>\n",
       "      <td>2473990</td>\n",
       "      <td>-99.0</td>\n",
       "      <td>-0.99</td>\n",
       "    </tr>\n",
       "  </tbody>\n",
       "</table>\n",
       "</div>"
      ],
      "text/plain": [
       "     지역     2015     2010     2005     2000  2010-2015 증가율  2005-2010 증가율\n",
       "서울  수도권  9904312  9631482  9762546  9853972         -134.0          -1.34\n",
       "부산  경상권  3448737  3393191  3512547  3655437         -340.0          -3.40\n",
       "인천  수도권  2890451  2632035  2517680  2466338          454.0           4.54\n",
       "대구  경상권  2466052  2431774  2456016  2473990          -99.0          -0.99"
      ]
     },
     "execution_count": 212,
     "metadata": {},
     "output_type": "execute_result"
    }
   ],
   "source": [
    "df[\"2005-2010 증가율\"] =  ((df[\"2010\"] - df[\"2005\"]) / df[\"2005\"] *100 ).round(2)\n",
    "df"
   ]
  },
  {
   "cell_type": "code",
   "execution_count": 214,
   "id": "990133c4-f71e-4edb-8519-0510a5a61b49",
   "metadata": {},
   "outputs": [
    {
     "data": {
      "text/html": [
       "<div>\n",
       "<style scoped>\n",
       "    .dataframe tbody tr th:only-of-type {\n",
       "        vertical-align: middle;\n",
       "    }\n",
       "\n",
       "    .dataframe tbody tr th {\n",
       "        vertical-align: top;\n",
       "    }\n",
       "\n",
       "    .dataframe thead th {\n",
       "        text-align: right;\n",
       "    }\n",
       "</style>\n",
       "<table border=\"1\" class=\"dataframe\">\n",
       "  <thead>\n",
       "    <tr style=\"text-align: right;\">\n",
       "      <th></th>\n",
       "      <th>지역</th>\n",
       "      <th>2015</th>\n",
       "      <th>2010</th>\n",
       "      <th>2005</th>\n",
       "      <th>2000</th>\n",
       "      <th>2005-2010 증가율</th>\n",
       "    </tr>\n",
       "  </thead>\n",
       "  <tbody>\n",
       "    <tr>\n",
       "      <th>서울</th>\n",
       "      <td>수도권</td>\n",
       "      <td>9904312</td>\n",
       "      <td>9631482</td>\n",
       "      <td>9762546</td>\n",
       "      <td>9853972</td>\n",
       "      <td>-1.34</td>\n",
       "    </tr>\n",
       "    <tr>\n",
       "      <th>부산</th>\n",
       "      <td>경상권</td>\n",
       "      <td>3448737</td>\n",
       "      <td>3393191</td>\n",
       "      <td>3512547</td>\n",
       "      <td>3655437</td>\n",
       "      <td>-3.40</td>\n",
       "    </tr>\n",
       "    <tr>\n",
       "      <th>인천</th>\n",
       "      <td>수도권</td>\n",
       "      <td>2890451</td>\n",
       "      <td>2632035</td>\n",
       "      <td>2517680</td>\n",
       "      <td>2466338</td>\n",
       "      <td>4.54</td>\n",
       "    </tr>\n",
       "    <tr>\n",
       "      <th>대구</th>\n",
       "      <td>경상권</td>\n",
       "      <td>2466052</td>\n",
       "      <td>2431774</td>\n",
       "      <td>2456016</td>\n",
       "      <td>2473990</td>\n",
       "      <td>-0.99</td>\n",
       "    </tr>\n",
       "  </tbody>\n",
       "</table>\n",
       "</div>"
      ],
      "text/plain": [
       "     지역     2015     2010     2005     2000  2005-2010 증가율\n",
       "서울  수도권  9904312  9631482  9762546  9853972          -1.34\n",
       "부산  경상권  3448737  3393191  3512547  3655437          -3.40\n",
       "인천  수도권  2890451  2632035  2517680  2466338           4.54\n",
       "대구  경상권  2466052  2431774  2456016  2473990          -0.99"
      ]
     },
     "execution_count": 214,
     "metadata": {},
     "output_type": "execute_result"
    }
   ],
   "source": [
    "del df[\"2010-2015 증가율\"]\n",
    "df"
   ]
  },
  {
   "cell_type": "code",
   "execution_count": 216,
   "id": "fddee6dc-d40e-46cb-ad0b-b991a8e8fd8a",
   "metadata": {},
   "outputs": [],
   "source": [
    "data = {\n",
    " \"국어\": [80, 90, 70, 30],\n",
    " \"영어\": [90, 70, 60, 40],\n",
    " \"수학\": [90, 60, 80, 70],\n",
    "}\n",
    "columns = [\"국어\", \"영어\", \"수학\"]\n",
    "index = [\"춘향\", \"몽룡\", \"향단\", \"방자\"]\n",
    "df = pd.DataFrame(data, index=index, columns=columns)"
   ]
  },
  {
   "cell_type": "code",
   "execution_count": 217,
   "id": "56eba091-3170-4d4a-9626-f7fb32b409d1",
   "metadata": {},
   "outputs": [
    {
     "data": {
      "text/html": [
       "<div>\n",
       "<style scoped>\n",
       "    .dataframe tbody tr th:only-of-type {\n",
       "        vertical-align: middle;\n",
       "    }\n",
       "\n",
       "    .dataframe tbody tr th {\n",
       "        vertical-align: top;\n",
       "    }\n",
       "\n",
       "    .dataframe thead th {\n",
       "        text-align: right;\n",
       "    }\n",
       "</style>\n",
       "<table border=\"1\" class=\"dataframe\">\n",
       "  <thead>\n",
       "    <tr style=\"text-align: right;\">\n",
       "      <th></th>\n",
       "      <th>국어</th>\n",
       "      <th>영어</th>\n",
       "      <th>수학</th>\n",
       "    </tr>\n",
       "  </thead>\n",
       "  <tbody>\n",
       "    <tr>\n",
       "      <th>춘향</th>\n",
       "      <td>80</td>\n",
       "      <td>90</td>\n",
       "      <td>90</td>\n",
       "    </tr>\n",
       "    <tr>\n",
       "      <th>몽룡</th>\n",
       "      <td>90</td>\n",
       "      <td>70</td>\n",
       "      <td>60</td>\n",
       "    </tr>\n",
       "    <tr>\n",
       "      <th>향단</th>\n",
       "      <td>70</td>\n",
       "      <td>60</td>\n",
       "      <td>80</td>\n",
       "    </tr>\n",
       "    <tr>\n",
       "      <th>방자</th>\n",
       "      <td>30</td>\n",
       "      <td>40</td>\n",
       "      <td>70</td>\n",
       "    </tr>\n",
       "  </tbody>\n",
       "</table>\n",
       "</div>"
      ],
      "text/plain": [
       "    국어  영어  수학\n",
       "춘향  80  90  90\n",
       "몽룡  90  70  60\n",
       "향단  70  60  80\n",
       "방자  30  40  70"
      ]
     },
     "execution_count": 217,
     "metadata": {},
     "output_type": "execute_result"
    }
   ],
   "source": [
    "df"
   ]
  },
  {
   "cell_type": "code",
   "execution_count": 218,
   "id": "f5478260-6816-46c4-b794-b430604da0bf",
   "metadata": {},
   "outputs": [
    {
     "data": {
      "text/plain": [
       "춘향    90\n",
       "몽룡    60\n",
       "향단    80\n",
       "방자    70\n",
       "Name: 수학, dtype: int64"
      ]
     },
     "execution_count": 218,
     "metadata": {},
     "output_type": "execute_result"
    }
   ],
   "source": [
    "df[\"수학\"]"
   ]
  },
  {
   "cell_type": "code",
   "execution_count": 219,
   "id": "d0b1a705-c732-4ca3-9472-ce56ca0505a9",
   "metadata": {},
   "outputs": [
    {
     "data": {
      "text/html": [
       "<div>\n",
       "<style scoped>\n",
       "    .dataframe tbody tr th:only-of-type {\n",
       "        vertical-align: middle;\n",
       "    }\n",
       "\n",
       "    .dataframe tbody tr th {\n",
       "        vertical-align: top;\n",
       "    }\n",
       "\n",
       "    .dataframe thead th {\n",
       "        text-align: right;\n",
       "    }\n",
       "</style>\n",
       "<table border=\"1\" class=\"dataframe\">\n",
       "  <thead>\n",
       "    <tr style=\"text-align: right;\">\n",
       "      <th></th>\n",
       "      <th>국어</th>\n",
       "      <th>영어</th>\n",
       "    </tr>\n",
       "  </thead>\n",
       "  <tbody>\n",
       "    <tr>\n",
       "      <th>춘향</th>\n",
       "      <td>80</td>\n",
       "      <td>90</td>\n",
       "    </tr>\n",
       "    <tr>\n",
       "      <th>몽룡</th>\n",
       "      <td>90</td>\n",
       "      <td>70</td>\n",
       "    </tr>\n",
       "    <tr>\n",
       "      <th>향단</th>\n",
       "      <td>70</td>\n",
       "      <td>60</td>\n",
       "    </tr>\n",
       "    <tr>\n",
       "      <th>방자</th>\n",
       "      <td>30</td>\n",
       "      <td>40</td>\n",
       "    </tr>\n",
       "  </tbody>\n",
       "</table>\n",
       "</div>"
      ],
      "text/plain": [
       "    국어  영어\n",
       "춘향  80  90\n",
       "몽룡  90  70\n",
       "향단  70  60\n",
       "방자  30  40"
      ]
     },
     "execution_count": 219,
     "metadata": {},
     "output_type": "execute_result"
    }
   ],
   "source": [
    "df[[\"국어\",\"영어\"]]"
   ]
  },
  {
   "cell_type": "code",
   "execution_count": 223,
   "id": "b9063f03-89f1-41e1-b63b-a0d2765a6970",
   "metadata": {},
   "outputs": [
    {
     "data": {
      "text/html": [
       "<div>\n",
       "<style scoped>\n",
       "    .dataframe tbody tr th:only-of-type {\n",
       "        vertical-align: middle;\n",
       "    }\n",
       "\n",
       "    .dataframe tbody tr th {\n",
       "        vertical-align: top;\n",
       "    }\n",
       "\n",
       "    .dataframe thead th {\n",
       "        text-align: right;\n",
       "    }\n",
       "</style>\n",
       "<table border=\"1\" class=\"dataframe\">\n",
       "  <thead>\n",
       "    <tr style=\"text-align: right;\">\n",
       "      <th></th>\n",
       "      <th>국어</th>\n",
       "      <th>영어</th>\n",
       "      <th>수학</th>\n",
       "      <th>평균</th>\n",
       "    </tr>\n",
       "  </thead>\n",
       "  <tbody>\n",
       "    <tr>\n",
       "      <th>춘향</th>\n",
       "      <td>80</td>\n",
       "      <td>90</td>\n",
       "      <td>90</td>\n",
       "      <td>86.67</td>\n",
       "    </tr>\n",
       "    <tr>\n",
       "      <th>몽룡</th>\n",
       "      <td>90</td>\n",
       "      <td>70</td>\n",
       "      <td>60</td>\n",
       "      <td>73.33</td>\n",
       "    </tr>\n",
       "    <tr>\n",
       "      <th>향단</th>\n",
       "      <td>70</td>\n",
       "      <td>60</td>\n",
       "      <td>80</td>\n",
       "      <td>70.00</td>\n",
       "    </tr>\n",
       "    <tr>\n",
       "      <th>방자</th>\n",
       "      <td>30</td>\n",
       "      <td>40</td>\n",
       "      <td>70</td>\n",
       "      <td>46.67</td>\n",
       "    </tr>\n",
       "  </tbody>\n",
       "</table>\n",
       "</div>"
      ],
      "text/plain": [
       "    국어  영어  수학     평균\n",
       "춘향  80  90  90  86.67\n",
       "몽룡  90  70  60  73.33\n",
       "향단  70  60  80  70.00\n",
       "방자  30  40  70  46.67"
      ]
     },
     "execution_count": 223,
     "metadata": {},
     "output_type": "execute_result"
    }
   ],
   "source": [
    "df[\"평균\"] =  ((df[\"국어\"] + df[\"영어\"]+ df[\"수학\"]) / 3).round(2)\n",
    "df"
   ]
  },
  {
   "cell_type": "code",
   "execution_count": 225,
   "id": "89c53677-87fb-4431-b592-ddd3ee3cbca1",
   "metadata": {},
   "outputs": [
    {
     "data": {
      "text/html": [
       "<div>\n",
       "<style scoped>\n",
       "    .dataframe tbody tr th:only-of-type {\n",
       "        vertical-align: middle;\n",
       "    }\n",
       "\n",
       "    .dataframe tbody tr th {\n",
       "        vertical-align: top;\n",
       "    }\n",
       "\n",
       "    .dataframe thead th {\n",
       "        text-align: right;\n",
       "    }\n",
       "</style>\n",
       "<table border=\"1\" class=\"dataframe\">\n",
       "  <thead>\n",
       "    <tr style=\"text-align: right;\">\n",
       "      <th></th>\n",
       "      <th>국어</th>\n",
       "      <th>영어</th>\n",
       "      <th>수학</th>\n",
       "      <th>평균</th>\n",
       "    </tr>\n",
       "  </thead>\n",
       "  <tbody>\n",
       "    <tr>\n",
       "      <th>춘향</th>\n",
       "      <td>80</td>\n",
       "      <td>90</td>\n",
       "      <td>90</td>\n",
       "      <td>86.67</td>\n",
       "    </tr>\n",
       "  </tbody>\n",
       "</table>\n",
       "</div>"
      ],
      "text/plain": [
       "    국어  영어  수학     평균\n",
       "춘향  80  90  90  86.67"
      ]
     },
     "execution_count": 225,
     "metadata": {},
     "output_type": "execute_result"
    }
   ],
   "source": [
    "df[:1]"
   ]
  },
  {
   "cell_type": "code",
   "execution_count": 226,
   "id": "d8f60439-b745-4399-a11f-b38e61f4e545",
   "metadata": {},
   "outputs": [
    {
     "data": {
      "text/plain": [
       "국어    70.0\n",
       "영어    60.0\n",
       "수학    80.0\n",
       "평균    70.0\n",
       "Name: 향단, dtype: float64"
      ]
     },
     "execution_count": 226,
     "metadata": {},
     "output_type": "execute_result"
    }
   ],
   "source": [
    "df.T[\"향단\"]"
   ]
  },
  {
   "cell_type": "code",
   "execution_count": 261,
   "id": "9f34e5b8-5c77-49bd-8cbe-fad992d76c01",
   "metadata": {},
   "outputs": [
    {
     "data": {
      "text/plain": [
       "DatetimeIndex(['2013-02-06', '2013-02-07', '2013-02-08', '2013-02-09',\n",
       "               '2013-02-10', '2013-02-11'],\n",
       "              dtype='datetime64[ns]', freq='D')"
      ]
     },
     "execution_count": 261,
     "metadata": {},
     "output_type": "execute_result"
    }
   ],
   "source": [
    "import random\n",
    "import numpy as np\n",
    "\n",
    "random.seed(0)\n",
    "columns = ['A','B','C','D']\n",
    "index = pd.date_range(\"20130206\",periods = 6)\n",
    "index"
   ]
  },
  {
   "cell_type": "code",
   "execution_count": 262,
   "id": "d2850d58-ecae-4479-a0e1-85acaffa1540",
   "metadata": {},
   "outputs": [],
   "source": [
    "df = pd.DataFrame(np.random.randn(6,4), index=index, columns=columns)"
   ]
  },
  {
   "cell_type": "code",
   "execution_count": 263,
   "id": "84f1fd1a-9606-47c4-abe3-3a4f39c440c8",
   "metadata": {},
   "outputs": [
    {
     "data": {
      "text/html": [
       "<div>\n",
       "<style scoped>\n",
       "    .dataframe tbody tr th:only-of-type {\n",
       "        vertical-align: middle;\n",
       "    }\n",
       "\n",
       "    .dataframe tbody tr th {\n",
       "        vertical-align: top;\n",
       "    }\n",
       "\n",
       "    .dataframe thead th {\n",
       "        text-align: right;\n",
       "    }\n",
       "</style>\n",
       "<table border=\"1\" class=\"dataframe\">\n",
       "  <thead>\n",
       "    <tr style=\"text-align: right;\">\n",
       "      <th></th>\n",
       "      <th>A</th>\n",
       "      <th>B</th>\n",
       "      <th>C</th>\n",
       "      <th>D</th>\n",
       "    </tr>\n",
       "  </thead>\n",
       "  <tbody>\n",
       "    <tr>\n",
       "      <th>2013-02-06</th>\n",
       "      <td>-0.729228</td>\n",
       "      <td>-0.385991</td>\n",
       "      <td>0.991040</td>\n",
       "      <td>1.152775</td>\n",
       "    </tr>\n",
       "    <tr>\n",
       "      <th>2013-02-07</th>\n",
       "      <td>-0.636613</td>\n",
       "      <td>0.730403</td>\n",
       "      <td>-0.401716</td>\n",
       "      <td>-1.478495</td>\n",
       "    </tr>\n",
       "    <tr>\n",
       "      <th>2013-02-08</th>\n",
       "      <td>-0.327078</td>\n",
       "      <td>0.532656</td>\n",
       "      <td>1.778345</td>\n",
       "      <td>-0.047343</td>\n",
       "    </tr>\n",
       "    <tr>\n",
       "      <th>2013-02-09</th>\n",
       "      <td>-0.288237</td>\n",
       "      <td>-0.248276</td>\n",
       "      <td>0.633592</td>\n",
       "      <td>-1.213681</td>\n",
       "    </tr>\n",
       "    <tr>\n",
       "      <th>2013-02-10</th>\n",
       "      <td>1.203639</td>\n",
       "      <td>-0.473568</td>\n",
       "      <td>-0.239065</td>\n",
       "      <td>-0.390519</td>\n",
       "    </tr>\n",
       "    <tr>\n",
       "      <th>2013-02-11</th>\n",
       "      <td>-0.860132</td>\n",
       "      <td>1.424838</td>\n",
       "      <td>0.218102</td>\n",
       "      <td>0.137955</td>\n",
       "    </tr>\n",
       "  </tbody>\n",
       "</table>\n",
       "</div>"
      ],
      "text/plain": [
       "                   A         B         C         D\n",
       "2013-02-06 -0.729228 -0.385991  0.991040  1.152775\n",
       "2013-02-07 -0.636613  0.730403 -0.401716 -1.478495\n",
       "2013-02-08 -0.327078  0.532656  1.778345 -0.047343\n",
       "2013-02-09 -0.288237 -0.248276  0.633592 -1.213681\n",
       "2013-02-10  1.203639 -0.473568 -0.239065 -0.390519\n",
       "2013-02-11 -0.860132  1.424838  0.218102  0.137955"
      ]
     },
     "execution_count": 263,
     "metadata": {},
     "output_type": "execute_result"
    }
   ],
   "source": [
    "df"
   ]
  },
  {
   "cell_type": "code",
   "execution_count": 265,
   "id": "0e9d33ed-dc15-4cb6-87f5-2ee8ef55baee",
   "metadata": {},
   "outputs": [
    {
     "name": "stdout",
     "output_type": "stream",
     "text": [
      "DatetimeIndex(['2013-02-26', '2013-02-27', '2013-02-28', '2013-03-01',\n",
      "               '2013-03-02', '2013-03-03'],\n",
      "              dtype='datetime64[ns]', freq='D')\n"
     ]
    },
    {
     "data": {
      "text/html": [
       "<div>\n",
       "<style scoped>\n",
       "    .dataframe tbody tr th:only-of-type {\n",
       "        vertical-align: middle;\n",
       "    }\n",
       "\n",
       "    .dataframe tbody tr th {\n",
       "        vertical-align: top;\n",
       "    }\n",
       "\n",
       "    .dataframe thead th {\n",
       "        text-align: right;\n",
       "    }\n",
       "</style>\n",
       "<table border=\"1\" class=\"dataframe\">\n",
       "  <thead>\n",
       "    <tr style=\"text-align: right;\">\n",
       "      <th></th>\n",
       "      <th>A</th>\n",
       "      <th>B</th>\n",
       "      <th>C</th>\n",
       "      <th>D</th>\n",
       "    </tr>\n",
       "  </thead>\n",
       "  <tbody>\n",
       "    <tr>\n",
       "      <th>2013-02-26</th>\n",
       "      <td>1.764052</td>\n",
       "      <td>0.400157</td>\n",
       "      <td>0.978738</td>\n",
       "      <td>2.240893</td>\n",
       "    </tr>\n",
       "    <tr>\n",
       "      <th>2013-02-27</th>\n",
       "      <td>1.867558</td>\n",
       "      <td>-0.977278</td>\n",
       "      <td>0.950088</td>\n",
       "      <td>-0.151357</td>\n",
       "    </tr>\n",
       "    <tr>\n",
       "      <th>2013-02-28</th>\n",
       "      <td>-0.103219</td>\n",
       "      <td>0.410599</td>\n",
       "      <td>0.144044</td>\n",
       "      <td>1.454274</td>\n",
       "    </tr>\n",
       "    <tr>\n",
       "      <th>2013-03-01</th>\n",
       "      <td>0.761038</td>\n",
       "      <td>0.121675</td>\n",
       "      <td>0.443863</td>\n",
       "      <td>0.333674</td>\n",
       "    </tr>\n",
       "    <tr>\n",
       "      <th>2013-03-02</th>\n",
       "      <td>1.494079</td>\n",
       "      <td>-0.205158</td>\n",
       "      <td>0.313068</td>\n",
       "      <td>-0.854096</td>\n",
       "    </tr>\n",
       "    <tr>\n",
       "      <th>2013-03-03</th>\n",
       "      <td>-2.552990</td>\n",
       "      <td>0.653619</td>\n",
       "      <td>0.864436</td>\n",
       "      <td>-0.742165</td>\n",
       "    </tr>\n",
       "  </tbody>\n",
       "</table>\n",
       "</div>"
      ],
      "text/plain": [
       "                   A         B         C         D\n",
       "2013-02-26  1.764052  0.400157  0.978738  2.240893\n",
       "2013-02-27  1.867558 -0.977278  0.950088 -0.151357\n",
       "2013-02-28 -0.103219  0.410599  0.144044  1.454274\n",
       "2013-03-01  0.761038  0.121675  0.443863  0.333674\n",
       "2013-03-02  1.494079 -0.205158  0.313068 -0.854096\n",
       "2013-03-03 -2.552990  0.653619  0.864436 -0.742165"
      ]
     },
     "execution_count": 265,
     "metadata": {},
     "output_type": "execute_result"
    }
   ],
   "source": [
    "np.random.seed(0)\n",
    "dates = pd.date_range(\"2013-02-26\",periods=6)\n",
    "print(dates)\n",
    "df3 = pd.DataFrame(np.random.randn(6,4), index=dates, columns=list(\"ABCD\"))\n",
    "df3"
   ]
  },
  {
   "cell_type": "code",
   "execution_count": null,
   "id": "c16817d7-b8bf-4136-8436-4cbf730ec0db",
   "metadata": {},
   "outputs": [],
   "source": []
  }
 ],
 "metadata": {
  "kernelspec": {
   "display_name": "Python 3 (ipykernel)",
   "language": "python",
   "name": "python3"
  },
  "language_info": {
   "codemirror_mode": {
    "name": "ipython",
    "version": 3
   },
   "file_extension": ".py",
   "mimetype": "text/x-python",
   "name": "python",
   "nbconvert_exporter": "python",
   "pygments_lexer": "ipython3",
   "version": "3.9.13"
  }
 },
 "nbformat": 4,
 "nbformat_minor": 5
}
