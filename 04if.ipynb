{
 "cells": [
  {
   "cell_type": "code",
   "execution_count": 10,
   "id": "4ab5fa89-2727-4393-bdac-d87c2dee3a79",
   "metadata": {},
   "outputs": [
    {
     "name": "stdin",
     "output_type": "stream",
     "text": [
      "발주 수량을 입력하세요: 1300\n"
     ]
    },
    {
     "name": "stdout",
     "output_type": "stream",
     "text": [
      "1300개를 주문하셨습니다.\n",
      "적용 할인율은 5%입니다.\n",
      "총 발주 금액은 $12350입니다.\n"
     ]
    }
   ],
   "source": [
    "count = int(input(\"발주 수량을 입력하세요:\"))\n",
    "print(count,\"개를 주문하셨습니다.\",sep=\"\")\n",
    "\n",
    "if count<1000:\n",
    "    a=0\n",
    "elif 1000<=count<1500:\n",
    "    a=5\n",
    "elif 1500<=count<2000:\n",
    "    a=10\n",
    "elif 2000<=count:\n",
    "    a=20\n",
    "    \n",
    "print(\"적용 할인율은 {}%입니다.\".format(a))\n",
    "print(\"총 발주 금액은 ${}입니다.\".format(int(count*10*(1-(a/100)))))"
   ]
  },
  {
   "cell_type": "code",
   "execution_count": 19,
   "id": "7ecafc6a-56a8-45a5-a919-f7d3b667845a",
   "metadata": {},
   "outputs": [
    {
     "name": "stdin",
     "output_type": "stream",
     "text": [
      "주민번호 뒷자리를 입력하세요: 12\n"
     ]
    },
    {
     "name": "stdout",
     "output_type": "stream",
     "text": [
      "자리수를 잘못 입력했습니다.\n"
     ]
    }
   ],
   "source": [
    "number = list(map(int,input(\"주민번호 뒷자리를 입력하세요:\")))\n",
    "num = (1,2,3,4)\n",
    "if len(number)==7:\n",
    "    if number[0] in num:\n",
    "        if number[0]==1 or number[0]==3 :\n",
    "            print(\"남자\")\n",
    "        else :\n",
    "            print(\"여자\")\n",
    "    else:\n",
    "        print(\"잘못된 입력입니다.\")\n",
    "else:\n",
    "    print(\"자리수를 잘못 입력했습니다.\")"
   ]
  },
  {
   "cell_type": "code",
   "execution_count": 33,
   "id": "765a6b74-26bd-4a44-af23-d1595c2254a4",
   "metadata": {},
   "outputs": [
    {
     "name": "stdin",
     "output_type": "stream",
     "text": [
      "확인할 연도를 입력하세요: 1900\n"
     ]
    },
    {
     "name": "stdout",
     "output_type": "stream",
     "text": [
      "평년입니다.\n"
     ]
    }
   ],
   "source": [
    "year = int(input(\"확인할 연도를 입력하세요:\"))\n",
    "a=\"평년\"\n",
    "\n",
    "if (year%4==0) and (year%100!=0) and (year%400==0) :\n",
    "    a=\"윤년\"\n",
    "\n",
    "print(\"{}입니다.\".format(a))"
   ]
  },
  {
   "cell_type": "code",
   "execution_count": 32,
   "id": "06fac68f-1aba-4812-9694-5849e87a59e8",
   "metadata": {},
   "outputs": [
    {
     "name": "stdin",
     "output_type": "stream",
     "text": [
      "확인할 연도를 입력하세요: 1900\n"
     ]
    },
    {
     "name": "stdout",
     "output_type": "stream",
     "text": [
      "평년입니다.\n"
     ]
    }
   ],
   "source": [
    "year = int(input(\"확인할 연도를 입력하세요:\"))\n",
    "if (year%4)==0 :\n",
    "    if (year%100==0) and (year%400!=0):\n",
    "        print(\"평년입니다.\")\n",
    "    else:\n",
    "        print(\"윤년입니다.\")\n",
    "else:\n",
    "    print(\"평년입니다.\")"
   ]
  },
  {
   "cell_type": "code",
   "execution_count": 1,
   "id": "2433b9a1-d95d-441d-b821-77ac59d1ead5",
   "metadata": {},
   "outputs": [
    {
     "name": "stdout",
     "output_type": "stream",
     "text": [
      "[2, 4, 6, 8, 10, 12, 14, 16, 18, 20, 22, 24, 26, 28, 30, 32, 34, 36, 38, 40, 42, 44, 46, 48, 50, 52, 54, 56, 58, 60, 62, 64, 66, 68, 70, 72, 74, 76, 78, 80, 82, 84, 86, 88, 90, 92, 94, 96, 98]\n"
     ]
    }
   ],
   "source": [
    "even_numbers = list(range(2,100,2))\n",
    "print(even_numbers)"
   ]
  },
  {
   "cell_type": "code",
   "execution_count": 3,
   "id": "be0b2a3f-fc60-4ebe-a49b-8011b5571356",
   "metadata": {},
   "outputs": [
    {
     "name": "stdout",
     "output_type": "stream",
     "text": [
      "0 Hello World\n",
      "1 Hello World\n",
      "2 Hello World\n",
      "3 Hello World\n",
      "4 Hello World\n"
     ]
    }
   ],
   "source": [
    "for i in range(5):\n",
    "    print(i,\"Hello World\")"
   ]
  },
  {
   "cell_type": "code",
   "execution_count": 5,
   "id": "59f02b0e-15f3-4485-a92d-4d5b07b2db51",
   "metadata": {},
   "outputs": [
    {
     "name": "stdout",
     "output_type": "stream",
     "text": [
      "Hello world 1\n",
      "Hello world 2\n",
      "Hello world 3\n",
      "Hello world 4\n",
      "Hello world 5\n",
      "Hello world 6\n",
      "Hello world 7\n",
      "Hello world 8\n",
      "Hello world 9\n",
      "Hello world 10\n",
      "Hello world 11\n",
      "Hello world 12\n",
      "Hello world 13\n",
      "Hello world 14\n",
      "Hello world 15\n",
      "Hello world 16\n",
      "Hello world 17\n",
      "Hello world 18\n",
      "Hello world 19\n",
      "Hello world 20\n",
      "Hello world 21\n",
      "Hello world 22\n",
      "Hello world 23\n",
      "Hello world 24\n",
      "Hello world 25\n",
      "Hello world 26\n",
      "Hello world 27\n",
      "Hello world 28\n",
      "Hello world 29\n",
      "Hello world 30\n",
      "Hello world 31\n",
      "Hello world 32\n",
      "Hello world 33\n",
      "Hello world 34\n",
      "Hello world 35\n",
      "Hello world 36\n",
      "Hello world 37\n",
      "Hello world 38\n",
      "Hello world 39\n",
      "Hello world 40\n",
      "Hello world 41\n",
      "Hello world 42\n",
      "Hello world 43\n",
      "Hello world 44\n",
      "Hello world 45\n",
      "Hello world 46\n",
      "Hello world 47\n",
      "Hello world 48\n",
      "Hello world 49\n",
      "Hello world 50\n",
      "Hello world 51\n",
      "Hello world 52\n",
      "Hello world 53\n",
      "Hello world 54\n",
      "Hello world 55\n",
      "Hello world 56\n",
      "Hello world 57\n",
      "Hello world 58\n",
      "Hello world 59\n",
      "Hello world 60\n",
      "Hello world 61\n",
      "Hello world 62\n",
      "Hello world 63\n",
      "Hello world 64\n",
      "Hello world 65\n",
      "Hello world 66\n",
      "Hello world 67\n",
      "Hello world 68\n",
      "Hello world 69\n",
      "Hello world 70\n",
      "Hello world 71\n",
      "Hello world 72\n",
      "Hello world 73\n",
      "Hello world 74\n",
      "Hello world 75\n",
      "Hello world 76\n",
      "Hello world 77\n",
      "Hello world 78\n",
      "Hello world 79\n",
      "Hello world 80\n",
      "Hello world 81\n",
      "Hello world 82\n",
      "Hello world 83\n",
      "Hello world 84\n",
      "Hello world 85\n",
      "Hello world 86\n",
      "Hello world 87\n",
      "Hello world 88\n",
      "Hello world 89\n",
      "Hello world 90\n",
      "Hello world 91\n",
      "Hello world 92\n",
      "Hello world 93\n",
      "Hello world 94\n",
      "Hello world 95\n",
      "Hello world 96\n",
      "Hello world 97\n",
      "Hello world 98\n",
      "Hello world 99\n",
      "Hello world 100\n"
     ]
    }
   ],
   "source": [
    "for i in range(100):\n",
    "    print(f\"Hello world {i+1}\")"
   ]
  },
  {
   "cell_type": "code",
   "execution_count": 7,
   "id": "561d0527-1263-47fc-9981-b0e4c16ea974",
   "metadata": {},
   "outputs": [
    {
     "name": "stdin",
     "output_type": "stream",
     "text": [
      "인사 몇 번 해드릴까요? 5\n"
     ]
    },
    {
     "name": "stdout",
     "output_type": "stream",
     "text": [
      "Hello world\n",
      "Hello world\n",
      "Hello world\n",
      "Hello world\n",
      "Hello world\n"
     ]
    }
   ],
   "source": [
    "count = int(input(\"인사 몇 번 해드릴까요?\"))\n",
    "\n",
    "for i in range(count):\n",
    "    print(\"Hello world\")"
   ]
  },
  {
   "cell_type": "code",
   "execution_count": 15,
   "id": "d3d3b9d4-2b12-4d11-86ea-7bcde8d30f49",
   "metadata": {},
   "outputs": [
    {
     "name": "stdout",
     "output_type": "stream",
     "text": [
      "()\n"
     ]
    }
   ],
   "source": [
    "list(n)\n",
    "for i in range(5,5,1):\n",
    "    print(i)\n",
    "    n.append(i)\n",
    "print(n)"
   ]
  },
  {
   "cell_type": "code",
   "execution_count": 23,
   "id": "97f794bd-1445-4baf-86bc-8e0e319dfe73",
   "metadata": {},
   "outputs": [
    {
     "name": "stdin",
     "output_type": "stream",
     "text": [
      "자연수 하나 입력해주세요: 5\n"
     ]
    },
    {
     "name": "stdout",
     "output_type": "stream",
     "text": [
      "5 \t5 \t5 \t5 \t5 \t\n",
      "\n",
      "4 \t4 \t4 \t4 \t\n",
      "\n",
      "3 \t3 \t3 \t\n",
      "\n",
      "2 \t2 \t\n",
      "\n",
      "1 \t\n",
      "\n"
     ]
    }
   ],
   "source": [
    "count = int(input(\"자연수 하나 입력해주세요:\"))\n",
    "\n",
    "for i in range(count):\n",
    "    for i in range(count):\n",
    "        print(count,\"\\t\",end=(\"\"))\n",
    "    print(\"\\n\")\n",
    "    count-=1"
   ]
  },
  {
   "cell_type": "code",
   "execution_count": 25,
   "id": "1cb85b47-56b5-462c-b0d2-d5accc068eda",
   "metadata": {},
   "outputs": [
    {
     "name": "stdin",
     "output_type": "stream",
     "text": [
      "자연수 하나 입력해주세요: 6\n"
     ]
    },
    {
     "name": "stdout",
     "output_type": "stream",
     "text": [
      "6\t6\t6\t6\t6\t6\t\n",
      "5\t5\t5\t5\t5\t\n",
      "4\t4\t4\t4\t\n",
      "3\t3\t3\t\n",
      "2\t2\t\n",
      "1\t\n"
     ]
    }
   ],
   "source": [
    "input_value2 = int(input(\"자연수 하나 입력해주세요:\"))\n",
    "\n",
    "for i in range(input_value2,0,-1):\n",
    "    for j in range(i) :\n",
    "        print(i, end = '\\t')\n",
    "    print()"
   ]
  },
  {
   "cell_type": "code",
   "execution_count": 32,
   "id": "82a8d9c1-041b-44fd-97ca-305ea29eafa0",
   "metadata": {},
   "outputs": [
    {
     "name": "stdout",
     "output_type": "stream",
     "text": [
      "* * * * * * * * * * \n",
      "*                 *\n",
      "*                 *\n",
      "*                 *\n",
      "*                 *\n",
      "*                 *\n",
      "*                 *\n",
      "*                 *\n",
      "*                 *\n",
      "* * * * * * * * * * \n"
     ]
    }
   ],
   "source": [
    "for i in range(10):\n",
    "    if i==0 or i==9 :\n",
    "        print(\"* \"*10)\n",
    "    else:\n",
    "        print(\"*\"+\" \"*17+\"*\")"
   ]
  },
  {
   "cell_type": "code",
   "execution_count": 42,
   "id": "a46ab2cf-da6d-431d-89a1-25151ee833ed",
   "metadata": {},
   "outputs": [
    {
     "name": "stdin",
     "output_type": "stream",
     "text": [
      "1부터 입력한 자연수 까지의 모든 홀수의 합을 구합니다. 100\n"
     ]
    },
    {
     "name": "stdout",
     "output_type": "stream",
     "text": [
      "1+3+5+7+9+11+13+15+17+19+21+23+25+27+29+31+33+35+37+39+41+43+45+47+49+51+53+55+57+59+61+63+65+67+69+71+73+75+77+79+81+83+85+87+89+91+93+95+97+99=2500\n"
     ]
    }
   ],
   "source": [
    "value = int(input(\"1부터 입력한 자연수 까지의 모든 홀수의 합을 구합니다.\"))\n",
    "num=0\n",
    "for i in range(value):\n",
    "    if (i%2==1) :\n",
    "        print(i,end=(\"\"))\n",
    "        if ((value%2==1) and (i==value)) or ((value-1)%2==1) and (i==(value-1)):\n",
    "            print(\"=\",end=(\"\"))\n",
    "        else:\n",
    "            print(\"+\",end=(\"\"))\n",
    "        num+=i\n",
    "print(num)"
   ]
  },
  {
   "cell_type": "code",
   "execution_count": 43,
   "id": "b9f8c1d5-0fe1-458c-a86f-ec047e2ec89c",
   "metadata": {},
   "outputs": [
    {
     "name": "stdin",
     "output_type": "stream",
     "text": [
      "1부터 입력한 자연수 까지의 모든 홀수의 합을 구합니다. 100\n"
     ]
    },
    {
     "name": "stdout",
     "output_type": "stream",
     "text": [
      "1+3+5+7+9+11+13+15+17+19+21+23+25+27+29+31+33+35+37+39+41+43+45+47+49+51+53+55+57+59+61+63+65+67+69+71+73+75+77+79+81+83+85+87+89+91+93+95+97+99=2500\n"
     ]
    }
   ],
   "source": [
    "value = int(input(\"1부터 입력한 자연수 까지의 모든 홀수의 합을 구합니다.\"))\n",
    "num=0\n",
    "for i in range(1,value+1):\n",
    "    if (i%2==1) :\n",
    "        print(i,end=(\"\"))\n",
    "        if (i==value) or (i==(value-1)):\n",
    "            print(\"=\",end=(\"\"))\n",
    "        else:\n",
    "            print(\"+\",end=(\"\"))\n",
    "        num+=i\n",
    "print(num)"
   ]
  },
  {
   "cell_type": "code",
   "execution_count": 48,
   "id": "18cbd615-7fe8-4f71-b53c-be8a0efd0362",
   "metadata": {},
   "outputs": [
    {
     "name": "stdin",
     "output_type": "stream",
     "text": [
      "계승을 구할 숫자를 입력하세요.  7\n"
     ]
    },
    {
     "name": "stdout",
     "output_type": "stream",
     "text": [
      "5040\n"
     ]
    }
   ],
   "source": [
    "value = int(input(\"계승을 구할 숫자를 입력하세요. \"))\n",
    "num=1\n",
    "for i in range(1,value+1):\n",
    "    num*=i\n",
    "print(num)"
   ]
  },
  {
   "cell_type": "code",
   "execution_count": 49,
   "id": "4927c7d7-d614-47c2-ac56-510616948461",
   "metadata": {},
   "outputs": [
    {
     "name": "stdout",
     "output_type": "stream",
     "text": [
      "십 구 팔 칠 륙 오 사 삼 이 일 "
     ]
    }
   ],
   "source": [
    "for i in reversed(\"일이삼사오륙칠팔구십\"):\n",
    "    print(i,end=\" \")"
   ]
  },
  {
   "cell_type": "code",
   "execution_count": 51,
   "id": "10e8859e-2f87-4d8e-b317-cc8568134f16",
   "metadata": {},
   "outputs": [
    {
     "name": "stdout",
     "output_type": "stream",
     "text": [
      "일 이 삼 사 오 륙 칠 팔 구 십 "
     ]
    }
   ],
   "source": [
    "for i in (\"일이삼사오륙칠팔구십\"):\n",
    "    print(i,end=\" \")"
   ]
  },
  {
   "cell_type": "code",
   "execution_count": null,
   "id": "7e6c52de-017a-479a-a73d-e385557b2997",
   "metadata": {},
   "outputs": [],
   "source": [
    "x=[10,-42,25,103,21,77,24]\n",
    "\n",
    "for i in x:\n",
    "    print(\" i\")\n",
    "print(list(x))"
   ]
  },
  {
   "cell_type": "code",
   "execution_count": 9,
   "id": "c2794de1-09f6-43fe-8860-32e1cb4e8702",
   "metadata": {},
   "outputs": [
    {
     "name": "stdout",
     "output_type": "stream",
     "text": [
      "100 -420 250 1030 210 770 240 "
     ]
    }
   ],
   "source": [
    "x=[10,-42,25,103,21,77,24]\n",
    "for i in range(len(x)):\n",
    "    x[i] *= 10\n",
    "    print(x[i],end=\" \")"
   ]
  },
  {
   "cell_type": "code",
   "execution_count": 11,
   "id": "52f540fd-ae33-477d-9d1b-d8253995c13f",
   "metadata": {},
   "outputs": [
    {
     "name": "stdout",
     "output_type": "stream",
     "text": [
      "100 -420 250 1030 210 770 240 "
     ]
    }
   ],
   "source": [
    "x=[10,-42,25,103,21,77,24]\n",
    "for i in x:\n",
    "    print(i * 10,end=\" \")"
   ]
  },
  {
   "cell_type": "code",
   "execution_count": 13,
   "id": "85a59008-ec28-481a-80a4-bece21cfba3c",
   "metadata": {},
   "outputs": [
    {
     "name": "stdin",
     "output_type": "stream",
     "text": [
      "구구단을 알려드립니다. 숫자를 입력하세요. 9\n"
     ]
    },
    {
     "name": "stdout",
     "output_type": "stream",
     "text": [
      "9 * 1 = 9\n",
      "9 * 2 = 18\n",
      "9 * 3 = 27\n",
      "9 * 4 = 36\n",
      "9 * 5 = 45\n",
      "9 * 6 = 54\n",
      "9 * 7 = 63\n",
      "9 * 8 = 72\n",
      "9 * 9 = 81\n"
     ]
    }
   ],
   "source": [
    "num=int(input(\"구구단을 알려드립니다. 숫자를 입력하세요.\"))\n",
    "\n",
    "for i in range(1,num+1):\n",
    "    print(num,\"*\",i,\"=\",num*i)"
   ]
  },
  {
   "cell_type": "code",
   "execution_count": 1,
   "id": "87a76911-3ded-411e-b6c1-79a1d163e395",
   "metadata": {},
   "outputs": [
    {
     "name": "stdin",
     "output_type": "stream",
     "text": [
      "자연수를 입력해주세요: 100\n"
     ]
    },
    {
     "name": "stdout",
     "output_type": "stream",
     "text": [
      "5050\n"
     ]
    }
   ],
   "source": [
    "num=int(input(\"자연수를 입력해주세요:\"))\n",
    "number=0\n",
    "for i in range(1,num+1):\n",
    "    number+=i\n",
    "print(number)"
   ]
  },
  {
   "cell_type": "code",
   "execution_count": null,
   "id": "57396161-698b-463b-b1e8-c6e2f228007a",
   "metadata": {},
   "outputs": [],
   "source": []
  },
  {
   "cell_type": "code",
   "execution_count": null,
   "id": "c304d523-f039-4a19-bcb3-fad2a9b9fa03",
   "metadata": {},
   "outputs": [],
   "source": []
  },
  {
   "cell_type": "code",
   "execution_count": 2,
   "id": "2e909e6b-b408-4853-9cdf-afca18f79e29",
   "metadata": {},
   "outputs": [
    {
     "name": "stdout",
     "output_type": "stream",
     "text": [
      "*****\n",
      "*****\n",
      "*****\n",
      "*****\n",
      "*****\n"
     ]
    }
   ],
   "source": [
    "for i in range(5):\n",
    "    print('*'*5)"
   ]
  },
  {
   "cell_type": "code",
   "execution_count": 1,
   "id": "5fe9aa32-172b-48b2-8f2b-13f605c23d03",
   "metadata": {},
   "outputs": [
    {
     "name": "stdin",
     "output_type": "stream",
     "text": [
      "반복할 횟수를 입력하세요:  3\n"
     ]
    },
    {
     "name": "stdout",
     "output_type": "stream",
     "text": [
      "Hello world 3\n",
      "Hello world 2\n",
      "Hello world 1\n"
     ]
    }
   ],
   "source": [
    "count = int(input(\"반복할 횟수를 입력하세요: \"))\n",
    "\n",
    "while count >0 :\n",
    "    print(\"Hello world\",count)\n",
    "    count-=1"
   ]
  },
  {
   "cell_type": "code",
   "execution_count": 3,
   "id": "875221a9-ad0e-46f6-95fb-688834dae154",
   "metadata": {},
   "outputs": [
    {
     "name": "stdout",
     "output_type": "stream",
     "text": [
      "2\t4\t6\t8\t10\t12\t14\t16\t18\t20\t22\t24\t26\t28\t30\t32\t34\t36\t38\t40\t42\t44\t46\t48\t50\t52\t54\t56\t58\t60\t62\t64\t66\t68\t70\t72\t74\t76\t78\t80\t82\t84\t86\t88\t90\t92\t94\t96\t98\t100\t"
     ]
    }
   ],
   "source": [
    "num=1\n",
    "while num<=100:\n",
    "    if num%2==0 :\n",
    "        print(num,end='\\t')\n",
    "    num+=1"
   ]
  },
  {
   "cell_type": "code",
   "execution_count": 1,
   "id": "dfed10b3-4087-463a-8aea-67ec79b4c42e",
   "metadata": {},
   "outputs": [
    {
     "name": "stdout",
     "output_type": "stream",
     "text": [
      "len(a) : 4\n",
      "87\n",
      "22\n",
      "31\n",
      "98\n"
     ]
    }
   ],
   "source": [
    "a=[87,22,31,98]\n",
    "\n",
    "print(f\"len(a) : {len(a)}\")\n",
    "\n",
    "i=0\n",
    "while i<len(a) :\n",
    "    print(a[i])\n",
    "    i+=1"
   ]
  },
  {
   "cell_type": "code",
   "execution_count": null,
   "id": "e3764453-6a23-4983-9982-414ee2e453e6",
   "metadata": {},
   "outputs": [],
   "source": []
  }
 ],
 "metadata": {
  "kernelspec": {
   "display_name": "Python 3 (ipykernel)",
   "language": "python",
   "name": "python3"
  },
  "language_info": {
   "codemirror_mode": {
    "name": "ipython",
    "version": 3
   },
   "file_extension": ".py",
   "mimetype": "text/x-python",
   "name": "python",
   "nbconvert_exporter": "python",
   "pygments_lexer": "ipython3",
   "version": "3.9.13"
  },
  "toc-autonumbering": true
 },
 "nbformat": 4,
 "nbformat_minor": 5
}
