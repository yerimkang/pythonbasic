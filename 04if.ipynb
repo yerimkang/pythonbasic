{
 "cells": [
  {
   "cell_type": "code",
   "execution_count": 10,
   "id": "4ab5fa89-2727-4393-bdac-d87c2dee3a79",
   "metadata": {},
   "outputs": [
    {
     "name": "stdin",
     "output_type": "stream",
     "text": [
      "발주 수량을 입력하세요: 1300\n"
     ]
    },
    {
     "name": "stdout",
     "output_type": "stream",
     "text": [
      "1300개를 주문하셨습니다.\n",
      "적용 할인율은 5%입니다.\n",
      "총 발주 금액은 $12350입니다.\n"
     ]
    }
   ],
   "source": [
    "count = int(input(\"발주 수량을 입력하세요:\"))\n",
    "print(count,\"개를 주문하셨습니다.\",sep=\"\")\n",
    "\n",
    "if count<1000:\n",
    "    a=0\n",
    "elif 1000<=count<1500:\n",
    "    a=5\n",
    "elif 1500<=count<2000:\n",
    "    a=10\n",
    "elif 2000<=count:\n",
    "    a=20\n",
    "    \n",
    "print(\"적용 할인율은 {}%입니다.\".format(a))\n",
    "print(\"총 발주 금액은 ${}입니다.\".format(int(count*10*(1-(a/100)))))"
   ]
  },
  {
   "cell_type": "code",
   "execution_count": 19,
   "id": "7ecafc6a-56a8-45a5-a919-f7d3b667845a",
   "metadata": {},
   "outputs": [
    {
     "name": "stdin",
     "output_type": "stream",
     "text": [
      "주민번호 뒷자리를 입력하세요: 12\n"
     ]
    },
    {
     "name": "stdout",
     "output_type": "stream",
     "text": [
      "자리수를 잘못 입력했습니다.\n"
     ]
    }
   ],
   "source": [
    "number = list(map(int,input(\"주민번호 뒷자리를 입력하세요:\")))\n",
    "num = (1,2,3,4)\n",
    "if len(number)==7:\n",
    "    if number[0] in num:\n",
    "        if number[0]==1 or number[0]==3 :\n",
    "            print(\"남자\")\n",
    "        else :\n",
    "            print(\"여자\")\n",
    "    else:\n",
    "        print(\"잘못된 입력입니다.\")\n",
    "else:\n",
    "    print(\"자리수를 잘못 입력했습니다.\")"
   ]
  },
  {
   "cell_type": "code",
   "execution_count": 33,
   "id": "765a6b74-26bd-4a44-af23-d1595c2254a4",
   "metadata": {},
   "outputs": [
    {
     "name": "stdin",
     "output_type": "stream",
     "text": [
      "확인할 연도를 입력하세요: 1900\n"
     ]
    },
    {
     "name": "stdout",
     "output_type": "stream",
     "text": [
      "평년입니다.\n"
     ]
    }
   ],
   "source": [
    "year = int(input(\"확인할 연도를 입력하세요:\"))\n",
    "a=\"평년\"\n",
    "\n",
    "if (year%4==0) and (year%100!=0) and (year%400==0) :\n",
    "    a=\"윤년\"\n",
    "\n",
    "print(\"{}입니다.\".format(a))"
   ]
  },
  {
   "cell_type": "code",
   "execution_count": 32,
   "id": "06fac68f-1aba-4812-9694-5849e87a59e8",
   "metadata": {},
   "outputs": [
    {
     "name": "stdin",
     "output_type": "stream",
     "text": [
      "확인할 연도를 입력하세요: 1900\n"
     ]
    },
    {
     "name": "stdout",
     "output_type": "stream",
     "text": [
      "평년입니다.\n"
     ]
    }
   ],
   "source": [
    "year = int(input(\"확인할 연도를 입력하세요:\"))\n",
    "if (year%4)==0 :\n",
    "    if (year%100==0) and (year%400!=0):\n",
    "        print(\"평년입니다.\")\n",
    "    else:\n",
    "        print(\"윤년입니다.\")\n",
    "else:\n",
    "    print(\"평년입니다.\")"
   ]
  },
  {
   "cell_type": "code",
   "execution_count": null,
   "id": "2433b9a1-d95d-441d-b821-77ac59d1ead5",
   "metadata": {},
   "outputs": [],
   "source": []
  }
 ],
 "metadata": {
  "kernelspec": {
   "display_name": "Python 3",
   "language": "python",
   "name": "python3"
  },
  "language_info": {
   "codemirror_mode": {
    "name": "ipython",
    "version": 3
   },
   "file_extension": ".py",
   "mimetype": "text/x-python",
   "name": "python",
   "nbconvert_exporter": "python",
   "pygments_lexer": "ipython3",
   "version": "3.8.8"
  }
 },
 "nbformat": 4,
 "nbformat_minor": 5
}
