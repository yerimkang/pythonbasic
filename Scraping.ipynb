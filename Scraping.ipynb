{
 "cells": [
  {
   "cell_type": "markdown",
   "id": "5af6eab5-0bd5-4d49-b4d0-225229f80eca",
   "metadata": {},
   "source": [
    "# 웹 스크래핑 특징"
   ]
  },
  {
   "cell_type": "markdown",
   "id": "792a5c3c-65b0-41ed-8907-5d91a705b446",
   "metadata": {
    "tags": []
   },
   "source": [
    "## 웹 페이지의 데이터를 추출 목적"
   ]
  },
  {
   "cell_type": "markdown",
   "id": "61e2d413-6e47-4f0f-ad36-b82fccde0802",
   "metadata": {},
   "source": [
    "### 여러 웹사이트에서 은밀하게 데이터를 수집"
   ]
  },
  {
   "cell_type": "markdown",
   "id": "bb6284cb-de4c-4a22-b626-83da7c74c4f8",
   "metadata": {},
   "source": [
    "### robots.txt분석하기  - User-agent가 특정 URL에 대해 접근 가능한지 체크"
   ]
  },
  {
   "cell_type": "code",
   "execution_count": 1,
   "id": "b5806af9-6494-443b-bfed-c1ca3c1d05e7",
   "metadata": {},
   "outputs": [
    {
     "data": {
      "text/plain": [
       "True"
      ]
     },
     "execution_count": 1,
     "metadata": {},
     "output_type": "execute_result"
    }
   ],
   "source": [
    "import urllib.robotparser\n",
    "rp = urllib.robotparser.RobotFileParser()\n",
    "rp.set_url(\"https://www.reuters.com/robots.txt\")\n",
    "rp.read()\n",
    "\n",
    "rp.can_fetch(useragent=\"*\",url=\"https://reuters.com/sitemap.xml\")"
   ]
  },
  {
   "cell_type": "markdown",
   "id": "61c6459a-efb3-4094-9b5e-4d1beda50713",
   "metadata": {},
   "source": [
    "### 또한 robots.txt에 있는 sitemap에 대한 정도 확인"
   ]
  },
  {
   "cell_type": "code",
   "execution_count": 2,
   "id": "3985cd38-7fa5-4e08-804b-e7a56ee9c2b1",
   "metadata": {},
   "outputs": [
    {
     "data": {
      "text/plain": [
       "['https://www.reuters.com/arc/outboundfeeds/sitemap-index/?outputType=xml',\n",
       " 'https://www.reuters.com/arc/outboundfeeds/news-sitemap-index/?outputType=xml',\n",
       " 'https://www.reuters.com/sitemap_video_index.xml',\n",
       " 'https://www.reuters.com/brandfeature/sitemap']"
      ]
     },
     "execution_count": 2,
     "metadata": {},
     "output_type": "execute_result"
    }
   ],
   "source": [
    "sitemaps = rp.site_maps()\n",
    "sitemaps"
   ]
  },
  {
   "cell_type": "markdown",
   "id": "a80ab90e-9a19-4b06-ad56-8b74d959b640",
   "metadata": {},
   "source": [
    "## 사이트 맵을 활용한 웹 크롤러 작성하기"
   ]
  },
  {
   "cell_type": "markdown",
   "id": "3d36b491-5c7e-4637-9e00-063b12d8f1aa",
   "metadata": {},
   "source": [
    "### XML파서 .xmltodict가 XML파서를 위한 모듈이다. \n",
    "#### xmltidict의 parse()메서드를 통해 받아온 XML값 (request.get(url).text)을 argument로 전달"
   ]
  },
  {
   "cell_type": "code",
   "execution_count": 3,
   "id": "d10d8fc7-65b8-499f-9616-165aa702cc49",
   "metadata": {},
   "outputs": [],
   "source": [
    "import xmltodict\n",
    "import requests\n",
    "\n",
    "url = sitemaps[0]\n",
    "sitemaps = xmltodict.parse(requests.get(url).text)"
   ]
  },
  {
   "cell_type": "code",
   "execution_count": 4,
   "id": "a36c1203-d453-47f5-b1d5-ba308d639587",
   "metadata": {
    "scrolled": true,
    "tags": []
   },
   "outputs": [
    {
     "data": {
      "text/plain": [
       "{'sitemapindex': {'@xmlns': 'http://www.sitemaps.org/schemas/sitemap/0.9',\n",
       "  'sitemap': [{'loc': 'https://www.reuters.com/arc/outboundfeeds/sitemap/?outputType=xml',\n",
       "    'lastmod': '2023-02-28T10:50:03.606Z'},\n",
       "   {'loc': 'https://www.reuters.com/arc/outboundfeeds/sitemap/?outputType=xml&from=100',\n",
       "    'lastmod': '2023-02-28T10:50:03.606Z'},\n",
       "   {'loc': 'https://www.reuters.com/arc/outboundfeeds/sitemap/?outputType=xml&from=200',\n",
       "    'lastmod': '2023-02-28T10:50:03.606Z'},\n",
       "   {'loc': 'https://www.reuters.com/arc/outboundfeeds/sitemap/?outputType=xml&from=300',\n",
       "    'lastmod': '2023-02-28T10:50:03.606Z'},\n",
       "   {'loc': 'https://www.reuters.com/arc/outboundfeeds/sitemap/?outputType=xml&from=400',\n",
       "    'lastmod': '2023-02-28T10:50:03.606Z'},\n",
       "   {'loc': 'https://www.reuters.com/arc/outboundfeeds/sitemap/?outputType=xml&from=500',\n",
       "    'lastmod': '2023-02-28T10:50:03.606Z'},\n",
       "   {'loc': 'https://www.reuters.com/arc/outboundfeeds/sitemap/?outputType=xml&from=600',\n",
       "    'lastmod': '2023-02-28T10:50:03.606Z'},\n",
       "   {'loc': 'https://www.reuters.com/arc/outboundfeeds/sitemap/?outputType=xml&from=700',\n",
       "    'lastmod': '2023-02-28T10:50:03.606Z'},\n",
       "   {'loc': 'https://www.reuters.com/arc/outboundfeeds/sitemap/?outputType=xml&from=800',\n",
       "    'lastmod': '2023-02-28T10:50:03.606Z'},\n",
       "   {'loc': 'https://www.reuters.com/arc/outboundfeeds/sitemap/?outputType=xml&from=900',\n",
       "    'lastmod': '2023-02-28T10:50:03.606Z'},\n",
       "   {'loc': 'https://www.reuters.com/arc/outboundfeeds/sitemap/?outputType=xml&from=1000',\n",
       "    'lastmod': '2023-02-28T10:50:03.606Z'},\n",
       "   {'loc': 'https://www.reuters.com/arc/outboundfeeds/sitemap/?outputType=xml&from=1100',\n",
       "    'lastmod': '2023-02-28T10:50:03.606Z'},\n",
       "   {'loc': 'https://www.reuters.com/arc/outboundfeeds/sitemap/?outputType=xml&from=1200',\n",
       "    'lastmod': '2023-02-28T10:50:03.606Z'},\n",
       "   {'loc': 'https://www.reuters.com/arc/outboundfeeds/sitemap/?outputType=xml&from=1300',\n",
       "    'lastmod': '2023-02-28T10:50:03.606Z'},\n",
       "   {'loc': 'https://www.reuters.com/arc/outboundfeeds/sitemap/?outputType=xml&from=1400',\n",
       "    'lastmod': '2023-02-28T10:50:03.606Z'},\n",
       "   {'loc': 'https://www.reuters.com/arc/outboundfeeds/sitemap/?outputType=xml&from=1500',\n",
       "    'lastmod': '2023-02-28T10:50:03.606Z'},\n",
       "   {'loc': 'https://www.reuters.com/arc/outboundfeeds/sitemap/?outputType=xml&from=1600',\n",
       "    'lastmod': '2023-02-28T10:50:03.606Z'},\n",
       "   {'loc': 'https://www.reuters.com/arc/outboundfeeds/sitemap/?outputType=xml&from=1700',\n",
       "    'lastmod': '2023-02-28T10:50:03.606Z'},\n",
       "   {'loc': 'https://www.reuters.com/arc/outboundfeeds/sitemap/?outputType=xml&from=1800',\n",
       "    'lastmod': '2023-02-28T10:50:03.606Z'},\n",
       "   {'loc': 'https://www.reuters.com/arc/outboundfeeds/sitemap/?outputType=xml&from=1900',\n",
       "    'lastmod': '2023-02-28T10:50:03.606Z'},\n",
       "   {'loc': 'https://www.reuters.com/arc/outboundfeeds/sitemap/?outputType=xml&from=2000',\n",
       "    'lastmod': '2023-02-28T10:50:03.606Z'},\n",
       "   {'loc': 'https://www.reuters.com/arc/outboundfeeds/sitemap/?outputType=xml&from=2100',\n",
       "    'lastmod': '2023-02-28T10:50:03.606Z'},\n",
       "   {'loc': 'https://www.reuters.com/arc/outboundfeeds/sitemap/?outputType=xml&from=2200',\n",
       "    'lastmod': '2023-02-28T10:50:03.606Z'},\n",
       "   {'loc': 'https://www.reuters.com/arc/outboundfeeds/sitemap/?outputType=xml&from=2300',\n",
       "    'lastmod': '2023-02-28T10:50:03.606Z'},\n",
       "   {'loc': 'https://www.reuters.com/arc/outboundfeeds/sitemap/?outputType=xml&from=2400',\n",
       "    'lastmod': '2023-02-28T10:50:03.606Z'},\n",
       "   {'loc': 'https://www.reuters.com/arc/outboundfeeds/sitemap/?outputType=xml&from=2500',\n",
       "    'lastmod': '2023-02-28T10:50:03.606Z'},\n",
       "   {'loc': 'https://www.reuters.com/arc/outboundfeeds/sitemap/?outputType=xml&from=2600',\n",
       "    'lastmod': '2023-02-28T10:50:03.606Z'},\n",
       "   {'loc': 'https://www.reuters.com/arc/outboundfeeds/sitemap/?outputType=xml&from=2700',\n",
       "    'lastmod': '2023-02-28T10:50:03.606Z'},\n",
       "   {'loc': 'https://www.reuters.com/arc/outboundfeeds/sitemap/?outputType=xml&from=2800',\n",
       "    'lastmod': '2023-02-28T10:50:03.606Z'},\n",
       "   {'loc': 'https://www.reuters.com/arc/outboundfeeds/sitemap/?outputType=xml&from=2900',\n",
       "    'lastmod': '2023-02-28T10:50:03.606Z'},\n",
       "   {'loc': 'https://www.reuters.com/arc/outboundfeeds/sitemap/?outputType=xml&from=3000',\n",
       "    'lastmod': '2023-02-28T10:50:03.606Z'},\n",
       "   {'loc': 'https://www.reuters.com/arc/outboundfeeds/sitemap/?outputType=xml&from=3100',\n",
       "    'lastmod': '2023-02-28T10:50:03.606Z'},\n",
       "   {'loc': 'https://www.reuters.com/arc/outboundfeeds/sitemap/?outputType=xml&from=3200',\n",
       "    'lastmod': '2023-02-28T10:50:03.606Z'},\n",
       "   {'loc': 'https://www.reuters.com/arc/outboundfeeds/sitemap/?outputType=xml&from=3300',\n",
       "    'lastmod': '2023-02-28T10:50:03.606Z'},\n",
       "   {'loc': 'https://www.reuters.com/arc/outboundfeeds/sitemap/?outputType=xml&from=3400',\n",
       "    'lastmod': '2023-02-28T10:50:03.606Z'},\n",
       "   {'loc': 'https://www.reuters.com/arc/outboundfeeds/sitemap/?outputType=xml&from=3500',\n",
       "    'lastmod': '2023-02-28T10:50:03.606Z'},\n",
       "   {'loc': 'https://www.reuters.com/arc/outboundfeeds/sitemap/?outputType=xml&from=3600',\n",
       "    'lastmod': '2023-02-28T10:50:03.606Z'},\n",
       "   {'loc': 'https://www.reuters.com/arc/outboundfeeds/sitemap/?outputType=xml&from=3700',\n",
       "    'lastmod': '2023-02-28T10:50:03.606Z'},\n",
       "   {'loc': 'https://www.reuters.com/arc/outboundfeeds/sitemap/?outputType=xml&from=3800',\n",
       "    'lastmod': '2023-02-28T10:50:03.606Z'},\n",
       "   {'loc': 'https://www.reuters.com/arc/outboundfeeds/sitemap/?outputType=xml&from=3900',\n",
       "    'lastmod': '2023-02-28T10:50:03.606Z'},\n",
       "   {'loc': 'https://www.reuters.com/arc/outboundfeeds/sitemap/?outputType=xml&from=4000',\n",
       "    'lastmod': '2023-02-28T10:50:03.606Z'},\n",
       "   {'loc': 'https://www.reuters.com/arc/outboundfeeds/sitemap/?outputType=xml&from=4100',\n",
       "    'lastmod': '2023-02-28T10:50:03.606Z'},\n",
       "   {'loc': 'https://www.reuters.com/arc/outboundfeeds/sitemap/?outputType=xml&from=4200',\n",
       "    'lastmod': '2023-02-28T10:50:03.606Z'},\n",
       "   {'loc': 'https://www.reuters.com/arc/outboundfeeds/sitemap/?outputType=xml&from=4300',\n",
       "    'lastmod': '2023-02-28T10:50:03.606Z'},\n",
       "   {'loc': 'https://www.reuters.com/arc/outboundfeeds/sitemap/?outputType=xml&from=4400',\n",
       "    'lastmod': '2023-02-28T10:50:03.606Z'},\n",
       "   {'loc': 'https://www.reuters.com/arc/outboundfeeds/sitemap/?outputType=xml&from=4500',\n",
       "    'lastmod': '2023-02-28T10:50:03.606Z'},\n",
       "   {'loc': 'https://www.reuters.com/arc/outboundfeeds/sitemap/?outputType=xml&from=4600',\n",
       "    'lastmod': '2023-02-28T10:50:03.606Z'},\n",
       "   {'loc': 'https://www.reuters.com/arc/outboundfeeds/sitemap/?outputType=xml&from=4700',\n",
       "    'lastmod': '2023-02-28T10:50:03.606Z'},\n",
       "   {'loc': 'https://www.reuters.com/arc/outboundfeeds/sitemap/?outputType=xml&from=4800',\n",
       "    'lastmod': '2023-02-28T10:50:03.606Z'},\n",
       "   {'loc': 'https://www.reuters.com/arc/outboundfeeds/sitemap/?outputType=xml&from=4900',\n",
       "    'lastmod': '2023-02-28T10:50:03.606Z'},\n",
       "   {'loc': 'https://www.reuters.com/arc/outboundfeeds/sitemap/?outputType=xml&from=5000',\n",
       "    'lastmod': '2023-02-28T10:50:03.606Z'},\n",
       "   {'loc': 'https://www.reuters.com/arc/outboundfeeds/sitemap/?outputType=xml&from=5100',\n",
       "    'lastmod': '2023-02-28T10:50:03.606Z'},\n",
       "   {'loc': 'https://www.reuters.com/arc/outboundfeeds/sitemap/?outputType=xml&from=5200',\n",
       "    'lastmod': '2023-02-28T10:50:03.606Z'},\n",
       "   {'loc': 'https://www.reuters.com/arc/outboundfeeds/sitemap/?outputType=xml&from=5300',\n",
       "    'lastmod': '2023-02-28T10:50:03.606Z'},\n",
       "   {'loc': 'https://www.reuters.com/arc/outboundfeeds/sitemap/?outputType=xml&from=5400',\n",
       "    'lastmod': '2023-02-28T10:50:03.606Z'},\n",
       "   {'loc': 'https://www.reuters.com/arc/outboundfeeds/sitemap/?outputType=xml&from=5500',\n",
       "    'lastmod': '2023-02-28T10:50:03.606Z'},\n",
       "   {'loc': 'https://www.reuters.com/arc/outboundfeeds/sitemap/?outputType=xml&from=5600',\n",
       "    'lastmod': '2023-02-28T10:50:03.606Z'},\n",
       "   {'loc': 'https://www.reuters.com/arc/outboundfeeds/sitemap/?outputType=xml&from=5700',\n",
       "    'lastmod': '2023-02-28T10:50:03.606Z'},\n",
       "   {'loc': 'https://www.reuters.com/arc/outboundfeeds/sitemap/?outputType=xml&from=5800',\n",
       "    'lastmod': '2023-02-28T10:50:03.606Z'},\n",
       "   {'loc': 'https://www.reuters.com/arc/outboundfeeds/sitemap/?outputType=xml&from=5900',\n",
       "    'lastmod': '2023-02-28T10:50:03.606Z'},\n",
       "   {'loc': 'https://www.reuters.com/arc/outboundfeeds/sitemap/?outputType=xml&from=6000',\n",
       "    'lastmod': '2023-02-28T10:50:03.606Z'},\n",
       "   {'loc': 'https://www.reuters.com/arc/outboundfeeds/sitemap/?outputType=xml&from=6100',\n",
       "    'lastmod': '2023-02-28T10:50:03.606Z'},\n",
       "   {'loc': 'https://www.reuters.com/arc/outboundfeeds/sitemap/?outputType=xml&from=6200',\n",
       "    'lastmod': '2023-02-28T10:50:03.606Z'},\n",
       "   {'loc': 'https://www.reuters.com/arc/outboundfeeds/sitemap/?outputType=xml&from=6300',\n",
       "    'lastmod': '2023-02-28T10:50:03.606Z'},\n",
       "   {'loc': 'https://www.reuters.com/arc/outboundfeeds/sitemap/?outputType=xml&from=6400',\n",
       "    'lastmod': '2023-02-28T10:50:03.606Z'},\n",
       "   {'loc': 'https://www.reuters.com/arc/outboundfeeds/sitemap/?outputType=xml&from=6500',\n",
       "    'lastmod': '2023-02-28T10:50:03.606Z'},\n",
       "   {'loc': 'https://www.reuters.com/arc/outboundfeeds/sitemap/?outputType=xml&from=6600',\n",
       "    'lastmod': '2023-02-28T10:50:03.606Z'},\n",
       "   {'loc': 'https://www.reuters.com/arc/outboundfeeds/sitemap/?outputType=xml&from=6700',\n",
       "    'lastmod': '2023-02-28T10:50:03.606Z'},\n",
       "   {'loc': 'https://www.reuters.com/arc/outboundfeeds/sitemap/?outputType=xml&from=6800',\n",
       "    'lastmod': '2023-02-28T10:50:03.606Z'},\n",
       "   {'loc': 'https://www.reuters.com/arc/outboundfeeds/sitemap/?outputType=xml&from=6900',\n",
       "    'lastmod': '2023-02-28T10:50:03.606Z'},\n",
       "   {'loc': 'https://www.reuters.com/arc/outboundfeeds/sitemap/?outputType=xml&from=7000',\n",
       "    'lastmod': '2023-02-28T10:50:03.606Z'},\n",
       "   {'loc': 'https://www.reuters.com/arc/outboundfeeds/sitemap/?outputType=xml&from=7100',\n",
       "    'lastmod': '2023-02-28T10:50:03.606Z'},\n",
       "   {'loc': 'https://www.reuters.com/arc/outboundfeeds/sitemap/?outputType=xml&from=7200',\n",
       "    'lastmod': '2023-02-28T10:50:03.606Z'},\n",
       "   {'loc': 'https://www.reuters.com/arc/outboundfeeds/sitemap/?outputType=xml&from=7300',\n",
       "    'lastmod': '2023-02-28T10:50:03.606Z'},\n",
       "   {'loc': 'https://www.reuters.com/arc/outboundfeeds/sitemap/?outputType=xml&from=7400',\n",
       "    'lastmod': '2023-02-28T10:50:03.606Z'},\n",
       "   {'loc': 'https://www.reuters.com/arc/outboundfeeds/sitemap/?outputType=xml&from=7500',\n",
       "    'lastmod': '2023-02-28T10:50:03.606Z'},\n",
       "   {'loc': 'https://www.reuters.com/arc/outboundfeeds/sitemap/?outputType=xml&from=7600',\n",
       "    'lastmod': '2023-02-28T10:50:03.606Z'},\n",
       "   {'loc': 'https://www.reuters.com/arc/outboundfeeds/sitemap/?outputType=xml&from=7700',\n",
       "    'lastmod': '2023-02-28T10:50:03.606Z'},\n",
       "   {'loc': 'https://www.reuters.com/arc/outboundfeeds/sitemap/?outputType=xml&from=7800',\n",
       "    'lastmod': '2023-02-28T10:50:03.606Z'},\n",
       "   {'loc': 'https://www.reuters.com/arc/outboundfeeds/sitemap/?outputType=xml&from=7900',\n",
       "    'lastmod': '2023-02-28T10:50:03.606Z'},\n",
       "   {'loc': 'https://www.reuters.com/arc/outboundfeeds/sitemap/?outputType=xml&from=8000',\n",
       "    'lastmod': '2023-02-28T10:50:03.606Z'},\n",
       "   {'loc': 'https://www.reuters.com/arc/outboundfeeds/sitemap/?outputType=xml&from=8100',\n",
       "    'lastmod': '2023-02-28T10:50:03.606Z'},\n",
       "   {'loc': 'https://www.reuters.com/arc/outboundfeeds/sitemap/?outputType=xml&from=8200',\n",
       "    'lastmod': '2023-02-28T10:50:03.606Z'},\n",
       "   {'loc': 'https://www.reuters.com/arc/outboundfeeds/sitemap/?outputType=xml&from=8300',\n",
       "    'lastmod': '2023-02-28T10:50:03.606Z'},\n",
       "   {'loc': 'https://www.reuters.com/arc/outboundfeeds/sitemap/?outputType=xml&from=8400',\n",
       "    'lastmod': '2023-02-28T10:50:03.606Z'},\n",
       "   {'loc': 'https://www.reuters.com/arc/outboundfeeds/sitemap/?outputType=xml&from=8500',\n",
       "    'lastmod': '2023-02-28T10:50:03.606Z'},\n",
       "   {'loc': 'https://www.reuters.com/arc/outboundfeeds/sitemap/?outputType=xml&from=8600',\n",
       "    'lastmod': '2023-02-28T10:50:03.606Z'},\n",
       "   {'loc': 'https://www.reuters.com/arc/outboundfeeds/sitemap/?outputType=xml&from=8700',\n",
       "    'lastmod': '2023-02-28T10:50:03.606Z'},\n",
       "   {'loc': 'https://www.reuters.com/arc/outboundfeeds/sitemap/?outputType=xml&from=8800',\n",
       "    'lastmod': '2023-02-28T10:50:03.606Z'},\n",
       "   {'loc': 'https://www.reuters.com/arc/outboundfeeds/sitemap/?outputType=xml&from=8900',\n",
       "    'lastmod': '2023-02-28T10:50:03.606Z'},\n",
       "   {'loc': 'https://www.reuters.com/arc/outboundfeeds/sitemap/?outputType=xml&from=9000',\n",
       "    'lastmod': '2023-02-28T10:50:03.606Z'},\n",
       "   {'loc': 'https://www.reuters.com/arc/outboundfeeds/sitemap/?outputType=xml&from=9100',\n",
       "    'lastmod': '2023-02-28T10:50:03.606Z'},\n",
       "   {'loc': 'https://www.reuters.com/arc/outboundfeeds/sitemap/?outputType=xml&from=9200',\n",
       "    'lastmod': '2023-02-28T10:50:03.606Z'},\n",
       "   {'loc': 'https://www.reuters.com/arc/outboundfeeds/sitemap/?outputType=xml&from=9300',\n",
       "    'lastmod': '2023-02-28T10:50:03.606Z'},\n",
       "   {'loc': 'https://www.reuters.com/arc/outboundfeeds/sitemap/?outputType=xml&from=9400',\n",
       "    'lastmod': '2023-02-28T10:50:03.606Z'},\n",
       "   {'loc': 'https://www.reuters.com/arc/outboundfeeds/sitemap/?outputType=xml&from=9500',\n",
       "    'lastmod': '2023-02-28T10:50:03.606Z'},\n",
       "   {'loc': 'https://www.reuters.com/arc/outboundfeeds/sitemap/?outputType=xml&from=9600',\n",
       "    'lastmod': '2023-02-28T10:50:03.606Z'}]}}"
      ]
     },
     "execution_count": 4,
     "metadata": {},
     "output_type": "execute_result"
    }
   ],
   "source": [
    "sitemaps"
   ]
  },
  {
   "cell_type": "markdown",
   "id": "5cda0ad4-f7d7-4ba3-9867-087e35d4edcc",
   "metadata": {},
   "source": [
    "### sitemaps에 담긴 데이터를 가지고 'loc'에 해당하는 리스트 생성"
   ]
  },
  {
   "cell_type": "code",
   "execution_count": 5,
   "id": "abd814f2-7266-4a61-a8fc-4814e8d1ced8",
   "metadata": {
    "scrolled": true,
    "tags": []
   },
   "outputs": [
    {
     "data": {
      "text/plain": [
       "['https://www.reuters.com/arc/outboundfeeds/sitemap/?outputType=xml',\n",
       " 'https://www.reuters.com/arc/outboundfeeds/sitemap/?outputType=xml&from=100',\n",
       " 'https://www.reuters.com/arc/outboundfeeds/sitemap/?outputType=xml&from=200',\n",
       " 'https://www.reuters.com/arc/outboundfeeds/sitemap/?outputType=xml&from=300',\n",
       " 'https://www.reuters.com/arc/outboundfeeds/sitemap/?outputType=xml&from=400',\n",
       " 'https://www.reuters.com/arc/outboundfeeds/sitemap/?outputType=xml&from=500',\n",
       " 'https://www.reuters.com/arc/outboundfeeds/sitemap/?outputType=xml&from=600',\n",
       " 'https://www.reuters.com/arc/outboundfeeds/sitemap/?outputType=xml&from=700',\n",
       " 'https://www.reuters.com/arc/outboundfeeds/sitemap/?outputType=xml&from=800',\n",
       " 'https://www.reuters.com/arc/outboundfeeds/sitemap/?outputType=xml&from=900',\n",
       " 'https://www.reuters.com/arc/outboundfeeds/sitemap/?outputType=xml&from=1000',\n",
       " 'https://www.reuters.com/arc/outboundfeeds/sitemap/?outputType=xml&from=1100',\n",
       " 'https://www.reuters.com/arc/outboundfeeds/sitemap/?outputType=xml&from=1200',\n",
       " 'https://www.reuters.com/arc/outboundfeeds/sitemap/?outputType=xml&from=1300',\n",
       " 'https://www.reuters.com/arc/outboundfeeds/sitemap/?outputType=xml&from=1400',\n",
       " 'https://www.reuters.com/arc/outboundfeeds/sitemap/?outputType=xml&from=1500',\n",
       " 'https://www.reuters.com/arc/outboundfeeds/sitemap/?outputType=xml&from=1600',\n",
       " 'https://www.reuters.com/arc/outboundfeeds/sitemap/?outputType=xml&from=1700',\n",
       " 'https://www.reuters.com/arc/outboundfeeds/sitemap/?outputType=xml&from=1800',\n",
       " 'https://www.reuters.com/arc/outboundfeeds/sitemap/?outputType=xml&from=1900',\n",
       " 'https://www.reuters.com/arc/outboundfeeds/sitemap/?outputType=xml&from=2000',\n",
       " 'https://www.reuters.com/arc/outboundfeeds/sitemap/?outputType=xml&from=2100',\n",
       " 'https://www.reuters.com/arc/outboundfeeds/sitemap/?outputType=xml&from=2200',\n",
       " 'https://www.reuters.com/arc/outboundfeeds/sitemap/?outputType=xml&from=2300',\n",
       " 'https://www.reuters.com/arc/outboundfeeds/sitemap/?outputType=xml&from=2400',\n",
       " 'https://www.reuters.com/arc/outboundfeeds/sitemap/?outputType=xml&from=2500',\n",
       " 'https://www.reuters.com/arc/outboundfeeds/sitemap/?outputType=xml&from=2600',\n",
       " 'https://www.reuters.com/arc/outboundfeeds/sitemap/?outputType=xml&from=2700',\n",
       " 'https://www.reuters.com/arc/outboundfeeds/sitemap/?outputType=xml&from=2800',\n",
       " 'https://www.reuters.com/arc/outboundfeeds/sitemap/?outputType=xml&from=2900',\n",
       " 'https://www.reuters.com/arc/outboundfeeds/sitemap/?outputType=xml&from=3000',\n",
       " 'https://www.reuters.com/arc/outboundfeeds/sitemap/?outputType=xml&from=3100',\n",
       " 'https://www.reuters.com/arc/outboundfeeds/sitemap/?outputType=xml&from=3200',\n",
       " 'https://www.reuters.com/arc/outboundfeeds/sitemap/?outputType=xml&from=3300',\n",
       " 'https://www.reuters.com/arc/outboundfeeds/sitemap/?outputType=xml&from=3400',\n",
       " 'https://www.reuters.com/arc/outboundfeeds/sitemap/?outputType=xml&from=3500',\n",
       " 'https://www.reuters.com/arc/outboundfeeds/sitemap/?outputType=xml&from=3600',\n",
       " 'https://www.reuters.com/arc/outboundfeeds/sitemap/?outputType=xml&from=3700',\n",
       " 'https://www.reuters.com/arc/outboundfeeds/sitemap/?outputType=xml&from=3800',\n",
       " 'https://www.reuters.com/arc/outboundfeeds/sitemap/?outputType=xml&from=3900',\n",
       " 'https://www.reuters.com/arc/outboundfeeds/sitemap/?outputType=xml&from=4000',\n",
       " 'https://www.reuters.com/arc/outboundfeeds/sitemap/?outputType=xml&from=4100',\n",
       " 'https://www.reuters.com/arc/outboundfeeds/sitemap/?outputType=xml&from=4200',\n",
       " 'https://www.reuters.com/arc/outboundfeeds/sitemap/?outputType=xml&from=4300',\n",
       " 'https://www.reuters.com/arc/outboundfeeds/sitemap/?outputType=xml&from=4400',\n",
       " 'https://www.reuters.com/arc/outboundfeeds/sitemap/?outputType=xml&from=4500',\n",
       " 'https://www.reuters.com/arc/outboundfeeds/sitemap/?outputType=xml&from=4600',\n",
       " 'https://www.reuters.com/arc/outboundfeeds/sitemap/?outputType=xml&from=4700',\n",
       " 'https://www.reuters.com/arc/outboundfeeds/sitemap/?outputType=xml&from=4800',\n",
       " 'https://www.reuters.com/arc/outboundfeeds/sitemap/?outputType=xml&from=4900',\n",
       " 'https://www.reuters.com/arc/outboundfeeds/sitemap/?outputType=xml&from=5000',\n",
       " 'https://www.reuters.com/arc/outboundfeeds/sitemap/?outputType=xml&from=5100',\n",
       " 'https://www.reuters.com/arc/outboundfeeds/sitemap/?outputType=xml&from=5200',\n",
       " 'https://www.reuters.com/arc/outboundfeeds/sitemap/?outputType=xml&from=5300',\n",
       " 'https://www.reuters.com/arc/outboundfeeds/sitemap/?outputType=xml&from=5400',\n",
       " 'https://www.reuters.com/arc/outboundfeeds/sitemap/?outputType=xml&from=5500',\n",
       " 'https://www.reuters.com/arc/outboundfeeds/sitemap/?outputType=xml&from=5600',\n",
       " 'https://www.reuters.com/arc/outboundfeeds/sitemap/?outputType=xml&from=5700',\n",
       " 'https://www.reuters.com/arc/outboundfeeds/sitemap/?outputType=xml&from=5800',\n",
       " 'https://www.reuters.com/arc/outboundfeeds/sitemap/?outputType=xml&from=5900',\n",
       " 'https://www.reuters.com/arc/outboundfeeds/sitemap/?outputType=xml&from=6000',\n",
       " 'https://www.reuters.com/arc/outboundfeeds/sitemap/?outputType=xml&from=6100',\n",
       " 'https://www.reuters.com/arc/outboundfeeds/sitemap/?outputType=xml&from=6200',\n",
       " 'https://www.reuters.com/arc/outboundfeeds/sitemap/?outputType=xml&from=6300',\n",
       " 'https://www.reuters.com/arc/outboundfeeds/sitemap/?outputType=xml&from=6400',\n",
       " 'https://www.reuters.com/arc/outboundfeeds/sitemap/?outputType=xml&from=6500',\n",
       " 'https://www.reuters.com/arc/outboundfeeds/sitemap/?outputType=xml&from=6600',\n",
       " 'https://www.reuters.com/arc/outboundfeeds/sitemap/?outputType=xml&from=6700',\n",
       " 'https://www.reuters.com/arc/outboundfeeds/sitemap/?outputType=xml&from=6800',\n",
       " 'https://www.reuters.com/arc/outboundfeeds/sitemap/?outputType=xml&from=6900',\n",
       " 'https://www.reuters.com/arc/outboundfeeds/sitemap/?outputType=xml&from=7000',\n",
       " 'https://www.reuters.com/arc/outboundfeeds/sitemap/?outputType=xml&from=7100',\n",
       " 'https://www.reuters.com/arc/outboundfeeds/sitemap/?outputType=xml&from=7200',\n",
       " 'https://www.reuters.com/arc/outboundfeeds/sitemap/?outputType=xml&from=7300',\n",
       " 'https://www.reuters.com/arc/outboundfeeds/sitemap/?outputType=xml&from=7400',\n",
       " 'https://www.reuters.com/arc/outboundfeeds/sitemap/?outputType=xml&from=7500',\n",
       " 'https://www.reuters.com/arc/outboundfeeds/sitemap/?outputType=xml&from=7600',\n",
       " 'https://www.reuters.com/arc/outboundfeeds/sitemap/?outputType=xml&from=7700',\n",
       " 'https://www.reuters.com/arc/outboundfeeds/sitemap/?outputType=xml&from=7800',\n",
       " 'https://www.reuters.com/arc/outboundfeeds/sitemap/?outputType=xml&from=7900',\n",
       " 'https://www.reuters.com/arc/outboundfeeds/sitemap/?outputType=xml&from=8000',\n",
       " 'https://www.reuters.com/arc/outboundfeeds/sitemap/?outputType=xml&from=8100',\n",
       " 'https://www.reuters.com/arc/outboundfeeds/sitemap/?outputType=xml&from=8200',\n",
       " 'https://www.reuters.com/arc/outboundfeeds/sitemap/?outputType=xml&from=8300',\n",
       " 'https://www.reuters.com/arc/outboundfeeds/sitemap/?outputType=xml&from=8400',\n",
       " 'https://www.reuters.com/arc/outboundfeeds/sitemap/?outputType=xml&from=8500',\n",
       " 'https://www.reuters.com/arc/outboundfeeds/sitemap/?outputType=xml&from=8600',\n",
       " 'https://www.reuters.com/arc/outboundfeeds/sitemap/?outputType=xml&from=8700',\n",
       " 'https://www.reuters.com/arc/outboundfeeds/sitemap/?outputType=xml&from=8800',\n",
       " 'https://www.reuters.com/arc/outboundfeeds/sitemap/?outputType=xml&from=8900',\n",
       " 'https://www.reuters.com/arc/outboundfeeds/sitemap/?outputType=xml&from=9000',\n",
       " 'https://www.reuters.com/arc/outboundfeeds/sitemap/?outputType=xml&from=9100',\n",
       " 'https://www.reuters.com/arc/outboundfeeds/sitemap/?outputType=xml&from=9200',\n",
       " 'https://www.reuters.com/arc/outboundfeeds/sitemap/?outputType=xml&from=9300',\n",
       " 'https://www.reuters.com/arc/outboundfeeds/sitemap/?outputType=xml&from=9400',\n",
       " 'https://www.reuters.com/arc/outboundfeeds/sitemap/?outputType=xml&from=9500',\n",
       " 'https://www.reuters.com/arc/outboundfeeds/sitemap/?outputType=xml&from=9600']"
      ]
     },
     "execution_count": 5,
     "metadata": {},
     "output_type": "execute_result"
    }
   ],
   "source": [
    "[url_list['loc'] for url_list in sitemaps['sitemapindex']['sitemap']]"
   ]
  },
  {
   "cell_type": "code",
   "execution_count": 6,
   "id": "dfab5b00-2ffa-4984-9417-28a631d76949",
   "metadata": {},
   "outputs": [],
   "source": [
    "sitemap_urls = [url_list['loc'] for url_list in sitemaps['sitemapindex']['sitemap']]"
   ]
  },
  {
   "cell_type": "markdown",
   "id": "83497d97-5f55-4e68-ab68-4b72fea6bcb2",
   "metadata": {},
   "source": [
    "### sitemap url중 첫번째 URL만 활용하여 XML파일을 HTTP통신을 통해 받아온다.\n",
    "### xml파일을 dict로 파싱을 해준다.\n",
    "#### 신문기사 정보까지 도달"
   ]
  },
  {
   "cell_type": "code",
   "execution_count": 7,
   "id": "1f2dc9c1-ece0-4ba1-938b-8c7d58b915f9",
   "metadata": {
    "scrolled": true,
    "tags": []
   },
   "outputs": [
    {
     "data": {
      "text/plain": [
       "{'urlset': {'@xmlns': 'http://www.sitemaps.org/schemas/sitemap/0.9',\n",
       "  '@xmlns:image': 'http://www.google.com/schemas/sitemap-image/1.1',\n",
       "  'url': [{'loc': 'https://www.reuters.com/business/finance/bank-montreal-reports-fall-first-quarter-profit-2023-02-28/',\n",
       "    'lastmod': '2023-02-28T10:49:50.467Z'},\n",
       "   {'loc': 'https://www.reuters.com/technology/eu-antitrust-regulators-narrow-case-against-apple-2023-02-28/',\n",
       "    'lastmod': '2023-02-28T10:48:58.187Z',\n",
       "    'image:image': {'image:loc': 'https://www.reuters.com/resizer/87loJZj3JUhEXP-JBR32EaJ8Low=/cloudfront-us-east-2.images.arcpublishing.com/reuters/5PGHLP3XFZLD7KKBFX5F7N22ZQ.jpg',\n",
       "     'image:caption': 'Silhouette of a mobile user seen next to a screen projection of the Apple logo in this picture illustration taken March 28, 2018.  REUTERS/Dado Ruvic/Illustration'}},\n",
       "   {'loc': 'https://www.reuters.com/world/europe/nikos-christodoulides-new-cyprus-president-sworn-2023-02-28/',\n",
       "    'lastmod': '2023-02-28T10:47:15.659Z',\n",
       "    'image:image': {'image:loc': 'https://www.reuters.com/resizer/2NQE_7V9v7ypSYnQSYuyXOJLRdE=/cloudfront-us-east-2.images.arcpublishing.com/reuters/W5BTZNR3CFO2FLTL5BMX4R4GEU.jpg',\n",
       "     'image:caption': \"Newly elected President of Cyprus Nikos Christodoulides arrives for a meeting with Cyprus' President Nicos Anastasiades at the Presidential Palace in Nicosia, Cyprus February 13, 2023. REUTERS/Yiannis Kourtoglou\"}},\n",
       "   {'loc': 'https://www.reuters.com/lifestyle/sports/arsenal-need-be-more-unpredictable-says-arteta-2023-02-28/',\n",
       "    'lastmod': '2023-02-28T10:44:48.956Z',\n",
       "    'image:image': {'image:loc': 'https://www.reuters.com/resizer/ESxWjul-MSHPcUpNSFiXsExAOws=/cloudfront-us-east-2.images.arcpublishing.com/reuters/V47N63TF3BICVCRO5NTAJCYFMQ.jpg',\n",
       "     'image:caption': 'Soccer Football - Premier League - Arsenal v Manchester City - Emirates Stadium, London, Britain - February 15, 2023 Arsenal manager Mikel Arteta reacts REUTERS/David Klein'}},\n",
       "   {'loc': 'https://www.reuters.com/markets/currencies/pound-heads-biggest-monthly-loss-since-september-even-after-brexit-deal-2023-02-28/',\n",
       "    'lastmod': '2023-02-28T10:40:20.385Z',\n",
       "    'image:image': {'image:loc': 'https://www.reuters.com/resizer/DT0Et7hNLuxwWf1pjT8dK0-Ruaw=/cloudfront-us-east-2.images.arcpublishing.com/reuters/NKAYOWSTEZM6DBV6POXA6SYFV4.jpg',\n",
       "     'image:caption': 'British pound coins are seen in this illustration taken, November 9, 2021. REUTERS/Dado Ruvic/Illustration'}},\n",
       "   {'loc': 'https://www.reuters.com/world/india/indian-security-forces-battle-kashmir-militants-after-killing-hindu-2023-02-28/',\n",
       "    'lastmod': '2023-02-28T10:37:40.151Z'},\n",
       "   {'loc': 'https://www.reuters.com/podcasts/women-vying-run-nato-revival-sacred-mori-tattoo-podcast-2023-02-27/',\n",
       "    'lastmod': '2023-02-28T10:37:11.993Z',\n",
       "    'image:image': {'image:loc': 'https://www.reuters.com/resizer/NTmyB-geUvlS1SD1JJY0UNTFr3M=/cloudfront-us-east-2.images.arcpublishing.com/reuters/PPXPWM5NKBCLRD3QSNP5DEBLJY.jpeg',\n",
       "     'image:caption': 'Flags fly outside NATO headquarters in Brussels, Belgium, November 16, 2022. REUTERS/Yves Herman - RC2VMX9FEPH5'}},\n",
       "   {'loc': 'https://www.reuters.com/business/energy/chevron-update-production-targets-during-investor-day-2023-02-28/',\n",
       "    'lastmod': '2023-02-28T10:33:15.988Z',\n",
       "    'image:image': {'image:loc': 'https://www.reuters.com/resizer/GzO9JPvNyk0T6PwWLHHxBdkjyXQ=/cloudfront-us-east-2.images.arcpublishing.com/reuters/47KFOIWMZFNYJNUCEKO7MMATV4.jpg',\n",
       "     'image:caption': 'The logo and trading information for Chevron is displayed on a screen on the floor of the New York Stock Exchange (NYSE) in New York City, U.S., June 27, 2022.  REUTERS/Brendan McDermid'}},\n",
       "   {'loc': 'https://www.reuters.com/markets/us/futures-slip-yields-rise-bets-higher-rates-2023-02-28/',\n",
       "    'lastmod': '2023-02-28T10:29:52.205Z',\n",
       "    'image:image': {'image:loc': 'https://www.reuters.com/resizer/6Al4mfhJGEGoshvJC6fMzpsIN5g=/cloudfront-us-east-2.images.arcpublishing.com/reuters/AWPB3CN76ROMXHFC3XSTNKNAYM.jpg',\n",
       "     'image:caption': 'Traders work on the floor of the New York Stock Exchange (NYSE) in New York City, U.S., February 27, 2023.  REUTERS/Brendan McDermid'}},\n",
       "   {'loc': 'https://www.reuters.com/world/south-korea-us-japan-meet-supply-chain-resilience-2023-02-28/',\n",
       "    'lastmod': '2023-02-28T10:21:59.970Z',\n",
       "    'image:image': {'image:loc': 'https://www.reuters.com/resizer/fMvcj9eAvHXHyEP7I5O_L1g1e28=/cloudfront-us-east-2.images.arcpublishing.com/reuters/WP6OOMW2WVLNNMEYJII4UWMISY.jpg',\n",
       "     'image:caption': 'FILE PHOTO-South Korean President Yoon Suk-yeol speaks at an interview with Reuters in Seoul, South Korea, November 28, 2022. REUTERS/Daewoung Kim'}},\n",
       "   {'loc': 'https://www.reuters.com/business/us-labor-department-probes-hearthside-food-solutions-possible-child-labor-2023-02-27/',\n",
       "    'lastmod': '2023-02-28T10:18:47.079Z',\n",
       "    'image:image': {'image:loc': 'https://www.reuters.com/resizer/9iry-aJuc6R9GHdkrXKMuoPCKMQ=/cloudfront-us-east-2.images.arcpublishing.com/reuters/BLI4XGAC5BPLDIGXLDWKRCJWSU.jpg',\n",
       "     'image:caption': 'The United States Department of Labor is seen in Washington, D.C., U.S., August 30, 2020. REUTERS/Andrew Kelly'}},\n",
       "   {'loc': 'https://www.reuters.com/markets/europe/rockwool-investigated-by-danish-authorities-over-potential-eu-sanction-breaches-2023-02-28/',\n",
       "    'lastmod': '2023-02-28T10:17:38.645Z'},\n",
       "   {'loc': 'https://www.reuters.com/lifestyle/sports/french-prosecutors-open-investigation-psgs-hakimi-source-2023-02-28/',\n",
       "    'lastmod': '2023-02-28T10:17:11.331Z',\n",
       "    'image:image': {'image:loc': 'https://www.reuters.com/resizer/bfdhZyvZm4CBAkyhMLI_vAys2vE=/cloudfront-us-east-2.images.arcpublishing.com/reuters/D32HK4BF4BIGRIZTZLLAAFMZLE.jpg',\n",
       "     'image:caption': \"Soccer Football - The Best FIFA Football Awards - Salle Pleyel, Paris, France - February 27, 2023 Paris St Germain's Achraf Hakimi before the Best FIFA Football Awards REUTERS/Sarah Meyssonnier\"}},\n",
       "   {'loc': 'https://www.reuters.com/world/europe/kremlin-russia-open-ukraine-talks-wont-give-up-annexed-regions-2023-02-28/',\n",
       "    'lastmod': '2023-02-28T10:13:55.218Z',\n",
       "    'image:image': {'image:loc': 'https://www.reuters.com/resizer/dyDYe2RWVTUg5Miewe0JJ5CBfj8=/cloudfront-us-east-2.images.arcpublishing.com/reuters/XYXTI3AQCNIZBNYHSM3ZZTDKMA.jpg',\n",
       "     'image:caption': 'Kremlin spokesman Dmitry Peskov attends a news conference of Russian President Vladimir Putin after a meeting of the State Council on youth policy in Moscow, Russia, December 22, 2022. Sputnik/Valeriy Sharifulin/Pool via REUTERS'}},\n",
       "   {'loc': 'https://www.reuters.com/lifestyle/triangle-sadness-director-ostlund-named-cannes-film-festival-jury-president-2023-02-28/',\n",
       "    'lastmod': '2023-02-28T10:14:33.513Z',\n",
       "    'image:image': {'image:loc': 'https://www.reuters.com/resizer/eTBIcfoy41ySoXUOchGdo_VUkck=/cloudfront-us-east-2.images.arcpublishing.com/reuters/RDPZJIQOKJO3HBIK2DJS5Z43OU.jpg',\n",
       "     'image:caption': 'The 75th Cannes Film Festival - Closing ceremony - Cannes, France, May 28, 2022. Director Ruben Ostlund, Palme d\\'Or award winner for the film film \"Triangle of Sadness\", reacts. REUTERS/Eric Gaillard/'}},\n",
       "   {'loc': 'https://www.reuters.com/markets/asia/sri-lankas-key-inflation-rate-eases-506-feb-2023-02-28/',\n",
       "    'lastmod': '2023-02-28T10:24:25.419Z'},\n",
       "   {'loc': 'https://www.reuters.com/world/india/new-delhi-city-warns-uber-ola-use-bike-taxis-official-2023-02-28/',\n",
       "    'lastmod': '2023-02-28T10:10:37.252Z',\n",
       "    'image:image': {'image:loc': 'https://www.reuters.com/resizer/GfXRUfxU10GCfll7nD9XC7rSKKc=/cloudfront-us-east-2.images.arcpublishing.com/reuters/FBB4YOXPY5LGBKIL5QI4C4TAQY.jpg',\n",
       "     'image:caption': 'The interior of the office of ride-hailing service Uber is seen in this picture in Gurugram, previously known as Gurgaon, on the outskirts of New Delhi, India, April 19, 2016.  REUTERS/Anindito Mukherjee/File Photo'}},\n",
       "   {'loc': 'https://www.reuters.com/technology/casio-teams-with-finlands-polar-electro-smartwatch-2023-02-28/',\n",
       "    'lastmod': '2023-02-28T10:08:56.536Z',\n",
       "    'image:image': {'image:loc': 'https://www.reuters.com/resizer/w6SlfkFfM_OZkC_SQ5YSbuhLaX8=/cloudfront-us-east-2.images.arcpublishing.com/reuters/FLSNMYPQDVLZZC3USKAYWQFBRQ.jpg',\n",
       "     'image:caption': 'A worker checks on lights at a Casio booth during preparations for the 2014 Consumer Electronics Show (CES) at the Las Vegas Convention Center in Las Vegas, Nevada, January 4, 2014. REUTERS/Steve Marcus'}},\n",
       "   {'loc': 'https://www.reuters.com/technology/us-require-companies-winning-chipmaking-subsidies-share-excess-profits-2023-02-28/',\n",
       "    'lastmod': '2023-02-28T10:04:48.158Z',\n",
       "    'image:image': {'image:loc': 'https://www.reuters.com/resizer/WbxgavHhWdxYSIEQaJZxd6LL44Q=/cloudfront-us-east-2.images.arcpublishing.com/reuters/VF5N7CEDBJO2NM7U5HEVSNOERQ.jpg',\n",
       "     'image:caption': 'Semiconductor chips are seen on a printed circuit board in this illustration picture taken February 17, 2023. REUTERS/Florence Lo/Illustration'}},\n",
       "   {'loc': 'https://www.reuters.com/business/sustainable-business/bank-finance-cleaner-energy-grows-still-lags-fossil-fuels-report-2023-02-28/',\n",
       "    'lastmod': '2023-02-28T10:15:19.281Z',\n",
       "    'image:image': {'image:loc': 'https://www.reuters.com/resizer/ZsrOp8tw5XsjXONG9rE6V2Ch8HI=/cloudfront-us-east-2.images.arcpublishing.com/reuters/PMEQH3LQHBIU3P6LWX4D4G7PTU.jpg',\n",
       "     'image:caption': 'File Photo: Wind turbines are seen in a field near Emerson, Manitoba, Canada February 25, 2017. Picture taken February 25, 2017.  REUTERS/Lyle Stafford'}},\n",
       "   {'loc': 'https://www.reuters.com/markets/deals/vodafones-biggest-shareholder-uaes-e-ups-stake-14-2023-02-28/',\n",
       "    'lastmod': '2023-02-28T10:03:03.852Z',\n",
       "    'image:image': {'image:loc': 'https://www.reuters.com/resizer/TMH4dFVvFSxpyjOx_jL7Mqc3M8c=/cloudfront-us-east-2.images.arcpublishing.com/reuters/SUUAJXJATZKEJJBDM24JUIY5TI.jpg',\n",
       "     'image:caption': 'Vodafone logo is seen at the 2023 Mobile World Congress (MWC) in Barcelona, Spain February 27, 2023. REUTERS/Nacho Doce'}},\n",
       "   {'loc': 'https://www.reuters.com/lifestyle/sports/frances-soccer-federation-boss-le-graet-resigns-source-2023-02-28/',\n",
       "    'lastmod': '2023-02-28T10:46:32.391Z',\n",
       "    'image:image': {'image:loc': 'https://www.reuters.com/resizer/CTcFedyyWwzNhUWF26ssO43uAT4=/cloudfront-us-east-2.images.arcpublishing.com/reuters/WUHO22MK6BLDRO4UYYBNROOP6Y.jpg',\n",
       "     'image:caption': \"Soccer Football - President of the French Football Federation Noel Le Graet before the 2022 Ballon d'Or awards - Chatelet Theatre, Paris, France - October 17, 2022  REUTERS/Benoit Tessier/File Photo\"}},\n",
       "   {'loc': 'https://www.reuters.com/world/china/china-says-its-economic-recovery-is-still-not-solid-state-media-2023-02-28/',\n",
       "    'lastmod': '2023-02-28T10:46:12.378Z',\n",
       "    'image:image': {'image:loc': 'https://www.reuters.com/resizer/0pRYpdbQbkMl4GNVFZdVDdCgZoI=/cloudfront-us-east-2.images.arcpublishing.com/reuters/AKY7ECACSBLK3JDYOSZ4FVDUCA.jpg',\n",
       "     'image:caption': \"Cars move on a street at the Beijing's Central Business District (CBD), during the morning rush hour following the Chinese Lunar New Year holiday, in Beijing, China, January 30, 2023. REUTERS/Tingshu Wang\"}},\n",
       "   {'loc': 'https://www.reuters.com/business/aerospace-defense/uk-building-supplier-travis-perkins-warns-challenging-2023-2023-02-28/',\n",
       "    'lastmod': '2023-02-28T09:55:16.986Z',\n",
       "    'image:image': {'image:loc': 'https://www.reuters.com/resizer/DMTXDN5DGhGA2eEdE8Id8380L_0=/cloudfront-us-east-2.images.arcpublishing.com/reuters/IZYN7RVPMBP3NFOY63TDR25ASU.jpg',\n",
       "     'image:caption': 'A signage is pictured at Travis Perkins, a timber and building merchants yard in St Albans, Britain October 22, 2020. REUTERS/Paul Childs'}},\n",
       "   {'loc': 'https://www.reuters.com/markets/asia/thai-economy-seen-growing-3-4-this-year-inflation-fall-cbank-2023-02-28/',\n",
       "    'lastmod': '2023-02-28T09:52:28.746Z'},\n",
       "   {'loc': 'https://www.reuters.com/markets/commodities/tellurian-faces-new-setback-lng-project-financing-looms-2023-02-28/',\n",
       "    'lastmod': '2023-02-28T09:49:15.712Z',\n",
       "    'image:image': {'image:loc': 'https://www.reuters.com/resizer/sEQ6J4qjhFs6ZMqsuwGMEAhZoZM=/cloudfront-us-east-2.images.arcpublishing.com/reuters/2K7EMPYY2NIE3M3PRAGHXTUKGM.jpg',\n",
       "     'image:caption': \"The logo of Tellurian Inc is seen in its booth at Gastech, the world's biggest expo for the gas industry, in Chiba, Japan April 4, 2017. REUTERS/Toru Hanai/File Photo\"}},\n",
       "   {'loc': 'https://www.reuters.com/markets/commodities/wheat-market-dismisses-war-crop-risks-despite-still-thin-stocks-2023-02-28/',\n",
       "    'lastmod': '2023-02-28T09:44:21.893Z'},\n",
       "   {'loc': 'https://www.reuters.com/default/world-trade-boom-keeps-de-globalization-bay-2023-02-28/',\n",
       "    'lastmod': '2023-02-28T09:42:46.892Z'},\n",
       "   {'loc': 'https://www.reuters.com/business/european-investment-bank-proposes-new-fund-counter-us-ira-spiegel-2023-02-28/',\n",
       "    'lastmod': '2023-02-28T10:43:08.539Z',\n",
       "    'image:image': {'image:loc': 'https://www.reuters.com/resizer/hVo1GZSBHyF2Giq1SnpeqSnBMnc=/cloudfront-us-east-2.images.arcpublishing.com/reuters/MSSFSX6AXZNVDLJAQNLUNU725M.jpg',\n",
       "     'image:caption': 'Flags are seen behind the logo of the European Investment Bank pictured in the city of Luxembourg, Luxembourg, March 25, 2017. Reuters/Eric Vidal/File Photo'}},\n",
       "   {'loc': 'https://www.reuters.com/world/europe/russian-offensive-eastern-ukraine-focused-bakhmut-2023-02-28/',\n",
       "    'lastmod': '2023-02-28T09:41:32.247Z',\n",
       "    'image:image': {'image:loc': 'https://www.reuters.com/resizer/-L3cAJe3_vEgHdcIkEODMwJdj2c=/cloudfront-us-east-2.images.arcpublishing.com/reuters/O4KWAXBWUJJRDPRIUTCX7VAU3Q.jpg',\n",
       "     'image:caption': \"Ukrainian service members are seen next an infantry fighting vehicle near the frontline town of Bakhmut, amid Russia's attack on Ukraine, in Donetsk region, Ukraine February 25, 2023. REUTERS/Yan Dobronosov\"}},\n",
       "   {'loc': 'https://www.reuters.com/markets/europe/france-inflation-rises-unexpectedly-72-february-preliminary-figures-2023-02-28/',\n",
       "    'lastmod': '2023-02-28T09:41:15.651Z',\n",
       "    'image:image': {'image:loc': 'https://www.reuters.com/resizer/Qd2A6ho7eeLBrSxQLLJ3NMI4zF8=/cloudfront-us-east-2.images.arcpublishing.com/reuters/IBGQ6HK7INOB3OMDPJO54DLXTU.jpg',\n",
       "     'image:caption': 'A customer uses a shopping trolley to shop in a Lidl supermarket in Gattieres near Nice, France, December 2, 2022. REUTERS/Eric Gaillard'}},\n",
       "   {'loc': 'https://www.reuters.com/markets/commodities/russias-feb-ultra-low-sulphur-diesel-exports-primorsk-seen-record-traders-2023-02-28/',\n",
       "    'lastmod': '2023-02-28T09:38:56.563Z'},\n",
       "   {'loc': 'https://www.reuters.com/markets/europe/european-shares-fall-sticky-inflation-worries-uks-ocado-slides-2023-02-28/',\n",
       "    'lastmod': '2023-02-28T09:37:49.967Z',\n",
       "    'image:image': {'image:loc': 'https://www.reuters.com/resizer/VAhiE2wIqGF42htLlOrAm5QKpbA=/cloudfront-us-east-2.images.arcpublishing.com/reuters/HJX63HRYZNJLJGAQPOSEHQV45M.jpg',\n",
       "     'image:caption': 'The German share price index DAX graph is pictured at the stock exchange in Frankfurt, Germany, February 27, 2023.    REUTERS/Staff'}},\n",
       "   {'loc': 'https://www.reuters.com/markets/currencies/indian-importers-hedge-less-assured-by-cenbanks-rupee-support-data-suggests-2023-02-28/',\n",
       "    'lastmod': '2023-02-28T09:34:46.066Z',\n",
       "    'image:image': {'image:loc': 'https://www.reuters.com/resizer/qD1c8KVoiAn82YuglKsVbwuGyIQ=/cloudfront-us-east-2.images.arcpublishing.com/reuters/OFRAGPMAYNMDNKFF3ONSHKNH6Y.jpg',\n",
       "     'image:caption': 'An employee counts Indian rupee currency notes inside a private money exchange office in New Delhi July 5, 2013. REUTERS/Adnan Abidi'}},\n",
       "   {'loc': 'https://www.reuters.com/world/africa/south-africas-official-unemployment-rate-dips-327-fourth-qtr-2023-02-28/',\n",
       "    'lastmod': '2023-02-28T09:39:10.737Z',\n",
       "    'image:image': {'image:loc': 'https://www.reuters.com/resizer/jJkdvhufIBpOtXpDmoOIGwo1rkg=/cloudfront-us-east-2.images.arcpublishing.com/reuters/7IVAIW4RBVN7BE7P5VXAC66TQE.jpg',\n",
       "     'image:caption': 'Social grant recipients stand in a queue outside a post office, as joblessness takes its toll in Meadowlands, a suburb of Soweto, South Africa, February 24, 2022.   REUTERS/Siphiwe Sibeko'}},\n",
       "   {'loc': 'https://www.reuters.com/markets/commodities/al-khaleej-sugar-says-operating-40-capacity-2023-02-28/',\n",
       "    'lastmod': '2023-02-28T09:30:02.531Z',\n",
       "    'image:image': {'image:loc': 'https://www.reuters.com/resizer/O9lkE_dHZ8SoYxtOUhN_mLINh2c=/cloudfront-us-east-2.images.arcpublishing.com/reuters/2EF552IR4NLHDHCMS4RMHHCIDA.jpg',\n",
       "     'image:caption': 'General view of the Al Khaleej Sugar Refinery in Jebel Ali in Dubai, UAE, February 12, 2019.  REUTERS/Satish Kumar'}},\n",
       "   {'loc': 'https://www.reuters.com/business/hedge-funds-unimpressed-by-chinese-internet-giants-peppy-earnings-2023-02-28/',\n",
       "    'lastmod': '2023-02-28T09:29:18.471Z',\n",
       "    'image:image': {'image:loc': 'https://www.reuters.com/resizer/j5yOx4gPveGfH9Gc-YLTD3d-QcA=/cloudfront-us-east-2.images.arcpublishing.com/reuters/D24D44ZNHVMFPNYB32VY2BATZE.jpg',\n",
       "     'image:caption': 'A logo of Baidu is seen during the World Internet Conference (WIC) in Wuzhen, Zhejiang province, China, November 23, 2020. REUTERS/Aly Song/File Photo/File Photo'}},\n",
       "   {'loc': 'https://www.reuters.com/business/environment/doomsday-arctic-seed-vault-gets-boost-efforts-secure-food-supplies-ramp-up-2023-02-28/',\n",
       "    'lastmod': '2023-02-28T09:27:26.930Z',\n",
       "    'image:image': {'image:loc': 'https://www.reuters.com/resizer/cx8TNL16_Od1oT1qPrx4qLCWM7M=/cloudfront-us-east-2.images.arcpublishing.com/reuters/DRFKDM7YJBP6VMIMBNBDGOG7UA.jpg',\n",
       "     'image:caption': \"Norway's Prime Minister Erna Solberg, Agriculture and Food Minister Olaug V. Bollestad and Ghana's President Nana Akufo-Addo visit Svalbard's global seed vault, as representatives from many countries and universities arrived in the vault with new seeds, in Longyearbyen, Norway February 25, 2020.  NTB Scanpix/Lise Aserud via REUTERS\"}},\n",
       "   {'loc': 'https://www.reuters.com/markets/europe/swiss-government-says-it-expects-economic-slowdown-no-recession-2023-02-28/',\n",
       "    'lastmod': '2023-02-28T09:25:22.156Z',\n",
       "    'image:image': {'image:loc': 'https://www.reuters.com/resizer/bHjxUjNTJVTu_WoP95b3JxU7-M4=/cloudfront-us-east-2.images.arcpublishing.com/reuters/TNGXLGGR4JPNTLUBGFYKJSVSTE.jpg',\n",
       "     'image:caption': 'Shoppers walk at the Bahnhofstrasse street, as the spread of the coronavirus disease (COVID-19) continues, in Zurich Switzerland March 13, 2021. REUTERS/Arnd Wiegmann'}},\n",
       "   {'loc': 'https://www.reuters.com/technology/apple-supplier-foxlink-unlikely-resume-full-india-operations-two-months-source-2023-02-28/',\n",
       "    'lastmod': '2023-02-28T09:22:24.259Z',\n",
       "    'image:image': {'image:loc': 'https://www.reuters.com/resizer/Qbt5dOxSTAzMejOJTLor7dMVrgc=/cloudfront-us-east-2.images.arcpublishing.com/reuters/WQS7NGFUWVPFZOL4RS2ZP3VBMA.jpg',\n",
       "     'image:caption': 'A view of damaged Apple supplier Foxlink is seen after a fire at its assembly facility in Tirupati district in the southern state of Andhra Pradesh, India, February 28, 2023. REUTERS/Praveen Paramasivam'}},\n",
       "   {'loc': 'https://www.reuters.com/markets/commodities/lithium-price-slide-deepens-china-battery-giant-bets-cheaper-inputs-2023-02-28/',\n",
       "    'lastmod': '2023-02-28T09:33:10.816Z',\n",
       "    'image:image': {'image:loc': 'https://www.reuters.com/resizer/ftPRdLRUhY3BIzPmjji6774eIWM=/cloudfront-us-east-2.images.arcpublishing.com/reuters/NW5RH5XVYVKW3OAA2UENGQKOJY.jpg',\n",
       "     'image:caption': 'The logo of Chinese battery maker CATL is seen among a display of batteries at an exhibition in Beijing, China October 12, 2022. REUTERS/Florence Lo/File Photo'}},\n",
       "   {'loc': 'https://www.reuters.com/world/europe/hacking-attack-prompts-russian-regional-broadcasters-issue-air-alert-warnings-2023-02-28/',\n",
       "    'lastmod': '2023-02-28T09:13:35.592Z'},\n",
       "   {'loc': 'https://www.reuters.com/lifestyle/sports/soccer-berlusconi-family-weighs-ac-monza-stake-sale-sources-say-2023-02-28/',\n",
       "    'lastmod': '2023-02-28T09:19:39.474Z',\n",
       "    'image:image': {'image:loc': 'https://www.reuters.com/resizer/pIrDsG3IYUc_NQIe2B2Ctvl8Dm8=/cloudfront-us-east-2.images.arcpublishing.com/reuters/IFKLHOHMHVO4XK3QFJXOHFNX4Y.jpg',\n",
       "     'image:caption': 'Soccer Football - Serie A - Juventus v Monza - Allianz Stadium, Turin, Italy - January 29, 2023  Monza fans in the stands REUTERS/Massimo Pinca'}},\n",
       "   {'loc': 'https://www.reuters.com/world/europe/hoping-fetch-mother-poland-ukrainian-attempts-polish-driving-test-2023-02-28/',\n",
       "    'lastmod': '2023-02-28T09:08:24.080Z',\n",
       "    'image:image': {'image:loc': 'https://www.reuters.com/resizer/TiQRhzfFDpCoE6QSIKY10Dh7p-o=/cloudfront-us-east-2.images.arcpublishing.com/reuters/M62NAMXDRJORDHUOIICP4QTSYE.jpg',\n",
       "     'image:caption': 'Tetiana Harkusha leaves the car in which she learned to drive during private classes in Lodz, Poland February 25, 2023. REUTERS/Kuba Stezycki'}},\n",
       "   {'loc': 'https://www.reuters.com/world/europe/shots-fired-near-german-primary-school-two-critically-injured-bild-2023-02-28/',\n",
       "    'lastmod': '2023-02-28T09:25:25.317Z'},\n",
       "   {'loc': 'https://www.reuters.com/business/retail-consumer/uk-grocery-price-inflation-hits-record-171-2023-02-28/',\n",
       "    'lastmod': '2023-02-28T09:05:37.640Z',\n",
       "    'image:image': {'image:loc': 'https://www.reuters.com/resizer/taJqE4Y5eatJOXFp7U7hWgaNciE=/cloudfront-us-east-2.images.arcpublishing.com/reuters/VCI42OJ2R5KMDCKDGQVSG2Q5FQ.jpg',\n",
       "     'image:caption': 'A shopper walks next to a photographic depiction of tomatoes on a Tesco supermarket as Britain experiences a seasonal shortage of some fruit and vegetables, in London, Britain, February 26, 2023. REUTERS/Toby Melville'}},\n",
       "   {'loc': 'https://www.reuters.com/markets/turkeys-economy-grew-56-2022-pace-slow-after-earthquakes-2023-02-28/',\n",
       "    'lastmod': '2023-02-28T09:57:13.727Z',\n",
       "    'image:image': {'image:loc': 'https://www.reuters.com/resizer/QG2zVLmem3JfQV9lyxbx_GHVRmw=/cloudfront-us-east-2.images.arcpublishing.com/reuters/V2WS763YMJNXPNBENPS2EBU264.jpg',\n",
       "     'image:caption': 'People shop at an open market in Istanbul, Turkey, December 5, 2022. REUTERS/Dilara Senkaya'}},\n",
       "   {'loc': 'https://www.reuters.com/world/thailand-hosts-thousands-us-troops-annual-cobra-gold-drills-2023-02-28/',\n",
       "    'lastmod': '2023-02-28T09:06:46.443Z',\n",
       "    'image:image': {'image:loc': 'https://www.reuters.com/resizer/p4GGNf1Avqw4XYH5NAC61zVrWnE=/cloudfront-us-east-2.images.arcpublishing.com/reuters/G73FMQGJZZNRJK6EFKVHTZ56WE.jpg',\n",
       "     'image:caption': 'U.S. Admiral John C. Aquilino speaks during a news conference in Bangkok, Thailand, December 13, 2019. REUTERS/Panu Wongcha-um'}},\n",
       "   {'loc': 'https://www.reuters.com/markets/major-gulf-bourses-mixed-saudi-falls-weak-earnings-2023-02-28/',\n",
       "    'lastmod': '2023-02-28T08:58:28.830Z',\n",
       "    'image:image': {'image:loc': 'https://www.reuters.com/resizer/XZsWp48nYxJ4YCD464T6xNKKiRY=/cloudfront-us-east-2.images.arcpublishing.com/reuters/L3H3IZI64RIHZPM75IZHPWMLSU.jpg',\n",
       "     'image:caption': 'A trader looks on near electronic boards showing stock market data at Bahrain Bourse after Joe Biden won the U.S. presidency, in Manama, Bahrain, November 8, 2020. REUTERS/Hamad I Mohammed'}},\n",
       "   {'loc': 'https://www.reuters.com/breakingviews/us-world-bank-pick-comes-with-green-finance-cred-2023-02-23/',\n",
       "    'lastmod': '2023-02-28T08:56:25.931Z',\n",
       "    'image:image': {'image:loc': 'https://www.reuters.com/resizer/CAFynp4kgqcc-hPBl8nUBtffgNA=/cloudfront-us-east-2.images.arcpublishing.com/reuters/AX4M3L6GSZIK7AU4K5CD77P64E.jpg',\n",
       "     'image:caption': 'Mastercard President and CEO Ajay Banga speaks to attendees during the Department of Homeland Security’s Cybersecurity Summit in Manhattan, New York, U.S., July 31, 2018. REUTERS/Eduardo Munoz'}},\n",
       "   {'loc': 'https://www.reuters.com/world/asia-pacific/rust-belt-province-got-old-before-it-got-rich-much-china-will-2023-02-28/',\n",
       "    'lastmod': '2023-02-28T08:56:14.875Z',\n",
       "    'image:image': {'image:loc': 'https://www.reuters.com/resizer/bplR8ZWjXO2exglqUUz4pExzJZk=/cloudfront-us-east-2.images.arcpublishing.com/reuters/5J6WQOW4YVP47LTIKYAYUH4UAQ.jpg',\n",
       "     'image:caption': 'Farmer Wang Zhanling sits next to his wife in their house in Quansheng village, Heilongjiang Province, China, February 8, 2023. REUTERS/Thomas Peter'}},\n",
       "   {'loc': 'https://www.reuters.com/breakingviews/wood-group-has-grounds-face-down-apollo-2023-02-23/',\n",
       "    'lastmod': '2023-02-28T08:55:21.954Z',\n",
       "    'image:image': {'image:loc': 'https://www.reuters.com/resizer/5OniGkc29PL-yZG-OwAKFbb3hTE=/cloudfront-us-east-2.images.arcpublishing.com/reuters/ID22D4XZFZLB3CHHOYUKZ3AJQA.jpg',\n",
       "     'image:caption': 'Workers carry out maintenance at an oil well on oil fields operated by a subsidiary of the KazMunayGas Exploration Production JSC in Kyzylorda region, southern Kazakhstan, January 21, 2016. Picture taken January 21, 2016.  REUTERS/Shamil Zhumatov'}},\n",
       "   {'loc': 'https://www.reuters.com/breakingviews/revisiting-jpmorgans-innovative-cazenove-deal-2023-02-24/',\n",
       "    'lastmod': '2023-02-28T08:54:18.784Z',\n",
       "    'image:image': {'image:loc': 'https://www.reuters.com/resizer/ACgkbh0gyiKiyKi71VCzeCgn_Og=/cloudfront-us-east-2.images.arcpublishing.com/reuters/HT27ZGYJ7NMYPBSPISTWMZ73EI.jpg',\n",
       "     'image:caption': \"Bill Winters (L), Co-Chief Executive Officer of JP Morgan Investment Bank, David Mayhew (C), Chairman of Cazenove and Robert Pickering (R), Chief Executive of Cazenove pose for photographers at a news conference in London, November 5, 2004. Cazenove and J.P. Morgan Chase & Co. unveiled a joint venture on Friday that effectively ends 181 years of independence for the British brokerage and aims to boost the U.S. investment bank's UK presence. REUTERS/Kieran Doherty\"}},\n",
       "   {'loc': 'https://www.reuters.com/breakingviews/post-erdogan-turkey-could-come-cold-2023-02-27/',\n",
       "    'lastmod': '2023-02-28T08:53:41.403Z',\n",
       "    'image:image': {'image:loc': 'https://www.reuters.com/resizer/JkM5JAHP2eIk_GZjgyWaa2duLqs=/cloudfront-us-east-2.images.arcpublishing.com/reuters/LZVNBESREJI27LCGVWUYSX542A.jpg',\n",
       "     'image:caption': 'Turkey’s President Tayyip Erdogan meets with his Serbian counterpart Aleksandar Vucic (not pictured) during a visit to Belgrade, Serbia, September 7, 2022. REUTERS/Marko Djurica'}},\n",
       "   {'loc': 'https://www.reuters.com/world/uk/uk-pm-sunak-new-northern-ireland-deal-not-about-any-one-political-party-2023-02-28/',\n",
       "    'lastmod': '2023-02-28T08:53:15.010Z',\n",
       "    'image:image': {'image:loc': 'https://www.reuters.com/resizer/HsvhcpsxL3wbfsgYLsxwhB_CkyM=/cloudfront-us-east-2.images.arcpublishing.com/reuters/DKWJDI3MIBN4PGJ6VOA7CSI2IM.jpg',\n",
       "     'image:caption': 'British Prime Minister Rishi Sunak arrives at the Fairmont Hotel in Windsor, Britain, February 27, 2023. Dan Kitwood/Pool via REUTERS'}},\n",
       "   {'loc': 'https://www.reuters.com/breakingviews/open-source-software-braces-trade-war-2023-02-27/',\n",
       "    'lastmod': '2023-02-28T08:52:57.221Z',\n",
       "    'image:image': {'image:loc': 'https://www.reuters.com/resizer/wJBS24rtXIKk3StjVJr-7Gzl3UA=/cloudfront-us-east-2.images.arcpublishing.com/reuters/AKGMTRBUZ5PYLDLK3SSU5WS5KQ.jpg',\n",
       "     'image:caption': \"A 3D design layout of a head is pictured at Hanson Robotics' lab, amid the coronavirus disease (COVID-19) pandemic, in Hong Kong, China May 4, 2021. Picture taken May 4, 2021. REUTERS/Tyrone Siu\"}},\n",
       "   {'loc': 'https://www.reuters.com/business/finance/state-bank-india-raises-1-billion-via-syndicated-social-loan-further-lending-2023-02-28/',\n",
       "    'lastmod': '2023-02-28T08:52:52.847Z',\n",
       "    'image:image': {'image:loc': 'https://www.reuters.com/resizer/-FQmQxJS977eDFL5BJwLP-EdZCs=/cloudfront-us-east-2.images.arcpublishing.com/reuters/ARYBMHTDRRKK5FR6222CRG23WY.jpg',\n",
       "     'image:caption': 'A man checks his mobile phones in front of State Bank of India (SBI) branch in Kolkata, India, February 9, 2018. REUTERS/Rupak De Chowdhuri'}},\n",
       "   {'loc': 'https://www.reuters.com/breakingviews/chinas-li-auto-drives-fine-profit-line-2023-02-28/',\n",
       "    'lastmod': '2023-02-28T08:52:07.169Z',\n",
       "    'image:image': {'image:loc': 'https://www.reuters.com/resizer/Giz5TDkgjo476rw1wHyCEYF1lmA=/cloudfront-us-east-2.images.arcpublishing.com/reuters/ASBVTHVFBRCTFI27II32E2JRFI.jpg',\n",
       "     'image:caption': 'Li Xiang, founder and chief executive officer of Chinese electric vehicle (EV) maker Li Auto, speaks at a product launch event in Beijing, China May 25, 2021. Picture taken May 25, 2021. REUTERS/Yilei Sun'}},\n",
       "   {'loc': 'https://www.reuters.com/breakingviews/japan-posts-deal-will-test-interest-rate-optimism-2023-02-28/',\n",
       "    'lastmod': '2023-02-28T08:51:28.742Z',\n",
       "    'image:image': {'image:loc': 'https://www.reuters.com/resizer/JYecAIlXzFaquBiOnvAtx4KC_2w=/cloudfront-us-east-2.images.arcpublishing.com/reuters/7BUCXTMRK5FYHKWCYTA6SAYJQY.jpg',\n",
       "     'image:caption': 'A man walks past a logo of Japan Post Group at its headquarters in Tokyo, Japan, November 2, 2015.   REUTERS/Toru Hanai'}},\n",
       "   {'loc': 'https://www.reuters.com/breakingviews/uk-begins-long-uncertain-road-back-brexit-2023-02-27/',\n",
       "    'lastmod': '2023-02-28T08:50:55.805Z',\n",
       "    'image:image': {'image:loc': 'https://www.reuters.com/resizer/8A6zknt7pt1yY8QZ9SgQY8k-EkE=/cloudfront-us-east-2.images.arcpublishing.com/reuters/67MQFEYSHBOU3JQGNWKSKUEL44.jpg',\n",
       "     'image:caption': 'British Prime Minister Rishi Sunak and European Commission President Ursula von der Leyen shake hands as they hold a news conference at Windsor Guildhall, Britain, February 27, 2023. Dan Kitwood/Pool via REUTERS'}},\n",
       "   {'loc': 'https://www.reuters.com/world/uk/uks-sunak-belfast-start-selling-his-new-brexit-deal-2023-02-28/',\n",
       "    'lastmod': '2023-02-28T08:46:39.401Z',\n",
       "    'image:image': {'image:loc': 'https://www.reuters.com/resizer/41itpdqfOpghQYpsu9RrFuev_Ec=/cloudfront-us-east-2.images.arcpublishing.com/reuters/TMU4S4XVQ5KIDCSJPXVZQCBK5Q.jpg',\n",
       "     'image:caption': 'British Prime Minister Rishi Sunak delivers a statement on the Northern Ireland Protocol, at the House of Commons in London, Britain, February 27, 2023. UK Parliament/Jessica Taylor/Handout via REUTERS'}},\n",
       "   {'loc': 'https://www.reuters.com/business/aerospace-defense/spains-aena-sees-2023-passenger-traffic-back-normal-after-booking-profit-again-2023-02-28/',\n",
       "    'lastmod': '2023-02-28T08:44:44.073Z',\n",
       "    'image:image': {'image:loc': 'https://www.reuters.com/resizer/CC1ZVZwumnoCIZEdu72vGnB9ZM0=/cloudfront-us-east-2.images.arcpublishing.com/reuters/FUWZQDJFQBLGZB75MEIOWZWJT4.jpg',\n",
       "     'image:caption': 'The logo of Spanish airports operator Aena is seen at the Adolfo Suarez Barajas airport in Madrid, Spain, February 21, 2023. REUTERS/Violeta Santos Moura'}},\n",
       "   {'loc': 'https://www.reuters.com/markets/deals/edf-converts-some-bonds-into-shares-strengthen-balance-sheet-2023-02-28/',\n",
       "    'lastmod': '2023-02-28T08:44:46.776Z',\n",
       "    'image:image': {'image:loc': 'https://www.reuters.com/resizer/XO0omgrUIS4lpFHqlq9G4ofK-Qc=/cloudfront-us-east-2.images.arcpublishing.com/reuters/KDLBE3VIZ5NYNOGJDBJO7PC3DY.jpg',\n",
       "     'image:caption': 'The desk is seen prior to the presentation of French state-owned utility EDF 2022 annual results in Paris, France, February 17, 2023.  REUTERS/Christian Hartmann'}},\n",
       "   {'loc': 'https://www.reuters.com/markets/asia/pakistan-central-bank-may-hike-rates-another-200-bps-unlock-imf-funds-2023-02-28/',\n",
       "    'lastmod': '2023-02-28T08:38:44.838Z',\n",
       "    'image:image': {'image:loc': 'https://www.reuters.com/resizer/r8zISyQ-O4wuMZVV5_ohrd66gyo=/cloudfront-us-east-2.images.arcpublishing.com/reuters/VMXRUVJFHRJA5EFMSFCY7Q5QCQ.jpg',\n",
       "     'image:caption': 'The logo of the State Bank of Pakistan (SBP) is pictured on a reception desk at the head office in Karachi, Pakistan July 16, 2019. REUTERS/Akhtar Soomro/File Photo'}},\n",
       "   {'loc': 'https://www.reuters.com/world/uk/ftse-100-falls-open-ocado-sinks-bottom-2023-02-28/',\n",
       "    'lastmod': '2023-02-28T09:57:05.976Z',\n",
       "    'image:image': {'image:loc': 'https://www.reuters.com/resizer/o4JNkrsQMpdamFR2YuNXvdu7Eig=/cloudfront-us-east-2.images.arcpublishing.com/reuters/N6Q2C3EVBZLEHE4TAY53OXKEUM.jpg',\n",
       "     'image:caption': 'The London Stock Exchange Group offices are seen in the City of London, Britain, December 29, 2017. REUTERS/Toby Melville/File Photo'}},\n",
       "   {'loc': 'https://www.reuters.com/world/europe/migrant-shipwreck-death-toll-up-64-reuters-witnesses-2023-02-28/',\n",
       "    'lastmod': '2023-02-28T10:26:05.215Z',\n",
       "    'image:image': {'image:loc': 'https://www.reuters.com/resizer/Sm4jwPrFXtRLexrHDl6hS5rKG7g=/cloudfront-us-east-2.images.arcpublishing.com/reuters/7MSSSEI5URMSTDFMG24SAWROQQ.jpg',\n",
       "     'image:caption': 'A view of the wreckage of a shipwreck in southern Italy which has left dozens of migrants dead after the boat in which they were travelling smashed onto the rocks, in Cutro, Italy, February 27, 2023. REUTERS/Remo Casilli'}},\n",
       "   {'loc': 'https://www.reuters.com/business/energy/japan-promote-gas-lng-hydrogen-investment-during-g7-presidency-2023-02-28/',\n",
       "    'lastmod': '2023-02-28T08:34:01.215Z',\n",
       "    'image:image': {'image:loc': 'https://www.reuters.com/resizer/oLLK722u-k7rNkmfECprRLWcHNc=/cloudfront-us-east-2.images.arcpublishing.com/reuters/U3TCOHLZBVKH7CBD3THI3KKHYY.jpg',\n",
       "     'image:caption': 'A liquefied natural gas (LNG) tanker is tugged towards a thermal power station in Futtsu, east of Tokyo, Japan November 13, 2017. REUTERS/Issei Kato//File Photo'}},\n",
       "   {'loc': 'https://www.reuters.com/world/india/indias-passenger-vehicle-sales-grow-9-10-2024-crisil-ratings-2023-02-28/',\n",
       "    'lastmod': '2023-02-28T08:39:00.463Z',\n",
       "    'image:image': {'image:loc': 'https://www.reuters.com/resizer/VzvZ66mV63aG4-U2klSkgoW_KfU=/cloudfront-us-east-2.images.arcpublishing.com/reuters/R6YMDFD52BK3FA6SIFRSZZ6V3I.jpg',\n",
       "     'image:caption': 'Vehicles are pictured at a toll post in Mumbai, India, August 13, 2019. REUTERS/Francis Mascarenhas/File Photo'}},\n",
       "   {'loc': 'https://www.reuters.com/world/middle-east/around-40000-syrians-return-turkey-after-quake-2023-02-28/',\n",
       "    'lastmod': '2023-02-28T08:26:59.604Z',\n",
       "    'image:image': {'image:loc': 'https://www.reuters.com/resizer/gNu4GnU_73ENmD3MFfvLYNvj-1E=/cloudfront-us-east-2.images.arcpublishing.com/reuters/VKEOIXMZ7RLGBAPR5KB4C2APXM.jpg',\n",
       "     'image:caption': 'A man walks by a collapsed building and rubble, in the aftermath of a deadly earthquake, in Antakya, Hatay province, Turkey, February 21, 2023. REUTERS/Clodagh Kilcoyne/File Photo/File Photo'}},\n",
       "   {'loc': 'https://www.reuters.com/breakingviews/airtel-would-be-complex-saviour-paytm-2023-02-28/',\n",
       "    'lastmod': '2023-02-28T08:26:31.086Z',\n",
       "    'image:image': {'image:loc': 'https://www.reuters.com/resizer/vn4cdh1Q2Km-1GurcGzOTC-E-8M=/cloudfront-us-east-2.images.arcpublishing.com/reuters/ZQ6A6IVBDJI2JBNAVFM3ZZQN3U.jpg',\n",
       "     'image:caption': \"Gopal Vittal, Bharti Airtel's chief executive for India and South Asia listens to a question during a news conference in New Delhi, India July 10, 2017. REUTERS/Adnan Abidi\"}},\n",
       "   {'loc': 'https://www.reuters.com/world/europe/russias-pulkovo-airport-st-petersburg-temporarily-suspends-all-flights-2023-02-28/',\n",
       "    'lastmod': '2023-02-28T10:43:44.680Z'},\n",
       "   {'loc': 'https://www.reuters.com/markets/europe/spains-inflation-resumes-upward-trend-rises-61-february-2023-02-28/',\n",
       "    'lastmod': '2023-02-28T08:21:12.067Z',\n",
       "    'image:image': {'image:loc': 'https://www.reuters.com/resizer/VMPZf17VoYC1J-Mstu6vtdIEfUM=/cloudfront-us-east-2.images.arcpublishing.com/reuters/UL4PFSDLOFMCXEGXAENIJWI4MQ.jpg',\n",
       "     'image:caption': 'A saleswoman shows a bag to customers in a shoe shop in Ronda, Spain, December 13, 2022. REUTERS/Jon Nazca'}},\n",
       "   {'loc': 'https://www.reuters.com/world/africa/partial-results-disputed-nigeria-election-show-tinubu-lead-2023-02-28/',\n",
       "    'lastmod': '2023-02-28T08:25:13.194Z',\n",
       "    'image:image': {'image:loc': 'https://www.reuters.com/resizer/91XNYZQCbdzHGE7U6XwuHUfrZ_o=/cloudfront-us-east-2.images.arcpublishing.com/reuters/HNSW262YFZIVJHSLUKNSHSQY2Y.jpg',\n",
       "     'image:caption': 'Presidential candidate Bola Ahmed Tinubu casts his ballot at a polling station, in Ikeja, Lagos, Nigeria February 25, 2023 REUTERS/Nengi Nelson.'}},\n",
       "   {'loc': 'https://www.reuters.com/markets/europe/edmond-de-rothschild-expands-presence-dubai-2023-02-28/',\n",
       "    'lastmod': '2023-02-28T09:10:58Z',\n",
       "    'image:image': {'image:loc': 'https://www.reuters.com/resizer/vCilmic8RowK2ww66nQPk4f0oRQ=/cloudfront-us-east-2.images.arcpublishing.com/reuters/ZSSEM4RRRJNQBOEXA5JVK6OVQI.jpg',\n",
       "     'image:caption': 'A logo is pictured on the Edmond de Rothschild bank in Geneva, Switzerland, June 21, 2020. REUTERS/Denis Balibouse'}},\n",
       "   {'loc': 'https://www.reuters.com/world/europe/russian-flights-are-turning-back-st-petersburg-flight-radar-website-2023-02-28/',\n",
       "    'lastmod': '2023-02-28T08:15:27.060Z'},\n",
       "   {'loc': 'https://www.reuters.com/world/uk/northern-irelands-dup-new-deal-does-give-stormont-ability-apply-brake-2023-02-28/',\n",
       "    'lastmod': '2023-02-28T08:12:59.104Z',\n",
       "    'image:image': {'image:loc': 'https://www.reuters.com/resizer/rqFWSFH9rD4H_5O6GKND0x-UwK8=/cloudfront-us-east-2.images.arcpublishing.com/reuters/L3FIQBQFB5MHZNQUQKHXQCPAKM.jpg',\n",
       "     'image:caption': \"A 'no entry' sign is seen near the Stormont Parliament Buildings in Belfast, Northern Ireland June 13, 2022. REUTERS/Clodagh Kilcoyne/File Photo\"}},\n",
       "   {'loc': 'https://www.reuters.com/markets/europe/swiss-economic-growth-flat-q4-exports-manufacturing-drop-2023-02-28/',\n",
       "    'lastmod': '2023-02-28T08:12:07.967Z',\n",
       "    'image:image': {'image:loc': 'https://www.reuters.com/resizer/8W7tGOrK9dBhZ6T1nSi3ZMNOQgY=/cloudfront-us-east-2.images.arcpublishing.com/reuters/2ILQAHWM7BMGZCTV3PZ3GKXTHI.jpg',\n",
       "     'image:caption': 'Shoppers walk along the street after the Swiss government relaxed some of its COVID-19 restrictions, as the spread of the coronavirus disease continues, at the Bahnhofstrasse shopping street in Zurich, Switzerland March 1, 2021. REUTERS/Arnd Wiegmann/File Photo'}},\n",
       "   {'loc': 'https://www.reuters.com/markets/asia/investors-consider-battle-plans-amid-risk-china-taiwan-conflict-2023-02-28/',\n",
       "    'lastmod': '2023-02-28T08:21:59.433Z',\n",
       "    'image:image': {'image:loc': 'https://www.reuters.com/resizer/CfB1qhVFFz51lafZhTm4y3HTt44=/cloudfront-us-east-2.images.arcpublishing.com/reuters/37Y5BZV7YBK4XNFFT76AZGRGKA.jpg',\n",
       "     'image:caption': 'Soldiers march past a sign of the Taiwan flag on Dongyin island of Matsu archipelago in Taiwan August 15, 2022. REUTERS/Ann Wang/File Photo'}},\n",
       "   {'loc': 'https://www.reuters.com/markets/asia/jpmorgan-proposes-new-asia-credit-index-with-lower-china-weighting-sources-2023-02-27/',\n",
       "    'lastmod': '2023-02-28T08:07:11.349Z',\n",
       "    'image:image': {'image:loc': 'https://www.reuters.com/resizer/3qRKcxnr-JwvrLzCokNFTwK2mrY=/cloudfront-us-east-2.images.arcpublishing.com/reuters/QQ42RCVWYJPHLPUC4CGPEIA7F4.jpg',\n",
       "     'image:caption': 'Flags of China and U.S. are displayed on a printed circuit board with semiconductor chips, in this illustration picture taken February 17, 2023. REUTERS/Florence Lo/Illustration/File Photo'}},\n",
       "   {'loc': 'https://www.reuters.com/business/aerospace-defense/norse-atlantic-adds-new-us-destinations-uks-gatwick-demand-surges-2023-02-28/',\n",
       "    'lastmod': '2023-02-28T08:05:39.950Z',\n",
       "    'image:image': {'image:loc': 'https://www.reuters.com/resizer/FnDJOm2UDTZJYJBN2cjdU9m8PRU=/cloudfront-us-east-2.images.arcpublishing.com/reuters/4CKAQHAK5JLIPF5ZOVHS5LJ4NM.jpg',\n",
       "     'image:caption': 'General view of Norse Atlantic Boeing 787 Dreamliner aircraft parked at Oslo (Gardermoen) Airport, Norway March 4, 2022. Picture taken March 4, 2022. REUTERS/Victoria Klesty'}},\n",
       "   {'loc': 'https://www.reuters.com/world/uk/uks-croda-annual-profit-beats-view-healthcare-consumer-care-units-shine-2023-02-28/',\n",
       "    'lastmod': '2023-02-28T10:41:44.794Z'},\n",
       "   {'loc': 'https://www.reuters.com/world/asia-pacific/japans-lower-house-parliament-passes-record-budget-2023-02-28/',\n",
       "    'lastmod': '2023-02-28T08:44:25.059Z',\n",
       "    'image:image': {'image:loc': 'https://www.reuters.com/resizer/V6BacMVwzvK4Y5v9788ebegSWHM=/cloudfront-us-east-2.images.arcpublishing.com/reuters/7NFSHQ2K6VKO3PHHPB76NJ3X3E.jpg',\n",
       "     'image:caption': 'A Japan Yen note is seen in this illustration photo taken June 1, 2017. REUTERS/Thomas White/Illustration'}},\n",
       "   {'loc': 'https://www.reuters.com/world/india/indian-court-orders-jail-two-maiden-executives-shoddy-drugs-2023-02-28/',\n",
       "    'lastmod': '2023-02-28T07:42:52.295Z',\n",
       "    'image:image': {'image:loc': 'https://www.reuters.com/resizer/Vsg4mnXT315YyduqhxfZVsVLyS8=/cloudfront-us-east-2.images.arcpublishing.com/reuters/KJKDLAAC4VIQZA4JEMJXFL7HMM.jpg',\n",
       "     'image:caption': 'Logo of the Maiden Pharmaceuticals Ltd. company is seen on a board outside their office in New Delhi, India, October 6, 2022. REUTERS/Anushree Fadnavis'}},\n",
       "   {'loc': 'https://www.reuters.com/world/uk/uk-home-prices-fall-unlikely-come-crashing-down-2023-02-28/',\n",
       "    'lastmod': '2023-02-28T08:40:31.894Z',\n",
       "    'image:image': {'image:loc': 'https://www.reuters.com/resizer/Kqrjn4YndWCYOgu4ANL2weaaVbQ=/cloudfront-us-east-2.images.arcpublishing.com/reuters/6NMCOF4WCJLP5ATZDUV6MJP4HY.jpg',\n",
       "     'image:caption': 'New residential homes are seen at a housing estate in Aylesbury, Britain, February 7, 2017.  REUTERS/Eddie Keogh/File Photo'}},\n",
       "   {'loc': 'https://www.reuters.com/business/healthcare-pharmaceuticals/grifols-2022-net-profit-up-10-208-mln-euros-plasma-collection-rises-2023-02-28/',\n",
       "    'lastmod': '2023-02-28T08:25:10.023Z',\n",
       "    'image:image': {'image:loc': 'https://www.reuters.com/resizer/qQUNsXpFcWQ1Stfxu6lX5DLhbd8=/cloudfront-us-east-2.images.arcpublishing.com/reuters/FHVUWKVLVVJJJBUTRFHVLTTV7U.jpg',\n",
       "     'image:caption': \"The logo of the Spanish pharmaceuticals company Grifols is pictured on their headquarters' building in Sant Cugat del Valles, near Barcelona, Spain, September 17, 2021. REUTERS/Albert Gea\"}},\n",
       "   {'loc': 'https://www.reuters.com/business/finance/indian-banks-unprepared-cenbanks-esg-push-survey-shows-sources-2023-02-28/',\n",
       "    'lastmod': '2023-02-28T07:40:57.361Z',\n",
       "    'image:image': {'image:loc': 'https://www.reuters.com/resizer/hoz_Ft05N1YUaEi2jEyIXqRsBVY=/cloudfront-us-east-2.images.arcpublishing.com/reuters/NQRJ5FKMNFMXTHKIOSDGFC4SMY.jpg',\n",
       "     'image:caption': 'A Reserve Bank of India (RBI) logo is seen at the gate of its office in New Delhi, India, November 9, 2018. REUTERS/Altaf Hussain/File Photo'}},\n",
       "   {'loc': 'https://www.reuters.com/lifestyle/sports/new-zealands-wagner-keeps-faith-turn-tables-england-2023-02-28/',\n",
       "    'lastmod': '2023-02-28T07:27:28.519Z',\n",
       "    'image:image': {'image:loc': 'https://www.reuters.com/resizer/-ZH2FdH0C0iBUXihbm92R2WJ4Qk=/cloudfront-us-east-2.images.arcpublishing.com/reuters/LJ2CPOCSE5P67MWRWPJSLRQJ6U.jpg',\n",
       "     'image:caption': \"Cricket - New Zealand v England - Second Test - Seddon Park, Hamilton, New Zealand - December 2, 2019   New Zealand's Neil Wagner reacts  REUTERS/Ross Setford\"}},\n",
       "   {'loc': 'https://www.reuters.com/business/retail-consumer/oven-pride-maker-mcbride-expects-h2-profit-steadying-cost-inflation-2023-02-28/',\n",
       "    'lastmod': '2023-02-28T08:31:10.260Z'},\n",
       "   {'loc': 'https://www.reuters.com/business/environment/norway-wind-farm-protesters-block-finance-ministry-2023-02-28/',\n",
       "    'lastmod': '2023-02-28T10:23:14.300Z'},\n",
       "   {'loc': 'https://www.reuters.com/markets/europe/man-group-fy-assets-under-management-fall-2022-2023-02-28/',\n",
       "    'lastmod': '2023-02-28T09:53:53.021Z',\n",
       "    'image:image': {'image:loc': 'https://www.reuters.com/resizer/RiIioamu37j8P2l9ZKUo9EWNiRc=/cloudfront-us-east-2.images.arcpublishing.com/reuters/34FWDO7SUVK2ZPP7OTQU5B6ZQM.jpg',\n",
       "     'image:caption': 'A man passes a sign for fund manager Man Group in London, November 6, 2008.  REUTERS/Luke MacGregor/File Photo'}},\n",
       "   {'loc': 'https://www.reuters.com/world/africa/south-african-rand-under-pressure-ahead-raft-economic-data-2023-02-28/',\n",
       "    'lastmod': '2023-02-28T07:22:34.718Z',\n",
       "    'image:image': {'image:loc': 'https://www.reuters.com/resizer/F0Exi-m6f2eYTsTQLPdEnfMiD6Q=/cloudfront-us-east-2.images.arcpublishing.com/reuters/64ZH7HNPQNPYPHJMSDJW55C7GA.jpg',\n",
       "     'image:caption': 'South African bank notes featuring images of former South African President Nelson Mandela (R) are displayed next to the American dollar notes in this photo illustration in Johannesburg, File. REUTERS/Siphiwe Sibeko'}},\n",
       "   {'loc': 'https://www.reuters.com/world/us/florida-gov-desantis-signs-bill-asserting-state-oversight-land-around-walt-2023-02-27/',\n",
       "    'lastmod': '2023-02-28T07:22:03.288Z',\n",
       "    'image:image': {'image:loc': 'https://www.reuters.com/resizer/2ujET3AvPawfpC7uR0-sOjykt6Y=/cloudfront-us-east-2.images.arcpublishing.com/reuters/SWNTVMYIWVLADOEOOPXI5VPF7A.jpg',\n",
       "     'image:caption': 'A Walt Disney World photographer holds a Pride rainbow-coloured Mickey Mouse cutout before the \"Festival of Fantasy\" parade at the Walt Disney World Magic Kingdom theme park in Orlando, Florida, U.S. July 30, 2022.  REUTERS/Octavio Jones'}},\n",
       "   {'loc': 'https://www.reuters.com/world/china/china-foreign-minister-qin-gang-attend-g20-foreign-ministers-meeting-2023-02-28/',\n",
       "    'lastmod': '2023-02-28T07:22:16.370Z',\n",
       "    'image:image': {'image:loc': 'https://www.reuters.com/resizer/qkIgxWZIPYcxRgPTNroeohabmcM=/cloudfront-us-east-2.images.arcpublishing.com/reuters/UU4ZQ4UYJJJ4DMWA3WPKFRJZ6I.jpg',\n",
       "     'image:caption': 'Chinese Foreign Minister Qin Gang attends the \"Lanting Forum\" to deliver a keynote speech in Beijing, China, February 21, 2023. REUTERS/Thomas Peter'}},\n",
       "   {'loc': 'https://www.reuters.com/markets/europe/ocados-annual-loss-swells-501-mln-stg-2023-02-28/',\n",
       "    'lastmod': '2023-02-28T10:33:38.199Z',\n",
       "    'image:image': {'image:loc': 'https://www.reuters.com/resizer/Arsxxa6QVYMyTWaVljjp371d4XU=/cloudfront-us-east-2.images.arcpublishing.com/reuters/TPEC2SGQTNPFBCBCIUC4YQ5KCI.jpg',\n",
       "     'image:caption': 'Delivery vans lined up prior to dispatch at the Ocado CFC (Customer Fulfilment Centre) in Andover, Britain May 1, 2018. REUTERS/Peter Nicholls/File Photo'}},\n",
       "   {'loc': 'https://www.reuters.com/business/retail-consumer/russias-magnit-opens-first-hard-discount-stores-2023-02-28/',\n",
       "    'lastmod': '2023-02-28T07:21:36.139Z',\n",
       "    'image:image': {'image:loc': 'https://www.reuters.com/resizer/Irgxg8iTPyb8YC5hNLdjb6B-h80=/cloudfront-us-east-2.images.arcpublishing.com/reuters/SXHMUTMSPZPXRLLGIS2QF4QBZU.jpg',\n",
       "     'image:caption': 'A man walks near a grocery store owned by Russian retailer Magnit outside Moscow, Russia February 27, 2018. REUTERS/Tatyana Makeyeva/File Photo'}},\n",
       "   {'loc': 'https://www.reuters.com/markets/europe/uks-workspace-names-industry-veteran-duncan-owen-next-chair-2023-02-28/',\n",
       "    'lastmod': '2023-02-28T07:19:20.109Z',\n",
       "    'image:image': {'image:loc': 'https://www.reuters.com/resizer/VRl8xAynbd27bgSyz6meEBIRESQ=/cloudfront-us-east-2.images.arcpublishing.com/reuters/BJ2Y6LJFJJMR3KQ6HK36YIINUQ.jpg',\n",
       "     'image:caption': 'People enter The Frames, an office building owned by Workspace Group Plc, following the outbreak of the coronavirus disease (COVID-19), London, Britain, June 5, 2020.   REUTERS/Simon Newman'}},\n",
       "   {'loc': 'https://www.reuters.com/business/finance/payments-firm-klarnas-operating-loss-shrinks-q4-2023-02-28/',\n",
       "    'lastmod': '2023-02-28T09:08:28.539Z',\n",
       "    'image:image': {'image:loc': 'https://www.reuters.com/resizer/VAKIlAasdKMOSbQDNw1YwndHCQg=/cloudfront-us-east-2.images.arcpublishing.com/reuters/77X56HXQJJOX5JCMWW5J3IBJFA.jpg',\n",
       "     'image:caption': 'A smartphone displays a Klarna logo in this illustration taken January 6, 2020. REUTERS/Dado Ruvic/Illustration'}},\n",
       "   {'loc': 'https://www.reuters.com/lifestyle/sports/atp-roundup-andrey-rublev-avoids-early-upset-dubai-2023-02-28/',\n",
       "    'lastmod': '2023-02-28T08:28:13.859Z',\n",
       "    'image:image': {'image:loc': 'https://www.reuters.com/resizer/zs6T7CmAvT0fpcagcO8seGSH7zI=/cloudfront-us-east-2.images.arcpublishing.com/reuters/RMDNKFUOBRMM5OXYEMOJHXO6KQ.jpg',\n",
       "     'image:caption': 'Tennis - Australian Open - Melbourne Park, Melbourne, Australia - January 25, 2023 Russia’s Andrey Rublev in action during his quarter final match against Serbia’s Novak Djokovic REUTERS/Jaimi Joy'}},\n",
       "   {'loc': 'https://www.reuters.com/business/autos-transportation/audi-will-not-cut-ev-prices-follow-teslas-lead-audi-europe-chief-2023-02-28/',\n",
       "    'lastmod': '2023-02-28T07:13:27.750Z',\n",
       "    'image:image': {'image:loc': 'https://www.reuters.com/resizer/3ck-rB2BWzRLINVI1mYRPBE4F2I=/cloudfront-us-east-2.images.arcpublishing.com/reuters/XKPE7AQGMVLO3PSI37MGYMG2OM.jpg',\n",
       "     'image:caption': 'The Audi logo is seen during the first press day of the Paris auto show, in Paris, France, October 2, 2018. REUTERS/Benoit Tessier'}},\n",
       "   {'loc': 'https://www.reuters.com/markets/europe/abrdn-swings-pretax-loss-markets-turmoil-weighs-2023-02-28/',\n",
       "    'lastmod': '2023-02-28T08:35:23.351Z',\n",
       "    'image:image': {'image:loc': 'https://www.reuters.com/resizer/RuuwsOfwropXQyGRsY1xRJCYNl4=/cloudfront-us-east-2.images.arcpublishing.com/reuters/K63GJYXFKZPB5NRGQRU3PXHXPE.jpg',\n",
       "     'image:caption': 'Businessman toy figure is placed on U.K. Pound coins in front of displayed Abrdn logo in this illustration taken, November 8, 2021. REUTERS/Dado Ruvic/Illustration'}}]}}"
      ]
     },
     "execution_count": 7,
     "metadata": {},
     "output_type": "execute_result"
    }
   ],
   "source": [
    "url = sitemap_urls[0]\n",
    "news_dict = xmltodict.parse(requests.get(url).text)\n",
    "news_dict"
   ]
  },
  {
   "cell_type": "markdown",
   "id": "f1fa5a41-2ff1-49d6-9144-4c4c5f865890",
   "metadata": {},
   "source": [
    "### dict 자료형의 news_dict를 활용해 뉴스의 URL값의 리스트"
   ]
  },
  {
   "cell_type": "code",
   "execution_count": 8,
   "id": "55f54b6e-22e8-4865-b224-48839ef84a1b",
   "metadata": {},
   "outputs": [],
   "source": [
    "news_urls = [news_urls['loc'] for news_urls in news_dict['urlset']['url']]"
   ]
  },
  {
   "cell_type": "code",
   "execution_count": 9,
   "id": "3ce52d02-fd5a-47d9-8d00-5d9cf662e710",
   "metadata": {},
   "outputs": [],
   "source": [
    "#url을 활용하여 데이터 다운로드하기\n",
    "#%%time\n",
    "\n",
    "session = requests.Session()\n",
    "\n",
    "for url in news_urls[5:8]:\n",
    "    file = url.split(\"/\")[-2] + '.html'\n",
    "    \n",
    "    response = session.get(url)\n",
    "    if response.ok:\n",
    "        with open(\"datas/\" +file, \"w+b\") as f:\n",
    "            f.write(response.text.encode('utf-8'))\n",
    "    else:\n",
    "        print(f\"error widh URL : {url}\")"
   ]
  },
  {
   "cell_type": "markdown",
   "id": "44333c88-158f-48c7-9e8b-9d1b12930925",
   "metadata": {},
   "source": [
    "## 파일 사용하기\n",
    "### 파일을 생성 / open() 함수 활용 / 파일에 문자열을 쓸 때는 write()메서드 활용 / argumaent로 작성할 내용 적기 / 닫기"
   ]
  },
  {
   "cell_type": "code",
   "execution_count": 10,
   "id": "c3110eef-dfdf-419f-9759-49f536d3200f",
   "metadata": {},
   "outputs": [],
   "source": [
    "#파일 객체를 준다  / 쓰기모드 w로 열기\n",
    "file = open('filename.txt','w')\n",
    "\n",
    "#파일 객체의 write메서드를 통해 문자열을 파일에 쓰기 가능\n",
    "file.write('파일에 작성할 문자열')\n",
    "\n",
    "#파일에 대한 처리가 끝나면 반드시 닫기\n",
    "file.close()"
   ]
  },
  {
   "cell_type": "code",
   "execution_count": 11,
   "id": "d96b3583-1d64-4329-b765-310f861ed834",
   "metadata": {},
   "outputs": [],
   "source": [
    "#close에 대한 처리 없이 간편히 쓰려면 with활용\n",
    "#아래 코드는 이전에 작성했던 것과 동일\n",
    "with open('filename.txt','w') as file :\n",
    "    file.write('파일에 작성할 문자열')"
   ]
  },
  {
   "cell_type": "code",
   "execution_count": 12,
   "id": "a4040f93-56c3-4841-b7bb-e0c3523bc70b",
   "metadata": {},
   "outputs": [
    {
     "name": "stdout",
     "output_type": "stream",
     "text": [
      "파일에 작성할 문자열\n"
     ]
    }
   ],
   "source": [
    "# w는 write (wt) / r은 read (rt) / t는 default \n",
    "with open('filename.txt','r') as file :\n",
    "    print(file.read())"
   ]
  },
  {
   "cell_type": "markdown",
   "id": "abaede28-ef75-41ec-9349-aab943818716",
   "metadata": {},
   "source": [
    "## 파일 이름 가져오기\n",
    "### 지정된 장소의 파일 목록을 가져온다"
   ]
  },
  {
   "cell_type": "code",
   "execution_count": 13,
   "id": "2fe8cbc1-a5f1-494d-9e13-38f66388cdd2",
   "metadata": {},
   "outputs": [
    {
     "data": {
      "text/plain": [
       "['./datas/.ipynb_checkpoints',\n",
       " './datas/abrdn-swings-pretax-loss-markets-turmoil-weighs-2023-02-28.html',\n",
       " './datas/api_test.ipynb',\n",
       " './datas/atp-roundup-andrey-rublev-avoids-early-upset-dubai-2023-02-28.html',\n",
       " './datas/audi-will-not-cut-ev-prices-follow-teslas-lead-audi-europe-chief-2023-02-28.html',\n",
       " './datas/chevron-update-production-targets-during-investor-day-2023-02-28.html',\n",
       " './datas/china-income-spending-per-capita-grow-over-2022-national-bureau-statistics-2023-02-28.html',\n",
       " './datas/filename.txt',\n",
       " './datas/filetest.txt',\n",
       " './datas/ftse-100-falls-open-ocado-sinks-bottom-2023-02-28.html',\n",
       " './datas/indian-security-forces-battle-kashmir-militants-after-killing-hindu-2023-02-28.html',\n",
       " './datas/migrant-shipwreck-death-toll-up-64-reuters-witnesses-2023-02-28.html',\n",
       " './datas/new-delhi-city-warns-uber-ola-use-bike-taxis-official-2023-02-28.html',\n",
       " './datas/payments-firm-klarnas-operating-loss-shrinks-q4-2023-02-28.html',\n",
       " './datas/russias-magnit-opens-first-hard-discount-stores-2023-02-28.html',\n",
       " './datas/spains-santander-raises-three-year-profitability-target-15-17-2023-02-28.html',\n",
       " './datas/sri-lankas-key-inflation-rate-eases-506-feb-2023-02-28.html',\n",
       " './datas/triangle-sadness-director-ostlund-named-cannes-film-festival-jury-president-2023-02-28.html',\n",
       " './datas/uks-workspace-names-industry-veteran-duncan-owen-next-chair-2023-02-28.html',\n",
       " './datas/women-vying-run-nato-revival-sacred-mori-tattoo-podcast-2023-02-27.html']"
      ]
     },
     "execution_count": 13,
     "metadata": {},
     "output_type": "execute_result"
    }
   ],
   "source": [
    "#os패키지의 listdir()메서드를 활용하면 arguments로 전달된 path안의 파일 목록을 가져온다.\n",
    "import os\n",
    "path = \"./datas/\"\n",
    "files = [path + file for file in os.listdir(path)]\n",
    "files"
   ]
  },
  {
   "cell_type": "markdown",
   "id": "419c71ac-036c-4ce5-b765-241971d04581",
   "metadata": {},
   "source": [
    "### HTML 파서를 사용한 데이터 추출\n",
    "### read()메서드를 통해 해당 파일을 읽어오고 그 내용을 html이라는 변수에 담는다."
   ]
  },
  {
   "cell_type": "code",
   "execution_count": 21,
   "id": "ee750ae7-2362-4063-af54-31927f320a64",
   "metadata": {},
   "outputs": [],
   "source": [
    "#HTML 파서를 사용한 데이터 추출\n",
    "with open(files[1],\"r\",encoding = 'utf-8') as f:   # 3번째 있는 HTML파일을 가져와\n",
    "    html = f.read()                                # r모드 (read)모드로 파일을 읽어와 내용을 html변수에 담음"
   ]
  },
  {
   "cell_type": "markdown",
   "id": "f297da57-de4b-46ac-bf4f-12b32ebc9fd2",
   "metadata": {
    "toc-hr-collapsed": true
   },
   "source": [
    "## BeautifulSoup\n",
    "### json - json\n",
    "### xml - xnltidict\n",
    "### html - beautifulsoup\n",
    "\n",
    "### Beautifulsoup는 HTML 파싱을 하는데 도움을 주는 모듈 \n",
    "### import Beautifulsoup를 통해 패키지 포함 \n",
    "### 파서의 종류 “html.parser”, “lxml”, “lxml-xml”, “xml”, “html5lib”"
   ]
  },
  {
   "cell_type": "code",
   "execution_count": 23,
   "id": "fb5c1d74-f44d-47b6-a713-9382176564cc",
   "metadata": {},
   "outputs": [
    {
     "name": "stdout",
     "output_type": "stream",
     "text": [
      "Abrdn falls to pretax loss as market turmoil weighs\n"
     ]
    }
   ],
   "source": [
    "from bs4 import BeautifulSoup\n",
    "soup = BeautifulSoup(html,'html.parser')\n",
    "title = soup.select_one(\"h1\")\n",
    "print(title.text)"
   ]
  },
  {
   "cell_type": "markdown",
   "id": "f0abd919-3d3e-4af1-a3ae-bfe30b679bd5",
   "metadata": {},
   "source": [
    "### 해당 태그명을 속성처럼 활용 가능\n",
    "#### soup.h1이라고 조회하면 \\<h1\\> 태크에 해당하는 객체를 가져온다\n",
    "#### soup.h1.text -> 태그 안에 있는 텍스트 값 가져온다"
   ]
  },
  {
   "cell_type": "code",
   "execution_count": 25,
   "id": "13c70a7f-e21a-49eb-b9da-3bf61c767ca9",
   "metadata": {},
   "outputs": [
    {
     "data": {
      "text/plain": [
       "'Abrdn falls to pretax loss as market turmoil weighs'"
      ]
     },
     "execution_count": 25,
     "metadata": {},
     "output_type": "execute_result"
    }
   ],
   "source": [
    "soup.h1.text"
   ]
  },
  {
   "cell_type": "code",
   "execution_count": 26,
   "id": "a75ff34a-ab23-4415-8a3d-4ab4c8e2fea7",
   "metadata": {},
   "outputs": [
    {
     "data": {
      "text/plain": [
       "'Abrdn falls to pretax loss as market turmoil weighs'"
      ]
     },
     "execution_count": 26,
     "metadata": {},
     "output_type": "execute_result"
    }
   ],
   "source": [
    "soup.select_one(\"#main-content > article > div.article__main__33WV2 > div.article__content__6hMn9 > header > div > div > h1\").text"
   ]
  },
  {
   "cell_type": "markdown",
   "id": "94bf2179-71f0-420a-9cc5-d420f98c72c0",
   "metadata": {},
   "source": [
    "## URL추출"
   ]
  },
  {
   "cell_type": "code",
   "execution_count": 27,
   "id": "58e5f92d-13b1-4355-a956-00f1d015080b",
   "metadata": {},
   "outputs": [
    {
     "data": {
      "text/plain": [
       "'https://www.reuters.com/markets/europe/abrdn-swings-pretax-loss-markets-turmoil-weighs-2023-02-28/'"
      ]
     },
     "execution_count": 27,
     "metadata": {},
     "output_type": "execute_result"
    }
   ],
   "source": [
    "#표준(standard) URL(=Canonical URL)\n",
    "soup.find(\"link\", {\"rel\":\"canonical\"})[\"href\"]"
   ]
  },
  {
   "cell_type": "code",
   "execution_count": null,
   "id": "44a4040c-4d6c-4580-b208-9cd3d0a1ba25",
   "metadata": {},
   "outputs": [],
   "source": []
  }
 ],
 "metadata": {
  "kernelspec": {
   "display_name": "Python 3 (ipykernel)",
   "language": "python",
   "name": "python3"
  },
  "language_info": {
   "codemirror_mode": {
    "name": "ipython",
    "version": 3
   },
   "file_extension": ".py",
   "mimetype": "text/x-python",
   "name": "python",
   "nbconvert_exporter": "python",
   "pygments_lexer": "ipython3",
   "version": "3.9.13"
  }
 },
 "nbformat": 4,
 "nbformat_minor": 5
}
