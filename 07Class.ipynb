{
 "cells": [
  {
   "cell_type": "code",
   "execution_count": 1,
   "id": "3a917818-5238-43df-b129-7c8e01011071",
   "metadata": {},
   "outputs": [
    {
     "name": "stdout",
     "output_type": "stream",
     "text": [
      "안녕하세요\n"
     ]
    }
   ],
   "source": [
    "class Persona:\n",
    "    def __init__(self):\n",
    "        self.hello = \"안녕하세요\"\n",
    "    \n",
    "    def greeting(self):\n",
    "        print(self.hello)\n",
    "\n",
    "james = Persona()\n",
    "james.greeting()"
   ]
  },
  {
   "cell_type": "code",
   "execution_count": 16,
   "id": "e09719e5-4a77-4531-b3f8-b8b13189674d",
   "metadata": {},
   "outputs": [],
   "source": [
    "class PersonExa:\n",
    "    def __init__(self,name,age):\n",
    "        self.name = name\n",
    "        self.age = age"
   ]
  },
  {
   "cell_type": "code",
   "execution_count": 5,
   "id": "d424162e-f520-447c-ad8c-b536e7a82c59",
   "metadata": {},
   "outputs": [],
   "source": [
    "p1 = Person(\"홍길동\",22)"
   ]
  },
  {
   "cell_type": "code",
   "execution_count": 6,
   "id": "04773655-ecfc-48fa-82f4-a24f9a00bc70",
   "metadata": {},
   "outputs": [
    {
     "name": "stdout",
     "output_type": "stream",
     "text": [
      "홍길동\n"
     ]
    }
   ],
   "source": [
    "print(p1.name)"
   ]
  },
  {
   "cell_type": "code",
   "execution_count": 7,
   "id": "3ba7ebc6-62e8-4401-89e3-69baa05720ed",
   "metadata": {},
   "outputs": [],
   "source": [
    "p2 = Person(name = \"김춘향\", age = 18)"
   ]
  },
  {
   "cell_type": "code",
   "execution_count": 9,
   "id": "540fe18f-c994-4adf-8f20-94ec474259f7",
   "metadata": {},
   "outputs": [
    {
     "name": "stdout",
     "output_type": "stream",
     "text": [
      "김춘향\n"
     ]
    }
   ],
   "source": [
    "print(p2.name)"
   ]
  },
  {
   "cell_type": "code",
   "execution_count": 15,
   "id": "26475448-15d3-4a49-802f-d201ce93258e",
   "metadata": {},
   "outputs": [
    {
     "name": "stdout",
     "output_type": "stream",
     "text": [
      "안녕하세요 제 이름은 마리아입니다.\n",
      "이름: 마리아\n",
      "이름: 20\n",
      "이름: 서울시 서초구 반포동\n"
     ]
    }
   ],
   "source": [
    "class PersonEx:\n",
    "    def __init__(self,name,age,address):\n",
    "        self.hello = \"안녕하세요\"\n",
    "        self.name = name\n",
    "        self.age = age\n",
    "        self.address = address\n",
    "    \n",
    "    def greeting(self):\n",
    "        print(f\"{self.hello} 제 이름은 {self.name}입니다.\")\n",
    "        \n",
    "maria = PersonEx(\"마리아\",20,\"서울시 서초구 반포동\")\n",
    "maria.greeting()\n",
    "\n",
    "print(\"이름:\",maria.name)\n",
    "print(\"이름:\",maria.age)\n",
    "print(\"이름:\",maria.address)"
   ]
  },
  {
   "cell_type": "code",
   "execution_count": null,
   "id": "263e8bf9-90d9-4dd3-8143-0445e5d1e155",
   "metadata": {},
   "outputs": [
    {
     "name": "stdin",
     "output_type": "stream",
     "text": [
      "이름은 무엇인가요? 마리아\n",
      "나이는 무엇인가요? 20\n",
      "주소는 무엇인가요? 서울시 강남구\n",
      "이름은 무엇인가요? 제임스\n",
      "나이는 무엇인가요? 21\n",
      "주소는 무엇인가요? 서울시 구로구\n"
     ]
    },
    {
     "name": "stdout",
     "output_type": "stream",
     "text": [
      "첫번째 이름: 마리아\n",
      "나이: 20\n",
      "주소: 서울시 강남구\n",
      "두번째 이름: 제임스\n",
      "나이: 21\n",
      "주소: 서울시 구로구\n"
     ]
    }
   ],
   "source": [
    "class Person:\n",
    "    def __init__(self,name,age,address):\n",
    "        self.name = name\n",
    "        self.age = age\n",
    "        self.address = address\n",
    "    \"\"\"def ExplainName(self):\n",
    "        print(self.name)\n",
    "    def ExplainAge(self):\n",
    "        print(self.age)\n",
    "    def ExplainAddress(self):\n",
    "        print(self.address)\"\"\"\n",
    "Per = []\n",
    "for i in range(2):\n",
    "    name = input(\"이름은 무엇인가요?\")\n",
    "    age = int(input(\"나이는 무엇인가요?\"))\n",
    "    address = input(\"주소는 무엇인가요?\")\n",
    "    Per.append(Person(name,age,address))  \n",
    "    \n",
    "for j in range(2):\n",
    "    if j == 0:\n",
    "        print(\"첫번째\",end=\" \")\n",
    "    else :\n",
    "        print(\"두번째\",end=\" \")\n",
    "    for z in range(3):\n",
    "        if z==0:\n",
    "            print(\"이름:\",Per[j].name)\n",
    "        elif z==1:\n",
    "            print(\"나이:\",Per[j].age)\n",
    "        else:\n",
    "            print(\"주소:\",Per[j].address)"
   ]
  },
  {
   "cell_type": "code",
   "execution_count": 32,
   "id": "43411eef-9d49-41f2-b27c-11a3fcbfe592",
   "metadata": {},
   "outputs": [
    {
     "name": "stdin",
     "output_type": "stream",
     "text": [
      "이름은 무엇인가요?: 마리아\n",
      "나이는 무엇인가요?: 20\n",
      "주소는 무엇인가요?: 서울시 강남구\n",
      "이름은 무엇인가요?: 제임스\n",
      "나이는 무엇인가요?: 21\n",
      "주소는 무엇인가요?: 서울시 구로구\n"
     ]
    },
    {
     "name": "stdout",
     "output_type": "stream",
     "text": [
      "첫번째 이름: 마리아\n",
      "첫번째 나이: 20\n",
      "첫번째 주소: 서울시 강남구\n",
      "두번째 이름: 제임스\n",
      "두번째 나이: 21\n",
      "두번째 주소: 서울시 구로구\n"
     ]
    }
   ],
   "source": [
    "class Person:\n",
    "    def __init__(self,name,age,address):\n",
    "        self.name = name\n",
    "        self.age = age\n",
    "        self.address = address\n",
    "\n",
    "Per = []\n",
    "for i in range(2):\n",
    "    name = input(\"이름은 무엇인가요?:\")\n",
    "    age = int(input(\"나이는 무엇인가요?:\"))\n",
    "    address = input(\"주소는 무엇인가요?:\")\n",
    "    Per.append(Person(name,age,address))  \n",
    "    \n",
    "for j in range(2):\n",
    "    for z in range(3):\n",
    "        if j == 0:\n",
    "            print(\"첫번째\",end=\" \")\n",
    "        else :\n",
    "            print(\"두번째\",end=\" \")\n",
    "        if z==0:\n",
    "            print(\"이름:\",Per[j].name)\n",
    "        elif z==1:\n",
    "            print(\"나이:\",Per[j].age)\n",
    "        else:\n",
    "            print(\"주소:\",Per[j].address)"
   ]
  },
  {
   "cell_type": "code",
   "execution_count": 33,
   "id": "a94c0adc-3771-4d33-be3c-746530521ce0",
   "metadata": {},
   "outputs": [],
   "source": [
    "class ClassExam:\n",
    "    def __init__(self):\n",
    "        self.__secret = \"비밀입니다.\""
   ]
  },
  {
   "cell_type": "code",
   "execution_count": 34,
   "id": "daaaa35a-c2df-4b3a-ade4-4e910234b0de",
   "metadata": {},
   "outputs": [
    {
     "ename": "AttributeError",
     "evalue": "'ClassExam' object has no attribute '__secret'",
     "output_type": "error",
     "traceback": [
      "\u001b[1;31m---------------------------------------------------------------------------\u001b[0m",
      "\u001b[1;31mAttributeError\u001b[0m                            Traceback (most recent call last)",
      "\u001b[1;32m~\\AppData\\Local\\Temp\\ipykernel_7156\\4181262321.py\u001b[0m in \u001b[0;36m<module>\u001b[1;34m\u001b[0m\n\u001b[0;32m      1\u001b[0m \u001b[0mc1\u001b[0m \u001b[1;33m=\u001b[0m \u001b[0mClassExam\u001b[0m\u001b[1;33m(\u001b[0m\u001b[1;33m)\u001b[0m\u001b[1;33m\u001b[0m\u001b[1;33m\u001b[0m\u001b[0m\n\u001b[1;32m----> 2\u001b[1;33m \u001b[0mprint\u001b[0m\u001b[1;33m(\u001b[0m\u001b[0mc1\u001b[0m\u001b[1;33m.\u001b[0m\u001b[0m__secret\u001b[0m\u001b[1;33m)\u001b[0m\u001b[1;33m\u001b[0m\u001b[1;33m\u001b[0m\u001b[0m\n\u001b[0m",
      "\u001b[1;31mAttributeError\u001b[0m: 'ClassExam' object has no attribute '__secret'"
     ]
    }
   ],
   "source": [
    "c1 = ClassExam()\n",
    "print(c1.__secret)"
   ]
  },
  {
   "cell_type": "code",
   "execution_count": 35,
   "id": "43545cea-1e31-49c0-8998-f144961ceff3",
   "metadata": {},
   "outputs": [
    {
     "name": "stdout",
     "output_type": "stream",
     "text": [
      "이제 7000원 남았네요.\n"
     ]
    }
   ],
   "source": [
    "class Person:\n",
    "    def __init__(self,name,age,address,wallet):\n",
    "        self.name = name\n",
    "        self.age = age\n",
    "        self.address = address\n",
    "        self.__wallet = wallet\n",
    "    def pay(self,amount):\n",
    "        if self.__wallet<amount:\n",
    "            print(\"돈이 모자랍니다.\")\n",
    "            return\n",
    "        self.__wallet -= amount\n",
    "        print(\"이제 {0}원 남았네요.\".format(self.__wallet))\n",
    "        \n",
    "maria = Person(\"마리아\",20,\"서울시 서초구 반포동\",10000)\n",
    "maria.pay(3000)"
   ]
  },
  {
   "cell_type": "code",
   "execution_count": 42,
   "id": "e065beb8-3a3c-4e08-a22a-b42efa322b61",
   "metadata": {},
   "outputs": [
    {
     "name": "stdin",
     "output_type": "stream",
     "text": [
      "체력, 마나, AP를 입력하세요. 1803.68 1184.0 645\n"
     ]
    },
    {
     "name": "stdout",
     "output_type": "stream",
     "text": [
      "티버: 피해량  819.25\n"
     ]
    }
   ],
   "source": [
    "class Annie:\n",
    "    def __init__(self,strength,mana,ap):\n",
    "        self.strength = strength\n",
    "        self.mana = mana\n",
    "        self.ap = ap\n",
    "    def tibbers(self):\n",
    "        print(\"티버: 피해량 \",self.ap * 0.65 + 400)\n",
    "        return \n",
    "\n",
    "val_strn,val_mana,val_ap = list(map(float,input(\"체력, 마나, AP를 입력하세요.\").split()))\n",
    "val = Annie(val_strn,val_mana,val_ap)\n",
    "val.tibbers()"
   ]
  },
  {
   "cell_type": "code",
   "execution_count": null,
   "id": "02daaa94-7e2c-4831-9f6f-913238c54457",
   "metadata": {},
   "outputs": [],
   "source": []
  }
 ],
 "metadata": {
  "kernelspec": {
   "display_name": "Python 3 (ipykernel)",
   "language": "python",
   "name": "python3"
  },
  "language_info": {
   "codemirror_mode": {
    "name": "ipython",
    "version": 3
   },
   "file_extension": ".py",
   "mimetype": "text/x-python",
   "name": "python",
   "nbconvert_exporter": "python",
   "pygments_lexer": "ipython3",
   "version": "3.9.13"
  }
 },
 "nbformat": 4,
 "nbformat_minor": 5
}
