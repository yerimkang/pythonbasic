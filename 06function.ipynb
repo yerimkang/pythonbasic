{
 "cells": [
  {
   "cell_type": "code",
   "execution_count": 1,
   "id": "aa587307-d50c-42c1-9803-2b6296722440",
   "metadata": {},
   "outputs": [],
   "source": [
    "def print_ten():\n",
    "    \"\"\"print(\"Hello\")를 열번 출력합니다.\"\"\"\n",
    "    for _ in range(10):\n",
    "        print(\"hello\")"
   ]
  },
  {
   "cell_type": "code",
   "execution_count": 2,
   "id": "99b27a52-d442-4838-91fc-2f43e8e0c4e9",
   "metadata": {},
   "outputs": [
    {
     "name": "stdout",
     "output_type": "stream",
     "text": [
      "hello\n",
      "hello\n",
      "hello\n",
      "hello\n",
      "hello\n",
      "hello\n",
      "hello\n",
      "hello\n",
      "hello\n",
      "hello\n"
     ]
    }
   ],
   "source": [
    "print_ten()"
   ]
  },
  {
   "cell_type": "code",
   "execution_count": 3,
   "id": "8ab423fd-7973-46f9-b793-5000a3e33bbb",
   "metadata": {},
   "outputs": [
    {
     "name": "stdout",
     "output_type": "stream",
     "text": [
      "print(\"Hello\")를 열번 출력합니다.\n"
     ]
    }
   ],
   "source": [
    "print(print_ten.__doc__)"
   ]
  },
  {
   "cell_type": "code",
   "execution_count": 4,
   "id": "b569ffdb-a9af-4611-a120-aaf5a411d4bd",
   "metadata": {},
   "outputs": [
    {
     "name": "stdout",
     "output_type": "stream",
     "text": [
      "print(value, ..., sep=' ', end='\\n', file=sys.stdout, flush=False)\n",
      "\n",
      "Prints the values to a stream, or to sys.stdout by default.\n",
      "Optional keyword arguments:\n",
      "file:  a file-like object (stream); defaults to the current sys.stdout.\n",
      "sep:   string inserted between values, default a space.\n",
      "end:   string appended after the last value, default a newline.\n",
      "flush: whether to forcibly flush the stream.\n"
     ]
    }
   ],
   "source": [
    "print(print.__doc__)"
   ]
  },
  {
   "cell_type": "code",
   "execution_count": 5,
   "id": "c439f38b-f944-45ec-97e5-d8f34e18352b",
   "metadata": {},
   "outputs": [],
   "source": [
    "def greeting(name,age):\n",
    "    print(f\"{name}씨 안녕하세요. 약 { age *365.25}일 되었습니다.\")"
   ]
  },
  {
   "cell_type": "code",
   "execution_count": 6,
   "id": "afa0e3de-4053-4869-b6c1-222c2a680628",
   "metadata": {},
   "outputs": [
    {
     "name": "stdout",
     "output_type": "stream",
     "text": [
      "파이썬씨 안녕하세요. 약 11688.0일 되었습니다.\n"
     ]
    }
   ],
   "source": [
    "greeting(\"파이썬\",32)"
   ]
  },
  {
   "cell_type": "code",
   "execution_count": 8,
   "id": "576631d9-032d-4260-884d-beb4c6704909",
   "metadata": {},
   "outputs": [
    {
     "name": "stdout",
     "output_type": "stream",
     "text": [
      "파이썬씨 안녕하세요. 약 11688.0일 되었습니다.\n"
     ]
    }
   ],
   "source": [
    "greeting(name = \"파이썬\", age = 32) #키워드 인수만으로 호출 순서 x"
   ]
  },
  {
   "cell_type": "code",
   "execution_count": 9,
   "id": "c1ece060-80ed-4f8f-9b9d-9c27bdcd10a9",
   "metadata": {},
   "outputs": [
    {
     "name": "stdout",
     "output_type": "stream",
     "text": [
      "파이썬씨 안녕하세요. 약 11688.0일 되었습니다.\n"
     ]
    }
   ],
   "source": [
    "greeting(\"파이썬\",age = 32) #위치 인수와 키워드 인수로 호출 순서 중요"
   ]
  },
  {
   "cell_type": "code",
   "execution_count": 10,
   "id": "266c26e1-4a8e-4ea4-a476-0afba8595575",
   "metadata": {},
   "outputs": [
    {
     "name": "stdout",
     "output_type": "stream",
     "text": [
      "파이썬씨 안녕하세요. 약 11688.0일 되었습니다.\n"
     ]
    }
   ],
   "source": [
    "greeting(age=32,name=\"파이썬\") #키워드 인수만으로 호출 순서 상관x"
   ]
  },
  {
   "cell_type": "code",
   "execution_count": 11,
   "id": "2584d9bc-5e41-4c72-aaa2-8bc1771fe5f8",
   "metadata": {},
   "outputs": [],
   "source": [
    "def posonly(posonly,/): #/를 인자로 위치시키면 그 왼편의 parameter는\n",
    "    print(posonly)      #positional-only parameter가 된다."
   ]
  },
  {
   "cell_type": "code",
   "execution_count": 12,
   "id": "307cf5e3-d8e1-43f9-bdd6-796bab8bb32e",
   "metadata": {},
   "outputs": [
    {
     "name": "stdout",
     "output_type": "stream",
     "text": [
      "값만 입력해야 합니다\n"
     ]
    }
   ],
   "source": [
    "posonly(\"값만 입력해야 합니다\")"
   ]
  },
  {
   "cell_type": "code",
   "execution_count": 13,
   "id": "7fbc76f0-08ad-420d-8ae3-9f8829f2c39e",
   "metadata": {},
   "outputs": [],
   "source": [
    "def keyonly(*,keyonly = \"default\"):\n",
    "    print(keyonly)"
   ]
  },
  {
   "cell_type": "code",
   "execution_count": 14,
   "id": "0caa8058-cb58-4e9d-ac31-620191f1d4f8",
   "metadata": {},
   "outputs": [
    {
     "name": "stdout",
     "output_type": "stream",
     "text": [
      "default\n"
     ]
    }
   ],
   "source": [
    "keyonly()"
   ]
  },
  {
   "cell_type": "code",
   "execution_count": 17,
   "id": "3bdd2f71-37d6-4363-b193-4d8a4dc9a35a",
   "metadata": {},
   "outputs": [],
   "source": [
    "def var_positional(*args):\n",
    "    print(type(args))\n",
    "    return sum([_ for _ in args])"
   ]
  },
  {
   "cell_type": "code",
   "execution_count": 18,
   "id": "76a75f5a-385f-4a56-b596-aef1dad4331a",
   "metadata": {},
   "outputs": [
    {
     "name": "stdout",
     "output_type": "stream",
     "text": [
      "<class 'tuple'>\n",
      "15\n"
     ]
    }
   ],
   "source": [
    "print(var_positional(1,2,3,4,5))"
   ]
  },
  {
   "cell_type": "code",
   "execution_count": 19,
   "id": "4a372a36-838c-4a11-9e8b-c47ccd04cfc6",
   "metadata": {},
   "outputs": [],
   "source": [
    "def var_keyword(**kargs):\n",
    "    print(type(kargs))\n",
    "    return kargs"
   ]
  },
  {
   "cell_type": "code",
   "execution_count": 22,
   "id": "c7382b14-86f9-4d90-90bd-3da19b33923a",
   "metadata": {},
   "outputs": [
    {
     "name": "stdout",
     "output_type": "stream",
     "text": [
      "<class 'dict'>\n",
      "{'key': 'value', 'key2': 'value2'}\n"
     ]
    }
   ],
   "source": [
    "print(var_keyword(key=\"value\", key2=\"value2\"))"
   ]
  },
  {
   "cell_type": "code",
   "execution_count": 24,
   "id": "c08d9f2c-aa23-4cef-9ee2-b5eeb8117c74",
   "metadata": {},
   "outputs": [
    {
     "name": "stdin",
     "output_type": "stream",
     "text": [
      "plus_ten: 70\n"
     ]
    },
    {
     "name": "stdout",
     "output_type": "stream",
     "text": [
      "반환값: 80\n"
     ]
    }
   ],
   "source": [
    "def plus_ten(num):\n",
    "    return num+10\n",
    "number = int(input(\"plus_ten:\"))\n",
    "print(\"반환값:\",plus_ten(number))"
   ]
  },
  {
   "cell_type": "code",
   "execution_count": 28,
   "id": "b1780a5b-92cb-45b0-b541-aacd5a8bb3ad",
   "metadata": {},
   "outputs": [
    {
     "name": "stdin",
     "output_type": "stream",
     "text": [
      "to_celsius: 70\n"
     ]
    },
    {
     "name": "stdout",
     "output_type": "stream",
     "text": [
      "반환값: 21.11111111111111\n"
     ]
    }
   ],
   "source": [
    "def to_celsius(fahrenheit):\n",
    "    \"\"\"화씨온도를 섭씨 온도로 변경하는 함수입니다.\"\"\"\n",
    "    return (fahrenheit-32)*5/9\n",
    "number = float(input(\"to_celsius:\"))\n",
    "print(\"반환값:\",to_celsius(number))"
   ]
  },
  {
   "cell_type": "code",
   "execution_count": 48,
   "id": "48189ca1-2164-4e30-8703-010421aceef1",
   "metadata": {},
   "outputs": [
    {
     "name": "stdout",
     "output_type": "stream",
     "text": [
      "number가 짝수면 \"짝수\", 홀수면 \"홀수\" 반환.\n",
      "짝수\n",
      "홀수\n",
      "None\n"
     ]
    }
   ],
   "source": [
    "def odd_even(number):\n",
    "    \"\"\"number가 짝수면 \"짝수\", 홀수면 \"홀수\" 반환.\"\"\"\n",
    "    if type(number) == int:\n",
    "        if int(number)%2==0:\n",
    "            return \"짝수\"\n",
    "        elif int(number)%2==1:\n",
    "            return \"홀수\"\n",
    "    else :\n",
    "        return None\n",
    "print(odd_even.__doc__)\n",
    "print(odd_even(10))\n",
    "print(odd_even(9))\n",
    "print(odd_even(\"가\"))"
   ]
  },
  {
   "cell_type": "code",
   "execution_count": 49,
   "id": "465e1b35-d38a-49e8-b867-449b1474e2b4",
   "metadata": {},
   "outputs": [
    {
     "name": "stdout",
     "output_type": "stream",
     "text": [
      "number가 짝수면 \"짝수\", 홀수면 \"홀수\" 반환.\n",
      "짝수\n",
      "홀수\n",
      "None\n"
     ]
    }
   ],
   "source": [
    "def odd_even(number):\n",
    "    \"\"\"number가 짝수면 \"짝수\", 홀수면 \"홀수\" 반환.\"\"\"\n",
    "    if type(number) is int and number > 0 :\n",
    "            return \"짝수\" *(number % 2 ==0) or \"홀수\"\n",
    "    else :\n",
    "        return None\n",
    "print(odd_even.__doc__)\n",
    "print(odd_even(10))\n",
    "print(odd_even(9))\n",
    "print(odd_even(\"가\"))"
   ]
  },
  {
   "cell_type": "code",
   "execution_count": 50,
   "id": "59ed61c3-1898-4de6-a512-6d7310e67891",
   "metadata": {},
   "outputs": [
    {
     "data": {
      "text/plain": [
       "str"
      ]
     },
     "execution_count": 50,
     "metadata": {},
     "output_type": "execute_result"
    }
   ],
   "source": [
    "type(number)"
   ]
  },
  {
   "cell_type": "code",
   "execution_count": 51,
   "id": "9289cab3-c4ee-4aac-8f6b-b0600c0b09d2",
   "metadata": {},
   "outputs": [
    {
     "data": {
      "text/plain": [
       "'10'"
      ]
     },
     "execution_count": 51,
     "metadata": {},
     "output_type": "execute_result"
    }
   ],
   "source": [
    "number"
   ]
  },
  {
   "cell_type": "code",
   "execution_count": 52,
   "id": "a9f14f93-a731-4e80-9cf2-5916e75db733",
   "metadata": {},
   "outputs": [
    {
     "data": {
      "text/plain": [
       "True"
      ]
     },
     "execution_count": 52,
     "metadata": {},
     "output_type": "execute_result"
    }
   ],
   "source": [
    "number.isdecimal() #10진 표기법"
   ]
  },
  {
   "cell_type": "code",
   "execution_count": 56,
   "id": "24dd003e-ad29-4f4b-bdf2-088502ae7084",
   "metadata": {},
   "outputs": [
    {
     "name": "stdout",
     "output_type": "stream",
     "text": [
      "10\n"
     ]
    }
   ],
   "source": [
    "def to_int(number):\n",
    "    if number.isdecimal():\n",
    "        return int(number)\n",
    "    else:\n",
    "        return\n",
    "print(to_int(number))"
   ]
  },
  {
   "cell_type": "code",
   "execution_count": 66,
   "id": "bd878da7-7391-44c4-a972-22e7975152cd",
   "metadata": {},
   "outputs": [
    {
     "name": "stdin",
     "output_type": "stream",
     "text": [
      "check_leap_year: 2000\n"
     ]
    },
    {
     "name": "stdout",
     "output_type": "stream",
     "text": [
      "\" 윤년 \"\n"
     ]
    }
   ],
   "source": [
    "def check_leap_year(year):\n",
    "    if year%4!=0 or year%100==0 and year%400!=0 :\n",
    "        return \"평년\"\n",
    "    return \"윤년\"\n",
    "number = int(input(\"check_leap_year:\"))\n",
    "print(\"\\\"\",check_leap_year(number),\"\\\"\")"
   ]
  },
  {
   "cell_type": "code",
   "execution_count": null,
   "id": "86c0fd78-f0ad-4136-8ae4-cb5ea18a56e1",
   "metadata": {},
   "outputs": [
    {
     "name": "stdin",
     "output_type": "stream",
     "text": [
      "check_leap_year: 2020\n"
     ]
    },
    {
     "name": "stdout",
     "output_type": "stream",
     "text": [
      "\" 윤년 \"\n"
     ]
    },
    {
     "name": "stdin",
     "output_type": "stream",
     "text": [
      "days: 2\n"
     ]
    },
    {
     "name": "stdout",
     "output_type": "stream",
     "text": [
      "평년이 아닙니다\n"
     ]
    }
   ],
   "source": [
    "def check_leap_year(year):\n",
    "    if year%4!=0 or year%100==0 and year%400!=0 :\n",
    "        return \"평년\"\n",
    "    return \"윤년\"\n",
    "number = int(input(\"check_leap_year:\"))\n",
    "print(\"\\\"\",check_leap_year(number),\"\\\"\")\n",
    "def days(num):\n",
    "    if num in (1,3,5,7,8,10,12):\n",
    "        return 31\n",
    "    elif num in (4,6,9,11):\n",
    "        return 30\n",
    "    elif num in 2 :\n",
    "        return 28\n",
    "    else:\n",
    "        return \n",
    "day = int(input(\"days:\"))\n",
    "if check_leap_year(number)==\"평년\":\n",
    "    print(days(day))\n",
    "else:\n",
    "    print(\"평년이 아닙니다\")"
   ]
  },
  {
   "cell_type": "code",
   "execution_count": 83,
   "id": "77856be8-7f7e-4369-bb19-774552c960b7",
   "metadata": {},
   "outputs": [
    {
     "name": "stdin",
     "output_type": "stream",
     "text": [
      "year: 2000\n",
      "days: 2\n"
     ]
    },
    {
     "name": "stdout",
     "output_type": "stream",
     "text": [
      "2 월의 날짜수: 29\n"
     ]
    }
   ],
   "source": [
    "def days(year,day):\n",
    "    if day in (1,3,5,7,8,10,12):\n",
    "        day_num = 31\n",
    "    elif day in (4,6,9,11):\n",
    "        day_num = 30\n",
    "    if year%4!=0 or year%100==0 and year%400!=0 :\n",
    "        if day in 2 :\n",
    "            day_num = 28\n",
    "        #year_re = \"평년\"\n",
    "    else:\n",
    "        if day == 2 :\n",
    "            day_num = 29\n",
    "        #year_re =  \"윤년\"\n",
    "    return day_num\n",
    "\n",
    "number = int(input(\"year:\"))\n",
    "day_input = int(input(\"days:\"))\n",
    "day_result = days(number,day_input)\n",
    "print(day_input,\"월의 날짜수:\",day_result)"
   ]
  },
  {
   "cell_type": "code",
   "execution_count": 85,
   "id": "e370c112-b6aa-4028-b272-2fd10c54a5d4",
   "metadata": {},
   "outputs": [
    {
     "data": {
      "text/plain": [
       "11"
      ]
     },
     "execution_count": 85,
     "metadata": {},
     "output_type": "execute_result"
    }
   ],
   "source": [
    " (lambda x:x+1)(10)"
   ]
  },
  {
   "cell_type": "code",
   "execution_count": 87,
   "id": "f42647f8-4de7-45c1-974d-9e1cabacc771",
   "metadata": {},
   "outputs": [
    {
     "name": "stdout",
     "output_type": "stream",
     "text": [
      "20\n"
     ]
    }
   ],
   "source": [
    "twice = lambda x : x*2\n",
    "print(twice(10))"
   ]
  },
  {
   "cell_type": "code",
   "execution_count": 90,
   "id": "61b18d0a-53fa-40fd-9564-ba0886e858d1",
   "metadata": {},
   "outputs": [
    {
     "ename": "SyntaxError",
     "evalue": "invalid syntax (724121113.py, line 1)",
     "output_type": "error",
     "traceback": [
      "\u001b[1;36m  File \u001b[1;32m\"C:\\Users\\user\\AppData\\Local\\Temp\\ipykernel_5768\\724121113.py\"\u001b[1;36m, line \u001b[1;32m1\u001b[0m\n\u001b[1;33m    ((lambda x: y=1 0; x+y)(1)) #콜론 오른편에 변수를 선언할 수 없다.\u001b[0m\n\u001b[1;37m                 ^\u001b[0m\n\u001b[1;31mSyntaxError\u001b[0m\u001b[1;31m:\u001b[0m invalid syntax\n"
     ]
    }
   ],
   "source": [
    "((lambda x: y=1 0; x+y)(1)) #콜론 오른편에 변수를 선언할 수 없다."
   ]
  },
  {
   "cell_type": "code",
   "execution_count": 92,
   "id": "b037fb95-db36-4115-87a9-7b0260f30240",
   "metadata": {},
   "outputs": [
    {
     "name": "stdout",
     "output_type": "stream",
     "text": [
      "[2, 8, 18, 32, 50]\n"
     ]
    }
   ],
   "source": [
    "a=[_ for _ in range(1,6)] #[1,2,3,4,5]\n",
    "b=[_ for _ in range(2,11,2)] #[2,4,6,8,10]\n",
    "print(list(map(lambda x,y : x*y,a,b))) #두개의 값을 곱하기"
   ]
  },
  {
   "cell_type": "code",
   "execution_count": 93,
   "id": "1572f22c-b91c-4981-9cd6-c393dedd2b6d",
   "metadata": {},
   "outputs": [
    {
     "data": {
      "text/plain": [
       "[3, 9, 9]"
      ]
     },
     "execution_count": 93,
     "metadata": {},
     "output_type": "execute_result"
    }
   ],
   "source": [
    "a= [3,2,8,22,10,7,0,11,9,9]\n",
    "list(filter(lambda x: x%3==0 and 0<x<10,a))"
   ]
  },
  {
   "cell_type": "code",
   "execution_count": 95,
   "id": "2b65ff1e-eb38-4038-82a3-4c4fe7ea546f",
   "metadata": {},
   "outputs": [],
   "source": [
    "#student\n",
    "#name, age, address\n",
    "\n",
    "name = '강예림'\n",
    "age = 26\n",
    "address = \"양주\"\n",
    "student = [name , age, address]"
   ]
  },
  {
   "cell_type": "code",
   "execution_count": 19,
   "id": "e4cddc1b-d144-403d-967d-69de86ce10fd",
   "metadata": {},
   "outputs": [],
   "source": [
    "import pymysql"
   ]
  },
  {
   "cell_type": "code",
   "execution_count": 25,
   "id": "db3af4c0-42fd-4fa8-8eb2-11df412dc59c",
   "metadata": {},
   "outputs": [],
   "source": [
    "import pymysql.cursors\n",
    "\n",
    "# database 접속할 객체를 만듭니다.\n",
    "connection = pymysql.connect(host='localhost',\n",
    "                             user='root',\n",
    "                             password='python1234',\n",
    "                             database='python',\n",
    "                             cursorclass=pymysql.cursors.DictCursor)"
   ]
  },
  {
   "cell_type": "code",
   "execution_count": 23,
   "id": "1787aafe-5e90-4689-b126-b2a7e4cee3d7",
   "metadata": {},
   "outputs": [],
   "source": [
    "with connection:\n",
    "    with connection.cursor() as cursor:\n",
    "        # 새로운 값을 삽입합니다.\n",
    "        sql = \"INSERT INTO `users` (`email`, `password`) VALUES (%s, %s)\"\n",
    "        cursor.execute(sql, ('webmaster@python.org', 'very-secret'))\n",
    "\n",
    "    connection.commit()"
   ]
  },
  {
   "cell_type": "code",
   "execution_count": 26,
   "id": "5859ae9a-4c8c-420b-81c0-dbe8491c7a28",
   "metadata": {},
   "outputs": [
    {
     "name": "stdout",
     "output_type": "stream",
     "text": [
      "{'id': 1, 'password': 'very-secret'}\n"
     ]
    }
   ],
   "source": [
    "with connection:\n",
    "    with connection.cursor() as cursor:\n",
    "        # 데이터를 불러옵니다.\n",
    "        sql = \"SELECT `id`, `password` FROM `users` WHERE `email`=%s\"\n",
    "        cursor.execute(sql, ('webmaster@python.org',))\n",
    "        result = cursor.fetchone()\n",
    "        print(result)"
   ]
  },
  {
   "cell_type": "code",
   "execution_count": null,
   "id": "28e96ec5-9b68-4cd2-92d0-f6e37a38e536",
   "metadata": {},
   "outputs": [],
   "source": []
  }
 ],
 "metadata": {
  "kernelspec": {
   "display_name": "Python 3 (ipykernel)",
   "language": "python",
   "name": "python3"
  },
  "language_info": {
   "codemirror_mode": {
    "name": "ipython",
    "version": 3
   },
   "file_extension": ".py",
   "mimetype": "text/x-python",
   "name": "python",
   "nbconvert_exporter": "python",
   "pygments_lexer": "ipython3",
   "version": "3.9.13"
  }
 },
 "nbformat": 4,
 "nbformat_minor": 5
}
