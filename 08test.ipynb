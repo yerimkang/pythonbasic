{
 "cells": [
  {
   "cell_type": "code",
   "execution_count": 1,
   "id": "53c17e15-807a-4d1e-b39c-edbd71a4fbe4",
   "metadata": {},
   "outputs": [],
   "source": [
    "x = \"Don't want no riddle\""
   ]
  },
  {
   "cell_type": "code",
   "execution_count": 4,
   "id": "9ee3f377-26ea-45f7-8e16-3010865500b0",
   "metadata": {},
   "outputs": [],
   "source": [
    "d = False"
   ]
  },
  {
   "cell_type": "code",
   "execution_count": 5,
   "id": "2c89670a-7cb9-46d9-b0f7-2a125265fc99",
   "metadata": {},
   "outputs": [
    {
     "name": "stdout",
     "output_type": "stream",
     "text": [
      "False\n"
     ]
    }
   ],
   "source": [
    "print(d)"
   ]
  },
  {
   "cell_type": "code",
   "execution_count": 6,
   "id": "103b00ea-ff0e-4657-af07-53aadc7eac64",
   "metadata": {},
   "outputs": [],
   "source": [
    "letters = 'abcdefghijklmnopqrstuvwxyz'"
   ]
  },
  {
   "cell_type": "code",
   "execution_count": 8,
   "id": "f4c2de5d-9189-4448-99d5-5f50d1c2a454",
   "metadata": {},
   "outputs": [
    {
     "name": "stdout",
     "output_type": "stream",
     "text": [
      "zxvtrpnlj\n"
     ]
    }
   ],
   "source": [
    "print(letters[:8:-2])"
   ]
  },
  {
   "cell_type": "code",
   "execution_count": 10,
   "id": "c8fd4585-1e9a-415f-8120-7a3d38c52389",
   "metadata": {},
   "outputs": [
    {
     "name": "stdout",
     "output_type": "stream",
     "text": [
      "0으로 나눌 수 없습니다.\n"
     ]
    }
   ],
   "source": [
    "try:\n",
    "    #나눗셈 연산 시 0으로 나누면 에러 발생\n",
    "    result = 128/0\n",
    "    print(f'연산의 결과는 {result}입니다.')\n",
    "except :\n",
    "    print('0으로 나눌 수 없습니다.')"
   ]
  },
  {
   "cell_type": "code",
   "execution_count": 15,
   "id": "66cc5030-98a2-4518-aaa7-0864a33695a1",
   "metadata": {},
   "outputs": [
    {
     "name": "stdin",
     "output_type": "stream",
     "text": [
      "숫자 두개를 입력하세요. 30 40\n"
     ]
    },
    {
     "name": "stdout",
     "output_type": "stream",
     "text": [
      "Wall time: 2.93 s\n"
     ]
    }
   ],
   "source": [
    "%%time\n",
    "try:\n",
    "    x, y = input('숫자 두개를 입력하세요.').split()\n",
    "except:\n",
    "    print(\"값을 잘못 입력하셨습니다.\")"
   ]
  },
  {
   "cell_type": "code",
   "execution_count": 16,
   "id": "82960a93-3f11-4268-9b0e-208d17037505",
   "metadata": {},
   "outputs": [
    {
     "name": "stdout",
     "output_type": "stream",
     "text": [
      "0으로 나눌 수 없습니다.\n",
      "division by zero\n"
     ]
    }
   ],
   "source": [
    "x = range(4)\n",
    "\n",
    "try:\n",
    "    for i in range(4):\n",
    "        y=10/x[i]\n",
    "except ZeroDivisionError as e:\n",
    "    print('0으로 나눌 수 없습니다.')\n",
    "    print(e)\n",
    "except IndexError as e:\n",
    "    print('인덱스 에러 발생')\n",
    "    print(e)\n",
    "    "
   ]
  },
  {
   "cell_type": "code",
   "execution_count": 18,
   "id": "bd93ccf5-3edf-407c-b5c4-af5ee1b7c7f2",
   "metadata": {},
   "outputs": [
    {
     "name": "stdout",
     "output_type": "stream",
     "text": [
      "에러 없이 실행되었습니다.\n"
     ]
    }
   ],
   "source": [
    "x = range(1,5)\n",
    "\n",
    "try:\n",
    "    for i in range(4):\n",
    "        y=10/x[i]\n",
    "except ZeroDivisionError as e:\n",
    "    print('0으로 나눌 수 없습니다.')\n",
    "    print(e)\n",
    "except IndexError as e:\n",
    "    print('인덱스 에러 발생')\n",
    "    print(e)\n",
    "else:\n",
    "    print(\"에러 없이 실행되었습니다.\")"
   ]
  },
  {
   "cell_type": "code",
   "execution_count": 24,
   "id": "87189d90-d7db-4db5-87da-8d3dbad1cd95",
   "metadata": {},
   "outputs": [
    {
     "name": "stdin",
     "output_type": "stream",
     "text": [
      "숫자 두개를 입력하세요. 10 0\n"
     ]
    },
    {
     "name": "stdout",
     "output_type": "stream",
     "text": [
      "0으로 나눌 수 없습니다.\n"
     ]
    }
   ],
   "source": [
    "\n",
    "try:\n",
    "    val = list(map(int,input('숫자 두개를 입력하세요.').split()))\n",
    "    x = val[0]\n",
    "    y = val[1]\n",
    "    result = x/y\n",
    "except ValueError :\n",
    "    print(\"값을 잘못 입력하셨습니다.\")\n",
    "except ZeroDivisionError:\n",
    "    print('0으로 나눌 수 없습니다.')\n",
    "else:\n",
    "    print(result)"
   ]
  },
  {
   "cell_type": "code",
   "execution_count": 25,
   "id": "1fdb060b-fed1-40a8-8314-6714f24dd897",
   "metadata": {},
   "outputs": [],
   "source": [
    "#예외처리 finally"
   ]
  },
  {
   "cell_type": "code",
   "execution_count": 28,
   "id": "c25504c9-3952-4550-9386-3b0edabfd2b2",
   "metadata": {},
   "outputs": [
    {
     "name": "stdin",
     "output_type": "stream",
     "text": [
      "숫자 두개를 입력하세요. 10 0\n"
     ]
    },
    {
     "name": "stdout",
     "output_type": "stream",
     "text": [
      "0으로 나눌 수 없습니다.\n",
      "프로그램을 종료합니다.\n"
     ]
    }
   ],
   "source": [
    "\n",
    "try:\n",
    "    val = list(map(int,input('숫자 두개를 입력하세요.').split()))\n",
    "    x = val[0]\n",
    "    y = val[1]\n",
    "    result = x/y\n",
    "except ValueError :\n",
    "    print(\"값을 잘못 입력하셨습니다.\")\n",
    "except ZeroDivisionError:\n",
    "    print('0으로 나눌 수 없습니다.')\n",
    "else:\n",
    "    print(result)\n",
    "finally:\n",
    "    print(\"프로그램을 종료합니다.\")"
   ]
  },
  {
   "cell_type": "code",
   "execution_count": 30,
   "id": "ccfddea1-e293-4003-94f0-7b679a7f3225",
   "metadata": {},
   "outputs": [
    {
     "name": "stdout",
     "output_type": "stream",
     "text": [
      "200\n"
     ]
    }
   ],
   "source": [
    "#요청시 parameter활용하기\n",
    "import requests\n",
    "\n",
    "response = requests.get('https://api.github.com/repositories',\n",
    "                        headers = {'Accept':'application/vnd.github.v3+jsob'})\n",
    "print(response.status_code)"
   ]
  },
  {
   "cell_type": "code",
   "execution_count": 33,
   "id": "f77cca01-66bf-4657-befe-a7a7d05143f8",
   "metadata": {},
   "outputs": [
    {
     "name": "stdout",
     "output_type": "stream",
     "text": [
      "인코딩 : utf-8\n",
      "콘텐츠 타입 : application/json; charset=utf-8\n",
      "서버 : GitHub.com\n"
     ]
    }
   ],
   "source": [
    "#response에 대한 요소 확인\n",
    "print(f\"인코딩 : {response.encoding}\")\n",
    "print(f\"콘텐츠 타입 : {response.headers['Content-Type']}\")\n",
    "print(f\"서버 : {response.headers['server']}\")"
   ]
  },
  {
   "cell_type": "code",
   "execution_count": 40,
   "id": "5caae96c-3fb1-41d1-bf98-fff138c1fcc3",
   "metadata": {},
   "outputs": [
    {
     "name": "stdout",
     "output_type": "stream",
     "text": [
      "{\n",
      "  \"id\": 1,\n",
      "  \"node_id\": \"MDEwOlJlcG9zaXRvcnkx\",\n",
      "  \"name\": \"grit\",\n",
      "  \"full_name\": \"mojombo/grit\",\n",
      "  \"private\": false,\n",
      "  \"owner\": {\n",
      "    \"login\": \"mojombo\",\n",
      "    \"id\": 1,\n",
      "    \"node_id\": \"MDQ6VXNlcjE=\",\n",
      "\n"
     ]
    }
   ],
   "source": [
    "import json\n",
    "print(json.dumps(response.json()[0],indent=2)[:200])"
   ]
  },
  {
   "cell_type": "code",
   "execution_count": 36,
   "id": "080771e9-5a45-42dc-936f-381f76eef77c",
   "metadata": {},
   "outputs": [
    {
     "name": "stdout",
     "output_type": "stream",
     "text": [
      "{\n",
      "  \"id\": 26,\n",
      "  \"node_id\": \"MDEwOlJlcG9zaXRvcnkyNg==\",\n",
      "  \"name\": \"merb-core\",\n",
      "  \"full_name\": \"wycats/merb-core\",\n",
      "  \"private\": false,\n",
      "  \"owner\": {\n",
      "    \"login\": \"wycats\",\n",
      "    \"id\": 4,\n",
      "    \"node_id\": \"MD\n"
     ]
    }
   ],
   "source": [
    "print(json.dumps(response.json()[1],indent=2)[:200])"
   ]
  },
  {
   "cell_type": "code",
   "execution_count": null,
   "id": "d25b64e0-369b-4bc6-8d76-cb14c76c92e4",
   "metadata": {},
   "outputs": [
    {
     "name": "stdout",
     "output_type": "stream",
     "text": [
      "422\n"
     ]
    }
   ],
   "source": [
    "#public repositories\n",
    "#요청시 parameter활용하기\n",
    "\n",
    "response = requests.get('https://api.github.com/search/repositories')\n",
    "print(response.status_code)"
   ]
  },
  {
   "cell_type": "code",
   "execution_count": 48,
   "id": "05c3994e-8c74-4028-97f9-57d7b457fddd",
   "metadata": {},
   "outputs": [
    {
     "name": "stdout",
     "output_type": "stream",
     "text": [
      "200\n"
     ]
    }
   ],
   "source": [
    "#get메서드에 Duc규격대로 params를 추가 - 데이터 가져오기 ㄱㄴ\n",
    "#통신 parameters는 API마다 다르다. 해당 문서를 읽고 그에 맞게 요청\n",
    "response = requests.get('https://api.github.com/search/repositories',\n",
    "                        params = {'q':'data_science+language:python'},\n",
    "                        headers = {'Accept':'application/vnd.github.v3.text-match+json'})\n",
    "print(response.status_code)\n",
    "\n",
    "#response.headers"
   ]
  },
  {
   "cell_type": "code",
   "execution_count": 49,
   "id": "bf62204b-2510-4c3f-ae17-a57b3699998a",
   "metadata": {},
   "outputs": [],
   "source": [
    "import json\n",
    "response.json()"
   ]
  },
  {
   "cell_type": "code",
   "execution_count": 50,
   "id": "c0187c51-268f-4fcf-92a4-85278c7877ea",
   "metadata": {},
   "outputs": [
    {
     "data": {
      "text/plain": [
       "dict_keys(['total_count', 'incomplete_results', 'items'])"
      ]
     },
     "execution_count": 50,
     "metadata": {},
     "output_type": "execute_result"
    }
   ],
   "source": [
    "#연습문제\n",
    "\n",
    "#response를 dict로 변경 / 그 안의 key조회\n",
    "\n",
    "response.json().keys()"
   ]
  },
  {
   "cell_type": "code",
   "execution_count": 51,
   "id": "0d079b0f-2bf4-4f58-843e-80c2b4b416c5",
   "metadata": {},
   "outputs": [
    {
     "data": {
      "text/plain": [
       "30"
      ]
     },
     "execution_count": 51,
     "metadata": {},
     "output_type": "execute_result"
    }
   ],
   "source": [
    "#item의 갯수 확인\n",
    "len(response.json()['items'])"
   ]
  },
  {
   "cell_type": "code",
   "execution_count": 52,
   "id": "aebd110a-d800-4302-90a6-8ec35f49382f",
   "metadata": {},
   "outputs": [
    {
     "data": {
      "text/plain": [
       "[{'object_url': 'https://api.github.com/repositories/26382146',\n",
       "  'object_type': 'Repository',\n",
       "  'property': 'description',\n",
       "  'fragment': 'code for Data Science From Scratch book',\n",
       "  'matches': [{'text': 'Data Science', 'indices': [9, 21]}]},\n",
       " {'object_url': 'https://api.github.com/repositories/26382146',\n",
       "  'object_type': 'Repository',\n",
       "  'property': 'name',\n",
       "  'fragment': 'data-science-from-scratch',\n",
       "  'matches': [{'text': 'data', 'indices': [0, 4]}]}]"
      ]
     },
     "execution_count": 52,
     "metadata": {},
     "output_type": "execute_result"
    }
   ],
   "source": [
    "#items의 속성중 어떤 부분의 텍스트 매치결과 -> text_matches\n",
    "#아이템 마다 -> property , fragment , matches 값 조회\n",
    "response.json()['items'][0]['text_matches']"
   ]
  },
  {
   "cell_type": "code",
   "execution_count": 54,
   "id": "1f964c72-ce81-46c5-bbc2-bbec1531d7b3",
   "metadata": {
    "scrolled": true,
    "tags": []
   },
   "outputs": [
    {
     "name": "stdout",
     "output_type": "stream",
     "text": [
      "data-science-from-scratch:repositorydescription-/\"code for Data Science From Scratch book/\" matched withData Science\n",
      "PySyft:repositorydescription-/\"data science on data without acquiring a copy/\" matched withdata science\n",
      "data-science-blogs:repositorydescription-/\"A curated list of data science blogs/\" matched withdata science\n",
      "galaxy:repositorydescription-/\"Data intensive science for everyone./\" matched withData\n",
      "DataCamp:repositorydescription-/\"DataCamp data-science courses/\" matched withdata\n",
      "data-scientist-roadmap:repositorydescription-/\"Toturials coming with the \"data science roadmap\" picture./\" matched withdata science\n",
      "dsp:repositorydescription-/\"data science preparation/\" matched withdata science\n",
      "cookiecutter-data-science:repositorydescription-/\"A logical, reasonably standardized, but flexible project structure for doing and sharing data science work./\" matched withdata science\n",
      "Kaggler:repositorydescription-/\"Code for Kaggle Data Science Competitions/\" matched withData Science\n",
      "kedro:repositorydescription-/\"A Python framework for creating reproducible, maintainable and modular data science code./\" matched withdata science\n",
      "book_sample:repositorydescription-/\"another book on data science/\" matched withdata science\n",
      "PDA_Book:repositorydescription-/\"Code Examples Data Science using Python/\" matched withData Science\n",
      "metaflow:repositorydescription-/\":rocket: Build and manage real-life data science projects with ease!/\" matched withdata science\n",
      "data-science-template:repositorydescription-/\"Template for a data science project/\" matched withdata science\n",
      "intro_ds:repositorydescription-/\"Code to accompany Mastering Data Science from PT press/\" matched withData Science\n",
      "lale:repositorydescription-/\"Library for Semi-Automated Data Science/\" matched withData Science\n",
      "heamy:repositorydescription-/\"A set of useful tools for competitive data science./\" matched withdata science\n",
      "datajoint-python:repositorydescription-/\"Relational data pipelines for the science lab /\" matched withdata\n",
      "python-data-science-workshop:repositorydescription-/\"Workshop: Python for Data Science/\" matched withData Science\n",
      "d6tflow:repositorydescription-/\"Python library for building highly effective data science workflows/\" matched withdata science\n",
      "nebari:repositorydescription-/\"🪴 Nebari - your open source data science platform/\" matched withdata science\n",
      "data-science-ipython-notebooks:repositorydescription-/\"Data science Python notebooks: Deep learning (TensorFlow, Theano, Caffe, Keras), scikit-learn, Kaggle, big data (Spark, Hadoop MapReduce, HDFS), matplotlib, pandas, NumPy, SciPy, Python essentials, AWS, and various command lines./\" matched withData science\n",
      "Building-Data-Science-Applications-with-FastAPI:repositorydescription-/\"Building Data Science Applications with FastAPI, Published by Packt/\" matched withData Science\n",
      "Uber-DS-Challenge:repositorydescription-/\"Uber provided Data Science take home/\" matched withData Science\n",
      "the_data_science_handbook:repositorydescription-/\"Source code for The Data Science Handbook/\" matched withData Science\n",
      "dsb-2017:repositorydescription-/\"Data Science Bowl 2017/\" matched withData Science\n",
      "DSB2018:repositorydescription-/\"Data Science Bowl 2018/\" matched withData Science\n",
      "ufora:repositorydescription-/\"Compiled, automatically parallel Python for data science/\" matched withdata science\n",
      "xam:repositorydescription-/\":dart: Personal data science and machine learning toolbox/\" matched withdata science\n",
      "exercises:repositorydescription-/\"Trustbit (Softwarepark) exercises and dojos for DDD and Data Science 💖/\" matched withData Science\n"
     ]
    }
   ],
   "source": [
    "#response객체가 json이라는 것을 알기에 메서트를 통해 dict로 만듦\n",
    "#item 리스트 값을 반복 / 이름,검색어 매치 결과 출력\n",
    "for item in response.json()['items']:\n",
    "    print(item['name'] + ':repository' +\n",
    "    item['text_matches'][0]['property'] + '-/\"' +\n",
    "    item['text_matches'][0]['fragment'] + '/\" matched with' +\n",
    "    item['text_matches'][0]['matches'][0]['text']\n",
    "    )"
   ]
  },
  {
   "cell_type": "code",
   "execution_count": 56,
   "id": "085c3d45-9575-4523-9c5a-c4398ab066e1",
   "metadata": {},
   "outputs": [
    {
     "name": "stdout",
     "output_type": "stream",
     "text": [
      "Response Code 200\n",
      "Number of comments 30\n"
     ]
    }
   ],
   "source": [
    "#저장소의 댓글 데이터 가져오기\n",
    "response = requests.get('https://api.github.com/repos/pytorch/pytorch/issues',\n",
    "                        headers = {'Accept':'application/vnd.github.v3.text-match+json'})\n",
    "print('Response Code', response.status_code)\n",
    "print('Number of comments',len(response.json()))"
   ]
  },
  {
   "cell_type": "code",
   "execution_count": 57,
   "id": "b67f1ecd-1f2b-4188-9e04-ed71436991ca",
   "metadata": {},
   "outputs": [
    {
     "data": {
      "text/plain": [
       "{'next': {'url': 'https://api.github.com/repositories/65600975/issues?page=2',\n",
       "  'rel': 'next'},\n",
       " 'last': {'url': 'https://api.github.com/repositories/65600975/issues?page=371',\n",
       "  'rel': 'last'}}"
      ]
     },
     "execution_count": 57,
     "metadata": {},
     "output_type": "execute_result"
    }
   ],
   "source": [
    "#Pagination 응답 개수를 제한 - 서버 과부하 방지\n",
    "response.links"
   ]
  },
  {
   "cell_type": "code",
   "execution_count": 1,
   "id": "9ed3e986-2bb3-49df-bb80-42dd89b2d300",
   "metadata": {},
   "outputs": [
    {
     "name": "stdout",
     "output_type": "stream",
     "text": [
      "200\n"
     ]
    }
   ],
   "source": [
    "import requests\n",
    "\n",
    "response = requests.get('https://infuser.odcloud.kr/api/stages/42106/api-docs')\n",
    "print(response.status_code)"
   ]
  },
  {
   "cell_type": "code",
   "execution_count": 3,
   "id": "24aa5597-3da9-4a55-ab3a-160ad89daa1c",
   "metadata": {},
   "outputs": [
    {
     "name": "stdout",
     "output_type": "stream",
     "text": [
      "인코딩 : utf-8\n",
      "콘텐츠 타입 : application/json; charset=utf-8\n"
     ]
    }
   ],
   "source": [
    "#response에 대한 요소 확인\n",
    "print(f\"인코딩 : {response.encoding}\")\n",
    "print(f\"콘텐츠 타입 : {response.headers['Content-Type']}\")\n",
    "#print(f\"서버 : {response.headers['server']}\")"
   ]
  },
  {
   "cell_type": "code",
   "execution_count": 6,
   "id": "8a04bf83-d162-4d2e-ad40-71bedee1c366",
   "metadata": {},
   "outputs": [
    {
     "data": {
      "text/plain": [
       "KeysView({'X-Powered-By': 'Express', 'Access-Control-Allow-Origin': '*', 'Access-Control-Expose-Headers': 'Content-Disposition', 'Content-Type': 'application/json; charset=utf-8', 'Content-Length': '4701', 'ETag': 'W/\"125d-1VRXJLyUc5ivaB4kaPQwKqMjoPk\"', 'Date': 'Tue, 28 Feb 2023 02:18:04 GMT', 'Keep-Alive': 'timeout=5'})"
      ]
     },
     "execution_count": 6,
     "metadata": {},
     "output_type": "execute_result"
    }
   ],
   "source": [
    "response.headers.keys()"
   ]
  },
  {
   "cell_type": "code",
   "execution_count": 9,
   "id": "33ef4184-7148-45fb-872e-c78ff6106b1a",
   "metadata": {},
   "outputs": [
    {
     "data": {
      "text/plain": [
       "dict_keys(['swagger', 'info', 'host', 'basePath', 'schemes', 'securityDefinitions', 'paths', 'definitions'])"
      ]
     },
     "execution_count": 9,
     "metadata": {},
     "output_type": "execute_result"
    }
   ],
   "source": [
    "response.json().keys()"
   ]
  },
  {
   "cell_type": "code",
   "execution_count": 10,
   "id": "fc3339a1-79d8-48aa-b39e-ef1ae77df377",
   "metadata": {},
   "outputs": [
    {
     "data": {
      "text/plain": [
       "3"
      ]
     },
     "execution_count": 10,
     "metadata": {},
     "output_type": "execute_result"
    }
   ],
   "source": [
    "len(response.json()['swagger'])"
   ]
  },
  {
   "cell_type": "code",
   "execution_count": 12,
   "id": "39ee2851-b09e-441f-884c-1df52cab989f",
   "metadata": {
    "scrolled": true,
    "tags": []
   },
   "outputs": [
    {
     "data": {
      "text/plain": [
       "{'swagger': '2.0',\n",
       " 'info': {'version': '2',\n",
       "  'title': '사전예약 의료기관 정보',\n",
       "  'description': '사전예약 의료기관 정보 API 입니다.'},\n",
       " 'host': 'api.odcloud.kr',\n",
       " 'basePath': '/api',\n",
       " 'schemes': ['https', 'http'],\n",
       " 'securityDefinitions': {'ApiKeyAuth': {'type': 'apiKey',\n",
       "   'in': 'header',\n",
       "   'name': 'Authorization'},\n",
       "  'ApiKeyAuth2': {'type': 'apiKey', 'in': 'query', 'name': 'serviceKey'}},\n",
       " 'paths': {'/apnmOrg/v2/list': {'get': {'tags': ['API 목록'],\n",
       "    'summary': '위탁의료기관의 참여백신 정보',\n",
       "    'operationId': 'getlist',\n",
       "    'description': '코로나19 예방접종을 시행하는 위탁의료기관의 참여백신 정보 제공',\n",
       "    'consumes': ['application/json'],\n",
       "    'produces': ['application/json'],\n",
       "    'parameters': [{'name': 'page',\n",
       "      'in': 'query',\n",
       "      'description': 'page index',\n",
       "      'type': 'integer',\n",
       "      'format': 'int64',\n",
       "      'exclusiveMinimum': False,\n",
       "      'default': 1},\n",
       "     {'name': 'perPage',\n",
       "      'in': 'query',\n",
       "      'description': 'page size',\n",
       "      'type': 'integer',\n",
       "      'format': 'int64',\n",
       "      'exclusiveMinimum': False,\n",
       "      'default': 10},\n",
       "     {'name': 'returnType',\n",
       "      'in': 'query',\n",
       "      'description': '응답의 데이터 타입을 선택할 수 있습니다. (기본값: JSON)<br/>XML형태의 응답결과를 얻기 위해서는 XML 값으로 설정',\n",
       "      'type': 'string',\n",
       "      'exclusiveMinimum': False},\n",
       "     {'name': 'cond[orgZipaddr::LIKE]',\n",
       "      'in': 'query',\n",
       "      'description': '기관주소',\n",
       "      'type': 'string',\n",
       "      'format': 'string',\n",
       "      'required': False}],\n",
       "    'responses': {'200': {'description': '성공적으로 수행 됨',\n",
       "      'schema': {'$ref': '#/definitions/list_api'}},\n",
       "     '401': {'description': '인증 정보가 정확 하지 않음'},\n",
       "     '500': {'description': 'API 서버에 문제가 발생하였음'}},\n",
       "    'security': [{'ApiKeyAuth': []}, {'ApiKeyAuth2': []}]}}},\n",
       " 'definitions': {'list_model': {'type': 'object',\n",
       "   'properties': {'orgcd': {'type': 'string', 'description': '기관코드'},\n",
       "    'orgnm': {'type': 'string', 'description': '기관명'},\n",
       "    'orgTlno': {'type': 'string', 'description': '기관전화번호'},\n",
       "    'orgZipaddr': {'type': 'string', 'description': '기관주소'},\n",
       "    'slrYmd': {'type': 'string', 'description': '조회일자(SYSDATE)'},\n",
       "    'dywk': {'type': 'string', 'description': '조회일자 요일'},\n",
       "    'hldyYn': {'type': 'string', 'description': '조회일자 휴무일여부'},\n",
       "    'lunchSttTm': {'type': 'string', 'description': '점심시작시간'},\n",
       "    'lunchEndTm': {'type': 'string', 'description': '점심종료시간'},\n",
       "    'monSttTm': {'type': 'string', 'description': '월요일 접종시작시간'},\n",
       "    'monEndTm': {'type': 'string', 'description': '월요일 접종종료시간'},\n",
       "    'tueSttTm': {'type': 'string', 'description': '화요일 접종시작시간'},\n",
       "    'tueEndTm': {'type': 'string', 'description': '화요일 접종종료시간'},\n",
       "    'wedSttTm': {'type': 'string', 'description': '수요일 접종시작시간'},\n",
       "    'wedEndTm': {'type': 'string', 'description': '수요일 접종종료시간'},\n",
       "    'thuSttTm': {'type': 'string', 'description': '목요일 접종시작시간'},\n",
       "    'thuEndTm': {'type': 'string', 'description': '목요일 접종종료시간'},\n",
       "    'friSttTm': {'type': 'string', 'description': '금요일 접종시작시간'},\n",
       "    'friEndTm': {'type': 'string', 'description': '금요일 접종종료시간'},\n",
       "    'satSttTm': {'type': 'string', 'description': '토요일 접종시작시간'},\n",
       "    'satEndTm': {'type': 'string', 'description': '토요일 접종종료시간'},\n",
       "    'sunSttTm': {'type': 'string', 'description': '일요일 접종시작시간'},\n",
       "    'sunEndTm': {'type': 'string', 'description': '일요일 접종종료시간'},\n",
       "    'azYn': {'type': 'string', 'description': '아스트라제네카 백신 참여여부'},\n",
       "    'jsYn': {'type': 'string', 'description': '얀센 백신 참여여부'},\n",
       "    'pzYn': {'type': 'string', 'description': '화이자 백신 참여여부'},\n",
       "    'mnYn': {'type': 'string', 'description': '모더나 백신 참여여부'},\n",
       "    'nvYn': {'type': 'string', 'description': '노바백스 백신 참여여부'},\n",
       "    'scYn': {'type': 'string', 'description': '스카이코비원 백신 참여여부'},\n",
       "    'pzKidYn': {'type': 'string', 'description': '소아용 화이자 백신 참여여부'},\n",
       "    'mnBa1Yn': {'type': 'string', 'description': '모더나BA.1 백신 참여여부'},\n",
       "    'mnBa45Yn': {'type': 'string', 'description': '모더나BA.4/5 백신 참여여부'},\n",
       "    'pzBa1Yn': {'type': 'string', 'description': '화이자BA.1 백신 참여여부'},\n",
       "    'pzBa45Yn': {'type': 'string', 'description': '화이자BA.4/5 백신 참여여부 '},\n",
       "    'pzBabyYn': {'type': 'string',\n",
       "     'description': '영유아용 화이자 백신 참여여부 (영유아용 화이자 백신은 요일제를 시행하고 있으므로 접종 가능한 요일을 위탁기관에 확인 후 내방하여야 함)'}}},\n",
       "  'list_api': {'type': 'object',\n",
       "   'properties': {'page': {'type': 'integer', 'format': 'int64'},\n",
       "    'perPage': {'type': 'integer', 'format': 'int64'},\n",
       "    'totalCount': {'type': 'integer', 'format': 'int64'},\n",
       "    'currentCount': {'type': 'integer', 'format': 'int64'},\n",
       "    'matchCount': {'type': 'integer', 'format': 'int64'},\n",
       "    'data': {'type': 'array',\n",
       "     'items': {'$ref': '#/definitions/list_model'}}}}}}"
      ]
     },
     "execution_count": 12,
     "metadata": {},
     "output_type": "execute_result"
    }
   ],
   "source": [
    "response.json()"
   ]
  },
  {
   "cell_type": "code",
   "execution_count": 26,
   "id": "2175f523-4f38-4eb4-80e3-e39c5939052a",
   "metadata": {},
   "outputs": [
    {
     "name": "stdout",
     "output_type": "stream",
     "text": [
      "200\n"
     ]
    }
   ],
   "source": [
    "import requests\n",
    "\n",
    "#key = 'R5ypB93DJ/ynR6onZknXJyjQSU498Oq7WSErqucTLk4dzSa350lKjtGnDLfkwL9caJnlbIVGmQ4jV4p1J0r2ig=='\n",
    "key = 'R5ypB93DJ%2FynR6onZknXJyjQSU498Oq7WSErqucTLk4dzSa350lKjtGnDLfkwL9caJnlbIVGmQ4jV4p1J0r2ig%3D%3D'\n",
    "response = requests.get('https://infuser.odcloud.kr/api/stages/42106/api-docs')\n",
    "print(response.status_code)"
   ]
  },
  {
   "cell_type": "code",
   "execution_count": 27,
   "id": "ba66fe71-e358-43b9-900b-8fbae6ff8529",
   "metadata": {},
   "outputs": [
    {
     "data": {
      "text/plain": [
       "{'X-Powered-By': 'Express', 'Access-Control-Allow-Origin': '*', 'Access-Control-Expose-Headers': 'Content-Disposition', 'Content-Type': 'application/json; charset=utf-8', 'Content-Length': '4701', 'ETag': 'W/\"125d-1VRXJLyUc5ivaB4kaPQwKqMjoPk\"', 'Date': 'Tue, 28 Feb 2023 02:54:00 GMT', 'Keep-Alive': 'timeout=5'}"
      ]
     },
     "execution_count": 27,
     "metadata": {},
     "output_type": "execute_result"
    }
   ],
   "source": [
    "response.headers"
   ]
  },
  {
   "cell_type": "code",
   "execution_count": 28,
   "id": "1dd3d8c0-1580-413d-9a2b-9fa717d24f43",
   "metadata": {
    "scrolled": true,
    "tags": []
   },
   "outputs": [
    {
     "data": {
      "text/plain": [
       "'{\"swagger\":\"2.0\",\"info\":{\"version\":\"2\",\"title\":\"사전예약 의료기관 정보\",\"description\":\"사전예약 의료기관 정보 API 입니다.\"},\"host\":\"api.odcloud.kr\",\"basePath\":\"/api\",\"schemes\":[\"https\",\"http\"],\"securityDefinitions\":{\"ApiKeyAuth\":{\"type\":\"apiKey\",\"in\":\"header\",\"name\":\"Authorization\"},\"ApiKeyAuth2\":{\"type\":\"apiKey\",\"in\":\"query\",\"name\":\"serviceKey\"}},\"paths\":{\"/apnmOrg/v2/list\":{\"get\":{\"tags\":[\"API 목록\"],\"summary\":\"위탁의료기관의 참여백신 정보\",\"operationId\":\"getlist\",\"description\":\"코로나19 예방접종을 시행하는 위탁의료기관의 참여백신 정보 제공\",\"consumes\":[\"application/json\"],\"produces\":[\"application/json\"],\"parameters\":[{\"name\":\"page\",\"in\":\"query\",\"description\":\"page index\",\"type\":\"integer\",\"format\":\"int64\",\"exclusiveMinimum\":false,\"default\":1},{\"name\":\"perPage\",\"in\":\"query\",\"description\":\"page size\",\"type\":\"integer\",\"format\":\"int64\",\"exclusiveMinimum\":false,\"default\":10},{\"name\":\"returnType\",\"in\":\"query\",\"description\":\"응답의 데이터 타입을 선택할 수 있습니다. (기본값: JSON)<br/>XML형태의 응답결과를 얻기 위해서는 XML 값으로 설정\",\"type\":\"string\",\"exclusiveMinimum\":false},{\"name\":\"cond[orgZipaddr::LIKE]\",\"in\":\"query\",\"description\":\"기관주소\",\"type\":\"string\",\"format\":\"string\",\"required\":false}],\"responses\":{\"200\":{\"description\":\"성공적으로 수행 됨\",\"schema\":{\"$ref\":\"#/definitions/list_api\"}},\"401\":{\"description\":\"인증 정보가 정확 하지 않음\"},\"500\":{\"description\":\"API 서버에 문제가 발생하였음\"}},\"security\":[{\"ApiKeyAuth\":[]},{\"ApiKeyAuth2\":[]}]}}},\"definitions\":{\"list_model\":{\"type\":\"object\",\"properties\":{\"orgcd\":{\"type\":\"string\",\"description\":\"기관코드\"},\"orgnm\":{\"type\":\"string\",\"description\":\"기관명\"},\"orgTlno\":{\"type\":\"string\",\"description\":\"기관전화번호\"},\"orgZipaddr\":{\"type\":\"string\",\"description\":\"기관주소\"},\"slrYmd\":{\"type\":\"string\",\"description\":\"조회일자(SYSDATE)\"},\"dywk\":{\"type\":\"string\",\"description\":\"조회일자 요일\"},\"hldyYn\":{\"type\":\"string\",\"description\":\"조회일자 휴무일여부\"},\"lunchSttTm\":{\"type\":\"string\",\"description\":\"점심시작시간\"},\"lunchEndTm\":{\"type\":\"string\",\"description\":\"점심종료시간\"},\"monSttTm\":{\"type\":\"string\",\"description\":\"월요일 접종시작시간\"},\"monEndTm\":{\"type\":\"string\",\"description\":\"월요일 접종종료시간\"},\"tueSttTm\":{\"type\":\"string\",\"description\":\"화요일 접종시작시간\"},\"tueEndTm\":{\"type\":\"string\",\"description\":\"화요일 접종종료시간\"},\"wedSttTm\":{\"type\":\"string\",\"description\":\"수요일 접종시작시간\"},\"wedEndTm\":{\"type\":\"string\",\"description\":\"수요일 접종종료시간\"},\"thuSttTm\":{\"type\":\"string\",\"description\":\"목요일 접종시작시간\"},\"thuEndTm\":{\"type\":\"string\",\"description\":\"목요일 접종종료시간\"},\"friSttTm\":{\"type\":\"string\",\"description\":\"금요일 접종시작시간\"},\"friEndTm\":{\"type\":\"string\",\"description\":\"금요일 접종종료시간\"},\"satSttTm\":{\"type\":\"string\",\"description\":\"토요일 접종시작시간\"},\"satEndTm\":{\"type\":\"string\",\"description\":\"토요일 접종종료시간\"},\"sunSttTm\":{\"type\":\"string\",\"description\":\"일요일 접종시작시간\"},\"sunEndTm\":{\"type\":\"string\",\"description\":\"일요일 접종종료시간\"},\"azYn\":{\"type\":\"string\",\"description\":\"아스트라제네카 백신 참여여부\"},\"jsYn\":{\"type\":\"string\",\"description\":\"얀센 백신 참여여부\"},\"pzYn\":{\"type\":\"string\",\"description\":\"화이자 백신 참여여부\"},\"mnYn\":{\"type\":\"string\",\"description\":\"모더나 백신 참여여부\"},\"nvYn\":{\"type\":\"string\",\"description\":\"노바백스 백신 참여여부\"},\"scYn\":{\"type\":\"string\",\"description\":\"스카이코비원 백신 참여여부\"},\"pzKidYn\":{\"type\":\"string\",\"description\":\"소아용 화이자 백신 참여여부\"},\"mnBa1Yn\":{\"type\":\"string\",\"description\":\"모더나BA.1 백신 참여여부\"},\"mnBa45Yn\":{\"type\":\"string\",\"description\":\"모더나BA.4/5 백신 참여여부\"},\"pzBa1Yn\":{\"type\":\"string\",\"description\":\"화이자BA.1 백신 참여여부\"},\"pzBa45Yn\":{\"type\":\"string\",\"description\":\"화이자BA.4/5 백신 참여여부 \"},\"pzBabyYn\":{\"type\":\"string\",\"description\":\"영유아용 화이자 백신 참여여부 (영유아용 화이자 백신은 요일제를 시행하고 있으므로 접종 가능한 요일을 위탁기관에 확인 후 내방하여야 함)\"}}},\"list_api\":{\"type\":\"object\",\"properties\":{\"page\":{\"type\":\"integer\",\"format\":\"int64\"},\"perPage\":{\"type\":\"integer\",\"format\":\"int64\"},\"totalCount\":{\"type\":\"integer\",\"format\":\"int64\"},\"currentCount\":{\"type\":\"integer\",\"format\":\"int64\"},\"matchCount\":{\"type\":\"integer\",\"format\":\"int64\"},\"data\":{\"type\":\"array\",\"items\":{\"$ref\":\"#/definitions/list_model\"}}}}}}'"
      ]
     },
     "execution_count": 28,
     "metadata": {},
     "output_type": "execute_result"
    }
   ],
   "source": [
    "response.text"
   ]
  },
  {
   "cell_type": "code",
   "execution_count": 30,
   "id": "b83b6dc2-8880-49f9-8774-107216fcd86c",
   "metadata": {
    "scrolled": true,
    "tags": []
   },
   "outputs": [
    {
     "data": {
      "text/plain": [
       "{'/apnmOrg/v2/list': {'get': {'tags': ['API 목록'],\n",
       "   'summary': '위탁의료기관의 참여백신 정보',\n",
       "   'operationId': 'getlist',\n",
       "   'description': '코로나19 예방접종을 시행하는 위탁의료기관의 참여백신 정보 제공',\n",
       "   'consumes': ['application/json'],\n",
       "   'produces': ['application/json'],\n",
       "   'parameters': [{'name': 'page',\n",
       "     'in': 'query',\n",
       "     'description': 'page index',\n",
       "     'type': 'integer',\n",
       "     'format': 'int64',\n",
       "     'exclusiveMinimum': False,\n",
       "     'default': 1},\n",
       "    {'name': 'perPage',\n",
       "     'in': 'query',\n",
       "     'description': 'page size',\n",
       "     'type': 'integer',\n",
       "     'format': 'int64',\n",
       "     'exclusiveMinimum': False,\n",
       "     'default': 10},\n",
       "    {'name': 'returnType',\n",
       "     'in': 'query',\n",
       "     'description': '응답의 데이터 타입을 선택할 수 있습니다. (기본값: JSON)<br/>XML형태의 응답결과를 얻기 위해서는 XML 값으로 설정',\n",
       "     'type': 'string',\n",
       "     'exclusiveMinimum': False},\n",
       "    {'name': 'cond[orgZipaddr::LIKE]',\n",
       "     'in': 'query',\n",
       "     'description': '기관주소',\n",
       "     'type': 'string',\n",
       "     'format': 'string',\n",
       "     'required': False}],\n",
       "   'responses': {'200': {'description': '성공적으로 수행 됨',\n",
       "     'schema': {'$ref': '#/definitions/list_api'}},\n",
       "    '401': {'description': '인증 정보가 정확 하지 않음'},\n",
       "    '500': {'description': 'API 서버에 문제가 발생하였음'}},\n",
       "   'security': [{'ApiKeyAuth': []}, {'ApiKeyAuth2': []}]}}}"
      ]
     },
     "execution_count": 30,
     "metadata": {},
     "output_type": "execute_result"
    }
   ],
   "source": [
    "response.json()['paths']"
   ]
  },
  {
   "cell_type": "code",
   "execution_count": 32,
   "id": "4430932f-5a1f-4be4-81d7-e612398db384",
   "metadata": {
    "scrolled": true,
    "tags": []
   },
   "outputs": [
    {
     "data": {
      "text/plain": [
       "{'get': {'tags': ['API 목록'],\n",
       "  'summary': '위탁의료기관의 참여백신 정보',\n",
       "  'operationId': 'getlist',\n",
       "  'description': '코로나19 예방접종을 시행하는 위탁의료기관의 참여백신 정보 제공',\n",
       "  'consumes': ['application/json'],\n",
       "  'produces': ['application/json'],\n",
       "  'parameters': [{'name': 'page',\n",
       "    'in': 'query',\n",
       "    'description': 'page index',\n",
       "    'type': 'integer',\n",
       "    'format': 'int64',\n",
       "    'exclusiveMinimum': False,\n",
       "    'default': 1},\n",
       "   {'name': 'perPage',\n",
       "    'in': 'query',\n",
       "    'description': 'page size',\n",
       "    'type': 'integer',\n",
       "    'format': 'int64',\n",
       "    'exclusiveMinimum': False,\n",
       "    'default': 10},\n",
       "   {'name': 'returnType',\n",
       "    'in': 'query',\n",
       "    'description': '응답의 데이터 타입을 선택할 수 있습니다. (기본값: JSON)<br/>XML형태의 응답결과를 얻기 위해서는 XML 값으로 설정',\n",
       "    'type': 'string',\n",
       "    'exclusiveMinimum': False},\n",
       "   {'name': 'cond[orgZipaddr::LIKE]',\n",
       "    'in': 'query',\n",
       "    'description': '기관주소',\n",
       "    'type': 'string',\n",
       "    'format': 'string',\n",
       "    'required': False}],\n",
       "  'responses': {'200': {'description': '성공적으로 수행 됨',\n",
       "    'schema': {'$ref': '#/definitions/list_api'}},\n",
       "   '401': {'description': '인증 정보가 정확 하지 않음'},\n",
       "   '500': {'description': 'API 서버에 문제가 발생하였음'}},\n",
       "  'security': [{'ApiKeyAuth': []}, {'ApiKeyAuth2': []}]}}"
      ]
     },
     "execution_count": 32,
     "metadata": {},
     "output_type": "execute_result"
    }
   ],
   "source": [
    "response.json()['paths']['/apnmOrg/v2/list']"
   ]
  },
  {
   "cell_type": "code",
   "execution_count": 33,
   "id": "9341c4b4-d201-495e-a351-5bd308376434",
   "metadata": {
    "scrolled": true,
    "tags": []
   },
   "outputs": [
    {
     "data": {
      "text/plain": [
       "{'tags': ['API 목록'],\n",
       " 'summary': '위탁의료기관의 참여백신 정보',\n",
       " 'operationId': 'getlist',\n",
       " 'description': '코로나19 예방접종을 시행하는 위탁의료기관의 참여백신 정보 제공',\n",
       " 'consumes': ['application/json'],\n",
       " 'produces': ['application/json'],\n",
       " 'parameters': [{'name': 'page',\n",
       "   'in': 'query',\n",
       "   'description': 'page index',\n",
       "   'type': 'integer',\n",
       "   'format': 'int64',\n",
       "   'exclusiveMinimum': False,\n",
       "   'default': 1},\n",
       "  {'name': 'perPage',\n",
       "   'in': 'query',\n",
       "   'description': 'page size',\n",
       "   'type': 'integer',\n",
       "   'format': 'int64',\n",
       "   'exclusiveMinimum': False,\n",
       "   'default': 10},\n",
       "  {'name': 'returnType',\n",
       "   'in': 'query',\n",
       "   'description': '응답의 데이터 타입을 선택할 수 있습니다. (기본값: JSON)<br/>XML형태의 응답결과를 얻기 위해서는 XML 값으로 설정',\n",
       "   'type': 'string',\n",
       "   'exclusiveMinimum': False},\n",
       "  {'name': 'cond[orgZipaddr::LIKE]',\n",
       "   'in': 'query',\n",
       "   'description': '기관주소',\n",
       "   'type': 'string',\n",
       "   'format': 'string',\n",
       "   'required': False}],\n",
       " 'responses': {'200': {'description': '성공적으로 수행 됨',\n",
       "   'schema': {'$ref': '#/definitions/list_api'}},\n",
       "  '401': {'description': '인증 정보가 정확 하지 않음'},\n",
       "  '500': {'description': 'API 서버에 문제가 발생하였음'}},\n",
       " 'security': [{'ApiKeyAuth': []}, {'ApiKeyAuth2': []}]}"
      ]
     },
     "execution_count": 33,
     "metadata": {},
     "output_type": "execute_result"
    }
   ],
   "source": [
    "response.json()['paths']['/apnmOrg/v2/list']['get']"
   ]
  },
  {
   "cell_type": "code",
   "execution_count": 38,
   "id": "1dadf416-868a-4211-ad77-20c474226655",
   "metadata": {
    "scrolled": true,
    "tags": []
   },
   "outputs": [
    {
     "data": {
      "text/plain": [
       "[{'name': 'page',\n",
       "  'in': 'query',\n",
       "  'description': 'page index',\n",
       "  'type': 'integer',\n",
       "  'format': 'int64',\n",
       "  'exclusiveMinimum': False,\n",
       "  'default': 1},\n",
       " {'name': 'perPage',\n",
       "  'in': 'query',\n",
       "  'description': 'page size',\n",
       "  'type': 'integer',\n",
       "  'format': 'int64',\n",
       "  'exclusiveMinimum': False,\n",
       "  'default': 10},\n",
       " {'name': 'returnType',\n",
       "  'in': 'query',\n",
       "  'description': '응답의 데이터 타입을 선택할 수 있습니다. (기본값: JSON)<br/>XML형태의 응답결과를 얻기 위해서는 XML 값으로 설정',\n",
       "  'type': 'string',\n",
       "  'exclusiveMinimum': False},\n",
       " {'name': 'cond[orgZipaddr::LIKE]',\n",
       "  'in': 'query',\n",
       "  'description': '기관주소',\n",
       "  'type': 'string',\n",
       "  'format': 'string',\n",
       "  'required': False}]"
      ]
     },
     "execution_count": 38,
     "metadata": {},
     "output_type": "execute_result"
    }
   ],
   "source": [
    "response.json()['paths']['/apnmOrg/v2/list']['get']['parameters']"
   ]
  },
  {
   "cell_type": "code",
   "execution_count": 41,
   "id": "d8de8fc0-62f6-4575-8aaf-b356a4051796",
   "metadata": {},
   "outputs": [
    {
     "data": {
      "text/plain": [
       "{'name': 'page',\n",
       " 'in': 'query',\n",
       " 'description': 'page index',\n",
       " 'type': 'integer',\n",
       " 'format': 'int64',\n",
       " 'exclusiveMinimum': False,\n",
       " 'default': 1}"
      ]
     },
     "execution_count": 41,
     "metadata": {},
     "output_type": "execute_result"
    }
   ],
   "source": [
    "response.json()['paths']['/apnmOrg/v2/list']['get']['parameters'][0]"
   ]
  },
  {
   "cell_type": "code",
   "execution_count": 42,
   "id": "ef3e0ebd-f606-41ae-88c8-9c66d3edac09",
   "metadata": {},
   "outputs": [],
   "source": [
    "import urllib.robotparser\n",
    "rp = urllib.robotparser.RobotFileParser()\n",
    "rp.set_url(\"https://www.reuters.com/robots.txt\")\n",
    "rp.read()"
   ]
  },
  {
   "cell_type": "code",
   "execution_count": 43,
   "id": "e6a32e39-eeeb-4903-9f97-97e4378d0905",
   "metadata": {},
   "outputs": [
    {
     "data": {
      "text/plain": [
       "True"
      ]
     },
     "execution_count": 43,
     "metadata": {},
     "output_type": "execute_result"
    }
   ],
   "source": [
    "rp.can_fetch(useragent=\"*\",url=\"https://reuters.com/sitemap.xml\")"
   ]
  },
  {
   "cell_type": "code",
   "execution_count": 44,
   "id": "277b532c-24bf-407e-8f02-6808b0a7a407",
   "metadata": {},
   "outputs": [
    {
     "data": {
      "text/plain": [
       "['https://www.reuters.com/arc/outboundfeeds/sitemap-index/?outputType=xml',\n",
       " 'https://www.reuters.com/arc/outboundfeeds/news-sitemap-index/?outputType=xml',\n",
       " 'https://www.reuters.com/sitemap_video_index.xml',\n",
       " 'https://www.reuters.com/brandfeature/sitemap']"
      ]
     },
     "execution_count": 44,
     "metadata": {},
     "output_type": "execute_result"
    }
   ],
   "source": [
    "sitemaps = rp.site_maps()\n",
    "sitemaps"
   ]
  },
  {
   "cell_type": "code",
   "execution_count": 47,
   "id": "ae2596a9-30c7-46f6-9c2f-8cfb84229da1",
   "metadata": {},
   "outputs": [],
   "source": [
    "import xmltodict\n",
    "import requests\n",
    "\n",
    "url = sitemaps[0]\n",
    "sitemaps = xmltodict.parse(requests.get(url).text)"
   ]
  },
  {
   "cell_type": "code",
   "execution_count": 46,
   "id": "041191b1-9fd9-430e-8eee-b7b00218004a",
   "metadata": {},
   "outputs": [
    {
     "name": "stdout",
     "output_type": "stream",
     "text": [
      "Defaulting to user installation because normal site-packages is not writeable\n",
      "Collecting xmltodict\n",
      "  Downloading xmltodict-0.13.0-py2.py3-none-any.whl (10.0 kB)\n",
      "Installing collected packages: xmltodict\n",
      "Successfully installed xmltodict-0.13.0\n"
     ]
    }
   ],
   "source": [
    "!pip install xmltodict"
   ]
  },
  {
   "cell_type": "code",
   "execution_count": 52,
   "id": "c548ebc1-098a-421a-884c-3a64f3bba540",
   "metadata": {
    "scrolled": true,
    "tags": []
   },
   "outputs": [
    {
     "data": {
      "text/plain": [
       "{'sitemapindex': {'@xmlns': 'http://www.sitemaps.org/schemas/sitemap/0.9',\n",
       "  'sitemap': [{'loc': 'https://www.reuters.com/arc/outboundfeeds/sitemap/?outputType=xml',\n",
       "    'lastmod': '2023-02-28T05:45:29.634Z'},\n",
       "   {'loc': 'https://www.reuters.com/arc/outboundfeeds/sitemap/?outputType=xml&from=100',\n",
       "    'lastmod': '2023-02-28T05:45:29.634Z'},\n",
       "   {'loc': 'https://www.reuters.com/arc/outboundfeeds/sitemap/?outputType=xml&from=200',\n",
       "    'lastmod': '2023-02-28T05:45:29.634Z'},\n",
       "   {'loc': 'https://www.reuters.com/arc/outboundfeeds/sitemap/?outputType=xml&from=300',\n",
       "    'lastmod': '2023-02-28T05:45:29.634Z'},\n",
       "   {'loc': 'https://www.reuters.com/arc/outboundfeeds/sitemap/?outputType=xml&from=400',\n",
       "    'lastmod': '2023-02-28T05:45:29.634Z'},\n",
       "   {'loc': 'https://www.reuters.com/arc/outboundfeeds/sitemap/?outputType=xml&from=500',\n",
       "    'lastmod': '2023-02-28T05:45:29.634Z'},\n",
       "   {'loc': 'https://www.reuters.com/arc/outboundfeeds/sitemap/?outputType=xml&from=600',\n",
       "    'lastmod': '2023-02-28T05:45:29.634Z'},\n",
       "   {'loc': 'https://www.reuters.com/arc/outboundfeeds/sitemap/?outputType=xml&from=700',\n",
       "    'lastmod': '2023-02-28T05:45:29.634Z'},\n",
       "   {'loc': 'https://www.reuters.com/arc/outboundfeeds/sitemap/?outputType=xml&from=800',\n",
       "    'lastmod': '2023-02-28T05:45:29.634Z'},\n",
       "   {'loc': 'https://www.reuters.com/arc/outboundfeeds/sitemap/?outputType=xml&from=900',\n",
       "    'lastmod': '2023-02-28T05:45:29.634Z'},\n",
       "   {'loc': 'https://www.reuters.com/arc/outboundfeeds/sitemap/?outputType=xml&from=1000',\n",
       "    'lastmod': '2023-02-28T05:45:29.634Z'},\n",
       "   {'loc': 'https://www.reuters.com/arc/outboundfeeds/sitemap/?outputType=xml&from=1100',\n",
       "    'lastmod': '2023-02-28T05:45:29.634Z'},\n",
       "   {'loc': 'https://www.reuters.com/arc/outboundfeeds/sitemap/?outputType=xml&from=1200',\n",
       "    'lastmod': '2023-02-28T05:45:29.634Z'},\n",
       "   {'loc': 'https://www.reuters.com/arc/outboundfeeds/sitemap/?outputType=xml&from=1300',\n",
       "    'lastmod': '2023-02-28T05:45:29.634Z'},\n",
       "   {'loc': 'https://www.reuters.com/arc/outboundfeeds/sitemap/?outputType=xml&from=1400',\n",
       "    'lastmod': '2023-02-28T05:45:29.634Z'},\n",
       "   {'loc': 'https://www.reuters.com/arc/outboundfeeds/sitemap/?outputType=xml&from=1500',\n",
       "    'lastmod': '2023-02-28T05:45:29.634Z'},\n",
       "   {'loc': 'https://www.reuters.com/arc/outboundfeeds/sitemap/?outputType=xml&from=1600',\n",
       "    'lastmod': '2023-02-28T05:45:29.634Z'},\n",
       "   {'loc': 'https://www.reuters.com/arc/outboundfeeds/sitemap/?outputType=xml&from=1700',\n",
       "    'lastmod': '2023-02-28T05:45:29.634Z'},\n",
       "   {'loc': 'https://www.reuters.com/arc/outboundfeeds/sitemap/?outputType=xml&from=1800',\n",
       "    'lastmod': '2023-02-28T05:45:29.634Z'},\n",
       "   {'loc': 'https://www.reuters.com/arc/outboundfeeds/sitemap/?outputType=xml&from=1900',\n",
       "    'lastmod': '2023-02-28T05:45:29.634Z'},\n",
       "   {'loc': 'https://www.reuters.com/arc/outboundfeeds/sitemap/?outputType=xml&from=2000',\n",
       "    'lastmod': '2023-02-28T05:45:29.634Z'},\n",
       "   {'loc': 'https://www.reuters.com/arc/outboundfeeds/sitemap/?outputType=xml&from=2100',\n",
       "    'lastmod': '2023-02-28T05:45:29.634Z'},\n",
       "   {'loc': 'https://www.reuters.com/arc/outboundfeeds/sitemap/?outputType=xml&from=2200',\n",
       "    'lastmod': '2023-02-28T05:45:29.634Z'},\n",
       "   {'loc': 'https://www.reuters.com/arc/outboundfeeds/sitemap/?outputType=xml&from=2300',\n",
       "    'lastmod': '2023-02-28T05:45:29.634Z'},\n",
       "   {'loc': 'https://www.reuters.com/arc/outboundfeeds/sitemap/?outputType=xml&from=2400',\n",
       "    'lastmod': '2023-02-28T05:45:29.634Z'},\n",
       "   {'loc': 'https://www.reuters.com/arc/outboundfeeds/sitemap/?outputType=xml&from=2500',\n",
       "    'lastmod': '2023-02-28T05:45:29.634Z'},\n",
       "   {'loc': 'https://www.reuters.com/arc/outboundfeeds/sitemap/?outputType=xml&from=2600',\n",
       "    'lastmod': '2023-02-28T05:45:29.634Z'},\n",
       "   {'loc': 'https://www.reuters.com/arc/outboundfeeds/sitemap/?outputType=xml&from=2700',\n",
       "    'lastmod': '2023-02-28T05:45:29.634Z'},\n",
       "   {'loc': 'https://www.reuters.com/arc/outboundfeeds/sitemap/?outputType=xml&from=2800',\n",
       "    'lastmod': '2023-02-28T05:45:29.634Z'},\n",
       "   {'loc': 'https://www.reuters.com/arc/outboundfeeds/sitemap/?outputType=xml&from=2900',\n",
       "    'lastmod': '2023-02-28T05:45:29.634Z'},\n",
       "   {'loc': 'https://www.reuters.com/arc/outboundfeeds/sitemap/?outputType=xml&from=3000',\n",
       "    'lastmod': '2023-02-28T05:45:29.634Z'},\n",
       "   {'loc': 'https://www.reuters.com/arc/outboundfeeds/sitemap/?outputType=xml&from=3100',\n",
       "    'lastmod': '2023-02-28T05:45:29.634Z'},\n",
       "   {'loc': 'https://www.reuters.com/arc/outboundfeeds/sitemap/?outputType=xml&from=3200',\n",
       "    'lastmod': '2023-02-28T05:45:29.634Z'},\n",
       "   {'loc': 'https://www.reuters.com/arc/outboundfeeds/sitemap/?outputType=xml&from=3300',\n",
       "    'lastmod': '2023-02-28T05:45:29.634Z'},\n",
       "   {'loc': 'https://www.reuters.com/arc/outboundfeeds/sitemap/?outputType=xml&from=3400',\n",
       "    'lastmod': '2023-02-28T05:45:29.634Z'},\n",
       "   {'loc': 'https://www.reuters.com/arc/outboundfeeds/sitemap/?outputType=xml&from=3500',\n",
       "    'lastmod': '2023-02-28T05:45:29.634Z'},\n",
       "   {'loc': 'https://www.reuters.com/arc/outboundfeeds/sitemap/?outputType=xml&from=3600',\n",
       "    'lastmod': '2023-02-28T05:45:29.634Z'},\n",
       "   {'loc': 'https://www.reuters.com/arc/outboundfeeds/sitemap/?outputType=xml&from=3700',\n",
       "    'lastmod': '2023-02-28T05:45:29.634Z'},\n",
       "   {'loc': 'https://www.reuters.com/arc/outboundfeeds/sitemap/?outputType=xml&from=3800',\n",
       "    'lastmod': '2023-02-28T05:45:29.634Z'},\n",
       "   {'loc': 'https://www.reuters.com/arc/outboundfeeds/sitemap/?outputType=xml&from=3900',\n",
       "    'lastmod': '2023-02-28T05:45:29.634Z'},\n",
       "   {'loc': 'https://www.reuters.com/arc/outboundfeeds/sitemap/?outputType=xml&from=4000',\n",
       "    'lastmod': '2023-02-28T05:45:29.634Z'},\n",
       "   {'loc': 'https://www.reuters.com/arc/outboundfeeds/sitemap/?outputType=xml&from=4100',\n",
       "    'lastmod': '2023-02-28T05:45:29.634Z'},\n",
       "   {'loc': 'https://www.reuters.com/arc/outboundfeeds/sitemap/?outputType=xml&from=4200',\n",
       "    'lastmod': '2023-02-28T05:45:29.634Z'},\n",
       "   {'loc': 'https://www.reuters.com/arc/outboundfeeds/sitemap/?outputType=xml&from=4300',\n",
       "    'lastmod': '2023-02-28T05:45:29.634Z'},\n",
       "   {'loc': 'https://www.reuters.com/arc/outboundfeeds/sitemap/?outputType=xml&from=4400',\n",
       "    'lastmod': '2023-02-28T05:45:29.634Z'},\n",
       "   {'loc': 'https://www.reuters.com/arc/outboundfeeds/sitemap/?outputType=xml&from=4500',\n",
       "    'lastmod': '2023-02-28T05:45:29.634Z'},\n",
       "   {'loc': 'https://www.reuters.com/arc/outboundfeeds/sitemap/?outputType=xml&from=4600',\n",
       "    'lastmod': '2023-02-28T05:45:29.634Z'},\n",
       "   {'loc': 'https://www.reuters.com/arc/outboundfeeds/sitemap/?outputType=xml&from=4700',\n",
       "    'lastmod': '2023-02-28T05:45:29.634Z'},\n",
       "   {'loc': 'https://www.reuters.com/arc/outboundfeeds/sitemap/?outputType=xml&from=4800',\n",
       "    'lastmod': '2023-02-28T05:45:29.634Z'},\n",
       "   {'loc': 'https://www.reuters.com/arc/outboundfeeds/sitemap/?outputType=xml&from=4900',\n",
       "    'lastmod': '2023-02-28T05:45:29.634Z'},\n",
       "   {'loc': 'https://www.reuters.com/arc/outboundfeeds/sitemap/?outputType=xml&from=5000',\n",
       "    'lastmod': '2023-02-28T05:45:29.634Z'},\n",
       "   {'loc': 'https://www.reuters.com/arc/outboundfeeds/sitemap/?outputType=xml&from=5100',\n",
       "    'lastmod': '2023-02-28T05:45:29.634Z'},\n",
       "   {'loc': 'https://www.reuters.com/arc/outboundfeeds/sitemap/?outputType=xml&from=5200',\n",
       "    'lastmod': '2023-02-28T05:45:29.634Z'},\n",
       "   {'loc': 'https://www.reuters.com/arc/outboundfeeds/sitemap/?outputType=xml&from=5300',\n",
       "    'lastmod': '2023-02-28T05:45:29.634Z'},\n",
       "   {'loc': 'https://www.reuters.com/arc/outboundfeeds/sitemap/?outputType=xml&from=5400',\n",
       "    'lastmod': '2023-02-28T05:45:29.634Z'},\n",
       "   {'loc': 'https://www.reuters.com/arc/outboundfeeds/sitemap/?outputType=xml&from=5500',\n",
       "    'lastmod': '2023-02-28T05:45:29.634Z'},\n",
       "   {'loc': 'https://www.reuters.com/arc/outboundfeeds/sitemap/?outputType=xml&from=5600',\n",
       "    'lastmod': '2023-02-28T05:45:29.634Z'},\n",
       "   {'loc': 'https://www.reuters.com/arc/outboundfeeds/sitemap/?outputType=xml&from=5700',\n",
       "    'lastmod': '2023-02-28T05:45:29.634Z'},\n",
       "   {'loc': 'https://www.reuters.com/arc/outboundfeeds/sitemap/?outputType=xml&from=5800',\n",
       "    'lastmod': '2023-02-28T05:45:29.634Z'},\n",
       "   {'loc': 'https://www.reuters.com/arc/outboundfeeds/sitemap/?outputType=xml&from=5900',\n",
       "    'lastmod': '2023-02-28T05:45:29.634Z'},\n",
       "   {'loc': 'https://www.reuters.com/arc/outboundfeeds/sitemap/?outputType=xml&from=6000',\n",
       "    'lastmod': '2023-02-28T05:45:29.634Z'},\n",
       "   {'loc': 'https://www.reuters.com/arc/outboundfeeds/sitemap/?outputType=xml&from=6100',\n",
       "    'lastmod': '2023-02-28T05:45:29.634Z'},\n",
       "   {'loc': 'https://www.reuters.com/arc/outboundfeeds/sitemap/?outputType=xml&from=6200',\n",
       "    'lastmod': '2023-02-28T05:45:29.634Z'},\n",
       "   {'loc': 'https://www.reuters.com/arc/outboundfeeds/sitemap/?outputType=xml&from=6300',\n",
       "    'lastmod': '2023-02-28T05:45:29.634Z'},\n",
       "   {'loc': 'https://www.reuters.com/arc/outboundfeeds/sitemap/?outputType=xml&from=6400',\n",
       "    'lastmod': '2023-02-28T05:45:29.634Z'},\n",
       "   {'loc': 'https://www.reuters.com/arc/outboundfeeds/sitemap/?outputType=xml&from=6500',\n",
       "    'lastmod': '2023-02-28T05:45:29.634Z'},\n",
       "   {'loc': 'https://www.reuters.com/arc/outboundfeeds/sitemap/?outputType=xml&from=6600',\n",
       "    'lastmod': '2023-02-28T05:45:29.634Z'},\n",
       "   {'loc': 'https://www.reuters.com/arc/outboundfeeds/sitemap/?outputType=xml&from=6700',\n",
       "    'lastmod': '2023-02-28T05:45:29.634Z'},\n",
       "   {'loc': 'https://www.reuters.com/arc/outboundfeeds/sitemap/?outputType=xml&from=6800',\n",
       "    'lastmod': '2023-02-28T05:45:29.634Z'},\n",
       "   {'loc': 'https://www.reuters.com/arc/outboundfeeds/sitemap/?outputType=xml&from=6900',\n",
       "    'lastmod': '2023-02-28T05:45:29.634Z'},\n",
       "   {'loc': 'https://www.reuters.com/arc/outboundfeeds/sitemap/?outputType=xml&from=7000',\n",
       "    'lastmod': '2023-02-28T05:45:29.634Z'},\n",
       "   {'loc': 'https://www.reuters.com/arc/outboundfeeds/sitemap/?outputType=xml&from=7100',\n",
       "    'lastmod': '2023-02-28T05:45:29.634Z'},\n",
       "   {'loc': 'https://www.reuters.com/arc/outboundfeeds/sitemap/?outputType=xml&from=7200',\n",
       "    'lastmod': '2023-02-28T05:45:29.634Z'},\n",
       "   {'loc': 'https://www.reuters.com/arc/outboundfeeds/sitemap/?outputType=xml&from=7300',\n",
       "    'lastmod': '2023-02-28T05:45:29.634Z'},\n",
       "   {'loc': 'https://www.reuters.com/arc/outboundfeeds/sitemap/?outputType=xml&from=7400',\n",
       "    'lastmod': '2023-02-28T05:45:29.634Z'},\n",
       "   {'loc': 'https://www.reuters.com/arc/outboundfeeds/sitemap/?outputType=xml&from=7500',\n",
       "    'lastmod': '2023-02-28T05:45:29.634Z'},\n",
       "   {'loc': 'https://www.reuters.com/arc/outboundfeeds/sitemap/?outputType=xml&from=7600',\n",
       "    'lastmod': '2023-02-28T05:45:29.634Z'},\n",
       "   {'loc': 'https://www.reuters.com/arc/outboundfeeds/sitemap/?outputType=xml&from=7700',\n",
       "    'lastmod': '2023-02-28T05:45:29.634Z'},\n",
       "   {'loc': 'https://www.reuters.com/arc/outboundfeeds/sitemap/?outputType=xml&from=7800',\n",
       "    'lastmod': '2023-02-28T05:45:29.634Z'},\n",
       "   {'loc': 'https://www.reuters.com/arc/outboundfeeds/sitemap/?outputType=xml&from=7900',\n",
       "    'lastmod': '2023-02-28T05:45:29.634Z'},\n",
       "   {'loc': 'https://www.reuters.com/arc/outboundfeeds/sitemap/?outputType=xml&from=8000',\n",
       "    'lastmod': '2023-02-28T05:45:29.634Z'},\n",
       "   {'loc': 'https://www.reuters.com/arc/outboundfeeds/sitemap/?outputType=xml&from=8100',\n",
       "    'lastmod': '2023-02-28T05:45:29.634Z'},\n",
       "   {'loc': 'https://www.reuters.com/arc/outboundfeeds/sitemap/?outputType=xml&from=8200',\n",
       "    'lastmod': '2023-02-28T05:45:29.634Z'},\n",
       "   {'loc': 'https://www.reuters.com/arc/outboundfeeds/sitemap/?outputType=xml&from=8300',\n",
       "    'lastmod': '2023-02-28T05:45:29.634Z'},\n",
       "   {'loc': 'https://www.reuters.com/arc/outboundfeeds/sitemap/?outputType=xml&from=8400',\n",
       "    'lastmod': '2023-02-28T05:45:29.634Z'},\n",
       "   {'loc': 'https://www.reuters.com/arc/outboundfeeds/sitemap/?outputType=xml&from=8500',\n",
       "    'lastmod': '2023-02-28T05:45:29.634Z'},\n",
       "   {'loc': 'https://www.reuters.com/arc/outboundfeeds/sitemap/?outputType=xml&from=8600',\n",
       "    'lastmod': '2023-02-28T05:45:29.634Z'},\n",
       "   {'loc': 'https://www.reuters.com/arc/outboundfeeds/sitemap/?outputType=xml&from=8700',\n",
       "    'lastmod': '2023-02-28T05:45:29.634Z'},\n",
       "   {'loc': 'https://www.reuters.com/arc/outboundfeeds/sitemap/?outputType=xml&from=8800',\n",
       "    'lastmod': '2023-02-28T05:45:29.634Z'},\n",
       "   {'loc': 'https://www.reuters.com/arc/outboundfeeds/sitemap/?outputType=xml&from=8900',\n",
       "    'lastmod': '2023-02-28T05:45:29.634Z'},\n",
       "   {'loc': 'https://www.reuters.com/arc/outboundfeeds/sitemap/?outputType=xml&from=9000',\n",
       "    'lastmod': '2023-02-28T05:45:29.634Z'},\n",
       "   {'loc': 'https://www.reuters.com/arc/outboundfeeds/sitemap/?outputType=xml&from=9100',\n",
       "    'lastmod': '2023-02-28T05:45:29.634Z'},\n",
       "   {'loc': 'https://www.reuters.com/arc/outboundfeeds/sitemap/?outputType=xml&from=9200',\n",
       "    'lastmod': '2023-02-28T05:45:29.634Z'},\n",
       "   {'loc': 'https://www.reuters.com/arc/outboundfeeds/sitemap/?outputType=xml&from=9300',\n",
       "    'lastmod': '2023-02-28T05:45:29.634Z'},\n",
       "   {'loc': 'https://www.reuters.com/arc/outboundfeeds/sitemap/?outputType=xml&from=9400',\n",
       "    'lastmod': '2023-02-28T05:45:29.634Z'},\n",
       "   {'loc': 'https://www.reuters.com/arc/outboundfeeds/sitemap/?outputType=xml&from=9500',\n",
       "    'lastmod': '2023-02-28T05:45:29.634Z'}]}}"
      ]
     },
     "execution_count": 52,
     "metadata": {},
     "output_type": "execute_result"
    }
   ],
   "source": [
    "sitemaps"
   ]
  },
  {
   "cell_type": "code",
   "execution_count": 53,
   "id": "b25ed9c2-ea7c-4c70-9adc-91f2f8b9359a",
   "metadata": {},
   "outputs": [
    {
     "data": {
      "text/plain": [
       "dict_keys(['sitemapindex'])"
      ]
     },
     "execution_count": 53,
     "metadata": {},
     "output_type": "execute_result"
    }
   ],
   "source": [
    "sitemaps.keys()"
   ]
  },
  {
   "cell_type": "code",
   "execution_count": 57,
   "id": "1cdfd3dd-8cc4-4148-bb10-ba0494c9d85f",
   "metadata": {
    "scrolled": true,
    "tags": []
   },
   "outputs": [
    {
     "data": {
      "text/plain": [
       "[{'loc': 'https://www.reuters.com/arc/outboundfeeds/sitemap/?outputType=xml',\n",
       "  'lastmod': '2023-02-28T05:45:29.634Z'},\n",
       " {'loc': 'https://www.reuters.com/arc/outboundfeeds/sitemap/?outputType=xml&from=100',\n",
       "  'lastmod': '2023-02-28T05:45:29.634Z'},\n",
       " {'loc': 'https://www.reuters.com/arc/outboundfeeds/sitemap/?outputType=xml&from=200',\n",
       "  'lastmod': '2023-02-28T05:45:29.634Z'},\n",
       " {'loc': 'https://www.reuters.com/arc/outboundfeeds/sitemap/?outputType=xml&from=300',\n",
       "  'lastmod': '2023-02-28T05:45:29.634Z'},\n",
       " {'loc': 'https://www.reuters.com/arc/outboundfeeds/sitemap/?outputType=xml&from=400',\n",
       "  'lastmod': '2023-02-28T05:45:29.634Z'},\n",
       " {'loc': 'https://www.reuters.com/arc/outboundfeeds/sitemap/?outputType=xml&from=500',\n",
       "  'lastmod': '2023-02-28T05:45:29.634Z'},\n",
       " {'loc': 'https://www.reuters.com/arc/outboundfeeds/sitemap/?outputType=xml&from=600',\n",
       "  'lastmod': '2023-02-28T05:45:29.634Z'},\n",
       " {'loc': 'https://www.reuters.com/arc/outboundfeeds/sitemap/?outputType=xml&from=700',\n",
       "  'lastmod': '2023-02-28T05:45:29.634Z'},\n",
       " {'loc': 'https://www.reuters.com/arc/outboundfeeds/sitemap/?outputType=xml&from=800',\n",
       "  'lastmod': '2023-02-28T05:45:29.634Z'},\n",
       " {'loc': 'https://www.reuters.com/arc/outboundfeeds/sitemap/?outputType=xml&from=900',\n",
       "  'lastmod': '2023-02-28T05:45:29.634Z'},\n",
       " {'loc': 'https://www.reuters.com/arc/outboundfeeds/sitemap/?outputType=xml&from=1000',\n",
       "  'lastmod': '2023-02-28T05:45:29.634Z'},\n",
       " {'loc': 'https://www.reuters.com/arc/outboundfeeds/sitemap/?outputType=xml&from=1100',\n",
       "  'lastmod': '2023-02-28T05:45:29.634Z'},\n",
       " {'loc': 'https://www.reuters.com/arc/outboundfeeds/sitemap/?outputType=xml&from=1200',\n",
       "  'lastmod': '2023-02-28T05:45:29.634Z'},\n",
       " {'loc': 'https://www.reuters.com/arc/outboundfeeds/sitemap/?outputType=xml&from=1300',\n",
       "  'lastmod': '2023-02-28T05:45:29.634Z'},\n",
       " {'loc': 'https://www.reuters.com/arc/outboundfeeds/sitemap/?outputType=xml&from=1400',\n",
       "  'lastmod': '2023-02-28T05:45:29.634Z'},\n",
       " {'loc': 'https://www.reuters.com/arc/outboundfeeds/sitemap/?outputType=xml&from=1500',\n",
       "  'lastmod': '2023-02-28T05:45:29.634Z'},\n",
       " {'loc': 'https://www.reuters.com/arc/outboundfeeds/sitemap/?outputType=xml&from=1600',\n",
       "  'lastmod': '2023-02-28T05:45:29.634Z'},\n",
       " {'loc': 'https://www.reuters.com/arc/outboundfeeds/sitemap/?outputType=xml&from=1700',\n",
       "  'lastmod': '2023-02-28T05:45:29.634Z'},\n",
       " {'loc': 'https://www.reuters.com/arc/outboundfeeds/sitemap/?outputType=xml&from=1800',\n",
       "  'lastmod': '2023-02-28T05:45:29.634Z'},\n",
       " {'loc': 'https://www.reuters.com/arc/outboundfeeds/sitemap/?outputType=xml&from=1900',\n",
       "  'lastmod': '2023-02-28T05:45:29.634Z'},\n",
       " {'loc': 'https://www.reuters.com/arc/outboundfeeds/sitemap/?outputType=xml&from=2000',\n",
       "  'lastmod': '2023-02-28T05:45:29.634Z'},\n",
       " {'loc': 'https://www.reuters.com/arc/outboundfeeds/sitemap/?outputType=xml&from=2100',\n",
       "  'lastmod': '2023-02-28T05:45:29.634Z'},\n",
       " {'loc': 'https://www.reuters.com/arc/outboundfeeds/sitemap/?outputType=xml&from=2200',\n",
       "  'lastmod': '2023-02-28T05:45:29.634Z'},\n",
       " {'loc': 'https://www.reuters.com/arc/outboundfeeds/sitemap/?outputType=xml&from=2300',\n",
       "  'lastmod': '2023-02-28T05:45:29.634Z'},\n",
       " {'loc': 'https://www.reuters.com/arc/outboundfeeds/sitemap/?outputType=xml&from=2400',\n",
       "  'lastmod': '2023-02-28T05:45:29.634Z'},\n",
       " {'loc': 'https://www.reuters.com/arc/outboundfeeds/sitemap/?outputType=xml&from=2500',\n",
       "  'lastmod': '2023-02-28T05:45:29.634Z'},\n",
       " {'loc': 'https://www.reuters.com/arc/outboundfeeds/sitemap/?outputType=xml&from=2600',\n",
       "  'lastmod': '2023-02-28T05:45:29.634Z'},\n",
       " {'loc': 'https://www.reuters.com/arc/outboundfeeds/sitemap/?outputType=xml&from=2700',\n",
       "  'lastmod': '2023-02-28T05:45:29.634Z'},\n",
       " {'loc': 'https://www.reuters.com/arc/outboundfeeds/sitemap/?outputType=xml&from=2800',\n",
       "  'lastmod': '2023-02-28T05:45:29.634Z'},\n",
       " {'loc': 'https://www.reuters.com/arc/outboundfeeds/sitemap/?outputType=xml&from=2900',\n",
       "  'lastmod': '2023-02-28T05:45:29.634Z'},\n",
       " {'loc': 'https://www.reuters.com/arc/outboundfeeds/sitemap/?outputType=xml&from=3000',\n",
       "  'lastmod': '2023-02-28T05:45:29.634Z'},\n",
       " {'loc': 'https://www.reuters.com/arc/outboundfeeds/sitemap/?outputType=xml&from=3100',\n",
       "  'lastmod': '2023-02-28T05:45:29.634Z'},\n",
       " {'loc': 'https://www.reuters.com/arc/outboundfeeds/sitemap/?outputType=xml&from=3200',\n",
       "  'lastmod': '2023-02-28T05:45:29.634Z'},\n",
       " {'loc': 'https://www.reuters.com/arc/outboundfeeds/sitemap/?outputType=xml&from=3300',\n",
       "  'lastmod': '2023-02-28T05:45:29.634Z'},\n",
       " {'loc': 'https://www.reuters.com/arc/outboundfeeds/sitemap/?outputType=xml&from=3400',\n",
       "  'lastmod': '2023-02-28T05:45:29.634Z'},\n",
       " {'loc': 'https://www.reuters.com/arc/outboundfeeds/sitemap/?outputType=xml&from=3500',\n",
       "  'lastmod': '2023-02-28T05:45:29.634Z'},\n",
       " {'loc': 'https://www.reuters.com/arc/outboundfeeds/sitemap/?outputType=xml&from=3600',\n",
       "  'lastmod': '2023-02-28T05:45:29.634Z'},\n",
       " {'loc': 'https://www.reuters.com/arc/outboundfeeds/sitemap/?outputType=xml&from=3700',\n",
       "  'lastmod': '2023-02-28T05:45:29.634Z'},\n",
       " {'loc': 'https://www.reuters.com/arc/outboundfeeds/sitemap/?outputType=xml&from=3800',\n",
       "  'lastmod': '2023-02-28T05:45:29.634Z'},\n",
       " {'loc': 'https://www.reuters.com/arc/outboundfeeds/sitemap/?outputType=xml&from=3900',\n",
       "  'lastmod': '2023-02-28T05:45:29.634Z'},\n",
       " {'loc': 'https://www.reuters.com/arc/outboundfeeds/sitemap/?outputType=xml&from=4000',\n",
       "  'lastmod': '2023-02-28T05:45:29.634Z'},\n",
       " {'loc': 'https://www.reuters.com/arc/outboundfeeds/sitemap/?outputType=xml&from=4100',\n",
       "  'lastmod': '2023-02-28T05:45:29.634Z'},\n",
       " {'loc': 'https://www.reuters.com/arc/outboundfeeds/sitemap/?outputType=xml&from=4200',\n",
       "  'lastmod': '2023-02-28T05:45:29.634Z'},\n",
       " {'loc': 'https://www.reuters.com/arc/outboundfeeds/sitemap/?outputType=xml&from=4300',\n",
       "  'lastmod': '2023-02-28T05:45:29.634Z'},\n",
       " {'loc': 'https://www.reuters.com/arc/outboundfeeds/sitemap/?outputType=xml&from=4400',\n",
       "  'lastmod': '2023-02-28T05:45:29.634Z'},\n",
       " {'loc': 'https://www.reuters.com/arc/outboundfeeds/sitemap/?outputType=xml&from=4500',\n",
       "  'lastmod': '2023-02-28T05:45:29.634Z'},\n",
       " {'loc': 'https://www.reuters.com/arc/outboundfeeds/sitemap/?outputType=xml&from=4600',\n",
       "  'lastmod': '2023-02-28T05:45:29.634Z'},\n",
       " {'loc': 'https://www.reuters.com/arc/outboundfeeds/sitemap/?outputType=xml&from=4700',\n",
       "  'lastmod': '2023-02-28T05:45:29.634Z'},\n",
       " {'loc': 'https://www.reuters.com/arc/outboundfeeds/sitemap/?outputType=xml&from=4800',\n",
       "  'lastmod': '2023-02-28T05:45:29.634Z'},\n",
       " {'loc': 'https://www.reuters.com/arc/outboundfeeds/sitemap/?outputType=xml&from=4900',\n",
       "  'lastmod': '2023-02-28T05:45:29.634Z'},\n",
       " {'loc': 'https://www.reuters.com/arc/outboundfeeds/sitemap/?outputType=xml&from=5000',\n",
       "  'lastmod': '2023-02-28T05:45:29.634Z'},\n",
       " {'loc': 'https://www.reuters.com/arc/outboundfeeds/sitemap/?outputType=xml&from=5100',\n",
       "  'lastmod': '2023-02-28T05:45:29.634Z'},\n",
       " {'loc': 'https://www.reuters.com/arc/outboundfeeds/sitemap/?outputType=xml&from=5200',\n",
       "  'lastmod': '2023-02-28T05:45:29.634Z'},\n",
       " {'loc': 'https://www.reuters.com/arc/outboundfeeds/sitemap/?outputType=xml&from=5300',\n",
       "  'lastmod': '2023-02-28T05:45:29.634Z'},\n",
       " {'loc': 'https://www.reuters.com/arc/outboundfeeds/sitemap/?outputType=xml&from=5400',\n",
       "  'lastmod': '2023-02-28T05:45:29.634Z'},\n",
       " {'loc': 'https://www.reuters.com/arc/outboundfeeds/sitemap/?outputType=xml&from=5500',\n",
       "  'lastmod': '2023-02-28T05:45:29.634Z'},\n",
       " {'loc': 'https://www.reuters.com/arc/outboundfeeds/sitemap/?outputType=xml&from=5600',\n",
       "  'lastmod': '2023-02-28T05:45:29.634Z'},\n",
       " {'loc': 'https://www.reuters.com/arc/outboundfeeds/sitemap/?outputType=xml&from=5700',\n",
       "  'lastmod': '2023-02-28T05:45:29.634Z'},\n",
       " {'loc': 'https://www.reuters.com/arc/outboundfeeds/sitemap/?outputType=xml&from=5800',\n",
       "  'lastmod': '2023-02-28T05:45:29.634Z'},\n",
       " {'loc': 'https://www.reuters.com/arc/outboundfeeds/sitemap/?outputType=xml&from=5900',\n",
       "  'lastmod': '2023-02-28T05:45:29.634Z'},\n",
       " {'loc': 'https://www.reuters.com/arc/outboundfeeds/sitemap/?outputType=xml&from=6000',\n",
       "  'lastmod': '2023-02-28T05:45:29.634Z'},\n",
       " {'loc': 'https://www.reuters.com/arc/outboundfeeds/sitemap/?outputType=xml&from=6100',\n",
       "  'lastmod': '2023-02-28T05:45:29.634Z'},\n",
       " {'loc': 'https://www.reuters.com/arc/outboundfeeds/sitemap/?outputType=xml&from=6200',\n",
       "  'lastmod': '2023-02-28T05:45:29.634Z'},\n",
       " {'loc': 'https://www.reuters.com/arc/outboundfeeds/sitemap/?outputType=xml&from=6300',\n",
       "  'lastmod': '2023-02-28T05:45:29.634Z'},\n",
       " {'loc': 'https://www.reuters.com/arc/outboundfeeds/sitemap/?outputType=xml&from=6400',\n",
       "  'lastmod': '2023-02-28T05:45:29.634Z'},\n",
       " {'loc': 'https://www.reuters.com/arc/outboundfeeds/sitemap/?outputType=xml&from=6500',\n",
       "  'lastmod': '2023-02-28T05:45:29.634Z'},\n",
       " {'loc': 'https://www.reuters.com/arc/outboundfeeds/sitemap/?outputType=xml&from=6600',\n",
       "  'lastmod': '2023-02-28T05:45:29.634Z'},\n",
       " {'loc': 'https://www.reuters.com/arc/outboundfeeds/sitemap/?outputType=xml&from=6700',\n",
       "  'lastmod': '2023-02-28T05:45:29.634Z'},\n",
       " {'loc': 'https://www.reuters.com/arc/outboundfeeds/sitemap/?outputType=xml&from=6800',\n",
       "  'lastmod': '2023-02-28T05:45:29.634Z'},\n",
       " {'loc': 'https://www.reuters.com/arc/outboundfeeds/sitemap/?outputType=xml&from=6900',\n",
       "  'lastmod': '2023-02-28T05:45:29.634Z'},\n",
       " {'loc': 'https://www.reuters.com/arc/outboundfeeds/sitemap/?outputType=xml&from=7000',\n",
       "  'lastmod': '2023-02-28T05:45:29.634Z'},\n",
       " {'loc': 'https://www.reuters.com/arc/outboundfeeds/sitemap/?outputType=xml&from=7100',\n",
       "  'lastmod': '2023-02-28T05:45:29.634Z'},\n",
       " {'loc': 'https://www.reuters.com/arc/outboundfeeds/sitemap/?outputType=xml&from=7200',\n",
       "  'lastmod': '2023-02-28T05:45:29.634Z'},\n",
       " {'loc': 'https://www.reuters.com/arc/outboundfeeds/sitemap/?outputType=xml&from=7300',\n",
       "  'lastmod': '2023-02-28T05:45:29.634Z'},\n",
       " {'loc': 'https://www.reuters.com/arc/outboundfeeds/sitemap/?outputType=xml&from=7400',\n",
       "  'lastmod': '2023-02-28T05:45:29.634Z'},\n",
       " {'loc': 'https://www.reuters.com/arc/outboundfeeds/sitemap/?outputType=xml&from=7500',\n",
       "  'lastmod': '2023-02-28T05:45:29.634Z'},\n",
       " {'loc': 'https://www.reuters.com/arc/outboundfeeds/sitemap/?outputType=xml&from=7600',\n",
       "  'lastmod': '2023-02-28T05:45:29.634Z'},\n",
       " {'loc': 'https://www.reuters.com/arc/outboundfeeds/sitemap/?outputType=xml&from=7700',\n",
       "  'lastmod': '2023-02-28T05:45:29.634Z'},\n",
       " {'loc': 'https://www.reuters.com/arc/outboundfeeds/sitemap/?outputType=xml&from=7800',\n",
       "  'lastmod': '2023-02-28T05:45:29.634Z'},\n",
       " {'loc': 'https://www.reuters.com/arc/outboundfeeds/sitemap/?outputType=xml&from=7900',\n",
       "  'lastmod': '2023-02-28T05:45:29.634Z'},\n",
       " {'loc': 'https://www.reuters.com/arc/outboundfeeds/sitemap/?outputType=xml&from=8000',\n",
       "  'lastmod': '2023-02-28T05:45:29.634Z'},\n",
       " {'loc': 'https://www.reuters.com/arc/outboundfeeds/sitemap/?outputType=xml&from=8100',\n",
       "  'lastmod': '2023-02-28T05:45:29.634Z'},\n",
       " {'loc': 'https://www.reuters.com/arc/outboundfeeds/sitemap/?outputType=xml&from=8200',\n",
       "  'lastmod': '2023-02-28T05:45:29.634Z'},\n",
       " {'loc': 'https://www.reuters.com/arc/outboundfeeds/sitemap/?outputType=xml&from=8300',\n",
       "  'lastmod': '2023-02-28T05:45:29.634Z'},\n",
       " {'loc': 'https://www.reuters.com/arc/outboundfeeds/sitemap/?outputType=xml&from=8400',\n",
       "  'lastmod': '2023-02-28T05:45:29.634Z'},\n",
       " {'loc': 'https://www.reuters.com/arc/outboundfeeds/sitemap/?outputType=xml&from=8500',\n",
       "  'lastmod': '2023-02-28T05:45:29.634Z'},\n",
       " {'loc': 'https://www.reuters.com/arc/outboundfeeds/sitemap/?outputType=xml&from=8600',\n",
       "  'lastmod': '2023-02-28T05:45:29.634Z'},\n",
       " {'loc': 'https://www.reuters.com/arc/outboundfeeds/sitemap/?outputType=xml&from=8700',\n",
       "  'lastmod': '2023-02-28T05:45:29.634Z'},\n",
       " {'loc': 'https://www.reuters.com/arc/outboundfeeds/sitemap/?outputType=xml&from=8800',\n",
       "  'lastmod': '2023-02-28T05:45:29.634Z'},\n",
       " {'loc': 'https://www.reuters.com/arc/outboundfeeds/sitemap/?outputType=xml&from=8900',\n",
       "  'lastmod': '2023-02-28T05:45:29.634Z'},\n",
       " {'loc': 'https://www.reuters.com/arc/outboundfeeds/sitemap/?outputType=xml&from=9000',\n",
       "  'lastmod': '2023-02-28T05:45:29.634Z'},\n",
       " {'loc': 'https://www.reuters.com/arc/outboundfeeds/sitemap/?outputType=xml&from=9100',\n",
       "  'lastmod': '2023-02-28T05:45:29.634Z'},\n",
       " {'loc': 'https://www.reuters.com/arc/outboundfeeds/sitemap/?outputType=xml&from=9200',\n",
       "  'lastmod': '2023-02-28T05:45:29.634Z'},\n",
       " {'loc': 'https://www.reuters.com/arc/outboundfeeds/sitemap/?outputType=xml&from=9300',\n",
       "  'lastmod': '2023-02-28T05:45:29.634Z'},\n",
       " {'loc': 'https://www.reuters.com/arc/outboundfeeds/sitemap/?outputType=xml&from=9400',\n",
       "  'lastmod': '2023-02-28T05:45:29.634Z'},\n",
       " {'loc': 'https://www.reuters.com/arc/outboundfeeds/sitemap/?outputType=xml&from=9500',\n",
       "  'lastmod': '2023-02-28T05:45:29.634Z'}]"
      ]
     },
     "execution_count": 57,
     "metadata": {},
     "output_type": "execute_result"
    }
   ],
   "source": [
    "sitemaps['sitemapindex']['sitemap']"
   ]
  },
  {
   "cell_type": "code",
   "execution_count": 62,
   "id": "5fa3a767-31b9-4ae5-981b-58e65f3bf4af",
   "metadata": {
    "scrolled": true,
    "tags": []
   },
   "outputs": [],
   "source": [
    "sitemap_urls = [url_list['loc'] for url_list in sitemaps['sitemapindex']['sitemap']]"
   ]
  },
  {
   "cell_type": "code",
   "execution_count": 63,
   "id": "e21facea-8df6-4584-9807-1d92b91046c2",
   "metadata": {
    "scrolled": true,
    "tags": []
   },
   "outputs": [
    {
     "data": {
      "text/plain": [
       "{'urlset': {'@xmlns': 'http://www.sitemaps.org/schemas/sitemap/0.9',\n",
       "  '@xmlns:image': 'http://www.google.com/schemas/sitemap-image/1.1',\n",
       "  'url': [{'loc': 'https://www.reuters.com/markets/europe/bayer-sees-lower-2023-operating-profit-cost-inflation-2023-02-28/',\n",
       "    'lastmod': '2023-02-28T06:40:09.829Z'},\n",
       "   {'loc': 'https://www.reuters.com/business/finance/oaktree-capital-seeks-raise-10-billion-new-fund-ft-2023-02-28/',\n",
       "    'lastmod': '2023-02-28T06:38:40.936Z',\n",
       "    'image:image': {'image:loc': 'https://www.reuters.com/resizer/5zRamS0u6csGtW5TJ0sqY6WgyZ0=/cloudfront-us-east-2.images.arcpublishing.com/reuters/2OSJ6HHYURLMHMKSUSZGJRYYBE.jpg',\n",
       "     'image:caption': 'A picture illustration shows U.S. 100-dollar bank notes taken in Tokyo August 2, 2011. REUTERS/Yuriko Nakao/File Photo'}},\n",
       "   {'loc': 'https://www.reuters.com/markets/europe/global-markets-view-europe-2023-02-28/',\n",
       "    'lastmod': '2023-02-28T06:30:51.395Z',\n",
       "    'image:image': {'image:loc': 'https://www.reuters.com/resizer/VAhiE2wIqGF42htLlOrAm5QKpbA=/cloudfront-us-east-2.images.arcpublishing.com/reuters/HJX63HRYZNJLJGAQPOSEHQV45M.jpg',\n",
       "     'image:caption': 'The German share price index DAX graph is pictured at the stock exchange in Frankfurt, Germany, February 27, 2023.    REUTERS/Staff'}},\n",
       "   {'loc': 'https://www.reuters.com/business/retail-consumer/home-zara-fast-slow-fashion-collide-2023-02-28/',\n",
       "    'lastmod': '2023-02-28T06:29:10.080Z',\n",
       "    'image:image': {'image:loc': 'https://www.reuters.com/resizer/bJSj22xxE8PlHfv9BLCLGhzVVyw=/cloudfront-us-east-2.images.arcpublishing.com/reuters/E4WVOANN2FJD3GHH354WDLWAJY.jpg',\n",
       "     'image:caption': 'Marian Fernandez, 56, a former employee of Inditex, rearranges clothes at her fashion store Maazi from where she also posts weekly videos on social media on how to build a \"responsible\" wardrobe, in downtown A Coruna, in northern Spain, November 18, 2022. REUTERS/Miguel Vidal'}},\n",
       "   {'loc': 'https://www.reuters.com/lifestyle/sports/england-captain-stokes-has-no-regrets-over-follow-on-2023-02-28/',\n",
       "    'lastmod': '2023-02-28T06:26:54.194Z',\n",
       "    'image:image': {'image:loc': 'https://www.reuters.com/resizer/m7GctcOQu6P4s9HnNdxIuFeioa0=/cloudfront-us-east-2.images.arcpublishing.com/reuters/G6JUG4WIQZLDBNDIT22G33N3X4.jpg',\n",
       "     'image:caption': \"Cricket - Third Test - Pakistan v England - National Stadium Karachi, Pakistan - December 18, 2022. England's captain Ben Stokes plays a shot. REUTERS/Akhtar Soomro\"}},\n",
       "   {'loc': 'https://www.reuters.com/markets/asia/indias-adani-plans-repay-up-790-mln-share-backed-loans-by-march-sources-2023-02-28/',\n",
       "    'lastmod': '2023-02-28T06:21:06.075Z',\n",
       "    'image:image': {'image:loc': 'https://www.reuters.com/resizer/a2doJR0omcTx6uwq9C_jTtZmVJ8=/cloudfront-us-east-2.images.arcpublishing.com/reuters/JH4MQEC6AFO6ZJLJGIKSPW5BVE.jpg',\n",
       "     'image:caption': 'The logo of the Adani Group is seen on one of its buildings in Ahmedabad, India, January  27, 2023. REUTERS/Amit Dave/File Photo'}},\n",
       "   {'loc': 'https://www.reuters.com/lifestyle/sports/smith-says-australia-batsmen-will-ditch-risky-tempo-third-test-2023-02-28/',\n",
       "    'lastmod': '2023-02-28T06:20:34.667Z',\n",
       "    'image:image': {'image:loc': 'https://www.reuters.com/resizer/2cWcgEBQk76fY6y7ykj-u_u8zjk=/cloudfront-us-east-2.images.arcpublishing.com/reuters/OFBMDNLZAVN3DJZMY4NS5SU7OI.jpg',\n",
       "     'image:caption': \"Cricket - Second Test - India v Australia - Arun Jaitley Stadium, New Delhi, India - February 19, 2023 India's Ravichandran Ashwin celebrates with teammates after taking the wicket of Australia's Steve Smith REUTERS/Anushree Fadnavis\"}},\n",
       "   {'loc': 'https://www.reuters.com/technology/cryptoverse-bitcoin-moves-towards-satoshis-payment-dream-2023-02-28/',\n",
       "    'lastmod': '2023-02-28T06:18:49.097Z',\n",
       "    'image:image': {'image:loc': 'https://www.reuters.com/resizer/tCz1y725PqDry9P0Mz8CqLGCD04=/cloudfront-us-east-2.images.arcpublishing.com/reuters/ITNSLRU3KFLP7ABJFCV4MG6BBY.jpg',\n",
       "     'image:caption': 'A representation of the virtual cryptocurrency Bitcoin is seen in this picture illustration taken October 19, 2021. REUTERS/Edgar Su'}},\n",
       "   {'loc': 'https://www.reuters.com/markets/europe/ecb-has-started-win-inflation-fight-lane-says-2023-02-28/',\n",
       "    'lastmod': '2023-02-28T06:14:49.005Z',\n",
       "    'image:image': {'image:loc': 'https://www.reuters.com/resizer/fLeOxFQBPtitJj6Cz5Tr1rM068M=/cloudfront-us-east-2.images.arcpublishing.com/reuters/JP4IDHJM2VIUJM3PEYDOWATVO4.jpg',\n",
       "     'image:caption': 'European Central Bank Chief Economist Philip Lane speaks during a Reuters Newsmaker event in New York, U.S., September 27, 2019. REUTERS/Gary He'}},\n",
       "   {'loc': 'https://www.reuters.com/markets/rates-bonds/banks-pile-into-euro-zone-bond-sales-rates-shoot-up-2023-02-28/',\n",
       "    'lastmod': '2023-02-28T06:11:11.460Z',\n",
       "    'image:image': {'image:loc': 'https://www.reuters.com/resizer/yNnxDeA1oGB9EJ-3P80ArE19kI4=/cloudfront-us-east-2.images.arcpublishing.com/reuters/F2WJJGVKQFNFLCDHTPW3RDC76A.jpg',\n",
       "     'image:caption': 'One Euro coins are seen in this illustration taken November 9, 2021. REUTERS/Dado Ruvic/Illustration'}},\n",
       "   {'loc': 'https://www.reuters.com/business/adecco-sees-signs-hiring-slowdown-start-2023-2023-02-28/',\n",
       "    'lastmod': '2023-02-28T06:11:01.202Z',\n",
       "    'image:image': {'image:loc': 'https://www.reuters.com/resizer/-zq6VgCGaz5afNgMnGDv4zjN7mY=/cloudfront-us-east-2.images.arcpublishing.com/reuters/57UJRAN7QJJTDFWRWN4EWVBYVY.jpg',\n",
       "     'image:caption': 'Adecco logo is seen displayed in this illustration taken, May 3, 2022. REUTERS/Dado Ruvic/Illustration'}},\n",
       "   {'loc': 'https://www.reuters.com/world/us/tennessee-meat-plant-workers-reach-12-mln-settlement-over-2018-raid-2023-02-28/',\n",
       "    'lastmod': '2023-02-28T06:09:05.129Z'},\n",
       "   {'loc': 'https://www.reuters.com/markets/asia/china-income-spending-per-capita-grow-over-2022-national-bureau-statistics-2023-02-28/',\n",
       "    'lastmod': '2023-02-28T06:01:30.654Z',\n",
       "    'image:image': {'image:loc': 'https://www.reuters.com/resizer/HLOGxQP0TP3j-vzL5mHzXqcDqr0=/cloudfront-us-east-2.images.arcpublishing.com/reuters/JIGF575IKZNENL5HADWUWHFGGA.jpg',\n",
       "     'image:caption': \"A view of the city skyline, ahead of the annual National People's Congress (NPC), in Shanghai, China February 24, 2022. REUTERS/Aly Song\"}},\n",
       "   {'loc': 'https://www.reuters.com/world/asia-pacific/la-nina-wet-weather-system-near-its-end-australian-weather-bureau-2023-02-28/',\n",
       "    'lastmod': '2023-02-28T05:59:14.307Z'},\n",
       "   {'loc': 'https://www.reuters.com/lifestyle/sports/nhl-roundup-connor-mcdavids-49th-50th-goals-cant-stop-bruins-2023-02-28/',\n",
       "    'lastmod': '2023-02-28T06:11:33.361Z',\n",
       "    'image:image': {'image:loc': 'https://www.reuters.com/resizer/fHCPK0_ajqynlni45yWtIjhcwmw=/cloudfront-us-east-2.images.arcpublishing.com/reuters/SMNSY7TZPVOO3HLUA6H7AE6XV4.jpg',\n",
       "     'image:caption': 'Feb 27, 2023; Edmonton, Alberta, CAN; Edmonton Oilers forward Connor McDavid (97) carries the puck around Boston Bruins forward Patrice Bergeron (37) during the third period at Rogers Place. Mandatory Credit: Perry Nelson-USA TODAY Sports'}},\n",
       "   {'loc': 'https://www.reuters.com/lifestyle/sports/new-zealand-skipper-southee-hails-test-win-ages-2023-02-28/',\n",
       "    'lastmod': '2023-02-28T05:45:29.634Z',\n",
       "    'image:image': {'image:loc': 'https://www.reuters.com/resizer/1Xu-k6r9JOoIcaqq8VqVz2C79xw=/cloudfront-us-east-2.images.arcpublishing.com/reuters/DRETUTZGUZN5DE5GYJEOH24YG4.jpg',\n",
       "     'image:caption': \"Cricket - Third Test - England v New Zealand - Yorkshire Cricket Ground, Leeds, Britain - June 24, 2022 New Zealand's Tim Southee celebrates after taking the wicket of England's Joe Root Action Images via Reuters/Lee Smith\"}},\n",
       "   {'loc': 'https://www.reuters.com/world/china/chinas-birth-rate-slumps-political-advisor-urges-egg-freezing-single-women-2023-02-28/',\n",
       "    'lastmod': '2023-02-28T05:51:22.421Z',\n",
       "    'image:image': {'image:loc': 'https://www.reuters.com/resizer/FqT5sRSAXwnb2fo-yUxBqSMyTKU=/cloudfront-us-east-2.images.arcpublishing.com/reuters/ML4HRCXNGZOG5OEHTI5M7XHTE4.jpg',\n",
       "     'image:caption': \"Newborn babies sleep in a ward at a hospital in Hefei, in China's Anhui province. Picture taken April 21, 2011. REUTERS/Stringer/File Photo\"}},\n",
       "   {'loc': 'https://www.reuters.com/lifestyle/sports/tough-see-alcaraz-playing-acapulco-says-coach-2023-02-28/',\n",
       "    'lastmod': '2023-02-28T05:41:09.028Z',\n",
       "    'image:image': {'image:loc': 'https://www.reuters.com/resizer/_G622_nj8nt6znlr4kpB6-egRVM=/cloudfront-us-east-2.images.arcpublishing.com/reuters/QW4XTRBCNBNIRLRUKWGOGE4ELQ.jpg',\n",
       "     'image:caption': \"Tennis - ATP 500 - Rio Open - Jockey Club Brasileiro, Rio De Janeiro, Brazil - February 26, 2023 Spain's Carlos Alcaraz in action during his final match against Britain's Cameron Norrie REUTERS/Sergio Moraes\"}},\n",
       "   {'loc': 'https://www.reuters.com/world/moscow-accuses-us-preparing-toxic-chemicals-provocation-ukraine-2023-02-28/',\n",
       "    'lastmod': '2023-02-28T05:38:59.538Z',\n",
       "    'image:image': {'image:loc': 'https://www.reuters.com/resizer/xeihuhRR_PJZT3Xb64ot2VCHQEc=/cloudfront-us-east-2.images.arcpublishing.com/reuters/5QGRD754TFJOBIB34PHANRPZGI.jpg',\n",
       "     'image:caption': \"Ukrainian servicemen use a searchlight as they search for drones in the sky over the city during a Russian drone strike, amid Russia's attack on Ukraine, in Kyiv, Ukraine February 27, 2023. REUTERS/Gleb Garanich\"}},\n",
       "   {'loc': 'https://www.reuters.com/business/finance/goldman-sachs-seen-unveiling-medium-term-goals-investor-day-2023-02-28/',\n",
       "    'lastmod': '2023-02-28T06:09:25.067Z',\n",
       "    'image:image': {'image:loc': 'https://www.reuters.com/resizer/bylApbDAKzJXU7QIHl1e_Q_6pmU=/cloudfront-us-east-2.images.arcpublishing.com/reuters/SFSAO55F3BNIJFBGBQX2QB34CI.jpg',\n",
       "     'image:caption': 'The logo for Goldman Sachs is seen on the trading floor at the New York Stock Exchange (NYSE) in New York City, New York, U.S., November 17, 2021. REUTERS/Andrew Kelly/File Photo'}},\n",
       "   {'loc': 'https://www.reuters.com/breakingviews/chinas-li-auto-drives-fine-profit-line-2023-02-28/',\n",
       "    'lastmod': '2023-02-28T05:17:36.004Z',\n",
       "    'image:image': {'image:loc': 'https://www.reuters.com/resizer/Giz5TDkgjo476rw1wHyCEYF1lmA=/cloudfront-us-east-2.images.arcpublishing.com/reuters/ASBVTHVFBRCTFI27II32E2JRFI.jpg',\n",
       "     'image:caption': 'Li Xiang, founder and chief executive officer of Chinese electric vehicle (EV) maker Li Auto, speaks at a product launch event in Beijing, China May 25, 2021. Picture taken May 25, 2021. REUTERS/Yilei Sun'}},\n",
       "   {'loc': 'https://www.reuters.com/breakingviews/japan-posts-deal-will-test-interest-rate-optimism-2023-02-28/',\n",
       "    'lastmod': '2023-02-28T05:17:13.462Z',\n",
       "    'image:image': {'image:loc': 'https://www.reuters.com/resizer/JYecAIlXzFaquBiOnvAtx4KC_2w=/cloudfront-us-east-2.images.arcpublishing.com/reuters/7BUCXTMRK5FYHKWCYTA6SAYJQY.jpg',\n",
       "     'image:caption': 'A man walks past a logo of Japan Post Group at its headquarters in Tokyo, Japan, November 2, 2015.   REUTERS/Toru Hanai'}},\n",
       "   {'loc': 'https://www.reuters.com/markets/europe/germany-home-prices-sink-nearly-6-this-year-2023-02-28/',\n",
       "    'lastmod': '2023-02-28T05:16:37.913Z',\n",
       "    'image:image': {'image:loc': 'https://www.reuters.com/resizer/e1LVpNYv4ZPc58T0x23-hDjuLwE=/cloudfront-us-east-2.images.arcpublishing.com/reuters/UAZNEJUCI5J3HBFN44MVXAPXPM.jpg',\n",
       "     'image:caption': 'Facades of apartment buildings are pictured at Mitte district in Berlin, Germany, August 29, 2019.   REUTERS/Axel Schmidt'}},\n",
       "   {'loc': 'https://www.reuters.com/breakingviews/airtel-would-be-complex-saviour-paytm-2023-02-28/',\n",
       "    'lastmod': '2023-02-28T05:08:17.373Z',\n",
       "    'image:image': {'image:loc': 'https://www.reuters.com/resizer/vn4cdh1Q2Km-1GurcGzOTC-E-8M=/cloudfront-us-east-2.images.arcpublishing.com/reuters/ZQ6A6IVBDJI2JBNAVFM3ZZQN3U.jpg',\n",
       "     'image:caption': \"Gopal Vittal, Bharti Airtel's chief executive for India and South Asia listens to a question during a news conference in New Delhi, India July 10, 2017. REUTERS/Adnan Abidi\"}},\n",
       "   {'loc': 'https://www.reuters.com/business/autos-transportation/volkswagen-china-chief-visits-xinjiang-plant-sees-no-sign-forced-labour-2023-02-28/',\n",
       "    'lastmod': '2023-02-28T05:04:04.355Z',\n",
       "    'image:image': {'image:loc': 'https://www.reuters.com/resizer/VfFT5lIG7WPYwm5SE7-pttPYGGo=/cloudfront-us-east-2.images.arcpublishing.com/reuters/YMJPFT5G2NJP5IXLEZYGQN72Y4.jpg',\n",
       "     'image:caption': \"Ralf Brandstaetter, CEO of the Volkswagen Passenger Cars brand gestures in front of the revised logo of German carmaker Volkswagen AG during a preview of the world's biggest automaker at the international Frankfurt Motor Show IAA in Frankfurt, Germany September 9, 2019. REUTERS/Wolfgang Rattay\"}},\n",
       "   {'loc': 'https://www.reuters.com/world/europe/ex-kremlins-adviser-soviet-era-dissident-pavlovsky-dies-2023-02-28/',\n",
       "    'lastmod': '2023-02-28T04:54:45.973Z'},\n",
       "   {'loc': 'https://www.reuters.com/lifestyle/sports/brentfords-frank-says-abuse-directed-managers-is-disgrace-2023-02-28/',\n",
       "    'lastmod': '2023-02-28T04:53:20.987Z',\n",
       "    'image:image': {'image:loc': 'https://www.reuters.com/resizer/3wYxJsVzW7h_tQ7TjWybG0PIGR4=/cloudfront-us-east-2.images.arcpublishing.com/reuters/7POZ5JUOX5LFXJZSAFHKCKO7AQ.jpg',\n",
       "     'image:caption': 'Soccer Football - Premier League - Arsenal v Brentford - Emirates Stadium, London, Britain - February 11, 2023 Brentford manager Thomas Frank applauds fans after the match REUTERS/David Klein'}},\n",
       "   {'loc': 'https://www.reuters.com/lifestyle/sports/nba-roundup-hornets-win-again-lose-lamelo-ball-2023-02-28/',\n",
       "    'lastmod': '2023-02-28T04:43:20.848Z',\n",
       "    'image:image': {'image:loc': 'https://www.reuters.com/resizer/1gmKtZ6MJRH5Sii7duaboNQ-qpE=/cloudfront-us-east-2.images.arcpublishing.com/reuters/MYVSQ5IVMJNQJEA4TU4AQKP5TI.jpg',\n",
       "     'image:caption': 'Feb 27, 2023; Charlotte, North Carolina, USA; Detroit Pistons guard Killian Hayes (7) drives in past Charlotte Hornets forward JT Thor (21) during the second half at the Spectrum Center. Mandatory Credit: Sam Sharpe-USA TODAY Sports'}},\n",
       "   {'loc': 'https://www.reuters.com/lifestyle/giorgio-armani-offers-soft-fluid-winter-designs-milan-fashion-week-2023-02-26/',\n",
       "    'lastmod': '2023-02-28T06:24:56.364Z',\n",
       "    'image:image': {'image:loc': 'https://www.reuters.com/resizer/-GguIHUt4VgCNH5QwulsOcMDPFw=/cloudfront-us-east-2.images.arcpublishing.com/reuters/RVRC5XCOOFPRVMQV2RMDTVTSVI.jpg',\n",
       "     'image:caption': 'A model presents a creation from the Giorgio Armani Fall/Winter 2023/2024 collection during Fashion Week in Milan, Italy, February 26, 2023. Giorgio Armani/Handout via REUTERS'}},\n",
       "   {'loc': 'https://www.reuters.com/business/energy/thailands-indorama-ventures-scouts-acquisitions-europe-africa-ceo-2023-02-28/',\n",
       "    'lastmod': '2023-02-28T04:28:48.601Z',\n",
       "    'image:image': {'image:loc': 'https://www.reuters.com/resizer/tgD4XCoMvEFCFaDm8f2dovDc58A=/cloudfront-us-east-2.images.arcpublishing.com/reuters/RSD5KX72ZJPNBF5MPC6F6MAD64.jpg',\n",
       "     'image:caption': \"Thai chemicals company Indorama Ventures logo is seen at the company's headquarters in Bangkok, Thailand August 21, 2019. REUTERS/Chayut Setboonsarng\"}},\n",
       "   {'loc': 'https://www.reuters.com/lifestyle/sports/list-narrowest-victories-by-runs-tests-2023-02-28/',\n",
       "    'lastmod': '2023-02-28T04:18:30.993Z'},\n",
       "   {'loc': 'https://www.reuters.com/business/media-telecom/reuters-reporters-online-accounts-faked-approach-china-activists-2023-02-28/',\n",
       "    'lastmod': '2023-02-28T04:18:48.700Z',\n",
       "    'image:image': {'image:loc': 'https://www.reuters.com/resizer/rQ_SNNkHcThg-rihikiWxO_sepM=/cloudfront-us-east-2.images.arcpublishing.com/reuters/ESNE3UWDZJORJFH4ICHSXPY5PI.jpg',\n",
       "     'image:caption': 'The Chinese flag is seen across the Victoria Harbour during sunset, in Hong Kong, China October 12, 2022. REUTERS/Tyrone Siu/File Photo'}},\n",
       "   {'loc': 'https://www.reuters.com/world/us/us-needs-learn-all-black-history-biden-says-some-republicans-push-curbs-2023-02-27/',\n",
       "    'lastmod': '2023-02-28T04:10:43.881Z',\n",
       "    'image:image': {'image:loc': 'https://www.reuters.com/resizer/8w97fKeAhgDpawWl4Vs6t_0KhCA=/cloudfront-us-east-2.images.arcpublishing.com/reuters/6I4EBHWVSBJKLFQC7XHCFGUOYI.jpg',\n",
       "     'image:caption': 'FILE PHOTO:U.S. President Joe Biden speaks to the media before departing the White House in Washington, U.S., February 24, 2023. REUTERS/Evelyn Hockstein'}},\n",
       "   {'loc': 'https://www.reuters.com/lifestyle/sports/list-teams-that-won-test-after-follow-on-2023-02-28/',\n",
       "    'lastmod': '2023-02-28T04:04:50.289Z'},\n",
       "   {'loc': 'https://www.reuters.com/world/blinken-hold-talks-with-central-asian-nations-wake-ukraine-anniversary-2023-02-28/',\n",
       "    'lastmod': '2023-02-28T05:59:32.049Z',\n",
       "    'image:image': {'image:loc': 'https://www.reuters.com/resizer/ceo9DzDh2P46Pkh0OZkurMlePkY=/cloudfront-us-east-2.images.arcpublishing.com/reuters/PWTSHRS77ZNKFG67TOPI6QYQLM.jpg',\n",
       "     'image:caption': 'U.S Secretary of State Antony Blinken boards his airplane at Joint Base Andrews in Maryland on February 26, 2023, as he departs for travel to Astana, Kazakhstan, Tashkent, Uzbekistan and New Delhi, India. Olivier Douliery/Pool via REUTERS'}},\n",
       "   {'loc': 'https://www.reuters.com/lifestyle/sports/wimbledon-offers-best-chance-deep-run-grand-slam-murray-2023-02-28/',\n",
       "    'lastmod': '2023-02-28T03:32:05.429Z',\n",
       "    'image:image': {'image:loc': 'https://www.reuters.com/resizer/Mxpe79Tu42rVuVpNyHuTuoSeOcA=/cloudfront-us-east-2.images.arcpublishing.com/reuters/EM53YI4UFBP6FPCP4KG2SK4XNU.jpg',\n",
       "     'image:caption': \"Tennis - Australian Open - Melbourne Park, Melbourne, Australia - January 20, 2023 Britain's Andy Murray reacts during his second round match against Australia's Thanasi Kokkinakis REUTERS/Hannah Mckay\"}},\n",
       "   {'loc': 'https://www.reuters.com/lifestyle/sports/new-zealand-beat-england-by-one-run-second-test-level-series-1-1-2023-02-28/',\n",
       "    'lastmod': '2023-02-28T05:19:55.036Z',\n",
       "    'image:image': {'image:loc': 'https://www.reuters.com/resizer/otM2grxDkTIAA-Uy6weEWT7etkQ=/cloudfront-us-east-2.images.arcpublishing.com/reuters/5FAW4GGXYJL6RFQLAA3EMXT5NM.jpg',\n",
       "     'image:caption': \"Cricket - ICC World Test Championship Final - India v New Zealand - Rose Bowl, Southampton, Britain - June 23, 2021 New Zealand's Neil Wagner Action Images via Reuters/John Sibley\"}},\n",
       "   {'loc': 'https://www.reuters.com/business/finance/australias-regulator-sues-mercer-pension-fund-first-greenwashing-case-2023-02-28/',\n",
       "    'lastmod': '2023-02-28T03:23:11.990Z'},\n",
       "   {'loc': 'https://www.reuters.com/technology/rapidus-picks-northern-japans-chitose-semiconductor-plant-location-2023-02-28/',\n",
       "    'lastmod': '2023-02-28T06:37:46.630Z',\n",
       "    'image:image': {'image:loc': 'https://www.reuters.com/resizer/euHkWKJYja1E7iTj1beX9q3Y5RQ=/cloudfront-us-east-2.images.arcpublishing.com/reuters/3772FTGBHVNKDEK3WPTMF6CIRI.jpg',\n",
       "     'image:caption': 'The logo of Rapidus Corp. is displayed at the company headquarters in Tokyo, Japan February 2, 2023.  REUTERS/Issei Kato'}},\n",
       "   {'loc': 'https://www.reuters.com/lifestyle/sports/spring-training-roundup-emmanuel-rivera-d-backs-walk-off-cubs-2023-02-28/',\n",
       "    'lastmod': '2023-02-28T02:56:17.558Z',\n",
       "    'image:image': {'image:loc': 'https://www.reuters.com/resizer/LdRDnxn7I06I9J3buHlikDIgTJk=/cloudfront-us-east-2.images.arcpublishing.com/reuters/6LXPZ2QGOBJOBN4GBSII6H6GH4.jpg',\n",
       "     'image:caption': 'Feb 27, 2023; Salt River Pima-Maricopa, Arizona, USA;   Arizona Diamondbacks right fielder Dominic Canzone (80) makes a play off a ball hit by Arizona Diamondbacks second baseman Ketel Marte (4) in the fifth inning of a spring training game at Salt River Fields at Talking Stick. Mandatory Credit: Jayne Kamin-Oncea-USA TODAY Sports'}},\n",
       "   {'loc': 'https://www.reuters.com/world/europe/russian-offensive-eastern-ukraine-focused-bakhmut-2023-02-28/',\n",
       "    'lastmod': '2023-02-28T05:52:59.093Z',\n",
       "    'image:image': {'image:loc': 'https://www.reuters.com/resizer/-L3cAJe3_vEgHdcIkEODMwJdj2c=/cloudfront-us-east-2.images.arcpublishing.com/reuters/O4KWAXBWUJJRDPRIUTCX7VAU3Q.jpg',\n",
       "     'image:caption': \"Ukrainian service members are seen next an infantry fighting vehicle near the frontline town of Bakhmut, amid Russia's attack on Ukraine, in Donetsk region, Ukraine February 25, 2023. REUTERS/Yan Dobronosov\"}},\n",
       "   {'loc': 'https://www.reuters.com/markets/australia-limit-tax-breaks-multi-million-dollar-retirement-savings-2023-02-28/',\n",
       "    'lastmod': '2023-02-28T02:46:38.412Z',\n",
       "    'image:image': {'image:loc': 'https://www.reuters.com/resizer/AdBKaqluM2GTfcisxfJYOqRVVuI=/cloudfront-us-east-2.images.arcpublishing.com/reuters/EWBP6T5FERM4PIFVMMC465J6RE.jpg',\n",
       "     'image:caption': 'A view of the city skyline of Brisbane, the city expected to be announced as host for the 2032 Olympic Games, in Brisbane, Australia, July 4, 2021.   REUTERS/Jaimi Joy'}},\n",
       "   {'loc': 'https://www.reuters.com/world/us/us-marshals-service-suffers-major-security-breach-nbc-news-2023-02-28/',\n",
       "    'lastmod': '2023-02-28T03:14:37.593Z',\n",
       "    'image:image': {'image:loc': 'https://www.reuters.com/resizer/7aTwIeD6PHvlzjcoXts6fpP5Hi4=/cloudfront-us-east-2.images.arcpublishing.com/reuters/ZEYY7T3MDJM2DAVSKDORGP4ZFQ.jpg',\n",
       "     'image:caption': '3D printed models of people working on computers and padlock are seen in front of a displayed CYBER SECURITY words and binary code in this picture illustration taken, February 1, 2022. REUTERS/Dado Ruvic/Illustration'}},\n",
       "   {'loc': 'https://www.reuters.com/world/india/indian-shares-set-muted-start-us-rate-fears-ahead-domestic-gdp-data-2023-02-28/',\n",
       "    'lastmod': '2023-02-28T05:39:37.404Z',\n",
       "    'image:image': {'image:loc': 'https://www.reuters.com/resizer/bq3alU57K0DoBd4kxpvlXgnFdA4=/cloudfront-us-east-2.images.arcpublishing.com/reuters/YJCTHIAP5FJLTNY7AMAT4YWIX4.jpg',\n",
       "     'image:caption': 'A bird flies past the Bombay Stock Exchange (BSE) building in Mumbai, India, January 31, 2020. REUTERS/Francis Mascarenhas/File Photo'}},\n",
       "   {'loc': 'https://www.reuters.com/markets/global-markets-wrapup-1-2023-02-28/',\n",
       "    'lastmod': '2023-02-28T06:35:48.188Z',\n",
       "    'image:image': {'image:loc': 'https://www.reuters.com/resizer/OJa4mLXO3shQkPtfQehgD0pFHt4=/cloudfront-us-east-2.images.arcpublishing.com/reuters/2264NPC2YRKKVDQI4NXRZLUJPE.jpg',\n",
       "     'image:caption': \"Silhouettes of passerby are seen as they stand in front of an electric monitor displaying Japan's Nikkei share average and world stock indexes outside a brokerage in Tokyo, Japan, October 21, 2022  REUTERS/Issei Kato/File Photo\"}},\n",
       "   {'loc': 'https://www.reuters.com/world/us/florida-gov-desantis-signs-bill-asserting-state-oversight-land-around-walt-2023-02-27/',\n",
       "    'lastmod': '2023-02-28T02:19:33.529Z',\n",
       "    'image:image': {'image:loc': 'https://www.reuters.com/resizer/2ujET3AvPawfpC7uR0-sOjykt6Y=/cloudfront-us-east-2.images.arcpublishing.com/reuters/SWNTVMYIWVLADOEOOPXI5VPF7A.jpg',\n",
       "     'image:caption': 'A Walt Disney World photographer holds a Pride rainbow-coloured Mickey Mouse cutout before the \"Festival of Fantasy\" parade at the Walt Disney World Magic Kingdom theme park in Orlando, Florida, U.S. July 30, 2022.  REUTERS/Octavio Jones'}},\n",
       "   {'loc': 'https://www.reuters.com/business/sustainable-business/women-make-up-40-boards-top-uk-companies-first-time-2023-02-28/',\n",
       "    'lastmod': '2023-02-28T02:16:50.503Z',\n",
       "    'image:image': {'image:loc': 'https://www.reuters.com/resizer/y7vXQJWaQnOSoY4RkYof8khxog8=/cloudfront-us-east-2.images.arcpublishing.com/reuters/AERFVQZFCVKNTFUX73UNXFH4NE.jpg',\n",
       "     'image:caption': 'British Secretary of State for Trade and Industry Kemi Badenoch, walks outside Number 10 Downing Street, in London, Britain February 7, 2023. REUTERS/Toby Melville/File Photo'}},\n",
       "   {'loc': 'https://www.reuters.com/markets/asia/vietnams-factory-output-rises-february-exports-up-11-2023-02-28/',\n",
       "    'lastmod': '2023-02-28T03:47:16.816Z',\n",
       "    'image:image': {'image:loc': 'https://www.reuters.com/resizer/h1I3ZzDAFhYnyvB35HHY1-5BfjI=/cloudfront-us-east-2.images.arcpublishing.com/reuters/3GLJ26OXXFIILA66Z5Z7DACBRE.jpg',\n",
       "     'image:caption': 'Shipping containers are seen at a port in Hai Phong city, Vietnam July 12, 2018. REUTERS/Kham/File Photo'}},\n",
       "   {'loc': 'https://www.reuters.com/legal/litigation/ny-lawyer-sued-quiet-quitting-strikes-back-with-race-bias-lawsuit-2023-02-27/',\n",
       "    'lastmod': '2023-02-28T02:09:16.105Z',\n",
       "    'image:image': {'image:loc': 'https://www.reuters.com/resizer/-_hLDMg5GQ-fKOg7S4DyEzNktms=/cloudfront-us-east-2.images.arcpublishing.com/reuters/XKYBJDQ2YFLYZMFZYWBLG3NV5Q.jpg',\n",
       "     'image:caption': 'A woman is seen in silhouette as she walks at Fiumicino Airport, as Italy eases movement between regions, while the country unwinds its rigid lockdown due to the coronavirus disease (COVID-19) outbreak, in Rome, Italy June 3, 2020. REUTERS/Yara Nardi'}},\n",
       "   {'loc': 'https://www.reuters.com/business/energy/oil-steadies-after-fall-fear-rate-hikes-rising-inventories-2023-02-28/',\n",
       "    'lastmod': '2023-02-28T04:45:51.839Z',\n",
       "    'image:image': {'image:loc': 'https://www.reuters.com/resizer/Q6Cs4Hv6DaBWnWS6NBUcDga6xds=/cloudfront-us-east-2.images.arcpublishing.com/reuters/MYDUMURCC5IS7ETURJCXYNEG2A.jpg',\n",
       "     'image:caption': 'A view shows tankers in Nakhodka Bay near the crude oil terminal Kozmino outside the port city of Nakhodka, Russia June 13, 2022. REUTERS/Tatiana Meel'}},\n",
       "   {'loc': 'https://www.reuters.com/business/aerospace-defense/bae-systems-australia-unveils-first-homegrown-military-drone-2023-02-28/',\n",
       "    'lastmod': '2023-02-28T02:46:17.944Z',\n",
       "    'image:image': {'image:loc': 'https://www.reuters.com/resizer/W1kKc75poYB531eV0K65g78uNkA=/cloudfront-us-east-2.images.arcpublishing.com/reuters/ACCL5GPQFRMWXMOI47VUAG4JTU.jpg',\n",
       "     'image:caption': 'People take a look at a model of STRIX drone by BAE Systems Australia, at the Australian International Airshow, in Avalon, Australia February 28, 2023. REUTERS/Jamie Freed'}},\n",
       "   {'loc': 'https://www.reuters.com/world/us/us-awards-nearly-1-billion-airports-infrastructure-grants-2023-02-27/',\n",
       "    'lastmod': '2023-02-28T02:03:02.064Z',\n",
       "    'image:image': {'image:loc': 'https://www.reuters.com/resizer/4eVyx8zfntN-91rIQLObhKk5Azw=/cloudfront-us-east-2.images.arcpublishing.com/reuters/ZJ4OQHCDVFLLVL3R2GD4QVSXKI.jpg',\n",
       "     'image:caption': 'A woman walks on a travelator as travel has cutback amid concerns of the coronavirus disease (COVID-19), at Salt Lake City International Airport in Salt Lake City, Utah, U.S. April 14, 2020. REUTERS/Jim Urquhart'}},\n",
       "   {'loc': 'https://www.reuters.com/world/china/hong-kong-scrap-covid-mask-mandate-march-1-2023-02-28/',\n",
       "    'lastmod': '2023-02-28T03:23:59.879Z',\n",
       "    'image:image': {'image:loc': 'https://www.reuters.com/resizer/S-qRoSmzWEYcZf3fCFfCbuSbusA=/cloudfront-us-east-2.images.arcpublishing.com/reuters/HEVBTCV7AFKTLAZUJBGGK54BA4.jpg',\n",
       "     'image:caption': 'People wearing face masks walk through Wan Chai during the coronavirus disease (COVID-19) pandemic in Hong Kong, China, April 14, 2022. REUTERS/Tyrone Siu'}},\n",
       "   {'loc': 'https://www.reuters.com/markets/currencies/sterling-holds-gains-after-rising-uk-trade-deal-with-eu-2023-02-28/',\n",
       "    'lastmod': '2023-02-28T06:29:18.866Z',\n",
       "    'image:image': {'image:loc': 'https://www.reuters.com/resizer/RrK7yjSZPc5l_H6GYTySW02KFeI=/cloudfront-us-east-2.images.arcpublishing.com/reuters/2QLCF325EJIHTEFYZGAPU3LGJY.jpg',\n",
       "     'image:caption': 'Woman holds U.S. dollar banknotes in this illustration taken May 30, 2022. REUTERS/Dado Ruvic/Illustration/File Photo'}},\n",
       "   {'loc': 'https://www.reuters.com/business/us-crack-down-child-labor-amid-massive-uptick-2023-02-27/',\n",
       "    'lastmod': '2023-02-28T01:31:57.844Z',\n",
       "    'image:image': {'image:loc': 'https://www.reuters.com/resizer/9iry-aJuc6R9GHdkrXKMuoPCKMQ=/cloudfront-us-east-2.images.arcpublishing.com/reuters/BLI4XGAC5BPLDIGXLDWKRCJWSU.jpg',\n",
       "     'image:caption': 'The United States Department of Labor is seen in Washington, D.C., U.S., August 30, 2020. REUTERS/Andrew Kelly'}},\n",
       "   {'loc': 'https://www.reuters.com/lifestyle/orchestra-turns-trash-music-environmental-activism-bolivia-2023-02-28/',\n",
       "    'lastmod': '2023-02-28T01:25:30.098Z',\n",
       "    'image:image': {'image:loc': 'https://www.reuters.com/resizer/50dgfkOERD6c0-Aey5Fw3La2iXc=/cloudfront-us-east-2.images.arcpublishing.com/reuters/ZXURJCZGGVPX5GUIQAOY6XBSHY.jpg',\n",
       "     'image:caption': \"Women waste pickers from the city of La Paz pose near the musicians of the Paraguayan Cateura Recycled Instruments Orchestra, at the Sak'a Churu landfill in Alpacoma, in La Paz, Bolivia February 27, 2023. REUTERS/Claudia Morales\"}},\n",
       "   {'loc': 'https://www.reuters.com/markets/asia/boj-shouldnt-modify-easy-policy-address-costs-incoming-deputy-governor-uchida-2023-02-28/',\n",
       "    'lastmod': '2023-02-28T05:07:27.701Z',\n",
       "    'image:image': {'image:loc': 'https://www.reuters.com/resizer/zdUiC9fNbVXaWtpp-CxeflCJ0YA=/cloudfront-us-east-2.images.arcpublishing.com/reuters/YUNBVI3S6ZL3HIKUNIUOGUSAWE.jpg',\n",
       "     'image:caption': \"The Japanese government's nominee for the Bank of Japan (BOJ) Deputy Governor Shinichi Uchida speaks during a hearing session at the lower house of the parliament in Tokyo, Japan, February 24, 2023.  REUTERS/Issei Kato\"}},\n",
       "   {'loc': 'https://www.reuters.com/breakingviews/warren-buffetts-greatest-hits-lose-their-verve-2023-02-27/',\n",
       "    'lastmod': '2023-02-28T01:20:41.743Z',\n",
       "    'image:image': {'image:loc': 'https://www.reuters.com/resizer/RVxdrLUugOZ9g0DEDZZaTZ6KYS8=/cloudfront-us-east-2.images.arcpublishing.com/reuters/GNLBJR2KCNJUDOYJ6HNU5LXD7A.jpg',\n",
       "     'image:caption': \"Berkshire Hathaway Chairman Warren Buffett walks through the exhibit hall as shareholders gather to hear from the billionaire investor at Berkshire Hathaway Inc's annual shareholder meeting in Omaha, Nebraska, U.S., May 4, 2019. REUTERS/Scott Morgan/File Photo\"}},\n",
       "   {'loc': 'https://www.reuters.com/business/aerospace-defense/lockheed-martin-hopes-deliver-more-f-35s-australia-2023-02-28/',\n",
       "    'lastmod': '2023-02-28T05:11:02.741Z',\n",
       "    'image:image': {'image:loc': 'https://www.reuters.com/resizer/Ku9FWE8T4s1iMiG7syIHy6he0ag=/cloudfront-us-east-2.images.arcpublishing.com/reuters/O73CZ5HW6BPWBB5DU644RQ6EIM.jpg',\n",
       "     'image:caption': 'The logo of Lockheed Martin is seen at Euronaval, the world naval defence exhibition in Le Bourget near Paris, France, October 23, 2018. REUTERS/Benoit Tessier'}},\n",
       "   {'loc': 'https://www.reuters.com/lifestyle/sports/japan-anti-trust-authorities-seek-criminal-charges-against-dentsu-others-over-2023-02-28/',\n",
       "    'lastmod': '2023-02-28T03:45:23.360Z',\n",
       "    'image:image': {'image:loc': 'https://www.reuters.com/resizer/z37LhCQe5IlpgFCDnYxCcatqp9U=/cloudfront-us-east-2.images.arcpublishing.com/reuters/NSFIXAZR5BLMPIIKVTTAYQTCKM.jpg',\n",
       "     'image:caption': 'A woman, wearing a protective mask against COVID-19, walks past a wall bearing logo of Tokyo 2020 Olympic Games in Tokyo, Japan, July 29, 2021.   REUTERS/Kim Kyung-Hoon'}},\n",
       "   {'loc': 'https://www.reuters.com/world/asia-pacific/rust-belt-province-got-old-before-it-got-rich-much-china-will-2023-02-28/',\n",
       "    'lastmod': '2023-02-28T01:33:48.939Z',\n",
       "    'image:image': {'image:loc': 'https://www.reuters.com/resizer/bplR8ZWjXO2exglqUUz4pExzJZk=/cloudfront-us-east-2.images.arcpublishing.com/reuters/5J6WQOW4YVP47LTIKYAYUH4UAQ.jpg',\n",
       "     'image:caption': 'Farmer Wang Zhanling sits next to his wife in their house in Quansheng village, Heilongjiang Province, China, February 8, 2023. REUTERS/Thomas Peter'}},\n",
       "   {'loc': 'https://www.reuters.com/business/energy/japan-promote-gas-lng-hydrogen-investments-during-g7-presidency-meti-2023-02-28/',\n",
       "    'lastmod': '2023-02-28T01:11:59.362Z',\n",
       "    'image:image': {'image:loc': 'https://www.reuters.com/resizer/oLLK722u-k7rNkmfECprRLWcHNc=/cloudfront-us-east-2.images.arcpublishing.com/reuters/U3TCOHLZBVKH7CBD3THI3KKHYY.jpg',\n",
       "     'image:caption': 'A liquefied natural gas (LNG) tanker is tugged towards a thermal power station in Futtsu, east of Tokyo, Japan November 13, 2017. REUTERS/Issei Kato//File Photo'}},\n",
       "   {'loc': 'https://www.reuters.com/world/india/weak-global-demand-rate-hikes-may-curtail-india-growth-economists-2023-02-28/',\n",
       "    'lastmod': '2023-02-28T01:22:47.779Z',\n",
       "    'image:image': {'image:loc': 'https://www.reuters.com/resizer/afwmkMhskfHTYCYef7nhhVMDTaI=/cloudfront-us-east-2.images.arcpublishing.com/reuters/P3QMDN7YNFMHLPDA4MZW3VM6CM.jpg',\n",
       "     'image:caption': 'Labourers work at the construction site of a commercial building in New Delhi, India, December 13, 2022. REUTERS/Anushree Fadnavis'}},\n",
       "   {'loc': 'https://www.reuters.com/technology/elon-musk-recruits-team-develop-openai-rival-information-2023-02-28/',\n",
       "    'lastmod': '2023-02-28T01:41:22.618Z',\n",
       "    'image:image': {'image:loc': 'https://www.reuters.com/resizer/I4HvZm9f_dRl7gUuQ2S5scOBJ_8=/cloudfront-us-east-2.images.arcpublishing.com/reuters/DYHAI4MBSFLHVCZ27CLLBRCKVQ.jpg',\n",
       "     'image:caption': 'Tesla CEO Elon Musk arrives on the red carpet for the automobile awards \"Das Goldene Lenkrad\" (The golden steering wheel) given by a German newspaper in Berlin, Germany, November 12, 2019. REUTERS/Hannibal Hanschke/File Photo'}},\n",
       "   {'loc': 'https://www.reuters.com/world/new-zealand-businesses-less-pessimistic-february-anz-survey-2023-02-28/',\n",
       "    'lastmod': '2023-02-28T00:47:09.154Z'},\n",
       "   {'loc': 'https://www.reuters.com/markets/australias-current-account-surplus-widens-sharply-q4-2023-02-28/',\n",
       "    'lastmod': '2023-02-28T00:45:13.076Z'},\n",
       "   {'loc': 'https://www.reuters.com/world/us/house-committee-probe-epa-response-ohio-derailment-2023-02-28/',\n",
       "    'lastmod': '2023-02-28T00:41:52.293Z',\n",
       "    'image:image': {'image:loc': 'https://www.reuters.com/resizer/luFhjogHqIHiRd2c0hCbL0qIE24=/cloudfront-us-east-2.images.arcpublishing.com/reuters/WQ4LMYZ2IZOITJC72I35DEOH3I.jpg',\n",
       "     'image:caption': 'A general view as members of the U.S. Environmental Protection Agency (EPA) (not pictured) inspect the site of a train derailment of hazardous material in East Palestine, Ohio, U.S., February 16, 2023. REUTERS/Alan Freed'}},\n",
       "   {'loc': 'https://www.reuters.com/business/retail-consumer/australia-retail-sales-rebound-by-19-january-2023-02-28/',\n",
       "    'lastmod': '2023-02-28T01:28:26.099Z',\n",
       "    'image:image': {'image:loc': 'https://www.reuters.com/resizer/Hmol14STn_oDZxX0cJQND9FsZpI=/cloudfront-us-east-2.images.arcpublishing.com/reuters/VTUKXV2SGFOTBFWZB2E3PAPMBU.jpg',\n",
       "     'image:caption': 'FILE PHOTO - A shopper holds items and looks at others on sale at a clothing retail store in central Sydney, Australia, March 19, 2017. REUTERS/Steven Saphore/File Photo'}},\n",
       "   {'loc': 'https://www.reuters.com/business/aerospace-defense/boeing-says-great-news-if-mq-28-drone-can-partner-with-f-35-2023-02-28/',\n",
       "    'lastmod': '2023-02-28T04:09:35.642Z',\n",
       "    'image:image': {'image:loc': 'https://www.reuters.com/resizer/SnSR_8RTasEyrjF2TwmuCNy8nzY=/cloudfront-us-east-2.images.arcpublishing.com/reuters/5UWRBSCDRVIQHD6YSLPNCI3E7U.jpg',\n",
       "     'image:caption': 'A Boeing MQ-28 Ghost Bat fighter-like drone is kept on display at the Australian International Airshow, in Avalon, Australia February 28, 2023. REUTERS/Jamie Freed'}},\n",
       "   {'loc': 'https://www.reuters.com/technology/aclu-urges-us-lawmakers-not-ban-tiktok-2023-02-28/',\n",
       "    'lastmod': '2023-02-28T02:11:47.858Z',\n",
       "    'image:image': {'image:loc': 'https://www.reuters.com/resizer/BdbV_EcGROtWu7X4JftSavCq_8o=/cloudfront-us-east-2.images.arcpublishing.com/reuters/QTG5P3HXRZOWVO6LPYLY2JXKD4.jpg',\n",
       "     'image:caption': \"The TikTok logo is pictured outside the company's U.S. head office in Culver City, California, U.S.,  September 15, 2020.   REUTERS/Mike Blake/File Photo\"}},\n",
       "   {'loc': 'https://www.reuters.com/world/us/us-commerce-ask-companies-seeking-chips-funding-provide-childcare-employees-2023-02-28/',\n",
       "    'lastmod': '2023-02-28T03:52:39.781Z',\n",
       "    'image:image': {'image:loc': 'https://www.reuters.com/resizer/-1spoXcvU13-fQ1CxQwN3D7m9v4=/cloudfront-us-east-2.images.arcpublishing.com/reuters/DVZTRJ3DYJPCTEX6EFT3WHKYMM.jpg',\n",
       "     'image:caption': 'The Department of Commerce building is seen before an expected report of new home sales numbers in Washington, U.S., January 26, 2022.      REUTERS/Joshua Roberts'}},\n",
       "   {'loc': 'https://www.reuters.com/lifestyle/sports/cactus-league-roundup-emmanuel-rivera-d-backs-walk-off-cubs-2023-02-28/',\n",
       "    'lastmod': '2023-02-28T00:31:37.450Z',\n",
       "    'image:image': {'image:loc': 'https://www.reuters.com/resizer/s0Izqbu4UV_fb8rsi8jscjTwNLM=/cloudfront-us-east-2.images.arcpublishing.com/reuters/PTZ4BTVXHRO6PKZ6ZNLWKWGQ2U.jpg',\n",
       "     'image:caption': 'Feb 27, 2023; Mesa, Arizona, USA;  Cleveland Guardians center fielder Roman Quinn (4) celebrates after hitting a two-run home run in the second inning against the Chicago Cubs during a spring training game at Sloan Park. Mandatory Credit: Matt Kartozian-USA TODAY Sports'}},\n",
       "   {'loc': 'https://www.reuters.com/markets/deals/canadas-baytex-energy-nears-25-bln-deal-us-peer-ranger-oil-sources-2023-02-28/',\n",
       "    'lastmod': '2023-02-28T00:26:53.173Z'},\n",
       "   {'loc': 'https://www.reuters.com/markets/global-markets-view-asia-graphic-pix-2023-02-27/',\n",
       "    'lastmod': '2023-02-28T00:21:12.653Z',\n",
       "    'image:image': {'image:loc': 'https://www.reuters.com/resizer/tYm_EdKlZS8EmjXbwnoJNN5M8dg=/cloudfront-us-east-2.images.arcpublishing.com/reuters/OO5LT6YCHRKQHKS5JJIBQQV3FU.jpg',\n",
       "     'image:caption': 'A man on a bicycle stands in front of an electronic board showing Shanghai stock index, Nikkei share price index and  Dow Jones Industrial Average outside a brokerage in Tokyo, Japan September 22, 2022. REUTERS/Kim Kyung-Hoon'}},\n",
       "   {'loc': 'https://www.reuters.com/markets/asia/japans-factory-output-suffer-biggest-fall-8-months-2023-02-28/',\n",
       "    'lastmod': '2023-02-28T02:15:43.273Z',\n",
       "    'image:image': {'image:loc': 'https://www.reuters.com/resizer/NT4istljvyK9i_UCOA9LJvlJIz0=/cloudfront-us-east-2.images.arcpublishing.com/reuters/HYIY6HRDWRO4BBK6XZU6VGLF2Y.jpg',\n",
       "     'image:caption': 'A worker checks machinery at a factory in Higashiosaka, Japan June 23, 2022.  REUTERS/Sakura Murakami'}},\n",
       "   {'loc': 'https://www.reuters.com/lifestyle/sports/england-90-runs-victory-after-roots-steadying-half-century-2023-02-28/',\n",
       "    'lastmod': '2023-02-28T00:17:48.627Z',\n",
       "    'image:image': {'image:loc': 'https://www.reuters.com/resizer/k61VGYL77NPc6XXSwjOR4WEG3K4=/cloudfront-us-east-2.images.arcpublishing.com/reuters/PQGLUQQ6TBNSPPPYPBBIJTFQXY.jpg',\n",
       "     'image:caption': \"Cricket - Third Test - England v South Africa - The Oval, London, Britain - September 11, 2022 England's Joe Root Action Images via Reuters/Andrew Boyers\"}},\n",
       "   {'loc': 'https://www.reuters.com/business/healthcare-pharmaceuticals/eisai-biogen-say-alzheimers-drug-lecanemab-getting-priority-review-china-2023-02-28/',\n",
       "    'lastmod': '2023-02-28T00:17:03.831Z',\n",
       "    'image:image': {'image:loc': 'https://www.reuters.com/resizer/ssgib9MMRguFTlTYNGnOUsZQyvY=/cloudfront-us-east-2.images.arcpublishing.com/reuters/YE3A3VZH7NJOJNACU5TR4EMS2I.jpg',\n",
       "     'image:caption': 'The logo of Eisai Co Ltd is displayed at the company headquarters in Tokyo, Japan, March 8, 2018. REUTERS/Issei Kato'}},\n",
       "   {'loc': 'https://www.reuters.com/world/uk/uks-hunt-has-extra-30-bln-pounds-play-with-march-budget-ifs-2023-02-28/',\n",
       "    'lastmod': '2023-02-28T00:16:14.819Z',\n",
       "    'image:image': {'image:loc': 'https://www.reuters.com/resizer/3lg_22eYmsQ8FAimsD3O-HUCrnw=/cloudfront-us-east-2.images.arcpublishing.com/reuters/AULJRV26VJLFRLL6PBUBHH76EU.jpg',\n",
       "     'image:caption': 'British Chancellor of the Exchequer Jeremy Hunt talks to a television crew outside the BBC headquarters in London, Britain November 18, 2022. REUTERS/Henry Nicholls'}},\n",
       "   {'loc': 'https://www.reuters.com/business/energy/petroecuador-finish-contingency-work-sote-pipeline-tuesday-2023-02-28/',\n",
       "    'lastmod': '2023-02-28T00:08:12.093Z',\n",
       "    'image:image': {'image:loc': 'https://www.reuters.com/resizer/Oknx2xr63Q8xHi8umZlOIBBhdSs=/cloudfront-us-east-2.images.arcpublishing.com/reuters/B52FQQHNOVL7DBJHGS63Z3IWYY.jpg',\n",
       "     'image:caption': \"A view shows the Ecuador's state-run Esmeraldas refinery complex in Esmeraldas, Ecuador, August 15, 2017, REUTERS/Daniel Tapia/File Photo\"}},\n",
       "   {'loc': 'https://www.reuters.com/business/mental-health-startup-cerebral-lay-off-about-15-workforce-2023-02-28/',\n",
       "    'lastmod': '2023-02-28T00:05:22.704Z'},\n",
       "   {'loc': 'https://www.reuters.com/business/aerospace-defense/lockheeds-himars-plant-gearing-up-meet-demand-after-ukraine-success-2023-02-28/',\n",
       "    'lastmod': '2023-02-28T00:01:39.676Z',\n",
       "    'image:image': {'image:loc': 'https://www.reuters.com/resizer/cABbNCkbZxHkYorkws9Dadd-R5w=/cloudfront-us-east-2.images.arcpublishing.com/reuters/DHZLKNL55JLTHFOQQWNU52UL34.jpg',\n",
       "     'image:caption': 'A HIMARS (High Mobility Artillery Rocket System) missile launcher climbs a 60-degree ramp on a test track at Lockheed Martin Camden Operations in Camden, Arkansas, U.S., February 27, 2023. REUTERS/Kevin Lamarque'}},\n",
       "   {'loc': 'https://www.reuters.com/world/americas/massive-forest-fires-rage-eastern-cuba-2023-02-27/',\n",
       "    'lastmod': '2023-02-27T23:44:19.279Z',\n",
       "    'image:image': {'image:loc': 'https://www.reuters.com/resizer/VMOfCnNKwQG1Ffp2U2V8TOiD3NI=/cloudfront-us-east-2.images.arcpublishing.com/reuters/OPR3X6JRANKO5ETC557KZCZHQE.jpg',\n",
       "     'image:caption': 'Smoke from burning vegetation rises in Pinares de Mayari, Cuba, February 23, 2023. REUTERS/Juan Pablo Carreras'}},\n",
       "   {'loc': 'https://www.reuters.com/business/retail-consumer/australias-harvey-norman-slumps-lower-half-year-profit-2023-02-27/',\n",
       "    'lastmod': '2023-02-28T00:38:19.612Z',\n",
       "    'image:image': {'image:loc': 'https://www.reuters.com/resizer/V7KiDHJMuaPVEGvk0z3DIJ-uCGY=/cloudfront-us-east-2.images.arcpublishing.com/reuters/K7IXI5PT55IWVMTVIJLJRFQAPE.jpg',\n",
       "     'image:caption': 'Shoppers walk the furniture showroom at a Harvey Norman outlet in Sydney, Australia, February 27, 2017.  REUTERS/Jason Reed'}},\n",
       "   {'loc': 'https://www.reuters.com/legal/robinhood-says-sec-issued-subpoena-related-crypto-operations-2023-02-27/',\n",
       "    'lastmod': '2023-02-27T23:46:07.165Z',\n",
       "    'image:image': {'image:loc': 'https://www.reuters.com/resizer/H9gUcSX07Gsqe234tEmSXW7T5kY=/cloudfront-us-east-2.images.arcpublishing.com/reuters/W5SIPG3235MPVK6YVEJ6QE63TE.jpg',\n",
       "     'image:caption': 'A representation of virtual currency Bitcoin is seen in front of a stock graph in this illustration taken January 8, 2021. REUTERS/Dado Ruvic//File Photo'}},\n",
       "   {'loc': 'https://www.reuters.com/world/americas/mexico-receives-us-request-extradite-son-druglord-chapo-guzman-sources-2023-02-27/',\n",
       "    'lastmod': '2023-02-28T00:17:44.764Z',\n",
       "    'image:image': {'image:loc': 'https://www.reuters.com/resizer/QN0m5ns5EzfsnZcTiXCW5yFt5WU=/cloudfront-us-east-2.images.arcpublishing.com/reuters/CNRBNPB2CNOGDD4BTY7D76IZYM.jpg',\n",
       "     'image:caption': 'Members of the National Guard stand outside the Altiplano high security prison where Mexican drug gang leader Ovidio Guzman, the 32-year-old son of jailed kingpin Joaquin \"El Chapo\" Guzman, is imprisoned in Almoloya de Juarez, State of Mexico, Mexico January 7, 2023. REUTERS/Luis Cortes'}},\n",
       "   {'loc': 'https://www.reuters.com/world/europe/russia-will-not-resume-start-nuclear-talks-until-washington-listens-moscow-2023-02-27/',\n",
       "    'lastmod': '2023-02-27T23:28:05.112Z',\n",
       "    'image:image': {'image:loc': 'https://www.reuters.com/resizer/R-FqdgMlybCktOAETC-3CaEE9jo=/cloudfront-us-east-2.images.arcpublishing.com/reuters/WEDNY75PUNI4DE4VYNOKM6OOIA.jpg',\n",
       "     'image:caption': 'Kremlin spokesman Dmitry Peskov attends a news conference of Russian President Vladimir Putin following the Shanghai Cooperation Organization (SCO) summit in Samarkand, Uzbekistan September 16, 2022. Sputnik/Sergey Bobylev/Pool via REUTERS'}},\n",
       "   {'loc': 'https://www.reuters.com/legal/legalindustry/california-panel-wants-state-keep-bar-exam-design-its-own-test-2023-02-27/',\n",
       "    'lastmod': '2023-02-27T23:25:55.449Z',\n",
       "    'image:image': {'image:loc': 'https://www.reuters.com/resizer/N-FvnHS-mX7R0hKI5YIamRgTFuo=/cloudfront-us-east-2.images.arcpublishing.com/reuters/ECOQH2EXEBMFNODZFG3T3KVY6A.jpg',\n",
       "     'image:caption': 'REUTERS/Brian Snyder'}},\n",
       "   {'loc': 'https://www.reuters.com/world/us/yes-joe-biden-plans-run-president-again-wife-jill-says-2023-02-27/',\n",
       "    'lastmod': '2023-02-27T23:25:02.413Z',\n",
       "    'image:image': {'image:loc': 'https://www.reuters.com/resizer/idDLwvKA5pVmEJ6D_8ZT3GqRJ0w=/cloudfront-us-east-2.images.arcpublishing.com/reuters/OT3KYOGEAZO55INXR62FA4XADQ.jpg',\n",
       "     'image:caption': 'Former U.S. Vice President Joe Biden addresses the International Association of Fire Fighters in Washington, U.S., March 12, 2019. REUTERS/Kevin Lamarque'}},\n",
       "   {'loc': 'https://www.reuters.com/world/americas/mexican-restaurant-operator-alsea-sees-profit-dip-due-higher-taxes-2023-02-27/',\n",
       "    'lastmod': '2023-02-28T02:44:35.930Z'},\n",
       "   {'loc': 'https://www.reuters.com/world/europe/tiktok-suffers-another-blow-with-european-commissions-ban-2023-02-24/',\n",
       "    'lastmod': '2023-02-27T23:11:24.167Z',\n",
       "    'image:image': {'image:loc': 'https://www.reuters.com/resizer/N1_uyddvNrsGQ1Ml0oJHr8mXmdI=/cloudfront-us-east-2.images.arcpublishing.com/reuters/U57A3PS4PFLUTGWDKU6QAQ3YX4.jpg',\n",
       "     'image:caption': 'A 3-D printed figures are seen in front of displayed Tik Tok logo in this picture illustration taken November 7, 2019. Picture taken November 7, 2019. REUTERS/Dado Ruvic/Illustration'}},\n",
       "   {'loc': 'https://www.reuters.com/world/ecuador-belgium-sign-deal-fight-crime-after-mega-cocaine-bust-2023-02-27/',\n",
       "    'lastmod': '2023-02-27T23:01:33.914Z',\n",
       "    'image:image': {'image:loc': 'https://www.reuters.com/resizer/Qkj7DpBH2L7Vw-zmoJ3And-Fqdg=/cloudfront-us-east-2.images.arcpublishing.com/reuters/HSA7ZVSCO5PXHBG4K7M6SKVFJU.jpg',\n",
       "     'image:caption': \"Workers unload sacks containing cocaine packages from a truck before the incineration of more than nine tons of cocaine which were seized during different operations, according to the Ecuador's Interior Ministry, in a warehouse at an undisclosed location, in Ecuador April 21, 2022. REUTERS/Karen Toro\"}},\n",
       "   {'loc': 'https://www.reuters.com/legal/tesla-musk-sued-by-shareholders-over-self-driving-safety-claims-2023-02-27/',\n",
       "    'lastmod': '2023-02-27T22:55:42.889Z',\n",
       "    'image:image': {'image:loc': 'https://www.reuters.com/resizer/wuR8SSOfpa6gsMer3RD6EniIxA4=/cloudfront-us-east-2.images.arcpublishing.com/reuters/VIMYPRBVVJK5PCENV2NMTTCI2M.jpg',\n",
       "     'image:caption': 'The interior of a Tesla Model S is shown in autopilot mode in San Francisco, California, U.S., April 7, 2016.   REUTERS/Alexandria Sage/File Photo'}},\n",
       "   {'loc': 'https://www.reuters.com/markets/asia/bojs-wakatabe-warns-secular-stagnation-risk-has-yet-pass-2023-02-27/',\n",
       "    'lastmod': '2023-02-27T22:54:04.635Z',\n",
       "    'image:image': {'image:loc': 'https://www.reuters.com/resizer/mo9ZISsiQvQ7BRLrlF3-ozxO6xM=/cloudfront-us-east-2.images.arcpublishing.com/reuters/RIQ2AS4BEBKXLGYSKN4QHBDR5E.jpg',\n",
       "     'image:caption': 'Deputy Governor at the Bank of Japan, Masazumi Wakatabe speaks at a European Financial Forum event in Dublin, Ireland February 13, 2019. REUTERS/Clodagh Kilcoyne/File Photo'}},\n",
       "   {'loc': 'https://www.reuters.com/world/europe/us-treasurys-yellen-makes-surprise-visit-ukraine-push-economic-aid-2023-02-27/',\n",
       "    'lastmod': '2023-02-27T22:47:27.067Z',\n",
       "    'image:image': {'image:loc': 'https://www.reuters.com/resizer/tFgXXwyK1qNZ4J0OdpmTZVdYWv4=/cloudfront-us-east-2.images.arcpublishing.com/reuters/JIZLQRSM4ZPPJDHDRTNHZEVTCM.jpg',\n",
       "     'image:caption': \"Ukraine's President Volodymyr Zelenskiy welcomes U.S. Treasury Secretary Janet Yellen, amid Russia's attack on Ukraine, in Kyiv, Ukraine February 27, 2023. Ukrainian Presidential Press Service/Handout via REUTERS\"}},\n",
       "   {'loc': 'https://www.reuters.com/legal/legalindustry/law-firms-dial-back-summer-associate-hiring-amid-legal-market-slowdown-2023-02-27/',\n",
       "    'lastmod': '2023-02-27T22:38:43.149Z',\n",
       "    'image:image': {'image:loc': 'https://www.reuters.com/resizer/KrvsYFWXzMGewIvx1rr_kesypbw=/cloudfront-us-east-2.images.arcpublishing.com/reuters/C2FXSYMMZZOSPLPB5DWONHKLG4.jpg',\n",
       "     'image:caption': 'REUTERS/Axel Schmidt'}},\n",
       "   {'loc': 'https://www.reuters.com/business/aerospace-defense/japans-ispace-track-late-april-touchdown-attempt-private-moon-lander-2023-02-27/',\n",
       "    'lastmod': '2023-02-27T23:52:37.524Z'},\n",
       "   {'loc': 'https://www.reuters.com/world/asia-pacific/north-koreas-kim-calls-agriculture-reform-amid-food-shortage-woes-2023-02-27/',\n",
       "    'lastmod': '2023-02-28T02:46:41.377Z',\n",
       "    'image:image': {'image:loc': 'https://www.reuters.com/resizer/glCNulGD3AsDQEx0DbK1f-lS5rg=/cloudfront-us-east-2.images.arcpublishing.com/reuters/J4QV2GEAM5LCXBHVCEKNFAMQ4M.jpg',\n",
       "     'image:caption': \"North?Korean leader Kim Jong Un attends the 7th enlarged plenary meeting of the 8th Central Committee of the Workers' Party of Korea (WPK) in Pyongyang, North Korea, February 27, 2023 in this  photo released by North Korea's Korean Central News Agency (KCNA). KCNA via REUTERS\"}},\n",
       "   {'loc': 'https://www.reuters.com/lifestyle/sports/late-luis-alberto-goal-lifts-lazio-into-top-four-after-sampdoria-win-2023-02-27/',\n",
       "    'lastmod': '2023-02-27T22:27:17.125Z',\n",
       "    'image:image': {'image:loc': 'https://www.reuters.com/resizer/ZpD5dsAlrxlYN88WPeU1n52KDp8=/cloudfront-us-east-2.images.arcpublishing.com/reuters/ZH2Q2NHC3JPVHHN3NFULYFO36Q.jpg',\n",
       "     'image:caption': \"Soccer Football - Serie A - Lazio v Atalanta - Stadio Olimpico, Rome, Italy - February 11, 2023 Lazio's Luis Alberto takes a corner kick REUTERS/Alberto Lingria\"}},\n",
       "   {'loc': 'https://www.reuters.com/lifestyle/sports/messi-named-fifa-player-2022-england-women-rewarded-euro-campaign-2023-02-27/',\n",
       "    'lastmod': '2023-02-28T00:10:49.823Z',\n",
       "    'image:image': {'image:loc': 'https://www.reuters.com/resizer/KErzt3gkArXv5pLBoBZ8ZE-nHLQ=/cloudfront-us-east-2.images.arcpublishing.com/reuters/243FYGK73FIVFDXE2YMT2VJ3KA.jpg',\n",
       "     'image:caption': \"Soccer Football - The Best FIFA Football Awards - Salle Pleyel, Paris, France - February 27, 2023 Paris St Germain's Lionel Messi winner of The Best FIFA Player award 2022 REUTERS/Sarah Meyssonnier\"}},\n",
       "   {'loc': 'https://www.reuters.com/world/us/us-senate-leader-schumer-norfolk-southern-chief-should-testify-ohio-train-wreck-2023-02-27/',\n",
       "    'lastmod': '2023-02-27T22:22:18.262Z',\n",
       "    'image:image': {'image:loc': 'https://www.reuters.com/resizer/8jhSx26JYeVjm8Viu7G5tKqMVvU=/cloudfront-us-east-2.images.arcpublishing.com/reuters/3VGOD637OVNDPOCOP3EB7XER2U.jpg',\n",
       "     'image:caption': 'U.S. Senate Majority Leader Chuck Schumer (D-NY) speaks during a news conference ahead of U.S. President Joe Biden’s State of the Union Address in Washington, U.S., February 7, 2023. REUTERS/Elizabeth Frantz'}}]}}"
      ]
     },
     "execution_count": 63,
     "metadata": {},
     "output_type": "execute_result"
    }
   ],
   "source": [
    "url = sitemap_urls[0]\n",
    "news_dict = xmltodict.parse(requests.get(url).text)\n",
    "news_dict"
   ]
  },
  {
   "cell_type": "code",
   "execution_count": 87,
   "id": "f03d6028-cff5-4478-8c5d-7542e9631487",
   "metadata": {
    "scrolled": true,
    "tags": []
   },
   "outputs": [],
   "source": [
    "#sitemap_urls = [url_list['loc'] for url_list in sitemaps['sitemapindex']['sitemap']]\n",
    "news_urls = [news_urls['loc'] for news_urls in news_dict['urlset']['url']]"
   ]
  },
  {
   "cell_type": "code",
   "execution_count": 88,
   "id": "436efc3b-4911-41d4-a87d-fe9c1b8154b8",
   "metadata": {
    "scrolled": true,
    "tags": []
   },
   "outputs": [
    {
     "data": {
      "text/plain": [
       "[{'loc': 'https://www.reuters.com/markets/europe/bayer-sees-lower-2023-operating-profit-cost-inflation-2023-02-28/',\n",
       "  'lastmod': '2023-02-28T06:40:09.829Z'},\n",
       " {'loc': 'https://www.reuters.com/business/finance/oaktree-capital-seeks-raise-10-billion-new-fund-ft-2023-02-28/',\n",
       "  'lastmod': '2023-02-28T06:38:40.936Z',\n",
       "  'image:image': {'image:loc': 'https://www.reuters.com/resizer/5zRamS0u6csGtW5TJ0sqY6WgyZ0=/cloudfront-us-east-2.images.arcpublishing.com/reuters/2OSJ6HHYURLMHMKSUSZGJRYYBE.jpg',\n",
       "   'image:caption': 'A picture illustration shows U.S. 100-dollar bank notes taken in Tokyo August 2, 2011. REUTERS/Yuriko Nakao/File Photo'}},\n",
       " {'loc': 'https://www.reuters.com/markets/europe/global-markets-view-europe-2023-02-28/',\n",
       "  'lastmod': '2023-02-28T06:30:51.395Z',\n",
       "  'image:image': {'image:loc': 'https://www.reuters.com/resizer/VAhiE2wIqGF42htLlOrAm5QKpbA=/cloudfront-us-east-2.images.arcpublishing.com/reuters/HJX63HRYZNJLJGAQPOSEHQV45M.jpg',\n",
       "   'image:caption': 'The German share price index DAX graph is pictured at the stock exchange in Frankfurt, Germany, February 27, 2023.    REUTERS/Staff'}},\n",
       " {'loc': 'https://www.reuters.com/business/retail-consumer/home-zara-fast-slow-fashion-collide-2023-02-28/',\n",
       "  'lastmod': '2023-02-28T06:29:10.080Z',\n",
       "  'image:image': {'image:loc': 'https://www.reuters.com/resizer/bJSj22xxE8PlHfv9BLCLGhzVVyw=/cloudfront-us-east-2.images.arcpublishing.com/reuters/E4WVOANN2FJD3GHH354WDLWAJY.jpg',\n",
       "   'image:caption': 'Marian Fernandez, 56, a former employee of Inditex, rearranges clothes at her fashion store Maazi from where she also posts weekly videos on social media on how to build a \"responsible\" wardrobe, in downtown A Coruna, in northern Spain, November 18, 2022. REUTERS/Miguel Vidal'}},\n",
       " {'loc': 'https://www.reuters.com/lifestyle/sports/england-captain-stokes-has-no-regrets-over-follow-on-2023-02-28/',\n",
       "  'lastmod': '2023-02-28T06:26:54.194Z',\n",
       "  'image:image': {'image:loc': 'https://www.reuters.com/resizer/m7GctcOQu6P4s9HnNdxIuFeioa0=/cloudfront-us-east-2.images.arcpublishing.com/reuters/G6JUG4WIQZLDBNDIT22G33N3X4.jpg',\n",
       "   'image:caption': \"Cricket - Third Test - Pakistan v England - National Stadium Karachi, Pakistan - December 18, 2022. England's captain Ben Stokes plays a shot. REUTERS/Akhtar Soomro\"}},\n",
       " {'loc': 'https://www.reuters.com/markets/asia/indias-adani-plans-repay-up-790-mln-share-backed-loans-by-march-sources-2023-02-28/',\n",
       "  'lastmod': '2023-02-28T06:21:06.075Z',\n",
       "  'image:image': {'image:loc': 'https://www.reuters.com/resizer/a2doJR0omcTx6uwq9C_jTtZmVJ8=/cloudfront-us-east-2.images.arcpublishing.com/reuters/JH4MQEC6AFO6ZJLJGIKSPW5BVE.jpg',\n",
       "   'image:caption': 'The logo of the Adani Group is seen on one of its buildings in Ahmedabad, India, January  27, 2023. REUTERS/Amit Dave/File Photo'}},\n",
       " {'loc': 'https://www.reuters.com/lifestyle/sports/smith-says-australia-batsmen-will-ditch-risky-tempo-third-test-2023-02-28/',\n",
       "  'lastmod': '2023-02-28T06:20:34.667Z',\n",
       "  'image:image': {'image:loc': 'https://www.reuters.com/resizer/2cWcgEBQk76fY6y7ykj-u_u8zjk=/cloudfront-us-east-2.images.arcpublishing.com/reuters/OFBMDNLZAVN3DJZMY4NS5SU7OI.jpg',\n",
       "   'image:caption': \"Cricket - Second Test - India v Australia - Arun Jaitley Stadium, New Delhi, India - February 19, 2023 India's Ravichandran Ashwin celebrates with teammates after taking the wicket of Australia's Steve Smith REUTERS/Anushree Fadnavis\"}},\n",
       " {'loc': 'https://www.reuters.com/technology/cryptoverse-bitcoin-moves-towards-satoshis-payment-dream-2023-02-28/',\n",
       "  'lastmod': '2023-02-28T06:18:49.097Z',\n",
       "  'image:image': {'image:loc': 'https://www.reuters.com/resizer/tCz1y725PqDry9P0Mz8CqLGCD04=/cloudfront-us-east-2.images.arcpublishing.com/reuters/ITNSLRU3KFLP7ABJFCV4MG6BBY.jpg',\n",
       "   'image:caption': 'A representation of the virtual cryptocurrency Bitcoin is seen in this picture illustration taken October 19, 2021. REUTERS/Edgar Su'}},\n",
       " {'loc': 'https://www.reuters.com/markets/europe/ecb-has-started-win-inflation-fight-lane-says-2023-02-28/',\n",
       "  'lastmod': '2023-02-28T06:14:49.005Z',\n",
       "  'image:image': {'image:loc': 'https://www.reuters.com/resizer/fLeOxFQBPtitJj6Cz5Tr1rM068M=/cloudfront-us-east-2.images.arcpublishing.com/reuters/JP4IDHJM2VIUJM3PEYDOWATVO4.jpg',\n",
       "   'image:caption': 'European Central Bank Chief Economist Philip Lane speaks during a Reuters Newsmaker event in New York, U.S., September 27, 2019. REUTERS/Gary He'}},\n",
       " {'loc': 'https://www.reuters.com/markets/rates-bonds/banks-pile-into-euro-zone-bond-sales-rates-shoot-up-2023-02-28/',\n",
       "  'lastmod': '2023-02-28T06:11:11.460Z',\n",
       "  'image:image': {'image:loc': 'https://www.reuters.com/resizer/yNnxDeA1oGB9EJ-3P80ArE19kI4=/cloudfront-us-east-2.images.arcpublishing.com/reuters/F2WJJGVKQFNFLCDHTPW3RDC76A.jpg',\n",
       "   'image:caption': 'One Euro coins are seen in this illustration taken November 9, 2021. REUTERS/Dado Ruvic/Illustration'}},\n",
       " {'loc': 'https://www.reuters.com/business/adecco-sees-signs-hiring-slowdown-start-2023-2023-02-28/',\n",
       "  'lastmod': '2023-02-28T06:11:01.202Z',\n",
       "  'image:image': {'image:loc': 'https://www.reuters.com/resizer/-zq6VgCGaz5afNgMnGDv4zjN7mY=/cloudfront-us-east-2.images.arcpublishing.com/reuters/57UJRAN7QJJTDFWRWN4EWVBYVY.jpg',\n",
       "   'image:caption': 'Adecco logo is seen displayed in this illustration taken, May 3, 2022. REUTERS/Dado Ruvic/Illustration'}},\n",
       " {'loc': 'https://www.reuters.com/world/us/tennessee-meat-plant-workers-reach-12-mln-settlement-over-2018-raid-2023-02-28/',\n",
       "  'lastmod': '2023-02-28T06:09:05.129Z'},\n",
       " {'loc': 'https://www.reuters.com/markets/asia/china-income-spending-per-capita-grow-over-2022-national-bureau-statistics-2023-02-28/',\n",
       "  'lastmod': '2023-02-28T06:01:30.654Z',\n",
       "  'image:image': {'image:loc': 'https://www.reuters.com/resizer/HLOGxQP0TP3j-vzL5mHzXqcDqr0=/cloudfront-us-east-2.images.arcpublishing.com/reuters/JIGF575IKZNENL5HADWUWHFGGA.jpg',\n",
       "   'image:caption': \"A view of the city skyline, ahead of the annual National People's Congress (NPC), in Shanghai, China February 24, 2022. REUTERS/Aly Song\"}},\n",
       " {'loc': 'https://www.reuters.com/world/asia-pacific/la-nina-wet-weather-system-near-its-end-australian-weather-bureau-2023-02-28/',\n",
       "  'lastmod': '2023-02-28T05:59:14.307Z'},\n",
       " {'loc': 'https://www.reuters.com/lifestyle/sports/nhl-roundup-connor-mcdavids-49th-50th-goals-cant-stop-bruins-2023-02-28/',\n",
       "  'lastmod': '2023-02-28T06:11:33.361Z',\n",
       "  'image:image': {'image:loc': 'https://www.reuters.com/resizer/fHCPK0_ajqynlni45yWtIjhcwmw=/cloudfront-us-east-2.images.arcpublishing.com/reuters/SMNSY7TZPVOO3HLUA6H7AE6XV4.jpg',\n",
       "   'image:caption': 'Feb 27, 2023; Edmonton, Alberta, CAN; Edmonton Oilers forward Connor McDavid (97) carries the puck around Boston Bruins forward Patrice Bergeron (37) during the third period at Rogers Place. Mandatory Credit: Perry Nelson-USA TODAY Sports'}},\n",
       " {'loc': 'https://www.reuters.com/lifestyle/sports/new-zealand-skipper-southee-hails-test-win-ages-2023-02-28/',\n",
       "  'lastmod': '2023-02-28T05:45:29.634Z',\n",
       "  'image:image': {'image:loc': 'https://www.reuters.com/resizer/1Xu-k6r9JOoIcaqq8VqVz2C79xw=/cloudfront-us-east-2.images.arcpublishing.com/reuters/DRETUTZGUZN5DE5GYJEOH24YG4.jpg',\n",
       "   'image:caption': \"Cricket - Third Test - England v New Zealand - Yorkshire Cricket Ground, Leeds, Britain - June 24, 2022 New Zealand's Tim Southee celebrates after taking the wicket of England's Joe Root Action Images via Reuters/Lee Smith\"}},\n",
       " {'loc': 'https://www.reuters.com/world/china/chinas-birth-rate-slumps-political-advisor-urges-egg-freezing-single-women-2023-02-28/',\n",
       "  'lastmod': '2023-02-28T05:51:22.421Z',\n",
       "  'image:image': {'image:loc': 'https://www.reuters.com/resizer/FqT5sRSAXwnb2fo-yUxBqSMyTKU=/cloudfront-us-east-2.images.arcpublishing.com/reuters/ML4HRCXNGZOG5OEHTI5M7XHTE4.jpg',\n",
       "   'image:caption': \"Newborn babies sleep in a ward at a hospital in Hefei, in China's Anhui province. Picture taken April 21, 2011. REUTERS/Stringer/File Photo\"}},\n",
       " {'loc': 'https://www.reuters.com/lifestyle/sports/tough-see-alcaraz-playing-acapulco-says-coach-2023-02-28/',\n",
       "  'lastmod': '2023-02-28T05:41:09.028Z',\n",
       "  'image:image': {'image:loc': 'https://www.reuters.com/resizer/_G622_nj8nt6znlr4kpB6-egRVM=/cloudfront-us-east-2.images.arcpublishing.com/reuters/QW4XTRBCNBNIRLRUKWGOGE4ELQ.jpg',\n",
       "   'image:caption': \"Tennis - ATP 500 - Rio Open - Jockey Club Brasileiro, Rio De Janeiro, Brazil - February 26, 2023 Spain's Carlos Alcaraz in action during his final match against Britain's Cameron Norrie REUTERS/Sergio Moraes\"}},\n",
       " {'loc': 'https://www.reuters.com/world/moscow-accuses-us-preparing-toxic-chemicals-provocation-ukraine-2023-02-28/',\n",
       "  'lastmod': '2023-02-28T05:38:59.538Z',\n",
       "  'image:image': {'image:loc': 'https://www.reuters.com/resizer/xeihuhRR_PJZT3Xb64ot2VCHQEc=/cloudfront-us-east-2.images.arcpublishing.com/reuters/5QGRD754TFJOBIB34PHANRPZGI.jpg',\n",
       "   'image:caption': \"Ukrainian servicemen use a searchlight as they search for drones in the sky over the city during a Russian drone strike, amid Russia's attack on Ukraine, in Kyiv, Ukraine February 27, 2023. REUTERS/Gleb Garanich\"}},\n",
       " {'loc': 'https://www.reuters.com/business/finance/goldman-sachs-seen-unveiling-medium-term-goals-investor-day-2023-02-28/',\n",
       "  'lastmod': '2023-02-28T06:09:25.067Z',\n",
       "  'image:image': {'image:loc': 'https://www.reuters.com/resizer/bylApbDAKzJXU7QIHl1e_Q_6pmU=/cloudfront-us-east-2.images.arcpublishing.com/reuters/SFSAO55F3BNIJFBGBQX2QB34CI.jpg',\n",
       "   'image:caption': 'The logo for Goldman Sachs is seen on the trading floor at the New York Stock Exchange (NYSE) in New York City, New York, U.S., November 17, 2021. REUTERS/Andrew Kelly/File Photo'}},\n",
       " {'loc': 'https://www.reuters.com/breakingviews/chinas-li-auto-drives-fine-profit-line-2023-02-28/',\n",
       "  'lastmod': '2023-02-28T05:17:36.004Z',\n",
       "  'image:image': {'image:loc': 'https://www.reuters.com/resizer/Giz5TDkgjo476rw1wHyCEYF1lmA=/cloudfront-us-east-2.images.arcpublishing.com/reuters/ASBVTHVFBRCTFI27II32E2JRFI.jpg',\n",
       "   'image:caption': 'Li Xiang, founder and chief executive officer of Chinese electric vehicle (EV) maker Li Auto, speaks at a product launch event in Beijing, China May 25, 2021. Picture taken May 25, 2021. REUTERS/Yilei Sun'}},\n",
       " {'loc': 'https://www.reuters.com/breakingviews/japan-posts-deal-will-test-interest-rate-optimism-2023-02-28/',\n",
       "  'lastmod': '2023-02-28T05:17:13.462Z',\n",
       "  'image:image': {'image:loc': 'https://www.reuters.com/resizer/JYecAIlXzFaquBiOnvAtx4KC_2w=/cloudfront-us-east-2.images.arcpublishing.com/reuters/7BUCXTMRK5FYHKWCYTA6SAYJQY.jpg',\n",
       "   'image:caption': 'A man walks past a logo of Japan Post Group at its headquarters in Tokyo, Japan, November 2, 2015.   REUTERS/Toru Hanai'}},\n",
       " {'loc': 'https://www.reuters.com/markets/europe/germany-home-prices-sink-nearly-6-this-year-2023-02-28/',\n",
       "  'lastmod': '2023-02-28T05:16:37.913Z',\n",
       "  'image:image': {'image:loc': 'https://www.reuters.com/resizer/e1LVpNYv4ZPc58T0x23-hDjuLwE=/cloudfront-us-east-2.images.arcpublishing.com/reuters/UAZNEJUCI5J3HBFN44MVXAPXPM.jpg',\n",
       "   'image:caption': 'Facades of apartment buildings are pictured at Mitte district in Berlin, Germany, August 29, 2019.   REUTERS/Axel Schmidt'}},\n",
       " {'loc': 'https://www.reuters.com/breakingviews/airtel-would-be-complex-saviour-paytm-2023-02-28/',\n",
       "  'lastmod': '2023-02-28T05:08:17.373Z',\n",
       "  'image:image': {'image:loc': 'https://www.reuters.com/resizer/vn4cdh1Q2Km-1GurcGzOTC-E-8M=/cloudfront-us-east-2.images.arcpublishing.com/reuters/ZQ6A6IVBDJI2JBNAVFM3ZZQN3U.jpg',\n",
       "   'image:caption': \"Gopal Vittal, Bharti Airtel's chief executive for India and South Asia listens to a question during a news conference in New Delhi, India July 10, 2017. REUTERS/Adnan Abidi\"}},\n",
       " {'loc': 'https://www.reuters.com/business/autos-transportation/volkswagen-china-chief-visits-xinjiang-plant-sees-no-sign-forced-labour-2023-02-28/',\n",
       "  'lastmod': '2023-02-28T05:04:04.355Z',\n",
       "  'image:image': {'image:loc': 'https://www.reuters.com/resizer/VfFT5lIG7WPYwm5SE7-pttPYGGo=/cloudfront-us-east-2.images.arcpublishing.com/reuters/YMJPFT5G2NJP5IXLEZYGQN72Y4.jpg',\n",
       "   'image:caption': \"Ralf Brandstaetter, CEO of the Volkswagen Passenger Cars brand gestures in front of the revised logo of German carmaker Volkswagen AG during a preview of the world's biggest automaker at the international Frankfurt Motor Show IAA in Frankfurt, Germany September 9, 2019. REUTERS/Wolfgang Rattay\"}},\n",
       " {'loc': 'https://www.reuters.com/world/europe/ex-kremlins-adviser-soviet-era-dissident-pavlovsky-dies-2023-02-28/',\n",
       "  'lastmod': '2023-02-28T04:54:45.973Z'},\n",
       " {'loc': 'https://www.reuters.com/lifestyle/sports/brentfords-frank-says-abuse-directed-managers-is-disgrace-2023-02-28/',\n",
       "  'lastmod': '2023-02-28T04:53:20.987Z',\n",
       "  'image:image': {'image:loc': 'https://www.reuters.com/resizer/3wYxJsVzW7h_tQ7TjWybG0PIGR4=/cloudfront-us-east-2.images.arcpublishing.com/reuters/7POZ5JUOX5LFXJZSAFHKCKO7AQ.jpg',\n",
       "   'image:caption': 'Soccer Football - Premier League - Arsenal v Brentford - Emirates Stadium, London, Britain - February 11, 2023 Brentford manager Thomas Frank applauds fans after the match REUTERS/David Klein'}},\n",
       " {'loc': 'https://www.reuters.com/lifestyle/sports/nba-roundup-hornets-win-again-lose-lamelo-ball-2023-02-28/',\n",
       "  'lastmod': '2023-02-28T04:43:20.848Z',\n",
       "  'image:image': {'image:loc': 'https://www.reuters.com/resizer/1gmKtZ6MJRH5Sii7duaboNQ-qpE=/cloudfront-us-east-2.images.arcpublishing.com/reuters/MYVSQ5IVMJNQJEA4TU4AQKP5TI.jpg',\n",
       "   'image:caption': 'Feb 27, 2023; Charlotte, North Carolina, USA; Detroit Pistons guard Killian Hayes (7) drives in past Charlotte Hornets forward JT Thor (21) during the second half at the Spectrum Center. Mandatory Credit: Sam Sharpe-USA TODAY Sports'}},\n",
       " {'loc': 'https://www.reuters.com/lifestyle/giorgio-armani-offers-soft-fluid-winter-designs-milan-fashion-week-2023-02-26/',\n",
       "  'lastmod': '2023-02-28T06:24:56.364Z',\n",
       "  'image:image': {'image:loc': 'https://www.reuters.com/resizer/-GguIHUt4VgCNH5QwulsOcMDPFw=/cloudfront-us-east-2.images.arcpublishing.com/reuters/RVRC5XCOOFPRVMQV2RMDTVTSVI.jpg',\n",
       "   'image:caption': 'A model presents a creation from the Giorgio Armani Fall/Winter 2023/2024 collection during Fashion Week in Milan, Italy, February 26, 2023. Giorgio Armani/Handout via REUTERS'}},\n",
       " {'loc': 'https://www.reuters.com/business/energy/thailands-indorama-ventures-scouts-acquisitions-europe-africa-ceo-2023-02-28/',\n",
       "  'lastmod': '2023-02-28T04:28:48.601Z',\n",
       "  'image:image': {'image:loc': 'https://www.reuters.com/resizer/tgD4XCoMvEFCFaDm8f2dovDc58A=/cloudfront-us-east-2.images.arcpublishing.com/reuters/RSD5KX72ZJPNBF5MPC6F6MAD64.jpg',\n",
       "   'image:caption': \"Thai chemicals company Indorama Ventures logo is seen at the company's headquarters in Bangkok, Thailand August 21, 2019. REUTERS/Chayut Setboonsarng\"}},\n",
       " {'loc': 'https://www.reuters.com/lifestyle/sports/list-narrowest-victories-by-runs-tests-2023-02-28/',\n",
       "  'lastmod': '2023-02-28T04:18:30.993Z'},\n",
       " {'loc': 'https://www.reuters.com/business/media-telecom/reuters-reporters-online-accounts-faked-approach-china-activists-2023-02-28/',\n",
       "  'lastmod': '2023-02-28T04:18:48.700Z',\n",
       "  'image:image': {'image:loc': 'https://www.reuters.com/resizer/rQ_SNNkHcThg-rihikiWxO_sepM=/cloudfront-us-east-2.images.arcpublishing.com/reuters/ESNE3UWDZJORJFH4ICHSXPY5PI.jpg',\n",
       "   'image:caption': 'The Chinese flag is seen across the Victoria Harbour during sunset, in Hong Kong, China October 12, 2022. REUTERS/Tyrone Siu/File Photo'}},\n",
       " {'loc': 'https://www.reuters.com/world/us/us-needs-learn-all-black-history-biden-says-some-republicans-push-curbs-2023-02-27/',\n",
       "  'lastmod': '2023-02-28T04:10:43.881Z',\n",
       "  'image:image': {'image:loc': 'https://www.reuters.com/resizer/8w97fKeAhgDpawWl4Vs6t_0KhCA=/cloudfront-us-east-2.images.arcpublishing.com/reuters/6I4EBHWVSBJKLFQC7XHCFGUOYI.jpg',\n",
       "   'image:caption': 'FILE PHOTO:U.S. President Joe Biden speaks to the media before departing the White House in Washington, U.S., February 24, 2023. REUTERS/Evelyn Hockstein'}},\n",
       " {'loc': 'https://www.reuters.com/lifestyle/sports/list-teams-that-won-test-after-follow-on-2023-02-28/',\n",
       "  'lastmod': '2023-02-28T04:04:50.289Z'},\n",
       " {'loc': 'https://www.reuters.com/world/blinken-hold-talks-with-central-asian-nations-wake-ukraine-anniversary-2023-02-28/',\n",
       "  'lastmod': '2023-02-28T05:59:32.049Z',\n",
       "  'image:image': {'image:loc': 'https://www.reuters.com/resizer/ceo9DzDh2P46Pkh0OZkurMlePkY=/cloudfront-us-east-2.images.arcpublishing.com/reuters/PWTSHRS77ZNKFG67TOPI6QYQLM.jpg',\n",
       "   'image:caption': 'U.S Secretary of State Antony Blinken boards his airplane at Joint Base Andrews in Maryland on February 26, 2023, as he departs for travel to Astana, Kazakhstan, Tashkent, Uzbekistan and New Delhi, India. Olivier Douliery/Pool via REUTERS'}},\n",
       " {'loc': 'https://www.reuters.com/lifestyle/sports/wimbledon-offers-best-chance-deep-run-grand-slam-murray-2023-02-28/',\n",
       "  'lastmod': '2023-02-28T03:32:05.429Z',\n",
       "  'image:image': {'image:loc': 'https://www.reuters.com/resizer/Mxpe79Tu42rVuVpNyHuTuoSeOcA=/cloudfront-us-east-2.images.arcpublishing.com/reuters/EM53YI4UFBP6FPCP4KG2SK4XNU.jpg',\n",
       "   'image:caption': \"Tennis - Australian Open - Melbourne Park, Melbourne, Australia - January 20, 2023 Britain's Andy Murray reacts during his second round match against Australia's Thanasi Kokkinakis REUTERS/Hannah Mckay\"}},\n",
       " {'loc': 'https://www.reuters.com/lifestyle/sports/new-zealand-beat-england-by-one-run-second-test-level-series-1-1-2023-02-28/',\n",
       "  'lastmod': '2023-02-28T05:19:55.036Z',\n",
       "  'image:image': {'image:loc': 'https://www.reuters.com/resizer/otM2grxDkTIAA-Uy6weEWT7etkQ=/cloudfront-us-east-2.images.arcpublishing.com/reuters/5FAW4GGXYJL6RFQLAA3EMXT5NM.jpg',\n",
       "   'image:caption': \"Cricket - ICC World Test Championship Final - India v New Zealand - Rose Bowl, Southampton, Britain - June 23, 2021 New Zealand's Neil Wagner Action Images via Reuters/John Sibley\"}},\n",
       " {'loc': 'https://www.reuters.com/business/finance/australias-regulator-sues-mercer-pension-fund-first-greenwashing-case-2023-02-28/',\n",
       "  'lastmod': '2023-02-28T03:23:11.990Z'},\n",
       " {'loc': 'https://www.reuters.com/technology/rapidus-picks-northern-japans-chitose-semiconductor-plant-location-2023-02-28/',\n",
       "  'lastmod': '2023-02-28T06:37:46.630Z',\n",
       "  'image:image': {'image:loc': 'https://www.reuters.com/resizer/euHkWKJYja1E7iTj1beX9q3Y5RQ=/cloudfront-us-east-2.images.arcpublishing.com/reuters/3772FTGBHVNKDEK3WPTMF6CIRI.jpg',\n",
       "   'image:caption': 'The logo of Rapidus Corp. is displayed at the company headquarters in Tokyo, Japan February 2, 2023.  REUTERS/Issei Kato'}},\n",
       " {'loc': 'https://www.reuters.com/lifestyle/sports/spring-training-roundup-emmanuel-rivera-d-backs-walk-off-cubs-2023-02-28/',\n",
       "  'lastmod': '2023-02-28T02:56:17.558Z',\n",
       "  'image:image': {'image:loc': 'https://www.reuters.com/resizer/LdRDnxn7I06I9J3buHlikDIgTJk=/cloudfront-us-east-2.images.arcpublishing.com/reuters/6LXPZ2QGOBJOBN4GBSII6H6GH4.jpg',\n",
       "   'image:caption': 'Feb 27, 2023; Salt River Pima-Maricopa, Arizona, USA;   Arizona Diamondbacks right fielder Dominic Canzone (80) makes a play off a ball hit by Arizona Diamondbacks second baseman Ketel Marte (4) in the fifth inning of a spring training game at Salt River Fields at Talking Stick. Mandatory Credit: Jayne Kamin-Oncea-USA TODAY Sports'}},\n",
       " {'loc': 'https://www.reuters.com/world/europe/russian-offensive-eastern-ukraine-focused-bakhmut-2023-02-28/',\n",
       "  'lastmod': '2023-02-28T05:52:59.093Z',\n",
       "  'image:image': {'image:loc': 'https://www.reuters.com/resizer/-L3cAJe3_vEgHdcIkEODMwJdj2c=/cloudfront-us-east-2.images.arcpublishing.com/reuters/O4KWAXBWUJJRDPRIUTCX7VAU3Q.jpg',\n",
       "   'image:caption': \"Ukrainian service members are seen next an infantry fighting vehicle near the frontline town of Bakhmut, amid Russia's attack on Ukraine, in Donetsk region, Ukraine February 25, 2023. REUTERS/Yan Dobronosov\"}},\n",
       " {'loc': 'https://www.reuters.com/markets/australia-limit-tax-breaks-multi-million-dollar-retirement-savings-2023-02-28/',\n",
       "  'lastmod': '2023-02-28T02:46:38.412Z',\n",
       "  'image:image': {'image:loc': 'https://www.reuters.com/resizer/AdBKaqluM2GTfcisxfJYOqRVVuI=/cloudfront-us-east-2.images.arcpublishing.com/reuters/EWBP6T5FERM4PIFVMMC465J6RE.jpg',\n",
       "   'image:caption': 'A view of the city skyline of Brisbane, the city expected to be announced as host for the 2032 Olympic Games, in Brisbane, Australia, July 4, 2021.   REUTERS/Jaimi Joy'}},\n",
       " {'loc': 'https://www.reuters.com/world/us/us-marshals-service-suffers-major-security-breach-nbc-news-2023-02-28/',\n",
       "  'lastmod': '2023-02-28T03:14:37.593Z',\n",
       "  'image:image': {'image:loc': 'https://www.reuters.com/resizer/7aTwIeD6PHvlzjcoXts6fpP5Hi4=/cloudfront-us-east-2.images.arcpublishing.com/reuters/ZEYY7T3MDJM2DAVSKDORGP4ZFQ.jpg',\n",
       "   'image:caption': '3D printed models of people working on computers and padlock are seen in front of a displayed CYBER SECURITY words and binary code in this picture illustration taken, February 1, 2022. REUTERS/Dado Ruvic/Illustration'}},\n",
       " {'loc': 'https://www.reuters.com/world/india/indian-shares-set-muted-start-us-rate-fears-ahead-domestic-gdp-data-2023-02-28/',\n",
       "  'lastmod': '2023-02-28T05:39:37.404Z',\n",
       "  'image:image': {'image:loc': 'https://www.reuters.com/resizer/bq3alU57K0DoBd4kxpvlXgnFdA4=/cloudfront-us-east-2.images.arcpublishing.com/reuters/YJCTHIAP5FJLTNY7AMAT4YWIX4.jpg',\n",
       "   'image:caption': 'A bird flies past the Bombay Stock Exchange (BSE) building in Mumbai, India, January 31, 2020. REUTERS/Francis Mascarenhas/File Photo'}},\n",
       " {'loc': 'https://www.reuters.com/markets/global-markets-wrapup-1-2023-02-28/',\n",
       "  'lastmod': '2023-02-28T06:35:48.188Z',\n",
       "  'image:image': {'image:loc': 'https://www.reuters.com/resizer/OJa4mLXO3shQkPtfQehgD0pFHt4=/cloudfront-us-east-2.images.arcpublishing.com/reuters/2264NPC2YRKKVDQI4NXRZLUJPE.jpg',\n",
       "   'image:caption': \"Silhouettes of passerby are seen as they stand in front of an electric monitor displaying Japan's Nikkei share average and world stock indexes outside a brokerage in Tokyo, Japan, October 21, 2022  REUTERS/Issei Kato/File Photo\"}},\n",
       " {'loc': 'https://www.reuters.com/world/us/florida-gov-desantis-signs-bill-asserting-state-oversight-land-around-walt-2023-02-27/',\n",
       "  'lastmod': '2023-02-28T02:19:33.529Z',\n",
       "  'image:image': {'image:loc': 'https://www.reuters.com/resizer/2ujET3AvPawfpC7uR0-sOjykt6Y=/cloudfront-us-east-2.images.arcpublishing.com/reuters/SWNTVMYIWVLADOEOOPXI5VPF7A.jpg',\n",
       "   'image:caption': 'A Walt Disney World photographer holds a Pride rainbow-coloured Mickey Mouse cutout before the \"Festival of Fantasy\" parade at the Walt Disney World Magic Kingdom theme park in Orlando, Florida, U.S. July 30, 2022.  REUTERS/Octavio Jones'}},\n",
       " {'loc': 'https://www.reuters.com/business/sustainable-business/women-make-up-40-boards-top-uk-companies-first-time-2023-02-28/',\n",
       "  'lastmod': '2023-02-28T02:16:50.503Z',\n",
       "  'image:image': {'image:loc': 'https://www.reuters.com/resizer/y7vXQJWaQnOSoY4RkYof8khxog8=/cloudfront-us-east-2.images.arcpublishing.com/reuters/AERFVQZFCVKNTFUX73UNXFH4NE.jpg',\n",
       "   'image:caption': 'British Secretary of State for Trade and Industry Kemi Badenoch, walks outside Number 10 Downing Street, in London, Britain February 7, 2023. REUTERS/Toby Melville/File Photo'}},\n",
       " {'loc': 'https://www.reuters.com/markets/asia/vietnams-factory-output-rises-february-exports-up-11-2023-02-28/',\n",
       "  'lastmod': '2023-02-28T03:47:16.816Z',\n",
       "  'image:image': {'image:loc': 'https://www.reuters.com/resizer/h1I3ZzDAFhYnyvB35HHY1-5BfjI=/cloudfront-us-east-2.images.arcpublishing.com/reuters/3GLJ26OXXFIILA66Z5Z7DACBRE.jpg',\n",
       "   'image:caption': 'Shipping containers are seen at a port in Hai Phong city, Vietnam July 12, 2018. REUTERS/Kham/File Photo'}},\n",
       " {'loc': 'https://www.reuters.com/legal/litigation/ny-lawyer-sued-quiet-quitting-strikes-back-with-race-bias-lawsuit-2023-02-27/',\n",
       "  'lastmod': '2023-02-28T02:09:16.105Z',\n",
       "  'image:image': {'image:loc': 'https://www.reuters.com/resizer/-_hLDMg5GQ-fKOg7S4DyEzNktms=/cloudfront-us-east-2.images.arcpublishing.com/reuters/XKYBJDQ2YFLYZMFZYWBLG3NV5Q.jpg',\n",
       "   'image:caption': 'A woman is seen in silhouette as she walks at Fiumicino Airport, as Italy eases movement between regions, while the country unwinds its rigid lockdown due to the coronavirus disease (COVID-19) outbreak, in Rome, Italy June 3, 2020. REUTERS/Yara Nardi'}},\n",
       " {'loc': 'https://www.reuters.com/business/energy/oil-steadies-after-fall-fear-rate-hikes-rising-inventories-2023-02-28/',\n",
       "  'lastmod': '2023-02-28T04:45:51.839Z',\n",
       "  'image:image': {'image:loc': 'https://www.reuters.com/resizer/Q6Cs4Hv6DaBWnWS6NBUcDga6xds=/cloudfront-us-east-2.images.arcpublishing.com/reuters/MYDUMURCC5IS7ETURJCXYNEG2A.jpg',\n",
       "   'image:caption': 'A view shows tankers in Nakhodka Bay near the crude oil terminal Kozmino outside the port city of Nakhodka, Russia June 13, 2022. REUTERS/Tatiana Meel'}},\n",
       " {'loc': 'https://www.reuters.com/business/aerospace-defense/bae-systems-australia-unveils-first-homegrown-military-drone-2023-02-28/',\n",
       "  'lastmod': '2023-02-28T02:46:17.944Z',\n",
       "  'image:image': {'image:loc': 'https://www.reuters.com/resizer/W1kKc75poYB531eV0K65g78uNkA=/cloudfront-us-east-2.images.arcpublishing.com/reuters/ACCL5GPQFRMWXMOI47VUAG4JTU.jpg',\n",
       "   'image:caption': 'People take a look at a model of STRIX drone by BAE Systems Australia, at the Australian International Airshow, in Avalon, Australia February 28, 2023. REUTERS/Jamie Freed'}},\n",
       " {'loc': 'https://www.reuters.com/world/us/us-awards-nearly-1-billion-airports-infrastructure-grants-2023-02-27/',\n",
       "  'lastmod': '2023-02-28T02:03:02.064Z',\n",
       "  'image:image': {'image:loc': 'https://www.reuters.com/resizer/4eVyx8zfntN-91rIQLObhKk5Azw=/cloudfront-us-east-2.images.arcpublishing.com/reuters/ZJ4OQHCDVFLLVL3R2GD4QVSXKI.jpg',\n",
       "   'image:caption': 'A woman walks on a travelator as travel has cutback amid concerns of the coronavirus disease (COVID-19), at Salt Lake City International Airport in Salt Lake City, Utah, U.S. April 14, 2020. REUTERS/Jim Urquhart'}},\n",
       " {'loc': 'https://www.reuters.com/world/china/hong-kong-scrap-covid-mask-mandate-march-1-2023-02-28/',\n",
       "  'lastmod': '2023-02-28T03:23:59.879Z',\n",
       "  'image:image': {'image:loc': 'https://www.reuters.com/resizer/S-qRoSmzWEYcZf3fCFfCbuSbusA=/cloudfront-us-east-2.images.arcpublishing.com/reuters/HEVBTCV7AFKTLAZUJBGGK54BA4.jpg',\n",
       "   'image:caption': 'People wearing face masks walk through Wan Chai during the coronavirus disease (COVID-19) pandemic in Hong Kong, China, April 14, 2022. REUTERS/Tyrone Siu'}},\n",
       " {'loc': 'https://www.reuters.com/markets/currencies/sterling-holds-gains-after-rising-uk-trade-deal-with-eu-2023-02-28/',\n",
       "  'lastmod': '2023-02-28T06:29:18.866Z',\n",
       "  'image:image': {'image:loc': 'https://www.reuters.com/resizer/RrK7yjSZPc5l_H6GYTySW02KFeI=/cloudfront-us-east-2.images.arcpublishing.com/reuters/2QLCF325EJIHTEFYZGAPU3LGJY.jpg',\n",
       "   'image:caption': 'Woman holds U.S. dollar banknotes in this illustration taken May 30, 2022. REUTERS/Dado Ruvic/Illustration/File Photo'}},\n",
       " {'loc': 'https://www.reuters.com/business/us-crack-down-child-labor-amid-massive-uptick-2023-02-27/',\n",
       "  'lastmod': '2023-02-28T01:31:57.844Z',\n",
       "  'image:image': {'image:loc': 'https://www.reuters.com/resizer/9iry-aJuc6R9GHdkrXKMuoPCKMQ=/cloudfront-us-east-2.images.arcpublishing.com/reuters/BLI4XGAC5BPLDIGXLDWKRCJWSU.jpg',\n",
       "   'image:caption': 'The United States Department of Labor is seen in Washington, D.C., U.S., August 30, 2020. REUTERS/Andrew Kelly'}},\n",
       " {'loc': 'https://www.reuters.com/lifestyle/orchestra-turns-trash-music-environmental-activism-bolivia-2023-02-28/',\n",
       "  'lastmod': '2023-02-28T01:25:30.098Z',\n",
       "  'image:image': {'image:loc': 'https://www.reuters.com/resizer/50dgfkOERD6c0-Aey5Fw3La2iXc=/cloudfront-us-east-2.images.arcpublishing.com/reuters/ZXURJCZGGVPX5GUIQAOY6XBSHY.jpg',\n",
       "   'image:caption': \"Women waste pickers from the city of La Paz pose near the musicians of the Paraguayan Cateura Recycled Instruments Orchestra, at the Sak'a Churu landfill in Alpacoma, in La Paz, Bolivia February 27, 2023. REUTERS/Claudia Morales\"}},\n",
       " {'loc': 'https://www.reuters.com/markets/asia/boj-shouldnt-modify-easy-policy-address-costs-incoming-deputy-governor-uchida-2023-02-28/',\n",
       "  'lastmod': '2023-02-28T05:07:27.701Z',\n",
       "  'image:image': {'image:loc': 'https://www.reuters.com/resizer/zdUiC9fNbVXaWtpp-CxeflCJ0YA=/cloudfront-us-east-2.images.arcpublishing.com/reuters/YUNBVI3S6ZL3HIKUNIUOGUSAWE.jpg',\n",
       "   'image:caption': \"The Japanese government's nominee for the Bank of Japan (BOJ) Deputy Governor Shinichi Uchida speaks during a hearing session at the lower house of the parliament in Tokyo, Japan, February 24, 2023.  REUTERS/Issei Kato\"}},\n",
       " {'loc': 'https://www.reuters.com/breakingviews/warren-buffetts-greatest-hits-lose-their-verve-2023-02-27/',\n",
       "  'lastmod': '2023-02-28T01:20:41.743Z',\n",
       "  'image:image': {'image:loc': 'https://www.reuters.com/resizer/RVxdrLUugOZ9g0DEDZZaTZ6KYS8=/cloudfront-us-east-2.images.arcpublishing.com/reuters/GNLBJR2KCNJUDOYJ6HNU5LXD7A.jpg',\n",
       "   'image:caption': \"Berkshire Hathaway Chairman Warren Buffett walks through the exhibit hall as shareholders gather to hear from the billionaire investor at Berkshire Hathaway Inc's annual shareholder meeting in Omaha, Nebraska, U.S., May 4, 2019. REUTERS/Scott Morgan/File Photo\"}},\n",
       " {'loc': 'https://www.reuters.com/business/aerospace-defense/lockheed-martin-hopes-deliver-more-f-35s-australia-2023-02-28/',\n",
       "  'lastmod': '2023-02-28T05:11:02.741Z',\n",
       "  'image:image': {'image:loc': 'https://www.reuters.com/resizer/Ku9FWE8T4s1iMiG7syIHy6he0ag=/cloudfront-us-east-2.images.arcpublishing.com/reuters/O73CZ5HW6BPWBB5DU644RQ6EIM.jpg',\n",
       "   'image:caption': 'The logo of Lockheed Martin is seen at Euronaval, the world naval defence exhibition in Le Bourget near Paris, France, October 23, 2018. REUTERS/Benoit Tessier'}},\n",
       " {'loc': 'https://www.reuters.com/lifestyle/sports/japan-anti-trust-authorities-seek-criminal-charges-against-dentsu-others-over-2023-02-28/',\n",
       "  'lastmod': '2023-02-28T03:45:23.360Z',\n",
       "  'image:image': {'image:loc': 'https://www.reuters.com/resizer/z37LhCQe5IlpgFCDnYxCcatqp9U=/cloudfront-us-east-2.images.arcpublishing.com/reuters/NSFIXAZR5BLMPIIKVTTAYQTCKM.jpg',\n",
       "   'image:caption': 'A woman, wearing a protective mask against COVID-19, walks past a wall bearing logo of Tokyo 2020 Olympic Games in Tokyo, Japan, July 29, 2021.   REUTERS/Kim Kyung-Hoon'}},\n",
       " {'loc': 'https://www.reuters.com/world/asia-pacific/rust-belt-province-got-old-before-it-got-rich-much-china-will-2023-02-28/',\n",
       "  'lastmod': '2023-02-28T01:33:48.939Z',\n",
       "  'image:image': {'image:loc': 'https://www.reuters.com/resizer/bplR8ZWjXO2exglqUUz4pExzJZk=/cloudfront-us-east-2.images.arcpublishing.com/reuters/5J6WQOW4YVP47LTIKYAYUH4UAQ.jpg',\n",
       "   'image:caption': 'Farmer Wang Zhanling sits next to his wife in their house in Quansheng village, Heilongjiang Province, China, February 8, 2023. REUTERS/Thomas Peter'}},\n",
       " {'loc': 'https://www.reuters.com/business/energy/japan-promote-gas-lng-hydrogen-investments-during-g7-presidency-meti-2023-02-28/',\n",
       "  'lastmod': '2023-02-28T01:11:59.362Z',\n",
       "  'image:image': {'image:loc': 'https://www.reuters.com/resizer/oLLK722u-k7rNkmfECprRLWcHNc=/cloudfront-us-east-2.images.arcpublishing.com/reuters/U3TCOHLZBVKH7CBD3THI3KKHYY.jpg',\n",
       "   'image:caption': 'A liquefied natural gas (LNG) tanker is tugged towards a thermal power station in Futtsu, east of Tokyo, Japan November 13, 2017. REUTERS/Issei Kato//File Photo'}},\n",
       " {'loc': 'https://www.reuters.com/world/india/weak-global-demand-rate-hikes-may-curtail-india-growth-economists-2023-02-28/',\n",
       "  'lastmod': '2023-02-28T01:22:47.779Z',\n",
       "  'image:image': {'image:loc': 'https://www.reuters.com/resizer/afwmkMhskfHTYCYef7nhhVMDTaI=/cloudfront-us-east-2.images.arcpublishing.com/reuters/P3QMDN7YNFMHLPDA4MZW3VM6CM.jpg',\n",
       "   'image:caption': 'Labourers work at the construction site of a commercial building in New Delhi, India, December 13, 2022. REUTERS/Anushree Fadnavis'}},\n",
       " {'loc': 'https://www.reuters.com/technology/elon-musk-recruits-team-develop-openai-rival-information-2023-02-28/',\n",
       "  'lastmod': '2023-02-28T01:41:22.618Z',\n",
       "  'image:image': {'image:loc': 'https://www.reuters.com/resizer/I4HvZm9f_dRl7gUuQ2S5scOBJ_8=/cloudfront-us-east-2.images.arcpublishing.com/reuters/DYHAI4MBSFLHVCZ27CLLBRCKVQ.jpg',\n",
       "   'image:caption': 'Tesla CEO Elon Musk arrives on the red carpet for the automobile awards \"Das Goldene Lenkrad\" (The golden steering wheel) given by a German newspaper in Berlin, Germany, November 12, 2019. REUTERS/Hannibal Hanschke/File Photo'}},\n",
       " {'loc': 'https://www.reuters.com/world/new-zealand-businesses-less-pessimistic-february-anz-survey-2023-02-28/',\n",
       "  'lastmod': '2023-02-28T00:47:09.154Z'},\n",
       " {'loc': 'https://www.reuters.com/markets/australias-current-account-surplus-widens-sharply-q4-2023-02-28/',\n",
       "  'lastmod': '2023-02-28T00:45:13.076Z'},\n",
       " {'loc': 'https://www.reuters.com/world/us/house-committee-probe-epa-response-ohio-derailment-2023-02-28/',\n",
       "  'lastmod': '2023-02-28T00:41:52.293Z',\n",
       "  'image:image': {'image:loc': 'https://www.reuters.com/resizer/luFhjogHqIHiRd2c0hCbL0qIE24=/cloudfront-us-east-2.images.arcpublishing.com/reuters/WQ4LMYZ2IZOITJC72I35DEOH3I.jpg',\n",
       "   'image:caption': 'A general view as members of the U.S. Environmental Protection Agency (EPA) (not pictured) inspect the site of a train derailment of hazardous material in East Palestine, Ohio, U.S., February 16, 2023. REUTERS/Alan Freed'}},\n",
       " {'loc': 'https://www.reuters.com/business/retail-consumer/australia-retail-sales-rebound-by-19-january-2023-02-28/',\n",
       "  'lastmod': '2023-02-28T01:28:26.099Z',\n",
       "  'image:image': {'image:loc': 'https://www.reuters.com/resizer/Hmol14STn_oDZxX0cJQND9FsZpI=/cloudfront-us-east-2.images.arcpublishing.com/reuters/VTUKXV2SGFOTBFWZB2E3PAPMBU.jpg',\n",
       "   'image:caption': 'FILE PHOTO - A shopper holds items and looks at others on sale at a clothing retail store in central Sydney, Australia, March 19, 2017. REUTERS/Steven Saphore/File Photo'}},\n",
       " {'loc': 'https://www.reuters.com/business/aerospace-defense/boeing-says-great-news-if-mq-28-drone-can-partner-with-f-35-2023-02-28/',\n",
       "  'lastmod': '2023-02-28T04:09:35.642Z',\n",
       "  'image:image': {'image:loc': 'https://www.reuters.com/resizer/SnSR_8RTasEyrjF2TwmuCNy8nzY=/cloudfront-us-east-2.images.arcpublishing.com/reuters/5UWRBSCDRVIQHD6YSLPNCI3E7U.jpg',\n",
       "   'image:caption': 'A Boeing MQ-28 Ghost Bat fighter-like drone is kept on display at the Australian International Airshow, in Avalon, Australia February 28, 2023. REUTERS/Jamie Freed'}},\n",
       " {'loc': 'https://www.reuters.com/technology/aclu-urges-us-lawmakers-not-ban-tiktok-2023-02-28/',\n",
       "  'lastmod': '2023-02-28T02:11:47.858Z',\n",
       "  'image:image': {'image:loc': 'https://www.reuters.com/resizer/BdbV_EcGROtWu7X4JftSavCq_8o=/cloudfront-us-east-2.images.arcpublishing.com/reuters/QTG5P3HXRZOWVO6LPYLY2JXKD4.jpg',\n",
       "   'image:caption': \"The TikTok logo is pictured outside the company's U.S. head office in Culver City, California, U.S.,  September 15, 2020.   REUTERS/Mike Blake/File Photo\"}},\n",
       " {'loc': 'https://www.reuters.com/world/us/us-commerce-ask-companies-seeking-chips-funding-provide-childcare-employees-2023-02-28/',\n",
       "  'lastmod': '2023-02-28T03:52:39.781Z',\n",
       "  'image:image': {'image:loc': 'https://www.reuters.com/resizer/-1spoXcvU13-fQ1CxQwN3D7m9v4=/cloudfront-us-east-2.images.arcpublishing.com/reuters/DVZTRJ3DYJPCTEX6EFT3WHKYMM.jpg',\n",
       "   'image:caption': 'The Department of Commerce building is seen before an expected report of new home sales numbers in Washington, U.S., January 26, 2022.      REUTERS/Joshua Roberts'}},\n",
       " {'loc': 'https://www.reuters.com/lifestyle/sports/cactus-league-roundup-emmanuel-rivera-d-backs-walk-off-cubs-2023-02-28/',\n",
       "  'lastmod': '2023-02-28T00:31:37.450Z',\n",
       "  'image:image': {'image:loc': 'https://www.reuters.com/resizer/s0Izqbu4UV_fb8rsi8jscjTwNLM=/cloudfront-us-east-2.images.arcpublishing.com/reuters/PTZ4BTVXHRO6PKZ6ZNLWKWGQ2U.jpg',\n",
       "   'image:caption': 'Feb 27, 2023; Mesa, Arizona, USA;  Cleveland Guardians center fielder Roman Quinn (4) celebrates after hitting a two-run home run in the second inning against the Chicago Cubs during a spring training game at Sloan Park. Mandatory Credit: Matt Kartozian-USA TODAY Sports'}},\n",
       " {'loc': 'https://www.reuters.com/markets/deals/canadas-baytex-energy-nears-25-bln-deal-us-peer-ranger-oil-sources-2023-02-28/',\n",
       "  'lastmod': '2023-02-28T00:26:53.173Z'},\n",
       " {'loc': 'https://www.reuters.com/markets/global-markets-view-asia-graphic-pix-2023-02-27/',\n",
       "  'lastmod': '2023-02-28T00:21:12.653Z',\n",
       "  'image:image': {'image:loc': 'https://www.reuters.com/resizer/tYm_EdKlZS8EmjXbwnoJNN5M8dg=/cloudfront-us-east-2.images.arcpublishing.com/reuters/OO5LT6YCHRKQHKS5JJIBQQV3FU.jpg',\n",
       "   'image:caption': 'A man on a bicycle stands in front of an electronic board showing Shanghai stock index, Nikkei share price index and  Dow Jones Industrial Average outside a brokerage in Tokyo, Japan September 22, 2022. REUTERS/Kim Kyung-Hoon'}},\n",
       " {'loc': 'https://www.reuters.com/markets/asia/japans-factory-output-suffer-biggest-fall-8-months-2023-02-28/',\n",
       "  'lastmod': '2023-02-28T02:15:43.273Z',\n",
       "  'image:image': {'image:loc': 'https://www.reuters.com/resizer/NT4istljvyK9i_UCOA9LJvlJIz0=/cloudfront-us-east-2.images.arcpublishing.com/reuters/HYIY6HRDWRO4BBK6XZU6VGLF2Y.jpg',\n",
       "   'image:caption': 'A worker checks machinery at a factory in Higashiosaka, Japan June 23, 2022.  REUTERS/Sakura Murakami'}},\n",
       " {'loc': 'https://www.reuters.com/lifestyle/sports/england-90-runs-victory-after-roots-steadying-half-century-2023-02-28/',\n",
       "  'lastmod': '2023-02-28T00:17:48.627Z',\n",
       "  'image:image': {'image:loc': 'https://www.reuters.com/resizer/k61VGYL77NPc6XXSwjOR4WEG3K4=/cloudfront-us-east-2.images.arcpublishing.com/reuters/PQGLUQQ6TBNSPPPYPBBIJTFQXY.jpg',\n",
       "   'image:caption': \"Cricket - Third Test - England v South Africa - The Oval, London, Britain - September 11, 2022 England's Joe Root Action Images via Reuters/Andrew Boyers\"}},\n",
       " {'loc': 'https://www.reuters.com/business/healthcare-pharmaceuticals/eisai-biogen-say-alzheimers-drug-lecanemab-getting-priority-review-china-2023-02-28/',\n",
       "  'lastmod': '2023-02-28T00:17:03.831Z',\n",
       "  'image:image': {'image:loc': 'https://www.reuters.com/resizer/ssgib9MMRguFTlTYNGnOUsZQyvY=/cloudfront-us-east-2.images.arcpublishing.com/reuters/YE3A3VZH7NJOJNACU5TR4EMS2I.jpg',\n",
       "   'image:caption': 'The logo of Eisai Co Ltd is displayed at the company headquarters in Tokyo, Japan, March 8, 2018. REUTERS/Issei Kato'}},\n",
       " {'loc': 'https://www.reuters.com/world/uk/uks-hunt-has-extra-30-bln-pounds-play-with-march-budget-ifs-2023-02-28/',\n",
       "  'lastmod': '2023-02-28T00:16:14.819Z',\n",
       "  'image:image': {'image:loc': 'https://www.reuters.com/resizer/3lg_22eYmsQ8FAimsD3O-HUCrnw=/cloudfront-us-east-2.images.arcpublishing.com/reuters/AULJRV26VJLFRLL6PBUBHH76EU.jpg',\n",
       "   'image:caption': 'British Chancellor of the Exchequer Jeremy Hunt talks to a television crew outside the BBC headquarters in London, Britain November 18, 2022. REUTERS/Henry Nicholls'}},\n",
       " {'loc': 'https://www.reuters.com/business/energy/petroecuador-finish-contingency-work-sote-pipeline-tuesday-2023-02-28/',\n",
       "  'lastmod': '2023-02-28T00:08:12.093Z',\n",
       "  'image:image': {'image:loc': 'https://www.reuters.com/resizer/Oknx2xr63Q8xHi8umZlOIBBhdSs=/cloudfront-us-east-2.images.arcpublishing.com/reuters/B52FQQHNOVL7DBJHGS63Z3IWYY.jpg',\n",
       "   'image:caption': \"A view shows the Ecuador's state-run Esmeraldas refinery complex in Esmeraldas, Ecuador, August 15, 2017, REUTERS/Daniel Tapia/File Photo\"}},\n",
       " {'loc': 'https://www.reuters.com/business/mental-health-startup-cerebral-lay-off-about-15-workforce-2023-02-28/',\n",
       "  'lastmod': '2023-02-28T00:05:22.704Z'},\n",
       " {'loc': 'https://www.reuters.com/business/aerospace-defense/lockheeds-himars-plant-gearing-up-meet-demand-after-ukraine-success-2023-02-28/',\n",
       "  'lastmod': '2023-02-28T00:01:39.676Z',\n",
       "  'image:image': {'image:loc': 'https://www.reuters.com/resizer/cABbNCkbZxHkYorkws9Dadd-R5w=/cloudfront-us-east-2.images.arcpublishing.com/reuters/DHZLKNL55JLTHFOQQWNU52UL34.jpg',\n",
       "   'image:caption': 'A HIMARS (High Mobility Artillery Rocket System) missile launcher climbs a 60-degree ramp on a test track at Lockheed Martin Camden Operations in Camden, Arkansas, U.S., February 27, 2023. REUTERS/Kevin Lamarque'}},\n",
       " {'loc': 'https://www.reuters.com/world/americas/massive-forest-fires-rage-eastern-cuba-2023-02-27/',\n",
       "  'lastmod': '2023-02-27T23:44:19.279Z',\n",
       "  'image:image': {'image:loc': 'https://www.reuters.com/resizer/VMOfCnNKwQG1Ffp2U2V8TOiD3NI=/cloudfront-us-east-2.images.arcpublishing.com/reuters/OPR3X6JRANKO5ETC557KZCZHQE.jpg',\n",
       "   'image:caption': 'Smoke from burning vegetation rises in Pinares de Mayari, Cuba, February 23, 2023. REUTERS/Juan Pablo Carreras'}},\n",
       " {'loc': 'https://www.reuters.com/business/retail-consumer/australias-harvey-norman-slumps-lower-half-year-profit-2023-02-27/',\n",
       "  'lastmod': '2023-02-28T00:38:19.612Z',\n",
       "  'image:image': {'image:loc': 'https://www.reuters.com/resizer/V7KiDHJMuaPVEGvk0z3DIJ-uCGY=/cloudfront-us-east-2.images.arcpublishing.com/reuters/K7IXI5PT55IWVMTVIJLJRFQAPE.jpg',\n",
       "   'image:caption': 'Shoppers walk the furniture showroom at a Harvey Norman outlet in Sydney, Australia, February 27, 2017.  REUTERS/Jason Reed'}},\n",
       " {'loc': 'https://www.reuters.com/legal/robinhood-says-sec-issued-subpoena-related-crypto-operations-2023-02-27/',\n",
       "  'lastmod': '2023-02-27T23:46:07.165Z',\n",
       "  'image:image': {'image:loc': 'https://www.reuters.com/resizer/H9gUcSX07Gsqe234tEmSXW7T5kY=/cloudfront-us-east-2.images.arcpublishing.com/reuters/W5SIPG3235MPVK6YVEJ6QE63TE.jpg',\n",
       "   'image:caption': 'A representation of virtual currency Bitcoin is seen in front of a stock graph in this illustration taken January 8, 2021. REUTERS/Dado Ruvic//File Photo'}},\n",
       " {'loc': 'https://www.reuters.com/world/americas/mexico-receives-us-request-extradite-son-druglord-chapo-guzman-sources-2023-02-27/',\n",
       "  'lastmod': '2023-02-28T00:17:44.764Z',\n",
       "  'image:image': {'image:loc': 'https://www.reuters.com/resizer/QN0m5ns5EzfsnZcTiXCW5yFt5WU=/cloudfront-us-east-2.images.arcpublishing.com/reuters/CNRBNPB2CNOGDD4BTY7D76IZYM.jpg',\n",
       "   'image:caption': 'Members of the National Guard stand outside the Altiplano high security prison where Mexican drug gang leader Ovidio Guzman, the 32-year-old son of jailed kingpin Joaquin \"El Chapo\" Guzman, is imprisoned in Almoloya de Juarez, State of Mexico, Mexico January 7, 2023. REUTERS/Luis Cortes'}},\n",
       " {'loc': 'https://www.reuters.com/world/europe/russia-will-not-resume-start-nuclear-talks-until-washington-listens-moscow-2023-02-27/',\n",
       "  'lastmod': '2023-02-27T23:28:05.112Z',\n",
       "  'image:image': {'image:loc': 'https://www.reuters.com/resizer/R-FqdgMlybCktOAETC-3CaEE9jo=/cloudfront-us-east-2.images.arcpublishing.com/reuters/WEDNY75PUNI4DE4VYNOKM6OOIA.jpg',\n",
       "   'image:caption': 'Kremlin spokesman Dmitry Peskov attends a news conference of Russian President Vladimir Putin following the Shanghai Cooperation Organization (SCO) summit in Samarkand, Uzbekistan September 16, 2022. Sputnik/Sergey Bobylev/Pool via REUTERS'}},\n",
       " {'loc': 'https://www.reuters.com/legal/legalindustry/california-panel-wants-state-keep-bar-exam-design-its-own-test-2023-02-27/',\n",
       "  'lastmod': '2023-02-27T23:25:55.449Z',\n",
       "  'image:image': {'image:loc': 'https://www.reuters.com/resizer/N-FvnHS-mX7R0hKI5YIamRgTFuo=/cloudfront-us-east-2.images.arcpublishing.com/reuters/ECOQH2EXEBMFNODZFG3T3KVY6A.jpg',\n",
       "   'image:caption': 'REUTERS/Brian Snyder'}},\n",
       " {'loc': 'https://www.reuters.com/world/us/yes-joe-biden-plans-run-president-again-wife-jill-says-2023-02-27/',\n",
       "  'lastmod': '2023-02-27T23:25:02.413Z',\n",
       "  'image:image': {'image:loc': 'https://www.reuters.com/resizer/idDLwvKA5pVmEJ6D_8ZT3GqRJ0w=/cloudfront-us-east-2.images.arcpublishing.com/reuters/OT3KYOGEAZO55INXR62FA4XADQ.jpg',\n",
       "   'image:caption': 'Former U.S. Vice President Joe Biden addresses the International Association of Fire Fighters in Washington, U.S., March 12, 2019. REUTERS/Kevin Lamarque'}},\n",
       " {'loc': 'https://www.reuters.com/world/americas/mexican-restaurant-operator-alsea-sees-profit-dip-due-higher-taxes-2023-02-27/',\n",
       "  'lastmod': '2023-02-28T02:44:35.930Z'},\n",
       " {'loc': 'https://www.reuters.com/world/europe/tiktok-suffers-another-blow-with-european-commissions-ban-2023-02-24/',\n",
       "  'lastmod': '2023-02-27T23:11:24.167Z',\n",
       "  'image:image': {'image:loc': 'https://www.reuters.com/resizer/N1_uyddvNrsGQ1Ml0oJHr8mXmdI=/cloudfront-us-east-2.images.arcpublishing.com/reuters/U57A3PS4PFLUTGWDKU6QAQ3YX4.jpg',\n",
       "   'image:caption': 'A 3-D printed figures are seen in front of displayed Tik Tok logo in this picture illustration taken November 7, 2019. Picture taken November 7, 2019. REUTERS/Dado Ruvic/Illustration'}},\n",
       " {'loc': 'https://www.reuters.com/world/ecuador-belgium-sign-deal-fight-crime-after-mega-cocaine-bust-2023-02-27/',\n",
       "  'lastmod': '2023-02-27T23:01:33.914Z',\n",
       "  'image:image': {'image:loc': 'https://www.reuters.com/resizer/Qkj7DpBH2L7Vw-zmoJ3And-Fqdg=/cloudfront-us-east-2.images.arcpublishing.com/reuters/HSA7ZVSCO5PXHBG4K7M6SKVFJU.jpg',\n",
       "   'image:caption': \"Workers unload sacks containing cocaine packages from a truck before the incineration of more than nine tons of cocaine which were seized during different operations, according to the Ecuador's Interior Ministry, in a warehouse at an undisclosed location, in Ecuador April 21, 2022. REUTERS/Karen Toro\"}},\n",
       " {'loc': 'https://www.reuters.com/legal/tesla-musk-sued-by-shareholders-over-self-driving-safety-claims-2023-02-27/',\n",
       "  'lastmod': '2023-02-27T22:55:42.889Z',\n",
       "  'image:image': {'image:loc': 'https://www.reuters.com/resizer/wuR8SSOfpa6gsMer3RD6EniIxA4=/cloudfront-us-east-2.images.arcpublishing.com/reuters/VIMYPRBVVJK5PCENV2NMTTCI2M.jpg',\n",
       "   'image:caption': 'The interior of a Tesla Model S is shown in autopilot mode in San Francisco, California, U.S., April 7, 2016.   REUTERS/Alexandria Sage/File Photo'}},\n",
       " {'loc': 'https://www.reuters.com/markets/asia/bojs-wakatabe-warns-secular-stagnation-risk-has-yet-pass-2023-02-27/',\n",
       "  'lastmod': '2023-02-27T22:54:04.635Z',\n",
       "  'image:image': {'image:loc': 'https://www.reuters.com/resizer/mo9ZISsiQvQ7BRLrlF3-ozxO6xM=/cloudfront-us-east-2.images.arcpublishing.com/reuters/RIQ2AS4BEBKXLGYSKN4QHBDR5E.jpg',\n",
       "   'image:caption': 'Deputy Governor at the Bank of Japan, Masazumi Wakatabe speaks at a European Financial Forum event in Dublin, Ireland February 13, 2019. REUTERS/Clodagh Kilcoyne/File Photo'}},\n",
       " {'loc': 'https://www.reuters.com/world/europe/us-treasurys-yellen-makes-surprise-visit-ukraine-push-economic-aid-2023-02-27/',\n",
       "  'lastmod': '2023-02-27T22:47:27.067Z',\n",
       "  'image:image': {'image:loc': 'https://www.reuters.com/resizer/tFgXXwyK1qNZ4J0OdpmTZVdYWv4=/cloudfront-us-east-2.images.arcpublishing.com/reuters/JIZLQRSM4ZPPJDHDRTNHZEVTCM.jpg',\n",
       "   'image:caption': \"Ukraine's President Volodymyr Zelenskiy welcomes U.S. Treasury Secretary Janet Yellen, amid Russia's attack on Ukraine, in Kyiv, Ukraine February 27, 2023. Ukrainian Presidential Press Service/Handout via REUTERS\"}},\n",
       " {'loc': 'https://www.reuters.com/legal/legalindustry/law-firms-dial-back-summer-associate-hiring-amid-legal-market-slowdown-2023-02-27/',\n",
       "  'lastmod': '2023-02-27T22:38:43.149Z',\n",
       "  'image:image': {'image:loc': 'https://www.reuters.com/resizer/KrvsYFWXzMGewIvx1rr_kesypbw=/cloudfront-us-east-2.images.arcpublishing.com/reuters/C2FXSYMMZZOSPLPB5DWONHKLG4.jpg',\n",
       "   'image:caption': 'REUTERS/Axel Schmidt'}},\n",
       " {'loc': 'https://www.reuters.com/business/aerospace-defense/japans-ispace-track-late-april-touchdown-attempt-private-moon-lander-2023-02-27/',\n",
       "  'lastmod': '2023-02-27T23:52:37.524Z'},\n",
       " {'loc': 'https://www.reuters.com/world/asia-pacific/north-koreas-kim-calls-agriculture-reform-amid-food-shortage-woes-2023-02-27/',\n",
       "  'lastmod': '2023-02-28T02:46:41.377Z',\n",
       "  'image:image': {'image:loc': 'https://www.reuters.com/resizer/glCNulGD3AsDQEx0DbK1f-lS5rg=/cloudfront-us-east-2.images.arcpublishing.com/reuters/J4QV2GEAM5LCXBHVCEKNFAMQ4M.jpg',\n",
       "   'image:caption': \"North?Korean leader Kim Jong Un attends the 7th enlarged plenary meeting of the 8th Central Committee of the Workers' Party of Korea (WPK) in Pyongyang, North Korea, February 27, 2023 in this  photo released by North Korea's Korean Central News Agency (KCNA). KCNA via REUTERS\"}},\n",
       " {'loc': 'https://www.reuters.com/lifestyle/sports/late-luis-alberto-goal-lifts-lazio-into-top-four-after-sampdoria-win-2023-02-27/',\n",
       "  'lastmod': '2023-02-27T22:27:17.125Z',\n",
       "  'image:image': {'image:loc': 'https://www.reuters.com/resizer/ZpD5dsAlrxlYN88WPeU1n52KDp8=/cloudfront-us-east-2.images.arcpublishing.com/reuters/ZH2Q2NHC3JPVHHN3NFULYFO36Q.jpg',\n",
       "   'image:caption': \"Soccer Football - Serie A - Lazio v Atalanta - Stadio Olimpico, Rome, Italy - February 11, 2023 Lazio's Luis Alberto takes a corner kick REUTERS/Alberto Lingria\"}},\n",
       " {'loc': 'https://www.reuters.com/lifestyle/sports/messi-named-fifa-player-2022-england-women-rewarded-euro-campaign-2023-02-27/',\n",
       "  'lastmod': '2023-02-28T00:10:49.823Z',\n",
       "  'image:image': {'image:loc': 'https://www.reuters.com/resizer/KErzt3gkArXv5pLBoBZ8ZE-nHLQ=/cloudfront-us-east-2.images.arcpublishing.com/reuters/243FYGK73FIVFDXE2YMT2VJ3KA.jpg',\n",
       "   'image:caption': \"Soccer Football - The Best FIFA Football Awards - Salle Pleyel, Paris, France - February 27, 2023 Paris St Germain's Lionel Messi winner of The Best FIFA Player award 2022 REUTERS/Sarah Meyssonnier\"}},\n",
       " {'loc': 'https://www.reuters.com/world/us/us-senate-leader-schumer-norfolk-southern-chief-should-testify-ohio-train-wreck-2023-02-27/',\n",
       "  'lastmod': '2023-02-27T22:22:18.262Z',\n",
       "  'image:image': {'image:loc': 'https://www.reuters.com/resizer/8jhSx26JYeVjm8Viu7G5tKqMVvU=/cloudfront-us-east-2.images.arcpublishing.com/reuters/3VGOD637OVNDPOCOP3EB7XER2U.jpg',\n",
       "   'image:caption': 'U.S. Senate Majority Leader Chuck Schumer (D-NY) speaks during a news conference ahead of U.S. President Joe Biden’s State of the Union Address in Washington, U.S., February 7, 2023. REUTERS/Elizabeth Frantz'}}]"
      ]
     },
     "execution_count": 88,
     "metadata": {},
     "output_type": "execute_result"
    }
   ],
   "source": [
    "news_dict['urlset']['url']"
   ]
  },
  {
   "cell_type": "code",
   "execution_count": 89,
   "id": "d26424ee-34a3-445b-9d27-f44caad8cdaf",
   "metadata": {},
   "outputs": [
    {
     "name": "stdout",
     "output_type": "stream",
     "text": [
      "Wall time: 531 ms\n"
     ]
    }
   ],
   "source": [
    "#url을 활용하여 데이터 다운로드하기\n",
    "%%time\n",
    "\n",
    "session = requests.Session()\n",
    "\n",
    "for url in news_urls[:5]:\n",
    "    file = url.split(\"/\")[-2] + '.html'\n",
    "    \n",
    "    response = session.get(url)\n",
    "    if response.ok:\n",
    "        with open(\"datas/\" +file, \"w+b\") as f:\n",
    "            f.write(response.text.encode('utf-8'))\n",
    "    else:\n",
    "        print(f\"error widh URL : {url}\")"
   ]
  },
  {
   "cell_type": "code",
   "execution_count": null,
   "id": "1ec2b396-7262-473a-8d28-55f4b29fc4ee",
   "metadata": {},
   "outputs": [],
   "source": []
  }
 ],
 "metadata": {
  "kernelspec": {
   "display_name": "Python 3 (ipykernel)",
   "language": "python",
   "name": "python3"
  },
  "language_info": {
   "codemirror_mode": {
    "name": "ipython",
    "version": 3
   },
   "file_extension": ".py",
   "mimetype": "text/x-python",
   "name": "python",
   "nbconvert_exporter": "python",
   "pygments_lexer": "ipython3",
   "version": "3.9.13"
  }
 },
 "nbformat": 4,
 "nbformat_minor": 5
}
