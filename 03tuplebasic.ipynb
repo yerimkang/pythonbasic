{
 "cells": [
  {
   "cell_type": "code",
   "execution_count": 1,
   "id": "0cafb5de-37e8-4b5e-aaa8-292d49f98e6a",
   "metadata": {},
   "outputs": [
    {
     "name": "stdout",
     "output_type": "stream",
     "text": [
      "0.5859072208404541\n"
     ]
    }
   ],
   "source": [
    "import time\n",
    "start_time = time.time()\n",
    "test=[]\n",
    "\n",
    "#1,000,000번을 반복해서 tuple 만듭니다.\n",
    "for _ in range(1_000_000) :\n",
    "    tp = (_,_) #tuple\n",
    "    test.append(tp)\n",
    "\n",
    "#끝나는 시간 - 시작하는 시간\n",
    "print(time.time() - start_time)\n",
    "#동작한 시간"
   ]
  },
  {
   "cell_type": "code",
   "execution_count": 2,
   "id": "dd8e6fea-060d-4950-987c-29bb2c32e7e5",
   "metadata": {},
   "outputs": [
    {
     "name": "stdout",
     "output_type": "stream",
     "text": [
      "1.2858819961547852\n"
     ]
    }
   ],
   "source": [
    "start_time = time.time()\n",
    "test = []\n",
    "\n",
    "for _ in range(1_000_000) :\n",
    "    tp = [_,_] #list\n",
    "    test.append(tp)\n",
    "    \n",
    "print(time.time() - start_time)"
   ]
  },
  {
   "cell_type": "code",
   "execution_count": 3,
   "id": "ca7d7e8d-07c5-4213-af2f-94b752b36622",
   "metadata": {},
   "outputs": [
    {
     "name": "stdout",
     "output_type": "stream",
     "text": [
      "text1\n",
      "text2\n"
     ]
    }
   ],
   "source": [
    "s1,s2=(\"text1\",\"text2\")\n",
    "print(s1)\n",
    "print(s2)"
   ]
  },
  {
   "cell_type": "code",
   "execution_count": 4,
   "id": "7b058f7c-0e7e-4341-a5f4-e0cd7c222aa2",
   "metadata": {},
   "outputs": [
    {
     "name": "stdout",
     "output_type": "stream",
     "text": [
      "이렇게 리스트도 가능합니다.\n"
     ]
    }
   ],
   "source": [
    "s3,s4,s5 = [\"이렇게\",\"리스트도\", \"가능합니다.\"]\n",
    "print(s3,s4,s5)"
   ]
  },
  {
   "cell_type": "code",
   "execution_count": 5,
   "id": "59909b4e-a24e-40e7-9857-736c807af983",
   "metadata": {},
   "outputs": [
    {
     "name": "stdin",
     "output_type": "stream",
     "text": [
      "Message : 아무값이나 넣어봐\n"
     ]
    }
   ],
   "source": [
    "input_value = input(\"Message :\")"
   ]
  },
  {
   "cell_type": "code",
   "execution_count": 6,
   "id": "cfd82397-29db-4122-8543-1fe36cc318b5",
   "metadata": {},
   "outputs": [
    {
     "name": "stdout",
     "output_type": "stream",
     "text": [
      "\n"
     ]
    }
   ],
   "source": [
    "print()"
   ]
  },
  {
   "cell_type": "code",
   "execution_count": 7,
   "id": "6c657c43-dcb0-42ec-b893-2ac658b364c0",
   "metadata": {},
   "outputs": [
    {
     "name": "stdout",
     "output_type": "stream",
     "text": [
      "input_value: 아무값이나 넣어봐 \n",
      "type: <class 'str'>\n"
     ]
    }
   ],
   "source": [
    "print(\"input_value:\",input_value,\"\\ntype:\",type(input_value))"
   ]
  },
  {
   "cell_type": "code",
   "execution_count": 9,
   "id": "11ed8506-d6c9-4354-aaee-459108e801c7",
   "metadata": {},
   "outputs": [
    {
     "name": "stdin",
     "output_type": "stream",
     "text": [
      "값 : 1111\n"
     ]
    },
    {
     "name": "stdout",
     "output_type": "stream",
     "text": [
      "1111\n"
     ]
    }
   ],
   "source": [
    "v=input(\"값 :\")\n",
    "v = int(v)\n",
    "print(v)"
   ]
  },
  {
   "cell_type": "code",
   "execution_count": 14,
   "id": "e607965a-8934-4617-9a6e-e17322a29c10",
   "metadata": {},
   "outputs": [
    {
     "name": "stdin",
     "output_type": "stream",
     "text": [
      "값: 1\n"
     ]
    },
    {
     "name": "stdout",
     "output_type": "stream",
     "text": [
      "1.0\n"
     ]
    }
   ],
   "source": [
    "input_value2=input(\"값:\")\n",
    "input_value2 = float(input_value2)\n",
    "print(input_value2)"
   ]
  },
  {
   "cell_type": "code",
   "execution_count": 17,
   "id": "a7c5cc0f-2e9d-4757-8e18-2df21d6c6188",
   "metadata": {},
   "outputs": [
    {
     "name": "stdin",
     "output_type": "stream",
     "text": [
      "정수를 입력해주세요: 123\n"
     ]
    },
    {
     "name": "stdout",
     "output_type": "stream",
     "text": [
      "123\n"
     ]
    }
   ],
   "source": [
    "input_value2=int(input(\"정수를 입력해주세요:\"))\n",
    "print(input_value2)"
   ]
  },
  {
   "cell_type": "code",
   "execution_count": 19,
   "id": "032f70fa-879a-41dd-8bf5-125908b1181b",
   "metadata": {},
   "outputs": [
    {
     "name": "stdin",
     "output_type": "stream",
     "text": [
      "이름을 입력하시오 : 강예림\n"
     ]
    },
    {
     "name": "stdout",
     "output_type": "stream",
     "text": [
      "강예림 씨, 안녕하세요?\n",
      "파이썬에 오신 것을 환영합니다.\n"
     ]
    },
    {
     "name": "stdin",
     "output_type": "stream",
     "text": [
      "첫 번째 정수를 입력하세요 : 400\n",
      "두 번째 정수를 입력하세요 : 500\n"
     ]
    },
    {
     "name": "stdout",
     "output_type": "stream",
     "text": [
      "400 과 500 의 합은 900 입니다.\n"
     ]
    }
   ],
   "source": [
    "name = input(\"이름을 입력하시오 :\")\n",
    "print(name,\"씨, 안녕하세요?\\n파이썬에 오신 것을 환영합니다.\")\n",
    "number1 = int(input(\"첫 번째 정수를 입력하세요 :\"))\n",
    "number2 = int(input(\"두 번째 정수를 입력하세요 :\"))\n",
    "print(number1,\"과\",number2,\"의 합은\",number1+number2,\"입니다.\")"
   ]
  },
  {
   "cell_type": "code",
   "execution_count": 20,
   "id": "f3301fb3-e68e-45fb-981e-91714ccb6658",
   "metadata": {},
   "outputs": [
    {
     "name": "stdin",
     "output_type": "stream",
     "text": [
      "이름을 입력하시오 : 강예림\n"
     ]
    },
    {
     "name": "stdout",
     "output_type": "stream",
     "text": [
      "강예림 씨, 안녕하세요?\n",
      "파이썬에 오신 것을 환영합니다.\n"
     ]
    },
    {
     "name": "stdin",
     "output_type": "stream",
     "text": [
      "첫 번째 정수를 입력하세요 : 4\n",
      "두 번째 정수를 입력하세요 : 5\n"
     ]
    },
    {
     "name": "stdout",
     "output_type": "stream",
     "text": [
      "4과5의 합은45입니다.\n"
     ]
    }
   ],
   "source": [
    "name = input(\"이름을 입력하시오 :\")\n",
    "print(name,\"씨, 안녕하세요?\\n파이썬에 오신 것을 환영합니다.\")\n",
    "number1 = input(\"첫 번째 정수를 입력하세요 :\")\n",
    "number2 = input(\"두 번째 정수를 입력하세요 :\")\n",
    "print(number1+\"과\"+number2+\"의 합은\"+number1+number2+\"입니다.\")"
   ]
  },
  {
   "cell_type": "code",
   "execution_count": 21,
   "id": "5dba8771-ddf6-4cb5-ab03-73a84f3f2502",
   "metadata": {},
   "outputs": [
    {
     "name": "stdin",
     "output_type": "stream",
     "text": [
      "이름을 입력하시오 : 강예림\n"
     ]
    },
    {
     "name": "stdout",
     "output_type": "stream",
     "text": [
      "강예림 씨, 안녕하세요?\n",
      "파이썬에 오신 것을 환영합니다.\n"
     ]
    },
    {
     "name": "stdin",
     "output_type": "stream",
     "text": [
      "첫 번째 정수를 입력하세요 : 400\n",
      "두 번째 정수를 입력하세요 : 30\n"
     ]
    },
    {
     "name": "stdout",
     "output_type": "stream",
     "text": [
      "400 과 30 의 합은 430 입니다.\n"
     ]
    }
   ],
   "source": [
    "name = input(\"이름을 입력하시오 :\")\n",
    "print(name,\"씨, 안녕하세요?\\n파이썬에 오신 것을 환영합니다.\")\n",
    "number1 = int(input(\"첫 번째 정수를 입력하세요 :\"))\n",
    "number2 = int(input(\"두 번째 정수를 입력하세요 :\"))\n",
    "print(number1,\"과\",number2,\"의 합은\",number1+number2,\"입니다.\")"
   ]
  },
  {
   "cell_type": "code",
   "execution_count": 24,
   "id": "ab5e7582-b17f-430a-862e-b57b07c6f1ef",
   "metadata": {},
   "outputs": [
    {
     "name": "stdin",
     "output_type": "stream",
     "text": [
      "경기장은 어디입니까? 고척\n",
      "이긴 팀은 어디입니까? KT\n",
      "진팀은 어디입니까? LG\n",
      "우수 선수는 누구입니까? 강백호\n",
      "스코어는 몇대몇입니까? 10:9\n"
     ]
    },
    {
     "name": "stdout",
     "output_type": "stream",
     "text": [
      "\n",
      "[속보]KT가  10:9 로 승리...\n",
      "오늘 고척 경기장에서 야구 경기가 있었습니다.\n",
      "KT 와 LG 는 치열한 공방전을 펼쳤습니다.\n",
      "이 경기에서 강백호 가 맹활약을 했습니다.\n",
      "그 끝내 KT 가 LG 를 10:9 로 승리하였습니다.\n",
      "기사 끝.\n"
     ]
    }
   ],
   "source": [
    "space = input(\"경기장은 어디입니까?\")\n",
    "ateam = input(\"이긴 팀은 어디입니까?\")\n",
    "bteam = input(\"진팀은 어디입니까?\")\n",
    "people = input(\"우수 선수는 누구입니까?\")\n",
    "score = input(\"스코어는 몇대몇입니까?\")\n",
    "\n",
    "print(\"\\n[속보]KT가 \",score,\"로 승리...\\n오늘\",space,\"경기장에서 야구 경기가 있었습니다.\")\n",
    "print(ateam,\"와\",bteam,\"는 치열한 공방전을 펼쳤습니다.\\n이 경기에서\",people,\"가 맹활약을 했습니다.\")\n",
    "print(\"그 끝내\",ateam,\"가\",bteam,\"를\",score,\"로 승리하였습니다.\\n기사 끝.\")"
   ]
  },
  {
   "cell_type": "code",
   "execution_count": 28,
   "id": "52aaad1a-83c6-4d60-83e5-19429e4e8723",
   "metadata": {},
   "outputs": [
    {
     "name": "stdin",
     "output_type": "stream",
     "text": [
      "경기장은 어디입니까? 고척\n",
      "이긴 팀은 어디입니까? KT\n",
      "진팀은 어디입니까? LG\n",
      "우수 선수는 누구입니까? 강백호\n",
      "스코어는 몇대몇입니까? 10:9\n"
     ]
    },
    {
     "name": "stdout",
     "output_type": "stream",
     "text": [
      "\n",
      "[속보]KT가 10:9로 승리...\n",
      "오늘고척경기장에서 야구 경기가 있었습니다.\n",
      "KT와LG는 치열한 공방전을 펼쳤습니다.\n",
      "이 경기에서강백호가 맹활약을 했습니다.\n",
      "그 끝내 KT가LG를10:9로 승리하였습니다.\n",
      "기사 끝.\n"
     ]
    }
   ],
   "source": [
    "space = input(\"경기장은 어디입니까?\")\n",
    "ateam = input(\"이긴 팀은 어디입니까?\")\n",
    "bteam = input(\"진팀은 어디입니까?\")\n",
    "people = input(\"우수 선수는 누구입니까?\")\n",
    "score = input(\"스코어는 몇대몇입니까?\")\n",
    "\n",
    "print(\"\"\"\\n[속보]{}가 {}로 승리...\n",
    "오늘{}경기장에서 야구 경기가 있었습니다.\n",
    "{}와{}는 치열한 공방전을 펼쳤습니다.\n",
    "이 경기에서{}가 맹활약을 했습니다.\n",
    "그 끝내 {}가{}를 {}로 승리하였습니다.\n",
    "기사 끝.\"\"\".format(ateam,score,space,ateam,bteam,people,ateam,bteam,score))"
   ]
  },
  {
   "cell_type": "code",
   "execution_count": 30,
   "id": "ef263b5b-063b-41c2-bf9c-8cdeaead1de0",
   "metadata": {},
   "outputs": [
    {
     "name": "stdin",
     "output_type": "stream",
     "text": [
      "hh:mm:ss 의 형태로 시간을 입력해주세요. 12:33:23\n"
     ]
    },
    {
     "name": "stdout",
     "output_type": "stream",
     "text": [
      "\n",
      "시: 12\n",
      "분: 33\n",
      "초: 23\n"
     ]
    }
   ],
   "source": [
    "t = input(\"hh:mm:ss 의 형태로 시간을 입력해주세요.\")\n",
    "T=t.split(\":\")\n",
    "print(\"\\n시:\" ,T[0])\n",
    "print(\"분:\" ,T[1])\n",
    "print(\"초:\" ,T[2])"
   ]
  },
  {
   "cell_type": "code",
   "execution_count": 31,
   "id": "88495406-b7f5-4357-b019-6ed4bbc61809",
   "metadata": {},
   "outputs": [
    {
     "name": "stdin",
     "output_type": "stream",
     "text": [
      "국어,영어,수학,과학 점수를 입력해주세요. 98,100,96,100\n"
     ]
    },
    {
     "name": "stdout",
     "output_type": "stream",
     "text": [
      "평균 점수는 98.5 점입니다.\n"
     ]
    }
   ],
   "source": [
    "scores = map(int,input(\"국어,영어,수학,과학 점수를 입력해주세요.\").split(\",\"))\n",
    "score = sum(scores)/4\n",
    "print(\"평균 점수는\",score,\"점입니다.\")"
   ]
  },
  {
   "cell_type": "markdown",
   "id": "f0899a70-1c52-416e-a99f-49266de84f80",
   "metadata": {},
   "source": [
    "kor,eng,math,s = map(int,input(\"국어,영어,수학,과학 점수를 입력해주세요.\").split(\",\"))\n",
    "score = (kor+eng+math+s)/4\n",
    "print(\"평균 점수는\",score,\"점입니다.\")"
   ]
  },
  {
   "cell_type": "code",
   "execution_count": 38,
   "id": "9eded6e4-2df0-4c0b-ae8e-fcfb75eb88ec",
   "metadata": {},
   "outputs": [
    {
     "name": "stdin",
     "output_type": "stream",
     "text": [
      "국어,영어,수학,과학 점수를 입력해주세요. 98,100,96,100\n"
     ]
    },
    {
     "name": "stdout",
     "output_type": "stream",
     "text": [
      "평균 점수는 98.5 점입니다.\n"
     ]
    }
   ],
   "source": [
    "kor,eng,math,sci = map(int,input(\"국어,영어,수학,과학 점수를 입력해주세요.\").split(\",\"))\n",
    "score = (kor+eng+math+sci)/4\n",
    "print(\"평균 점수는\",score,\"점입니다.\")"
   ]
  },
  {
   "cell_type": "code",
   "execution_count": 34,
   "id": "ea428bac-2f4d-4583-908e-ffb216962152",
   "metadata": {},
   "outputs": [
    {
     "name": "stdin",
     "output_type": "stream",
     "text": [
      "국어,영어,수학,과학 점수를 입력해주세요. 98,100,96,100\n"
     ]
    },
    {
     "name": "stdout",
     "output_type": "stream",
     "text": [
      "평균 점수는 98.5 점입니다.\n"
     ]
    }
   ],
   "source": [
    "scores = map(int,input(\"국어,영어,수학,과학 점수를 입력해주세요.\").split(\",\"))\n",
    "score = sum(scores)/4\n",
    "print(\"평균 점수는\",score,\"점입니다.\")"
   ]
  },
  {
   "cell_type": "code",
   "execution_count": 42,
   "id": "56c6a801-8947-401e-af82-8c9bd5bb510f",
   "metadata": {},
   "outputs": [],
   "source": [
    "result = (kor,eng,math,sci)"
   ]
  },
  {
   "cell_type": "code",
   "execution_count": 43,
   "id": "aad835d7-98a3-42e6-b43f-f880af90e598",
   "metadata": {},
   "outputs": [
    {
     "data": {
      "text/plain": [
       "tuple"
      ]
     },
     "execution_count": 43,
     "metadata": {},
     "output_type": "execute_result"
    }
   ],
   "source": [
    "type(result)"
   ]
  },
  {
   "cell_type": "code",
   "execution_count": 44,
   "id": "82c226c6-b519-4fcc-b0f0-4ad4c7590583",
   "metadata": {},
   "outputs": [
    {
     "data": {
      "text/plain": [
       "4"
      ]
     },
     "execution_count": 44,
     "metadata": {},
     "output_type": "execute_result"
    }
   ],
   "source": [
    "len(result)"
   ]
  },
  {
   "cell_type": "code",
   "execution_count": 45,
   "id": "b7d830f9-6872-40db-a170-882cd58bc7d7",
   "metadata": {},
   "outputs": [
    {
     "name": "stdin",
     "output_type": "stream",
     "text": [
      "국어,영어,수학,과학 점수를 입력해주세요. 98,100,96,100\n"
     ]
    },
    {
     "name": "stdout",
     "output_type": "stream",
     "text": [
      "평균 점수는 98.5 점입니다.\n"
     ]
    }
   ],
   "source": [
    "kor,eng,math,sci = map(int,input(\"국어,영어,수학,과학 점수를 입력해주세요.\").split(\",\"))\n",
    "result = (kor,eng,math,sci)\n",
    "score = sum(result)/len(result)\n",
    "print(\"평균 점수는\",score,\"점입니다.\")"
   ]
  },
  {
   "cell_type": "code",
   "execution_count": null,
   "id": "0a8c570f-3e0f-49e3-8aa7-9cac01690f9a",
   "metadata": {},
   "outputs": [],
   "source": []
  }
 ],
 "metadata": {
  "kernelspec": {
   "display_name": "Python 3",
   "language": "python",
   "name": "python3"
  },
  "language_info": {
   "codemirror_mode": {
    "name": "ipython",
    "version": 3
   },
   "file_extension": ".py",
   "mimetype": "text/x-python",
   "name": "python",
   "nbconvert_exporter": "python",
   "pygments_lexer": "ipython3",
   "version": "3.8.8"
  }
 },
 "nbformat": 4,
 "nbformat_minor": 5
}
