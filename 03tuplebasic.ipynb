{
 "cells": [
  {
   "cell_type": "code",
   "execution_count": 1,
   "id": "0cafb5de-37e8-4b5e-aaa8-292d49f98e6a",
   "metadata": {},
   "outputs": [
    {
     "name": "stdout",
     "output_type": "stream",
     "text": [
      "0.5859072208404541\n"
     ]
    }
   ],
   "source": [
    "import time\n",
    "start_time = time.time()\n",
    "test=[]\n",
    "\n",
    "#1,000,000번을 반복해서 tuple 만듭니다.\n",
    "for _ in range(1_000_000) :\n",
    "    tp = (_,_) #tuple\n",
    "    test.append(tp)\n",
    "\n",
    "#끝나는 시간 - 시작하는 시간\n",
    "print(time.time() - start_time)\n",
    "#동작한 시간"
   ]
  },
  {
   "cell_type": "code",
   "execution_count": 2,
   "id": "dd8e6fea-060d-4950-987c-29bb2c32e7e5",
   "metadata": {},
   "outputs": [
    {
     "name": "stdout",
     "output_type": "stream",
     "text": [
      "1.2858819961547852\n"
     ]
    }
   ],
   "source": [
    "start_time = time.time()\n",
    "test = []\n",
    "\n",
    "for _ in range(1_000_000) :\n",
    "    tp = [_,_] #list\n",
    "    test.append(tp)\n",
    "    \n",
    "print(time.time() - start_time)"
   ]
  },
  {
   "cell_type": "code",
   "execution_count": 3,
   "id": "ca7d7e8d-07c5-4213-af2f-94b752b36622",
   "metadata": {},
   "outputs": [
    {
     "name": "stdout",
     "output_type": "stream",
     "text": [
      "text1\n",
      "text2\n"
     ]
    }
   ],
   "source": [
    "s1,s2=(\"text1\",\"text2\")\n",
    "print(s1)\n",
    "print(s2)"
   ]
  },
  {
   "cell_type": "code",
   "execution_count": 4,
   "id": "7b058f7c-0e7e-4341-a5f4-e0cd7c222aa2",
   "metadata": {},
   "outputs": [
    {
     "name": "stdout",
     "output_type": "stream",
     "text": [
      "이렇게 리스트도 가능합니다.\n"
     ]
    }
   ],
   "source": [
    "s3,s4,s5 = [\"이렇게\",\"리스트도\", \"가능합니다.\"]\n",
    "print(s3,s4,s5)"
   ]
  },
  {
   "cell_type": "code",
   "execution_count": 5,
   "id": "59909b4e-a24e-40e7-9857-736c807af983",
   "metadata": {},
   "outputs": [
    {
     "name": "stdin",
     "output_type": "stream",
     "text": [
      "Message : 아무값이나 넣어봐\n"
     ]
    }
   ],
   "source": [
    "input_value = input(\"Message :\")"
   ]
  },
  {
   "cell_type": "code",
   "execution_count": 6,
   "id": "cfd82397-29db-4122-8543-1fe36cc318b5",
   "metadata": {},
   "outputs": [
    {
     "name": "stdout",
     "output_type": "stream",
     "text": [
      "\n"
     ]
    }
   ],
   "source": [
    "print()"
   ]
  },
  {
   "cell_type": "code",
   "execution_count": 7,
   "id": "6c657c43-dcb0-42ec-b893-2ac658b364c0",
   "metadata": {},
   "outputs": [
    {
     "name": "stdout",
     "output_type": "stream",
     "text": [
      "input_value: 아무값이나 넣어봐 \n",
      "type: <class 'str'>\n"
     ]
    }
   ],
   "source": [
    "print(\"input_value:\",input_value,\"\\ntype:\",type(input_value))"
   ]
  },
  {
   "cell_type": "code",
   "execution_count": 9,
   "id": "11ed8506-d6c9-4354-aaee-459108e801c7",
   "metadata": {},
   "outputs": [
    {
     "name": "stdin",
     "output_type": "stream",
     "text": [
      "값 : 1111\n"
     ]
    },
    {
     "name": "stdout",
     "output_type": "stream",
     "text": [
      "1111\n"
     ]
    }
   ],
   "source": [
    "v=input(\"값 :\")\n",
    "v = int(v)\n",
    "print(v)"
   ]
  },
  {
   "cell_type": "code",
   "execution_count": 14,
   "id": "e607965a-8934-4617-9a6e-e17322a29c10",
   "metadata": {},
   "outputs": [
    {
     "name": "stdin",
     "output_type": "stream",
     "text": [
      "값: 1\n"
     ]
    },
    {
     "name": "stdout",
     "output_type": "stream",
     "text": [
      "1.0\n"
     ]
    }
   ],
   "source": [
    "input_value2=input(\"값:\")\n",
    "input_value2 = float(input_value2)\n",
    "print(input_value2)"
   ]
  },
  {
   "cell_type": "code",
   "execution_count": 17,
   "id": "a7c5cc0f-2e9d-4757-8e18-2df21d6c6188",
   "metadata": {},
   "outputs": [
    {
     "name": "stdin",
     "output_type": "stream",
     "text": [
      "정수를 입력해주세요: 123\n"
     ]
    },
    {
     "name": "stdout",
     "output_type": "stream",
     "text": [
      "123\n"
     ]
    }
   ],
   "source": [
    "input_value2=int(input(\"정수를 입력해주세요:\"))\n",
    "print(input_value2)"
   ]
  },
  {
   "cell_type": "code",
   "execution_count": 19,
   "id": "032f70fa-879a-41dd-8bf5-125908b1181b",
   "metadata": {},
   "outputs": [
    {
     "name": "stdin",
     "output_type": "stream",
     "text": [
      "이름을 입력하시오 : 강예림\n"
     ]
    },
    {
     "name": "stdout",
     "output_type": "stream",
     "text": [
      "강예림 씨, 안녕하세요?\n",
      "파이썬에 오신 것을 환영합니다.\n"
     ]
    },
    {
     "name": "stdin",
     "output_type": "stream",
     "text": [
      "첫 번째 정수를 입력하세요 : 400\n",
      "두 번째 정수를 입력하세요 : 500\n"
     ]
    },
    {
     "name": "stdout",
     "output_type": "stream",
     "text": [
      "400 과 500 의 합은 900 입니다.\n"
     ]
    }
   ],
   "source": [
    "name = input(\"이름을 입력하시오 :\")\n",
    "print(name,\"씨, 안녕하세요?\\n파이썬에 오신 것을 환영합니다.\")\n",
    "number1 = int(input(\"첫 번째 정수를 입력하세요 :\"))\n",
    "number2 = int(input(\"두 번째 정수를 입력하세요 :\"))\n",
    "print(number1,\"과\",number2,\"의 합은\",number1+number2,\"입니다.\")"
   ]
  },
  {
   "cell_type": "code",
   "execution_count": 20,
   "id": "f3301fb3-e68e-45fb-981e-91714ccb6658",
   "metadata": {},
   "outputs": [
    {
     "name": "stdin",
     "output_type": "stream",
     "text": [
      "이름을 입력하시오 : 강예림\n"
     ]
    },
    {
     "name": "stdout",
     "output_type": "stream",
     "text": [
      "강예림 씨, 안녕하세요?\n",
      "파이썬에 오신 것을 환영합니다.\n"
     ]
    },
    {
     "name": "stdin",
     "output_type": "stream",
     "text": [
      "첫 번째 정수를 입력하세요 : 4\n",
      "두 번째 정수를 입력하세요 : 5\n"
     ]
    },
    {
     "name": "stdout",
     "output_type": "stream",
     "text": [
      "4과5의 합은45입니다.\n"
     ]
    }
   ],
   "source": [
    "name = input(\"이름을 입력하시오 :\")\n",
    "print(name,\"씨, 안녕하세요?\\n파이썬에 오신 것을 환영합니다.\")\n",
    "number1 = input(\"첫 번째 정수를 입력하세요 :\")\n",
    "number2 = input(\"두 번째 정수를 입력하세요 :\")\n",
    "print(number1+\"과\"+number2+\"의 합은\"+number1+number2+\"입니다.\")"
   ]
  },
  {
   "cell_type": "code",
   "execution_count": 21,
   "id": "5dba8771-ddf6-4cb5-ab03-73a84f3f2502",
   "metadata": {},
   "outputs": [
    {
     "name": "stdin",
     "output_type": "stream",
     "text": [
      "이름을 입력하시오 : 강예림\n"
     ]
    },
    {
     "name": "stdout",
     "output_type": "stream",
     "text": [
      "강예림 씨, 안녕하세요?\n",
      "파이썬에 오신 것을 환영합니다.\n"
     ]
    },
    {
     "name": "stdin",
     "output_type": "stream",
     "text": [
      "첫 번째 정수를 입력하세요 : 400\n",
      "두 번째 정수를 입력하세요 : 30\n"
     ]
    },
    {
     "name": "stdout",
     "output_type": "stream",
     "text": [
      "400 과 30 의 합은 430 입니다.\n"
     ]
    }
   ],
   "source": [
    "name = input(\"이름을 입력하시오 :\")\n",
    "print(name,\"씨, 안녕하세요?\\n파이썬에 오신 것을 환영합니다.\")\n",
    "number1 = int(input(\"첫 번째 정수를 입력하세요 :\"))\n",
    "number2 = int(input(\"두 번째 정수를 입력하세요 :\"))\n",
    "print(number1,\"과\",number2,\"의 합은\",number1+number2,\"입니다.\")"
   ]
  },
  {
   "cell_type": "code",
   "execution_count": 24,
   "id": "ab5e7582-b17f-430a-862e-b57b07c6f1ef",
   "metadata": {},
   "outputs": [
    {
     "name": "stdin",
     "output_type": "stream",
     "text": [
      "경기장은 어디입니까? 고척\n",
      "이긴 팀은 어디입니까? KT\n",
      "진팀은 어디입니까? LG\n",
      "우수 선수는 누구입니까? 강백호\n",
      "스코어는 몇대몇입니까? 10:9\n"
     ]
    },
    {
     "name": "stdout",
     "output_type": "stream",
     "text": [
      "\n",
      "[속보]KT가  10:9 로 승리...\n",
      "오늘 고척 경기장에서 야구 경기가 있었습니다.\n",
      "KT 와 LG 는 치열한 공방전을 펼쳤습니다.\n",
      "이 경기에서 강백호 가 맹활약을 했습니다.\n",
      "그 끝내 KT 가 LG 를 10:9 로 승리하였습니다.\n",
      "기사 끝.\n"
     ]
    }
   ],
   "source": [
    "space = input(\"경기장은 어디입니까?\")\n",
    "ateam = input(\"이긴 팀은 어디입니까?\")\n",
    "bteam = input(\"진팀은 어디입니까?\")\n",
    "people = input(\"우수 선수는 누구입니까?\")\n",
    "score = input(\"스코어는 몇대몇입니까?\")\n",
    "\n",
    "print(\"\\n[속보]KT가 \",score,\"로 승리...\\n오늘\",space,\"경기장에서 야구 경기가 있었습니다.\")\n",
    "print(ateam,\"와\",bteam,\"는 치열한 공방전을 펼쳤습니다.\\n이 경기에서\",people,\"가 맹활약을 했습니다.\")\n",
    "print(\"그 끝내\",ateam,\"가\",bteam,\"를\",score,\"로 승리하였습니다.\\n기사 끝.\")"
   ]
  },
  {
   "cell_type": "code",
   "execution_count": 28,
   "id": "52aaad1a-83c6-4d60-83e5-19429e4e8723",
   "metadata": {},
   "outputs": [
    {
     "name": "stdin",
     "output_type": "stream",
     "text": [
      "경기장은 어디입니까? 고척\n",
      "이긴 팀은 어디입니까? KT\n",
      "진팀은 어디입니까? LG\n",
      "우수 선수는 누구입니까? 강백호\n",
      "스코어는 몇대몇입니까? 10:9\n"
     ]
    },
    {
     "name": "stdout",
     "output_type": "stream",
     "text": [
      "\n",
      "[속보]KT가 10:9로 승리...\n",
      "오늘고척경기장에서 야구 경기가 있었습니다.\n",
      "KT와LG는 치열한 공방전을 펼쳤습니다.\n",
      "이 경기에서강백호가 맹활약을 했습니다.\n",
      "그 끝내 KT가LG를10:9로 승리하였습니다.\n",
      "기사 끝.\n"
     ]
    }
   ],
   "source": [
    "space = input(\"경기장은 어디입니까?\")\n",
    "ateam = input(\"이긴 팀은 어디입니까?\")\n",
    "bteam = input(\"진팀은 어디입니까?\")\n",
    "people = input(\"우수 선수는 누구입니까?\")\n",
    "score = input(\"스코어는 몇대몇입니까?\")\n",
    "\n",
    "print(\"\"\"\\n[속보]{}가 {}로 승리...\n",
    "오늘{}경기장에서 야구 경기가 있었습니다.\n",
    "{}와{}는 치열한 공방전을 펼쳤습니다.\n",
    "이 경기에서{}가 맹활약을 했습니다.\n",
    "그 끝내 {}가{}를 {}로 승리하였습니다.\n",
    "기사 끝.\"\"\".format(ateam,score,space,ateam,bteam,people,ateam,bteam,score))"
   ]
  },
  {
   "cell_type": "code",
   "execution_count": 30,
   "id": "ef263b5b-063b-41c2-bf9c-8cdeaead1de0",
   "metadata": {},
   "outputs": [
    {
     "name": "stdin",
     "output_type": "stream",
     "text": [
      "hh:mm:ss 의 형태로 시간을 입력해주세요. 12:33:23\n"
     ]
    },
    {
     "name": "stdout",
     "output_type": "stream",
     "text": [
      "\n",
      "시: 12\n",
      "분: 33\n",
      "초: 23\n"
     ]
    }
   ],
   "source": [
    "t = input(\"hh:mm:ss 의 형태로 시간을 입력해주세요.\")\n",
    "T=t.split(\":\")\n",
    "print(\"\\n시:\" ,T[0])\n",
    "print(\"분:\" ,T[1])\n",
    "print(\"초:\" ,T[2])"
   ]
  },
  {
   "cell_type": "code",
   "execution_count": 31,
   "id": "88495406-b7f5-4357-b019-6ed4bbc61809",
   "metadata": {},
   "outputs": [
    {
     "name": "stdin",
     "output_type": "stream",
     "text": [
      "국어,영어,수학,과학 점수를 입력해주세요. 98,100,96,100\n"
     ]
    },
    {
     "name": "stdout",
     "output_type": "stream",
     "text": [
      "평균 점수는 98.5 점입니다.\n"
     ]
    }
   ],
   "source": [
    "scores = map(int,input(\"국어,영어,수학,과학 점수를 입력해주세요.\").split(\",\"))\n",
    "score = sum(scores)/4\n",
    "print(\"평균 점수는\",score,\"점입니다.\")"
   ]
  },
  {
   "cell_type": "markdown",
   "id": "f0899a70-1c52-416e-a99f-49266de84f80",
   "metadata": {},
   "source": [
    "kor,eng,math,s = map(int,input(\"국어,영어,수학,과학 점수를 입력해주세요.\").split(\",\"))\n",
    "score = (kor+eng+math+s)/4\n",
    "print(\"평균 점수는\",score,\"점입니다.\")"
   ]
  },
  {
   "cell_type": "code",
   "execution_count": 38,
   "id": "9eded6e4-2df0-4c0b-ae8e-fcfb75eb88ec",
   "metadata": {},
   "outputs": [
    {
     "name": "stdin",
     "output_type": "stream",
     "text": [
      "국어,영어,수학,과학 점수를 입력해주세요. 98,100,96,100\n"
     ]
    },
    {
     "name": "stdout",
     "output_type": "stream",
     "text": [
      "평균 점수는 98.5 점입니다.\n"
     ]
    }
   ],
   "source": [
    "kor,eng,math,sci = map(int,input(\"국어,영어,수학,과학 점수를 입력해주세요.\").split(\",\"))\n",
    "score = (kor+eng+math+sci)/4\n",
    "print(\"평균 점수는\",score,\"점입니다.\")"
   ]
  },
  {
   "cell_type": "code",
   "execution_count": 34,
   "id": "ea428bac-2f4d-4583-908e-ffb216962152",
   "metadata": {},
   "outputs": [
    {
     "name": "stdin",
     "output_type": "stream",
     "text": [
      "국어,영어,수학,과학 점수를 입력해주세요. 98,100,96,100\n"
     ]
    },
    {
     "name": "stdout",
     "output_type": "stream",
     "text": [
      "평균 점수는 98.5 점입니다.\n"
     ]
    }
   ],
   "source": [
    "scores = map(int,input(\"국어,영어,수학,과학 점수를 입력해주세요.\").split(\",\"))\n",
    "score = sum(scores)/4\n",
    "print(\"평균 점수는\",score,\"점입니다.\")"
   ]
  },
  {
   "cell_type": "code",
   "execution_count": 42,
   "id": "56c6a801-8947-401e-af82-8c9bd5bb510f",
   "metadata": {},
   "outputs": [],
   "source": [
    "result = (kor,eng,math,sci)"
   ]
  },
  {
   "cell_type": "code",
   "execution_count": 43,
   "id": "aad835d7-98a3-42e6-b43f-f880af90e598",
   "metadata": {},
   "outputs": [
    {
     "data": {
      "text/plain": [
       "tuple"
      ]
     },
     "execution_count": 43,
     "metadata": {},
     "output_type": "execute_result"
    }
   ],
   "source": [
    "type(result)"
   ]
  },
  {
   "cell_type": "code",
   "execution_count": 44,
   "id": "82c226c6-b519-4fcc-b0f0-4ad4c7590583",
   "metadata": {},
   "outputs": [
    {
     "data": {
      "text/plain": [
       "4"
      ]
     },
     "execution_count": 44,
     "metadata": {},
     "output_type": "execute_result"
    }
   ],
   "source": [
    "len(result)"
   ]
  },
  {
   "cell_type": "code",
   "execution_count": 45,
   "id": "b7d830f9-6872-40db-a170-882cd58bc7d7",
   "metadata": {},
   "outputs": [
    {
     "name": "stdin",
     "output_type": "stream",
     "text": [
      "국어,영어,수학,과학 점수를 입력해주세요. 98,100,96,100\n"
     ]
    },
    {
     "name": "stdout",
     "output_type": "stream",
     "text": [
      "평균 점수는 98.5 점입니다.\n"
     ]
    }
   ],
   "source": [
    "kor,eng,math,sci = map(int,input(\"국어,영어,수학,과학 점수를 입력해주세요.\").split(\",\"))\n",
    "result = (kor,eng,math,sci)\n",
    "score = sum(result)/len(result)\n",
    "print(\"평균 점수는\",score,\"점입니다.\")"
   ]
  },
  {
   "cell_type": "code",
   "execution_count": 2,
   "id": "0a8c570f-3e0f-49e3-8aa7-9cac01690f9a",
   "metadata": {},
   "outputs": [
    {
     "name": "stdin",
     "output_type": "stream",
     "text": [
      "국어,영어,수학,과학 점수를 입력해주세요. 98,100,92,100\n"
     ]
    },
    {
     "name": "stdout",
     "output_type": "stream",
     "text": [
      "평균 점수는 97.5 점입니다.\n"
     ]
    }
   ],
   "source": [
    "kor,eng,math,sci = map(int,input(\"국어,영어,수학,과학 점수를 입력해주세요.\").split(\",\"))\n",
    "result = (kor,eng,math,sci)\n",
    "score = sum(result)/len(result)\n",
    "print(\"평균 점수는\",score,\"점입니다.\")"
   ]
  },
  {
   "cell_type": "code",
   "execution_count": 3,
   "id": "0f28167c-088f-4b32-a4cf-aece213e9753",
   "metadata": {},
   "outputs": [
    {
     "data": {
      "text/plain": [
       "tuple"
      ]
     },
     "execution_count": 3,
     "metadata": {},
     "output_type": "execute_result"
    }
   ],
   "source": [
    "type(result)"
   ]
  },
  {
   "cell_type": "code",
   "execution_count": 9,
   "id": "9991922a-6b2b-41c5-aa4a-9f1db992e160",
   "metadata": {},
   "outputs": [
    {
     "name": "stdin",
     "output_type": "stream",
     "text": [
      "국어,영어,수학,과학 점수를 입력해주세요. 98,100,92,100\n"
     ]
    },
    {
     "name": "stdout",
     "output_type": "stream",
     "text": [
      "평균 점수는 97.5 점입니다.\n"
     ]
    }
   ],
   "source": [
    "scores = list(map(int,input(\"국어,영어,수학,과학 점수를 입력해주세요.\").split(\",\")))\n",
    "score = sum(scores)/4\n",
    "print(\"평균 점수는\",score,\"점입니다.\")"
   ]
  },
  {
   "cell_type": "code",
   "execution_count": 5,
   "id": "de2779da-4ccc-4a83-934c-ab7ee6611f8f",
   "metadata": {},
   "outputs": [
    {
     "data": {
      "text/plain": [
       "float"
      ]
     },
     "execution_count": 5,
     "metadata": {},
     "output_type": "execute_result"
    }
   ],
   "source": [
    "type(score)"
   ]
  },
  {
   "cell_type": "code",
   "execution_count": 10,
   "id": "2991c948-367b-4b83-8eed-fad39a2b54bd",
   "metadata": {},
   "outputs": [
    {
     "data": {
      "text/plain": [
       "list"
      ]
     },
     "execution_count": 10,
     "metadata": {},
     "output_type": "execute_result"
    }
   ],
   "source": [
    "type(scores)"
   ]
  },
  {
   "cell_type": "code",
   "execution_count": 11,
   "id": "7bd7709e-cc71-4768-9fce-48dbc7b3de06",
   "metadata": {},
   "outputs": [
    {
     "data": {
      "text/plain": [
       "[98, 100, 92, 100]"
      ]
     },
     "execution_count": 11,
     "metadata": {},
     "output_type": "execute_result"
    }
   ],
   "source": [
    "list(scores)"
   ]
  },
  {
   "cell_type": "code",
   "execution_count": 12,
   "id": "6d574651-0c29-4cfb-91e5-68f9a1c54c8d",
   "metadata": {},
   "outputs": [
    {
     "data": {
      "text/plain": [
       "list"
      ]
     },
     "execution_count": 12,
     "metadata": {},
     "output_type": "execute_result"
    }
   ],
   "source": [
    "type(scores)"
   ]
  },
  {
   "cell_type": "code",
   "execution_count": 13,
   "id": "6fb4b52d-6450-4f55-87e3-b073e6b76c7c",
   "metadata": {},
   "outputs": [
    {
     "name": "stdout",
     "output_type": "stream",
     "text": [
      "줄이 바뀌지 않습니다.그 이유는 end = \"\\n\"과 같이 기본 설정된 값을 빈 스트링으로 변경했기 때문입니다.\n",
      "sep,end는 맨 뒤에 써야하며 둘 간 순서는 상관없습니다.어떻게 사용하는지\n",
      "이해가 되시나요?"
     ]
    }
   ],
   "source": [
    "print(\"줄이 바뀌지 않습니다.\",end=\"\")\n",
    "print(\"그 이유는 end = \\\"\\\\n\\\"과 같이 기본 설정된 값을 빈 스트링으로 변경했기 때문입니다.\")\n",
    "print(\"sep\",\"end는 맨 뒤에 써야하며 둘 간 순서는 상관없습니다.\",sep=\",\",end=\"\")\n",
    "print(\"어떻게 사용하는지\", \"이해가 되시나요\",sep=\"\\n\",end=\"?\")"
   ]
  },
  {
   "cell_type": "code",
   "execution_count": 19,
   "id": "e97d5304-a186-4000-8a32-4c255b41842f",
   "metadata": {},
   "outputs": [
    {
     "name": "stdout",
     "output_type": "stream",
     "text": [
      "2021/02/03 18:33:23\n"
     ]
    }
   ],
   "source": [
    "year='2021'\n",
    "month='02'\n",
    "day='03'\n",
    "hour='18'\n",
    "minute='33'\n",
    "second='23'\n",
    "\n",
    "print(year,month,day,sep=\"/\",end=\" \")\n",
    "print(hour,minute,second,sep=\":\")"
   ]
  },
  {
   "cell_type": "code",
   "execution_count": 22,
   "id": "43b6d00b-680f-4f31-8b15-dd3a8c66ec8d",
   "metadata": {},
   "outputs": [
    {
     "name": "stdin",
     "output_type": "stream",
     "text": [
      "사과와 귤을 몇개 드릴까요? 10,20\n"
     ]
    },
    {
     "name": "stdout",
     "output_type": "stream",
     "text": [
      "총 가격은 14000원입니다\n"
     ]
    }
   ],
   "source": [
    "count = list(map(int,input(\"사과와 귤을 몇개 드릴까요?\").split(\",\")))\n",
    "result = (count[0]*1000)+(count[1]*200)\n",
    "print(\"총 가격은 \",result,\"원입니다.\",sep=\"\")"
   ]
  },
  {
   "cell_type": "code",
   "execution_count": 25,
   "id": "f1aabe27-a9d2-426b-9f07-3a11281acd41",
   "metadata": {},
   "outputs": [
    {
     "name": "stdout",
     "output_type": "stream",
     "text": [
      "오늘의 날짜를 알려드립니다!\n",
      "2023년 2월 15일입니다.\n"
     ]
    }
   ],
   "source": [
    "import time\n",
    "\n",
    "today = \"\"\"오늘의 날짜를 알려드립니다!\n",
    "{}년 {}월 {}일입니다.\\\n",
    "\"\"\".format(time.localtime().tm_year,\n",
    "          time.localtime().tm_mon,\n",
    "          time.localtime().tm_mday)\n",
    "\n",
    "print(today)"
   ]
  },
  {
   "cell_type": "code",
   "execution_count": 32,
   "id": "8ba4be48-8216-4b90-8a3b-7cb36fc49a3e",
   "metadata": {},
   "outputs": [
    {
     "name": "stdout",
     "output_type": "stream",
     "text": [
      "오늘의 날짜를 알려드립니다!\n",
      "2023년 2월\n"
     ]
    }
   ],
   "source": [
    "import time\n",
    "\n",
    "today = f\"\"\"오늘의 날짜를 알려드립니다!\n",
    "{time.localtime().tm_year}년 {time.localtime().tm_mon}월\"\"\"\n",
    "\n",
    "print(today)"
   ]
  },
  {
   "cell_type": "code",
   "execution_count": 31,
   "id": "3f0ad6c9-bcc6-4b1c-ba38-43f0c38dd793",
   "metadata": {},
   "outputs": [
    {
     "name": "stdout",
     "output_type": "stream",
     "text": [
      "시작\n",
      "5보다 작습니다.\n",
      "끝\n"
     ]
    }
   ],
   "source": [
    "c=4\n",
    "print(\"시작\")\n",
    "\n",
    "if c>10:\n",
    "    print(\"10보다 큽니다.\")\n",
    "elif c<5:\n",
    "    print(\"5보다 작습니다.\")\n",
    "else:\n",
    "    print(\"10보다 작고, 5보다 큽니다.\")\n",
    "    \n",
    "print(\"끝\")"
   ]
  },
  {
   "cell_type": "code",
   "execution_count": 33,
   "id": "26dcd7e6-2b62-411f-be29-2c4ec7ca836c",
   "metadata": {},
   "outputs": [
    {
     "name": "stdout",
     "output_type": "stream",
     "text": [
      "불혹입니다.\n"
     ]
    }
   ],
   "source": [
    "age = 40\n",
    "\n",
    "if 20<= age <30:\n",
    "    print(\"20대 입니다.\")\n",
    "elif 30<= age <40:\n",
    "    print(\"30대 입니다.\")\n",
    "else:\n",
    "    print(\"불혹입니다.\")\n",
    "    "
   ]
  },
  {
   "cell_type": "code",
   "execution_count": 41,
   "id": "166209ed-92e9-4630-9478-7bc4df6e04cf",
   "metadata": {},
   "outputs": [
    {
     "name": "stdin",
     "output_type": "stream",
     "text": [
      "아이디를 입력하세요 : df\n",
      "회원 등급을 입력해주세요: 4\n"
     ]
    },
    {
     "name": "stdout",
     "output_type": "stream",
     "text": [
      "\n",
      "권한이 없습니다.\n"
     ]
    }
   ],
   "source": [
    "id = input(\"아이디를 입력하세요 :\")\n",
    "if id == 'admin':\n",
    "    print(\"최고 관리자, 모든 권한을 갖습니다.\")\n",
    "else:\n",
    "    level = int(input(\"회원 등급을 입력해주세요:\"))\n",
    "    if 1<=level<=3:\n",
    "        print(\"\\n제한적인 권한을 갖습니다.\")\n",
    "    else:\n",
    "        print(\"\\n권한이 없습니다.\")"
   ]
  },
  {
   "cell_type": "code",
   "execution_count": null,
   "id": "4a904f63-da59-4093-8aba-a95c2357c3e8",
   "metadata": {},
   "outputs": [],
   "source": [
    "number = int(input(\"자연수 하나 입력해주세요:\"))\n",
    "if 0<=number:\n",
    "    if number<50:\n",
    "        print(number)\n",
    "    else :\n",
    "        print(number-50)"
   ]
  },
  {
   "cell_type": "code",
   "execution_count": null,
   "id": "23e15794-7c37-400d-b349-e1301474cd74",
   "metadata": {},
   "outputs": [],
   "source": []
  },
  {
   "cell_type": "code",
   "execution_count": null,
   "id": "fed44f28-dc9a-4989-bc04-026e7d0d99be",
   "metadata": {},
   "outputs": [],
   "source": [
    "number = int(input(\"자연수 하나 입력해주세요:\"))\n",
    "if 0<=number:\n",
    "    if number<50:\n",
    "        print(number)\n",
    "    else :\n",
    "        print(number-50)"
   ]
  },
  {
   "cell_type": "code",
   "execution_count": 1,
   "id": "974bb287-351b-4a28-9302-e238f3b34100",
   "metadata": {},
   "outputs": [
    {
     "name": "stdin",
     "output_type": "stream",
     "text": [
      "자연수 하나 입력해주세요: 43\n"
     ]
    },
    {
     "name": "stdout",
     "output_type": "stream",
     "text": [
      "0\n"
     ]
    }
   ],
   "source": [
    "number = int(input(\"자연수 하나 입력해주세요:\"))\n",
    "if 0<=number:\n",
    "    if number<50:\n",
    "        print(0)\n",
    "    else :\n",
    "        print(number-50)\n",
    "else :\n",
    "    print(\"자연수가 아닙니다.\")"
   ]
  },
  {
   "cell_type": "code",
   "execution_count": 2,
   "id": "3e489789-86c3-4d5e-a603-f05aa50d813c",
   "metadata": {},
   "outputs": [
    {
     "name": "stdin",
     "output_type": "stream",
     "text": [
      "자연수 하나 입력해주세요: 70\n"
     ]
    },
    {
     "name": "stdout",
     "output_type": "stream",
     "text": [
      "20\n"
     ]
    }
   ],
   "source": [
    "number = int(input(\"자연수 하나 입력해주세요:\"))\n",
    "if 0<=number:\n",
    "    if number<50:\n",
    "        print(0)\n",
    "    else :\n",
    "        print(number-50)\n",
    "else :\n",
    "    print(\"자연수가 아닙니다.\")"
   ]
  },
  {
   "cell_type": "code",
   "execution_count": 3,
   "id": "01dbf150-eef4-42ec-a7aa-ace53f7d384e",
   "metadata": {},
   "outputs": [
    {
     "name": "stdin",
     "output_type": "stream",
     "text": [
      "자연수 하나 입력해주세요: 54\n"
     ]
    },
    {
     "name": "stdout",
     "output_type": "stream",
     "text": [
      "짝수입니다.\n"
     ]
    }
   ],
   "source": [
    "number = int(input(\"자연수 하나 입력해주세요:\"))\n",
    "if 0<=number:\n",
    "    if number%2==1:\n",
    "        print(\"홀수입니다.\")\n",
    "    else :\n",
    "        print(\"짝수입니다.\")\n",
    "else :\n",
    "    print(\"자연수가 아닙니다.\")"
   ]
  },
  {
   "cell_type": "code",
   "execution_count": 4,
   "id": "77387fac-ecfd-4e7f-a092-69ed9642ea7e",
   "metadata": {},
   "outputs": [
    {
     "name": "stdin",
     "output_type": "stream",
     "text": [
      "자연수 하나 입력해주세요: 41\n"
     ]
    },
    {
     "name": "stdout",
     "output_type": "stream",
     "text": [
      "홀수입니다.\n"
     ]
    }
   ],
   "source": [
    "number = int(input(\"자연수 하나 입력해주세요:\"))\n",
    "if 0<=number:\n",
    "    if number%2==1:\n",
    "        print(\"홀수입니다.\")\n",
    "    else :\n",
    "        print(\"짝수입니다.\")\n",
    "else :\n",
    "    print(\"자연수가 아닙니다.\")"
   ]
  },
  {
   "cell_type": "code",
   "execution_count": 13,
   "id": "dba75762-7bcd-42d5-b78e-7f2993bcdc5e",
   "metadata": {},
   "outputs": [
    {
     "name": "stdin",
     "output_type": "stream",
     "text": [
      "소프트웨어 설계 점수를 입력하세요. 90\n",
      "소프트웨어 개발 점수를 입력하세요. 10\n",
      "데이터베이스 구축 점수를 입력하세요. 1000\n",
      "프로그래밍 언어 활용 점수를 입력하세요. 90\n",
      "정보시스템 구축관리 점수를 입력하세요. 10\n"
     ]
    },
    {
     "name": "stdout",
     "output_type": "stream",
     "text": [
      "잘못된 정수 입니다.\n"
     ]
    }
   ],
   "source": [
    "design = int(input(\"소프트웨어 설계 점수를 입력하세요.\"))\n",
    "develop = int(input(\"소프트웨어 개발 점수를 입력하세요.\"))\n",
    "DB = int(input(\"데이터베이스 구축 점수를 입력하세요.\"))\n",
    "lan = int(input(\"프로그래밍 언어 활용 점수를 입력하세요.\"))\n",
    "manage = int(input(\"정보시스템 구축관리 점수를 입력하세요.\"))\n",
    "scores = [design,develop,DB,lan,manage]\n",
    "result=sum(scores)/5\n",
    "if (100 > design > 0) and (100>develop > 0) and (100>DB > 0) and (100>lan > 0) and (100>manage > 0) :\n",
    "    if result>=60:\n",
    "        print(\"합격\")\n",
    "    else :\n",
    "        print(\"불합격\")\n",
    "else :\n",
    "    print(\"잘못된 정수 입니다.\")"
   ]
  },
  {
   "cell_type": "code",
   "execution_count": 14,
   "id": "d0238418-f5e8-4716-890b-66e8867103d3",
   "metadata": {},
   "outputs": [
    {
     "name": "stdin",
     "output_type": "stream",
     "text": [
      "소프트웨어 설계 점수를 입력하세요. 90\n",
      "소프트웨어 개발 점수를 입력하세요. 900\n",
      "데이터베이스 구축 점수를 입력하세요. 90000\n",
      "프로그래밍 언어 활용 점수를 입력하세요. 9000\n",
      "정보시스템 구축관리 점수를 입력하세요. 900\n"
     ]
    },
    {
     "name": "stdout",
     "output_type": "stream",
     "text": [
      "잘못된 정수 입니다.\n"
     ]
    }
   ],
   "source": [
    "design = int(input(\"소프트웨어 설계 점수를 입력하세요.\"))\n",
    "develop = int(input(\"소프트웨어 개발 점수를 입력하세요.\"))\n",
    "DB = int(input(\"데이터베이스 구축 점수를 입력하세요.\"))\n",
    "lan = int(input(\"프로그래밍 언어 활용 점수를 입력하세요.\"))\n",
    "manage = int(input(\"정보시스템 구축관리 점수를 입력하세요.\"))\n",
    "scores = [design,develop,DB,lan,manage]\n",
    "result = sum(scores)/5\n",
    "\n",
    "if (100 >= design >= 0) and (100 >= develop >= 0) and (100 >= DB >= 0) and (100 >= lan >= 0) and (100 >= manage >= 0) :\n",
    "    if result>=60:\n",
    "        print(\"합격\")\n",
    "    else :\n",
    "        print(\"불합격\")\n",
    "else :\n",
    "    print(\"잘못된 정수 입니다.\")"
   ]
  },
  {
   "cell_type": "code",
   "execution_count": 19,
   "id": "57dc495f-8c5b-4a7e-9b24-7e4a6701c682",
   "metadata": {},
   "outputs": [
    {
     "name": "stdin",
     "output_type": "stream",
     "text": [
      "현재 물의 온도를 입력해주세요. -0.12\n"
     ]
    },
    {
     "name": "stdout",
     "output_type": "stream",
     "text": [
      "고체로 예상됩니다.\n"
     ]
    }
   ],
   "source": [
    "number = float(input(\"현재 물의 온도를 입력해주세요.\"))\n",
    "if number>=100:\n",
    "    print(\"기체로 예상됩니다.\")\n",
    "elif 0<=number<100:\n",
    "    print(\"액체로 예상됩니다.\")\n",
    "elif number<0:\n",
    "    print(\"고체로 예상됩니다.\")\n",
    "else :\n",
    "    print(\"다시 입력해주세요.\")"
   ]
  },
  {
   "cell_type": "code",
   "execution_count": 20,
   "id": "bb75600b-a1d3-467d-8684-c616dd9fd5f2",
   "metadata": {},
   "outputs": [
    {
     "name": "stdin",
     "output_type": "stream",
     "text": [
      "자신의 나이를 입력하세요: 9\n"
     ]
    },
    {
     "name": "stdout",
     "output_type": "stream",
     "text": [
      "800원\n"
     ]
    }
   ],
   "source": [
    "age = int(input(\"자신의 나이를 입력하세요:\"))\n",
    "if age>=19:\n",
    "    print(\"1500원\")\n",
    "elif age>=12:\n",
    "    print(\"1100원\")\n",
    "elif age>=6:\n",
    "    print(\"800원\")\n",
    "else :\n",
    "    print(\"무료\")"
   ]
  },
  {
   "cell_type": "code",
   "execution_count": 32,
   "id": "cb380e3d-1874-4c6c-82af-18677721f03c",
   "metadata": {},
   "outputs": [
    {
     "name": "stdin",
     "output_type": "stream",
     "text": [
      "발주 수량을 입력하세요: 90\n"
     ]
    },
    {
     "name": "stdout",
     "output_type": "stream",
     "text": [
      "90개를 주문하셨습니다.\n"
     ]
    }
   ],
   "source": [
    "count = int(input(\"발주 수량을 입력하세요:\"))\n",
    "print(count,\"개를 주문하셨습니다.\",sep=\"\")\n",
    "\n",
    "if count>1000:\n",
    "    print(\"적용 할인율은 0%입니다.\",end(\"\\n\"),\"총 발주 금액은 $\",int(count*10*(1+(0/100))),\"입니다.\",sep=\"\")\n",
    "\n",
    "#print(\"총 발주 금액은 $\",count*10*(1+(0/100)),\"입니다.\",sep=\"\")"
   ]
  },
  {
   "cell_type": "code",
   "execution_count": 44,
   "id": "7ac0bbe2-fc67-42ed-87d2-52ff2b6b0355",
   "metadata": {},
   "outputs": [
    {
     "name": "stdin",
     "output_type": "stream",
     "text": [
      "발주 수량을 입력하세요: 2001\n"
     ]
    },
    {
     "name": "stdout",
     "output_type": "stream",
     "text": [
      "2001개를 주문하셨습니다.\n",
      "적용 할인율은 20%입니다.\n",
      "총 발주 금액은 $16008입니다.\n"
     ]
    }
   ],
   "source": [
    "count = int(input(\"발주 수량을 입력하세요:\"))\n",
    "print(count,\"개를 주문하셨습니다.\",sep=\"\")\n",
    "\n",
    "if count<1000:\n",
    "    a=0\n",
    "    print(\"적용 할인율은 0%입니다.\")\n",
    "elif 1000<=count<1500:\n",
    "    a=5\n",
    "    print(\"적용 할인율은 5%입니다.\")\n",
    "elif 1500<=count<2000:\n",
    "    a=10\n",
    "    print(\"적용 할인율은 10%입니다.\")\n",
    "elif 2000<=count:\n",
    "    a=20\n",
    "    print(\"적용 할인율은 20%입니다.\")\n",
    "\n",
    "print(\"총 발주 금액은 $\",int(count*10*(1-(a/100))),\"입니다.\",sep=\"\")"
   ]
  },
  {
   "cell_type": "code",
   "execution_count": null,
   "id": "61bd73f6-5632-4eda-95da-388db35a3d39",
   "metadata": {},
   "outputs": [],
   "source": []
  }
 ],
 "metadata": {
  "kernelspec": {
   "display_name": "Python 3",
   "language": "python",
   "name": "python3"
  },
  "language_info": {
   "codemirror_mode": {
    "name": "ipython",
    "version": 3
   },
   "file_extension": ".py",
   "mimetype": "text/x-python",
   "name": "python",
   "nbconvert_exporter": "python",
   "pygments_lexer": "ipython3",
   "version": "3.8.8"
  }
 },
 "nbformat": 4,
 "nbformat_minor": 5
}
