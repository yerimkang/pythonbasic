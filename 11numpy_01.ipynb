{
 "cells": [
  {
   "cell_type": "markdown",
   "id": "1fa8355b-8b62-4fd3-9b4c-b86d28a15b5c",
   "metadata": {},
   "source": [
    "# numpy"
   ]
  },
  {
   "cell_type": "code",
   "execution_count": 1,
   "id": "6892bec8-a49b-4c81-b050-0faec2cdd81a",
   "metadata": {},
   "outputs": [],
   "source": [
    "import numpy as np #anaconda"
   ]
  },
  {
   "cell_type": "markdown",
   "id": "9cfb2f2d-85f9-4ce3-856c-68cfc8561555",
   "metadata": {},
   "source": [
    "## 넘파이의 array메서드 인수로 시퀀스 자료형을 넣으면 ndarray 클래스 객체 -> 넘파이 배열로 변환"
   ]
  },
  {
   "cell_type": "code",
   "execution_count": 2,
   "id": "5b96bb35-248f-4c1f-a17e-6f0e8094f884",
   "metadata": {},
   "outputs": [
    {
     "data": {
      "text/plain": [
       "array([0, 1, 2, 3, 4, 5, 6, 7, 8, 9])"
      ]
     },
     "execution_count": 2,
     "metadata": {},
     "output_type": "execute_result"
    }
   ],
   "source": [
    "ar = np.array([_ for _ in range(10)])\n",
    "ar"
   ]
  },
  {
   "cell_type": "markdown",
   "id": "ac1d4d14-b9ff-4b5b-bb42-eaded289ff47",
   "metadata": {},
   "source": [
    "### 결과가 리스트와 같아 보이지만 다르다!"
   ]
  },
  {
   "cell_type": "code",
   "execution_count": 3,
   "id": "bf7e28cc-e243-46b4-ae51-0de14e55bc6f",
   "metadata": {},
   "outputs": [
    {
     "data": {
      "text/plain": [
       "numpy.ndarray"
      ]
     },
     "execution_count": 3,
     "metadata": {},
     "output_type": "execute_result"
    }
   ],
   "source": [
    "type(ar)"
   ]
  },
  {
   "cell_type": "markdown",
   "id": "51ac9754-3d0c-4b73-aea2-fb948074cae7",
   "metadata": {},
   "source": [
    "### shape을 사용하면 넘파이 배열의 모양을 확인할 수 있다."
   ]
  },
  {
   "cell_type": "code",
   "execution_count": 4,
   "id": "2c14612d-a09a-4ee6-a98b-2204bf30189a",
   "metadata": {},
   "outputs": [
    {
     "data": {
      "text/plain": [
       "(10,)"
      ]
     },
     "execution_count": 4,
     "metadata": {},
     "output_type": "execute_result"
    }
   ],
   "source": [
    "ar.shape"
   ]
  },
  {
   "cell_type": "code",
   "execution_count": 5,
   "id": "e570b142-22e7-4b57-92e4-897050184c4e",
   "metadata": {},
   "outputs": [],
   "source": [
    "ar2 = np.array([0.1,12,50,2,3.14])"
   ]
  },
  {
   "cell_type": "code",
   "execution_count": 6,
   "id": "9b3a49aa-f7d8-4b7c-8023-2ffae693a484",
   "metadata": {},
   "outputs": [
    {
     "data": {
      "text/plain": [
       "array([ 0.1 , 12.  , 50.  ,  2.  ,  3.14])"
      ]
     },
     "execution_count": 6,
     "metadata": {},
     "output_type": "execute_result"
    }
   ],
   "source": [
    "#표현범위가 더 넓은 자료형으로 만듦\n",
    "ar2"
   ]
  },
  {
   "cell_type": "code",
   "execution_count": 7,
   "id": "9edc9ae0-527b-4667-83a0-83ae5188fb83",
   "metadata": {},
   "outputs": [
    {
     "data": {
      "text/plain": [
       "dtype('int32')"
      ]
     },
     "execution_count": 7,
     "metadata": {},
     "output_type": "execute_result"
    }
   ],
   "source": [
    "np.array([1,2,3]).dtype"
   ]
  },
  {
   "cell_type": "markdown",
   "id": "8340e2d4-d749-4d2a-a128-677958a239f8",
   "metadata": {},
   "source": [
    "### dtype = 'U'유니코드 string 더하면 문자열로 더해짐"
   ]
  },
  {
   "cell_type": "code",
   "execution_count": 8,
   "id": "31e5cbee-d94e-49eb-ba32-7ea0595d5466",
   "metadata": {},
   "outputs": [
    {
     "data": {
      "text/plain": [
       "'12'"
      ]
     },
     "execution_count": 8,
     "metadata": {},
     "output_type": "execute_result"
    }
   ],
   "source": [
    "x = np.array([1,2,3], dtype = 'U')\n",
    "x[0] + x[1]"
   ]
  },
  {
   "cell_type": "markdown",
   "id": "b471614a-d825-4552-872f-8d308d8e0cb0",
   "metadata": {},
   "source": [
    "### 무한대를 표현하기 위해 np.inf(infinity)와 정의할 수 없는 숫자를 나타내는 np.nan(not a number)가 있다."
   ]
  },
  {
   "cell_type": "code",
   "execution_count": 9,
   "id": "71e0cd21-36c6-4f62-acf4-c3ba99343520",
   "metadata": {},
   "outputs": [
    {
     "name": "stderr",
     "output_type": "stream",
     "text": [
      "C:\\Users\\user\\AppData\\Local\\Temp\\ipykernel_16912\\1032392073.py:1: RuntimeWarning: divide by zero encountered in true_divide\n",
      "  np.array([0,1,-1,0]) / np.array([1,0,0,0])\n",
      "C:\\Users\\user\\AppData\\Local\\Temp\\ipykernel_16912\\1032392073.py:1: RuntimeWarning: invalid value encountered in true_divide\n",
      "  np.array([0,1,-1,0]) / np.array([1,0,0,0])\n"
     ]
    },
    {
     "data": {
      "text/plain": [
       "array([  0.,  inf, -inf,  nan])"
      ]
     },
     "execution_count": 9,
     "metadata": {},
     "output_type": "execute_result"
    }
   ],
   "source": [
    "np.array([0,1,-1,0]) / np.array([1,0,0,0])"
   ]
  },
  {
   "cell_type": "code",
   "execution_count": 10,
   "id": "966d0dc5-5bb6-4035-b619-c932dcdc9a77",
   "metadata": {},
   "outputs": [
    {
     "name": "stderr",
     "output_type": "stream",
     "text": [
      "C:\\Users\\user\\AppData\\Local\\Temp\\ipykernel_16912\\2933082444.py:1: RuntimeWarning: divide by zero encountered in log\n",
      "  np.log(0)\n"
     ]
    },
    {
     "data": {
      "text/plain": [
       "-inf"
      ]
     },
     "execution_count": 10,
     "metadata": {},
     "output_type": "execute_result"
    }
   ],
   "source": [
    "np.log(0)"
   ]
  },
  {
   "cell_type": "code",
   "execution_count": 11,
   "id": "829dfcbd-9e24-4b92-a958-f8a571552a6e",
   "metadata": {},
   "outputs": [
    {
     "data": {
      "text/plain": [
       "0.0"
      ]
     },
     "execution_count": 11,
     "metadata": {},
     "output_type": "execute_result"
    }
   ],
   "source": [
    "np.exp(-np.inf)"
   ]
  },
  {
   "cell_type": "code",
   "execution_count": 12,
   "id": "9b48ad5f-59e3-45d2-994a-5d90fb53b2c0",
   "metadata": {},
   "outputs": [
    {
     "data": {
      "text/plain": [
       "array([0, 1, 2, 3, 4, 5, 6, 7, 8, 9])"
      ]
     },
     "execution_count": 12,
     "metadata": {},
     "output_type": "execute_result"
    }
   ],
   "source": [
    "data = [0,1,2,3,4,5,6,7,8,9]\n",
    "\n",
    "x = np.array(data)\n",
    "x"
   ]
  },
  {
   "cell_type": "markdown",
   "id": "33c0bb6e-a5b7-4ca1-b91d-2e73f430d776",
   "metadata": {},
   "source": [
    "#### 넘파이 배열 객체의 벡터화 연산을 사용하면 간단하게 표현 가능 / 빠름"
   ]
  },
  {
   "cell_type": "code",
   "execution_count": 13,
   "id": "82a5f5bf-ce9b-4afc-b450-5460715a93f0",
   "metadata": {},
   "outputs": [
    {
     "data": {
      "text/plain": [
       "array([ 0,  2,  4,  6,  8, 10, 12, 14, 16, 18])"
      ]
     },
     "execution_count": 13,
     "metadata": {},
     "output_type": "execute_result"
    }
   ],
   "source": [
    "2*x"
   ]
  },
  {
   "cell_type": "code",
   "execution_count": 14,
   "id": "7e83e245-30a6-4ecd-ae5c-49a433fcacf9",
   "metadata": {},
   "outputs": [
    {
     "data": {
      "text/plain": [
       "array([[0, 1, 2],\n",
       "       [3, 4, 5]])"
      ]
     },
     "execution_count": 14,
     "metadata": {},
     "output_type": "execute_result"
    }
   ],
   "source": [
    "c = np.array([[0,1,2],[3,4,5]])\n",
    "c"
   ]
  },
  {
   "cell_type": "code",
   "execution_count": 15,
   "id": "80a22cd9-49d8-4b7e-886a-dd665ea3cbb0",
   "metadata": {},
   "outputs": [
    {
     "data": {
      "text/plain": [
       "2"
      ]
     },
     "execution_count": 15,
     "metadata": {},
     "output_type": "execute_result"
    }
   ],
   "source": [
    "len(c)"
   ]
  },
  {
   "cell_type": "code",
   "execution_count": 16,
   "id": "5f57d118-763f-4569-9843-3a944b8e4159",
   "metadata": {},
   "outputs": [
    {
     "data": {
      "text/plain": [
       "3"
      ]
     },
     "execution_count": 16,
     "metadata": {},
     "output_type": "execute_result"
    }
   ],
   "source": [
    "len(c[0])"
   ]
  },
  {
   "cell_type": "code",
   "execution_count": 17,
   "id": "c2368f93-b6e1-4aeb-a2e2-5bd75cf2f0e6",
   "metadata": {},
   "outputs": [
    {
     "data": {
      "text/plain": [
       "(2, 3)"
      ]
     },
     "execution_count": 17,
     "metadata": {},
     "output_type": "execute_result"
    }
   ],
   "source": [
    "c.shape"
   ]
  },
  {
   "cell_type": "code",
   "execution_count": 18,
   "id": "cf1463c9-a81c-41c6-9a44-c1f857c1c015",
   "metadata": {},
   "outputs": [
    {
     "data": {
      "text/plain": [
       "array([[10, 20, 30, 40],\n",
       "       [50, 60, 70, 80]])"
      ]
     },
     "execution_count": 18,
     "metadata": {},
     "output_type": "execute_result"
    }
   ],
   "source": [
    "d = np.array([[10,20,30,40],[50,60,70,80]])\n",
    "d"
   ]
  },
  {
   "cell_type": "code",
   "execution_count": 19,
   "id": "187ad128-20b3-48d9-a104-8e98c03d9832",
   "metadata": {},
   "outputs": [
    {
     "data": {
      "text/plain": [
       "array([[[ 1,  2,  3,  4],\n",
       "        [ 5,  6,  7,  8]],\n",
       "\n",
       "       [[ 9, 10, 11, 12],\n",
       "        [13, 14, 15, 16]]])"
      ]
     },
     "execution_count": 19,
     "metadata": {},
     "output_type": "execute_result"
    }
   ],
   "source": [
    "# 2 x 3 x 4\n",
    "e = np.array([[[1,2,3,4],[5,6,7,8]],[[9,10,11,12],[13,14,15,16]]])\n",
    "e"
   ]
  },
  {
   "cell_type": "code",
   "execution_count": 20,
   "id": "8439ea25-f4bd-4fad-af90-674f6e9b0739",
   "metadata": {},
   "outputs": [
    {
     "data": {
      "text/plain": [
       "(2, 2, 4)"
      ]
     },
     "execution_count": 20,
     "metadata": {},
     "output_type": "execute_result"
    }
   ],
   "source": [
    "e.shape"
   ]
  },
  {
   "cell_type": "code",
   "execution_count": 21,
   "id": "11e3a6ea-dc80-492b-b81d-d5a3295355b1",
   "metadata": {},
   "outputs": [
    {
     "data": {
      "text/plain": [
       "(2, 2, 4)"
      ]
     },
     "execution_count": 21,
     "metadata": {},
     "output_type": "execute_result"
    }
   ],
   "source": [
    "len(e),len(e[0]),len(e[0][0])"
   ]
  },
  {
   "cell_type": "markdown",
   "id": "ba831207-8cd4-4181-87c7-5bb8570982f2",
   "metadata": {},
   "source": [
    "#### 차원을 알아내는 ndim속성"
   ]
  },
  {
   "cell_type": "code",
   "execution_count": 22,
   "id": "59520313-5566-45a7-a7a1-9131efd40c5a",
   "metadata": {},
   "outputs": [
    {
     "name": "stdout",
     "output_type": "stream",
     "text": [
      "3\n"
     ]
    }
   ],
   "source": [
    "print(e.ndim)"
   ]
  },
  {
   "cell_type": "markdown",
   "id": "adf4c132-fa79-44dc-82ac-2667f6668839",
   "metadata": {},
   "source": [
    "##### 일차원 배열의 리스트는 인덱싱과 같다"
   ]
  },
  {
   "cell_type": "code",
   "execution_count": 23,
   "id": "b6c761f5-ee75-418a-a266-4f4bf7984ccc",
   "metadata": {},
   "outputs": [],
   "source": [
    "a = np.array([0,1,2,3,4])"
   ]
  },
  {
   "cell_type": "code",
   "execution_count": 24,
   "id": "83efa2ad-84eb-4e33-9ddd-44cb7f47369e",
   "metadata": {},
   "outputs": [
    {
     "data": {
      "text/plain": [
       "2"
      ]
     },
     "execution_count": 24,
     "metadata": {},
     "output_type": "execute_result"
    }
   ],
   "source": [
    "a[2]"
   ]
  },
  {
   "cell_type": "code",
   "execution_count": 25,
   "id": "55ab449d-9759-47af-aa80-19bc2c5892bf",
   "metadata": {},
   "outputs": [
    {
     "data": {
      "text/plain": [
       "4"
      ]
     },
     "execution_count": 25,
     "metadata": {},
     "output_type": "execute_result"
    }
   ],
   "source": [
    "a[-1]"
   ]
  },
  {
   "cell_type": "code",
   "execution_count": 26,
   "id": "9b490b69-507f-4173-98d4-d426732fb40a",
   "metadata": {},
   "outputs": [
    {
     "data": {
      "text/plain": [
       "6"
      ]
     },
     "execution_count": 26,
     "metadata": {},
     "output_type": "execute_result"
    }
   ],
   "source": [
    "test = [[1,2,3,4],[5,6,7,8]]\n",
    "test[1][1]"
   ]
  },
  {
   "cell_type": "code",
   "execution_count": 27,
   "id": "9b3ccf00-2f13-49eb-b59e-4bfb39eb6c12",
   "metadata": {},
   "outputs": [
    {
     "data": {
      "text/plain": [
       "[1, 2, 3]"
      ]
     },
     "execution_count": 27,
     "metadata": {},
     "output_type": "execute_result"
    }
   ],
   "source": [
    "test = [[1,2,3,4],[5,6,7,8]]\n",
    "test[0][:3]"
   ]
  },
  {
   "cell_type": "markdown",
   "id": "92712420-cbec-4c6a-8762-ffcb9ba31b75",
   "metadata": {},
   "source": [
    "#### 배열의 인덱싱"
   ]
  },
  {
   "cell_type": "code",
   "execution_count": 28,
   "id": "5dec944b-4404-432a-9f62-33a0e1ef64b2",
   "metadata": {},
   "outputs": [
    {
     "data": {
      "text/plain": [
       "array([[0, 1, 2],\n",
       "       [3, 4, 5]])"
      ]
     },
     "execution_count": 28,
     "metadata": {},
     "output_type": "execute_result"
    }
   ],
   "source": [
    "a = np.array([[0,1,2],[3,4,5]])\n",
    "a"
   ]
  },
  {
   "cell_type": "code",
   "execution_count": 29,
   "id": "ffa28149-f4ec-444a-9b0d-b9249f16be3c",
   "metadata": {},
   "outputs": [
    {
     "data": {
      "text/plain": [
       "0"
      ]
     },
     "execution_count": 29,
     "metadata": {},
     "output_type": "execute_result"
    }
   ],
   "source": [
    "a[0,0]"
   ]
  },
  {
   "cell_type": "code",
   "execution_count": 30,
   "id": "e8e85aa3-0709-4d3a-847a-1e6e4c222a6f",
   "metadata": {},
   "outputs": [
    {
     "data": {
      "text/plain": [
       "1"
      ]
     },
     "execution_count": 30,
     "metadata": {},
     "output_type": "execute_result"
    }
   ],
   "source": [
    "a[0,1]"
   ]
  },
  {
   "cell_type": "code",
   "execution_count": 31,
   "id": "6c6498da-f2f4-47e7-8bba-b2b896c9b1d5",
   "metadata": {},
   "outputs": [
    {
     "data": {
      "text/plain": [
       "5"
      ]
     },
     "execution_count": 31,
     "metadata": {},
     "output_type": "execute_result"
    }
   ],
   "source": [
    "a[-1,-1]"
   ]
  },
  {
   "cell_type": "markdown",
   "id": "21410e75-96b0-44f9-8087-cb815f7fd858",
   "metadata": {},
   "source": [
    "### 슬라이싱"
   ]
  },
  {
   "cell_type": "code",
   "execution_count": 32,
   "id": "a4ac8997-ed4f-4502-9594-e7eae4a6f6f3",
   "metadata": {},
   "outputs": [
    {
     "name": "stdout",
     "output_type": "stream",
     "text": [
      "7\n",
      "14\n",
      "[6 7]\n",
      "[ 7 12]\n",
      "[[3 4]\n",
      " [8 9]]\n"
     ]
    }
   ],
   "source": [
    "m = np.array([[0,1,2,3,4],[5,6,7,8,9],[10,11,12,13,14]])\n",
    "print(m[1,2])\n",
    "print(m[-1,-1])\n",
    "print(m[1,1:3])\n",
    "print(m[1:,2])\n",
    "print(m[:2,3:])"
   ]
  },
  {
   "cell_type": "markdown",
   "id": "a50b7676-e3d2-4e55-bc42-c61ae2663426",
   "metadata": {},
   "source": [
    "### numpy는 단순한 배열을 생성하는 명령을 제공한다."
   ]
  },
  {
   "cell_type": "code",
   "execution_count": 33,
   "id": "4c662984-6aea-4388-9b2b-a4335bbb9302",
   "metadata": {},
   "outputs": [
    {
     "data": {
      "text/plain": [
       "array([0., 0., 0., 0., 0.])"
      ]
     },
     "execution_count": 33,
     "metadata": {},
     "output_type": "execute_result"
    }
   ],
   "source": [
    "a = np.zeros(5)\n",
    "a"
   ]
  },
  {
   "cell_type": "code",
   "execution_count": 34,
   "id": "a18befee-0845-4b99-bed7-086e35e1c320",
   "metadata": {},
   "outputs": [
    {
     "data": {
      "text/plain": [
       "dtype('float64')"
      ]
     },
     "execution_count": 34,
     "metadata": {},
     "output_type": "execute_result"
    }
   ],
   "source": [
    "a.dtype"
   ]
  },
  {
   "cell_type": "markdown",
   "id": "f3cc0700-0c4d-4ba5-9086-e08a7a11f600",
   "metadata": {},
   "source": [
    "##### \"i\" int로 바꿈 -> i8은 다 1로 초기화"
   ]
  },
  {
   "cell_type": "code",
   "execution_count": 35,
   "id": "7929a1fa-7232-4260-9427-e9b336bb77c4",
   "metadata": {},
   "outputs": [
    {
     "data": {
      "text/plain": [
       "array([0, 0, 0, 0, 0], dtype=int32)"
      ]
     },
     "execution_count": 35,
     "metadata": {},
     "output_type": "execute_result"
    }
   ],
   "source": [
    "a = np.zeros((5),dtype = \"i\") #int로 바꿈 -> i8은 다 1로 초기화\n",
    "a"
   ]
  },
  {
   "cell_type": "code",
   "execution_count": 36,
   "id": "fd5e1d9b-33d6-43c5-bb4a-48493ed98408",
   "metadata": {},
   "outputs": [
    {
     "data": {
      "text/plain": [
       "array(['', '', '', '', ''], dtype='<U4')"
      ]
     },
     "execution_count": 36,
     "metadata": {},
     "output_type": "execute_result"
    }
   ],
   "source": [
    "d = np.zeros(5,dtype = \"U4\") #-> U4 = uniqe 4(길이)\n",
    "d"
   ]
  },
  {
   "cell_type": "code",
   "execution_count": 37,
   "id": "9c26966a-432a-4a76-aa47-699add8af50b",
   "metadata": {},
   "outputs": [
    {
     "data": {
      "text/plain": [
       "array(['abc', 'abcd', 'ABCD', '', ''], dtype='<U4')"
      ]
     },
     "execution_count": 37,
     "metadata": {},
     "output_type": "execute_result"
    }
   ],
   "source": [
    "d[0] = \"abc\"\n",
    "d[1] = \"abcd\"\n",
    "d[2] = \"ABCDE\"\n",
    "d"
   ]
  },
  {
   "cell_type": "code",
   "execution_count": 38,
   "id": "2678623d-cae9-4ec5-adf2-3179314fc771",
   "metadata": {},
   "outputs": [
    {
     "data": {
      "text/plain": [
       "array([1., 1., 1., 1., 1.], dtype=float32)"
      ]
     },
     "execution_count": 38,
     "metadata": {},
     "output_type": "execute_result"
    }
   ],
   "source": [
    "f = np.ones_like(d, dtype = \"f\")\n",
    "f"
   ]
  },
  {
   "cell_type": "code",
   "execution_count": 39,
   "id": "fe62c855-596c-462c-a837-0e506929809d",
   "metadata": {},
   "outputs": [
    {
     "data": {
      "text/plain": [
       "array([0., 0., 0., 0., 0.], dtype=float32)"
      ]
     },
     "execution_count": 39,
     "metadata": {},
     "output_type": "execute_result"
    }
   ],
   "source": [
    "f = np.zeros_like(d, dtype = \"f\")\n",
    "f"
   ]
  },
  {
   "cell_type": "markdown",
   "id": "0dd97513-55a8-436c-bb02-12b51e472299",
   "metadata": {},
   "source": [
    "##### empty는 기존에 메모리에 저장되어 있던 쓰레기 값으로 초기화 된다."
   ]
  },
  {
   "cell_type": "code",
   "execution_count": 40,
   "id": "9a85920b-7468-4560-97c6-29b3a946668d",
   "metadata": {},
   "outputs": [
    {
     "data": {
      "text/plain": [
       "array([[1.17874116e-311, 2.81617418e-322, 0.00000000e+000],\n",
       "       [0.00000000e+000, 1.08221785e-312, 1.16095484e-028],\n",
       "       [3.74168445e+233, 3.10573437e-115, 1.69086561e+190],\n",
       "       [6.48224637e+170, 3.67145870e+228, 1.73810553e-076]])"
      ]
     },
     "execution_count": 40,
     "metadata": {},
     "output_type": "execute_result"
    }
   ],
   "source": [
    "g = np.empty((4,3))\n",
    "g"
   ]
  },
  {
   "cell_type": "markdown",
   "id": "c0fb4bd5-271e-4c4a-a367-9a8e0eb9a8bd",
   "metadata": {},
   "source": [
    "##### 배열 생성 arange명령은 특정 규칙에 따라 증가하는 수열"
   ]
  },
  {
   "cell_type": "code",
   "execution_count": 41,
   "id": "803e02f6-18a1-4c7a-9f27-22a47819b71a",
   "metadata": {},
   "outputs": [
    {
     "data": {
      "text/plain": [
       "array([0, 1, 2, 3, 4, 5, 6, 7, 8, 9])"
      ]
     },
     "execution_count": 41,
     "metadata": {},
     "output_type": "execute_result"
    }
   ],
   "source": [
    "np.arange(10)"
   ]
  },
  {
   "cell_type": "code",
   "execution_count": 42,
   "id": "f92b3d58-856c-4f0c-8c3c-97da92db09a7",
   "metadata": {},
   "outputs": [
    {
     "data": {
      "text/plain": [
       "array([ 3,  5,  7,  9, 11, 13, 15, 17, 19])"
      ]
     },
     "execution_count": 42,
     "metadata": {},
     "output_type": "execute_result"
    }
   ],
   "source": [
    "np.arange(3,21,2)"
   ]
  },
  {
   "cell_type": "markdown",
   "id": "dd477ee7-fdd8-498b-a0e9-55f7f37432d9",
   "metadata": {},
   "source": [
    "##### linspace / logspace 명령은 선형 구간 혹은 로그 구간을 지정한 구간의 수만큼 분할"
   ]
  },
  {
   "cell_type": "code",
   "execution_count": 43,
   "id": "8dc26e43-6b94-4cd0-9718-81566fd11e47",
   "metadata": {},
   "outputs": [
    {
     "data": {
      "text/plain": [
       "array([  0.,  25.,  50.,  75., 100.])"
      ]
     },
     "execution_count": 43,
     "metadata": {},
     "output_type": "execute_result"
    }
   ],
   "source": [
    "ex = np.linspace(0,100,5)\n",
    "ex"
   ]
  },
  {
   "cell_type": "code",
   "execution_count": 44,
   "id": "9c72b8ef-ff65-44aa-864c-7f7648967fea",
   "metadata": {},
   "outputs": [
    {
     "data": {
      "text/plain": [
       "array([1.e+000, 1.e+025, 1.e+050, 1.e+075, 1.e+100])"
      ]
     },
     "execution_count": 44,
     "metadata": {},
     "output_type": "execute_result"
    }
   ],
   "source": [
    "ex2 = np.logspace(0,100,5)\n",
    "ex2"
   ]
  },
  {
   "cell_type": "markdown",
   "id": "87548345-5964-4b0b-8379-cee5be6152b1",
   "metadata": {},
   "source": [
    "#### .T 전치연산 (teanspose) 행과 열을 바꿈 (메서드가 아닌 속성)"
   ]
  },
  {
   "cell_type": "code",
   "execution_count": 45,
   "id": "457484e7-f454-479e-bc94-b05cfe4f9f8b",
   "metadata": {},
   "outputs": [
    {
     "data": {
      "text/plain": [
       "array([[1, 2, 3],\n",
       "       [4, 5, 6]])"
      ]
     },
     "execution_count": 45,
     "metadata": {},
     "output_type": "execute_result"
    }
   ],
   "source": [
    "A = np.array([[1,2,3],[4,5,6]])\n",
    "A"
   ]
  },
  {
   "cell_type": "code",
   "execution_count": 46,
   "id": "fb41f80c-ff05-45e1-8a16-278d1497c8af",
   "metadata": {},
   "outputs": [
    {
     "data": {
      "text/plain": [
       "array([[1, 4],\n",
       "       [2, 5],\n",
       "       [3, 6]])"
      ]
     },
     "execution_count": 46,
     "metadata": {},
     "output_type": "execute_result"
    }
   ],
   "source": [
    "A.T"
   ]
  },
  {
   "cell_type": "markdown",
   "id": "7b7dd8e7-0a72-4fde-9aad-a64da59058c1",
   "metadata": {},
   "source": [
    "### reshape 배열의 크기 변형 (reshape)"
   ]
  },
  {
   "cell_type": "code",
   "execution_count": 47,
   "id": "57cb164d-ae9f-4718-abad-962495155e5c",
   "metadata": {},
   "outputs": [
    {
     "data": {
      "text/plain": [
       "array([ 0,  1,  2,  3,  4,  5,  6,  7,  8,  9, 10, 11])"
      ]
     },
     "execution_count": 47,
     "metadata": {},
     "output_type": "execute_result"
    }
   ],
   "source": [
    "a = np.arange(12)\n",
    "a"
   ]
  },
  {
   "cell_type": "code",
   "execution_count": 48,
   "id": "b4a210fc-262e-4b78-918b-432ba997b477",
   "metadata": {},
   "outputs": [
    {
     "data": {
      "text/plain": [
       "array([[ 0,  1,  2,  3],\n",
       "       [ 4,  5,  6,  7],\n",
       "       [ 8,  9, 10, 11]])"
      ]
     },
     "execution_count": 48,
     "metadata": {},
     "output_type": "execute_result"
    }
   ],
   "source": [
    "b =  a.reshape(3,4)\n",
    "b"
   ]
  },
  {
   "cell_type": "code",
   "execution_count": 49,
   "id": "aa16853c-91ac-44ff-b4e1-4897897ca9a7",
   "metadata": {},
   "outputs": [
    {
     "data": {
      "text/plain": [
       "array([[[ 0,  1,  2],\n",
       "        [ 3,  4,  5]],\n",
       "\n",
       "       [[ 6,  7,  8],\n",
       "        [ 9, 10, 11]]])"
      ]
     },
     "execution_count": 49,
     "metadata": {},
     "output_type": "execute_result"
    }
   ],
   "source": [
    "#나누어 떨어지는 숫자로 해서 맞춰주어야 한다.\n",
    "b =  a.reshape(2,2,3)\n",
    "b"
   ]
  },
  {
   "cell_type": "markdown",
   "id": "4170a124-b0c8-4677-bf27-ef406ebf52a9",
   "metadata": {},
   "source": [
    "### flatten / ravel 일차원으로 만듦"
   ]
  },
  {
   "cell_type": "code",
   "execution_count": 50,
   "id": "d303a2f6-ab13-4b34-b1d9-5afa79db641c",
   "metadata": {},
   "outputs": [
    {
     "data": {
      "text/plain": [
       "array([ 0,  1,  2,  3,  4,  5,  6,  7,  8,  9, 10, 11])"
      ]
     },
     "execution_count": 50,
     "metadata": {},
     "output_type": "execute_result"
    }
   ],
   "source": [
    "a.flatten()"
   ]
  },
  {
   "cell_type": "code",
   "execution_count": 51,
   "id": "89cbcfdd-2fe2-4262-ac71-ed0d4665161e",
   "metadata": {},
   "outputs": [
    {
     "data": {
      "text/plain": [
       "array([ 0,  1,  2,  3,  4,  5,  6,  7,  8,  9, 10, 11])"
      ]
     },
     "execution_count": 51,
     "metadata": {},
     "output_type": "execute_result"
    }
   ],
   "source": [
    "a.ravel()"
   ]
  },
  {
   "cell_type": "markdown",
   "id": "87c65a79-2b4b-4076-a42f-82fa84d32dab",
   "metadata": {},
   "source": [
    "### newaxis 새로운 차원을 증가시킨다"
   ]
  },
  {
   "cell_type": "code",
   "execution_count": 52,
   "id": "2a34bd76-a5ce-4cf4-8b86-49beb6c3d40d",
   "metadata": {},
   "outputs": [
    {
     "data": {
      "text/plain": [
       "array([[0],\n",
       "       [1],\n",
       "       [2],\n",
       "       [3],\n",
       "       [4],\n",
       "       [5],\n",
       "       [6],\n",
       "       [7],\n",
       "       [8],\n",
       "       [9]])"
      ]
     },
     "execution_count": 52,
     "metadata": {},
     "output_type": "execute_result"
    }
   ],
   "source": [
    "x[:,np.newaxis]"
   ]
  },
  {
   "cell_type": "markdown",
   "id": "e5df1343-d2ec-4747-9254-62e1c7c48d80",
   "metadata": {},
   "source": [
    "### concatenate 행,열의 수가 같은 배열 연결"
   ]
  },
  {
   "cell_type": "code",
   "execution_count": 53,
   "id": "94fbd581-bd97-4a69-b020-18483640c248",
   "metadata": {},
   "outputs": [
    {
     "data": {
      "text/plain": [
       "array([[1., 1., 1.],\n",
       "       [1., 1., 1.]])"
      ]
     },
     "execution_count": 53,
     "metadata": {},
     "output_type": "execute_result"
    }
   ],
   "source": [
    "a1 = np.ones((2,3))\n",
    "a1"
   ]
  },
  {
   "cell_type": "code",
   "execution_count": 54,
   "id": "76d83abc-c2b3-41f7-9ad3-c09cc1d2e4cd",
   "metadata": {},
   "outputs": [
    {
     "data": {
      "text/plain": [
       "array([[0., 0.],\n",
       "       [0., 0.]])"
      ]
     },
     "execution_count": 54,
     "metadata": {},
     "output_type": "execute_result"
    }
   ],
   "source": [
    "a2 = np.zeros((2,2))\n",
    "a2"
   ]
  },
  {
   "cell_type": "markdown",
   "id": "518c260d-3404-42ad-8d9f-ac0b179ed411",
   "metadata": {},
   "source": [
    "##### hstack 열의 수가 더 많은 배열을 생성(수평)"
   ]
  },
  {
   "cell_type": "code",
   "execution_count": 55,
   "id": "713790d2-42f6-4d50-b2f2-b3f5fac49c1a",
   "metadata": {},
   "outputs": [
    {
     "data": {
      "text/plain": [
       "array([[1., 1., 1., 0., 0.],\n",
       "       [1., 1., 1., 0., 0.]])"
      ]
     },
     "execution_count": 55,
     "metadata": {},
     "output_type": "execute_result"
    }
   ],
   "source": [
    "np.hstack([a1,a2])"
   ]
  },
  {
   "cell_type": "markdown",
   "id": "0b19f93e-8e17-44b9-bf86-c75b4c2c0db3",
   "metadata": {},
   "source": [
    "##### vstack 행의 수가 더 많은 배열을 생성(수직)"
   ]
  },
  {
   "cell_type": "markdown",
   "id": "0e204523-acd7-45b0-a1db-59037bf41bc4",
   "metadata": {},
   "source": [
    "##### ones / zeros -> 1 / 0으로 초기화"
   ]
  },
  {
   "cell_type": "code",
   "execution_count": 56,
   "id": "8ab10ab4-d918-4093-b228-87d2259e75bb",
   "metadata": {},
   "outputs": [
    {
     "data": {
      "text/plain": [
       "array([[1., 1., 1.],\n",
       "       [1., 1., 1.]])"
      ]
     },
     "execution_count": 56,
     "metadata": {},
     "output_type": "execute_result"
    }
   ],
   "source": [
    "b1 = np.ones((2,3))\n",
    "b1"
   ]
  },
  {
   "cell_type": "code",
   "execution_count": 57,
   "id": "5617c789-a447-44bd-9e73-9d1a6ce6dd48",
   "metadata": {},
   "outputs": [
    {
     "data": {
      "text/plain": [
       "array([[0., 0., 0.],\n",
       "       [0., 0., 0.],\n",
       "       [0., 0., 0.]])"
      ]
     },
     "execution_count": 57,
     "metadata": {},
     "output_type": "execute_result"
    }
   ],
   "source": [
    "b2 = np.zeros((3,3))\n",
    "b2"
   ]
  },
  {
   "cell_type": "code",
   "execution_count": 58,
   "id": "efd380cd-8263-4eba-bf23-ea74f2ffa054",
   "metadata": {},
   "outputs": [
    {
     "data": {
      "text/plain": [
       "array([[1., 1., 1.],\n",
       "       [1., 1., 1.],\n",
       "       [0., 0., 0.],\n",
       "       [0., 0., 0.],\n",
       "       [0., 0., 0.]])"
      ]
     },
     "execution_count": 58,
     "metadata": {},
     "output_type": "execute_result"
    }
   ],
   "source": [
    "np.vstack([b1,b2])"
   ]
  },
  {
   "cell_type": "markdown",
   "id": "ebab28d6-eff4-4c9a-8e62-33713f888e71",
   "metadata": {},
   "source": [
    "##### dstack 깊이 수가 더 많은 배열을 생성"
   ]
  },
  {
   "cell_type": "code",
   "execution_count": 59,
   "id": "183c1be3-fdcc-4ab9-8600-d992943ff93d",
   "metadata": {},
   "outputs": [
    {
     "data": {
      "text/plain": [
       "array([[1., 1., 1., 1.],\n",
       "       [1., 1., 1., 1.],\n",
       "       [1., 1., 1., 1.]])"
      ]
     },
     "execution_count": 59,
     "metadata": {},
     "output_type": "execute_result"
    }
   ],
   "source": [
    "c1 = np.ones((3,4))\n",
    "c1"
   ]
  },
  {
   "cell_type": "code",
   "execution_count": 60,
   "id": "27ba8083-a269-4425-a56e-0462864ace56",
   "metadata": {},
   "outputs": [
    {
     "data": {
      "text/plain": [
       "array([[0., 0., 0., 0.],\n",
       "       [0., 0., 0., 0.],\n",
       "       [0., 0., 0., 0.]])"
      ]
     },
     "execution_count": 60,
     "metadata": {},
     "output_type": "execute_result"
    }
   ],
   "source": [
    "c2 = np.zeros((3,4))\n",
    "c2"
   ]
  },
  {
   "cell_type": "code",
   "execution_count": 61,
   "id": "dfed396c-37da-4877-89dd-9e31e9637481",
   "metadata": {},
   "outputs": [
    {
     "data": {
      "text/plain": [
       "array([[[1., 0.],\n",
       "        [1., 0.],\n",
       "        [1., 0.],\n",
       "        [1., 0.]],\n",
       "\n",
       "       [[1., 0.],\n",
       "        [1., 0.],\n",
       "        [1., 0.],\n",
       "        [1., 0.]],\n",
       "\n",
       "       [[1., 0.],\n",
       "        [1., 0.],\n",
       "        [1., 0.],\n",
       "        [1., 0.]]])"
      ]
     },
     "execution_count": 61,
     "metadata": {},
     "output_type": "execute_result"
    }
   ],
   "source": [
    "np.dstack([c1,c2])"
   ]
  },
  {
   "cell_type": "code",
   "execution_count": 62,
   "id": "f357354d-a3f9-4b16-8774-b37d46bb6fbd",
   "metadata": {},
   "outputs": [
    {
     "data": {
      "text/plain": [
       "(3, 4, 2)"
      ]
     },
     "execution_count": 62,
     "metadata": {},
     "output_type": "execute_result"
    }
   ],
   "source": [
    "(np.dstack([c1,c2])).shape"
   ]
  },
  {
   "cell_type": "markdown",
   "id": "6311bcd3-bdc7-4de9-b698-b22cd22d7aa1",
   "metadata": {},
   "source": [
    "##### stack 명령 dstack기능을 확장한 것 -> 지정한 차원으로 배열 연결 (크기가 같아야한다)"
   ]
  },
  {
   "cell_type": "code",
   "execution_count": 63,
   "id": "daa5862e-b5a0-41df-962e-15800322ee9c",
   "metadata": {},
   "outputs": [
    {
     "data": {
      "text/plain": [
       "array([[[1., 1., 1., 1.],\n",
       "        [1., 1., 1., 1.],\n",
       "        [1., 1., 1., 1.]],\n",
       "\n",
       "       [[0., 0., 0., 0.],\n",
       "        [0., 0., 0., 0.],\n",
       "        [0., 0., 0., 0.]]])"
      ]
     },
     "execution_count": 63,
     "metadata": {},
     "output_type": "execute_result"
    }
   ],
   "source": [
    "c = np.stack([c1,c2],axis = 0)\n",
    "c"
   ]
  },
  {
   "cell_type": "code",
   "execution_count": 64,
   "id": "09ce08a4-c888-4eca-a675-4d854b9c1b7e",
   "metadata": {},
   "outputs": [
    {
     "data": {
      "text/plain": [
       "(2, 3, 4)"
      ]
     },
     "execution_count": 64,
     "metadata": {},
     "output_type": "execute_result"
    }
   ],
   "source": [
    "c.shape"
   ]
  },
  {
   "cell_type": "code",
   "execution_count": 65,
   "id": "dd5a068c-64ed-442d-8d5b-160eb2934bc1",
   "metadata": {},
   "outputs": [
    {
     "data": {
      "text/plain": [
       "array([[[1., 1., 1., 1.],\n",
       "        [0., 0., 0., 0.]],\n",
       "\n",
       "       [[1., 1., 1., 1.],\n",
       "        [0., 0., 0., 0.]],\n",
       "\n",
       "       [[1., 1., 1., 1.],\n",
       "        [0., 0., 0., 0.]]])"
      ]
     },
     "execution_count": 65,
     "metadata": {},
     "output_type": "execute_result"
    }
   ],
   "source": [
    "c = np.stack([c1,c2],axis = 1)\n",
    "c"
   ]
  },
  {
   "cell_type": "code",
   "execution_count": 66,
   "id": "a6b19003-5bf3-4088-bb1d-12347f4b33b6",
   "metadata": {},
   "outputs": [
    {
     "data": {
      "text/plain": [
       "(3, 2, 4)"
      ]
     },
     "execution_count": 66,
     "metadata": {},
     "output_type": "execute_result"
    }
   ],
   "source": [
    "c.shape"
   ]
  },
  {
   "cell_type": "code",
   "execution_count": 67,
   "id": "123c5d5c-7906-4c89-9e32-44fcba726052",
   "metadata": {},
   "outputs": [],
   "source": [
    "d1 = np.ones((4,5))\n",
    "d2 = np.zeros((4,5))\n",
    "d3 = np.arange(20).reshape(4,5)"
   ]
  },
  {
   "cell_type": "code",
   "execution_count": 68,
   "id": "faca8771-12c9-446b-85f7-f5179ea70420",
   "metadata": {},
   "outputs": [
    {
     "data": {
      "text/plain": [
       "array([[1., 1., 1., 1., 1.],\n",
       "       [1., 1., 1., 1., 1.],\n",
       "       [1., 1., 1., 1., 1.],\n",
       "       [1., 1., 1., 1., 1.]])"
      ]
     },
     "execution_count": 68,
     "metadata": {},
     "output_type": "execute_result"
    }
   ],
   "source": [
    "d1"
   ]
  },
  {
   "cell_type": "code",
   "execution_count": 69,
   "id": "16b8d930-b8ef-4295-8734-39172635311d",
   "metadata": {},
   "outputs": [
    {
     "data": {
      "text/plain": [
       "array([[0., 0., 0., 0., 0.],\n",
       "       [0., 0., 0., 0., 0.],\n",
       "       [0., 0., 0., 0., 0.],\n",
       "       [0., 0., 0., 0., 0.]])"
      ]
     },
     "execution_count": 69,
     "metadata": {},
     "output_type": "execute_result"
    }
   ],
   "source": [
    "d2"
   ]
  },
  {
   "cell_type": "code",
   "execution_count": 70,
   "id": "d8981e89-9273-4956-b855-c702345c957b",
   "metadata": {},
   "outputs": [
    {
     "data": {
      "text/plain": [
       "array([[ 0,  1,  2,  3,  4],\n",
       "       [ 5,  6,  7,  8,  9],\n",
       "       [10, 11, 12, 13, 14],\n",
       "       [15, 16, 17, 18, 19]])"
      ]
     },
     "execution_count": 70,
     "metadata": {},
     "output_type": "execute_result"
    }
   ],
   "source": [
    "d3"
   ]
  },
  {
   "cell_type": "code",
   "execution_count": 71,
   "id": "eb26ed92-98f9-4ddd-81dc-4c0eb1eb8417",
   "metadata": {},
   "outputs": [
    {
     "data": {
      "text/plain": [
       "array([[[ 1.,  1.,  1.,  1.,  1.],\n",
       "        [ 1.,  1.,  1.,  1.,  1.],\n",
       "        [ 1.,  1.,  1.,  1.,  1.],\n",
       "        [ 1.,  1.,  1.,  1.,  1.]],\n",
       "\n",
       "       [[ 0.,  0.,  0.,  0.,  0.],\n",
       "        [ 0.,  0.,  0.,  0.,  0.],\n",
       "        [ 0.,  0.,  0.,  0.,  0.],\n",
       "        [ 0.,  0.,  0.,  0.,  0.]],\n",
       "\n",
       "       [[ 0.,  1.,  2.,  3.,  4.],\n",
       "        [ 5.,  6.,  7.,  8.,  9.],\n",
       "        [10., 11., 12., 13., 14.],\n",
       "        [15., 16., 17., 18., 19.]]])"
      ]
     },
     "execution_count": 71,
     "metadata": {},
     "output_type": "execute_result"
    }
   ],
   "source": [
    "np.stack([d1,d2,d3], axis = 0)"
   ]
  },
  {
   "cell_type": "code",
   "execution_count": 72,
   "id": "25e04919-8b43-47a7-98e0-4af6b6bbaf72",
   "metadata": {},
   "outputs": [
    {
     "data": {
      "text/plain": [
       "array([[[ 1.,  1.,  1.,  1.,  1.],\n",
       "        [ 0.,  0.,  0.,  0.,  0.],\n",
       "        [ 0.,  1.,  2.,  3.,  4.]],\n",
       "\n",
       "       [[ 1.,  1.,  1.,  1.,  1.],\n",
       "        [ 0.,  0.,  0.,  0.,  0.],\n",
       "        [ 5.,  6.,  7.,  8.,  9.]],\n",
       "\n",
       "       [[ 1.,  1.,  1.,  1.,  1.],\n",
       "        [ 0.,  0.,  0.,  0.,  0.],\n",
       "        [10., 11., 12., 13., 14.]],\n",
       "\n",
       "       [[ 1.,  1.,  1.,  1.,  1.],\n",
       "        [ 0.,  0.,  0.,  0.,  0.],\n",
       "        [15., 16., 17., 18., 19.]]])"
      ]
     },
     "execution_count": 72,
     "metadata": {},
     "output_type": "execute_result"
    }
   ],
   "source": [
    "np.stack([d1,d2,d3], axis = 1)"
   ]
  },
  {
   "cell_type": "code",
   "execution_count": 73,
   "id": "9638f61e-e0be-4805-a606-f85c1f60ef0e",
   "metadata": {},
   "outputs": [
    {
     "data": {
      "text/plain": [
       "array([[[ 1.,  0.,  0.],\n",
       "        [ 1.,  0.,  1.],\n",
       "        [ 1.,  0.,  2.],\n",
       "        [ 1.,  0.,  3.],\n",
       "        [ 1.,  0.,  4.]],\n",
       "\n",
       "       [[ 1.,  0.,  5.],\n",
       "        [ 1.,  0.,  6.],\n",
       "        [ 1.,  0.,  7.],\n",
       "        [ 1.,  0.,  8.],\n",
       "        [ 1.,  0.,  9.]],\n",
       "\n",
       "       [[ 1.,  0., 10.],\n",
       "        [ 1.,  0., 11.],\n",
       "        [ 1.,  0., 12.],\n",
       "        [ 1.,  0., 13.],\n",
       "        [ 1.,  0., 14.]],\n",
       "\n",
       "       [[ 1.,  0., 15.],\n",
       "        [ 1.,  0., 16.],\n",
       "        [ 1.,  0., 17.],\n",
       "        [ 1.,  0., 18.],\n",
       "        [ 1.,  0., 19.]]])"
      ]
     },
     "execution_count": 73,
     "metadata": {},
     "output_type": "execute_result"
    }
   ],
   "source": [
    "np.stack([d1,d2,d3], axis = 2)"
   ]
  },
  {
   "cell_type": "markdown",
   "id": "3480f68a-4d8f-4e00-88a5-4cf096b76c09",
   "metadata": {},
   "source": [
    "#### r_[ ] 메서드는 특수 메서드 인덱서라고 한다."
   ]
  },
  {
   "cell_type": "markdown",
   "id": "30c8bfca-bea7-4b53-896e-2fe7adda350f",
   "metadata": {},
   "source": [
    "#### c_[ ] 메서드는 colum단위로 차원을 증가시킨 후 좌우로 연결"
   ]
  },
  {
   "cell_type": "markdown",
   "id": "5f9f34ca-672b-4303-b507-1a976e8ee953",
   "metadata": {},
   "source": [
    "#### tile 명령은 동일한 배열을 반복하여 연결"
   ]
  },
  {
   "cell_type": "code",
   "execution_count": 74,
   "id": "c8e6685c-4140-4032-8695-4276aa33b736",
   "metadata": {},
   "outputs": [
    {
     "data": {
      "text/plain": [
       "array([[0, 1, 2],\n",
       "       [3, 4, 5]])"
      ]
     },
     "execution_count": 74,
     "metadata": {},
     "output_type": "execute_result"
    }
   ],
   "source": [
    "a = np.arange(6).reshape(2,3)\n",
    "a"
   ]
  },
  {
   "cell_type": "code",
   "execution_count": 75,
   "id": "fbfb7407-4603-4c65-a81b-1c183748ce47",
   "metadata": {},
   "outputs": [
    {
     "data": {
      "text/plain": [
       "array([[0, 1, 2, 0, 1, 2, 0, 1, 2],\n",
       "       [3, 4, 5, 3, 4, 5, 3, 4, 5],\n",
       "       [0, 1, 2, 0, 1, 2, 0, 1, 2],\n",
       "       [3, 4, 5, 3, 4, 5, 3, 4, 5],\n",
       "       [0, 1, 2, 0, 1, 2, 0, 1, 2],\n",
       "       [3, 4, 5, 3, 4, 5, 3, 4, 5],\n",
       "       [0, 1, 2, 0, 1, 2, 0, 1, 2],\n",
       "       [3, 4, 5, 3, 4, 5, 3, 4, 5]])"
      ]
     },
     "execution_count": 75,
     "metadata": {},
     "output_type": "execute_result"
    }
   ],
   "source": [
    "np.tile(a,(4,3))"
   ]
  },
  {
   "cell_type": "code",
   "execution_count": 76,
   "id": "fe2c5d9c-3eb0-4f76-8ec3-9d493d1ce524",
   "metadata": {},
   "outputs": [],
   "source": [
    "d1 = np.zeros((3,3))\n",
    "d2 = np.ones((3,2))\n",
    "d3 = np.arange(10,151,10).reshape(3,5)"
   ]
  },
  {
   "cell_type": "code",
   "execution_count": 77,
   "id": "0af7b1bf-f4e9-4e9a-aa13-eade7e565d30",
   "metadata": {},
   "outputs": [],
   "source": [
    "h1 = np.hstack([d1,d2])"
   ]
  },
  {
   "cell_type": "code",
   "execution_count": 78,
   "id": "efea2d4f-8328-489a-b9fb-91a6ec421356",
   "metadata": {},
   "outputs": [],
   "source": [
    "h2 = np.vstack([h1,d3])"
   ]
  },
  {
   "cell_type": "code",
   "execution_count": 79,
   "id": "0b18f08c-c7e0-4095-b82c-7f4b8ac51f57",
   "metadata": {},
   "outputs": [
    {
     "data": {
      "text/plain": [
       "array([[  0.,   0.,   0.,   1.,   1.],\n",
       "       [  0.,   0.,   0.,   1.,   1.],\n",
       "       [  0.,   0.,   0.,   1.,   1.],\n",
       "       [ 10.,  20.,  30.,  40.,  50.],\n",
       "       [ 60.,  70.,  80.,  90., 100.],\n",
       "       [110., 120., 130., 140., 150.],\n",
       "       [  0.,   0.,   0.,   1.,   1.],\n",
       "       [  0.,   0.,   0.,   1.,   1.],\n",
       "       [  0.,   0.,   0.,   1.,   1.],\n",
       "       [ 10.,  20.,  30.,  40.,  50.],\n",
       "       [ 60.,  70.,  80.,  90., 100.],\n",
       "       [110., 120., 130., 140., 150.]])"
      ]
     },
     "execution_count": 79,
     "metadata": {},
     "output_type": "execute_result"
    }
   ],
   "source": [
    "np.tile(h2,(2,1))"
   ]
  },
  {
   "cell_type": "markdown",
   "id": "976b1829-091e-41e9-9372-466f9e09298c",
   "metadata": {},
   "source": [
    "#### AII 명령 -> 원소가 다 같은지 확인"
   ]
  },
  {
   "cell_type": "markdown",
   "id": "cabacadc-53a0-4a69-ab7c-9bc42ce55da7",
   "metadata": {},
   "source": [
    "#### ANY 명령 -> 원소가 하나라도 같은지 확인"
   ]
  },
  {
   "cell_type": "code",
   "execution_count": 80,
   "id": "fe318352-0680-4d1a-98d4-fd9ca4efa278",
   "metadata": {},
   "outputs": [
    {
     "data": {
      "text/plain": [
       "False"
      ]
     },
     "execution_count": 80,
     "metadata": {},
     "output_type": "execute_result"
    }
   ],
   "source": [
    "np.all(a==b)"
   ]
  },
  {
   "cell_type": "code",
   "execution_count": 81,
   "id": "5b757166-19f6-4859-ad0d-631047c32e55",
   "metadata": {},
   "outputs": [
    {
     "data": {
      "text/plain": [
       "array([0, 1, 2, 3, 4, 5, 6, 7, 8, 9])"
      ]
     },
     "execution_count": 81,
     "metadata": {},
     "output_type": "execute_result"
    }
   ],
   "source": [
    "x = np.arange(10)\n",
    "x"
   ]
  },
  {
   "cell_type": "code",
   "execution_count": 82,
   "id": "3519ca24-5ec6-407f-8e2b-c9ee59e365e6",
   "metadata": {},
   "outputs": [
    {
     "data": {
      "text/plain": [
       "array([  0, 100, 200, 300, 400, 500, 600, 700, 800, 900])"
      ]
     },
     "execution_count": 82,
     "metadata": {},
     "output_type": "execute_result"
    }
   ],
   "source": [
    "100 * x"
   ]
  },
  {
   "cell_type": "code",
   "execution_count": 83,
   "id": "0d21bd1a-1739-43c8-8407-23e220feff94",
   "metadata": {},
   "outputs": [],
   "source": [
    "x = np.arange(12).reshape(3,4)"
   ]
  },
  {
   "cell_type": "code",
   "execution_count": 84,
   "id": "b6ee08b3-39f8-4b3d-80d1-dfccf4424ce2",
   "metadata": {},
   "outputs": [
    {
     "data": {
      "text/plain": [
       "array([[   0,  100,  200,  300],\n",
       "       [ 400,  500,  600,  700],\n",
       "       [ 800,  900, 1000, 1100]])"
      ]
     },
     "execution_count": 84,
     "metadata": {},
     "output_type": "execute_result"
    }
   ],
   "source": [
    "100 * x"
   ]
  },
  {
   "cell_type": "markdown",
   "id": "0ff2f7f5-8224-4463-b036-a96dab28efd5",
   "metadata": {},
   "source": [
    "## 브로드 캐스팅"
   ]
  },
  {
   "cell_type": "markdown",
   "id": "7f784e1d-56ce-4ac9-ae90-45deb325f5a4",
   "metadata": {},
   "source": [
    "### -> 모양이 다른 배열 간의 연산이 가능하도록 배열의 크기를 변환"
   ]
  },
  {
   "cell_type": "markdown",
   "id": "ee3da317-c24e-4b3c-975a-e203cf32b7d8",
   "metadata": {
    "tags": []
   },
   "source": [
    "#### 스칼라 기법 -> 스칼라를 벡터와 같은 크기로 확장시킨다\n",
    "#### 확장 가능한 경우 (하나만 충족)\n",
    "##### 1. 해당 차원 간의 숫자가 동일한 경우\n",
    "##### 2. 해당 차원 중 하나가 1인 경우"
   ]
  },
  {
   "cell_type": "code",
   "execution_count": 85,
   "id": "9f047943-42c1-4007-9ccf-482967ece282",
   "metadata": {},
   "outputs": [
    {
     "data": {
      "text/plain": [
       "array([2., 4., 6.])"
      ]
     },
     "execution_count": 85,
     "metadata": {},
     "output_type": "execute_result"
    }
   ],
   "source": [
    "a = np.array([1,2,3])\n",
    "b = 2.0\n",
    "a*b"
   ]
  },
  {
   "cell_type": "markdown",
   "id": "8a0e0cfa-b485-4915-a54d-cf85cf282902",
   "metadata": {},
   "source": [
    "## 차원 축소 연산"
   ]
  },
  {
   "cell_type": "markdown",
   "id": "b079c820-0373-4d4e-b597-8d65306d42cb",
   "metadata": {},
   "source": [
    "### 여러개의 차원을 연산하여 차원을 축소한다."
   ]
  },
  {
   "cell_type": "code",
   "execution_count": 86,
   "id": "fa2d781e-d684-4eba-bc44-e006a7729e00",
   "metadata": {},
   "outputs": [],
   "source": [
    "# 최대/ 최소 : min,max,argmin,argmax\n",
    "# 통계 : sum, mean, median, std, var\n",
    "# 불리언 : all, any"
   ]
  },
  {
   "cell_type": "code",
   "execution_count": 87,
   "id": "f90d06a0-0409-40f6-97a6-1bfde70dec73",
   "metadata": {},
   "outputs": [
    {
     "data": {
      "text/plain": [
       "array([[ 0,  1,  2,  3],\n",
       "       [ 4,  5,  6,  7],\n",
       "       [ 8,  9, 10, 11]])"
      ]
     },
     "execution_count": 87,
     "metadata": {},
     "output_type": "execute_result"
    }
   ],
   "source": [
    "x"
   ]
  },
  {
   "cell_type": "code",
   "execution_count": 88,
   "id": "eb83076d-3ef2-4136-83e3-6c73c7a76d11",
   "metadata": {},
   "outputs": [
    {
     "data": {
      "text/plain": [
       "66"
      ]
     },
     "execution_count": 88,
     "metadata": {},
     "output_type": "execute_result"
    }
   ],
   "source": [
    "np.sum(x)"
   ]
  },
  {
   "cell_type": "code",
   "execution_count": 89,
   "id": "864cbe6d-f154-441a-afe6-59a64d21a0b8",
   "metadata": {},
   "outputs": [
    {
     "data": {
      "text/plain": [
       "66"
      ]
     },
     "execution_count": 89,
     "metadata": {},
     "output_type": "execute_result"
    }
   ],
   "source": [
    "x.sum()"
   ]
  },
  {
   "cell_type": "code",
   "execution_count": 90,
   "id": "403934c6-c200-458a-b58e-a8bd141cf2f0",
   "metadata": {},
   "outputs": [
    {
     "data": {
      "text/plain": [
       "array([12, 15, 18, 21])"
      ]
     },
     "execution_count": 90,
     "metadata": {},
     "output_type": "execute_result"
    }
   ],
   "source": [
    "x.sum(axis=0) #세로로 계산( column)열 - 세로"
   ]
  },
  {
   "cell_type": "code",
   "execution_count": 91,
   "id": "a5372df0-061c-4afc-b3fc-c73785b1c721",
   "metadata": {},
   "outputs": [
    {
     "data": {
      "text/plain": [
       "array([ 6, 22, 38])"
      ]
     },
     "execution_count": 91,
     "metadata": {},
     "output_type": "execute_result"
    }
   ],
   "source": [
    "x.sum(axis=1) #가로로 계산( row)행 - 가로"
   ]
  },
  {
   "cell_type": "markdown",
   "id": "291bd9c5-8e70-45fb-8e9b-1c45c55df529",
   "metadata": {},
   "source": [
    "### argmin( ) -> 해당 배열의 제일 작은 값의 인덱스 반환"
   ]
  },
  {
   "cell_type": "code",
   "execution_count": 92,
   "id": "6301db25-6d92-472d-af87-2fb4806ed91f",
   "metadata": {},
   "outputs": [
    {
     "data": {
      "text/plain": [
       "array([[ 0,  1,  2,  3],\n",
       "       [ 4,  5,  6,  7],\n",
       "       [ 8,  9, 10, 11]])"
      ]
     },
     "execution_count": 92,
     "metadata": {},
     "output_type": "execute_result"
    }
   ],
   "source": [
    "x"
   ]
  },
  {
   "cell_type": "code",
   "execution_count": 93,
   "id": "8813afe9-200a-48e3-a056-921cf966d40c",
   "metadata": {},
   "outputs": [
    {
     "data": {
      "text/plain": [
       "0"
      ]
     },
     "execution_count": 93,
     "metadata": {},
     "output_type": "execute_result"
    }
   ],
   "source": [
    "x.argmin()"
   ]
  },
  {
   "cell_type": "code",
   "execution_count": 94,
   "id": "fbae60f4-05f9-4ca0-9a4f-2654e1f19d1e",
   "metadata": {},
   "outputs": [
    {
     "data": {
      "text/plain": [
       "array([0, 0, 0, 0], dtype=int64)"
      ]
     },
     "execution_count": 94,
     "metadata": {},
     "output_type": "execute_result"
    }
   ],
   "source": [
    "x.argmin(axis = 0)"
   ]
  },
  {
   "cell_type": "code",
   "execution_count": 95,
   "id": "9c31c367-12ce-4709-bb16-7eafcee4d284",
   "metadata": {},
   "outputs": [
    {
     "data": {
      "text/plain": [
       "array([0, 0, 0], dtype=int64)"
      ]
     },
     "execution_count": 95,
     "metadata": {},
     "output_type": "execute_result"
    }
   ],
   "source": [
    "np.argmin(x,axis = 1)"
   ]
  },
  {
   "cell_type": "code",
   "execution_count": 96,
   "id": "5702bcfc-389a-4b3b-8199-31c7ee086f89",
   "metadata": {},
   "outputs": [],
   "source": [
    "import random\n",
    "\n",
    "test = np.array([random.randint(1,99) for _ in range(20)]).reshape(2,5,-1)"
   ]
  },
  {
   "cell_type": "code",
   "execution_count": 97,
   "id": "0bb63fd0-102a-4109-bbb7-0abd241c54a2",
   "metadata": {},
   "outputs": [
    {
     "data": {
      "text/plain": [
       "array([[[93, 21],\n",
       "        [39, 98],\n",
       "        [34, 27],\n",
       "        [79, 77],\n",
       "        [91, 58]],\n",
       "\n",
       "       [[14, 74],\n",
       "        [77, 51],\n",
       "        [44, 48],\n",
       "        [61, 61],\n",
       "        [23, 13]]])"
      ]
     },
     "execution_count": 97,
     "metadata": {},
     "output_type": "execute_result"
    }
   ],
   "source": [
    "test"
   ]
  },
  {
   "cell_type": "code",
   "execution_count": 98,
   "id": "3b6d049a-343f-41a5-8117-a9e3d735ce34",
   "metadata": {},
   "outputs": [],
   "source": [
    "a = np.array([1,2,3,2])\n",
    "b = np.array([2,2,3,2])\n",
    "c = np.array([6,4,4,5])"
   ]
  },
  {
   "cell_type": "code",
   "execution_count": 99,
   "id": "31aea83e-126b-4fa7-949a-b1358bf2594f",
   "metadata": {},
   "outputs": [
    {
     "data": {
      "text/plain": [
       "True"
      ]
     },
     "execution_count": 99,
     "metadata": {},
     "output_type": "execute_result"
    }
   ],
   "source": [
    "((a <= b) & (b <= c )).all()"
   ]
  },
  {
   "cell_type": "code",
   "execution_count": 100,
   "id": "cb828bcd-38a5-49b2-8d75-72d6aa030f97",
   "metadata": {},
   "outputs": [],
   "source": [
    "a = np.zeros((100, 100), dtype = np.int64)"
   ]
  },
  {
   "cell_type": "code",
   "execution_count": 101,
   "id": "4f1c7935-053d-47a0-971b-3d809f876e54",
   "metadata": {},
   "outputs": [
    {
     "data": {
      "text/plain": [
       "array([[0, 0, 0, ..., 0, 0, 0],\n",
       "       [0, 0, 0, ..., 0, 0, 0],\n",
       "       [0, 0, 0, ..., 0, 0, 0],\n",
       "       ...,\n",
       "       [0, 0, 0, ..., 0, 0, 0],\n",
       "       [0, 0, 0, ..., 0, 0, 0],\n",
       "       [0, 0, 0, ..., 0, 0, 0]], dtype=int64)"
      ]
     },
     "execution_count": 101,
     "metadata": {},
     "output_type": "execute_result"
    }
   ],
   "source": [
    "a"
   ]
  },
  {
   "cell_type": "code",
   "execution_count": 102,
   "id": "4dc54e88-7953-42a6-87d2-8a6f55df2aa7",
   "metadata": {},
   "outputs": [
    {
     "data": {
      "text/plain": [
       "False"
      ]
     },
     "execution_count": 102,
     "metadata": {},
     "output_type": "execute_result"
    }
   ],
   "source": [
    "np.any(a!=0) #하나도 0이 아니다"
   ]
  },
  {
   "cell_type": "code",
   "execution_count": 103,
   "id": "465ebe8f-98ea-46fa-9d2e-397ca2689e5f",
   "metadata": {},
   "outputs": [
    {
     "data": {
      "text/plain": [
       "True"
      ]
     },
     "execution_count": 103,
     "metadata": {},
     "output_type": "execute_result"
    }
   ],
   "source": [
    "np.all(a==a)"
   ]
  },
  {
   "cell_type": "code",
   "execution_count": 104,
   "id": "e61b4dbe-5263-4993-85d7-cbd9ac02d6c0",
   "metadata": {},
   "outputs": [],
   "source": [
    "practice = np.array([[1.1, 7.1, 8.0, 2.1, 6.5, 7.2],\n",
    "                    [2.7, 5.2, 3.3, 9.0, 7.7, 2.8],\n",
    "                    [0.7, 8.8, 4.2, 8.9, 4.3, 7.4],\n",
    "                    [8.2, 1.1, 5.4, 2.9, 6.9, 0.2],\n",
    "                    [7.4, 4.8, 2.7, 3.1, 2.8, 8.9]])"
   ]
  },
  {
   "cell_type": "code",
   "execution_count": 105,
   "id": "077a8aea-dbff-4fbb-9fe1-683c626d57ca",
   "metadata": {},
   "outputs": [
    {
     "data": {
      "text/plain": [
       "9.0"
      ]
     },
     "execution_count": 105,
     "metadata": {},
     "output_type": "execute_result"
    }
   ],
   "source": [
    "practice.max() #전체의 최대값"
   ]
  },
  {
   "cell_type": "code",
   "execution_count": 106,
   "id": "da8b1882-df76-4bf4-833b-348f33754aa7",
   "metadata": {},
   "outputs": [
    {
     "data": {
      "text/plain": [
       "array([32. , 30.7, 34.3, 24.7, 29.7])"
      ]
     },
     "execution_count": 106,
     "metadata": {},
     "output_type": "execute_result"
    }
   ],
   "source": [
    "practice.sum(axis = 1) # 행간의 합"
   ]
  },
  {
   "cell_type": "code",
   "execution_count": 107,
   "id": "c02640c6-ae40-4898-b6d9-9e15a2e54033",
   "metadata": {},
   "outputs": [
    {
     "data": {
      "text/plain": [
       "array([8. , 9. , 8.9, 8.2, 8.9])"
      ]
     },
     "execution_count": 107,
     "metadata": {},
     "output_type": "execute_result"
    }
   ],
   "source": [
    "practice.max(axis = 1) #행간의 최대값"
   ]
  },
  {
   "cell_type": "code",
   "execution_count": 108,
   "id": "d6053bae-2fed-4f98-948d-bb62135cd135",
   "metadata": {},
   "outputs": [
    {
     "data": {
      "text/plain": [
       "array([4.02, 5.4 , 4.72, 5.2 , 5.64, 5.3 ])"
      ]
     },
     "execution_count": 108,
     "metadata": {},
     "output_type": "execute_result"
    }
   ],
   "source": [
    "practice.mean(axis = 0) # 열간의 평균"
   ]
  },
  {
   "cell_type": "code",
   "execution_count": 109,
   "id": "c1a95870-b4da-45bf-ab75-b19e742f5f00",
   "metadata": {},
   "outputs": [
    {
     "data": {
      "text/plain": [
       "array([0.7, 1.1, 2.7, 2.1, 2.8, 0.2])"
      ]
     },
     "execution_count": 109,
     "metadata": {},
     "output_type": "execute_result"
    }
   ],
   "source": [
    "practice.min(axis = 0) # 열간의 최소값"
   ]
  },
  {
   "cell_type": "code",
   "execution_count": 110,
   "id": "11c90e6e-aade-42cc-b23f-941c7965b4a5",
   "metadata": {},
   "outputs": [
    {
     "data": {
      "text/plain": [
       "array([1.1, 2.7, 0.7, 0.2, 2.7])"
      ]
     },
     "execution_count": 110,
     "metadata": {},
     "output_type": "execute_result"
    }
   ],
   "source": [
    "practice.max()\n",
    "practice.sum(axis = 0)\n",
    "practice.max(axis = 0)\n",
    "practice.mean(axis = 1)\n",
    "practice.min(axis = 1)"
   ]
  },
  {
   "cell_type": "markdown",
   "id": "f407c6b6-bb80-4fe5-9396-106e81a56b48",
   "metadata": {},
   "source": [
    "## 정렬"
   ]
  },
  {
   "cell_type": "markdown",
   "id": "a7d3707a-d7fc-4e60-a078-d3c8a3f313c3",
   "metadata": {},
   "source": [
    "### numpy.sort() 배열 안의 원소를 크기에 따라 정렬하여 새로운 배열을 만든다.\n",
    "### axis = 0 각각의 행을 따로 정렬하고  / axis = 1 각각의 열을 따로 정렬한다"
   ]
  },
  {
   "cell_type": "code",
   "execution_count": 111,
   "id": "5cdb455f-b648-4e49-8ff2-37d408223f41",
   "metadata": {},
   "outputs": [],
   "source": [
    "a = np.array([random.randint(1,30) for _ in range(5)])"
   ]
  },
  {
   "cell_type": "code",
   "execution_count": 112,
   "id": "3d8351f1-1a9a-43b1-8b43-10cda8f7b798",
   "metadata": {},
   "outputs": [
    {
     "data": {
      "text/plain": [
       "array([21,  2, 10,  9, 22])"
      ]
     },
     "execution_count": 112,
     "metadata": {},
     "output_type": "execute_result"
    }
   ],
   "source": [
    "a"
   ]
  },
  {
   "cell_type": "code",
   "execution_count": 113,
   "id": "bcfb5baa-2106-4997-9bce-bb06704bb8a9",
   "metadata": {},
   "outputs": [],
   "source": [
    "j = np.argsort(a)"
   ]
  },
  {
   "cell_type": "code",
   "execution_count": 114,
   "id": "80c1c143-53b5-401a-9fe4-deb67e48d680",
   "metadata": {},
   "outputs": [
    {
     "data": {
      "text/plain": [
       "array([1, 3, 2, 0, 4], dtype=int64)"
      ]
     },
     "execution_count": 114,
     "metadata": {},
     "output_type": "execute_result"
    }
   ],
   "source": [
    "j #정렬 인덱스 값"
   ]
  },
  {
   "cell_type": "code",
   "execution_count": 115,
   "id": "229ea5c2-edc6-4073-9a34-ebecf4a69130",
   "metadata": {},
   "outputs": [
    {
     "data": {
      "text/plain": [
       "array([ 2,  9, 10, 21, 22])"
      ]
     },
     "execution_count": 115,
     "metadata": {},
     "output_type": "execute_result"
    }
   ],
   "source": [
    "a[j]"
   ]
  },
  {
   "cell_type": "code",
   "execution_count": 116,
   "id": "b16fc529-6a32-4872-baa3-d91f601775b1",
   "metadata": {},
   "outputs": [
    {
     "data": {
      "text/plain": [
       "array([ 2,  9, 10, 21, 22])"
      ]
     },
     "execution_count": 116,
     "metadata": {},
     "output_type": "execute_result"
    }
   ],
   "source": [
    "np.sort(a)"
   ]
  },
  {
   "cell_type": "markdown",
   "id": "62c4a5a9-f7f7-4362-982b-7ba28f30a6f7",
   "metadata": {},
   "source": [
    "# 고급 인덱싱"
   ]
  },
  {
   "cell_type": "code",
   "execution_count": 117,
   "id": "079d4955-0278-4d56-9dad-6b75c92927d5",
   "metadata": {},
   "outputs": [
    {
     "data": {
      "text/plain": [
       "array([[1, 2],\n",
       "       [3, 4],\n",
       "       [5, 6]])"
      ]
     },
     "execution_count": 117,
     "metadata": {},
     "output_type": "execute_result"
    }
   ],
   "source": [
    "a = np.array([[1,2],[3,4],[5,6]])\n",
    "a"
   ]
  },
  {
   "cell_type": "code",
   "execution_count": 118,
   "id": "8114e146-faa8-45f5-b0e2-ab3f3bf78586",
   "metadata": {},
   "outputs": [
    {
     "name": "stdout",
     "output_type": "stream",
     "text": [
      "[1 4 5]\n"
     ]
    }
   ],
   "source": [
    "print(a[[0,1,2],[0,1,0]])"
   ]
  },
  {
   "cell_type": "code",
   "execution_count": 119,
   "id": "e694259f-0bff-4b4e-a79e-1fdb927c4c22",
   "metadata": {},
   "outputs": [
    {
     "name": "stdout",
     "output_type": "stream",
     "text": [
      "1 4 5\n"
     ]
    }
   ],
   "source": [
    "print(a[0,0],a[1,1],a[2,0])"
   ]
  },
  {
   "cell_type": "code",
   "execution_count": 120,
   "id": "58472faa-8d12-42bd-b1f7-5b162311fcf4",
   "metadata": {},
   "outputs": [
    {
     "data": {
      "text/plain": [
       "array([[5, 6, 5],\n",
       "       [3, 4, 3],\n",
       "       [1, 2, 1]])"
      ]
     },
     "execution_count": 120,
     "metadata": {},
     "output_type": "execute_result"
    }
   ],
   "source": [
    "a[::-1 , [0,1,0]]"
   ]
  },
  {
   "cell_type": "code",
   "execution_count": 121,
   "id": "29cffe79-62b2-4ee2-a417-82bd2e587634",
   "metadata": {},
   "outputs": [
    {
     "data": {
      "text/plain": [
       "array([[1, 2, 1],\n",
       "       [3, 4, 3],\n",
       "       [5, 6, 5]])"
      ]
     },
     "execution_count": 121,
     "metadata": {},
     "output_type": "execute_result"
    }
   ],
   "source": [
    "a[: , [0,1,0]]"
   ]
  },
  {
   "cell_type": "code",
   "execution_count": 122,
   "id": "64b422e5-5cd2-4827-a7ef-c4f6e1b805d3",
   "metadata": {},
   "outputs": [],
   "source": [
    "scores = np.array([[1,2,3,4],[46,99,100,71],[81,59,90,100]])"
   ]
  },
  {
   "cell_type": "code",
   "execution_count": 123,
   "id": "6fb2cbf4-acb9-4033-b3c5-5a3a55ff646d",
   "metadata": {},
   "outputs": [
    {
     "data": {
      "text/plain": [
       "array([[  3,   2,   4,   1],\n",
       "       [100,  99,  71,  46],\n",
       "       [ 90,  59, 100,  81]])"
      ]
     },
     "execution_count": 123,
     "metadata": {},
     "output_type": "execute_result"
    }
   ],
   "source": [
    "scores[:,[2,1,3,0]]"
   ]
  },
  {
   "cell_type": "code",
   "execution_count": 124,
   "id": "3db6208e-a0f0-4a12-8320-1afc4530b541",
   "metadata": {},
   "outputs": [],
   "source": [
    "j = np.argsort(scores[1])"
   ]
  },
  {
   "cell_type": "code",
   "execution_count": 125,
   "id": "d03d83df-d1d1-42b1-8b4d-3f40854f559e",
   "metadata": {},
   "outputs": [
    {
     "data": {
      "text/plain": [
       "array([[  1,   4,   2,   3],\n",
       "       [ 46,  71,  99, 100],\n",
       "       [ 81, 100,  59,  90]])"
      ]
     },
     "execution_count": 125,
     "metadata": {},
     "output_type": "execute_result"
    }
   ],
   "source": [
    "scores[:,j]"
   ]
  },
  {
   "cell_type": "markdown",
   "id": "56dc8441-85d0-4a86-9754-668d51bb3f7c",
   "metadata": {},
   "source": [
    "### 표본평균 - mean"
   ]
  },
  {
   "cell_type": "code",
   "execution_count": 126,
   "id": "7ae74650-7eeb-4577-9b24-f3772851f0eb",
   "metadata": {},
   "outputs": [
    {
     "data": {
      "text/plain": [
       "5.5"
      ]
     },
     "execution_count": 126,
     "metadata": {},
     "output_type": "execute_result"
    }
   ],
   "source": [
    "np.mean(x)"
   ]
  },
  {
   "cell_type": "markdown",
   "id": "54d90741-29e7-4b86-8efd-911756a2c9da",
   "metadata": {},
   "source": [
    "### 표본 분산 - var"
   ]
  },
  {
   "cell_type": "code",
   "execution_count": 127,
   "id": "607e8057-9b3e-4819-a8a7-6f05ef3585da",
   "metadata": {},
   "outputs": [
    {
     "data": {
      "text/plain": [
       "11.916666666666666"
      ]
     },
     "execution_count": 127,
     "metadata": {},
     "output_type": "execute_result"
    }
   ],
   "source": [
    "np.var(x)"
   ]
  },
  {
   "cell_type": "markdown",
   "id": "c2676d23-ce7d-4783-ae56-262567d954a3",
   "metadata": {},
   "source": [
    "### 표준편차 - std"
   ]
  },
  {
   "cell_type": "code",
   "execution_count": 128,
   "id": "501c8c66-0611-4b85-8dc3-5bbe68302209",
   "metadata": {},
   "outputs": [
    {
     "data": {
      "text/plain": [
       "3.452052529534663"
      ]
     },
     "execution_count": 128,
     "metadata": {},
     "output_type": "execute_result"
    }
   ],
   "source": [
    "np.std(x)"
   ]
  },
  {
   "cell_type": "markdown",
   "id": "1a30949a-46ea-4322-b617-31ede7962ce3",
   "metadata": {},
   "source": [
    "### 중앙값 - median"
   ]
  },
  {
   "cell_type": "code",
   "execution_count": 129,
   "id": "ff810657-1f02-45ed-a7e4-7bf101f66c85",
   "metadata": {},
   "outputs": [
    {
     "data": {
      "text/plain": [
       "5.5"
      ]
     },
     "execution_count": 129,
     "metadata": {},
     "output_type": "execute_result"
    }
   ],
   "source": [
    "np.median(x)"
   ]
  },
  {
   "cell_type": "markdown",
   "id": "639b9ccd-e42b-4957-85ef-9e549826de84",
   "metadata": {},
   "source": [
    "### 시드 설정하기 - seed"
   ]
  },
  {
   "cell_type": "code",
   "execution_count": 130,
   "id": "5d0f4048-fe27-4b3f-8bec-0534c677f321",
   "metadata": {},
   "outputs": [
    {
     "data": {
      "text/plain": [
       "array([0.00991384, 0.51752138, 0.4526404 , 0.76063141, 0.41075048])"
      ]
     },
     "execution_count": 130,
     "metadata": {},
     "output_type": "execute_result"
    }
   ],
   "source": [
    "np.random.rand(5)"
   ]
  },
  {
   "cell_type": "code",
   "execution_count": 131,
   "id": "e7f2f8cc-6378-49f2-b51e-5decb484597c",
   "metadata": {},
   "outputs": [],
   "source": [
    "np.random.seed(0)"
   ]
  },
  {
   "cell_type": "code",
   "execution_count": 132,
   "id": "90980721-1b08-4ba6-8fa3-5be720f7ed99",
   "metadata": {},
   "outputs": [
    {
     "data": {
      "text/plain": [
       "array([0.5488135 , 0.71518937, 0.60276338, 0.54488318, 0.4236548 ])"
      ]
     },
     "execution_count": 132,
     "metadata": {},
     "output_type": "execute_result"
    }
   ],
   "source": [
    "np.random.rand(5)"
   ]
  },
  {
   "cell_type": "code",
   "execution_count": 133,
   "id": "e048612d-57c2-4963-8d22-54287330da30",
   "metadata": {},
   "outputs": [
    {
     "data": {
      "text/plain": [
       "array([0.64589411, 0.43758721, 0.891773  , 0.96366276, 0.38344152,\n",
       "       0.79172504, 0.52889492, 0.56804456, 0.92559664, 0.07103606])"
      ]
     },
     "execution_count": 133,
     "metadata": {},
     "output_type": "execute_result"
    }
   ],
   "source": [
    "np.random.rand(10)"
   ]
  },
  {
   "cell_type": "code",
   "execution_count": 134,
   "id": "d6303ded-f15e-4011-b28a-ad94af304ce8",
   "metadata": {},
   "outputs": [
    {
     "data": {
      "text/plain": [
       "array([0.0871293 , 0.0202184 , 0.83261985, 0.77815675, 0.87001215,\n",
       "       0.97861834, 0.79915856, 0.46147936, 0.78052918, 0.11827443])"
      ]
     },
     "execution_count": 134,
     "metadata": {},
     "output_type": "execute_result"
    }
   ],
   "source": [
    "np.random.rand(10)"
   ]
  },
  {
   "cell_type": "markdown",
   "id": "2ad7285a-8918-4416-bf81-5e8e9c4a6c12",
   "metadata": {},
   "source": [
    "### shuffle - 데이터의 순서 바꾸기"
   ]
  },
  {
   "cell_type": "code",
   "execution_count": 135,
   "id": "6b6c083d-e13b-4cd8-b1af-183c251691e0",
   "metadata": {},
   "outputs": [
    {
     "data": {
      "text/plain": [
       "array([0.63992102, 0.14335329, 0.94466892, 0.52184832, 0.41466194,\n",
       "       0.26455561, 0.77423369, 0.45615033, 0.56843395, 0.0187898 ])"
      ]
     },
     "execution_count": 135,
     "metadata": {},
     "output_type": "execute_result"
    }
   ],
   "source": [
    "np.random.rand(10) #1차원"
   ]
  },
  {
   "cell_type": "code",
   "execution_count": 136,
   "id": "7ec385c7",
   "metadata": {},
   "outputs": [
    {
     "data": {
      "text/plain": [
       "array([[ 0,  1,  2,  3],\n",
       "       [ 8,  9, 10, 11],\n",
       "       [ 4,  5,  6,  7]])"
      ]
     },
     "execution_count": 136,
     "metadata": {},
     "output_type": "execute_result"
    }
   ],
   "source": [
    "np.random.shuffle(x)\n",
    "x"
   ]
  },
  {
   "cell_type": "markdown",
   "id": "4c66f433-8a52-483d-892f-a646d0bd86f6",
   "metadata": {},
   "source": [
    "### choice함수  - 데이터 샘플링"
   ]
  },
  {
   "cell_type": "code",
   "execution_count": 166,
   "id": "982f3f1f",
   "metadata": {},
   "outputs": [
    {
     "data": {
      "text/plain": [
       "array([1, 2, 4, 0, 3])"
      ]
     },
     "execution_count": 166,
     "metadata": {},
     "output_type": "execute_result"
    }
   ],
   "source": [
    "np.random.choice(5,5,replace = False) #shuffle과 같다."
   ]
  },
  {
   "cell_type": "code",
   "execution_count": 170,
   "id": "1b1587b4-195d-4ef0-8aee-36b2632fa4d3",
   "metadata": {},
   "outputs": [
    {
     "data": {
      "text/plain": [
       "array([4, 3, 2])"
      ]
     },
     "execution_count": 170,
     "metadata": {},
     "output_type": "execute_result"
    }
   ],
   "source": [
    "np.random.choice(5,3,replace = False) #3개만 선택 반복x"
   ]
  },
  {
   "cell_type": "code",
   "execution_count": 168,
   "id": "34ed0ba9-ec00-4627-8819-6a5dadfd980d",
   "metadata": {},
   "outputs": [
    {
     "data": {
      "text/plain": [
       "array([4, 0, 2, 3, 3, 1, 3, 4, 3, 3])"
      ]
     },
     "execution_count": 168,
     "metadata": {},
     "output_type": "execute_result"
    }
   ],
   "source": [
    "np.random.choice(5,10) #반복해서 10개 선택"
   ]
  },
  {
   "cell_type": "code",
   "execution_count": 169,
   "id": "e0aa76c3-cba1-4071-9167-dbf3a085e129",
   "metadata": {},
   "outputs": [
    {
     "data": {
      "text/plain": [
       "array([0, 3, 2, 3, 0, 2, 0, 2, 3, 3])"
      ]
     },
     "execution_count": 169,
     "metadata": {},
     "output_type": "execute_result"
    }
   ],
   "source": [
    "np.random.choice(5,10,p=[0.1,0,0.3,0.6,0]) #선택 확률 다르게 해서 10개 선택"
   ]
  },
  {
   "cell_type": "markdown",
   "id": "69dd4a2b-1988-44ca-8e4c-b55aa7e1ff7f",
   "metadata": {},
   "source": [
    "### random 난수 생성 rand / randn / randint"
   ]
  },
  {
   "cell_type": "code",
   "execution_count": 141,
   "id": "58ff4320",
   "metadata": {},
   "outputs": [
    {
     "data": {
      "text/plain": [
       "array([0.28280696, 0.12019656, 0.2961402 , 0.11872772, 0.31798318,\n",
       "       0.41426299, 0.0641475 , 0.69247212, 0.56660145, 0.26538949])"
      ]
     },
     "execution_count": 141,
     "metadata": {},
     "output_type": "execute_result"
    }
   ],
   "source": [
    "np.random.rand(10) #1차원"
   ]
  },
  {
   "cell_type": "code",
   "execution_count": 142,
   "id": "fe5ebdd3",
   "metadata": {},
   "outputs": [
    {
     "data": {
      "text/plain": [
       "array([0.52324805, 0.09394051, 0.5759465 , 0.9292962 , 0.31856895,\n",
       "       0.66741038, 0.13179786, 0.7163272 , 0.28940609, 0.18319136])"
      ]
     },
     "execution_count": 142,
     "metadata": {},
     "output_type": "execute_result"
    }
   ],
   "source": [
    "np.random.rand(10) #1차원"
   ]
  },
  {
   "cell_type": "code",
   "execution_count": 143,
   "id": "d54a568c-a357-4e4b-9ea2-37032dc394a9",
   "metadata": {
    "scrolled": true,
    "tags": []
   },
   "outputs": [
    {
     "data": {
      "text/plain": [
       "array([0, 1, 0, 0, 0, 1, 0, 0, 1, 0, 1, 0, 0, 1, 1, 0, 0, 0, 1, 1, 0, 0,\n",
       "       0, 0, 0, 1, 0, 1, 0, 0, 0, 1, 1, 1, 0, 0, 1, 1, 1, 1, 0, 0, 0, 1,\n",
       "       1, 0, 1, 0, 0, 1, 0, 1, 1, 1, 1, 0, 0, 0, 1, 1, 1, 0, 1, 1, 1, 1,\n",
       "       0, 0, 1, 1, 0, 0, 0, 1, 1, 0, 1, 1, 1, 1, 1, 0, 0, 0, 1, 0, 1, 0,\n",
       "       1, 1, 0, 0, 0, 1, 0, 0, 1, 1, 1, 1])"
      ]
     },
     "execution_count": 143,
     "metadata": {},
     "output_type": "execute_result"
    }
   ],
   "source": [
    "res = np.random.randint(2, size = 100)\n",
    "res"
   ]
  },
  {
   "cell_type": "code",
   "execution_count": 144,
   "id": "9efaaa3e-b52f-4ae3-98c5-38e890ea66c1",
   "metadata": {},
   "outputs": [
    {
     "data": {
      "text/plain": [
       "0.5"
      ]
     },
     "execution_count": 144,
     "metadata": {},
     "output_type": "execute_result"
    }
   ],
   "source": [
    "result = res.mean()\n",
    "result"
   ]
  },
  {
   "cell_type": "code",
   "execution_count": 145,
   "id": "61a657d4-53f1-45e8-9af3-2124e5586d38",
   "metadata": {},
   "outputs": [
    {
     "data": {
      "text/plain": [
       "array([0, 1, 1, 0, 1, 1, 1, 1, 1, 1, 1, 0, 0, 1, 0, 0, 0, 0, 0, 1, 0, 1,\n",
       "       1, 0, 0, 1, 1, 1, 1, 0, 1, 0, 1, 0, 1, 1, 0, 1, 1, 0, 0, 1, 0, 1,\n",
       "       1, 1, 1, 1, 0, 1, 0, 1, 1, 1, 1, 0, 1, 0, 0, 1, 1, 0, 1, 0, 1, 0,\n",
       "       0, 0, 0, 0, 1, 1, 0, 0, 0, 1, 1, 0, 1, 0, 0, 1, 0, 1, 1, 1, 1, 1,\n",
       "       1, 0, 1, 1, 0, 0, 1, 0, 0, 1, 1, 0])"
      ]
     },
     "execution_count": 145,
     "metadata": {},
     "output_type": "execute_result"
    }
   ],
   "source": [
    "np.random.seed(0)\n",
    "coin_result = np.random.randint(0,2,100)\n",
    "coin_result"
   ]
  },
  {
   "cell_type": "code",
   "execution_count": 146,
   "id": "ba4afb61-8fe2-4d69-ac30-2bf1da870819",
   "metadata": {},
   "outputs": [
    {
     "data": {
      "text/plain": [
       "0.56"
      ]
     },
     "execution_count": 146,
     "metadata": {},
     "output_type": "execute_result"
    }
   ],
   "source": [
    "coin_result.mean()"
   ]
  },
  {
   "cell_type": "markdown",
   "id": "0240e0e3-781d-4aa6-8d62-3bdb6000cb1c",
   "metadata": {},
   "source": [
    "#### rand 확률 분포 실수 난수 생성 0~1사이"
   ]
  },
  {
   "cell_type": "code",
   "execution_count": 147,
   "id": "9812bdfe-2a77-4ef1-a961-feaf424f929a",
   "metadata": {},
   "outputs": [
    {
     "data": {
      "text/plain": [
       "array([0.57019677, 0.43860151, 0.98837384, 0.10204481, 0.20887676,\n",
       "       0.16130952, 0.65310833, 0.2532916 , 0.46631077, 0.24442559])"
      ]
     },
     "execution_count": 147,
     "metadata": {},
     "output_type": "execute_result"
    }
   ],
   "source": [
    "import numpy as np\n",
    "np.random.rand(10)"
   ]
  },
  {
   "cell_type": "code",
   "execution_count": 148,
   "id": "2b630b65-7227-4517-9f6e-3a7bd1e8f833",
   "metadata": {},
   "outputs": [
    {
     "data": {
      "text/plain": [
       "array([[0.15896958, 0.11037514, 0.65632959, 0.13818295, 0.19658236],\n",
       "       [0.36872517, 0.82099323, 0.09710128, 0.83794491, 0.09609841],\n",
       "       [0.97645947, 0.4686512 , 0.97676109, 0.60484552, 0.73926358]])"
      ]
     },
     "execution_count": 148,
     "metadata": {},
     "output_type": "execute_result"
    }
   ],
   "source": [
    "np.random.rand(3,5)"
   ]
  },
  {
   "cell_type": "markdown",
   "id": "67aa83e9-8bbf-4531-b28c-00084e53034a",
   "metadata": {},
   "source": [
    "#### randn 기댓값 0 이고 표준편차가 1인 표준 정규 분포를 따르는 난수 생성 "
   ]
  },
  {
   "cell_type": "code",
   "execution_count": 149,
   "id": "e407107f-2578-4b64-a03b-576d9f3b94cc",
   "metadata": {},
   "outputs": [
    {
     "data": {
      "text/plain": [
       "array([-0.36433431, -0.67877739, -0.35362786, -0.74074747, -0.67502183,\n",
       "       -0.13278426,  0.61980106,  1.79116846,  0.17100044, -1.72567135])"
      ]
     },
     "execution_count": 149,
     "metadata": {},
     "output_type": "execute_result"
    }
   ],
   "source": [
    "np.random.randn(10)"
   ]
  },
  {
   "cell_type": "code",
   "execution_count": 150,
   "id": "3d758e2c-0d5f-4bb7-bd3b-290c72bba42f",
   "metadata": {},
   "outputs": [
    {
     "data": {
      "text/plain": [
       "array([[ 0.16065854, -0.85898532, -0.20642094,  0.48842647, -0.83833097],\n",
       "       [ 0.38116374, -0.99090328,  1.01788005,  0.3415874 , -1.25088622],\n",
       "       [ 0.92525075, -0.90478616,  1.84369153,  1.52550724, -1.44553558]])"
      ]
     },
     "execution_count": 150,
     "metadata": {},
     "output_type": "execute_result"
    }
   ],
   "source": [
    "np.random.randn(3,5)"
   ]
  },
  {
   "cell_type": "markdown",
   "id": "545046db-85c1-446f-b3fc-211618d1cf64",
   "metadata": {},
   "source": [
    "#### randint 함수는 np.random.randint(low, high=None, size=None)"
   ]
  },
  {
   "cell_type": "code",
   "execution_count": 151,
   "id": "ea3274bd-0ca9-4714-8b24-38d2340e9a8a",
   "metadata": {},
   "outputs": [
    {
     "data": {
      "text/plain": [
       "array([0, 4, 3, 6, 9, 8, 0, 8, 5, 9])"
      ]
     },
     "execution_count": 151,
     "metadata": {},
     "output_type": "execute_result"
    }
   ],
   "source": [
    "np.random.randint(10, size=10)"
   ]
  },
  {
   "cell_type": "code",
   "execution_count": 152,
   "id": "98a486b1-08be-454f-a6f4-48fe6361ae77",
   "metadata": {},
   "outputs": [
    {
     "data": {
      "text/plain": [
       "array([10, 19, 16, 15, 13, 11, 18, 10, 14, 19])"
      ]
     },
     "execution_count": 152,
     "metadata": {},
     "output_type": "execute_result"
    }
   ],
   "source": [
    "np.random.randint(10,20,size=10)"
   ]
  },
  {
   "cell_type": "code",
   "execution_count": 153,
   "id": "ccbd3746-3753-4dd7-b296-ecf3970e0e71",
   "metadata": {},
   "outputs": [
    {
     "data": {
      "text/plain": [
       "array([[16, 15, 17, 18, 18],\n",
       "       [19, 12, 18, 16, 16],\n",
       "       [19, 11, 16, 18, 18]])"
      ]
     },
     "execution_count": 153,
     "metadata": {},
     "output_type": "execute_result"
    }
   ],
   "source": [
    "np.random.randint(10,20,size=(3,5))"
   ]
  },
  {
   "cell_type": "markdown",
   "id": "2334d82e-253d-4b0a-b3d6-fa243537e6f8",
   "metadata": {},
   "source": [
    "#### uniqe / bincount 정수 데이터 카운팅"
   ]
  },
  {
   "cell_type": "code",
   "execution_count": 154,
   "id": "8bda420e-801a-48f1-ace8-7d241d57fb24",
   "metadata": {},
   "outputs": [
    {
     "data": {
      "text/plain": [
       "array([ 2, 11, 34])"
      ]
     },
     "execution_count": 154,
     "metadata": {},
     "output_type": "execute_result"
    }
   ],
   "source": [
    "np.unique([11,11,2,2,34,34]) #중복된 값을 제거하고 중복되지 않는 값의 리스트를 출력"
   ]
  },
  {
   "cell_type": "code",
   "execution_count": 155,
   "id": "99e72b6f-9201-45c2-93e3-13fe10d761fe",
   "metadata": {},
   "outputs": [],
   "source": [
    "a = np.array(['a','b','b','c','a'])\n",
    "index, count = np.unique(a, return_counts = True) # return_counts = True 각 값의 데이터 갯수"
   ]
  },
  {
   "cell_type": "code",
   "execution_count": 156,
   "id": "6a546d05-f3f7-4ace-bae9-76368f12e5fc",
   "metadata": {},
   "outputs": [
    {
     "data": {
      "text/plain": [
       "array(['a', 'b', 'c'], dtype='<U1')"
      ]
     },
     "execution_count": 156,
     "metadata": {},
     "output_type": "execute_result"
    }
   ],
   "source": [
    "index"
   ]
  },
  {
   "cell_type": "code",
   "execution_count": 157,
   "id": "c2166b91-095c-430f-822a-f48cce885b54",
   "metadata": {},
   "outputs": [
    {
     "data": {
      "text/plain": [
       "array([2, 2, 1], dtype=int64)"
      ]
     },
     "execution_count": 157,
     "metadata": {},
     "output_type": "execute_result"
    }
   ],
   "source": [
    "count"
   ]
  },
  {
   "cell_type": "code",
   "execution_count": 158,
   "id": "dedf367e-7768-4316-a282-b2dc4e0ec79c",
   "metadata": {},
   "outputs": [
    {
     "data": {
      "text/plain": [
       "array([0, 2, 3, 1, 0, 0], dtype=int64)"
      ]
     },
     "execution_count": 158,
     "metadata": {},
     "output_type": "execute_result"
    }
   ],
   "source": [
    "np.bincount([1,1,2,2,2,3], minlength = 6)  #특정 범위 안의 수는 minlength 인수를 설정"
   ]
  },
  {
   "cell_type": "markdown",
   "id": "bda3e8bd-3d16-47e1-9cd9-fb1f8e0c22dc",
   "metadata": {},
   "source": [
    "### np.eye(n) 정사각형으로 행렬"
   ]
  },
  {
   "cell_type": "code",
   "execution_count": 159,
   "id": "b799d005-de6b-4770-8dda-573b66d1c7b3",
   "metadata": {},
   "outputs": [],
   "source": [
    "import numpy as np"
   ]
  },
  {
   "cell_type": "code",
   "execution_count": 160,
   "id": "f8454a4f-ad86-4404-be42-a48ed8389d79",
   "metadata": {},
   "outputs": [
    {
     "data": {
      "text/plain": [
       "array([[1, 0, 0, 0],\n",
       "       [0, 1, 0, 0],\n",
       "       [0, 0, 1, 0],\n",
       "       [0, 0, 0, 1]], dtype=int32)"
      ]
     },
     "execution_count": 160,
     "metadata": {},
     "output_type": "execute_result"
    }
   ],
   "source": [
    "np.eye(4,dtype = 'i')"
   ]
  },
  {
   "cell_type": "code",
   "execution_count": 161,
   "id": "ec07ccc0-e8bf-4376-a6bc-bb081c9de815",
   "metadata": {},
   "outputs": [],
   "source": [
    "a = np.ones((2,3,2))"
   ]
  },
  {
   "cell_type": "code",
   "execution_count": 162,
   "id": "373e19f2-5b59-4fa6-9ed7-83dba1600404",
   "metadata": {},
   "outputs": [
    {
     "data": {
      "text/plain": [
       "array([[[1, 1],\n",
       "        [1, 1],\n",
       "        [1, 1]],\n",
       "\n",
       "       [[1, 1],\n",
       "        [1, 1],\n",
       "        [1, 1]]])"
      ]
     },
     "execution_count": 162,
     "metadata": {},
     "output_type": "execute_result"
    }
   ],
   "source": [
    "a.astype(\"int\")"
   ]
  },
  {
   "cell_type": "code",
   "execution_count": null,
   "id": "ac2a018a-8d9c-42f1-a80d-423f33eed724",
   "metadata": {},
   "outputs": [],
   "source": []
  }
 ],
 "metadata": {
  "kernelspec": {
   "display_name": "Python 3 (ipykernel)",
   "language": "python",
   "name": "python3"
  },
  "language_info": {
   "codemirror_mode": {
    "name": "ipython",
    "version": 3
   },
   "file_extension": ".py",
   "mimetype": "text/x-python",
   "name": "python",
   "nbconvert_exporter": "python",
   "pygments_lexer": "ipython3",
   "version": "3.9.13"
  },
  "toc-autonumbering": true,
  "toc-showmarkdowntxt": true,
  "toc-showtags": false
 },
 "nbformat": 4,
 "nbformat_minor": 5
}
