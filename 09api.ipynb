{
 "cells": [
  {
   "cell_type": "code",
   "execution_count": 29,
   "id": "be7d6cf1-be65-4005-ac7a-8a5133732cc3",
   "metadata": {},
   "outputs": [],
   "source": [
    "import urllib.robotparser\n",
    "rp = urllib.robotparser.RobotFileParser()\n",
    "rp.set_url(\"https://www.reuters.com/robots.txt\")\n",
    "rp.read()\n",
    "\n",
    "rp.can_fetch(useragent=\"*\",url=\"https://reuters.com/sitemap.xml\")\n",
    "\n",
    "sitemaps = rp.site_maps()\n",
    "sitemaps\n",
    "\n",
    "import xmltodict\n",
    "import requests\n",
    "\n",
    "url = sitemaps[0]\n",
    "sitemaps = xmltodict.parse(requests.get(url).text)\n",
    "\n",
    "sitemap_urls = [url_list['loc'] for url_list in sitemaps['sitemapindex']['sitemap']]\n",
    "\n",
    "url = sitemap_urls[0]\n",
    "news_dict = xmltodict.parse(requests.get(url).text)\n",
    "news_dict\n",
    "\n",
    "#sitemap_urls = [url_list['loc'] for url_list in sitemaps['sitemapindex']['sitemap']]\n",
    "news_urls = [news_urls['loc'] for news_urls in news_dict['urlset']['url']]"
   ]
  },
  {
   "cell_type": "code",
   "execution_count": 30,
   "id": "09463e93-3bef-4860-bd06-e39ff8f44215",
   "metadata": {},
   "outputs": [],
   "source": [
    "#url을 활용하여 데이터 다운로드하기\n",
    "#%%time\n",
    "\n",
    "session = requests.Session()\n",
    "\n",
    "for url in news_urls[5:8]:\n",
    "    file = url.split(\"/\")[-2] + '.html'\n",
    "    \n",
    "    response = session.get(url)\n",
    "    if response.ok:\n",
    "        with open(\"datas/\" +file, \"w+b\") as f:\n",
    "            f.write(response.text.encode('utf-8'))\n",
    "    else:\n",
    "        print(f\"error widh URL : {url}\")"
   ]
  },
  {
   "cell_type": "code",
   "execution_count": 8,
   "id": "4684e99d-c9d7-415c-ae5b-66f2d73285ce",
   "metadata": {},
   "outputs": [],
   "source": [
    "#파일 객체를 준다  / 쓰기모드 w로 열기\n",
    "file = open('filename.txt','w')\n",
    "\n",
    "#파일 객체의 write메서드를 통해 문자열을 파일에 쓰기 가능\n",
    "file.write('파일에 작성할 문자열')\n",
    "\n",
    "#파일에 대한 처리가 끝나면 반드시 닫기\n",
    "file.close()"
   ]
  },
  {
   "cell_type": "code",
   "execution_count": 9,
   "id": "6dfc697e-6d6d-45bb-a990-2ddfce7dc3aa",
   "metadata": {},
   "outputs": [],
   "source": [
    "#close에 대한 처리 없이 간편히 쓰려면 with활용\n",
    "#아래 코드는 이전에 작성했던 것과 동일\n",
    "with open('filename.txt','w') as file :\n",
    "    file.write('파일에 작성할 문자열')"
   ]
  },
  {
   "cell_type": "code",
   "execution_count": 11,
   "id": "882a2820-e230-4319-818e-538dbd6770f8",
   "metadata": {},
   "outputs": [
    {
     "name": "stdout",
     "output_type": "stream",
     "text": [
      "파일에 작성할 문자열\n"
     ]
    }
   ],
   "source": [
    "# w는 write (wt) / r은 read (rt) / t는 default \n",
    "with open('filename.txt','r') as file :\n",
    "    print(file.read())"
   ]
  },
  {
   "cell_type": "code",
   "execution_count": 13,
   "id": "28991aeb-0967-42b1-9c1d-971520210f1b",
   "metadata": {},
   "outputs": [
    {
     "data": {
      "text/plain": [
       "['./datas/.ipynb_checkpoints',\n",
       " './datas/atp-roundup-andrey-rublev-avoids-early-upset-dubai-2023-02-28.html',\n",
       " './datas/audi-will-not-cut-ev-prices-follow-teslas-lead-audi-europe-chief-2023-02-28.html',\n",
       " './datas/payments-firm-klarnas-operating-loss-shrinks-q4-2023-02-28.html',\n",
       " './datas/russias-magnit-opens-first-hard-discount-stores-2023-02-28.html',\n",
       " './datas/uks-workspace-names-industry-veteran-duncan-owen-next-chair-2023-02-28.html']"
      ]
     },
     "execution_count": 13,
     "metadata": {},
     "output_type": "execute_result"
    }
   ],
   "source": [
    "#os패키지의 listdir()메서드를 활용하면 arguments로 전달된 path안의 파일 목록을 가져온다.\n",
    "import os\n",
    "path = \"./datas/\"\n",
    "files = [path + file for file in os.listdir(path)]\n",
    "files"
   ]
  },
  {
   "cell_type": "code",
   "execution_count": 15,
   "id": "12352b09-a0ce-49cd-a386-f042610a73ab",
   "metadata": {},
   "outputs": [],
   "source": [
    "#HTML 파서를 사용한 데이터 추출\n",
    "with open(files[2],\"r\",encoding = 'utf-8') as f:   # 3번째 있는 HTML파일을 가져와\n",
    "    html = f.read()                                # r모드 (read)모드로 파일을 읽어와 내용을 html변수에 담음"
   ]
  },
  {
   "cell_type": "code",
   "execution_count": 20,
   "id": "c3b34f47-1d43-4d5c-837d-d69773ae6971",
   "metadata": {},
   "outputs": [
    {
     "name": "stdout",
     "output_type": "stream",
     "text": [
      "Audi will not cut EV prices to follow Tesla's lead - Audi Europe chief\n"
     ]
    }
   ],
   "source": [
    "from bs4 import BeautifulSoup\n",
    "soup = BeautifulSoup(html,'html.parser')\n",
    "title = soup.select_one(\"h1\")\n",
    "print(title.text)"
   ]
  },
  {
   "cell_type": "code",
   "execution_count": 22,
   "id": "2384879a-401e-48c5-b11b-6b9d2ea6ac16",
   "metadata": {},
   "outputs": [
    {
     "name": "stdout",
     "output_type": "stream",
     "text": [
      "Audi will not cut EV prices to follow Tesla's lead - Audi Europe chief\n"
     ]
    }
   ],
   "source": [
    "from bs4 import BeautifulSoup\n",
    "soup = BeautifulSoup(html,'html.parser')\n",
    "title = soup.select_one(\".article-header__container__25s8m .article-header__heading__15OpQ .article-header__title__3Y2hh\")\n",
    "print(title.text)"
   ]
  },
  {
   "cell_type": "code",
   "execution_count": 23,
   "id": "8a367ba4-bb32-4a78-82c1-b2bb0dd6f5b5",
   "metadata": {},
   "outputs": [
    {
     "data": {
      "text/plain": [
       "<h1 class=\"text__text__1FZLe text__dark-grey__3Ml43 text__medium__1kbOh text__heading_3__1kDhc heading__base__2T28j heading__heading_3__3aL54 article-header__title__3Y2hh\" data-testid=\"Heading\">Audi will not cut EV prices to follow Tesla's lead - Audi Europe chief</h1>"
      ]
     },
     "execution_count": 23,
     "metadata": {},
     "output_type": "execute_result"
    }
   ],
   "source": [
    "soup.h1"
   ]
  },
  {
   "cell_type": "code",
   "execution_count": 24,
   "id": "d286035e-8921-47d3-bad4-e4a4cc5f7413",
   "metadata": {},
   "outputs": [
    {
     "data": {
      "text/plain": [
       "\"Audi will not cut EV prices to follow Tesla's lead - Audi Europe chief | Reuters\""
      ]
     },
     "execution_count": 24,
     "metadata": {},
     "output_type": "execute_result"
    }
   ],
   "source": [
    "soup.title.text"
   ]
  },
  {
   "cell_type": "code",
   "execution_count": 27,
   "id": "16f8fbf7-0367-479a-947e-70299f8cbabb",
   "metadata": {},
   "outputs": [
    {
     "data": {
      "text/plain": [
       "'BERLIN, Feb 28 (Reuters) - Audi (VOWG.DE) has no plans to cut prices for its electric vehicles, German industry magazine Automobilwoche cited Audi Europe chief Jens Puttfarcken as saying, despite a similar move by market leader Tesla (TSLA.O) that has put pressure on others to follow suit.'"
      ]
     },
     "execution_count": 27,
     "metadata": {},
     "output_type": "execute_result"
    }
   ],
   "source": [
    "soup.select_one(\"#main-content > article > div.article__main__33WV2 > div.article__content__6hMn9 > div > div > div.article-body__content__17Yit.paywall-article > p:nth-child(3)\").text"
   ]
  },
  {
   "cell_type": "code",
   "execution_count": null,
   "id": "60238ed3-615d-4c12-b5f2-105f3d806b8a",
   "metadata": {},
   "outputs": [],
   "source": [
    "#HTML 파서를 사용한 데이터 추출\n",
    "with open(files[2],\"r\",encoding = 'utf-8') as f:   # 3번째 있는 HTML파일을 가져와\n",
    "    html = f.read()                                # r모드 (read)모드로 파일을 읽어와 내용을 html변수에 담음"
   ]
  },
  {
   "cell_type": "code",
   "execution_count": 32,
   "id": "d8cf27f0-07d7-4857-b2a0-ff5edbe95116",
   "metadata": {},
   "outputs": [
    {
     "data": {
      "text/plain": [
       "'https://www.reuters.com/business/autos-transportation/audi-will-not-cut-ev-prices-follow-teslas-lead-audi-europe-chief-2023-02-28/'"
      ]
     },
     "execution_count": 32,
     "metadata": {},
     "output_type": "execute_result"
    }
   ],
   "source": [
    "#표준(standard) URL(=Canonical URL)\n",
    "soup.find(\"link\", {\"rel\":\"canonical\"})[\"href\"]"
   ]
  },
  {
   "cell_type": "code",
   "execution_count": null,
   "id": "beb07511-4e4f-4fce-a489-2cd037be7cf4",
   "metadata": {},
   "outputs": [],
   "source": []
  }
 ],
 "metadata": {
  "kernelspec": {
   "display_name": "Python 3 (ipykernel)",
   "language": "python",
   "name": "python3"
  },
  "language_info": {
   "codemirror_mode": {
    "name": "ipython",
    "version": 3
   },
   "file_extension": ".py",
   "mimetype": "text/x-python",
   "name": "python",
   "nbconvert_exporter": "python",
   "pygments_lexer": "ipython3",
   "version": "3.9.13"
  }
 },
 "nbformat": 4,
 "nbformat_minor": 5
}
