{
 "cells": [
  {
   "cell_type": "code",
   "execution_count": 1,
   "id": "5538696c-5782-4052-9289-bce8a5058cde",
   "metadata": {},
   "outputs": [],
   "source": [
    "# 주석사용하기\n",
    "x=1 #여기서 =(등호) 기호는 수학의 같다는 의미와는 다르다.\n",
    "    #... 우측 변의 리터럴을 좌측 변의 변수에 대입한다는 의미이다,\n",
    "\n",
    "text = \"#이것은 주석이 아닙니다. 따옴표 안은 문자열 리터럴입니다.\""
   ]
  },
  {
   "cell_type": "code",
   "execution_count": 2,
   "id": "a1cc9cc7-259c-40f9-a414-b5c9403c138c",
   "metadata": {},
   "outputs": [
    {
     "data": {
      "text/plain": [
       "'#이것은 주석이 아닙니다. 따옴표 안은 문자열 리터럴입니다.'"
      ]
     },
     "execution_count": 2,
     "metadata": {},
     "output_type": "execute_result"
    }
   ],
   "source": [
    "text"
   ]
  },
  {
   "cell_type": "code",
   "execution_count": 3,
   "id": "8d56955d-094d-4cac-a37a-715124228b19",
   "metadata": {},
   "outputs": [
    {
     "name": "stdout",
     "output_type": "stream",
     "text": [
      "1\n"
     ]
    }
   ],
   "source": [
    "print(x)"
   ]
  },
  {
   "cell_type": "code",
   "execution_count": 4,
   "id": "342729c9-9808-4152-921f-605d5a541a64",
   "metadata": {},
   "outputs": [
    {
     "name": "stdout",
     "output_type": "stream",
     "text": [
      "#이것은 주석이 아닙니다. 따옴표 안은 문자열 리터럴입니다.\n"
     ]
    }
   ],
   "source": [
    "print(text)"
   ]
  },
  {
   "cell_type": "code",
   "execution_count": 5,
   "id": "c14039af-62e2-4dd5-ac1c-d1e6887079a9",
   "metadata": {},
   "outputs": [
    {
     "name": "stdout",
     "output_type": "stream",
     "text": [
      "Hello, word!\n",
      "Hello, word!\n",
      "Python Programming\n"
     ]
    }
   ],
   "source": [
    "print(\"Hello, word!\")\n",
    "print(\"Hello, word!\")\n",
    "print(\"Python Programming\")"
   ]
  },
  {
   "cell_type": "code",
   "execution_count": 6,
   "id": "366e43b7-674e-4d4e-99be-0a9fca36af41",
   "metadata": {},
   "outputs": [
    {
     "name": "stdout",
     "output_type": "stream",
     "text": [
      "Hello, word!\n",
      "Hello, word!\n",
      "Python Programming\n"
     ]
    }
   ],
   "source": [
    "print(\"Hello, word!\\nHello, word!\\nPython Programming\")"
   ]
  },
  {
   "cell_type": "code",
   "execution_count": 7,
   "id": "154b3690-68ed-4baa-81fa-0a306636c9ad",
   "metadata": {},
   "outputs": [
    {
     "data": {
      "text/plain": [
       "89"
      ]
     },
     "execution_count": 7,
     "metadata": {},
     "output_type": "execute_result"
    }
   ],
   "source": [
    "13+(22-3)*4"
   ]
  },
  {
   "cell_type": "code",
   "execution_count": 8,
   "id": "7358de9d-6da8-4b39-b775-a7707a843553",
   "metadata": {},
   "outputs": [
    {
     "data": {
      "text/plain": [
       "28.2"
      ]
     },
     "execution_count": 8,
     "metadata": {},
     "output_type": "execute_result"
    }
   ],
   "source": [
    "13+((22-3)*4)/5"
   ]
  },
  {
   "cell_type": "code",
   "execution_count": 9,
   "id": "677fd87a-8ec6-4a75-a8e1-f9ed66f2a5a1",
   "metadata": {},
   "outputs": [
    {
     "data": {
      "text/plain": [
       "7"
      ]
     },
     "execution_count": 9,
     "metadata": {},
     "output_type": "execute_result"
    }
   ],
   "source": [
    "int(0.2467*12+4.159)"
   ]
  },
  {
   "cell_type": "code",
   "execution_count": 14,
   "id": "40ebefcf-f0e6-4041-87dd-e311499fc22f",
   "metadata": {},
   "outputs": [
    {
     "name": "stdout",
     "output_type": "stream",
     "text": [
      "가장 시끄러운 층은 = 7 층\n"
     ]
    }
   ],
   "source": [
    "x=int(0.2467*12+4.159)\n",
    "print(\"가장 시끄러운 층은 = \" + str(x) + \" 층\")"
   ]
  },
  {
   "cell_type": "code",
   "execution_count": 21,
   "id": "6fa58315-0cd8-4adb-9db3-345f2278d35f",
   "metadata": {},
   "outputs": [
    {
     "name": "stdout",
     "output_type": "stream",
     "text": [
      "가장 시끄러운 층은 = 7 층\n"
     ]
    }
   ],
   "source": [
    "print('가장 시끄러운 층은 =' , int(0.2467*12+4.159) , '층')"
   ]
  },
  {
   "cell_type": "code",
   "execution_count": 23,
   "id": "95794dc0-3b19-4374-bc39-deed66d0b94c",
   "metadata": {},
   "outputs": [
    {
     "name": "stdout",
     "output_type": "stream",
     "text": [
      "실행 결과:\n",
      "냉장고 가격은 1272000 원 입니다.\n"
     ]
    }
   ],
   "source": [
    "x=53000*24\n",
    "print(\"실행 결과:\")\n",
    "print(\"냉장고 가격은\",x,\"원 입니다.\")"
   ]
  },
  {
   "cell_type": "code",
   "execution_count": 29,
   "id": "f35a6b24-6398-4b2a-8440-47810cc7865d",
   "metadata": {},
   "outputs": [
    {
     "name": "stdout",
     "output_type": "stream",
     "text": [
      "실행 결과:\n",
      "총 지불 해야 할 금액은 16500000 원 입니다.\n"
     ]
    }
   ],
   "source": [
    "people=250\n",
    "tex=10\n",
    "print(\"실행 결과:\")\n",
    "print(\"총 지불 해야 할 금액은\", int(20000*3*people*(110/100)),\"원 입니다.\")"
   ]
  },
  {
   "cell_type": "code",
   "execution_count": 34,
   "id": "35e8e7e3-141e-40c4-be1b-c5a6c4e154cb",
   "metadata": {
    "tags": []
   },
   "outputs": [
    {
     "data": {
      "text/plain": [
       "1406295"
      ]
     },
     "execution_count": 34,
     "metadata": {},
     "output_type": "execute_result"
    }
   ],
   "source": [
    "0b101010111010101010111"
   ]
  },
  {
   "cell_type": "code",
   "execution_count": 35,
   "id": "f5632844-7a09-4acd-a85e-5b0e0f89bcee",
   "metadata": {},
   "outputs": [
    {
     "data": {
      "text/plain": [
       "'0b11000'"
      ]
     },
     "execution_count": 35,
     "metadata": {},
     "output_type": "execute_result"
    }
   ],
   "source": [
    "bin(24)"
   ]
  },
  {
   "cell_type": "code",
   "execution_count": 36,
   "id": "36005549-e055-4705-a32b-93b6d2a098ea",
   "metadata": {},
   "outputs": [
    {
     "data": {
      "text/plain": [
       "'0o42'"
      ]
     },
     "execution_count": 36,
     "metadata": {},
     "output_type": "execute_result"
    }
   ],
   "source": [
    "oct(34)"
   ]
  },
  {
   "cell_type": "code",
   "execution_count": 37,
   "id": "20f35579-7ca0-4625-9d1d-5a27922ee089",
   "metadata": {},
   "outputs": [
    {
     "data": {
      "text/plain": [
       "453.0"
      ]
     },
     "execution_count": 37,
     "metadata": {},
     "output_type": "execute_result"
    }
   ],
   "source": [
    "380*0.6+225"
   ]
  },
  {
   "cell_type": "code",
   "execution_count": 38,
   "id": "e701eaeb-73d3-43c9-9d3c-c544e6ca477e",
   "metadata": {},
   "outputs": [],
   "source": [
    "a=10"
   ]
  },
  {
   "cell_type": "code",
   "execution_count": 39,
   "id": "2e72de8f-d766-42ae-a16b-f4d84fbab6b0",
   "metadata": {},
   "outputs": [],
   "source": [
    "a=a+20"
   ]
  },
  {
   "cell_type": "code",
   "execution_count": 40,
   "id": "c26fd21e-748d-4802-b044-bf9b7f49cdbb",
   "metadata": {},
   "outputs": [
    {
     "name": "stdout",
     "output_type": "stream",
     "text": [
      "30\n"
     ]
    }
   ],
   "source": [
    "print(a)"
   ]
  },
  {
   "cell_type": "code",
   "execution_count": 41,
   "id": "84770421-64f7-44a2-8b7e-1b2953e7e114",
   "metadata": {},
   "outputs": [
    {
     "ename": "NameError",
     "evalue": "name 'a' is not defined",
     "output_type": "error",
     "traceback": [
      "\u001b[1;31m---------------------------------------------------------------------------\u001b[0m",
      "\u001b[1;31mNameError\u001b[0m                                 Traceback (most recent call last)",
      "\u001b[1;32m<ipython-input-41-c342333e421e>\u001b[0m in \u001b[0;36m<module>\u001b[1;34m\u001b[0m\n\u001b[0;32m      1\u001b[0m \u001b[1;32mdel\u001b[0m \u001b[0ma\u001b[0m\u001b[1;33m\u001b[0m\u001b[1;33m\u001b[0m\u001b[0m\n\u001b[1;32m----> 2\u001b[1;33m \u001b[0mprint\u001b[0m\u001b[1;33m(\u001b[0m\u001b[0ma\u001b[0m\u001b[1;33m)\u001b[0m\u001b[1;33m\u001b[0m\u001b[1;33m\u001b[0m\u001b[0m\n\u001b[0m",
      "\u001b[1;31mNameError\u001b[0m: name 'a' is not defined"
     ]
    }
   ],
   "source": [
    "del a\n",
    "print(a)"
   ]
  },
  {
   "cell_type": "code",
   "execution_count": 42,
   "id": "307bd02c-910d-490c-8048-cdd6c2669f2a",
   "metadata": {},
   "outputs": [
    {
     "ename": "NameError",
     "evalue": "name 'a' is not defined",
     "output_type": "error",
     "traceback": [
      "\u001b[1;31m---------------------------------------------------------------------------\u001b[0m",
      "\u001b[1;31mNameError\u001b[0m                                 Traceback (most recent call last)",
      "\u001b[1;32m<ipython-input-42-bee4e08aeb19>\u001b[0m in \u001b[0;36m<module>\u001b[1;34m\u001b[0m\n\u001b[1;32m----> 1\u001b[1;33m \u001b[0minput\u001b[0m\u001b[1;33m(\u001b[0m\u001b[0ma\u001b[0m\u001b[1;33m)\u001b[0m\u001b[1;33m\u001b[0m\u001b[1;33m\u001b[0m\u001b[0m\n\u001b[0m",
      "\u001b[1;31mNameError\u001b[0m: name 'a' is not defined"
     ]
    }
   ],
   "source": [
    "input(a)"
   ]
  },
  {
   "cell_type": "code",
   "execution_count": 43,
   "id": "0142ff87-969f-47c2-b3f0-4139e62a1257",
   "metadata": {},
   "outputs": [
    {
     "name": "stdout",
     "output_type": "stream",
     "text": [
      "10\n",
      "20\n"
     ]
    }
   ],
   "source": [
    "a=10\n",
    "a+20\n",
    "print(a)\n",
    "\n",
    "a+=10\n",
    "print(a)"
   ]
  },
  {
   "cell_type": "code",
   "execution_count": 44,
   "id": "c1b951f5-ab15-4793-b575-c0364c54d8e8",
   "metadata": {},
   "outputs": [
    {
     "name": "stdout",
     "output_type": "stream",
     "text": [
      "None\n"
     ]
    }
   ],
   "source": [
    "a=None #변수의 값을 없앨때 사용 (다른 언어에서의 null과 같다)\n",
    "print(a)"
   ]
  },
  {
   "cell_type": "code",
   "execution_count": 46,
   "id": "d47a3fc5-d09a-4c54-9c5e-3f9e668aae01",
   "metadata": {},
   "outputs": [
    {
     "name": "stdout",
     "output_type": "stream",
     "text": [
      "\"안녕?\"이라는 그 인사를 듣고 나는 '누구지?'라고 생각했다.\n"
     ]
    }
   ],
   "source": [
    "print(\"\\\"안녕?\\\"이라는 그 인사를 듣고 나는 \\'누구지?\\'라고 생각했다.\")"
   ]
  },
  {
   "cell_type": "code",
   "execution_count": null,
   "id": "49535fb9-78d5-443b-b233-8558d8613f4a",
   "metadata": {},
   "outputs": [],
   "source": []
  }
 ],
 "metadata": {
  "kernelspec": {
   "display_name": "Python 3",
   "language": "python",
   "name": "python3"
  },
  "language_info": {
   "codemirror_mode": {
    "name": "ipython",
    "version": 3
   },
   "file_extension": ".py",
   "mimetype": "text/x-python",
   "name": "python",
   "nbconvert_exporter": "python",
   "pygments_lexer": "ipython3",
   "version": "3.8.8"
  }
 },
 "nbformat": 4,
 "nbformat_minor": 5
}
