{
 "cells": [
  {
   "cell_type": "code",
   "execution_count": 1,
   "id": "1ae25f62-1c96-49fb-868b-c2580545fcad",
   "metadata": {},
   "outputs": [
    {
     "name": "stdout",
     "output_type": "stream",
     "text": [
      "{'key': 'last value'}\n"
     ]
    }
   ],
   "source": [
    "dict([(\"key\",\"value\"),(\"key2\",\"value2\")])"
   ]
  },
  {
   "cell_type": "code",
   "execution_count": 2,
   "id": "a502d93f-996c-47d2-b2de-6466c9cade8e",
   "metadata": {},
   "outputs": [
    {
     "data": {
      "text/plain": [
       "{'key': 'value', 'key2': 'value2'}"
      ]
     },
     "execution_count": 2,
     "metadata": {},
     "output_type": "execute_result"
    }
   ],
   "source": [
    "dict([(\"key\",\"value\"),(\"key2\",\"value2\")])"
   ]
  },
  {
   "cell_type": "code",
   "execution_count": 4,
   "id": "658a713d-5316-4715-87c0-2cf680ab12b1",
   "metadata": {},
   "outputs": [
    {
     "name": "stdout",
     "output_type": "stream",
     "text": [
      "{'key': 'val', 'key2': 'val2', 'key3': 'val3'}\n"
     ]
    }
   ],
   "source": [
    "dict_b = dict(zip([\"key\",\"key2\",\"key3\"],[\"val\",\"val2\",\"val3\"]))\n",
    "print(dict_b)"
   ]
  },
  {
   "cell_type": "code",
   "execution_count": 6,
   "id": "ced5cd74-7995-423b-96c4-d8bbbc6cfef9",
   "metadata": {},
   "outputs": [
    {
     "data": {
      "text/plain": [
       "[('key', 'val'), ('key2', 'val2'), ('key3', 'val3')]"
      ]
     },
     "execution_count": 6,
     "metadata": {},
     "output_type": "execute_result"
    }
   ],
   "source": [
    "[_ for _ in zip([\"key\",\"key2\",\"key3\"],[\"val\",\"val2\",\"val3\"])]"
   ]
  },
  {
   "cell_type": "code",
   "execution_count": 8,
   "id": "db2b7960-ccc6-44d2-87a1-2b6518e0bfc4",
   "metadata": {},
   "outputs": [
    {
     "name": "stdout",
     "output_type": "stream",
     "text": [
      "('key1', 'val1')\n",
      "('key2', 'val2')\n",
      "('key3', 'val3')\n"
     ]
    }
   ],
   "source": [
    "keys = (\"key1\",\"key2\",\"key3\")\n",
    "val = (\"val1\",\"val2\",\"val3\")\n",
    "\n",
    "for index in range(len(keys)) :\n",
    "    print((keys[index],val[index]))"
   ]
  },
  {
   "cell_type": "code",
   "execution_count": 9,
   "id": "a760d487-a3c8-4a24-bde1-9e0976b294b8",
   "metadata": {},
   "outputs": [
    {
     "name": "stdout",
     "output_type": "stream",
     "text": [
      "[('key1', 'val1'), ('key2', 'val2'), ('key3', 'val3')]\n"
     ]
    }
   ],
   "source": [
    "keys = (\"key1\",\"key2\",\"key3\")\n",
    "val = (\"val1\",\"val2\",\"val3\")\n",
    "\n",
    "sum = []\n",
    "for index in range(len(keys)) :\n",
    "    sum.append((keys[index],val[index]))\n",
    "print(sum)"
   ]
  },
  {
   "cell_type": "code",
   "execution_count": 16,
   "id": "baffde76-35bb-45d5-880f-b2ba6b628e5b",
   "metadata": {},
   "outputs": [
    {
     "name": "stdout",
     "output_type": "stream",
     "text": [
      "{'key': 'val', 'key2': 'val2', 'key3': 'val3'}\n",
      "\n",
      "{'key': 'super value', 'key2': 'val2', 'key3': 'val3'}\n"
     ]
    }
   ],
   "source": [
    "dict_b = dict(zip([\"key\",\"key2\",\"key3\"],[\"val\",\"val2\",\"val3\"]))\n",
    "print(dict_b,end=\"\\n\\n\")\n",
    "dict_b['key'] = \"super value\"\n",
    "print(dict_b)"
   ]
  },
  {
   "cell_type": "code",
   "execution_count": 18,
   "id": "17958b43-07ef-4ea3-a657-4957c7bdc249",
   "metadata": {},
   "outputs": [
    {
     "name": "stdout",
     "output_type": "stream",
     "text": [
      "True\n"
     ]
    }
   ],
   "source": [
    "print('key' in dict_b)"
   ]
  },
  {
   "cell_type": "code",
   "execution_count": 20,
   "id": "f9bc8ef8-27ea-437b-9a8b-80cc733b693b",
   "metadata": {},
   "outputs": [
    {
     "name": "stdout",
     "output_type": "stream",
     "text": [
      "True\n"
     ]
    }
   ],
   "source": [
    "print('val2' in dict_b.values())"
   ]
  },
  {
   "cell_type": "code",
   "execution_count": 21,
   "id": "fe83d339-1512-4914-a783-f2ffb6708be7",
   "metadata": {},
   "outputs": [
    {
     "data": {
      "text/plain": [
       "3"
      ]
     },
     "execution_count": 21,
     "metadata": {},
     "output_type": "execute_result"
    }
   ],
   "source": [
    "len(dict_b)"
   ]
  },
  {
   "cell_type": "code",
   "execution_count": 26,
   "id": "3bb80ef7-2997-498f-bedf-a4d64d50e959",
   "metadata": {},
   "outputs": [
    {
     "name": "stdin",
     "output_type": "stream",
     "text": [
      "과일 이름을 입력하세요 파인애플\n"
     ]
    },
    {
     "name": "stdout",
     "output_type": "stream",
     "text": [
      "파인애플의 가격은2000원입니다.\n"
     ]
    }
   ],
   "source": [
    "fruit = input(\"과일 이름을 입력하세요\")\n",
    "dict_fruit = dict(zip([\"사과\",\"바나나\",\"오렌지\",\"파인애플\"],[\"1000\",\"700\",\"1500\",\"2000\"]))\n",
    "print(fruit,\"의 가격은\",dict_fruit[fruit],\"원입니다.\",sep = \"\")"
   ]
  },
  {
   "cell_type": "code",
   "execution_count": 26,
   "id": "1c3bbec3-8404-4a8e-b011-5c12c858ef35",
   "metadata": {},
   "outputs": [
    {
     "name": "stdin",
     "output_type": "stream",
     "text": [
      "과일 이름을 입력하세요 파인애플\n"
     ]
    },
    {
     "name": "stdout",
     "output_type": "stream",
     "text": [
      "파인애플의 가격은2000원입니다.\n"
     ]
    }
   ],
   "source": [
    "fruit = input(\"과일 이름을 입력하세요\")\n",
    "dict_fruit = dict(zip([\"사과\",\"바나나\",\"오렌지\",\"파인애플\"],[\"1000\",\"700\",\"1500\",\"2000\"]))\n",
    "print(fruit,\"의 가격은\",dict_fruit[fruit],\"원입니다.\",sep = \"\")"
   ]
  },
  {
   "cell_type": "code",
   "execution_count": 28,
   "id": "152c90e4-7192-48b2-9f52-201196fc8756",
   "metadata": {},
   "outputs": [
    {
     "name": "stdin",
     "output_type": "stream",
     "text": [
      "이름을 기입해주세요, 뽀로로 루피 크롱 스누피\n",
      "몸무게를 입력해주세요. 20.4 16.2 22.3 5.2\n"
     ]
    },
    {
     "name": "stdout",
     "output_type": "stream",
     "text": [
      "[('뽀로로', '20.4'), ('루피', '16.2'), ('크롱', '22.3'), ('스누피', '5.2')]\n"
     ]
    }
   ],
   "source": [
    "keys = input(\"이름을 기입해주세요\").split(\" \")\n",
    "value = input(\"몸무게를 입력해주세요.\").split(\" \")\n",
    "people = []\n",
    "for index in range(len(keys)):\n",
    "    people.append((keys[index],value[index]))\n",
    "print(people)"
   ]
  },
  {
   "cell_type": "code",
   "execution_count": 36,
   "id": "c9f2a207-f721-45bb-be14-54833542043a",
   "metadata": {},
   "outputs": [
    {
     "name": "stdin",
     "output_type": "stream",
     "text": [
      "이름을 기입해주세요 뽀로로 루피 크롱 스누피\n",
      "몸무게를 입력해주세요. 20.4 16.2 22.3 5.2\n"
     ]
    },
    {
     "name": "stdout",
     "output_type": "stream",
     "text": [
      "{'뽀로로': 20.4, '루피': 16.2, '크롱': 22.3, '스누피': 5.2}\n"
     ]
    }
   ],
   "source": [
    "keys = input(\"이름을 기입해주세요\").split(\" \")\n",
    "value = input(\"몸무게를 입력해주세요.\").split(\" \")\n",
    "\n",
    "people = dict(zip(keys,list(map(float,value))))\n",
    "print(people)"
   ]
  },
  {
   "cell_type": "code",
   "execution_count": 37,
   "id": "5058641f-64c3-4afc-9555-6e91730e31dc",
   "metadata": {},
   "outputs": [
    {
     "name": "stdout",
     "output_type": "stream",
     "text": [
      "[1, 2, 3, 4, 5, 6, 7, 8, 9]\n"
     ]
    }
   ],
   "source": [
    "list_c = [i for i in range(1,10)]\n",
    "print(list_c)"
   ]
  },
  {
   "cell_type": "code",
   "execution_count": 40,
   "id": "4c38c746-f16d-448b-a688-5006bcbd04d7",
   "metadata": {},
   "outputs": [
    {
     "name": "stdout",
     "output_type": "stream",
     "text": [
      "<class 'list'>\n",
      "[1, 4, 9, 16, 25, 36, 49, 64, 81]\n"
     ]
    }
   ],
   "source": [
    "prac_result = [i**2 for i in range(1,10)]\n",
    "print(type(prac_result))\n",
    "print(prac_result)"
   ]
  },
  {
   "cell_type": "code",
   "execution_count": 44,
   "id": "30e7ca15-2a78-4a56-851d-ce132caf9ac5",
   "metadata": {},
   "outputs": [
    {
     "name": "stdout",
     "output_type": "stream",
     "text": [
      "[1, 3, 5, 7, 9]\n"
     ]
    }
   ],
   "source": [
    "prac_result2 = [i for i in range(1,10,2)]\n",
    "print(prac_result2)"
   ]
  },
  {
   "cell_type": "code",
   "execution_count": 49,
   "id": "90071bcc-4a40-447a-afb5-0958ffbb7acb",
   "metadata": {},
   "outputs": [
    {
     "name": "stdout",
     "output_type": "stream",
     "text": [
      "['a', 'b', 'c', 'd', 'e', 'f', 'g', 'h', 'i', 'j', 'k', 'm', 'n', 'o', 'p', 'q', 'r', 's', 't', 'u', 'v', 'w', 'x', 'y', 'z']\n"
     ]
    }
   ],
   "source": [
    "prac_result2 = [i for i in 'abcdefghijkmnopqrstuvwxyz']\n",
    "print(prac_result2)"
   ]
  },
  {
   "cell_type": "code",
   "execution_count": 54,
   "id": "f696b237-df7b-4f79-8cf4-b73f6f2c8548",
   "metadata": {},
   "outputs": [
    {
     "name": "stdout",
     "output_type": "stream",
     "text": [
      "['a', 'b', 'c', 'd', 'e', 'f', 'g', 'h', 'i', 'j', 'k', 'l', 'm', 'n', 'o', 'p', 'q', 'r', 's', 't', 'u', 'v', 'w', 'x', 'y', 'z']\n"
     ]
    }
   ],
   "source": [
    "prac_result2 = [chr(i) for i in range(ord('a'),ord('z')+1)]\n",
    "print(prac_result2)"
   ]
  },
  {
   "cell_type": "code",
   "execution_count": 55,
   "id": "ef130f07-7a1f-459d-8cc9-6725f76f1f0a",
   "metadata": {},
   "outputs": [
    {
     "name": "stdout",
     "output_type": "stream",
     "text": [
      "a b c d e f g h i j k l m n o p q r s t u v w x y z "
     ]
    }
   ],
   "source": [
    "for i in range(97, 123):\n",
    "    print( chr(i), end=' ' )"
   ]
  },
  {
   "cell_type": "code",
   "execution_count": 56,
   "id": "09461bdb-584f-4d31-8938-255e4486fdbe",
   "metadata": {},
   "outputs": [
    {
     "name": "stdout",
     "output_type": "stream",
     "text": [
      "['a', 'b', 'c', 'd', 'e', 'f', 'g', 'h', 'i', 'j', 'k', 'l', 'm', 'n', 'o', 'p', 'q', 'r', 's', 't', 'u', 'v', 'w', 'x', 'y', 'z']\n"
     ]
    }
   ],
   "source": [
    "prac_result3 = [chr(i) for i in range(97,123)]\n",
    "print(prac_result3)"
   ]
  },
  {
   "cell_type": "code",
   "execution_count": 70,
   "id": "f8f3e577-618d-465d-b15f-f5d89005ca19",
   "metadata": {},
   "outputs": [
    {
     "name": "stdout",
     "output_type": "stream",
     "text": [
      "['2', '3', '4', '5', '6', '7', '8', '9', '10', 'J', 'Q', 'K', 'A']\n"
     ]
    }
   ],
   "source": [
    "prac_result4 = [str(i) for i in range(2,11)] + ['J','Q','K','A']\n",
    "print(prac_result4)"
   ]
  },
  {
   "cell_type": "code",
   "execution_count": 67,
   "id": "8a131c65-ac6e-4ad4-b1cf-a471915f259d",
   "metadata": {},
   "outputs": [
    {
     "name": "stdout",
     "output_type": "stream",
     "text": [
      "[['2', '3', '4', '5', '6', '7', '8', '9', '10', 'J', 'Q', 'K', 'A'], ['2', '3', '4', '5', '6', '7', '8', '9', '10', 'J', 'Q', 'K', 'A'], ['2', '3', '4', '5', '6', '7', '8', '9', '10', 'J', 'Q', 'K', 'A'], ['2', '3', '4', '5', '6', '7', '8', '9', '10', 'J', 'Q', 'K', 'A']]\n"
     ]
    }
   ],
   "source": [
    "prac_result5 = [prac_result4 for i in range(4)]\n",
    "print(prac_result5)"
   ]
  },
  {
   "cell_type": "code",
   "execution_count": 77,
   "id": "2390500b-c11b-4be4-b9b0-5319d4cb897a",
   "metadata": {},
   "outputs": [
    {
     "name": "stdout",
     "output_type": "stream",
     "text": [
      "['two', '3', '4', '5', '6', '7', '8', '9', '10', 'J', 'Q', 'K', 'A']\n"
     ]
    }
   ],
   "source": [
    "prac_result4[0] = 'two'\n",
    "print(prac_result4)"
   ]
  },
  {
   "cell_type": "code",
   "execution_count": 78,
   "id": "afb5de4b-dc80-4a11-8acd-3679576e2a68",
   "metadata": {},
   "outputs": [
    {
     "name": "stdout",
     "output_type": "stream",
     "text": [
      "[['2', '3', '4', '5', '6', '7', '8', '9', '10', 'J', 'Q', 'K', 'A'], ['2', '3', '4', '5', '6', '7', '8', '9', '10', 'J', 'Q', 'K', 'A'], ['2', '3', '4', '5', '6', '7', '8', '9', '10', 'J', 'Q', 'K', 'A'], ['2', '3', '4', '5', '6', '7', '8', '9', '10', 'J', 'Q', 'K', 'A']]\n"
     ]
    }
   ],
   "source": [
    "print(prac_result5)"
   ]
  },
  {
   "cell_type": "code",
   "execution_count": 79,
   "id": "ba1d42e0-4a01-483f-bb0e-1a2c8bbcb225",
   "metadata": {},
   "outputs": [
    {
     "name": "stdout",
     "output_type": "stream",
     "text": [
      "prac_result5[0]:2391524057536\n",
      "prac_result5[1]:2391524057536\n",
      "prac_result5[2]:2391524057536\n",
      "prac_result5[3]:2391524057536\n"
     ]
    }
   ],
   "source": [
    "#같은 객체이다.\n",
    "for i,v in enumerate(prac_result5) :\n",
    "    print(\"prac_result5[\",i,\"]:\", id(v),sep=\"\")"
   ]
  },
  {
   "cell_type": "code",
   "execution_count": 81,
   "id": "0260b09c-e669-4131-8266-dfe0fcc451dc",
   "metadata": {},
   "outputs": [
    {
     "name": "stdout",
     "output_type": "stream",
     "text": [
      "prac_result4의 id: 2391523246592\n",
      "prac_result6[0]:2391524156416\n",
      "prac_result6[1]:2391523234816\n",
      "prac_result6[2]:2391524057920\n",
      "prac_result6[3]:2391522906240\n"
     ]
    }
   ],
   "source": [
    "prac_result6 = [prac_result4[:] for _ in range(4)]\n",
    "print(\"prac_result4의 id:\", id(prac_result4))\n",
    "for i,v in enumerate(prac_result6) :\n",
    "    print(\"prac_result6[\",i,\"]:\", id(v),sep=\"\")"
   ]
  },
  {
   "cell_type": "code",
   "execution_count": 82,
   "id": "0d8b6e41-91e4-4e3c-a4f8-a4d92c8bc3cc",
   "metadata": {},
   "outputs": [
    {
     "name": "stdout",
     "output_type": "stream",
     "text": [
      "2391524155840\n",
      "2391524156096\n",
      "False\n",
      "True\n"
     ]
    }
   ],
   "source": [
    "old_list = list(range(10))\n",
    "new_list = old_list[:]\n",
    "\n",
    "print(id(old_list))\n",
    "print(id(new_list))\n",
    "print(old_list is new_list) #객체의 비교\n",
    "print(old_list == new_list) #값의 비교"
   ]
  },
  {
   "cell_type": "code",
   "execution_count": 83,
   "id": "9a4c0e75-49f9-4df1-8f92-05e422bd1b7b",
   "metadata": {},
   "outputs": [],
   "source": [
    "list_i = [[0]]*3"
   ]
  },
  {
   "cell_type": "code",
   "execution_count": 84,
   "id": "ab704273-a1ba-40f6-975f-72fc343d6c9a",
   "metadata": {},
   "outputs": [
    {
     "name": "stdout",
     "output_type": "stream",
     "text": [
      "[[999], [999], [999]]\n"
     ]
    }
   ],
   "source": [
    "list_i[0][0] = 999\n",
    "print(list_i)"
   ]
  },
  {
   "cell_type": "code",
   "execution_count": 86,
   "id": "615fb29b-8f4f-4014-9f59-ec660854e7b4",
   "metadata": {},
   "outputs": [
    {
     "name": "stdout",
     "output_type": "stream",
     "text": [
      "True\n"
     ]
    }
   ],
   "source": [
    "list_j = [[1,2],[3,4]]\n",
    "list_k = list_j[:]\n",
    "print(list_k[0] is list_j[0])"
   ]
  },
  {
   "cell_type": "code",
   "execution_count": null,
   "id": "fcb8e8d4-c07a-462f-bf1f-d4dddd6c9ebf",
   "metadata": {},
   "outputs": [],
   "source": []
  }
 ],
 "metadata": {
  "kernelspec": {
   "display_name": "Python 3 (ipykernel)",
   "language": "python",
   "name": "python3"
  },
  "language_info": {
   "codemirror_mode": {
    "name": "ipython",
    "version": 3
   },
   "file_extension": ".py",
   "mimetype": "text/x-python",
   "name": "python",
   "nbconvert_exporter": "python",
   "pygments_lexer": "ipython3",
   "version": "3.9.13"
  }
 },
 "nbformat": 4,
 "nbformat_minor": 5
}
