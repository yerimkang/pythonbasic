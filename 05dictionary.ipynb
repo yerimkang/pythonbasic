{
 "cells": [
  {
   "cell_type": "code",
   "execution_count": 1,
   "id": "1ae25f62-1c96-49fb-868b-c2580545fcad",
   "metadata": {},
   "outputs": [
    {
     "name": "stdout",
     "output_type": "stream",
     "text": [
      "{'key': 'last value'}\n"
     ]
    }
   ],
   "source": [
    "dict([(\"key\",\"value\"),(\"key2\",\"value2\")])"
   ]
  },
  {
   "cell_type": "code",
   "execution_count": 2,
   "id": "a502d93f-996c-47d2-b2de-6466c9cade8e",
   "metadata": {},
   "outputs": [
    {
     "data": {
      "text/plain": [
       "{'key': 'value', 'key2': 'value2'}"
      ]
     },
     "execution_count": 2,
     "metadata": {},
     "output_type": "execute_result"
    }
   ],
   "source": [
    "dict([(\"key\",\"value\"),(\"key2\",\"value2\")])"
   ]
  },
  {
   "cell_type": "code",
   "execution_count": 4,
   "id": "658a713d-5316-4715-87c0-2cf680ab12b1",
   "metadata": {},
   "outputs": [
    {
     "name": "stdout",
     "output_type": "stream",
     "text": [
      "{'key': 'val', 'key2': 'val2', 'key3': 'val3'}\n"
     ]
    }
   ],
   "source": [
    "dict_b = dict(zip([\"key\",\"key2\",\"key3\"],[\"val\",\"val2\",\"val3\"]))\n",
    "print(dict_b)"
   ]
  },
  {
   "cell_type": "code",
   "execution_count": 6,
   "id": "ced5cd74-7995-423b-96c4-d8bbbc6cfef9",
   "metadata": {},
   "outputs": [
    {
     "data": {
      "text/plain": [
       "[('key', 'val'), ('key2', 'val2'), ('key3', 'val3')]"
      ]
     },
     "execution_count": 6,
     "metadata": {},
     "output_type": "execute_result"
    }
   ],
   "source": [
    "[_ for _ in zip([\"key\",\"key2\",\"key3\"],[\"val\",\"val2\",\"val3\"])]"
   ]
  },
  {
   "cell_type": "code",
   "execution_count": 8,
   "id": "db2b7960-ccc6-44d2-87a1-2b6518e0bfc4",
   "metadata": {},
   "outputs": [
    {
     "name": "stdout",
     "output_type": "stream",
     "text": [
      "('key1', 'val1')\n",
      "('key2', 'val2')\n",
      "('key3', 'val3')\n"
     ]
    }
   ],
   "source": [
    "keys = (\"key1\",\"key2\",\"key3\")\n",
    "val = (\"val1\",\"val2\",\"val3\")\n",
    "\n",
    "for index in range(len(keys)) :\n",
    "    print((keys[index],val[index]))"
   ]
  },
  {
   "cell_type": "code",
   "execution_count": 9,
   "id": "a760d487-a3c8-4a24-bde1-9e0976b294b8",
   "metadata": {},
   "outputs": [
    {
     "name": "stdout",
     "output_type": "stream",
     "text": [
      "[('key1', 'val1'), ('key2', 'val2'), ('key3', 'val3')]\n"
     ]
    }
   ],
   "source": [
    "keys = (\"key1\",\"key2\",\"key3\")\n",
    "val = (\"val1\",\"val2\",\"val3\")\n",
    "\n",
    "sum = []\n",
    "for index in range(len(keys)) :\n",
    "    sum.append((keys[index],val[index]))\n",
    "print(sum)"
   ]
  },
  {
   "cell_type": "code",
   "execution_count": 16,
   "id": "baffde76-35bb-45d5-880f-b2ba6b628e5b",
   "metadata": {},
   "outputs": [
    {
     "name": "stdout",
     "output_type": "stream",
     "text": [
      "{'key': 'val', 'key2': 'val2', 'key3': 'val3'}\n",
      "\n",
      "{'key': 'super value', 'key2': 'val2', 'key3': 'val3'}\n"
     ]
    }
   ],
   "source": [
    "dict_b = dict(zip([\"key\",\"key2\",\"key3\"],[\"val\",\"val2\",\"val3\"]))\n",
    "print(dict_b,end=\"\\n\\n\")\n",
    "dict_b['key'] = \"super value\"\n",
    "print(dict_b)"
   ]
  },
  {
   "cell_type": "code",
   "execution_count": 18,
   "id": "17958b43-07ef-4ea3-a657-4957c7bdc249",
   "metadata": {},
   "outputs": [
    {
     "name": "stdout",
     "output_type": "stream",
     "text": [
      "True\n"
     ]
    }
   ],
   "source": [
    "print('key' in dict_b)"
   ]
  },
  {
   "cell_type": "code",
   "execution_count": 20,
   "id": "f9bc8ef8-27ea-437b-9a8b-80cc733b693b",
   "metadata": {},
   "outputs": [
    {
     "name": "stdout",
     "output_type": "stream",
     "text": [
      "True\n"
     ]
    }
   ],
   "source": [
    "print('val2' in dict_b.values())"
   ]
  },
  {
   "cell_type": "code",
   "execution_count": 21,
   "id": "fe83d339-1512-4914-a783-f2ffb6708be7",
   "metadata": {},
   "outputs": [
    {
     "data": {
      "text/plain": [
       "3"
      ]
     },
     "execution_count": 21,
     "metadata": {},
     "output_type": "execute_result"
    }
   ],
   "source": [
    "len(dict_b)"
   ]
  },
  {
   "cell_type": "code",
   "execution_count": 26,
   "id": "3bb80ef7-2997-498f-bedf-a4d64d50e959",
   "metadata": {},
   "outputs": [
    {
     "name": "stdin",
     "output_type": "stream",
     "text": [
      "과일 이름을 입력하세요 파인애플\n"
     ]
    },
    {
     "name": "stdout",
     "output_type": "stream",
     "text": [
      "파인애플의 가격은2000원입니다.\n"
     ]
    }
   ],
   "source": [
    "fruit = input(\"과일 이름을 입력하세요\")\n",
    "dict_fruit = dict(zip([\"사과\",\"바나나\",\"오렌지\",\"파인애플\"],[\"1000\",\"700\",\"1500\",\"2000\"]))\n",
    "print(fruit,\"의 가격은\",dict_fruit[fruit],\"원입니다.\",sep = \"\")"
   ]
  },
  {
   "cell_type": "code",
   "execution_count": 26,
   "id": "1c3bbec3-8404-4a8e-b011-5c12c858ef35",
   "metadata": {},
   "outputs": [
    {
     "name": "stdin",
     "output_type": "stream",
     "text": [
      "과일 이름을 입력하세요 파인애플\n"
     ]
    },
    {
     "name": "stdout",
     "output_type": "stream",
     "text": [
      "파인애플의 가격은2000원입니다.\n"
     ]
    }
   ],
   "source": [
    "fruit = input(\"과일 이름을 입력하세요\")\n",
    "dict_fruit = dict(zip([\"사과\",\"바나나\",\"오렌지\",\"파인애플\"],[\"1000\",\"700\",\"1500\",\"2000\"]))\n",
    "print(fruit,\"의 가격은\",dict_fruit[fruit],\"원입니다.\",sep = \"\")"
   ]
  },
  {
   "cell_type": "code",
   "execution_count": 28,
   "id": "152c90e4-7192-48b2-9f52-201196fc8756",
   "metadata": {},
   "outputs": [
    {
     "name": "stdin",
     "output_type": "stream",
     "text": [
      "이름을 기입해주세요, 뽀로로 루피 크롱 스누피\n",
      "몸무게를 입력해주세요. 20.4 16.2 22.3 5.2\n"
     ]
    },
    {
     "name": "stdout",
     "output_type": "stream",
     "text": [
      "[('뽀로로', '20.4'), ('루피', '16.2'), ('크롱', '22.3'), ('스누피', '5.2')]\n"
     ]
    }
   ],
   "source": [
    "keys = input(\"이름을 기입해주세요\").split(\" \")\n",
    "value = input(\"몸무게를 입력해주세요.\").split(\" \")\n",
    "people = []\n",
    "for index in range(len(keys)):\n",
    "    people.append((keys[index],value[index]))\n",
    "print(people)"
   ]
  },
  {
   "cell_type": "code",
   "execution_count": 36,
   "id": "c9f2a207-f721-45bb-be14-54833542043a",
   "metadata": {},
   "outputs": [
    {
     "name": "stdin",
     "output_type": "stream",
     "text": [
      "이름을 기입해주세요 뽀로로 루피 크롱 스누피\n",
      "몸무게를 입력해주세요. 20.4 16.2 22.3 5.2\n"
     ]
    },
    {
     "name": "stdout",
     "output_type": "stream",
     "text": [
      "{'뽀로로': 20.4, '루피': 16.2, '크롱': 22.3, '스누피': 5.2}\n"
     ]
    }
   ],
   "source": [
    "keys = input(\"이름을 기입해주세요\").split(\" \")\n",
    "value = input(\"몸무게를 입력해주세요.\").split(\" \")\n",
    "\n",
    "people = dict(zip(keys,list(map(float,value))))\n",
    "print(people)"
   ]
  },
  {
   "cell_type": "code",
   "execution_count": 37,
   "id": "5058641f-64c3-4afc-9555-6e91730e31dc",
   "metadata": {},
   "outputs": [
    {
     "name": "stdout",
     "output_type": "stream",
     "text": [
      "[1, 2, 3, 4, 5, 6, 7, 8, 9]\n"
     ]
    }
   ],
   "source": [
    "list_c = [i for i in range(1,10)]\n",
    "print(list_c)"
   ]
  },
  {
   "cell_type": "code",
   "execution_count": 40,
   "id": "4c38c746-f16d-448b-a688-5006bcbd04d7",
   "metadata": {},
   "outputs": [
    {
     "name": "stdout",
     "output_type": "stream",
     "text": [
      "<class 'list'>\n",
      "[1, 4, 9, 16, 25, 36, 49, 64, 81]\n"
     ]
    }
   ],
   "source": [
    "prac_result = [i**2 for i in range(1,10)]\n",
    "print(type(prac_result))\n",
    "print(prac_result)"
   ]
  },
  {
   "cell_type": "code",
   "execution_count": 44,
   "id": "30e7ca15-2a78-4a56-851d-ce132caf9ac5",
   "metadata": {},
   "outputs": [
    {
     "name": "stdout",
     "output_type": "stream",
     "text": [
      "[1, 3, 5, 7, 9]\n"
     ]
    }
   ],
   "source": [
    "prac_result2 = [i for i in range(1,10,2)]\n",
    "print(prac_result2)"
   ]
  },
  {
   "cell_type": "code",
   "execution_count": 49,
   "id": "90071bcc-4a40-447a-afb5-0958ffbb7acb",
   "metadata": {},
   "outputs": [
    {
     "name": "stdout",
     "output_type": "stream",
     "text": [
      "['a', 'b', 'c', 'd', 'e', 'f', 'g', 'h', 'i', 'j', 'k', 'm', 'n', 'o', 'p', 'q', 'r', 's', 't', 'u', 'v', 'w', 'x', 'y', 'z']\n"
     ]
    }
   ],
   "source": [
    "prac_result2 = [i for i in 'abcdefghijkmnopqrstuvwxyz']\n",
    "print(prac_result2)"
   ]
  },
  {
   "cell_type": "code",
   "execution_count": 54,
   "id": "f696b237-df7b-4f79-8cf4-b73f6f2c8548",
   "metadata": {},
   "outputs": [
    {
     "name": "stdout",
     "output_type": "stream",
     "text": [
      "['a', 'b', 'c', 'd', 'e', 'f', 'g', 'h', 'i', 'j', 'k', 'l', 'm', 'n', 'o', 'p', 'q', 'r', 's', 't', 'u', 'v', 'w', 'x', 'y', 'z']\n"
     ]
    }
   ],
   "source": [
    "prac_result2 = [chr(i) for i in range(ord('a'),ord('z')+1)]\n",
    "print(prac_result2)"
   ]
  },
  {
   "cell_type": "code",
   "execution_count": 55,
   "id": "ef130f07-7a1f-459d-8cc9-6725f76f1f0a",
   "metadata": {},
   "outputs": [
    {
     "name": "stdout",
     "output_type": "stream",
     "text": [
      "a b c d e f g h i j k l m n o p q r s t u v w x y z "
     ]
    }
   ],
   "source": [
    "for i in range(97, 123):\n",
    "    print( chr(i), end=' ' )"
   ]
  },
  {
   "cell_type": "code",
   "execution_count": 56,
   "id": "09461bdb-584f-4d31-8938-255e4486fdbe",
   "metadata": {},
   "outputs": [
    {
     "name": "stdout",
     "output_type": "stream",
     "text": [
      "['a', 'b', 'c', 'd', 'e', 'f', 'g', 'h', 'i', 'j', 'k', 'l', 'm', 'n', 'o', 'p', 'q', 'r', 's', 't', 'u', 'v', 'w', 'x', 'y', 'z']\n"
     ]
    }
   ],
   "source": [
    "prac_result3 = [chr(i) for i in range(97,123)]\n",
    "print(prac_result3)"
   ]
  },
  {
   "cell_type": "code",
   "execution_count": 70,
   "id": "f8f3e577-618d-465d-b15f-f5d89005ca19",
   "metadata": {},
   "outputs": [
    {
     "name": "stdout",
     "output_type": "stream",
     "text": [
      "['2', '3', '4', '5', '6', '7', '8', '9', '10', 'J', 'Q', 'K', 'A']\n"
     ]
    }
   ],
   "source": [
    "prac_result4 = [str(i) for i in range(2,11)] + ['J','Q','K','A']\n",
    "print(prac_result4)"
   ]
  },
  {
   "cell_type": "code",
   "execution_count": 67,
   "id": "8a131c65-ac6e-4ad4-b1cf-a471915f259d",
   "metadata": {},
   "outputs": [
    {
     "name": "stdout",
     "output_type": "stream",
     "text": [
      "[['2', '3', '4', '5', '6', '7', '8', '9', '10', 'J', 'Q', 'K', 'A'], ['2', '3', '4', '5', '6', '7', '8', '9', '10', 'J', 'Q', 'K', 'A'], ['2', '3', '4', '5', '6', '7', '8', '9', '10', 'J', 'Q', 'K', 'A'], ['2', '3', '4', '5', '6', '7', '8', '9', '10', 'J', 'Q', 'K', 'A']]\n"
     ]
    }
   ],
   "source": [
    "prac_result5 = [prac_result4 for i in range(4)]\n",
    "print(prac_result5)"
   ]
  },
  {
   "cell_type": "code",
   "execution_count": 77,
   "id": "2390500b-c11b-4be4-b9b0-5319d4cb897a",
   "metadata": {},
   "outputs": [
    {
     "name": "stdout",
     "output_type": "stream",
     "text": [
      "['two', '3', '4', '5', '6', '7', '8', '9', '10', 'J', 'Q', 'K', 'A']\n"
     ]
    }
   ],
   "source": [
    "prac_result4[0] = 'two'\n",
    "print(prac_result4)"
   ]
  },
  {
   "cell_type": "code",
   "execution_count": 78,
   "id": "afb5de4b-dc80-4a11-8acd-3679576e2a68",
   "metadata": {},
   "outputs": [
    {
     "name": "stdout",
     "output_type": "stream",
     "text": [
      "[['2', '3', '4', '5', '6', '7', '8', '9', '10', 'J', 'Q', 'K', 'A'], ['2', '3', '4', '5', '6', '7', '8', '9', '10', 'J', 'Q', 'K', 'A'], ['2', '3', '4', '5', '6', '7', '8', '9', '10', 'J', 'Q', 'K', 'A'], ['2', '3', '4', '5', '6', '7', '8', '9', '10', 'J', 'Q', 'K', 'A']]\n"
     ]
    }
   ],
   "source": [
    "print(prac_result5)"
   ]
  },
  {
   "cell_type": "code",
   "execution_count": 79,
   "id": "ba1d42e0-4a01-483f-bb0e-1a2c8bbcb225",
   "metadata": {},
   "outputs": [
    {
     "name": "stdout",
     "output_type": "stream",
     "text": [
      "prac_result5[0]:2391524057536\n",
      "prac_result5[1]:2391524057536\n",
      "prac_result5[2]:2391524057536\n",
      "prac_result5[3]:2391524057536\n"
     ]
    }
   ],
   "source": [
    "#같은 객체이다.\n",
    "for i,v in enumerate(prac_result5) :\n",
    "    print(\"prac_result5[\",i,\"]:\", id(v),sep=\"\")"
   ]
  },
  {
   "cell_type": "code",
   "execution_count": 81,
   "id": "0260b09c-e669-4131-8266-dfe0fcc451dc",
   "metadata": {},
   "outputs": [
    {
     "name": "stdout",
     "output_type": "stream",
     "text": [
      "prac_result4의 id: 2391523246592\n",
      "prac_result6[0]:2391524156416\n",
      "prac_result6[1]:2391523234816\n",
      "prac_result6[2]:2391524057920\n",
      "prac_result6[3]:2391522906240\n"
     ]
    }
   ],
   "source": [
    "prac_result6 = [prac_result4[:] for _ in range(4)]\n",
    "print(\"prac_result4의 id:\", id(prac_result4))\n",
    "for i,v in enumerate(prac_result6) :\n",
    "    print(\"prac_result6[\",i,\"]:\", id(v),sep=\"\")"
   ]
  },
  {
   "cell_type": "code",
   "execution_count": 82,
   "id": "0d8b6e41-91e4-4e3c-a4f8-a4d92c8bc3cc",
   "metadata": {},
   "outputs": [
    {
     "name": "stdout",
     "output_type": "stream",
     "text": [
      "2391524155840\n",
      "2391524156096\n",
      "False\n",
      "True\n"
     ]
    }
   ],
   "source": [
    "old_list = list(range(10))\n",
    "new_list = old_list[:]\n",
    "\n",
    "print(id(old_list))\n",
    "print(id(new_list))\n",
    "print(old_list is new_list) #객체의 비교\n",
    "print(old_list == new_list) #값의 비교"
   ]
  },
  {
   "cell_type": "code",
   "execution_count": 83,
   "id": "9a4c0e75-49f9-4df1-8f92-05e422bd1b7b",
   "metadata": {},
   "outputs": [],
   "source": [
    "list_i = [[0]]*3"
   ]
  },
  {
   "cell_type": "code",
   "execution_count": 84,
   "id": "ab704273-a1ba-40f6-975f-72fc343d6c9a",
   "metadata": {},
   "outputs": [
    {
     "name": "stdout",
     "output_type": "stream",
     "text": [
      "[[999], [999], [999]]\n"
     ]
    }
   ],
   "source": [
    "list_i[0][0] = 999\n",
    "print(list_i)"
   ]
  },
  {
   "cell_type": "code",
   "execution_count": 86,
   "id": "615fb29b-8f4f-4014-9f59-ec660854e7b4",
   "metadata": {},
   "outputs": [
    {
     "name": "stdout",
     "output_type": "stream",
     "text": [
      "True\n"
     ]
    }
   ],
   "source": [
    "list_j = [[1,2],[3,4]]\n",
    "list_k = list_j[:]\n",
    "print(list_k[0] is list_j[0])"
   ]
  },
  {
   "cell_type": "code",
   "execution_count": 1,
   "id": "fcb8e8d4-c07a-462f-bf1f-d4dddd6c9ebf",
   "metadata": {},
   "outputs": [
    {
     "name": "stdout",
     "output_type": "stream",
     "text": [
      "{'태국', '중국', '베트남', '홍콩', '한국'}\n"
     ]
    }
   ],
   "source": [
    "asia={'일본','중국','한국'}\n",
    "asia.add('베트남')\n",
    "asia.add('중국')\n",
    "asia.remove('일본')\n",
    "asia.update({'홍콩','한국','태국'})\n",
    "print(asia)"
   ]
  },
  {
   "cell_type": "code",
   "execution_count": 2,
   "id": "213560f7-fa44-48d4-af4e-6cd85b0f5fe1",
   "metadata": {},
   "outputs": [],
   "source": [
    "b=[]\n",
    "for i in range(3):\n",
    "    row = [0]\n",
    "    b.append(row)"
   ]
  },
  {
   "cell_type": "code",
   "execution_count": 21,
   "id": "c1158a89-b285-440f-a9bb-cb3ca6ee9e63",
   "metadata": {},
   "outputs": [
    {
     "name": "stdout",
     "output_type": "stream",
     "text": [
      "==================================================\n",
      "1. 전체 출력\n",
      "arr1 : [1, 2, [99, 88, 77], 3], address : 0x1eaec1aef80\n",
      "arr2 : [1, 2, [99, 88, 77], 3], address : 0x1eaec1a0b80\n"
     ]
    }
   ],
   "source": [
    "import copy                 # copy 모듈 불러오기\n",
    "print('=' * 50)\n",
    "\n",
    "arr1 = [1, 2, [99, 88, 77], 3]\n",
    "arr2 = copy.deepcopy(arr1)      # copy 모듈 깊은 복사\n",
    "\n",
    "print(\"1. 전체 출력\")\n",
    "print(f'arr1 : {arr1}, address : {hex(id(arr1))}')\n",
    "print(f'arr2 : {arr2}, address : {hex(id(arr2))}')"
   ]
  },
  {
   "cell_type": "code",
   "execution_count": 22,
   "id": "f3846da1-5053-4e50-bad6-539443a4ad90",
   "metadata": {},
   "outputs": [
    {
     "name": "stdout",
     "output_type": "stream",
     "text": [
      "2. 리스트에 새 key, value 추가\n",
      "arr1.append(0)\n",
      "arr1 : [1, 2, [99, 88, 77], 3, 0], address : 0x1eaec1aef80\n",
      "arr2 : [1, 2, [99, 88, 77], 3], address : 0x1eaec1a0b80\n"
     ]
    }
   ],
   "source": [
    "print(\"2. 리스트에 새 key, value 추가\")\n",
    "arr1.append(0)\n",
    "print('arr1.append(0)')\n",
    "print(f'arr1 : {arr1}, address : {hex(id(arr1))}')\n",
    "print(f'arr2 : {arr2}, address : {hex(id(arr2))}')"
   ]
  },
  {
   "cell_type": "code",
   "execution_count": 23,
   "id": "b4a3dc83-4136-474b-8dce-fbf3af3e749f",
   "metadata": {},
   "outputs": [
    {
     "name": "stdout",
     "output_type": "stream",
     "text": [
      "3. 리스트 내부 리스트.\n",
      "arr1[2] : [99, 88, 77], address : 0x1eaec16bf40\n",
      "arr2[2] : [99, 88, 77], address : 0x1eaec16b300\n"
     ]
    }
   ],
   "source": [
    "# 리스트 내부에 리스트 추가\n",
    "print(\"3. 리스트 내부 리스트.\")\n",
    "print(f\"arr1[2] : {arr1[2]}, address : {hex(id(arr1[2]))}\")\n",
    "print(f\"arr2[2] : {arr2[2]}, address : {hex(id(arr2[2]))}\")"
   ]
  },
  {
   "cell_type": "code",
   "execution_count": 24,
   "id": "cb54d148-afa5-4173-b029-ec234a018ec7",
   "metadata": {},
   "outputs": [
    {
     "name": "stdout",
     "output_type": "stream",
     "text": [
      "4. 리스트 내부 리스트에 값 추가\n",
      "arr1[2].append(10)\n",
      "arr1[2] : [99, 88, 77, 10], address : 0x1eaec16bf40\n",
      "arr2[2] : [99, 88, 77], address : 0x1eaec16b300\n"
     ]
    }
   ],
   "source": [
    "print(\"4. 리스트 내부 리스트에 값 추가\")\n",
    "arr1[2].append(10)\n",
    "print(\"arr1[2].append(10)\")\n",
    "print(f\"arr1[2] : {arr1[2]}, address : {hex(id(arr1[2]))}\")\n",
    "print(f\"arr2[2] : {arr2[2]}, address : {hex(id(arr2[2]))}\")"
   ]
  },
  {
   "cell_type": "code",
   "execution_count": 25,
   "id": "ff6d3fc6-6bd4-4014-ad81-d69d09092760",
   "metadata": {},
   "outputs": [
    {
     "name": "stdout",
     "output_type": "stream",
     "text": [
      "5. 리스트 전체 다시 확인\n",
      "arr1 : [1, 2, [99, 88, 77, 10], 3, 0], address : 0x1eaec1aef80\n",
      "arr2 : [1, 2, [99, 88, 77], 3], address : 0x1eaec1a0b80\n"
     ]
    }
   ],
   "source": [
    "print(\"5. 리스트 전체 다시 확인\")\n",
    "print(f'arr1 : {arr1}, address : {hex(id(arr1))}')\n",
    "print(f'arr2 : {arr2}, address : {hex(id(arr2))}')"
   ]
  },
  {
   "cell_type": "code",
   "execution_count": 26,
   "id": "45e3f922-2ce4-468b-b2bd-2b4acc91e2e2",
   "metadata": {},
   "outputs": [
    {
     "name": "stdout",
     "output_type": "stream",
     "text": [
      "==================================================\n",
      "1. 전체 출력\n",
      "arr1 : [4, 5, 6, [2, 4, 8]], add : 0x1eaec1a0f00\n",
      "arr2 : [4, 5, 6, [2, 4, 8]], add : 0x1eaec1a8300\n",
      "\n",
      "2. 리스트의 끝에 값 추가\n",
      "arr2.append(22)\n",
      "arr1 : [4, 5, 6, [2, 4, 8]], add : 0x1eaec1a0f00\n",
      "arr2 : [4, 5, 6, [2, 4, 8], 22], add : 0x1eaec1a8300\n",
      "\n",
      "3. 리스트 내부 리스트\n",
      "arr1[3] : [2, 4, 8], add : 0x1eaec1a0f40\n",
      "arr2[3] : [2, 4, 8], add : 0x1eaec1a0f40\n",
      "\n",
      "4. 리스트 내부 리스트에 값 추가\n",
      "arr1[3].append(99)\n",
      "arr1[3] : [2, 4, 8, 99], add : 0x1eaec1a0f40\n",
      "arr2[3] : [2, 4, 8, 99], add : 0x1eaec1a0f40\n",
      "\n",
      "5. 리스트 전체 다시 확인\n",
      "arr1 : [4, 5, 6, [2, 4, 8, 99]], add : 0x1eaec1a0f00\n",
      "arr2 : [4, 5, 6, [2, 4, 8, 99], 22], add : 0x1eaec1a8300\n"
     ]
    }
   ],
   "source": [
    "print('=' * 50)\n",
    "\n",
    "arr1 = [4, 5, 6, [2, 4, 8]]\n",
    "arr2 = arr1[:]  # 여기서 복사\n",
    "\n",
    "print(\"1. 전체 출력\")\n",
    "print(f'arr1 : {arr1}, add : {hex(id(arr1))}')\n",
    "print(f'arr2 : {arr2}, add : {hex(id(arr2))}')\n",
    "\n",
    "print(\"\\n2. 리스트의 끝에 값 추가\")\n",
    "arr2.append(22)  # arr2 에 값 추가\n",
    "print('arr2.append(22)')\n",
    "print(f'arr1 : {arr1}, add : {hex(id(arr1))}')\n",
    "print(f'arr2 : {arr2}, add : {hex(id(arr2))}')\n",
    "\n",
    "# 리스트 안에 있는 리스트\n",
    "print(\"\\n3. 리스트 내부 리스트\")\n",
    "print(f'arr1[3] : {arr1[3]}, add : {hex(id(arr1[3]))}')\n",
    "print(f'arr2[3] : {arr2[3]}, add : {hex(id(arr2[3]))}')\n",
    "\n",
    "print(\"\\n4. 리스트 내부 리스트에 값 추가\")\n",
    "arr1[3].append(99)\n",
    "print('arr1[3].append(99)')\n",
    "print(f'arr1[3] : {arr1[3]}, add : {hex(id(arr1[3]))}')\n",
    "print(f'arr2[3] : {arr2[3]}, add : {hex(id(arr2[3]))}')\n",
    "\n",
    "print(\"\\n5. 리스트 전체 다시 확인\")\n",
    "print(f'arr1 : {arr1}, add : {hex(id(arr1))}')\n",
    "print(f'arr2 : {arr2}, add : {hex(id(arr2))}')"
   ]
  },
  {
   "cell_type": "code",
   "execution_count": 38,
   "id": "3f7daa5f-3d1d-48bb-9a9e-204c474c75d2",
   "metadata": {},
   "outputs": [
    {
     "name": "stdout",
     "output_type": "stream",
     "text": [
      "['alpha', 'bravo', 'delta', 'hotel', 'india']\n"
     ]
    }
   ],
   "source": [
    "a = ['alpha', 'bravo', 'charlie', 'delta', 'echo', 'foxtrot', 'golf', 'hotel', 'india']\n",
    "b = [str(a[i]) for i,v in  enumerate(a) if len(a[i])==5]\n",
    "print(b)"
   ]
  },
  {
   "cell_type": "code",
   "execution_count": 44,
   "id": "8ef8b4d4-7b2f-4037-935c-104614f8881f",
   "metadata": {},
   "outputs": [
    {
     "name": "stdout",
     "output_type": "stream",
     "text": [
      "['alpha', 'bravo', 'delta', 'hotel', 'india']\n"
     ]
    }
   ],
   "source": [
    "a = ['alpha', 'bravo', 'charlie', 'delta', 'echo', 'foxtrot', 'golf', 'hotel', 'india']\n",
    "b = [v for v in a if len(v)==5]\n",
    "print(b)"
   ]
  },
  {
   "cell_type": "code",
   "execution_count": 64,
   "id": "90c68b33-f93d-4c72-92e6-708b115824e1",
   "metadata": {},
   "outputs": [
    {
     "name": "stdin",
     "output_type": "stream",
     "text": [
      "정수 두 개 입력하세요: 1 10\n"
     ]
    },
    {
     "name": "stdout",
     "output_type": "stream",
     "text": [
      "[2, 4, 8, 16, 32, 64, 128, 256, 512, 1024]\n"
     ]
    }
   ],
   "source": [
    "a,b = map(int,input(\"정수 두 개 입력하세요:\").split(\" \"))\n",
    "while True :\n",
    "    if 1<=a<=20 :\n",
    "        if 10<=b<=30 :\n",
    "            if a<b :\n",
    "                print([2**i for i in range(a,b+1)])\n",
    "                break\n",
    "            else:\n",
    "                print(\"첫 번째 입력 값은 두 번째 입력 값보다 작게 입력하세요.\")\n",
    "                break\n",
    "        else :\n",
    "            print(\"두번째 값의 범위는 10~30입니다.\")\n",
    "            break\n",
    "    else :\n",
    "        print(\"첫번째 값의 범위는 1~20입니다.\")\n",
    "        break"
   ]
  },
  {
   "cell_type": "code",
   "execution_count": 131,
   "id": "b4d3c373-237a-4d1d-b6ba-e3451d135017",
   "metadata": {},
   "outputs": [
    {
     "name": "stdin",
     "output_type": "stream",
     "text": [
      "2부터 입력하신 수까지의 모든 소수를 찾는 프로그램입니다.\n",
      "찾는 범위를 입력하세요: 200\n"
     ]
    },
    {
     "name": "stdout",
     "output_type": "stream",
     "text": [
      "\n",
      "\n",
      "2\t3\t5\t7\t11\t13\t17\t\n",
      "\n",
      "19\t23\t29\t31\t37\t41\t43\t\n",
      "\n",
      "47\t53\t59\t61\t67\t71\t73\t\n",
      "\n",
      "79\t83\t89\t97\t101\t103\t107\t\n",
      "\n",
      "109\t113\t127\t131\t137\t139\t149\t\n",
      "\n",
      "151\t157\t163\t167\t173\t179\t181\t\n",
      "\n",
      "191\t193\t197\t199\t"
     ]
    }
   ],
   "source": [
    "num = int(input(\"2부터 입력하신 수까지의 모든 소수를 찾는 프로그램입니다.\\n찾는 범위를 입력하세요:\"))\n",
    "list_a = []\n",
    "number = 2\n",
    "\n",
    "while number<=num:\n",
    "    result=0\n",
    "    for i in range(1,number+1):\n",
    "        if number%i == 0:\n",
    "            result+=1\n",
    "    if result == 2:\n",
    "        list_a.append(number)\n",
    "    number+=1\n",
    "    \n",
    "for j in range(len(list_a)):\n",
    "    if j%7==0:\n",
    "        print(\"\\n\")\n",
    "    print(list_a[j],end=\"\\t\")"
   ]
  },
  {
   "cell_type": "code",
   "execution_count": 132,
   "id": "cdd6d395-6df7-4671-aed2-b9acc7ded6a0",
   "metadata": {},
   "outputs": [
    {
     "name": "stdout",
     "output_type": "stream",
     "text": [
      "[2, 3, 5, 7, 11, 13, 17, 19, 23]\n"
     ]
    }
   ],
   "source": [
    "import math\n",
    "\n",
    "# 소수 판별 함수(에라토스테네스의 체)\n",
    "def is_prime_number(n):\n",
    "    # 2부터 n까지의 모든 수에 대하여 소수 판별\n",
    "    array = [True for i in range(n+1)] # 처음엔 모든 수가 소수(True)인 것으로 초기화(0과 1은 제외)\n",
    "\n",
    "    # 에라토스테네스의 체\n",
    "    for i in range(2, int(math.sqrt(n)) + 1): #2부터 n의 제곱근까지의 모든 수를 확인하며\n",
    "        if array[i] == True: # i가 소수인 경우(남은 수인 경우)\n",
    "            # i를 제외한 i의 모든 배수를 지우기\n",
    "            j = 2\n",
    "            while i * j <= n:\n",
    "                array[i * j] = False\n",
    "                j += 1\n",
    "\n",
    "    return [ i for i in range(2, n+1) if array[i] ]\n",
    "\n",
    "# N이 1,000,000 이내로 주어지는 경우 활용할 것 => 이론상 400만번 정도 연산이고 메모리도 충분함\n",
    "\n",
    "print(is_prime_number(26))"
   ]
  },
  {
   "cell_type": "code",
   "execution_count": 133,
   "id": "578d8302-e603-4bc9-9aea-4eea6e77fd62",
   "metadata": {},
   "outputs": [
    {
     "name": "stdout",
     "output_type": "stream",
     "text": [
      "[1, 2, 2, 2, 2, 2, 2, 1, 2]\n"
     ]
    }
   ],
   "source": [
    "import random\n",
    "random_list = [random.randint(1,2) for _ in range(1,10)]\n",
    "print(random_list)"
   ]
  },
  {
   "cell_type": "code",
   "execution_count": 142,
   "id": "8aae6360-27b2-43cd-916c-7e934eda5c15",
   "metadata": {},
   "outputs": [
    {
     "name": "stdin",
     "output_type": "stream",
     "text": [
      "숫자를 입력해주세요: 90\n"
     ]
    },
    {
     "name": "stdout",
     "output_type": "stream",
     "text": [
      "그보다 작습니다.\n"
     ]
    },
    {
     "name": "stdin",
     "output_type": "stream",
     "text": [
      "숫자를 입력해주세요: 50\n"
     ]
    },
    {
     "name": "stdout",
     "output_type": "stream",
     "text": [
      "그보다 작습니다.\n"
     ]
    },
    {
     "name": "stdin",
     "output_type": "stream",
     "text": [
      "숫자를 입력해주세요: 40\n"
     ]
    },
    {
     "name": "stdout",
     "output_type": "stream",
     "text": [
      "그보다 작습니다.\n"
     ]
    },
    {
     "name": "stdin",
     "output_type": "stream",
     "text": [
      "숫자를 입력해주세요: 30\n"
     ]
    },
    {
     "name": "stdout",
     "output_type": "stream",
     "text": [
      "그보다 작습니다.\n"
     ]
    },
    {
     "name": "stdin",
     "output_type": "stream",
     "text": [
      "숫자를 입력해주세요: 20\n"
     ]
    },
    {
     "name": "stdout",
     "output_type": "stream",
     "text": [
      "그보다 작습니다.\n"
     ]
    },
    {
     "name": "stdin",
     "output_type": "stream",
     "text": [
      "숫자를 입력해주세요: 10\n"
     ]
    },
    {
     "name": "stdout",
     "output_type": "stream",
     "text": [
      "그보다 큽니다.\n"
     ]
    },
    {
     "name": "stdin",
     "output_type": "stream",
     "text": [
      "숫자를 입력해주세요: 11\n"
     ]
    },
    {
     "name": "stdout",
     "output_type": "stream",
     "text": [
      "그보다 큽니다.\n"
     ]
    },
    {
     "name": "stdin",
     "output_type": "stream",
     "text": [
      "숫자를 입력해주세요: 12\n"
     ]
    },
    {
     "name": "stdout",
     "output_type": "stream",
     "text": [
      "맞췄습니다!\n",
      " 8 번 만에 맞추셨습니다.\n",
      "입력한 숫자는 다음과 같습니다.\n",
      "90,50,40,30,20,10,11,12 "
     ]
    }
   ],
   "source": [
    "import random\n",
    "rand_num = random.randint(1,100)\n",
    "list=[]\n",
    "count=0\n",
    "while number!=rand_num:\n",
    "    number = int(input(\"숫자를 입력해주세요:\"))\n",
    "    list.append(number)\n",
    "    if 0<number<=100:\n",
    "        if number>rand_num:\n",
    "            print(\"그보다 작습니다.\")\n",
    "        elif number<rand_num:\n",
    "            print(\"그보다 큽니다.\")\n",
    "    else:\n",
    "        print(\"1~100사이의 숫자를 입력하세요\")\n",
    "    count+=1\n",
    "print(\"맞췄습니다!\\n\",count,\"번 만에 맞추셨습니다.\")\n",
    "print(\"입력한 숫자는 다음과 같습니다.\")\n",
    "for i in range(len(list)):\n",
    "    if i==len(list)-1:\n",
    "        print(list[i],end=\" \")\n",
    "    else:\n",
    "        print(list[i],end=\",\")"
   ]
  },
  {
   "cell_type": "code",
   "execution_count": 148,
   "id": "a7e45ad6-6349-4890-999d-15114b3f0e60",
   "metadata": {},
   "outputs": [
    {
     "name": "stdout",
     "output_type": "stream",
     "text": [
      "{1}\n"
     ]
    }
   ],
   "source": [
    "set_variable=set()\n",
    "[set_variable.add(1) for _ in range(5)] #5번 중복x\n",
    "print(set_variable)"
   ]
  },
  {
   "cell_type": "code",
   "execution_count": 149,
   "id": "7737e39b-336d-4237-a758-4d9d55452023",
   "metadata": {},
   "outputs": [
    {
     "ename": "KeyError",
     "evalue": "9",
     "output_type": "error",
     "traceback": [
      "\u001b[1;31m---------------------------------------------------------------------------\u001b[0m",
      "\u001b[1;31mKeyError\u001b[0m                                  Traceback (most recent call last)",
      "\u001b[1;32m~\\AppData\\Local\\Temp\\ipykernel_2848\\449555268.py\u001b[0m in \u001b[0;36m<module>\u001b[1;34m\u001b[0m\n\u001b[1;32m----> 1\u001b[1;33m \u001b[0mset_variable\u001b[0m\u001b[1;33m.\u001b[0m\u001b[0mremove\u001b[0m\u001b[1;33m(\u001b[0m\u001b[1;36m9\u001b[0m\u001b[1;33m)\u001b[0m\u001b[1;33m\u001b[0m\u001b[1;33m\u001b[0m\u001b[0m\n\u001b[0m\u001b[0;32m      2\u001b[0m \u001b[0mprint\u001b[0m\u001b[1;33m(\u001b[0m\u001b[0mset_variable\u001b[0m\u001b[1;33m)\u001b[0m\u001b[1;33m\u001b[0m\u001b[1;33m\u001b[0m\u001b[0m\n",
      "\u001b[1;31mKeyError\u001b[0m: 9"
     ]
    }
   ],
   "source": [
    "\n",
    "set_variable.remove(9)\n",
    "print(set_variable)"
   ]
  },
  {
   "cell_type": "code",
   "execution_count": 150,
   "id": "d9166329-ac91-478f-acb2-e01197d99c86",
   "metadata": {},
   "outputs": [
    {
     "name": "stdout",
     "output_type": "stream",
     "text": [
      "{1}\n"
     ]
    }
   ],
   "source": [
    "\n",
    "set_variable.discard(9)\n",
    "print(set_variable)"
   ]
  },
  {
   "cell_type": "code",
   "execution_count": 152,
   "id": "71bf2349-4324-4050-9595-4cfbeb7792b4",
   "metadata": {},
   "outputs": [
    {
     "name": "stdout",
     "output_type": "stream",
     "text": [
      "A: {1, 2, 3, 4} \n",
      "B: {2, 4, 5}\n",
      "set.union(A,B): {1, 2, 3, 4, 5}\n",
      "A | B : {1, 2, 3, 4, 5}\n"
     ]
    }
   ],
   "source": [
    "#합집합\n",
    "A = {_ for _ in range(1,5)}\n",
    "B = {_ for _ in range(2,6) if _ != 3}\n",
    "print(\"A:\",A,\"\\nB:\",B)\n",
    "print(\"set.union(A,B):\",set.union(A,B))\n",
    "print(\"A | B :\",A|B)"
   ]
  },
  {
   "cell_type": "code",
   "execution_count": 153,
   "id": "4654df63-0a53-4568-81f0-786118f47605",
   "metadata": {},
   "outputs": [
    {
     "name": "stdout",
     "output_type": "stream",
     "text": [
      "A: {1, 2, 3, 4} \n",
      "B: {2, 4, 5}\n",
      "set.union(A,B): {1, 3}\n",
      "A - B : {1, 3}\n"
     ]
    }
   ],
   "source": [
    "#차집합\n",
    "A = {_ for _ in range(1,5)}\n",
    "B = {_ for _ in range(2,6) if _ != 3}\n",
    "print(\"A:\",A,\"\\nB:\",B)\n",
    "print(\"set.union(A,B):\",set.difference(A,B))\n",
    "print(\"A - B :\",A-B)"
   ]
  },
  {
   "cell_type": "code",
   "execution_count": 155,
   "id": "480dbb34-88cc-470f-8670-3ec0d13079af",
   "metadata": {},
   "outputs": [
    {
     "name": "stdout",
     "output_type": "stream",
     "text": [
      "A: {1, 2, 3, 4} \n",
      "B: {2, 4, 5}\n"
     ]
    },
    {
     "ename": "AttributeError",
     "evalue": "type object 'set' has no attribute 'symmertric_difference'",
     "output_type": "error",
     "traceback": [
      "\u001b[1;31m---------------------------------------------------------------------------\u001b[0m",
      "\u001b[1;31mAttributeError\u001b[0m                            Traceback (most recent call last)",
      "\u001b[1;32m~\\AppData\\Local\\Temp\\ipykernel_2848\\1402395058.py\u001b[0m in \u001b[0;36m<module>\u001b[1;34m\u001b[0m\n\u001b[0;32m      3\u001b[0m \u001b[0mB\u001b[0m \u001b[1;33m=\u001b[0m \u001b[1;33m{\u001b[0m\u001b[0m_\u001b[0m \u001b[1;32mfor\u001b[0m \u001b[0m_\u001b[0m \u001b[1;32min\u001b[0m \u001b[0mrange\u001b[0m\u001b[1;33m(\u001b[0m\u001b[1;36m2\u001b[0m\u001b[1;33m,\u001b[0m\u001b[1;36m6\u001b[0m\u001b[1;33m)\u001b[0m \u001b[1;32mif\u001b[0m \u001b[0m_\u001b[0m \u001b[1;33m!=\u001b[0m \u001b[1;36m3\u001b[0m\u001b[1;33m}\u001b[0m\u001b[1;33m\u001b[0m\u001b[1;33m\u001b[0m\u001b[0m\n\u001b[0;32m      4\u001b[0m \u001b[0mprint\u001b[0m\u001b[1;33m(\u001b[0m\u001b[1;34m\"A:\"\u001b[0m\u001b[1;33m,\u001b[0m\u001b[0mA\u001b[0m\u001b[1;33m,\u001b[0m\u001b[1;34m\"\\nB:\"\u001b[0m\u001b[1;33m,\u001b[0m\u001b[0mB\u001b[0m\u001b[1;33m)\u001b[0m\u001b[1;33m\u001b[0m\u001b[1;33m\u001b[0m\u001b[0m\n\u001b[1;32m----> 5\u001b[1;33m \u001b[0mprint\u001b[0m\u001b[1;33m(\u001b[0m\u001b[1;34m\"set.union(A,B):\"\u001b[0m\u001b[1;33m,\u001b[0m\u001b[0mset\u001b[0m\u001b[1;33m.\u001b[0m\u001b[0msymmertric_difference\u001b[0m\u001b[1;33m(\u001b[0m\u001b[0mA\u001b[0m\u001b[1;33m,\u001b[0m\u001b[0mB\u001b[0m\u001b[1;33m)\u001b[0m\u001b[1;33m)\u001b[0m\u001b[1;33m\u001b[0m\u001b[1;33m\u001b[0m\u001b[0m\n\u001b[0m\u001b[0;32m      6\u001b[0m \u001b[0mprint\u001b[0m\u001b[1;33m(\u001b[0m\u001b[1;34m\"A ^ B :\"\u001b[0m\u001b[1;33m,\u001b[0m\u001b[0mA\u001b[0m\u001b[1;33m^\u001b[0m\u001b[0mB\u001b[0m\u001b[1;33m)\u001b[0m\u001b[1;33m\u001b[0m\u001b[1;33m\u001b[0m\u001b[0m\n",
      "\u001b[1;31mAttributeError\u001b[0m: type object 'set' has no attribute 'symmertric_difference'"
     ]
    }
   ],
   "source": [
    "#합집합\n",
    "A = {_ for _ in range(1,5)}\n",
    "B = {_ for _ in range(2,6) if _ != 3}\n",
    "print(\"A:\",A,\"\\nB:\",B)\n",
    "print(\"set.union(A,B):\",set.symmertric_difference(A,B))\n",
    "print(\"A ^ B :\",A^B)"
   ]
  },
  {
   "cell_type": "code",
   "execution_count": 156,
   "id": "7de73250-1dca-4105-84f2-39177bd3eadd",
   "metadata": {},
   "outputs": [
    {
     "name": "stdout",
     "output_type": "stream",
     "text": [
      "A: {1, 2, 3, 4} \n",
      "B: {2, 4, 5}\n",
      "A.update(B) : {1, 2, 3, 4, 5}\n"
     ]
    }
   ],
   "source": [
    "#업데이트\n",
    "A = {_ for _ in range(1,5)}\n",
    "B = {_ for _ in range(2,6) if _ != 3}\n",
    "print(\"A:\",A,\"\\nB:\",B)\n",
    "A.update(B)\n",
    "print(\"A.update(B) :\",A)"
   ]
  },
  {
   "cell_type": "code",
   "execution_count": 157,
   "id": "3ed70d78-3768-48c2-99bd-7cc877cba46f",
   "metadata": {},
   "outputs": [
    {
     "name": "stdout",
     "output_type": "stream",
     "text": [
      "A: {1, 2, 3, 4} \n",
      "B: {2, 4, 5}\n",
      "A.update(B) : {2, 4}\n"
     ]
    }
   ],
   "source": [
    "#업데이트\n",
    "A = {_ for _ in range(1,5)}\n",
    "B = {_ for _ in range(2,6) if _ != 3}\n",
    "print(\"A:\",A,\"\\nB:\",B)\n",
    "A.intersection_update(B)\n",
    "print(\"A.intersection_update(B) :\",A)"
   ]
  },
  {
   "cell_type": "code",
   "execution_count": 160,
   "id": "eb1caef0-d3d9-47b6-81d8-e65cd7cd5307",
   "metadata": {},
   "outputs": [
    {
     "name": "stdout",
     "output_type": "stream",
     "text": [
      "{1, 2, 3, 4}\n"
     ]
    }
   ],
   "source": [
    "list_sample = [1, 2, 2, 3, 3, 3, 4, 4, 4, 4]\n",
    "Set_variable = { i for i in list_sample}\n",
    "print(Set_variable)"
   ]
  },
  {
   "cell_type": "code",
   "execution_count": 3,
   "id": "cf25ea9f-304f-4874-bbd5-daa48dcd5ac2",
   "metadata": {},
   "outputs": [
    {
     "name": "stdout",
     "output_type": "stream",
     "text": [
      "{1, 2, 3, 4}\n"
     ]
    }
   ],
   "source": [
    "list_sample = [1, 2, 2, 3, 3, 3, 4, 4, 4, 4]\n",
    "print(set(list_sample))"
   ]
  },
  {
   "cell_type": "code",
   "execution_count": 6,
   "id": "93b38543-a810-4546-bd2c-6ca08b84ef2a",
   "metadata": {},
   "outputs": [
    {
     "name": "stdout",
     "output_type": "stream",
     "text": [
      "{75, 45, 15, 90, 60, 30}\n"
     ]
    }
   ],
   "source": [
    "set_3 = {i for i in range(1,101) if i%3==0 }\n",
    "set_5 = {j for j in range(1,101) if j%5==0 }\n",
    "result_set = set_3.intersection(set_5)\n",
    "print(result_set)"
   ]
  },
  {
   "cell_type": "code",
   "execution_count": 23,
   "id": "1b49dd21-cea0-44cf-851a-5bea748058d0",
   "metadata": {},
   "outputs": [
    {
     "name": "stdout",
     "output_type": "stream",
     "text": [
      "개인정보 조회,구매 관리,근태 관리,시스템 관리,인사 관리,회계 관리"
     ]
    }
   ],
   "source": [
    "role_admin = (\"회계 관리\", \"인사 관리\", \"구매 관리\", \"시스템 관리\")\n",
    "role_hr = (\"인사 관리\", \"개인정보 조회\", \"회계 관리\", \"근태 관리\")\n",
    "role_user = (\"개인정보 조회\", \"근태 관리\")\n",
    "admin_set = set(role_admin + role_hr + role_user)\n",
    "admin_list = list(admin_set)\n",
    "admin_list.sort()\n",
    "for i in range(len(admin_list)):\n",
    "    if i == (len(admin_list) - 1):\n",
    "        print(admin_list[i],end=\"\")\n",
    "    else :    \n",
    "        print(admin_list[i],end=\",\")"
   ]
  },
  {
   "cell_type": "code",
   "execution_count": 24,
   "id": "1317d569-fde3-41e5-8ef7-f8605ef6e5ac",
   "metadata": {},
   "outputs": [
    {
     "name": "stdout",
     "output_type": "stream",
     "text": [
      "개인정보 조회, 구매 관리, 근태 관리, 시스템 관리, 인사 관리, 회계 관리"
     ]
    }
   ],
   "source": [
    "role_admin = (\"회계 관리\", \"인사 관리\", \"구매 관리\", \"시스템 관리\")\n",
    "role_hr = (\"인사 관리\", \"개인정보 조회\", \"회계 관리\", \"근태 관리\")\n",
    "role_user = (\"개인정보 조회\", \"근태 관리\")\n",
    "menus = list(set(role_admin + role_hr + role_user))\n",
    "menus.sort() # 그대로 값을 menus에 넣어준다.\n",
    "end_char = \", \"\n",
    "for menu in menus :\n",
    "    if menus[-1] == menu:\n",
    "        end_char = \" \"\n",
    "    print(menu, end = end_char)"
   ]
  },
  {
   "cell_type": "code",
   "execution_count": null,
   "id": "5042093c-89a8-49c5-bcb6-b9681672182a",
   "metadata": {},
   "outputs": [],
   "source": []
  }
 ],
 "metadata": {
  "kernelspec": {
   "display_name": "Python 3 (ipykernel)",
   "language": "python",
   "name": "python3"
  },
  "language_info": {
   "codemirror_mode": {
    "name": "ipython",
    "version": 3
   },
   "file_extension": ".py",
   "mimetype": "text/x-python",
   "name": "python",
   "nbconvert_exporter": "python",
   "pygments_lexer": "ipython3",
   "version": "3.9.13"
  }
 },
 "nbformat": 4,
 "nbformat_minor": 5
}
